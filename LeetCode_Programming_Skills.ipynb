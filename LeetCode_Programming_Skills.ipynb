{
  "nbformat": 4,
  "nbformat_minor": 0,
  "metadata": {
    "colab": {
      "name": "LeetCode_Programming_Skills.ipynb",
      "provenance": [],
      "authorship_tag": "ABX9TyN72yDnWSGSaJD1VbwL1d9p",
      "include_colab_link": true
    },
    "kernelspec": {
      "name": "python3",
      "display_name": "Python 3"
    },
    "language_info": {
      "name": "python"
    }
  },
  "cells": [
    {
      "cell_type": "markdown",
      "metadata": {
        "id": "view-in-github",
        "colab_type": "text"
      },
      "source": [
        "<a href=\"https://colab.research.google.com/github/abm4github/My_Leetcode_works/blob/main/LeetCode_Programming_Skills.ipynb\" target=\"_parent\"><img src=\"https://colab.research.google.com/assets/colab-badge.svg\" alt=\"Open In Colab\"/></a>"
      ]
    },
    {
      "cell_type": "markdown",
      "source": [
        "#LEVEL 1"
      ],
      "metadata": {
        "id": "6R-QNAdeXk8O"
      }
    },
    {
      "cell_type": "markdown",
      "source": [
        "##Day 1:"
      ],
      "metadata": {
        "id": "fGZZrMX2NtUU"
      }
    },
    {
      "cell_type": "markdown",
      "source": [
        "####1523. Count Odd Numbers in an Interval Range"
      ],
      "metadata": {
        "id": "MhBKdKFBNtGz"
      }
    },
    {
      "cell_type": "code",
      "source": [
        "\"\"\"\n",
        "1523. Count Odd Numbers in an Interval Range\n",
        "Easy\n",
        "\n",
        "985\n",
        "\n",
        "73\n",
        "\n",
        "Add to List\n",
        "\n",
        "Share\n",
        "Given two non-negative integers low and high. Return the count of odd numbers between low and high (inclusive).\n",
        "\n",
        " \n",
        "\n",
        "Example 1:\n",
        "\n",
        "Input: low = 3, high = 7\n",
        "Output: 3\n",
        "Explanation: The odd numbers between 3 and 7 are [3,5,7].\n",
        "Example 2:\n",
        "\n",
        "Input: low = 8, high = 10\n",
        "Output: 1\n",
        "Explanation: The odd numbers between 8 and 10 are [9].\n",
        " \n",
        "\n",
        "Constraints:\n",
        "\n",
        "0 <= low <= high <= 10^9\n",
        "\"\"\""
      ],
      "metadata": {
        "id": "GbdNZxfHNsTS"
      },
      "execution_count": null,
      "outputs": []
    },
    {
      "cell_type": "code",
      "execution_count": 42,
      "metadata": {
        "colab": {
          "base_uri": "https://localhost:8080/"
        },
        "id": "EBmYKbqVNMZM",
        "outputId": "10eeefd9-ea23-473f-89fc-f86d3ac1c3d5"
      },
      "outputs": [
        {
          "output_type": "execute_result",
          "data": {
            "text/plain": [
              "9"
            ]
          },
          "metadata": {},
          "execution_count": 42
        }
      ],
      "source": [
        "# Memory Limit Exceeded\n",
        "\n",
        "def countOdds(low, high):\n",
        "    count = 0\n",
        "    for i in range(low, high+1, 1):\n",
        "        if i % 2 == 1:\n",
        "            count += 1  \n",
        "    return count\n",
        "\n",
        "\n",
        "countOdds(2, 20)"
      ]
    },
    {
      "cell_type": "code",
      "source": [
        "# improved version\n",
        "\n",
        "\"\"\"\n",
        "Runtime: 15 ms, faster than 94.23% of Python online submissions for Count Odd Numbers in an Interval Range.\n",
        "Memory Usage: 13.5 MB, less than 32.78% of Python online submissions for Count Odd Numbers in an Interval Range.\n",
        "\"\"\"\n",
        "\n",
        "def countOdds(low, high):\n",
        "    if low % 2 == 0 and high % 2 == 0:\n",
        "        return ((high-low)//2)\n",
        "    else:\n",
        "        return ((high-low)//2) + 1\n",
        "\n",
        "\n",
        "countOdds(2, 20)"
      ],
      "metadata": {
        "colab": {
          "base_uri": "https://localhost:8080/"
        },
        "id": "BngrvwDzNqkU",
        "outputId": "0132789e-b788-413b-8968-57e3fc130c51"
      },
      "execution_count": 47,
      "outputs": [
        {
          "output_type": "execute_result",
          "data": {
            "text/plain": [
              "9"
            ]
          },
          "metadata": {},
          "execution_count": 47
        }
      ]
    },
    {
      "cell_type": "markdown",
      "source": [
        "####1491. Average Salary Excluding the Minimum and Maximum Salary"
      ],
      "metadata": {
        "id": "hLL-6VMPXZRV"
      }
    },
    {
      "cell_type": "code",
      "source": [
        "\"\"\"\n",
        "1491. Average Salary Excluding the Minimum and Maximum Salary\n",
        "Easy\n",
        "\n",
        "867\n",
        "\n",
        "103\n",
        "\n",
        "Add to List\n",
        "\n",
        "Share\n",
        "You are given an array of unique integers salary where salary[i] is the salary of the ith employee.\n",
        "\n",
        "Return the average salary of employees excluding the minimum and maximum salary. Answers within 10-5 of the actual answer will be accepted.\n",
        "\n",
        " \n",
        "\n",
        "Example 1:\n",
        "\n",
        "Input: salary = [4000,3000,1000,2000]\n",
        "Output: 2500.00000\n",
        "Explanation: Minimum salary and maximum salary are 1000 and 4000 respectively.\n",
        "Average salary excluding minimum and maximum salary is (2000+3000) / 2 = 2500\n",
        "Example 2:\n",
        "\n",
        "Input: salary = [1000,2000,3000]\n",
        "Output: 2000.00000\n",
        "Explanation: Minimum salary and maximum salary are 1000 and 3000 respectively.\n",
        "Average salary excluding minimum and maximum salary is (2000) / 1 = 2000\n",
        " \n",
        "\n",
        "Constraints:\n",
        "\n",
        "3 <= salary.length <= 100\n",
        "1000 <= salary[i] <= 106\n",
        "All the integers of salary are unique.\n",
        "\"\"\""
      ],
      "metadata": {
        "id": "hgSx0aw9VvLB"
      },
      "execution_count": null,
      "outputs": []
    },
    {
      "cell_type": "code",
      "source": [
        "# Here we can understand the necessity of using brackets properly,\n",
        "# float(total - min - max) / len(salary)-2 gives WRONG answer,\n",
        "# float(total - min - max) / (len(salary)-2) gives RIGHT answer.\n",
        "\n",
        "\"\"\"\n",
        "Runtime: 34 ms, faster than 25.90% of Python online submissions for Average Salary Excluding the Minimum and Maximum Salary.\n",
        "Memory Usage: 13.5 MB, less than 20.19% of Python online submissions for Average Salary Excluding the Minimum and Maximum Salary.\n",
        "\"\"\"\n",
        "\n",
        "def average(salary):\n",
        "    total = 0\n",
        "    min = salary[0]\n",
        "    max = salary[0]\n",
        "\n",
        "    for sal in salary:\n",
        "        total += sal\n",
        "        if sal > max:\n",
        "            max = sal\n",
        "        elif sal < min:\n",
        "            min = sal\n",
        "\n",
        "    return float(total - min - max) / (len(salary)-2)\n",
        "\n",
        "\n",
        "average([48000,59000,99000,13000,78000,45000,31000,17000,39000,37000,93000,77000,33000,28000,4000,54000,67000,6000,1000,11000])"
      ],
      "metadata": {
        "colab": {
          "base_uri": "https://localhost:8080/"
        },
        "id": "yECrQA3rVvGz",
        "outputId": "3677b3e2-e2e1-488d-cb0f-f89b88fbb35b"
      },
      "execution_count": 46,
      "outputs": [
        {
          "output_type": "execute_result",
          "data": {
            "text/plain": [
              "41111.11111111111"
            ]
          },
          "metadata": {},
          "execution_count": 46
        }
      ]
    }
  ]
}