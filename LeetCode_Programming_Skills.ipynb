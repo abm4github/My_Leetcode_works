{
  "nbformat": 4,
  "nbformat_minor": 0,
  "metadata": {
    "colab": {
      "provenance": [],
      "collapsed_sections": [],
      "authorship_tag": "ABX9TyP9OZ8NpL8hH/EiJjHhGEzO",
      "include_colab_link": true
    },
    "kernelspec": {
      "name": "python3",
      "display_name": "Python 3"
    },
    "language_info": {
      "name": "python"
    }
  },
  "cells": [
    {
      "cell_type": "markdown",
      "metadata": {
        "id": "view-in-github",
        "colab_type": "text"
      },
      "source": [
        "<a href=\"https://colab.research.google.com/github/abm4github/My_Leetcode_works/blob/main/LeetCode_Programming_Skills.ipynb\" target=\"_parent\"><img src=\"https://colab.research.google.com/assets/colab-badge.svg\" alt=\"Open In Colab\"/></a>"
      ]
    },
    {
      "cell_type": "markdown",
      "source": [
        "#LEVEL 1"
      ],
      "metadata": {
        "id": "6R-QNAdeXk8O"
      }
    },
    {
      "cell_type": "markdown",
      "source": [
        "##Day 1: Basic Data Type"
      ],
      "metadata": {
        "id": "fGZZrMX2NtUU"
      }
    },
    {
      "cell_type": "markdown",
      "source": [
        "####1523. Count Odd Numbers in an Interval Range"
      ],
      "metadata": {
        "id": "MhBKdKFBNtGz"
      }
    },
    {
      "cell_type": "code",
      "source": [
        "\"\"\"\n",
        "1523. Count Odd Numbers in an Interval Range\n",
        "Easy\n",
        "\n",
        "985\n",
        "\n",
        "73\n",
        "\n",
        "Add to List\n",
        "\n",
        "Share\n",
        "Given two non-negative integers low and high. Return the count of odd numbers between low and high (inclusive).\n",
        "\n",
        " \n",
        "\n",
        "Example 1:\n",
        "\n",
        "Input: low = 3, high = 7\n",
        "Output: 3\n",
        "Explanation: The odd numbers between 3 and 7 are [3,5,7].\n",
        "Example 2:\n",
        "\n",
        "Input: low = 8, high = 10\n",
        "Output: 1\n",
        "Explanation: The odd numbers between 8 and 10 are [9].\n",
        " \n",
        "\n",
        "Constraints:\n",
        "\n",
        "0 <= low <= high <= 10^9\n",
        "\"\"\""
      ],
      "metadata": {
        "id": "GbdNZxfHNsTS"
      },
      "execution_count": null,
      "outputs": []
    },
    {
      "cell_type": "code",
      "execution_count": null,
      "metadata": {
        "colab": {
          "base_uri": "https://localhost:8080/"
        },
        "id": "EBmYKbqVNMZM",
        "outputId": "10eeefd9-ea23-473f-89fc-f86d3ac1c3d5"
      },
      "outputs": [
        {
          "output_type": "execute_result",
          "data": {
            "text/plain": [
              "9"
            ]
          },
          "metadata": {},
          "execution_count": 42
        }
      ],
      "source": [
        "# Memory Limit Exceeded\n",
        "\n",
        "def countOdds(low, high):\n",
        "    count = 0\n",
        "    for i in range(low, high+1, 1):\n",
        "        if i % 2 == 1:\n",
        "            count += 1  \n",
        "    return count\n",
        "\n",
        "\n",
        "countOdds(2, 20)"
      ]
    },
    {
      "cell_type": "code",
      "source": [
        "# improved version\n",
        "\n",
        "\"\"\"\n",
        "Runtime: 15 ms, faster than 94.23% of Python online submissions for Count Odd Numbers in an Interval Range.\n",
        "Memory Usage: 13.5 MB, less than 32.78% of Python online submissions for Count Odd Numbers in an Interval Range.\n",
        "\"\"\"\n",
        "\n",
        "def countOdds(low, high):\n",
        "    if low % 2 == 0 and high % 2 == 0:\n",
        "        return ((high-low)//2)\n",
        "    else:\n",
        "        return ((high-low)//2) + 1\n",
        "\n",
        "\n",
        "countOdds(2, 20)"
      ],
      "metadata": {
        "colab": {
          "base_uri": "https://localhost:8080/"
        },
        "id": "BngrvwDzNqkU",
        "outputId": "0132789e-b788-413b-8968-57e3fc130c51"
      },
      "execution_count": null,
      "outputs": [
        {
          "output_type": "execute_result",
          "data": {
            "text/plain": [
              "9"
            ]
          },
          "metadata": {},
          "execution_count": 47
        }
      ]
    },
    {
      "cell_type": "markdown",
      "source": [
        "####1491. Average Salary Excluding the Minimum and Maximum Salary"
      ],
      "metadata": {
        "id": "hLL-6VMPXZRV"
      }
    },
    {
      "cell_type": "code",
      "source": [
        "\"\"\"\n",
        "1491. Average Salary Excluding the Minimum and Maximum Salary\n",
        "Easy\n",
        "\n",
        "867\n",
        "\n",
        "103\n",
        "\n",
        "Add to List\n",
        "\n",
        "Share\n",
        "You are given an array of unique integers salary where salary[i] is the salary of the ith employee.\n",
        "\n",
        "Return the average salary of employees excluding the minimum and maximum salary. Answers within 10-5 of the actual answer will be accepted.\n",
        "\n",
        " \n",
        "\n",
        "Example 1:\n",
        "\n",
        "Input: salary = [4000,3000,1000,2000]\n",
        "Output: 2500.00000\n",
        "Explanation: Minimum salary and maximum salary are 1000 and 4000 respectively.\n",
        "Average salary excluding minimum and maximum salary is (2000+3000) / 2 = 2500\n",
        "Example 2:\n",
        "\n",
        "Input: salary = [1000,2000,3000]\n",
        "Output: 2000.00000\n",
        "Explanation: Minimum salary and maximum salary are 1000 and 3000 respectively.\n",
        "Average salary excluding minimum and maximum salary is (2000) / 1 = 2000\n",
        " \n",
        "\n",
        "Constraints:\n",
        "\n",
        "3 <= salary.length <= 100\n",
        "1000 <= salary[i] <= 106\n",
        "All the integers of salary are unique.\n",
        "\"\"\""
      ],
      "metadata": {
        "id": "hgSx0aw9VvLB"
      },
      "execution_count": null,
      "outputs": []
    },
    {
      "cell_type": "code",
      "source": [
        "# Here we can understand the necessity of using brackets properly,\n",
        "# float(total - min - max) / len(salary)-2 gives WRONG answer,\n",
        "# float(total - min - max) / (len(salary)-2) gives RIGHT answer.\n",
        "\n",
        "\"\"\"\n",
        "Runtime: 34 ms, faster than 25.90% of Python online submissions for Average Salary Excluding the Minimum and Maximum Salary.\n",
        "Memory Usage: 13.5 MB, less than 20.19% of Python online submissions for Average Salary Excluding the Minimum and Maximum Salary.\n",
        "\"\"\"\n",
        "\n",
        "def average(salary):\n",
        "    total = 0\n",
        "    min = salary[0]\n",
        "    max = salary[0]\n",
        "\n",
        "    for sal in salary:\n",
        "        total += sal\n",
        "        if sal > max:\n",
        "            max = sal\n",
        "        elif sal < min:\n",
        "            min = sal\n",
        "\n",
        "    return float(total - min - max) / (len(salary)-2)\n",
        "\n",
        "\n",
        "average([48000,59000,99000,13000,78000,45000,31000,17000,39000,37000,93000,77000,33000,28000,4000,54000,67000,6000,1000,11000])"
      ],
      "metadata": {
        "colab": {
          "base_uri": "https://localhost:8080/"
        },
        "id": "yECrQA3rVvGz",
        "outputId": "3677b3e2-e2e1-488d-cb0f-f89b88fbb35b"
      },
      "execution_count": null,
      "outputs": [
        {
          "output_type": "execute_result",
          "data": {
            "text/plain": [
              "41111.11111111111"
            ]
          },
          "metadata": {},
          "execution_count": 46
        }
      ]
    },
    {
      "cell_type": "markdown",
      "source": [
        "##Day 2: Operator"
      ],
      "metadata": {
        "id": "JbWaiFpafJE9"
      }
    },
    {
      "cell_type": "markdown",
      "source": [
        "####191. Number of 1 Bits"
      ],
      "metadata": {
        "id": "YikITOsEnyVd"
      }
    },
    {
      "cell_type": "code",
      "source": [
        "\"\"\"\n",
        "191. Number of 1 Bits\n",
        "Easy\n",
        "\n",
        "4122\n",
        "\n",
        "912\n",
        "\n",
        "Add to List\n",
        "\n",
        "Share\n",
        "Write a function that takes an unsigned integer and returns the number of '1' bits it has (also known as the Hamming weight).\n",
        "\n",
        "Note:\n",
        "\n",
        "Note that in some languages, such as Java, there is no unsigned integer type. In this case, the input will be given as a signed integer type. It should not affect your implementation, as the integer's internal binary representation is the same, whether it is signed or unsigned.\n",
        "In Java, the compiler represents the signed integers using 2's complement notation. Therefore, in Example 3, the input represents the signed integer. -3.\n",
        " \n",
        "\n",
        "Example 1:\n",
        "\n",
        "Input: n = 00000000000000000000000000001011\n",
        "Output: 3\n",
        "Explanation: The input binary string 00000000000000000000000000001011 has a total of three '1' bits.\n",
        "Example 2:\n",
        "\n",
        "Input: n = 00000000000000000000000010000000\n",
        "Output: 1\n",
        "Explanation: The input binary string 00000000000000000000000010000000 has a total of one '1' bit.\n",
        "Example 3:\n",
        "\n",
        "Input: n = 11111111111111111111111111111101\n",
        "Output: 31\n",
        "Explanation: The input binary string 11111111111111111111111111111101 has a total of thirty one '1' bits.\n",
        " \n",
        "\n",
        "Constraints:\n",
        "\n",
        "The input must be a binary string of length 32.\n",
        " \n",
        "\n",
        "Follow up: If this function is called many times, how would you optimize it?\n",
        "\"\"\""
      ],
      "metadata": {
        "id": "NZjGEmGqr65m"
      },
      "execution_count": null,
      "outputs": []
    },
    {
      "cell_type": "code",
      "source": [
        "# needs revision\n",
        "# this is not executing on google colab\n",
        "# right answerto this is 31 wheras its showing 60\n",
        "# video explanation: https://www.youtube.com/watch?v=5Km3utixwZs\n",
        "# this code can be improved\n",
        "\n",
        "\"\"\"\n",
        "Runtime: 30 ms, faster than 46.60% of Python online submissions for Number of 1 Bits.\n",
        "Memory Usage: 13.2 MB, less than 86.37% of Python online submissions for Number of 1 Bits.\n",
        "\"\"\"\n",
        "\n",
        "def hammingWeight(n):\n",
        "    output = 0\n",
        "    while n:\n",
        "        output += n % 2\n",
        "        n = n >> 1\n",
        "    return output\n",
        "\n",
        "\n",
        "hammingWeight(11111111111111111111111111111101)"
      ],
      "metadata": {
        "id": "GxNMvlKGnzSW"
      },
      "execution_count": null,
      "outputs": []
    },
    {
      "cell_type": "markdown",
      "source": [
        "####1281. Subtract the Product and Sum of Digits of an Integer"
      ],
      "metadata": {
        "id": "C-gdG3b3fIyD"
      }
    },
    {
      "cell_type": "code",
      "source": [
        "\"\"\"\n",
        "1281. Subtract the Product and Sum of Digits of an Integer\n",
        "Easy\n",
        "\n",
        "1497\n",
        "\n",
        "196\n",
        "\n",
        "Add to List\n",
        "\n",
        "Share\n",
        "Given an integer number n, return the difference between the product of its digits and the sum of its digits.\n",
        " \n",
        "\n",
        "Example 1:\n",
        "\n",
        "Input: n = 234\n",
        "Output: 15 \n",
        "Explanation: \n",
        "Product of digits = 2 * 3 * 4 = 24 \n",
        "Sum of digits = 2 + 3 + 4 = 9 \n",
        "Result = 24 - 9 = 15\n",
        "Example 2:\n",
        "\n",
        "Input: n = 4421\n",
        "Output: 21\n",
        "Explanation: \n",
        "Product of digits = 4 * 4 * 2 * 1 = 32 \n",
        "Sum of digits = 4 + 4 + 2 + 1 = 11 \n",
        "Result = 32 - 11 = 21\n",
        " \n",
        "\n",
        "Constraints:\n",
        "\n",
        "1 <= n <= 10^5\n",
        "\"\"\""
      ],
      "metadata": {
        "id": "kJ5zN4zQn1_n"
      },
      "execution_count": null,
      "outputs": []
    },
    {
      "cell_type": "code",
      "source": [
        "\"\"\"\n",
        "Runtime: 28 ms, faster than 42.81% of Python online submissions for Subtract the Product and Sum of Digits of an Integer.\n",
        "Memory Usage: 13.4 MB, less than 64.96% of Python online submissions for Subtract the Product and Sum of Digits of an Integer.\n",
        "\"\"\"\n",
        "\n",
        "def subtractProductAndSum(n):\n",
        "    prod = 1\n",
        "    summ = 0\n",
        "\n",
        "    for digi in str(n):\n",
        "        prod *= int(digi)\n",
        "        summ += int(digi)\n",
        "    \n",
        "    return prod - summ \n",
        "\n",
        "\n",
        "subtractProductAndSum(234)"
      ],
      "metadata": {
        "colab": {
          "base_uri": "https://localhost:8080/"
        },
        "id": "JZLSRjpgfW_x",
        "outputId": "29b85416-03ce-44cd-bf66-ed31249e1e31"
      },
      "execution_count": null,
      "outputs": [
        {
          "output_type": "execute_result",
          "data": {
            "text/plain": [
              "15"
            ]
          },
          "metadata": {},
          "execution_count": 1
        }
      ]
    },
    {
      "cell_type": "markdown",
      "source": [
        "##Day 3: Conditional Statements"
      ],
      "metadata": {
        "id": "CnOSnobCP9T2"
      }
    },
    {
      "cell_type": "markdown",
      "source": [
        "####976. Largest Perimeter Triangle"
      ],
      "metadata": {
        "id": "IgScwFUkQS_1"
      }
    },
    {
      "cell_type": "code",
      "source": [
        "\"\"\"\n",
        "976. Largest Perimeter Triangle\n",
        "Easy\n",
        "\n",
        "1342\n",
        "\n",
        "194\n",
        "\n",
        "Add to List\n",
        "\n",
        "Share\n",
        "Given an integer array nums, return the largest perimeter of a triangle with a non-zero area, formed from three of these lengths. If it is impossible to form any triangle of a non-zero area, return 0.\n",
        "\n",
        " \n",
        "\n",
        "Example 1:\n",
        "\n",
        "Input: nums = [2,1,2]\n",
        "Output: 5\n",
        "Example 2:\n",
        "\n",
        "Input: nums = [1,2,1]\n",
        "Output: 0\n",
        " \n",
        "\n",
        "Constraints:\n",
        "\n",
        "3 <= nums.length <= 104\n",
        "1 <= nums[i] <= 106\n",
        "\"\"\""
      ],
      "metadata": {
        "id": "Olj5c6xrP_rX"
      },
      "execution_count": null,
      "outputs": []
    },
    {
      "cell_type": "code",
      "source": [
        "# needs revision\n",
        "# code link: https://github.com/algorhythms/LeetCode/blob/master/976%20Largest%20Perimeter%20Triangle.py\n",
        "\n",
        "\"\"\"\n",
        "Runtime: 323 ms, faster than 18.47% of Python online submissions for Largest Perimeter Triangle.\n",
        "Memory Usage: 14.8 MB, less than 28.17% of Python online submissions for Largest Perimeter Triangle.\n",
        "\"\"\"\n",
        "\n",
        "def largestPerimeter(nums):\n",
        "    nums.sort()\n",
        "    for i in range(len(nums) - 3, -1, -1):\n",
        "        if nums[i] + nums[i+1] > nums[i+2]:\n",
        "            return sum(nums[i:i+3])\n",
        "    else:\n",
        "        return 0\n",
        "\n",
        "\n",
        "largestPerimeter([2,1,2])"
      ],
      "metadata": {
        "colab": {
          "base_uri": "https://localhost:8080/"
        },
        "id": "9XnW78_MQBYZ",
        "outputId": "c0bd40c1-688b-4b2f-a3f8-d52dd3b4a3b2"
      },
      "execution_count": 4,
      "outputs": [
        {
          "output_type": "execute_result",
          "data": {
            "text/plain": [
              "5"
            ]
          },
          "metadata": {},
          "execution_count": 4
        }
      ]
    },
    {
      "cell_type": "markdown",
      "source": [
        "####1779. Find Nearest Point That Has the Same X or Y Coordinate"
      ],
      "metadata": {
        "id": "Fb7TUKQRQknS"
      }
    },
    {
      "cell_type": "code",
      "source": [
        "\"\"\"\n",
        "1779. Find Nearest Point That Has the Same X or Y Coordinate\n",
        "Easy\n",
        "\n",
        "537\n",
        "\n",
        "103\n",
        "\n",
        "Add to List\n",
        "\n",
        "Share\n",
        "You are given two integers, x and y, which represent your current location on a Cartesian grid: (x, y). You are also given an array points where each points[i] = [ai, bi] represents that a point exists at (ai, bi). A point is valid if it shares the same x-coordinate or the same y-coordinate as your location.\n",
        "\n",
        "Return the index (0-indexed) of the valid point with the smallest Manhattan distance from your current location. If there are multiple, return the valid point with the smallest index. If there are no valid points, return -1.\n",
        "\n",
        "The Manhattan distance between two points (x1, y1) and (x2, y2) is abs(x1 - x2) + abs(y1 - y2).\n",
        "\n",
        " \n",
        "\n",
        "Example 1:\n",
        "\n",
        "Input: x = 3, y = 4, points = [[1,2],[3,1],[2,4],[2,3],[4,4]]\n",
        "Output: 2\n",
        "Explanation: Of all the points, only [3,1], [2,4] and [4,4] are valid. Of the valid points, [2,4] and [4,4] have the smallest Manhattan distance from your current location, with a distance of 1. [2,4] has the smallest index, so return 2.\n",
        "Example 2:\n",
        "\n",
        "Input: x = 3, y = 4, points = [[3,4]]\n",
        "Output: 0\n",
        "Explanation: The answer is allowed to be on the same location as your current location.\n",
        "Example 3:\n",
        "\n",
        "Input: x = 3, y = 4, points = [[2,3]]\n",
        "Output: -1\n",
        "Explanation: There are no valid points.\n",
        " \n",
        "\n",
        "Constraints:\n",
        "\n",
        "1 <= points.length <= 104\n",
        "points[i].length == 2\n",
        "1 <= x, y, ai, bi <= 104\n",
        "\"\"\""
      ],
      "metadata": {
        "id": "-7Vemf3BQPEc"
      },
      "execution_count": null,
      "outputs": []
    },
    {
      "cell_type": "code",
      "source": [
        "# needs revision\n",
        "# code link: https://github.com/qianzhangut/LeetCodePractice/blob/master/problems/1779.Find%20Nearest%20Point%20That%20Has%20the%20Same%20X%20or%20Y%20Coordinate.py\n",
        "# python3\n",
        "\n",
        "\"\"\"\n",
        "Runtime: 1369 ms, faster than 18.27% of Python3 online submissions for Find Nearest Point That Has the Same X or Y Coordinate.\n",
        "Memory Usage: 19.6 MB, less than 5.71% of Python3 online submissions for Find Nearest Point That Has the Same X or Y Coordinate.\n",
        "\"\"\"\n",
        "\n",
        "class Solution:\n",
        "    def nearestValidPoint(self, x: int, y: int, points: List[List[int]]) -> int:\n",
        "        res, index = math.inf, -1\n",
        "        for i, (l, r) in enumerate(points):\n",
        "            if (x-l)*(y-r) == 0 and (abs(x-l) + abs(y-r)<res):\n",
        "                res = abs(x-l) + abs(y-r)\n",
        "                index = i\n",
        "        return index  "
      ],
      "metadata": {
        "id": "5e3pTNhaR8XP"
      },
      "execution_count": null,
      "outputs": []
    }
  ]
}