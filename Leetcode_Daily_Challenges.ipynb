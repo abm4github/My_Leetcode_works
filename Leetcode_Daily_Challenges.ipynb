{
  "nbformat": 4,
  "nbformat_minor": 0,
  "metadata": {
    "colab": {
      "provenance": [],
      "collapsed_sections": [],
      "authorship_tag": "ABX9TyMgn0PmRJSxamM5N7t0sIsS",
      "include_colab_link": true
    },
    "kernelspec": {
      "name": "python3",
      "display_name": "Python 3"
    },
    "language_info": {
      "name": "python"
    }
  },
  "cells": [
    {
      "cell_type": "markdown",
      "metadata": {
        "id": "view-in-github",
        "colab_type": "text"
      },
      "source": [
        "<a href=\"https://colab.research.google.com/github/abm4github/My_Leetcode_works/blob/main/Leetcode_Daily_Challenges.ipynb\" target=\"_parent\"><img src=\"https://colab.research.google.com/assets/colab-badge.svg\" alt=\"Open In Colab\"/></a>"
      ]
    },
    {
      "cell_type": "markdown",
      "source": [
        "##23-08-2022"
      ],
      "metadata": {
        "id": "zDpvu8UDYUpk"
      }
    },
    {
      "cell_type": "markdown",
      "source": [
        "####234. Palindrome Linked List"
      ],
      "metadata": {
        "id": "PybMBZKuYCHc"
      }
    },
    {
      "cell_type": "code",
      "source": [
        "\"\"\"\n",
        "234. Palindrome Linked List\n",
        "Easy\n",
        "\n",
        "11116\n",
        "\n",
        "634\n",
        "\n",
        "Add to List\n",
        "\n",
        "Share\n",
        "Given the head of a singly linked list, return true if it is a palindrome.\n",
        "\n",
        " \n",
        "\n",
        "Example 1:\n",
        "\n",
        "\n",
        "Input: head = [1,2,2,1]\n",
        "Output: true\n",
        "Example 2:\n",
        "\n",
        "\n",
        "Input: head = [1,2]\n",
        "Output: false\n",
        " \n",
        "\n",
        "Constraints:\n",
        "\n",
        "The number of nodes in the list is in the range [1, 105].\n",
        "0 <= Node.val <= 9\n",
        " \n",
        "\n",
        "Follow up: Could you do it in O(n) time and O(1) space?\n",
        "\"\"\""
      ],
      "metadata": {
        "id": "DM9WuC4VYEE-"
      },
      "execution_count": null,
      "outputs": []
    },
    {
      "cell_type": "code",
      "execution_count": null,
      "metadata": {
        "id": "RsNBqJOxXfl9"
      },
      "outputs": [],
      "source": [
        "# needs revision\n",
        "# https://www.youtube.com/watch?v=yOzXms1J6Nk\n",
        "\n",
        "\"\"\"\n",
        "Runtime: 1597 ms, faster than 48.63% of Python online submissions for Palindrome Linked List.\n",
        "Memory Usage: 67.1 MB, less than 82.80% of Python online submissions for Palindrome Linked List.\n",
        "\"\"\"\n",
        "\n",
        "# Definition for singly-linked list.\n",
        "# class ListNode(object):\n",
        "#     def __init__(self, val=0, next=None):\n",
        "#         self.val = val\n",
        "#         self.next = next\n",
        "class Solution(object):\n",
        "    def isPalindrome(self, head):        \n",
        "        fast, slow = head, head\n",
        "        \n",
        "        while fast and fast.next:\n",
        "            fast = fast.next.next\n",
        "            slow = slow.next\n",
        "        \n",
        "        \n",
        "        prev = None\n",
        "        \n",
        "        while slow:\n",
        "            temp = slow.next\n",
        "            slow.next = prev\n",
        "            prev = slow\n",
        "            slow = temp\n",
        "            \n",
        "        left, right = head, prev\n",
        "        while right:\n",
        "            if left.val != right.val:\n",
        "                return False\n",
        "            left = left.next\n",
        "            right = right.next\n",
        "        return True"
      ]
    },
    {
      "cell_type": "markdown",
      "source": [
        "##24-08-2022"
      ],
      "metadata": {
        "id": "ff8xrQujtDuU"
      }
    },
    {
      "cell_type": "markdown",
      "source": [
        "####326. Power of Three"
      ],
      "metadata": {
        "id": "gEKb5YOwtHr8"
      }
    },
    {
      "cell_type": "code",
      "source": [
        "\"\"\"\n",
        "326. Power of Three\n",
        "Easy\n",
        "\n",
        "1843\n",
        "\n",
        "175\n",
        "\n",
        "Add to List\n",
        "\n",
        "Share\n",
        "Given an integer n, return true if it is a power of three. Otherwise, return false.\n",
        "\n",
        "An integer n is a power of three, if there exists an integer x such that n == 3x.\n",
        "\n",
        " \n",
        "\n",
        "Example 1:\n",
        "\n",
        "Input: n = 27\n",
        "Output: true\n",
        "Example 2:\n",
        "\n",
        "Input: n = 0\n",
        "Output: false\n",
        "Example 3:\n",
        "\n",
        "Input: n = 9\n",
        "Output: true\n",
        " \n",
        "\n",
        "Constraints:\n",
        "\n",
        "-231 <= n <= 231 - 1\n",
        "\"\"\""
      ],
      "metadata": {
        "id": "qlQ_IczEtGtP"
      },
      "execution_count": null,
      "outputs": []
    },
    {
      "cell_type": "code",
      "source": [
        "def isPowerOfThree(n):\n",
        "    if n < 9 and n != 1 and n != 3:\n",
        "        return False\n",
        "    if n == 1 or n == 3:\n",
        "        return True\n",
        "    while n > 1:\n",
        "        if n % 3 != 0:\n",
        "            return False\n",
        "        n = n/3\n",
        "    return True\n",
        "\n",
        "isPowerOfThree(18)  "
      ],
      "metadata": {
        "colab": {
          "base_uri": "https://localhost:8080/"
        },
        "id": "HaFbUDGetOOU",
        "outputId": "b31099e8-711d-471d-d49d-10f43523f1b9"
      },
      "execution_count": null,
      "outputs": [
        {
          "output_type": "execute_result",
          "data": {
            "text/plain": [
              "False"
            ]
          },
          "metadata": {},
          "execution_count": 1
        }
      ]
    },
    {
      "cell_type": "markdown",
      "source": [
        "##25-08-2022"
      ],
      "metadata": {
        "id": "1YjBda8V4ZI9"
      }
    },
    {
      "cell_type": "markdown",
      "source": [
        "####383. Ransom Note"
      ],
      "metadata": {
        "id": "o0NYCRma4b4r"
      }
    },
    {
      "cell_type": "code",
      "source": [
        "\"\"\"\n",
        "383. Ransom Note\n",
        "Easy\n",
        "\n",
        "2813\n",
        "\n",
        "355\n",
        "\n",
        "Add to List\n",
        "\n",
        "Share\n",
        "Given two strings ransomNote and magazine, return true if ransomNote can be constructed by using the letters from magazine and false otherwise.\n",
        "\n",
        "Each letter in magazine can only be used once in ransomNote.\n",
        "\n",
        " \n",
        "\n",
        "Example 1:\n",
        "\n",
        "Input: ransomNote = \"a\", magazine = \"b\"\n",
        "Output: false\n",
        "Example 2:\n",
        "\n",
        "Input: ransomNote = \"aa\", magazine = \"ab\"\n",
        "Output: false\n",
        "Example 3:\n",
        "\n",
        "Input: ransomNote = \"aa\", magazine = \"aab\"\n",
        "Output: true\n",
        " \n",
        "\n",
        "Constraints:\n",
        "\n",
        "1 <= ransomNote.length, magazine.length <= 105\n",
        "ransomNote and magazine consist of lowercase English letters.\n",
        "\"\"\""
      ],
      "metadata": {
        "id": "JYc0NPhC4a3k"
      },
      "execution_count": null,
      "outputs": []
    },
    {
      "cell_type": "code",
      "source": [
        "\"\"\"\n",
        "Runtime: 37 ms, faster than 95.60% of Python online submissions for Ransom Note.\n",
        "Memory Usage: 13.7 MB, less than 35.43% of Python online submissions for Ransom Note.\n",
        "\"\"\"\n",
        "\n",
        "def canConstruct(ransomNote, magazine):\n",
        "    d = {}\n",
        "    for char in ransomNote:\n",
        "        if char in d.keys():\n",
        "            d[char] += 1\n",
        "        else:\n",
        "            d[char] = 1\n",
        "    for key in d.keys():\n",
        "        if key not in magazine:\n",
        "            return False\n",
        "        else:\n",
        "            if magazine.count(key) < d[key]:\n",
        "                return False\n",
        "    return True\n",
        "    \n",
        "ransomNote = \"aa\"\n",
        "magazine = \"aab\"\n",
        "canConstruct(ransomNote, magazine)"
      ],
      "metadata": {
        "colab": {
          "base_uri": "https://localhost:8080/"
        },
        "id": "OYqhUKGr4est",
        "outputId": "4ada7603-bf5e-4cbe-8959-cdd6dcf0c528"
      },
      "execution_count": null,
      "outputs": [
        {
          "output_type": "execute_result",
          "data": {
            "text/plain": [
              "True"
            ]
          },
          "metadata": {},
          "execution_count": 1
        }
      ]
    },
    {
      "cell_type": "markdown",
      "source": [
        "##26-08-2022"
      ],
      "metadata": {
        "id": "mN5CO9uydhKj"
      }
    },
    {
      "cell_type": "markdown",
      "source": [
        "####869. Reordered Power of 2"
      ],
      "metadata": {
        "id": "9kozYEfBdnW0"
      }
    },
    {
      "cell_type": "code",
      "source": [
        "\"\"\"\n",
        "869. Reordered Power of 2\n",
        "Medium\n",
        "\n",
        "1048\n",
        "\n",
        "268\n",
        "\n",
        "Add to List\n",
        "\n",
        "Share\n",
        "You are given an integer n. We reorder the digits in any order (including the original order) such that the leading digit is not zero.\n",
        "\n",
        "Return true if and only if we can do this so that the resulting number is a power of two.\n",
        "\n",
        " \n",
        "\n",
        "Example 1:\n",
        "\n",
        "Input: n = 1\n",
        "Output: true\n",
        "Example 2:\n",
        "\n",
        "Input: n = 10\n",
        "Output: false\n",
        " \n",
        "\n",
        "Constraints:\n",
        "\n",
        "1 <= n <= 109\n",
        "\"\"\""
      ],
      "metadata": {
        "id": "bJSlJHQkdmwH"
      },
      "execution_count": null,
      "outputs": []
    },
    {
      "cell_type": "code",
      "source": [
        "# this question can be presented in much simpler way, question seems tricky\n",
        "\n",
        "\"\"\"\n",
        "Runtime: 26 ms, faster than 89.47% of Python online submissions for Reordered Power of 2.\n",
        "Memory Usage: 13.4 MB, less than 68.42% of Python online submissions for Reordered Power of 2.\n",
        "\"\"\"\n",
        "\n",
        "def reorderedPowerOf2(n):\n",
        "    if n == 1:\n",
        "        return True\n",
        "    \n",
        "    def makeDict(n):\n",
        "        str_n = str(n)\n",
        "        d = {}\n",
        "        for i in str_n:\n",
        "            if i in d.keys():\n",
        "                d[i] += 1\n",
        "            else:\n",
        "                d[i] = 1\n",
        "        return d\n",
        "    \n",
        "    dict_n = makeDict(n)\n",
        "    len_n = len(str(n))\n",
        "    for i in range(30):\n",
        "        nn = 2**i\n",
        "        if len(str(nn)) == len_n:\n",
        "            if makeDict(nn) == dict_n:\n",
        "                return True\n",
        "    return False\n",
        "\n",
        "reorderedPowerOf2(8888360)"
      ],
      "metadata": {
        "colab": {
          "base_uri": "https://localhost:8080/"
        },
        "id": "bw1Ovl8Wdh7H",
        "outputId": "751f5763-cb12-4abc-9d25-c10735bd385f"
      },
      "execution_count": null,
      "outputs": [
        {
          "output_type": "execute_result",
          "data": {
            "text/plain": [
              "True"
            ]
          },
          "metadata": {},
          "execution_count": 14
        }
      ]
    },
    {
      "cell_type": "code",
      "source": [
        "#silly alternate solution :)\n",
        "\n",
        "\"\"\"\n",
        "Runtime: 21 ms, faster than 94.74% of Python online submissions for Reordered Power of 2.\n",
        "Memory Usage: 13.3 MB, less than 68.42% of Python online submissions for Reordered Power of 2.\n",
        "\"\"\"\n",
        "\n",
        "def reorderedPowerOf2(n):\n",
        "    if n == 1:\n",
        "        return True\n",
        "    \n",
        "    def makeDict(n):\n",
        "        str_n = str(n)\n",
        "        d = {}\n",
        "        for i in str_n:\n",
        "            if i in d.keys():\n",
        "                d[i] += 1\n",
        "            else:\n",
        "                d[i] = 1\n",
        "        return d\n",
        "    \n",
        "    dict_n = makeDict(n)\n",
        "    len_n = len(str(n))\n",
        "    for i in range(30):\n",
        "        nn = 2**i\n",
        "        if len(str(nn)) == len_n:\n",
        "            if makeDict(nn) == dict_n:\n",
        "                del dict_n\n",
        "                del len_n\n",
        "                del nn\n",
        "                return True\n",
        "    return False"
      ],
      "metadata": {
        "id": "uqhVSzD7hKaj"
      },
      "execution_count": null,
      "outputs": []
    },
    {
      "cell_type": "markdown",
      "source": [
        "##27-08-2022"
      ],
      "metadata": {
        "id": "kAs8z8aANS82"
      }
    },
    {
      "cell_type": "markdown",
      "source": [
        "####363. Max Sum of Rectangle No Larger Than K"
      ],
      "metadata": {
        "id": "tNOGhOdoNSon"
      }
    },
    {
      "cell_type": "code",
      "source": [
        "\"\"\"\n",
        "363. Max Sum of Rectangle No Larger Than K\n",
        "Hard\n",
        "\n",
        "2748\n",
        "\n",
        "138\n",
        "\n",
        "Add to List\n",
        "\n",
        "Share\n",
        "Given an m x n matrix matrix and an integer k, return the max sum of a rectangle in the matrix such that its sum is no larger than k.\n",
        "\n",
        "It is guaranteed that there will be a rectangle with a sum no larger than k.\n",
        "\n",
        " \n",
        "\n",
        "Example 1:\n",
        "\n",
        "\n",
        "Input: matrix = [[1,0,1],[0,-2,3]], k = 2\n",
        "Output: 2\n",
        "Explanation: Because the sum of the blue rectangle [[0, 1], [-2, 3]] is 2, and 2 is the max number no larger than k (k = 2).\n",
        "Example 2:\n",
        "\n",
        "Input: matrix = [[2,2,-1]], k = 3\n",
        "Output: 3\n",
        " \n",
        "\n",
        "Constraints:\n",
        "\n",
        "m == matrix.length\n",
        "n == matrix[i].length\n",
        "1 <= m, n <= 100\n",
        "-100 <= matrix[i][j] <= 100\n",
        "-105 <= k <= 105\n",
        " \n",
        "\n",
        "Follow up: What if the number of rows is much larger than the number of columns?\n",
        "\"\"\""
      ],
      "metadata": {
        "id": "BMoCBAC4NSJ1"
      },
      "execution_count": null,
      "outputs": []
    },
    {
      "cell_type": "code",
      "source": [
        "# needs revision\n",
        "# video explanation : https://www.youtube.com/watch?v=IDv9yvQN3Uc\n",
        "# code link: https://github.com/Ayu-99/Data-Structures/blob/master/Leetcode%20July%20Challenge/Python/Max%20Sum%20of%20Rectangle%20No%20Larger%20Than%20K.py \n",
        "\n",
        "\"\"\"\n",
        "Runtime: 3209 ms, faster than 74.31% of Python3 online submissions for Max Sum of Rectangle No Larger Than K.\n",
        "Memory Usage: 14.8 MB, less than 74.31% of Python3 online submissions for Max Sum of Rectangle No Larger Than K.\n",
        "\"\"\"\n",
        "\n",
        "import bisect\n",
        "import math\n",
        "\n",
        "def maxSumSubmatrix(matrix, k):\n",
        "    ret = -math.inf\n",
        "    m, n = len(matrix), len(matrix[0])\n",
        "    if m < n:\n",
        "        matrix = list(zip(*matrix))\n",
        "    m, n = max(m, n), min(m, n)\n",
        "    for le in range(n):\n",
        "        pre_sum = [0] * m\n",
        "        for ri in range(le, n): \n",
        "            for r in range(m):\n",
        "                pre_sum[r] += matrix[r][ri]\n",
        "            arr = [0, math.inf] \n",
        "            cur_sum = 0\n",
        "            for x in pre_sum:\n",
        "                cur_sum += x\n",
        "                idx = bisect.bisect_left(arr, cur_sum - k)\n",
        "                ret = max(ret, cur_sum - arr[idx])\n",
        "                if ret == k: return k\n",
        "                bisect.insort(arr, cur_sum) \n",
        "    return ret\n",
        "\n",
        "\n",
        "matrix = [[1,0,1],[0,-2,3]] \n",
        "k = 2\n",
        "maxSumSubmatrix(matrix, k)"
      ],
      "metadata": {
        "colab": {
          "base_uri": "https://localhost:8080/"
        },
        "id": "ZEW32DVVMeTY",
        "outputId": "d7a81249-ec8e-4374-86e3-881854c59110"
      },
      "execution_count": null,
      "outputs": [
        {
          "output_type": "execute_result",
          "data": {
            "text/plain": [
              "2"
            ]
          },
          "metadata": {},
          "execution_count": 2
        }
      ]
    },
    {
      "cell_type": "markdown",
      "source": [
        "##28-08-2022"
      ],
      "metadata": {
        "id": "1y9sAxe_tkEU"
      }
    },
    {
      "cell_type": "markdown",
      "source": [
        "####1329. Sort the Matrix Diagonally"
      ],
      "metadata": {
        "id": "biIpTZ5xtogu"
      }
    },
    {
      "cell_type": "code",
      "source": [
        "\"\"\"\n",
        "1329. Sort the Matrix Diagonally\n",
        "Medium\n",
        "\n",
        "2469\n",
        "\n",
        "198\n",
        "\n",
        "Add to List\n",
        "\n",
        "Share\n",
        "A matrix diagonal is a diagonal line of cells starting from some cell in either the topmost row or leftmost column and going in the bottom-right direction until reaching the matrix's end. For example, the matrix diagonal starting from mat[2][0], where mat is a 6 x 3 matrix, includes cells mat[2][0], mat[3][1], and mat[4][2].\n",
        "\n",
        "Given an m x n matrix mat of integers, sort each matrix diagonal in ascending order and return the resulting matrix.\n",
        "\n",
        " \n",
        "\n",
        "Example 1:\n",
        "\n",
        "\n",
        "Input: mat = [[3,3,1,1],[2,2,1,2],[1,1,1,2]]\n",
        "Output: [[1,1,1,1],[1,2,2,2],[1,2,3,3]]\n",
        "Example 2:\n",
        "\n",
        "Input: mat = [[11,25,66,1,69,7],[23,55,17,45,15,52],[75,31,36,44,58,8],[22,27,33,25,68,4],[84,28,14,11,5,50]]\n",
        "Output: [[5,17,4,1,52,7],[11,11,25,45,8,69],[14,23,25,44,58,15],[22,27,31,36,50,66],[84,28,75,33,55,68]]\n",
        " \n",
        "\n",
        "Constraints:\n",
        "\n",
        "m == mat.length\n",
        "n == mat[i].length\n",
        "1 <= m, n <= 100\n",
        "1 <= mat[i][j] <= 100\n",
        "\"\"\""
      ],
      "metadata": {
        "id": "4VluRaUrtoOJ"
      },
      "execution_count": null,
      "outputs": []
    },
    {
      "cell_type": "code",
      "source": [
        "# needs revision \n",
        "# video explanation: https://www.youtube.com/watch?v=AFvzHLk8rFA\n",
        "\"\"\"\n",
        "Runtime: 98 ms, faster than 62.65% of Python online submissions for Sort the Matrix Diagonally.\n",
        "Memory Usage: 14.1 MB, less than 7.23% of Python online submissions for Sort the Matrix Diagonally.\n",
        "\"\"\"\n",
        "\n",
        "def diagonalSort(mat):\n",
        "    h = defaultdict(list)\n",
        "    n,m = len(mat), len(mat[0])\n",
        "    \n",
        "    for i in range(n):\n",
        "        for j in range(m):\n",
        "            heappush(h[i-j], mat[i][j])\n",
        "    for i in range(n):\n",
        "        for j in range(m):\n",
        "            mat[i][j] = heappop(h[i-j])\n",
        "            \n",
        "    return mat\n",
        "\n",
        "diagonalSort([[11,25,66,1,69,7],[23,55,17,45,15,52],[75,31,36,44,58,8],[22,27,33,25,68,4],[84,28,14,11,5,50]])"
      ],
      "metadata": {
        "id": "R9eZLcLM7aJC"
      },
      "execution_count": null,
      "outputs": []
    },
    {
      "cell_type": "markdown",
      "source": [
        "##29-08-2022"
      ],
      "metadata": {
        "id": "sua-_MY-PhlG"
      }
    },
    {
      "cell_type": "markdown",
      "source": [
        "####200. Number of Islands"
      ],
      "metadata": {
        "id": "oevmysJMPhaq"
      }
    },
    {
      "cell_type": "code",
      "source": [
        "\"\"\"\n",
        "200. Number of Islands\n",
        "Medium\n",
        "\n",
        "16450\n",
        "\n",
        "379\n",
        "\n",
        "Add to List\n",
        "\n",
        "Share\n",
        "Given an m x n 2D binary grid grid which represents a map of '1's (land) and '0's (water), return the number of islands.\n",
        "\n",
        "An island is surrounded by water and is formed by connecting adjacent lands horizontally or vertically. You may assume all four edges of the grid are all surrounded by water.\n",
        "\n",
        " \n",
        "\n",
        "Example 1:\n",
        "\n",
        "Input: grid = [\n",
        "  [\"1\",\"1\",\"1\",\"1\",\"0\"],\n",
        "  [\"1\",\"1\",\"0\",\"1\",\"0\"],\n",
        "  [\"1\",\"1\",\"0\",\"0\",\"0\"],\n",
        "  [\"0\",\"0\",\"0\",\"0\",\"0\"]\n",
        "]\n",
        "Output: 1\n",
        "Example 2:\n",
        "\n",
        "Input: grid = [\n",
        "  [\"1\",\"1\",\"0\",\"0\",\"0\"],\n",
        "  [\"1\",\"1\",\"0\",\"0\",\"0\"],\n",
        "  [\"0\",\"0\",\"1\",\"0\",\"0\"],\n",
        "  [\"0\",\"0\",\"0\",\"1\",\"1\"]\n",
        "]\n",
        "Output: 3\n",
        " \n",
        "\n",
        "Constraints:\n",
        "\n",
        "m == grid.length\n",
        "n == grid[i].length\n",
        "1 <= m, n <= 300\n",
        "grid[i][j] is '0' or '1'.\n",
        "\"\"\""
      ],
      "metadata": {
        "id": "ZZ2JnQVGPimi"
      },
      "execution_count": null,
      "outputs": []
    },
    {
      "cell_type": "code",
      "source": [
        "# orginal solution\n",
        "# video explanation: https://www.youtube.com/watch?v=uDB5QXTqMn0\n",
        "\n",
        "\"\"\"\n",
        "Runtime: 514 ms, faster than 44.25% of Python3 online submissions for Number of Islands.\n",
        "Memory Usage: 16.6 MB, less than 50.32% of Python3 online submissions for Number of Islands.\n",
        "\"\"\"\n",
        "\n",
        "class Solution:\n",
        "    def dfs(self, grid, r, c):\n",
        "        grid[r][c] = \"0\"\n",
        "        lst = [(r-1, c), (r+1, c), (r, c-1), (r, c+1)]\n",
        "        for row, col in lst:\n",
        "            if row >= 0 and col >= 0 and row < len(grid) and col < len(grid[row]) and grid[row][col] == \"1\":\n",
        "                self.dfs(grid, row, col)\n",
        "    \n",
        "    def numIslands(self, grid):\n",
        "        islands = 0\n",
        "        for r in range(len(grid)):\n",
        "            for c in range(len(grid[r])):\n",
        "                if grid[r][c] == \"1\":\n",
        "                    self.dfs(grid, r, c)\n",
        "                    islands += 1\n",
        "        return islands\n",
        "        "
      ],
      "metadata": {
        "id": "LjOcAvBgPjEK"
      },
      "execution_count": null,
      "outputs": []
    },
    {
      "cell_type": "code",
      "source": [
        "# needs revision\n",
        "# edited version by stripping class off the code\n",
        "# video explanation: https://www.youtube.com/watch?v=uDB5QXTqMn0\n",
        "\n",
        "\"\"\"\n",
        "Runtime: 514 ms, faster than 44.25% of Python3 online submissions for Number of Islands.\n",
        "Memory Usage: 16.6 MB, less than 50.32% of Python3 online submissions for Number of Islands.\n",
        "\"\"\"\n",
        "\n",
        "\n",
        "def dfs(grid, r, c):\n",
        "    grid[r][c] = \"0\"\n",
        "    lst = [(r-1, c), (r+1, c), (r, c-1), (r, c+1)]\n",
        "    for row, col in lst:\n",
        "        if row >= 0 and col >= 0 and row < len(grid) and col < len(grid[row]) and grid[row][col] == \"1\":\n",
        "            dfs(grid, row, col)\n",
        "\n",
        "def numIslands(grid):\n",
        "    islands = 0\n",
        "    for r in range(len(grid)):\n",
        "        for c in range(len(grid[r])):\n",
        "            if grid[r][c] == \"1\":\n",
        "                dfs(grid, r, c)\n",
        "                islands += 1\n",
        "    return islands\n",
        "    \n",
        "numIslands([[\"1\",\"1\",\"0\",\"0\",\"0\"],[\"1\",\"1\",\"0\",\"0\",\"0\"],[\"0\",\"0\",\"1\",\"0\",\"0\"],[\"0\",\"0\",\"0\",\"1\",\"1\"]])"
      ],
      "metadata": {
        "colab": {
          "base_uri": "https://localhost:8080/"
        },
        "id": "H2_HTUxXQmaC",
        "outputId": "9f873f55-65dc-42e5-f98c-09f3b282817e"
      },
      "execution_count": null,
      "outputs": [
        {
          "output_type": "execute_result",
          "data": {
            "text/plain": [
              "3"
            ]
          },
          "metadata": {},
          "execution_count": 4
        }
      ]
    },
    {
      "cell_type": "markdown",
      "source": [
        "##30-08-2022"
      ],
      "metadata": {
        "id": "tRKsHxctV_PS"
      }
    },
    {
      "cell_type": "markdown",
      "source": [
        "####48. Rotate Image"
      ],
      "metadata": {
        "id": "35zfBzBeV-12"
      }
    },
    {
      "cell_type": "code",
      "source": [
        "\"\"\"\n",
        "48. Rotate Image\n",
        "Medium\n",
        "\n",
        "11583\n",
        "\n",
        "561\n",
        "\n",
        "Add to List\n",
        "\n",
        "Share\n",
        "You are given an n x n 2D matrix representing an image, rotate the image by 90 degrees (clockwise).\n",
        "\n",
        "You have to rotate the image in-place, which means you have to modify the input 2D matrix directly. DO NOT allocate another 2D matrix and do the rotation.\n",
        "\n",
        " \n",
        "\n",
        "Example 1:\n",
        "\n",
        "\n",
        "Input: matrix = [[1,2,3],[4,5,6],[7,8,9]]\n",
        "Output: [[7,4,1],[8,5,2],[9,6,3]]\n",
        "Example 2:\n",
        "\n",
        "\n",
        "Input: matrix = [[5,1,9,11],[2,4,8,10],[13,3,6,7],[15,14,12,16]]\n",
        "Output: [[15,13,2,5],[14,3,4,1],[12,6,8,9],[16,7,10,11]]\n",
        " \n",
        "\n",
        "Constraints:\n",
        "\n",
        "n == matrix.length == matrix[i].length\n",
        "1 <= n <= 20\n",
        "-1000 <= matrix[i][j] <= 1000\n",
        "\"\"\""
      ],
      "metadata": {
        "id": "nXM5EdP8V90i"
      },
      "execution_count": null,
      "outputs": []
    },
    {
      "cell_type": "code",
      "source": [
        "# needs revision\n",
        "# video explanation: https://www.youtube.com/watch?v=owQN0xX6Fa0   \n",
        "# Note: Timothy H Chang's codes are way precise and easy.\n",
        "\n",
        "\"\"\"\n",
        "Runtime: 42 ms, faster than 83.47% of Python3 online submissions for Rotate Image.\n",
        "Memory Usage: 13.8 MB, less than 74.32% of Python3 online submissions for Rotate Image.\n",
        "\"\"\"\n",
        "\n",
        "\n",
        "def rotate(matrix):       \n",
        "    N = len(matrix)\n",
        "    matrix.reverse()\n",
        "    for r in range(N):\n",
        "        for c in range(r):\n",
        "            matrix[r][c], matrix[c][r] = matrix[c][r], matrix[r][c]\n",
        "    return matrix\n",
        "\n",
        "\n",
        "rotate([[1,2,3],[4,5,6],[7,8,9]])"
      ],
      "metadata": {
        "colab": {
          "base_uri": "https://localhost:8080/"
        },
        "id": "PN0AFyKCV_34",
        "outputId": "68fd6f9f-6fa0-4fc4-d222-df529c5bc209"
      },
      "execution_count": null,
      "outputs": [
        {
          "output_type": "execute_result",
          "data": {
            "text/plain": [
              "[[7, 4, 1], [8, 5, 2], [9, 6, 3]]"
            ]
          },
          "metadata": {},
          "execution_count": 3
        }
      ]
    },
    {
      "cell_type": "markdown",
      "source": [
        "##31-08-2022"
      ],
      "metadata": {
        "id": "TfrqDZX8LF2V"
      }
    },
    {
      "cell_type": "markdown",
      "source": [
        "####417. Pacific Atlantic Water Flow"
      ],
      "metadata": {
        "id": "iwut_btJLJOK"
      }
    },
    {
      "cell_type": "code",
      "source": [
        "\"\"\"\n",
        "417. Pacific Atlantic Water Flow\n",
        "Medium\n",
        "\n",
        "5341\n",
        "\n",
        "1011\n",
        "\n",
        "Add to List\n",
        "\n",
        "Share\n",
        "There is an m x n rectangular island that borders both the Pacific Ocean and Atlantic Ocean. The Pacific Ocean touches the island's left and top edges, and the Atlantic Ocean touches the island's right and bottom edges.\n",
        "\n",
        "The island is partitioned into a grid of square cells. You are given an m x n integer matrix heights where heights[r][c] represents the height above sea level of the cell at coordinate (r, c).\n",
        "\n",
        "The island receives a lot of rain, and the rain water can flow to neighboring cells directly north, south, east, and west if the neighboring cell's height is less than or equal to the current cell's height. Water can flow from any cell adjacent to an ocean into the ocean.\n",
        "\n",
        "Return a 2D list of grid coordinates result where result[i] = [ri, ci] denotes that rain water can flow from cell (ri, ci) to both the Pacific and Atlantic oceans.\n",
        "\n",
        " \n",
        "\n",
        "Example 1:\n",
        "\n",
        "\n",
        "Input: heights = [[1,2,2,3,5],[3,2,3,4,4],[2,4,5,3,1],[6,7,1,4,5],[5,1,1,2,4]]\n",
        "Output: [[0,4],[1,3],[1,4],[2,2],[3,0],[3,1],[4,0]]\n",
        "Explanation: The following cells can flow to the Pacific and Atlantic oceans, as shown below:\n",
        "[0,4]: [0,4] -> Pacific Ocean \n",
        "       [0,4] -> Atlantic Ocean\n",
        "[1,3]: [1,3] -> [0,3] -> Pacific Ocean \n",
        "       [1,3] -> [1,4] -> Atlantic Ocean\n",
        "[1,4]: [1,4] -> [1,3] -> [0,3] -> Pacific Ocean \n",
        "       [1,4] -> Atlantic Ocean\n",
        "[2,2]: [2,2] -> [1,2] -> [0,2] -> Pacific Ocean \n",
        "       [2,2] -> [2,3] -> [2,4] -> Atlantic Ocean\n",
        "[3,0]: [3,0] -> Pacific Ocean \n",
        "       [3,0] -> [4,0] -> Atlantic Ocean\n",
        "[3,1]: [3,1] -> [3,0] -> Pacific Ocean \n",
        "       [3,1] -> [4,1] -> Atlantic Ocean\n",
        "[4,0]: [4,0] -> Pacific Ocean \n",
        "       [4,0] -> Atlantic Ocean\n",
        "Note that there are other possible paths for these cells to flow to the Pacific and Atlantic oceans.\n",
        "Example 2:\n",
        "\n",
        "Input: heights = [[1]]\n",
        "Output: [[0,0]]\n",
        "Explanation: The water can flow from the only cell to the Pacific and Atlantic oceans.\n",
        " \n",
        "\n",
        "Constraints:\n",
        "\n",
        "m == heights.length\n",
        "n == heights[r].length\n",
        "1 <= m, n <= 200\n",
        "0 <= heights[r][c] <= 105\n",
        "\"\"\""
      ],
      "metadata": {
        "id": "jIzqDyXuLLOb"
      },
      "execution_count": null,
      "outputs": []
    },
    {
      "cell_type": "code",
      "source": [
        "# needs revision\n",
        "# code source link: https://zhenyu0519.github.io/2020/03/18/lc417/\n",
        "# matrix and heights, both mean same here as matrix is initialized with its value as heights\n",
        "\n",
        "\"\"\"\n",
        "Runtime: 581 ms, faster than 21.68% of Python3 online submissions for Pacific Atlantic Water Flow.\n",
        "Memory Usage: 15.5 MB, less than 78.42% of Python3 online submissions for Pacific Atlantic Water Flow.\n",
        "\"\"\"\n",
        "\n",
        "class Solution:\n",
        "    def pacificAtlantic(self, heights: List[List[int]]) -> List[List[int]]:\n",
        "        matrix = heights\n",
        "        if not matrix or not matrix[0]:return []\n",
        "        m, n = len(matrix),len(matrix[0])\n",
        "        p_visited = set()\n",
        "        a_visited = set()\n",
        "        directions = [(-1, 0), (1, 0), (0, 1), (0, -1)]\n",
        "        def dfs(visited, x,y):\n",
        "            visited.add((x,y))\n",
        "            for dx, dy in directions:\n",
        "                new_x, new_y = x+dx, y+dy\n",
        "                if 0<=new_x<m and 0<=new_y<n and (new_x,new_y) not in visited and matrix[new_x][new_y]>=matrix[x][y]:\n",
        "                    dfs(visited, new_x,new_y)\n",
        "        #iterate from left border and right border\n",
        "        for i in range(m):\n",
        "            dfs(p_visited,i,0)\n",
        "            dfs(a_visited,i,n-1)\n",
        "        #iterate from up border and bottom border\n",
        "        for j in range(n):\n",
        "            dfs(p_visited,0,j)\n",
        "            dfs(a_visited,m-1,j)\n",
        "        #The intersections of two sets are coordinates where water can flow to both P and A\n",
        "        return list(p_visited.intersection(a_visited))        "
      ],
      "metadata": {
        "id": "JnrumFZeKpkb"
      },
      "execution_count": null,
      "outputs": []
    },
    {
      "cell_type": "markdown",
      "source": [
        "# September 2022"
      ],
      "metadata": {
        "id": "Ctv4YzGVXYDf"
      }
    },
    {
      "cell_type": "markdown",
      "source": [
        "##01-09-2022"
      ],
      "metadata": {
        "id": "40TxA1WwN2g4"
      }
    },
    {
      "cell_type": "markdown",
      "source": [
        "####1448. Count Good Nodes in Binary Tree"
      ],
      "metadata": {
        "id": "To2LlOVZN1G5"
      }
    },
    {
      "cell_type": "code",
      "source": [
        "\"\"\"\n",
        "1448. Count Good Nodes in Binary Tree\n",
        "Medium\n",
        "\n",
        "3825\n",
        "\n",
        "110\n",
        "\n",
        "Add to List\n",
        "\n",
        "Share\n",
        "Given a binary tree root, a node X in the tree is named good if in the path from root to X there are no nodes with a value greater than X.\n",
        "\n",
        "Return the number of good nodes in the binary tree.\n",
        "\n",
        " \n",
        "\n",
        "Example 1:\n",
        "\n",
        "\n",
        "\n",
        "Input: root = [3,1,4,3,null,1,5]\n",
        "Output: 4\n",
        "Explanation: Nodes in blue are good.\n",
        "Root Node (3) is always a good node.\n",
        "Node 4 -> (3,4) is the maximum value in the path starting from the root.\n",
        "Node 5 -> (3,4,5) is the maximum value in the path\n",
        "Node 3 -> (3,1,3) is the maximum value in the path.\n",
        "Example 2:\n",
        "\n",
        "\n",
        "\n",
        "Input: root = [3,3,null,4,2]\n",
        "Output: 3\n",
        "Explanation: Node 2 -> (3, 3, 2) is not good, because \"3\" is higher than it.\n",
        "Example 3:\n",
        "\n",
        "Input: root = [1]\n",
        "Output: 1\n",
        "Explanation: Root is considered as good.\n",
        " \n",
        "\n",
        "Constraints:\n",
        "\n",
        "The number of nodes in the binary tree is in the range [1, 10^5].\n",
        "Each node's value is between [-10^4, 10^4].\n",
        "\"\"\""
      ],
      "metadata": {
        "id": "BtJmpaQ_N55y"
      },
      "execution_count": null,
      "outputs": []
    },
    {
      "cell_type": "code",
      "source": [
        "# needs revision\n",
        "# code link: https://shareablecode.com/snippets/count-good-nodes-in-binary-tree-python-solution-leetcode-jqmv-b8BM\n",
        "\n",
        "\"\"\"\n",
        "Runtime: 326 ms, faster than 73.24% of Python3 online submissions for Count Good Nodes in Binary Tree.\n",
        "Memory Usage: 32.6 MB, less than 16.88% of Python3 online submissions for Count Good Nodes in Binary Tree.\n",
        "\"\"\"\n",
        "\n",
        "# Definition for a binary tree node.\n",
        "# class TreeNode:\n",
        "#     def __init__(self, val=0, left=None, right=None):\n",
        "#         self.val = val\n",
        "#         self.left = left\n",
        "#         self.right = right\n",
        "class Solution:\n",
        "    def goodNodes(self, root):\n",
        "        result = 0\n",
        "        stk = [(root, root.val)]\n",
        "        while stk:\n",
        "            node, curr_max = stk.pop()\n",
        "            if not node:\n",
        "                continue\n",
        "            curr_max = max(curr_max, node.val)\n",
        "            result += int(curr_max <= node.val)\n",
        "            stk.append((node.right, curr_max))\n",
        "            stk.append((node.left, curr_max))\n",
        "        return result     "
      ],
      "metadata": {
        "id": "hfW4SH5bN5lV"
      },
      "execution_count": null,
      "outputs": []
    },
    {
      "cell_type": "markdown",
      "source": [
        "##02-09-2022"
      ],
      "metadata": {
        "id": "y0fMdoh3WQd9"
      }
    },
    {
      "cell_type": "markdown",
      "source": [
        "####637. Average of Levels in Binary Tree"
      ],
      "metadata": {
        "id": "v69HawwaWP_b"
      }
    },
    {
      "cell_type": "code",
      "source": [
        "\"\"\"\n",
        "637. Average of Levels in Binary Tree\n",
        "Easy\n",
        "\n",
        "4043\n",
        "\n",
        "272\n",
        "\n",
        "Add to List\n",
        "\n",
        "Share\n",
        "Given the root of a binary tree, return the average value of the nodes on each level in the form of an array. Answers within 10-5 of the actual answer will be accepted.\n",
        " \n",
        "\n",
        "Example 1:\n",
        "\n",
        "\n",
        "Input: root = [3,9,20,null,null,15,7]\n",
        "Output: [3.00000,14.50000,11.00000]\n",
        "Explanation: The average value of nodes on level 0 is 3, on level 1 is 14.5, and on level 2 is 11.\n",
        "Hence return [3, 14.5, 11].\n",
        "Example 2:\n",
        "\n",
        "\n",
        "Input: root = [3,9,20,15,7]\n",
        "Output: [3.00000,14.50000,11.00000]\n",
        " \n",
        "\n",
        "Constraints:\n",
        "\n",
        "The number of nodes in the tree is in the range [1, 104].\n",
        "-231 <= Node.val <= 231 - 1\n",
        "\"\"\""
      ],
      "metadata": {
        "id": "5ps1Ph7TWoB8"
      },
      "execution_count": null,
      "outputs": []
    },
    {
      "cell_type": "code",
      "source": [
        "# needs revision\n",
        "# code link: https://ibrahimhasnat.com/average-of-levels-in-binary-tree-leetcode-637-python-solution/\n",
        "# python3\n",
        "\n",
        "\"\"\"\n",
        "Runtime: 68 ms, faster than 70.75% of Python3 online submissions for Average of Levels in Binary Tree.\n",
        "Memory Usage: 16.5 MB, less than 87.46% of Python3 online submissions for Average of Levels in Binary Tree.\n",
        "\"\"\"\n",
        "\n",
        "class Solution:\n",
        "    def averageOfLevels(self, root: Optional[TreeNode]) -> List[float]:\n",
        "        if root is None:\n",
        "            return []\n",
        "\n",
        "        result = []\n",
        "        queue = [root]\n",
        "\n",
        "        while queue:\n",
        "            size = len(queue)\n",
        "            level = []\n",
        "\n",
        "            for i in range(size):\n",
        "                node = queue.pop()\n",
        "                level.append(node.val)\n",
        "\n",
        "                if node.left:\n",
        "                    queue.insert(0, node.left)\n",
        "                if node.right:\n",
        "                    queue.insert(0, node.right)\n",
        "\n",
        "            result.append(sum(level) / len(level))\n",
        "\n",
        "        return result"
      ],
      "metadata": {
        "id": "8OlFD_7HWRBN"
      },
      "execution_count": null,
      "outputs": []
    },
    {
      "cell_type": "markdown",
      "source": [
        "##03-09-2022"
      ],
      "metadata": {
        "id": "YIjxkjDGc9s5"
      }
    },
    {
      "cell_type": "markdown",
      "source": [
        "####967. Numbers With Same Consecutive Differences"
      ],
      "metadata": {
        "id": "Tl3Xe7I_c8n5"
      }
    },
    {
      "cell_type": "code",
      "source": [
        "\"\"\"\n",
        "967. Numbers With Same Consecutive Differences\n",
        "Medium\n",
        "\n",
        "2112\n",
        "\n",
        "169\n",
        "\n",
        "Add to List\n",
        "\n",
        "Share\n",
        "Return all non-negative integers of length n such that the absolute difference between every two consecutive digits is k.\n",
        "\n",
        "Note that every number in the answer must not have leading zeros. For example, 01 has one leading zero and is invalid.\n",
        "\n",
        "You may return the answer in any order.\n",
        "\n",
        " \n",
        "\n",
        "Example 1:\n",
        "\n",
        "Input: n = 3, k = 7\n",
        "Output: [181,292,707,818,929]\n",
        "Explanation: Note that 070 is not a valid number, because it has leading zeroes.\n",
        "Example 2:\n",
        "\n",
        "Input: n = 2, k = 1\n",
        "Output: [10,12,21,23,32,34,43,45,54,56,65,67,76,78,87,89,98]\n",
        " \n",
        "\n",
        "Constraints:\n",
        "\n",
        "2 <= n <= 9\n",
        "0 <= k <= 9\n",
        "\"\"\""
      ],
      "metadata": {
        "id": "Px772E2Tc25A"
      },
      "execution_count": null,
      "outputs": []
    },
    {
      "cell_type": "code",
      "source": [
        "# needs revision\n",
        "# code link: https://github.com/qinhanmin2014/LeetCode-solutions/blob/master/Python/967.md\n",
        "\n",
        "\n",
        "\"\"\"\n",
        "Runtime: 62 ms, faster than 38.71% of Python online submissions for Numbers With Same Consecutive Differences.\n",
        "Memory Usage: 13.6 MB, less than 41.94% of Python online submissions for Numbers With Same Consecutive Differences.\n",
        "\"\"\"\n",
        "\n",
        "def numsSameConsecDiff(n, k):\n",
        "    ans = []\n",
        "    if n == 1:\n",
        "        ans.append(0)\n",
        "\n",
        "    def dfs(num, cnt):\n",
        "        if cnt == n:\n",
        "            ans.append(int(num))\n",
        "            return\n",
        "        last_num = int(num[-1])\n",
        "        if k == 0:\n",
        "            dfs(num + str(last_num), cnt + 1)\n",
        "            return\n",
        "        for cur_num in [last_num + k, last_num - k]:\n",
        "            if 0 <= cur_num <= 9:\n",
        "                dfs(num + str(cur_num), cnt + 1)\n",
        "\n",
        "    for i in range(1, 10):\n",
        "        dfs(str(i), 1)\n",
        "    return ans\n",
        "\n",
        "\n",
        "numsSameConsecDiff(3, 7)"
      ],
      "metadata": {
        "colab": {
          "base_uri": "https://localhost:8080/"
        },
        "id": "3TgXJJ5Qc5zh",
        "outputId": "c3e9c958-870e-4829-ff00-848b4c9e1332"
      },
      "execution_count": null,
      "outputs": [
        {
          "output_type": "execute_result",
          "data": {
            "text/plain": [
              "[181, 292, 707, 818, 929]"
            ]
          },
          "metadata": {},
          "execution_count": 2
        }
      ]
    },
    {
      "cell_type": "markdown",
      "source": [
        "##04-09-2022"
      ],
      "metadata": {
        "id": "ucBxShhfwRRY"
      }
    },
    {
      "cell_type": "markdown",
      "source": [
        "####987. Vertical Order Traversal of a Binary Tree"
      ],
      "metadata": {
        "id": "e4wTRX2VwXQT"
      }
    },
    {
      "cell_type": "code",
      "source": [
        "\"\"\"\n",
        "987. Vertical Order Traversal of a Binary Tree\n",
        "Hard\n",
        "\n",
        "4892\n",
        "\n",
        "3871\n",
        "\n",
        "Add to List\n",
        "\n",
        "Share\n",
        "Given the root of a binary tree, calculate the vertical order traversal of the binary tree.\n",
        "\n",
        "For each node at position (row, col), its left and right children will be at positions (row + 1, col - 1) and (row + 1, col + 1) respectively. The root of the tree is at (0, 0).\n",
        "\n",
        "The vertical order traversal of a binary tree is a list of top-to-bottom orderings for each column index starting from the leftmost column and ending on the rightmost column. There may be multiple nodes in the same row and same column. In such a case, sort these nodes by their values.\n",
        "\n",
        "Return the vertical order traversal of the binary tree.\n",
        "\n",
        " \n",
        "\n",
        "Example 1:\n",
        "\n",
        "\n",
        "Input: root = [3,9,20,null,null,15,7]\n",
        "Output: [[9],[3,15],[20],[7]]\n",
        "Explanation:\n",
        "Column -1: Only node 9 is in this column.\n",
        "Column 0: Nodes 3 and 15 are in this column in that order from top to bottom.\n",
        "Column 1: Only node 20 is in this column.\n",
        "Column 2: Only node 7 is in this column.\n",
        "Example 2:\n",
        "\n",
        "\n",
        "Input: root = [1,2,3,4,5,6,7]\n",
        "Output: [[4],[2],[1,5,6],[3],[7]]\n",
        "Explanation:\n",
        "Column -2: Only node 4 is in this column.\n",
        "Column -1: Only node 2 is in this column.\n",
        "Column 0: Nodes 1, 5, and 6 are in this column.\n",
        "          1 is at the top, so it comes first.\n",
        "          5 and 6 are at the same position (2, 0), so we order them by their value, 5 before 6.\n",
        "Column 1: Only node 3 is in this column.\n",
        "Column 2: Only node 7 is in this column.\n",
        "Example 3:\n",
        "\n",
        "\n",
        "Input: root = [1,2,3,4,6,5,7]\n",
        "Output: [[4],[2],[1,5,6],[3],[7]]\n",
        "Explanation:\n",
        "This case is the exact same as example 2, but with nodes 5 and 6 swapped.\n",
        "Note that the solution remains the same since 5 and 6 are in the same location and should be ordered by their values.\n",
        " \n",
        "\n",
        "Constraints:\n",
        "\n",
        "The number of nodes in the tree is in the range [1, 1000].\n",
        "0 <= Node.val <= 1000\n",
        "\"\"\""
      ],
      "metadata": {
        "id": "TmSxhCvVwUDV"
      },
      "execution_count": null,
      "outputs": []
    },
    {
      "cell_type": "code",
      "source": [
        "# needs revision\n",
        "# code link: https://walkccc.me/LeetCode/problems/0987/\n",
        "\n",
        "\"\"\"\n",
        "Runtime: 59 ms, faster than 36.27% of Python3 online submissions for Vertical Order Traversal of a Binary Tree.\n",
        "Memory Usage: 14.2 MB, less than 72.74% of Python3 online submissions for Vertical Order Traversal of a Binary Tree.\n",
        "\"\"\"\n",
        "\n",
        "\n",
        "# Definition for a binary tree node.\n",
        "# class TreeNode:\n",
        "#     def __init__(self, val=0, left=None, right=None):\n",
        "#         self.val = val\n",
        "#         self.left = left\n",
        "#         self.right = right\n",
        "class Solution:\n",
        "    def verticalTraversal(self, root: Optional[TreeNode]) -> List[List[int]]:\n",
        "        ans = []\n",
        "        xToNodes = defaultdict(list)\n",
        "\n",
        "        def dfs(node: Optional[TreeNode], x: int, y: int) -> None:\n",
        "          if not node:\n",
        "            return\n",
        "\n",
        "          xToNodes[x].append((-y, node.val))\n",
        "          dfs(node.left, x - 1, y - 1)\n",
        "          dfs(node.right, x + 1, y - 1)\n",
        "\n",
        "        dfs(root, 0, 0)\n",
        "\n",
        "        for _, nodes in sorted(xToNodes.items(), key=lambda item: item[0]):\n",
        "          ans.append([val for _, val in sorted(nodes)])\n",
        "\n",
        "        return ans"
      ],
      "metadata": {
        "id": "8Zcr-slwweAG"
      },
      "execution_count": null,
      "outputs": []
    },
    {
      "cell_type": "markdown",
      "source": [
        "##05-09-2022"
      ],
      "metadata": {
        "id": "1BXAGMqwrimE"
      }
    },
    {
      "cell_type": "markdown",
      "source": [
        "####429. N-ary Tree Level Order Traversal"
      ],
      "metadata": {
        "id": "J-VlvNrVroUe"
      }
    },
    {
      "cell_type": "code",
      "source": [
        "\"\"\"\n",
        "429. N-ary Tree Level Order Traversal\n",
        "Medium\n",
        "\n",
        "2898\n",
        "\n",
        "114\n",
        "\n",
        "Add to List\n",
        "\n",
        "Share\n",
        "Given an n-ary tree, return the level order traversal of its nodes' values.\n",
        "\n",
        "Nary-Tree input serialization is represented in their level order traversal, each group of children is separated by the null value (See examples).\n",
        "\n",
        " \n",
        "\n",
        "Example 1:\n",
        "\n",
        "\n",
        "\n",
        "Input: root = [1,null,3,2,4,null,5,6]\n",
        "Output: [[1],[3,2,4],[5,6]]\n",
        "Example 2:\n",
        "\n",
        "\n",
        "\n",
        "Input: root = [1,null,2,3,4,5,null,null,6,7,null,8,null,9,10,null,null,11,null,12,null,13,null,null,14]\n",
        "Output: [[1],[2,3,4,5],[6,7,8,9,10],[11,12,13],[14]]\n",
        " \n",
        "\n",
        "Constraints:\n",
        "\n",
        "The height of the n-ary tree is less than or equal to 1000\n",
        "The total number of nodes is between [0, 104]\n",
        "\"\"\""
      ],
      "metadata": {
        "id": "_u3OPPPqreuA"
      },
      "execution_count": null,
      "outputs": []
    },
    {
      "cell_type": "code",
      "source": [
        "# needs revision\n",
        "# code link: https://zhenyu0519.github.io/2020/03/26/lc429/\n",
        "\n",
        "\"\"\"\n",
        "Runtime: 71 ms, faster than 66.87% of Python3 online submissions for N-ary Tree Level Order Traversal.\n",
        "Memory Usage: 16 MB, less than 50.08% of Python3 online submissions for N-ary Tree Level Order Traversal.\n",
        "\"\"\"\n",
        "\n",
        "\"\"\"\n",
        "# Definition for a Node.\n",
        "class Node:\n",
        "    def __init__(self, val=None, children=None):\n",
        "        self.val = val\n",
        "        self.children = children\n",
        "\"\"\"\n",
        "\n",
        "class Solution:\n",
        "    def levelOrder(self, root: 'Node') -> List[List[int]]:\n",
        "        if not root: return []\n",
        "        q = collections.deque([root])\n",
        "        res = []\n",
        "        while q:\n",
        "            temp = []\n",
        "            size = len(q)\n",
        "            for i in range(size):\n",
        "                node = q.popleft()\n",
        "                temp.append(node.val)\n",
        "                for child in node.children:\n",
        "                    q.append(child)\n",
        "            res.append(temp)\n",
        "        return res"
      ],
      "metadata": {
        "id": "p7_pdDYhr1YQ"
      },
      "execution_count": null,
      "outputs": []
    },
    {
      "cell_type": "markdown",
      "source": [
        "##06-09-2022"
      ],
      "metadata": {
        "id": "5brlXCE1sZx2"
      }
    },
    {
      "cell_type": "markdown",
      "source": [
        "####814. Binary Tree Pruning"
      ],
      "metadata": {
        "id": "jmeZZbfssdod"
      }
    },
    {
      "cell_type": "code",
      "source": [
        "\"\"\"\n",
        "814. Binary Tree Pruning\n",
        "Medium\n",
        "\n",
        "3583\n",
        "\n",
        "94\n",
        "\n",
        "Add to List\n",
        "\n",
        "Share\n",
        "Given the root of a binary tree, return the same tree where every subtree (of the given tree) not containing a 1 has been removed.\n",
        "\n",
        "A subtree of a node node is node plus every node that is a descendant of node.\n",
        "\n",
        " \n",
        "\n",
        "Example 1:\n",
        "\n",
        "\n",
        "Input: root = [1,null,0,0,1]\n",
        "Output: [1,null,0,null,1]\n",
        "Explanation: \n",
        "Only the red nodes satisfy the property \"every subtree not containing a 1\".\n",
        "The diagram on the right represents the answer.\n",
        "Example 2:\n",
        "\n",
        "\n",
        "Input: root = [1,0,1,0,0,0,1]\n",
        "Output: [1,null,1,null,1]\n",
        "Example 3:\n",
        "\n",
        "\n",
        "Input: root = [1,1,0,1,1,0,1,0]\n",
        "Output: [1,1,0,1,1,null,1]\n",
        " \n",
        "\n",
        "Constraints:\n",
        "\n",
        "The number of nodes in the tree is in the range [1, 200].\n",
        "Node.val is either 0 or 1.\n",
        "\"\"\""
      ],
      "metadata": {
        "id": "Wqc60QRisZHD"
      },
      "execution_count": null,
      "outputs": []
    },
    {
      "cell_type": "code",
      "source": [
        "# needs revision\n",
        "# code link: https://goodtecher.com/leetcode-814-binary-tree-pruning/\n",
        "\n",
        "\"\"\"\n",
        "Runtime: 48 ms, faster than 5.85% of Python online submissions for Binary Tree Pruning.\n",
        "Memory Usage: 13.5 MB, less than 60.82% of Python online submissions for Binary Tree Pruning.\n",
        "\"\"\"\n",
        "\n",
        "class Solution(object):\n",
        "    def pruneTree(self, root):\n",
        "        if not self.helper(root):\n",
        "            return None\n",
        "                \n",
        "        return root\n",
        "    \n",
        "    \n",
        "    def helper(self, root):\n",
        "        if not root:\n",
        "            return False\n",
        "                \n",
        "        left = self.helper(root.left)\n",
        "        right = self.helper(root.right)\n",
        "        \n",
        "        \n",
        "        if not left:\n",
        "            root.left = None\n",
        "            \n",
        "        if not right:\n",
        "            root.right = None\n",
        "            \n",
        "            \n",
        "        return root.val == 1 or left or right"
      ],
      "metadata": {
        "id": "d_mUjrQLsj60"
      },
      "execution_count": null,
      "outputs": []
    },
    {
      "cell_type": "markdown",
      "source": [
        "##07-09-2022"
      ],
      "metadata": {
        "id": "jDbimSyr5p08"
      }
    },
    {
      "cell_type": "markdown",
      "source": [
        "####606. Construct String from Binary Tree"
      ],
      "metadata": {
        "id": "Et_iKLjw5qkJ"
      }
    },
    {
      "cell_type": "code",
      "source": [
        "\"\"\"\n",
        "606. Construct String from Binary Tree\n",
        "Easy\n",
        "\n",
        "2137\n",
        "\n",
        "2655\n",
        "\n",
        "Add to List\n",
        "\n",
        "Share\n",
        "Given the root of a binary tree, construct a string consisting of parenthesis and integers from a binary tree with the preorder traversal way, and return it.\n",
        "\n",
        "Omit all the empty parenthesis pairs that do not affect the one-to-one mapping relationship between the string and the original binary tree.\n",
        "\n",
        " \n",
        "\n",
        "Example 1:\n",
        "\n",
        "\n",
        "Input: root = [1,2,3,4]\n",
        "Output: \"1(2(4))(3)\"\n",
        "Explanation: Originally, it needs to be \"1(2(4)())(3()())\", but you need to omit all the unnecessary empty parenthesis pairs. And it will be \"1(2(4))(3)\"\n",
        "Example 2:\n",
        "\n",
        "\n",
        "Input: root = [1,2,3,null,4]\n",
        "Output: \"1(2()(4))(3)\"\n",
        "Explanation: Almost the same as the first example, except we cannot omit the first parenthesis pair to break the one-to-one mapping relationship between the input and the output.\n",
        " \n",
        "\n",
        "Constraints:\n",
        "\n",
        "The number of nodes in the tree is in the range [1, 104].\n",
        "-1000 <= Node.val <= 1000\n",
        "\"\"\""
      ],
      "metadata": {
        "id": "mJC09bO15sEQ"
      },
      "execution_count": null,
      "outputs": []
    },
    {
      "cell_type": "code",
      "source": [
        "# needs revision\n",
        "# code link: https://walkccc.me/LeetCode/problems/0606/\n",
        "# python3\n",
        "\n",
        "\"\"\"\n",
        "Runtime: 92 ms, faster than 35.93% of Python3 online submissions for Construct String from Binary Tree.\n",
        "Memory Usage: 16.4 MB, less than 30.02% of Python3 online submissions for Construct String from Binary Tree.\n",
        "\"\"\"\n",
        "\n",
        "# Definition for a binary tree node.\n",
        "# class TreeNode:\n",
        "#     def __init__(self, val=0, left=None, right=None):\n",
        "#         self.val = val\n",
        "#         self.left = left\n",
        "#         self.right = right\n",
        "class Solution:\n",
        "    def tree2str(self, root: Optional[TreeNode]) -> str:\n",
        "        def dfs(root: Optional[TreeNode]) -> str:\n",
        "          if not root:\n",
        "            return ''\n",
        "          if root.right:\n",
        "            return str(root.val) + '(' + dfs(root.left) + ')(' + dfs(root.right) + ')'\n",
        "          if root.left:\n",
        "            return str(root.val) + '(' + dfs(root.left) + ')'\n",
        "          return str(root.val)\n",
        "        return dfs(root)"
      ],
      "metadata": {
        "id": "aaXsuJfP55ok"
      },
      "execution_count": null,
      "outputs": []
    },
    {
      "cell_type": "markdown",
      "source": [
        "##08-09-2022"
      ],
      "metadata": {
        "id": "CfYycevsTz8Z"
      }
    },
    {
      "cell_type": "markdown",
      "source": [
        "####94. Binary Tree Inorder Traversal"
      ],
      "metadata": {
        "id": "vHt70I79T1Ta"
      }
    },
    {
      "cell_type": "code",
      "source": [
        "\"\"\"\n",
        "94. Binary Tree Inorder Traversal\n",
        "Easy\n",
        "\n",
        "9471\n",
        "\n",
        "450\n",
        "\n",
        "Add to List\n",
        "\n",
        "Share\n",
        "Given the root of a binary tree, return the inorder traversal of its nodes' values.\n",
        "\n",
        " \n",
        "\n",
        "Example 1:\n",
        "\n",
        "\n",
        "Input: root = [1,null,2,3]\n",
        "Output: [1,3,2]\n",
        "Example 2:\n",
        "\n",
        "Input: root = []\n",
        "Output: []\n",
        "Example 3:\n",
        "\n",
        "Input: root = [1]\n",
        "Output: [1]\n",
        " \n",
        "\n",
        "Constraints:\n",
        "\n",
        "The number of nodes in the tree is in the range [0, 100].\n",
        "-100 <= Node.val <= 100\n",
        " \n",
        "\n",
        "Follow up: Recursive solution is trivial, could you do it iteratively?\n",
        "\"\"\""
      ],
      "metadata": {
        "id": "rpofv5DwT11c"
      },
      "execution_count": null,
      "outputs": []
    },
    {
      "cell_type": "code",
      "source": [
        "# needs revision \n",
        "# code link: https://zhenyu0519.github.io/2020/03/10/lc94/ \n",
        "\n",
        "\"\"\"\n",
        "Runtime: 41 ms, faster than 5.65% of Python online submissions for Binary Tree Inorder Traversal.\n",
        "Memory Usage: 13.6 MB, less than 5.08% of Python online submissions for Binary Tree Inorder Traversal.\n",
        "\"\"\"\n",
        "\n",
        "# Definition for a binary tree node.\n",
        "# class TreeNode(object):\n",
        "#     def __init__(self, val=0, left=None, right=None):\n",
        "#         self.val = val\n",
        "#         self.left = left\n",
        "#         self.right = right\n",
        "class Solution(object):\n",
        "    def inorderTraversal(self, root):\n",
        "        if root is None: return []\n",
        "        def dfs(root,res):\n",
        "            if root is None: return\n",
        "            dfs(root.left,res)\n",
        "            res.append(root.val)\n",
        "            dfs(root.right,res)\n",
        "            return res\n",
        "        return dfs(root,[])"
      ],
      "metadata": {
        "id": "ClmHNAkrT2QW"
      },
      "execution_count": null,
      "outputs": []
    },
    {
      "cell_type": "markdown",
      "source": [
        "##09-09-2022"
      ],
      "metadata": {
        "id": "0r9_K_mMaXXo"
      }
    },
    {
      "cell_type": "markdown",
      "source": [
        "####1996. The Number of Weak Characters in the Game"
      ],
      "metadata": {
        "id": "_6bXl5k4aW-1"
      }
    },
    {
      "cell_type": "code",
      "source": [
        "\"\"\"\n",
        "1996. The Number of Weak Characters in the Game\n",
        "Medium\n",
        "\n",
        "2203\n",
        "\n",
        "73\n",
        "\n",
        "Add to List\n",
        "\n",
        "Share\n",
        "You are playing a game that contains multiple characters, and each of the characters has two main properties: attack and defense. You are given a 2D integer array properties where properties[i] = [attacki, defensei] represents the properties of the ith character in the game.\n",
        "\n",
        "A character is said to be weak if any other character has both attack and defense levels strictly greater than this character's attack and defense levels. More formally, a character i is said to be weak if there exists another character j where attackj > attacki and defensej > defensei.\n",
        "\n",
        "Return the number of weak characters.\n",
        "\n",
        " \n",
        "\n",
        "Example 1:\n",
        "\n",
        "Input: properties = [[5,5],[6,3],[3,6]]\n",
        "Output: 0\n",
        "Explanation: No character has strictly greater attack and defense than the other.\n",
        "Example 2:\n",
        "\n",
        "Input: properties = [[2,2],[3,3]]\n",
        "Output: 1\n",
        "Explanation: The first character is weak because the second character has a strictly greater attack and defense.\n",
        "Example 3:\n",
        "\n",
        "Input: properties = [[1,5],[10,4],[4,3]]\n",
        "Output: 1\n",
        "Explanation: The third character is weak because the second character has a strictly greater attack and defense.\n",
        " \n",
        "\n",
        "Constraints:\n",
        "\n",
        "2 <= properties.length <= 105\n",
        "properties[i].length == 2\n",
        "1 <= attacki, defensei <= 105\n",
        "\"\"\""
      ],
      "metadata": {
        "id": "5aB-JEYkal3o"
      },
      "execution_count": null,
      "outputs": []
    },
    {
      "cell_type": "code",
      "source": [
        "# my following code fails if there are any duplicates in provided list of lists called properties\n",
        "\n",
        "def numberOfWeakCharacters(properties):\n",
        "    laast = properties[-1]\n",
        "    listo = []\n",
        "    # for i in properties:\n",
        "    #     if i[0]>laast[0] and i[1]>laast[1]:\n",
        "    #         listo = [['a','b']]\n",
        "    for i in range(len(properties)):\n",
        "        if properties[i+1:] != []:\n",
        "            for j in properties[i+1:]:\n",
        "                if (properties[i][0] > j[0] and properties[i][1] > j[1]):\n",
        "                    if j not in listo:\n",
        "                        listo.append(j)    \n",
        "                if(properties[i][0] < j[0] and properties[i][1] < j[1]):\n",
        "                    if properties[i] not in listo:\n",
        "                        listo.append(properties[i])                            \n",
        "    return len(listo)\n",
        "\n",
        "\n",
        "numberOfWeakCharacters([[7,7],[1,2],[9,7],[7,3],[3,10],[9,8],[8,10],[4,3],[1,5],[1,5]])\n",
        "\n",
        "# answer needs to be 6, the last [1,5] is ignored by my program"
      ],
      "metadata": {
        "colab": {
          "base_uri": "https://localhost:8080/"
        },
        "id": "zMv86qTCaqAL",
        "outputId": "3b10d9bf-a4ab-43fb-b50f-c5bf0d17d64b"
      },
      "execution_count": null,
      "outputs": [
        {
          "output_type": "execute_result",
          "data": {
            "text/plain": [
              "5"
            ]
          },
          "metadata": {},
          "execution_count": 5
        }
      ]
    },
    {
      "cell_type": "code",
      "source": [
        "# needs revision\n",
        "# code link: https://github.com/Wenzhi-Ding/coding_notes/blob/master/10_LeetCode/1996-the-number-of-weak-characters-in-the-game.py\n",
        "\n",
        "\"\"\"\n",
        "Runtime: 1860 ms, faster than 98.31% of Python online submissions for The Number of Weak Characters in the Game.\n",
        "Memory Usage: 53.7 MB, less than 100.00% of Python online submissions for The Number of Weak Characters in the Game.\n",
        "\"\"\"\n",
        "\n",
        "def numberOfWeakCharacters(properties):\n",
        "    properties.sort()\n",
        "    res = 0\n",
        "    max_a, max_b = cur_a, cur_b = properties.pop()\n",
        "    while properties:\n",
        "        _a, _b = properties.pop()\n",
        "        if cur_a != _a: \n",
        "            max_b, cur_b = max(max_b, cur_b), _b\n",
        "            cur_a = _a \n",
        "\n",
        "        if max_b > _b and max_a > _a: res += 1\n",
        "\n",
        "    return res\n",
        "\n",
        "\n",
        "numberOfWeakCharacters([[7,7],[1,2],[9,7],[7,3],[3,10],[9,8],[8,10],[4,3],[1,5],[1,5]])\n"
      ],
      "metadata": {
        "colab": {
          "base_uri": "https://localhost:8080/"
        },
        "id": "WGKjKr01dRF7",
        "outputId": "b6eb44aa-7f08-453c-bcd5-415e35e9ae47"
      },
      "execution_count": null,
      "outputs": [
        {
          "output_type": "execute_result",
          "data": {
            "text/plain": [
              "6"
            ]
          },
          "metadata": {},
          "execution_count": 7
        }
      ]
    },
    {
      "cell_type": "markdown",
      "source": [
        "##10-09-2022"
      ],
      "metadata": {
        "id": "2ZM5z3uWrMYb"
      }
    },
    {
      "cell_type": "markdown",
      "source": [
        "####188. Best Time to Buy and Sell Stock IV"
      ],
      "metadata": {
        "id": "UZeFKTA-rMJC"
      }
    },
    {
      "cell_type": "code",
      "source": [
        "\"\"\"\n",
        "188. Best Time to Buy and Sell Stock IV\n",
        "Hard\n",
        "\n",
        "5404\n",
        "\n",
        "180\n",
        "\n",
        "Add to List\n",
        "\n",
        "Share\n",
        "You are given an integer array prices where prices[i] is the price of a given stock on the ith day, and an integer k.\n",
        "\n",
        "Find the maximum profit you can achieve. You may complete at most k transactions.\n",
        "\n",
        "Note: You may not engage in multiple transactions simultaneously (i.e., you must sell the stock before you buy again).\n",
        "\n",
        " \n",
        "\n",
        "Example 1:\n",
        "\n",
        "Input: k = 2, prices = [2,4,1]\n",
        "Output: 2\n",
        "Explanation: Buy on day 1 (price = 2) and sell on day 2 (price = 4), profit = 4-2 = 2.\n",
        "Example 2:\n",
        "\n",
        "Input: k = 2, prices = [3,2,6,5,0,3]\n",
        "Output: 7\n",
        "Explanation: Buy on day 2 (price = 2) and sell on day 3 (price = 6), profit = 6-2 = 4. Then buy on day 5 (price = 0) and sell on day 6 (price = 3), profit = 3-0 = 3.\n",
        " \n",
        "\n",
        "Constraints:\n",
        "\n",
        "0 <= k <= 100\n",
        "0 <= prices.length <= 1000\n",
        "0 <= prices[i] <= 1000\n",
        "\"\"\""
      ],
      "metadata": {
        "id": "2zlabToNrNyi"
      },
      "execution_count": null,
      "outputs": []
    },
    {
      "cell_type": "code",
      "source": [
        "# needs revision\n",
        "# code link (scroll to second program): https://www.geeksforgeeks.org/maximum-profit-by-buying-and-selling-a-share-at-most-k-times/\n",
        "\n",
        "\"\"\"\n",
        "Runtime: 130 ms, faster than 47.37% of Python online submissions for Best Time to Buy and Sell Stock IV.\n",
        "Memory Usage: 14.9 MB, less than 50.99% of Python online submissions for Best Time to Buy and Sell Stock IV.\n",
        "\"\"\"\n",
        "\n",
        "class Solution(object):\n",
        "    def maxProfit(self, k, prices):\n",
        "        n = len(prices)\n",
        "        # Table to store results of subproblems\n",
        "        # profit[t][i] stores maximum profit\n",
        "        # using atmost t transactions up to\n",
        "        # day i (including day i)\n",
        "        profit = [[0 for i in range(n + 1)]\n",
        "                    for j in range(k + 1)]\n",
        "\n",
        "        # Fill the table in bottom-up fashion\n",
        "        for i in range(1, k + 1):\n",
        "            prevDiff = float('-inf')\n",
        "\n",
        "            for j in range(1, n):\n",
        "                prevDiff = max(prevDiff,\n",
        "                            profit[i - 1][j - 1] -\n",
        "                            prices[j - 1])\n",
        "                profit[i][j] = max(profit[i][j - 1],\n",
        "                                prices[j] + prevDiff)\n",
        "        return profit[k][n - 1] "
      ],
      "metadata": {
        "id": "9evtEgHMrLdC"
      },
      "execution_count": null,
      "outputs": []
    },
    {
      "cell_type": "markdown",
      "source": [
        "##11-09-2022"
      ],
      "metadata": {
        "id": "YQ-YnOP2bXtE"
      }
    },
    {
      "cell_type": "markdown",
      "source": [
        "####1383. Maximum Performance of a Team"
      ],
      "metadata": {
        "id": "BfTYTaNrbXT5"
      }
    },
    {
      "cell_type": "code",
      "source": [
        "\"\"\"\n",
        "1383. Maximum Performance of a Team\n",
        "Hard\n",
        "\n",
        "2153\n",
        "\n",
        "60\n",
        "\n",
        "Add to List\n",
        "\n",
        "Share\n",
        "You are given two integers n and k and two integer arrays speed and efficiency both of length n. There are n engineers numbered from 1 to n. speed[i] and efficiency[i] represent the speed and efficiency of the ith engineer respectively.\n",
        "\n",
        "Choose at most k different engineers out of the n engineers to form a team with the maximum performance.\n",
        "\n",
        "The performance of a team is the sum of their engineers' speeds multiplied by the minimum efficiency among their engineers.\n",
        "\n",
        "Return the maximum performance of this team. Since the answer can be a huge number, return it modulo 109 + 7.\n",
        "\n",
        " \n",
        "\n",
        "Example 1:\n",
        "\n",
        "Input: n = 6, speed = [2,10,3,1,5,8], efficiency = [5,4,3,9,7,2], k = 2\n",
        "Output: 60\n",
        "Explanation: \n",
        "We have the maximum performance of the team by selecting engineer 2 (with speed=10 and efficiency=4) and engineer 5 (with speed=5 and efficiency=7). That is, performance = (10 + 5) * min(4, 7) = 60.\n",
        "Example 2:\n",
        "\n",
        "Input: n = 6, speed = [2,10,3,1,5,8], efficiency = [5,4,3,9,7,2], k = 3\n",
        "Output: 68\n",
        "Explanation:\n",
        "This is the same example as the first but k = 3. We can select engineer 1, engineer 2 and engineer 5 to get the maximum performance of the team. That is, performance = (2 + 10 + 5) * min(5, 4, 7) = 68.\n",
        "Example 3:\n",
        "\n",
        "Input: n = 6, speed = [2,10,3,1,5,8], efficiency = [5,4,3,9,7,2], k = 4\n",
        "Output: 72\n",
        " \n",
        "\n",
        "Constraints:\n",
        "\n",
        "1 <= k <= n <= 105\n",
        "speed.length == n\n",
        "efficiency.length == n\n",
        "1 <= speed[i] <= 105\n",
        "1 <= efficiency[i] <= 108\n",
        "\"\"\""
      ],
      "metadata": {
        "id": "k0CWuSWabYoY"
      },
      "execution_count": null,
      "outputs": []
    },
    {
      "cell_type": "code",
      "source": [
        "# needs revision\n",
        "# code link: https://dev.to/seanpgallivan/solution-maximum-performance-of-a-team-244n\n",
        "\n",
        "\"\"\"\n",
        "Runtime: 1237 ms, faster than 9.52% of Python online submissions for Maximum Performance of a Team.\n",
        "Memory Usage: 30.9 MB, less than 95.24% of Python online submissions for Maximum Performance of a Team.\n",
        "\"\"\"\n",
        "\n",
        "class Solution(object):\n",
        "    def maxPerformance(self, n, speed, efficiency, k):\n",
        "        ord = sorted(zip(efficiency, speed), reverse=True)\n",
        "        spheap, totalSpeed, best = [], 0, 0\n",
        "        for eff, spd in ord:\n",
        "            heappush(spheap, spd)\n",
        "            if len(spheap) <= k: totalSpeed += spd\n",
        "            else: totalSpeed += spd - heappop(spheap)\n",
        "            best = max(best, totalSpeed * eff)\n",
        "        return best % 1000000007"
      ],
      "metadata": {
        "id": "YWgqltvJbZBg"
      },
      "execution_count": null,
      "outputs": []
    },
    {
      "cell_type": "markdown",
      "source": [
        "##12-09-2022"
      ],
      "metadata": {
        "id": "3NV2fLWQxH9Z"
      }
    },
    {
      "cell_type": "markdown",
      "source": [
        "####948. Bag of Tokens"
      ],
      "metadata": {
        "id": "MZf3IONJxHs6"
      }
    },
    {
      "cell_type": "code",
      "source": [
        "\"\"\"\n",
        "948. Bag of Tokens\n",
        "Medium\n",
        "\n",
        "897\n",
        "\n",
        "327\n",
        "\n",
        "Add to List\n",
        "\n",
        "Share\n",
        "You have an initial power of power, an initial score of 0, and a bag of tokens where tokens[i] is the value of the ith token (0-indexed).\n",
        "\n",
        "Your goal is to maximize your total score by potentially playing each token in one of two ways:\n",
        "\n",
        "If your current power is at least tokens[i], you may play the ith token face up, losing tokens[i] power and gaining 1 score.\n",
        "If your current score is at least 1, you may play the ith token face down, gaining tokens[i] power and losing 1 score.\n",
        "Each token may be played at most once and in any order. You do not have to play all the tokens.\n",
        "\n",
        "Return the largest possible score you can achieve after playing any number of tokens.\n",
        "\n",
        " \n",
        "\n",
        "Example 1:\n",
        "\n",
        "Input: tokens = [100], power = 50\n",
        "Output: 0\n",
        "Explanation: Playing the only token in the bag is impossible because you either have too little power or too little score.\n",
        "Example 2:\n",
        "\n",
        "Input: tokens = [100,200], power = 150\n",
        "Output: 1\n",
        "Explanation: Play the 0th token (100) face up, your power becomes 50 and score becomes 1.\n",
        "There is no need to play the 1st token since you cannot play it face up to add to your score.\n",
        "Example 3:\n",
        "\n",
        "Input: tokens = [100,200,300,400], power = 200\n",
        "Output: 2\n",
        "Explanation: Play the tokens in this order to get a score of 2:\n",
        "1. Play the 0th token (100) face up, your power becomes 100 and score becomes 1.\n",
        "2. Play the 3rd token (400) face down, your power becomes 500 and score becomes 0.\n",
        "3. Play the 1st token (200) face up, your power becomes 300 and score becomes 1.\n",
        "4. Play the 2nd token (300) face up, your power becomes 0 and score becomes 2.\n",
        " \n",
        "\n",
        "Constraints:\n",
        "\n",
        "0 <= tokens.length <= 1000\n",
        "0 <= tokens[i], power < 104\n",
        "\"\"\""
      ],
      "metadata": {
        "id": "1J2JC0hdxIgh"
      },
      "execution_count": null,
      "outputs": []
    },
    {
      "cell_type": "code",
      "source": [
        "# my wrong solution, needs some improvement\n",
        "\n",
        "def bagOfTokensScore(tokens, power):\n",
        "    \n",
        "    if tokens == []:\n",
        "        return 0\n",
        "    \n",
        "    if len(tokens) == 1 and  power > tokens[0]:\n",
        "        return 1\n",
        "    \n",
        "    tokens = sorted(tokens)\n",
        "\n",
        "    if power < tokens[0]:\n",
        "        return 0\n",
        "\n",
        "    score = 0\n",
        "\n",
        "\n",
        "    i = 0\n",
        "    j = len(tokens)-1\n",
        "\n",
        "    while i <= j:\n",
        "        while power >= tokens[i]:\n",
        "            power -= tokens[i]\n",
        "            score += 1\n",
        "            i += 1\n",
        "        # else:\n",
        "        #     i += 1\n",
        "\n",
        "        if score >= 1 and i < j:\n",
        "            power += tokens[j]\n",
        "            score -= 1\n",
        "            j -= 1 \n",
        "    return score\n",
        "    \n",
        "tokens = [100,200]\n",
        "power = 150\n",
        "bagOfTokensScore(tokens, power)\n",
        "\n",
        "\n",
        "\n",
        "\"\"\"\n",
        "[100]\n",
        "50\n",
        "[100,200]\n",
        "150\n",
        "[100,200,300,400]\n",
        "200\n",
        "\"\"\""
      ],
      "metadata": {
        "id": "e7yNGhS_13xT"
      },
      "execution_count": null,
      "outputs": []
    },
    {
      "cell_type": "code",
      "source": [
        "# needs revision\n",
        "# explantation video link: https://www.youtube.com/watch?v=iEU2doM224M\n",
        "\n",
        "\"\"\"\n",
        "Runtime: 83 ms, faster than 16.67% of Python online submissions for Bag of Tokens.\n",
        "Memory Usage: 13.6 MB, less than 25.00% of Python online submissions for Bag of Tokens.\n",
        "\"\"\"\n",
        "\n",
        "\n",
        "def bagOfTokensScore(tokens, power):\n",
        "    tokens.sort()\n",
        "    score = 0\n",
        "    l,r =0,len(tokens)-1\n",
        "\n",
        "    while l <= r and(score or power >= tokens[l]):\n",
        "        \n",
        "        if power >= tokens[l]:\n",
        "            score += 1\n",
        "            power -= tokens[l]\n",
        "            l += 1\n",
        "            \n",
        "        elif l != r:\n",
        "            score -= 1\n",
        "            power += tokens[r]\n",
        "            r -= 1\n",
        "            \n",
        "        else:\n",
        "            break\n",
        "            \n",
        "    return score\n",
        "\n",
        "\n",
        "\n",
        "tokens = [100,200,300,400]\n",
        "power = 200\n",
        "bagOfTokensScore(tokens, power)"
      ],
      "metadata": {
        "colab": {
          "base_uri": "https://localhost:8080/"
        },
        "id": "DnPnqDSfxI7P",
        "outputId": "9ee56bf2-4685-4aea-b481-80b4f3451574"
      },
      "execution_count": null,
      "outputs": [
        {
          "output_type": "execute_result",
          "data": {
            "text/plain": [
              "2"
            ]
          },
          "metadata": {},
          "execution_count": 2
        }
      ]
    },
    {
      "cell_type": "markdown",
      "source": [
        "##13-09-2022"
      ],
      "metadata": {
        "id": "dKjlS_8CDbEt"
      }
    },
    {
      "cell_type": "markdown",
      "source": [
        "####393. UTF-8 Validation"
      ],
      "metadata": {
        "id": "-mFI_D2-DawR"
      }
    },
    {
      "cell_type": "code",
      "source": [
        "\"\"\"\n",
        "393. UTF-8 Validation\n",
        "Medium\n",
        "\n",
        "743\n",
        "\n",
        "2552\n",
        "\n",
        "Add to List\n",
        "\n",
        "Share\n",
        "Given an integer array data representing the data, return whether it is a valid UTF-8 encoding (i.e. it translates to a sequence of valid UTF-8 encoded characters).\n",
        "\n",
        "A character in UTF8 can be from 1 to 4 bytes long, subjected to the following rules:\n",
        "\n",
        "For a 1-byte character, the first bit is a 0, followed by its Unicode code.\n",
        "For an n-bytes character, the first n bits are all one's, the n + 1 bit is 0, followed by n - 1 bytes with the most significant 2 bits being 10.\n",
        "This is how the UTF-8 encoding would work:\n",
        "\n",
        "     Number of Bytes   |        UTF-8 Octet Sequence\n",
        "                       |              (binary)\n",
        "   --------------------+-----------------------------------------\n",
        "            1          |   0xxxxxxx\n",
        "            2          |   110xxxxx 10xxxxxx\n",
        "            3          |   1110xxxx 10xxxxxx 10xxxxxx\n",
        "            4          |   11110xxx 10xxxxxx 10xxxxxx 10xxxxxx\n",
        "x denotes a bit in the binary form of a byte that may be either 0 or 1.\n",
        "\n",
        "Note: The input is an array of integers. Only the least significant 8 bits of each integer is used to store the data. This means each integer represents only 1 byte of data.\n",
        "\n",
        " \n",
        "\n",
        "Example 1:\n",
        "\n",
        "Input: data = [197,130,1]\n",
        "Output: true\n",
        "Explanation: data represents the octet sequence: 11000101 10000010 00000001.\n",
        "It is a valid utf-8 encoding for a 2-bytes character followed by a 1-byte character.\n",
        "Example 2:\n",
        "\n",
        "Input: data = [235,140,4]\n",
        "Output: false\n",
        "Explanation: data represented the octet sequence: 11101011 10001100 00000100.\n",
        "The first 3 bits are all one's and the 4th bit is 0 means it is a 3-bytes character.\n",
        "The next byte is a continuation byte which starts with 10 and that's correct.\n",
        "But the second continuation byte does not start with 10, so it is invalid.\n",
        " \n",
        "\n",
        "Constraints:\n",
        "\n",
        "1 <= data.length <= 2 * 104\n",
        "0 <= data[i] <= 255\n",
        "\"\"\""
      ],
      "metadata": {
        "id": "XZJ4KtzhECOp"
      },
      "execution_count": null,
      "outputs": []
    },
    {
      "cell_type": "code",
      "source": [
        "# needs revision\n",
        "# code link: https://programs.programmingoneonone.com/2021/09/leetcode-utf-8-validation-problem-solution.html\n",
        "\n",
        "\"\"\"\n",
        "Runtime: 151 ms, faster than 48.28% of Python online submissions for UTF-8 Validation.\n",
        "Memory Usage: 13.5 MB, less than 94.83% of Python online submissions for UTF-8 Validation.\n",
        "\"\"\"\n",
        "\n",
        "def validUtf8(data):\n",
        "    def check_rem(i,total):\n",
        "        return all(i<len(data) and (data[i]>>6)==0b10 for i in range(i,i+total))\n",
        "    i = 0\n",
        "    while i<len(data):\n",
        "        if data[i]>>7==0: i+=1\n",
        "        elif data[i]>>5==0b110 and check_rem(i+1,1): i+=2\n",
        "        elif data[i]>>4==0b1110 and check_rem(i+1,2): i+=3\n",
        "        elif data[i]>>3==0b11110 and check_rem(i+1,3): i+=4\n",
        "        else: return False\n",
        "    return True"
      ],
      "metadata": {
        "id": "vskrEWfxDk0g"
      },
      "execution_count": null,
      "outputs": []
    },
    {
      "cell_type": "markdown",
      "source": [
        "##14-09-2022"
      ],
      "metadata": {
        "id": "GsuIzCOuDWm1"
      }
    },
    {
      "cell_type": "markdown",
      "source": [
        "####1457. Pseudo-Palindromic Paths in a Binary Tree"
      ],
      "metadata": {
        "id": "lrm6n_dMDWjD"
      }
    },
    {
      "cell_type": "code",
      "source": [
        "\"\"\"\n",
        "1457. Pseudo-Palindromic Paths in a Binary Tree\n",
        "Medium\n",
        "\n",
        "1764\n",
        "\n",
        "59\n",
        "\n",
        "Add to List\n",
        "\n",
        "Share\n",
        "Given a binary tree where node values are digits from 1 to 9. A path in the binary tree is said to be pseudo-palindromic if at least one permutation of the node values in the path is a palindrome.\n",
        "\n",
        "Return the number of pseudo-palindromic paths going from the root node to leaf nodes.\n",
        "\n",
        " \n",
        "\n",
        "Example 1:\n",
        "\n",
        "\n",
        "\n",
        "Input: root = [2,3,1,3,1,null,1]\n",
        "Output: 2 \n",
        "Explanation: The figure above represents the given binary tree. There are three paths going from the root node to leaf nodes: the red path [2,3,3], the green path [2,1,1], and the path [2,3,1]. Among these paths only red path and green path are pseudo-palindromic paths since the red path [2,3,3] can be rearranged in [3,2,3] (palindrome) and the green path [2,1,1] can be rearranged in [1,2,1] (palindrome).\n",
        "Example 2:\n",
        "\n",
        "\n",
        "\n",
        "Input: root = [2,1,1,1,3,null,null,null,null,null,1]\n",
        "Output: 1 \n",
        "Explanation: The figure above represents the given binary tree. There are three paths going from the root node to leaf nodes: the green path [2,1,1], the path [2,1,3,1], and the path [2,1]. Among these paths only the green path is pseudo-palindromic since [2,1,1] can be rearranged in [1,2,1] (palindrome).\n",
        "Example 3:\n",
        "\n",
        "Input: root = [9]\n",
        "Output: 1\n",
        " \n",
        "\n",
        "Constraints:\n",
        "\n",
        "The number of nodes in the tree is in the range [1, 105].\n",
        "1 <= Node.val <= 9\n",
        "\"\"\""
      ],
      "metadata": {
        "id": "y74gULPaDXSH"
      },
      "execution_count": null,
      "outputs": []
    },
    {
      "cell_type": "code",
      "source": [
        "# needs revision\n",
        "# code link: https://maxming0.github.io/2020/12/29/Pseudo-Palindromic-Paths-in-a-Binary-Tree/\n",
        "\n",
        "\"\"\"\n",
        "Runtime: 2355 ms, faster than 19.35% of Python online submissions for Pseudo-Palindromic Paths in a Binary Tree.\n",
        "Memory Usage: 112.4 MB, less than 67.74% of Python online submissions for Pseudo-Palindromic Paths in a Binary Tree.\n",
        "\"\"\"\n",
        "\n",
        "# Definition for a binary tree node.\n",
        "# class TreeNode(object):\n",
        "#     def __init__(self, val=0, left=None, right=None):\n",
        "#         self.val = val\n",
        "#         self.left = left\n",
        "#         self.right = right\n",
        "class Solution(object):\n",
        "    def pseudoPalindromicPaths (self, root):\n",
        "        def dfs(node):\n",
        "            cur[node.val] = not cur[node.val]\n",
        "            if not(node.left or node.right):\n",
        "                if cur.count(False) <= 1:\n",
        "                    res[0] += 1\n",
        "                    cur[node.val] = not cur[node.val]\n",
        "                    return\n",
        "                \n",
        "            if node.left:\n",
        "                dfs(node.left)\n",
        "            if node.right:\n",
        "                dfs(node.right)\n",
        "            cur[node.val] = not cur[node.val]\n",
        "        \n",
        "        res = [0]\n",
        "        cur = [True] * 10\n",
        "        dfs(root)\n",
        "        return res[0]"
      ],
      "metadata": {
        "id": "U51Ld6y7Dk8k"
      },
      "execution_count": null,
      "outputs": []
    },
    {
      "cell_type": "markdown",
      "source": [
        "##15-09-2022"
      ],
      "metadata": {
        "id": "wn8d6OjSHtv7"
      }
    },
    {
      "cell_type": "markdown",
      "source": [
        "####2007. Find Original Array From Doubled Array"
      ],
      "metadata": {
        "id": "nEFsQ2qJHtiY"
      }
    },
    {
      "cell_type": "code",
      "source": [
        "\"\"\"\n",
        "2007. Find Original Array From Doubled Array\n",
        "Medium\n",
        "\n",
        "1685\n",
        "\n",
        "94\n",
        "\n",
        "Add to List\n",
        "\n",
        "Share\n",
        "An integer array original is transformed into a doubled array changed by appending twice the value of every element in original, and then randomly shuffling the resulting array.\n",
        "\n",
        "Given an array changed, return original if changed is a doubled array. If changed is not a doubled array, return an empty array. The elements in original may be returned in any order.\n",
        "\n",
        " \n",
        "\n",
        "Example 1:\n",
        "\n",
        "Input: changed = [1,3,4,2,6,8]\n",
        "Output: [1,3,4]\n",
        "Explanation: One possible original array could be [1,3,4]:\n",
        "- Twice the value of 1 is 1 * 2 = 2.\n",
        "- Twice the value of 3 is 3 * 2 = 6.\n",
        "- Twice the value of 4 is 4 * 2 = 8.\n",
        "Other original arrays could be [4,3,1] or [3,1,4].\n",
        "Example 2:\n",
        "\n",
        "Input: changed = [6,3,0,1]\n",
        "Output: []\n",
        "Explanation: changed is not a doubled array.\n",
        "Example 3:\n",
        "\n",
        "Input: changed = [1]\n",
        "Output: []\n",
        "Explanation: changed is not a doubled array.\n",
        " \n",
        "\n",
        "Constraints:\n",
        "\n",
        "1 <= changed.length <= 105\n",
        "0 <= changed[i] <= 105\n",
        "\"\"\""
      ],
      "metadata": {
        "id": "s96qSJ_WHvCj"
      },
      "execution_count": null,
      "outputs": []
    },
    {
      "cell_type": "code",
      "source": [
        "# needs revision\n",
        "# code link: https://walkccc.me/LeetCode/problems/2007/\n",
        "\n",
        "\"\"\"\n",
        "Runtime: 2839 ms, faster than 23.08% of Python online submissions for Find Original Array From Doubled Array.\n",
        "Memory Usage: 28.5 MB, less than 93.16% of Python online submissions for Find Original Array From Doubled Array.\n",
        "\"\"\"\n",
        "\n",
        "class Solution(object):\n",
        "    def findOriginalArray(self, changed):\n",
        "        ans = []\n",
        "        q = deque()\n",
        "\n",
        "        for num in sorted(changed):\n",
        "          if q and num == q[0]:\n",
        "            q.popleft()\n",
        "          else:\n",
        "            q.append(num * 2)\n",
        "            ans.append(num)\n",
        "\n",
        "        return [] if q else ans   \n",
        "        "
      ],
      "metadata": {
        "id": "ZQ30OTvxHusB"
      },
      "execution_count": null,
      "outputs": []
    },
    {
      "cell_type": "markdown",
      "source": [
        "##16-09-2022"
      ],
      "metadata": {
        "id": "FmbSAagdTTuj"
      }
    },
    {
      "cell_type": "markdown",
      "source": [
        "####1770. Maximum Score from Performing Multiplication Operations"
      ],
      "metadata": {
        "id": "vE4BoYxiTTgY"
      }
    },
    {
      "cell_type": "code",
      "source": [
        "\"\"\"\n",
        "1770. Maximum Score from Performing Multiplication Operations\n",
        "Medium\n",
        "\n",
        "1839\n",
        "\n",
        "428\n",
        "\n",
        "Add to List\n",
        "\n",
        "Share\n",
        "You are given two integer arrays nums and multipliers of size n and m respectively, where n >= m. The arrays are 1-indexed.\n",
        "\n",
        "You begin with a score of 0. You want to perform exactly m operations. On the ith operation (1-indexed), you will:\n",
        "\n",
        "Choose one integer x from either the start or the end of the array nums.\n",
        "Add multipliers[i] * x to your score.\n",
        "Remove x from the array nums.\n",
        "Return the maximum score after performing m operations.\n",
        "\n",
        " \n",
        "\n",
        "Example 1:\n",
        "\n",
        "Input: nums = [1,2,3], multipliers = [3,2,1]\n",
        "Output: 14\n",
        "Explanation: An optimal solution is as follows:\n",
        "- Choose from the end, [1,2,3], adding 3 * 3 = 9 to the score.\n",
        "- Choose from the end, [1,2], adding 2 * 2 = 4 to the score.\n",
        "- Choose from the end, [1], adding 1 * 1 = 1 to the score.\n",
        "The total score is 9 + 4 + 1 = 14.\n",
        "Example 2:\n",
        "\n",
        "Input: nums = [-5,-3,-3,-2,7,1], multipliers = [-10,-5,3,4,6]\n",
        "Output: 102\n",
        "Explanation: An optimal solution is as follows:\n",
        "- Choose from the start, [-5,-3,-3,-2,7,1], adding -5 * -10 = 50 to the score.\n",
        "- Choose from the start, [-3,-3,-2,7,1], adding -3 * -5 = 15 to the score.\n",
        "- Choose from the start, [-3,-2,7,1], adding -3 * 3 = -9 to the score.\n",
        "- Choose from the end, [-2,7,1], adding 1 * 4 = 4 to the score.\n",
        "- Choose from the end, [-2,7], adding 7 * 6 = 42 to the score. \n",
        "The total score is 50 + 15 - 9 + 4 + 42 = 102.\n",
        " \n",
        "\n",
        "Constraints:\n",
        "\n",
        "n == nums.length\n",
        "m == multipliers.length\n",
        "1 <= m <= 103\n",
        "m <= n <= 105\n",
        "-1000 <= nums[i], multipliers[i] <= 1000\n",
        "\"\"\""
      ],
      "metadata": {
        "id": "IizJlmdqTUS5"
      },
      "execution_count": null,
      "outputs": []
    },
    {
      "cell_type": "code",
      "source": [
        "# my incorrect solution 1\n",
        "def maximumScore(nums, multipliers):\n",
        "  score = 0\n",
        "  start = 0\n",
        "  end = -1\n",
        "  for i in range(len(multipliers)):\n",
        "    if multipliers[i] > 0:\n",
        "      if nums[start] > 0 and nums[end] > 0:\n",
        "        if nums[start] >= nums[end]:\n",
        "          score += nums[start] * multipliers[i] \n",
        "          start += 1\n",
        "        else:\n",
        "          score += nums[end] * multipliers[i]\n",
        "          end -= 1\n",
        "      elif nums[start] > 0 and nums[end] <= 0:\n",
        "          score += nums[start] * multipliers[i] \n",
        "          start += 1        \n",
        "      elif nums[start] <= 0 and nums[end] > 0:\n",
        "          score += nums[end] * multipliers[i]\n",
        "          end -= 1    \n",
        "    elif multipliers[i] < 0:\n",
        "      if nums[start] < 0 and nums[end] < 0:\n",
        "        if nums[start] <= nums[end]:\n",
        "          score += nums[start] * multipliers[i] \n",
        "          start += 1\n",
        "        else:\n",
        "          score += nums[end] * multipliers[i]\n",
        "          end -= 1\n",
        "      elif nums[start] < 0 and nums[end] >= 0:\n",
        "          score += nums[start] * multipliers[i] \n",
        "          start += 1        \n",
        "      elif nums[start] >= 0 and nums[end] < 0:\n",
        "          score += nums[end] * multipliers[i]\n",
        "          end -= 1  \n",
        "  return score\n",
        "      \n",
        "nums = [-5,-3,-3,-2,7,1]\n",
        "multipliers = [-10,-5,3,4,6]\n",
        "maximumScore(nums, multipliers)"
      ],
      "metadata": {
        "colab": {
          "base_uri": "https://localhost:8080/"
        },
        "id": "jA9303jnTUs4",
        "outputId": "0d62babd-2ade-4657-cb98-ff2aa273e2ae"
      },
      "execution_count": null,
      "outputs": [
        {
          "output_type": "execute_result",
          "data": {
            "text/plain": [
              "96"
            ]
          },
          "metadata": {},
          "execution_count": 1
        }
      ]
    },
    {
      "cell_type": "code",
      "source": [
        "# my incorrect solution 2\n",
        "class Solution(object):\n",
        "    def maximumScore(self, nums, multipliers):\n",
        "      score = 0\n",
        "      start = 0\n",
        "      end = -1\n",
        "\n",
        "      for i in range(len(multipliers)):\n",
        "        \n",
        "        if multipliers[i] * nums[start] > multipliers[i] * nums[end]:\n",
        "          score += nums[start] * multipliers[i] \n",
        "          start += 1\n",
        "        elif multipliers[i] * nums[start] < multipliers[i] * nums[end]:\n",
        "          score += nums[end] * multipliers[i]\n",
        "          end -= 1     \n",
        "        else:\n",
        "            if i < len(multipliers) - 1:\n",
        "                if multipliers[i+1] * nums[start+1] > multipliers[i+1] * nums[end-1]:\n",
        "                  score += nums[start] * multipliers[i] \n",
        "                  start += 1\n",
        "                elif multipliers[i+1] * nums[start+1] < multipliers[i] * nums[end-1]:\n",
        "                  score += nums[end] * multipliers[i]\n",
        "                  end -= 1             \n",
        "            else:\n",
        "                score += nums[start] * multipliers[i] \n",
        "                start += 1\n",
        "                \n",
        "      return score\n",
        "        "
      ],
      "metadata": {
        "id": "R0Wc4zv8X7Bu"
      },
      "execution_count": null,
      "outputs": []
    },
    {
      "cell_type": "code",
      "source": [
        "# needs revision\n",
        "# code link: https://www.tutorialspoint.com/program-to-find-maximum-score-from-performing-multiplication-operations-in-python\n",
        "\n",
        "\"\"\"\n",
        "Runtime: 5811 ms, faster than 36.59% of Python online submissions for Maximum Score from Performing Multiplication Operations.\n",
        "Memory Usage: 36.7 MB, less than 14.63% of Python online submissions for Maximum Score from Performing Multiplication Operations.\n",
        "\"\"\"\n",
        "\n",
        "def maximumScore(nums, multipliers):\n",
        "    n, m = len(nums), len(multipliers)\n",
        "    dp = [[0]*m for _ in range(m+1)]\n",
        "\n",
        "    for i in reversed(range(m)):\n",
        "      for j in range(i, m):\n",
        "          k = i + m - j - 1\n",
        "          dp[i][j] = max(nums[i] * multipliers[k] + dp[i+1][j], nums[j-m+n] * multipliers[k] + dp[i][j-1])\n",
        "\n",
        "    return dp[0][-1]\n",
        "\n",
        "\n",
        "nums = [-5,-3,-3,-2,7,1]\n",
        "multipliers = [-10,-5,3,4,6]\n",
        "maximumScore(nums, multipliers)"
      ],
      "metadata": {
        "id": "ZXMmjC-_cXA6"
      },
      "execution_count": null,
      "outputs": []
    },
    {
      "cell_type": "markdown",
      "source": [
        "##17-09-2022"
      ],
      "metadata": {
        "id": "dLXr29iIX3C7"
      }
    },
    {
      "cell_type": "markdown",
      "source": [
        "####336. Palindrome Pairs"
      ],
      "metadata": {
        "id": "sqaVxOlrX2_g"
      }
    },
    {
      "cell_type": "code",
      "source": [
        "\"\"\"\n",
        "336. Palindrome Pairs\n",
        "Hard\n",
        "\n",
        "Given a list of unique words, return all the pairs of the distinct indices (i, j) in the given list, so that the concatenation of the two words words[i] + words[j] is a palindrome.\n",
        "\n",
        " \n",
        "\n",
        "Example 1:\n",
        "\n",
        "Input: words = [\"abcd\",\"dcba\",\"lls\",\"s\",\"sssll\"]\n",
        "Output: [[0,1],[1,0],[3,2],[2,4]]\n",
        "Explanation: The palindromes are [\"dcbaabcd\",\"abcddcba\",\"slls\",\"llssssll\"]\n",
        "Example 2:\n",
        "\n",
        "Input: words = [\"bat\",\"tab\",\"cat\"]\n",
        "Output: [[0,1],[1,0]]\n",
        "Explanation: The palindromes are [\"battab\",\"tabbat\"]\n",
        "Example 3:\n",
        "\n",
        "Input: words = [\"a\",\"\"]\n",
        "Output: [[0,1],[1,0]]\n",
        " \n",
        "\n",
        "Constraints:\n",
        "\n",
        "1 <= words.length <= 5000\n",
        "0 <= words[i].length <= 300\n",
        "words[i] consists of lower-case English letters.\n",
        "\"\"\""
      ],
      "metadata": {
        "id": "MJ2QXAxuX1Kx"
      },
      "execution_count": null,
      "outputs": []
    },
    {
      "cell_type": "code",
      "source": [
        "# Time Limit Exceeded: 60/136 test cases passed\n",
        "\n",
        "def palindromePairs(words):  \n",
        "    def isPalindrome(listo):\n",
        "        initial = listo\n",
        "        final = \"\"\n",
        "        for i in listo:\n",
        "            final = i + final          \n",
        "        if initial == final:\n",
        "            return True\n",
        "        else:\n",
        "            return False    \n",
        "    out = []\n",
        "    for i in range(len(words)):\n",
        "        if words[i+1: ] != []:\n",
        "            for j in range(len(words[i+1: ])):\n",
        "                temp1 = words[i]+words[i+j+1]\n",
        "                temp2 = words[i+j+1]+words[i]\n",
        "                if isPalindrome(temp1):\n",
        "                    out.append([i, i+j+1])\n",
        "                if isPalindrome(temp2):\n",
        "                    out.append([i+j+1, i])      \n",
        "    return out\n",
        "palindromePairs([\"abcd\",\"dcba\",\"lls\",\"s\",\"sssll\"])\n",
        "#palindromePairs([\"bat\",\"tab\",\"cat\"])\n",
        "#palindromePairs([\"a\",\"\"])"
      ],
      "metadata": {
        "colab": {
          "base_uri": "https://localhost:8080/"
        },
        "id": "bySoUl8lX1Hj",
        "outputId": "87887f41-1e0f-4deb-c8c9-11f01c506142"
      },
      "execution_count": null,
      "outputs": [
        {
          "output_type": "execute_result",
          "data": {
            "text/plain": [
              "[[0, 1], [1, 0], [1, 1], [1, 1]]"
            ]
          },
          "metadata": {},
          "execution_count": 7
        }
      ]
    },
    {
      "cell_type": "code",
      "source": [
        "# Time Limit Exceeded: 103 / 136 test cases passed. \n",
        "\n",
        "def palindromePairs(words):  \n",
        "\n",
        "    def isPalindrome(s):\n",
        "        return s == s[::-1]\n",
        "\n",
        "    out = []\n",
        "    for i in range(len(words)):\n",
        "        if words[i+1: ] != []:\n",
        "            for j in range(len(words[i+1: ])):\n",
        "                if words[i] != \"\" and words[i+j+1] != \"\":\n",
        "                    if words[i][0] == words[i+j+1][-1]:\n",
        "                        temp1 = words[i]+words[i+j+1]\n",
        "                        if isPalindrome(temp1):\n",
        "                            out.append([i, i+j+1])\n",
        "                    if words[i+j+1][0] == words[i][-1]:\n",
        "                        temp2 = words[i+j+1]+words[i]\n",
        "                        if isPalindrome(temp2):\n",
        "                            out.append([i+j+1, i])\n",
        "                else:\n",
        "                    if words[i] == \"\" and words[i+j+1] == \"\":\n",
        "                        out.append([i, i+j+1])\n",
        "                        out.append([i+j+1, i])\n",
        "                    elif words[i] == \"\" and words[i+j+1] != \"\":\n",
        "                        if isPalindrome(words[i+j+1]):\n",
        "                            out.append([i, i+j+1])\n",
        "                            out.append([i+j+1, i])                        \n",
        "                    elif words[i] != \"\" and words[i+j+1] == \"\":\n",
        "                        if isPalindrome(words[i]):\n",
        "                            out.append([i, i+j+1])\n",
        "                            out.append([i+j+1, i])                        \n",
        "    return out\n",
        "\n",
        "#palindromePairs([\"abcd\",\"dcba\",\"lls\",\"s\",\"sssll\"])\n",
        "#palindromePairs([\"bat\",\"tab\",\"cat\"])\n",
        "palindromePairs([\"a\",\"\"])\n",
        "palindromePairs([\"a\",\"abc\",\"aba\",\"\"])"
      ],
      "metadata": {
        "colab": {
          "base_uri": "https://localhost:8080/"
        },
        "id": "lb4zuccaYLw_",
        "outputId": "dcb8d2b0-01b2-4f38-fc94-2dd4311a7be6"
      },
      "execution_count": null,
      "outputs": [
        {
          "output_type": "execute_result",
          "data": {
            "text/plain": [
              "[[0, 3], [3, 0], [2, 3], [3, 2]]"
            ]
          },
          "metadata": {},
          "execution_count": 10
        }
      ]
    },
    {
      "cell_type": "code",
      "source": [
        "# needs revision\n",
        "# code link: https://walkccc.me/LeetCode/problems/0336/ \n",
        "\n",
        "\"\"\"\n",
        "Runtime: 4798 ms, faster than 48.84% of Python online submissions for Palindrome Pairs.\n",
        "Memory Usage: 36.4 MB, less than 39.53% of Python online submissions for Palindrome Pairs.\n",
        "\"\"\"\n",
        "\n",
        "def palindromePairs(words):  \n",
        "    ans = []\n",
        "    dict = {word[::-1]: i for i, word in enumerate(words)}\n",
        "\n",
        "    for i, word in enumerate(words):\n",
        "      if \"\" in dict and dict[\"\"] != i and word == word[::-1]:\n",
        "        ans.append([i, dict[\"\"]])\n",
        "\n",
        "      for j in range(1, len(word) + 1):\n",
        "        l = word[:j]\n",
        "        r = word[j:]\n",
        "        if l in dict and dict[l] != i and r == r[::-1]:\n",
        "          ans.append([i, dict[l]])\n",
        "        if r in dict and dict[r] != i and l == l[::-1]:\n",
        "          ans.append([dict[r], i])\n",
        "\n",
        "    return ans\n",
        "\n",
        "palindromePairs([\"abcd\",\"dcba\",\"lls\",\"s\",\"sssll\"])\n",
        "#palindromePairs([\"bat\",\"tab\",\"cat\"])\n",
        "#palindromePairs([\"a\",\"\"])\n",
        "#palindromePairs([\"a\",\"abc\",\"aba\",\"\"])"
      ],
      "metadata": {
        "colab": {
          "base_uri": "https://localhost:8080/"
        },
        "id": "hfeXjEMwj8Rj",
        "outputId": "1d90b91a-bf32-4de7-a9c6-34c119149273"
      },
      "execution_count": null,
      "outputs": [
        {
          "output_type": "execute_result",
          "data": {
            "text/plain": [
              "[[0, 1], [1, 0], [3, 2], [2, 4]]"
            ]
          },
          "metadata": {},
          "execution_count": 17
        }
      ]
    },
    {
      "cell_type": "markdown",
      "source": [
        "##18-09-2022"
      ],
      "metadata": {
        "id": "tWk3psfHvOi0"
      }
    },
    {
      "cell_type": "markdown",
      "source": [
        "####42. Trapping Rain Water"
      ],
      "metadata": {
        "id": "mOukFtaBvOQ1"
      }
    },
    {
      "cell_type": "code",
      "source": [
        "\"\"\"\n",
        "42. Trapping Rain Water\n",
        "Hard\n",
        "\n",
        "22669\n",
        "\n",
        "305\n",
        "\n",
        "Add to List\n",
        "\n",
        "Share\n",
        "Given n non-negative integers representing an elevation map where the width of each bar is 1, compute how much water it can trap after raining.\n",
        "\n",
        " \n",
        "\n",
        "Example 1:\n",
        "\n",
        "\n",
        "Input: height = [0,1,0,2,1,0,1,3,2,1,2,1]\n",
        "Output: 6\n",
        "Explanation: The above elevation map (black section) is represented by array [0,1,0,2,1,0,1,3,2,1,2,1]. In this case, 6 units of rain water (blue section) are being trapped.\n",
        "Example 2:\n",
        "\n",
        "Input: height = [4,2,0,3,2,5]\n",
        "Output: 9\n",
        " \n",
        "\n",
        "Constraints:\n",
        "\n",
        "n == height.length\n",
        "1 <= n <= 2 * 104\n",
        "0 <= height[i] <= 105\n",
        "\"\"\""
      ],
      "metadata": {
        "id": "dCRBwVSEvPWY"
      },
      "execution_count": null,
      "outputs": []
    },
    {
      "cell_type": "markdown",
      "source": [
        "![image.png](data:image/png;base64,iVBORw0KGgoAAAANSUhEUgAAAS8AAAFBCAYAAAAmICnyAAAAAXNSR0IArs4c6QAAAARnQU1BAACxjwv8YQUAAAAJcEhZcwAADsMAAA7DAcdvqGQAADRsSURBVHhe7Z0PlBxVne9/M5MJ4a+PEGH595iMIqvhnFFcMZEdo0kEHiEm4B5entkzOYiwCSB6zFmTQ85bx3eMh+wxe1CyJG7UfTOPCaOSA4HgoibRMIsTozycNaDug8lkhywkBDCBkD/zp9/vd++trlvd1d1V1VXdXT3fT87NdFd13Vt169a3fvd21/c2ZBgCAICU0Wj+AgBAqoB4AQBSCcQLAJBKIF4AgFQC8QIApBKIFwAglUC8AACpBOIFAEglEC8AQCqBeAEAUgnECwCQSgKK115a++FZdEVOWvtbs7ra/PYBvU/f2msWhOTgE3SHOqYV9MhBswwAUNNM8MjrdXrkHhatG75Bu8wSAEA6CClen6XeZ/vpjyat/KBZnHY67qU115jXAIBUUGbkZSIXq8t2+PEV+v09T9DhvO6m2y177lt62drf5uZhvVd5ME63Tt47XUROdzz+uqz1JbsfKhXqDp5Hf/VtFuIvfsy8t3DKcfYBAFBThBSvzbQ4KwgP0HNy8a++l2bLqu5/ZoHYS9/72i/5DUdo315A0w7uo5dkXZZf0uobZDuXl77/DVr9jHnDedxxz43u+2e+Qd/zjKv9gu69bbN5TbTra9/wFSURrmvUfjjklwsASDflj3ldsIC+8VWJXEQgbqfv86vPfe8L9CGz7p+y3cxtpms2RC9ZgrPrPbeq9b0d8u6X/H6T9Z7F7T+s6IpF7dof6/ycz//0V7nRlyOgH6M1ns9upp+G+YLhg19Q2/5RRNgsAgDUDmWMeRmBYqZ9+lb6nHlN19xLtzljYVYX74oPWxGVxedmX6n+Xjpdd91mT79Q/XXee7jmE/SJC/RL3/UeREx12Yu7zSIAQN1QfuTFHH78n1XEpeCu3r1qLOp1euT70sVzIqBNrsBF5ZkhGjYvh/fZ3UI/3MjLSXXzBQMAoJwxLzNgfvAJutcZ5/qxHv/a9bXNajzsPe+RbZwISHcpy8MtX0dTH6NrP3qeWuNyJV1rupRO5KVS2IF3DNgDUNOUGXn9gdaa30jN/upn6UMXLKDlZnxpMV/0ly42g/nM7K9uKv/nCNwl7VXja5rPfW8d/ZXpRtp86IvumBkAoD5Jx+xB8lMJEUkWr2cwgA4AYGIZ8wIAgEoD8QIApBJMOgsASCWIvAAAqQTiBQBIJRAvAEAqgXgBAFIJxAsAkEogXgCAVALxAgCkEogXACCVQLwAAKkE4gUASCUQLwBAKoF4AQBSCcQLAJBKIF4AgFQC8QIApBKIFwAglUC8AACpBOIFAEgliYnXeGbcvAIAgPhJRLzEFn/k1Ij6CwAASRC7eGU44nrnnXdo8+bNdOLECQgYACARYhUvEaqGhkZ64YUXaMWKFfTss8+qZRAwAEDcJBB5ZWjzw5vp6NGj9MADD9CxY8cgXgCA2IldvAYHB+mJx5+gyy+/nPr7+2nv3r0cjTVAwAAAsRKbeIk4yVjX8uXLaXh4mA4ePEgHDhyg73znO3T8+HHzKQAAiIdYI68jR47QZz7zGbrnnnuUYH3hC1+g9vZ2evPNN80nAAAgHmKd7l+yki7ijh076KabbqKenh5asGBBdjkAAMRF7GNegqOH4+P4oSoAIBkSES8HRFsAgKRIVLwAACApIF4AgFQC8QIApBKIFwAglUC8AACpBOIFAEglEC8AQCqBeAEAUgnECwCQSiBeAIBUAvECAKQSiBcAIJVAvAAAqQTiBQBIJRAvAEAqCSReylrQ/Cf/9Bs9pVmGxvmlJG1ACAAAlSBg5DUmhtH8V8wFOWUaaHzczMcoAiamg2o9AABUhoDiJaLliJNEW2M0OjpCJ0+d4techWiY+gwAAFSGQOLVkBGBMuLEkdbIyaO0c8dP6eGHu+i3L/w7f2AcvUZQU6ghjYQSqA2CRV7SJWSBMm/4XxPN/NjH6SNXXkb/+ss9NKbELX+yDcfDHl72AIC4CTj1mQiT3HUaObHiNWbo97/7DW3/+dP0gY/Oodkf+SDLGcMiJUL1s5/9TM3f+O1vf5uuvfZaampqomnTpvF2jRAykDhHjx6lLVu2qLY2OjpqlpaP5CcTK9908010ycWXmKWgaoh4lWJ8XP3P/+T1SGZ05Bj/HcucOPpKZtkdSzJvvHUsMzI6ysvUBzMsXpmzzz478/DDD2feeuutDDemzNjYmFoHQFJI+5P04osvZq644ooM3zQzfMOMLUl+5557bmbHjh3Z8kD1CNZtlKhLRuVVaqC3jrxJ//LUv9DjP95JC/7739BZUyZTU2N+RHXGGWfQWWedpRKffLMUgGSRSH/y5Mk0Y8YMTxssJ/HNmC666CKVf3Nzs/oLqktARRlX3yVqeWqkd029gGa3z6brblhA186+hponNaE7CGoKvjHTyMgIvf3226obWW46cuSI6jI6eYPqE3DAvonPmBEnJVKN6o529plncEQl73EyQX0jN2fcoGuLQOKlTpk6cfJNozmRLFoNDY3UaMTMfAoAACpCxIEoLWRa0AAAoPJEFC8AAKguEC8AQCqBeAEAUgnECwCQSiBeAIBUAvECAKQSiBcAIJVAvAAAqQTiBQBIJRAvAEAqgXgBAFJJZPESWxBYgwAAqkUk8RLNylqEQMAAiBFcT0EJKF7j2SrNqAlmR+m1Q6/S0P5hekemP1MCNqY/AEAtkQrnE7m+tFexiJe6nsrSMJ2bylHy4fzU6zojkHjJnIwygZCaHZsbw8ljr9MLv99Lz/16J/1g61M0Os5rOOmacnG6luheauKrB8lHT4oCCmFsm2IkuXbcqOdslmuF9znDbxzvz0jwxnoOaJksmoUxQQGXPa7W9R1o9qBxroRGmTmogStjXOYJGqGGxsl06OV/o67HdtPdf3MbnSYzA7EUSlfSmT2ou7ub5s+fr5aJr7jqZk5QpJpPnDihZrNJpB4kz8ZJ5s3EZv+Bl+mWRQtpbHyc/v33v49F4uWcnXvuuXyTHqcf/ehHNHPmTLMmZuQcxt0+5BIfH+EX8bc7adenn346TZpU+bYXSLzkA+qwM2O6Hliljh19nbY+sY2u+cT1NP2iC9TdgvVenWRHvL75zW/Spz71KSVcMnnBRBUwafCnuHu9evVq2rt3r5qMJEC1h6Jx8uX03utvpvGybtnpp7mhiY6+NkhbN/5PGhkZpbdefyUW8RLkApWJPa688ko677zz1HmNB33Omk4/iy76y89S8+nnqiU6eooChxscSDSOi9Mx0dHXh+jgM728XHKNr93JtSzt+P7776crrrii4td2wHkbOeLKNCmB4quD09v0fx7qoSs/Mofef/l0PqnNxGvVzkvavn073XzzzdTT00MLFixQOUgxE1G4hLGxMRV13Xrrrapu5CJwTnxUnGYoQnj8nRP03r+4nv583m18Y5mYdazgCmngyOX464P0i66/o5OjY3T8zYPuyhiQ8yYzCU2ZMiXWG1Bj0yQaOzlOH7/rAWo6cxr3dGTSm2j5y3YZNSKkA4rjB1+g7f/4ZTpj6jTeZxmbjkfETjvtNHrttdfomWeeoauuuqri13fwSWdVt5E/yh9/+8hBenzbz+jdF1xIp51+Bn306o/QZHNBSnLE66GHHqJPf/rTE1q4BLlDHz9+nG677TZ66qmn6OTJk0rQYmn8Koprog9ccyN9gMVrTDXMiYkcuUwIc/LQi/SLh75Op0bG6B1uqzFdq1ni7kHIXBCZhmY67Ywz6bo7WbzO+C9qeTm7LLPaZ2S4h/fzxKt/oCfWf5EmTWbBHT0lBZpPRUfarkwJd+zYMdq9e3dVxCvgt40M75dca1KhZ50zjT675K9p3ty51P6xWSxczXHUR90jJ9wRLBn7iiONcddI56uy5UIa1EmdaMlBRxw5jbEcFfBBbjy556G8NKL+Cs41JjFT7jGGSTr2kv/ljW53YxyJjsa071IHsd2AIyLHGQJpFJwa9OCcE2nJTEKgSnDV5zYfGYmZaCnt+F1BfscZJLnU93UZULz0x0SjJAzVotXoihevk/cAAFApQiqODmjz7/UAAFBZIoZL9R2OAgBqn5DipTqI+iUAAFQRDFQBAFIJxAsAkEogXgCAVALxAgCkEogXACCVQLwAAKkE4gUASCUQLwBAKoksXvp5dWNOqN57HwkFAIAkCShePs8y8qKxTAP/lXUsXPIaAAAqRAjxsgVMv24yzhLyyFBDdM9aAEBi1G9QEVC8tEAJ2nwsQ0OD/49++vNdNMrvG9SySleSNlhLIsVNEnnmo8+LJOdsxZWSwK+ccpM6/DrB7/iCJqcauDWr/ytF7nUURypGCPHSSIQ1Pj5Kr778Ij37f5+jkVEzX2ORcnR0FjeOr1j8KW7EZz7J/HWOMtlCEzU18V8uL57UpFLc+yy5SXMRDzj/ciMmPvYm/iuJM1dlpQmpZ3UcsdSLPnfq/PH7JHFssZNIxQjoYS/oj8mnZZN3jh6i72/eSp///OdoivjXy3pToDN70KZNm+iG+TeIzNCZZ55ZcmeCwHpMI6dGaGBggE6NnFJ5l4+pAjFUZGFuPucCaphypllefv7jY+M0OnqKOv/2Hvrlvz7N+3+KRkZGSt5ZgqBMILmBts64mi7/i+vMkcR04cr5zIzTGRfPoMYp7+LqMDeqMpDLSH+100gnXtlLo++8RXHNKyhtUAwzTx55hX71sx/QKNfxCc6/9uGd5hvP6WeeRdcsuJ2aTj/HLI+GnoBDv5LXJ94cpl88uombdxNlxss/hw4yCYnMivXd736X3v/+98c4m5JG8hdv/EJEFK9xFq/X6H/3Pk633/F5aubljjDZ4vXAAw/Qdddfx3fCJpo6dapS6HKR3T148FX6y/Z2OvKnI2pZ+aLoVEEDC80peu/1X6T/+v6PGXEp/8KSfCaNvEW/+uF9NLzvedWAxse0Z3kcyPFLw2xuPo3fBTydAZB85VzPuXUNvevSK2lUtc0y8pf9lPbD/yaNj9CvfrCG/vOlAbWcCzIfKg85W+O8zyN8Y8uoiZAduYyvXuKH95ErRup7spxDiZTiqA9V39JTGlNCLvUSN3JNy2xKzc2iAvEh14yI1/DwsFmSj5zZgEiz4MqQSqaT9Oyzz9Jv9vyafr3nN8rU39ZAR0xEsP7sgj+jd7/73SqUjQNHUKacNoXOOeccLjsOEdDH1tjYTMf+9DadPXkSNXE0OWlSE6dG8zdq4m6MRKbNkzjCsOf2iac+BKkTSWN8sXKQF1vKNJxGJ0/KZKXOnVyPp0VBbceZ6Aky+OhZvDIc5Y43ncZlNSph9NuHMMnJQ2lWdgZ3XmD2vnbR+yjncJTrYmysiY+jwXNsYZOqizHOL8P5cOK3iZDUJByiIdI7KUaIyMuBP545Sfv3/ydXEjfFSc108UUXq7EWJQFcaJJTn0leBw8epE9+8hP09tvH6OWXXzZryqdh0hTuGZ2kT/z139H5f36NOSnl7jff+TIsgCNHaXfv/6ID+/6g7oTj3LD41OuPxEVMdazgY5dzOz46Qv9t+TfpnEs/yHUjU8c7QhYO1TY4jcuUXJxH8+g71N+7hoZf4kh09AQLGV9esey+OWfqpztabKPtcSXRB+4ePu+vHIK1JBxqY0Zy0PWha6DW6yGfYvIU4vYv2i2JK4LvyJe2tNL0lsvosksu4YhFKispbU8WaR5OE5ERAn2iJcnEUfqkR09O7lJnTp6aZO6FnLuc7HKT2kvZbz1LlByHmgJV+nxlIXmaWnV+F6jKUy/066jJbC/n0NS4ydWUU9OYfVW7ynssNyF5k3uMQZKqB2fCWpFtffxpqIWwhO426lf8T+qmQb5F40z4v8rPHhTP6ZDDcNEnXJ94ERctN9GTzkMiLA7eeZfd0hKJBlTrjyE5wuJEhvxejqcc7dI1avLlN04JLqbsqMkcu3P96v+koLTcVPX+ymFwfKveeY4vaMqeO8lBvzY5q9f1RCTxEkS0lGApARPxcteljfzTao6FV0jTLydl4a5jg7nAFInUl26m8SV7Hzn64n2WpVHI5sQKqLqeeYefW3b0pP8Zsi9SgH0Ynjdhk/2/u6zeqHS4BCY69XkdgSoA8aoYSURaAExcIF4AgFQC8QIApBKIFwAglUC8AACpBOIFAEglEC8AQCqBeAEAUgnECwCQSiBeAIBUAvEClQUPGoCYiCRe2n0joxIIysSuq+zRo8mAmAgkXtLexA5YDFLENE45ArBwibWsoIXM46GQKJVxsOCq4WLEYrGcpP8xDY3KTcEhDQGI4zmm3XPltdj8+B9nqST/9PE3UpP8Mc4SaagHUJsEEi+3gemLb/TEn2jLIw/RIz/6Af1gyyN0cmxUtMwXJ0KLM+XiWPKUkwQ7a1kilx2vLD8xapIJzl+KcMrRq/33p9pJyIzrv+NcD5mGSUqEeGWkJP+a5H8RLVWvMp8BC5rYNXOF+O0D0sROpQhoAy0NTDIb538N9NK//Zx+9eIx+sz8T1LXpgdp4f+4gy4492wOLrh5c6E7d+6km266Sc0edP311/sKTlTEC//QoUMqf5m55OTJk7H544uWnzq6j2bcsJLOa/2wqzJlotwsR9+hF36ygf50aD81TjpNltQ2cuh8LsdH3qEP3nAXnXXhB2KZwEH7eDXSpLHjtPepb9GRN16PrZ5B/eAEKvv27TNL8gkoXtJoWSAyY+ouvLfvURoavYBunHMV9T7UQ+3zbqZLz38XN0wtXj/5yU9o1apVSlzing5JZiuRPOMTLB+k4szLOJGbiQhZzQtXDrqJODUSde/t7fVrfXdNW22ApHEkSa7x3/3ud+q1H4HFS0UPMuqVaaIDLz1LW7b/lpbcfD19d+M/0ee/+Lc09ewpHHk1q08dO3aMXn+d76iyZczipeBCZDq1xAhSJVFQ12kKL1YjXvJ/OdKrW5GTA+cG8QJFkJvbJZdcYt7lE7jb6DRfNe5Bp+ixR7bQHwf/gz553Xz6cNuV1MjZVN7HHgAwUQkoXl5kk8z4CI1wINY8eTILmtxTtaw5RMgWAAA8FBu4jyRegpr1mQVLYi31DZKMd+lVAACQONHFi5MSK/VCOpTpG4gGAKSXMgapWLWMgmnhiqSBAAAQicjipaIs9YtpAACoPJG7jQAAUE0CiZd8YmRsLJnfbAEAQA7yA9Xmpib9U8ACBOo2QrgAAJVE9EZ0pxiBxAvCBQCoNKV0p4xvGwEAoHpAvAAAqQTiBQBIJRAvAEAqgXgBAFIJxAsAkEogXgCAVALxAgCkEogXACCVQLwAAKkE4hUbb9CjX/443b3tDfMeAJAkiYrXwPqPU9ssb1o3YFbGjCrry0/SYfM+Koe3faUiAiT7W7AuDj1Jd8dwLADUM4mKV9vdT9NA/wbq4Nftqx/j10/Tija9rv6YSjf9w9O0/sap5j0AIEmq022UyGLWV2jd+q/kRGSm67X+QV5vorX1z6tNaOBBfv8VevSQvNGfU+vU8o9TRw8v7l9Lc9V2zucE89lZD1LwoK+f1uWWL6j9Nsvt/Mw+SMqN2iSSc9blbTfs5qe3M/u6cC31ZY8FXVEA/KjimNdu6h6cTTs4GuteQtTd5XaT+nqGaO5Wjtq2rqT2nuXFu5ptd6qITvKgWStVfgP9f083na9XR6FvzS5qlfIlauzpMkL4PK1buJ9uV/lz2kjU4XTtzD7sWD1T3rmw2HWuaaFutc1j1DmLt9l4JznBZ/cakx8fJ63pZVHT0Zs67uyxlI7mKtk9B6BWqOqAfcfS+TTNvPawZKkWn/NbaDr/2TdcTuRhBKHfFY1StK9eZcTvQmplwVEM7KJu6qUORyCW9ZoV0ckKmTnOqOjuuTfVb/ccAE1VxSt1LNngFYl/KCC+DkqUHMFbRJ2tGxIRFUReYCJS0+J1eFsXRzszae7VOd2mgV7q7DevSxJlzMuHttlWFzIgEq3Zgnf3DLMiAP376YB5WQpEXmAikqh46YhgOQuQjCMtCh4R9CxXn527Zjd3rcz4Vdti6py1mzoXcp7LuMslY1wWbbespHbfAfu4mEErNrbo8k104wykO4Pysr+e41SCp48lm+wvAApx/ny6fYnbRcWAPQD5BJo96MSpEfMqaSRK0t2rUFFKjSKi1kmr3AF3+bZSDfoHH38DYCIzZXKzeZUPxrwSZNrVs4lMJKbSwl00dyuEC4A4qLHICwAAXBB5AQDqDogXACCVQLwAAKkE4gUASCUQLwBAKoF4AQBSCcQLAJBKEhcv28/K85iL7Y0V1DU0u02I5xQtr61Aj+Zkn4XUKegDztnjDFSGYJcT/HEm5yHsYI8MeY8laD17PMiCHk/ocxNzPYc+zyDtVCTyclxUXV8q8caSX5vrh4h3zOHXpRqcNM77iDrF68osKolcUMvI+Gk9Td20vPRFP9DL+6P3d2DjYupeVvpiFEGRx4Dy/LyKMLB+kVvO1tm0Y2GpcvTFvr3deJcFwrEDMsffupY6S4re89S1U/usaT+zEn5qQpRzE3c9G081yQtMDKrTbVRuC8azizkwtJuoZ1fxxiuNs5QFTQ6H9+wiWr3YPI7zBg0OEvXt7C8efXA5WZGVB6v1q6KIq0M4++fnaXvPYrrd2eaV/dRHvbS9aAVoIYruFqGPf/qlpfZzBq3I1vMMmhdEKCOcm8rUM6hnqiJeh4eHqL3lQn6lo4lNLSsDNd6wiCjqi5UjvVmLaHBOiMhAEJGddRldbN7GxqEh2mfyVd2grsuoM3A0FRY5dulORfETE5GdSa1yqpIkqXoGdU0VB+xfYeFiQVkqd9MWsywJ5OLtUrbOK642i4KgupxD1LkqZEQRggMsXHOHlqqopdUsix+OpJxuI3ebw43JLad9WVfZhKhAPYP6pCriNe3SFupbs1wJl4oEJBLRq2Ll4paZ1L1MhMt4gqnuWQDkglq4lqY7XmJxIw6r/WupQ4RLWf/oLl3StLUvJhocCjBoL8KlI7VEu2lJ1zOoa6oTeakxjsU0z3RhBn64lvqWzHatYqRRc1cnlAmfzzZiSdM+i5O6MPiC7Oql9jmzsnd4/c1V7jd98mWCXFD+40v+2xRHf0NoD0jrsaSOduNZppxh3foQ8rcphekeFomsBvq8x19oG/kyoaCnWkznJol6BhOLKnUbxZWUL165cDh1DK6kHfaFYiak6Bt6Rb8XzAWgpgVzfOHti85vm/PnU6d8k6nKyY8kJAKUWYwGrU0G1mvn1+5let8keQTRZxvn63txUnVcYO1v6CQCJBqiQetCbLt7A5FThnSbcny+/LZxfiYh07xpx1b74jaThXgiKyNOJm1qeSwnkvLZZuBBlb9zHCrZP7GI6dwkUc9gYpG4n5c0OI+baCB0t0W+Sg++XYRt5KJTP9kI0W2Jso38lED9ZCOEEWGEbUTcOiicC234bWr43AhSb32z68KJF9SAn5fj6x6oqyGNj6OkUA09wjYqigl5cYTfRi5a3iaUCEXYxkQ+oUQoyjY1fG50OVJv5U9JB9IBnFQBADULnFQBAHUHxAsAkEogXgCAVALxAgCkEogXACCVQLwAAKkE4gUASCUQLwBAKklYvMyvxeWXz5IC2rGoX1gHtYYuhfkleVzPwDnP1wV+YgAAkAiJipdyJ6CV2lJYLIKDWArXMCJcyn/L+GMFfkQGABA7yYkXRzybeog6lhqTufNn0dxZRN19HH3lREPZSMs8n6ZcDfrXGjcI45yg1j1I6+Sz9nInunOiOvU5WWeWK6cDLtdxL7CiP1VuYNuV56lrTQt144FfAGqCCo55TaVWsQstZoZnJlFQE0zMMhFbv/1wbi91y4PE6jO7qfO+Yl1LM/mEmRSiY6OOliK7DRjr5sE88QQAVIOUDdjPpM5btPgov6v+/XRAvYuGTOjgFcciiAsrR4OD7UYEN7aUEE8AQJJUXrxaW9LpVX7hZdTO0eBSx6NG3GDLFE8AQHSSEy9njKvLRCfOGJhjfexglodDxp92E9nW0Yo3lNVzUEKNeSnf+V3U53wWM94AUFUSjLxkzGkDRydm4H3hWqLVj2m/8vPn0+1LzCD6wl00fYl3EtG2W1ZSe+6AvWI3dS6UZctZOBzraC5n6WJjC7yIdrQu9k5vZpeVM2Afjhm0Qk0Oa/IRs8CwcxUCAGIjPWaE8i2i8noP4a4JAEg1MCMEANQdsIEGANQsiLwAAHUHxAsAkEogXgCAVALxAgCkEogXACCVQLwAAKkE4gUASCUQr5A4TqppNlUECWE859A0KkOi4mVbJutUhgeWMTAsO58A6P2usUboOX43iYjK/lbCkloeZK9N0bbtxhM+b3Ie4rIoB2VRgchrMXUrU8EQ3ll+nD+f1nMeO1Z7H+KuNNNu/Ht1LOoB80pijn+gfwN1iK/ZVl2nFd+PmsQYT6q6qSLKTPPOHKcTkBRV6Tbmdr1caxp9B717/YNulBHABUJv76ZsFFLQOvp5Wmd9PrvcRDdzxW6HeqnDrNf76d3GG4HYd35OHktqv/INan1cE3n0u/tn15knYgsSleQcS26UMezmZ++3J8p2tlFle8u0ozf7vAWtg/DbeI/HLtuzvR1RmfPi3cbkI7biWccTJw+7jNw69pbvlsntict7tFDb8EHVHV8bOp8n9fkuus+MHNd6Lqfg/qUYebaxFMdPnoqUhrd8KfO+q2Za6f7MbrNu9zrzfvjRzG1XfSmzeViWv5rZfJcsN+/VupmZr+/JzdP5vE/ac7+7Xr3m/NY9x+tM3uq1dxu1L3c9mhk273UZ7r56ksnT3ifP9mafb9vyaunyzXr1WWdZyfRc5us5x++tE3u9vLaOQ8qzjjNIkryd/fPWk1VOTr5qf8xxyjZuXbn7Y+fr1I1dp36p9DY5x8spv3yzz3KecvbZ/zzk5JmzXdHPcpLy/fdZPuuus+usUMrWv2o3chz55elkLc+5hoKUU0upGBXuNrohddvdj1HnLI5ulM/XKm93cslS/V4MAPnPvuESd1g7uliWa0boWkfb2JGCmvAjMs/Tdt6+fc4sz0QjfUOvqLWFylcYz/44ZiFqz9bhhdTK5SvEMNGKIPPrxh87utFRqEt2QhWaQfOW7KZBPszDw0Pu8TPTrp5N7WaugrZ2Pv8y6Yog+6MMJN+gvp27qW/NIlPOIurs1x8pTJRt9LnJermJD5xZo84TOeaSkjfR3KvNefBEq9Y2oXmDBgdnuvly97Z9zkyrPS+m2825n3Zpi/pbimz9O9eIQ7F9thyA7XOTdqr4beMrNFiy8QWBw28J5ZfoiTkGNi42y4vAIbZclM6kHGrCj3rFqRcnlTJQ5Lrp6HFvOIXHGPWF2XqheVuItsXUObhLdVUG+oYsIXfH7ZxUevwuyjb2zVOSM+4qJpYttGMPC8mhftrR6ogBd/Pu08aZ+vNVHkcLRIh9lrkYzMu0UzXxGljPdwe5sLauJOK7qXcMSXN4WxffQew7V2HaW+Qq4pMY2AbaXHh8xwpvQ22jI52+nf1mnIcvBBblPLtrP2Id8/JBfPZ7ukqOpeSRtbc2dtt+qONsoVa+4CVqyB4/M/BDvplk5yqQaGOItg9wFDTId30jHO1ziDp/GMbVNso2Eh320qZC9cv1M533e2DPLpqec76mX6rbnG6DOQSeu0BmzNqtBVKh69PJO26K7rNhoK/XEyWnmQqIl9VtMYOS0i3p6DHdKcumOStgytJZd1k6Npo7pbnQdTfG2EGrwcoZtJSjA92dWESDc/RUZ0WRaGCWyWPhfpqbE11Mu3Ep37lyBuydsNx0vXRXRAY/i9hdV50ZtEJmOXKsqzmVFEqpG3IGpHdRa07dZLtgC3fR3K1mGIC7v92t7iB2x6Bj0a2Rrsq+Zctpn921vHEVR2T6POtUeiC58DbOlynSXTLnzQxkt929gaZnu5rucg2LG+93x5oWmpc9X9pW3DnOTuIbgFmjUO3VbRu6PoOWz3WQSNsosc/WFwwdtKFuJkuuMTNC+WZmEXW2ckSGyV0BKB+56d7HEWtK51uAGSEAoO6ADTQAoGZB5AUAqDsgXgCAVALxAgCkEogXACCVQLwAAKkE4gUASCUQLwBAKqmYeFXK7TNd6MdK/J7rDIc8mVDaDyof2S7BZysBSJDKiJe4OOycTZ3ZZ6rkovV/ls22qin7opZHIzzPslWBiuzDVLpp1WzasbCOjOaqjDL+i1qZ8hxuSRPNwtcACEYFxItP0rIh6lwV7Nkqx2a5rm1qssygFXyssTyoe/586lw9RB0BnGdd5KHyePzEAKg0yYuXMqDLMU4zDGajrCBdHt3FcaIyrzuAN2LLXacxT/6XvLhzyglqqWxcL9x1Jh9f2+DiEWahYxlYz/W0zS0nt7un3DB6tHdWSaz9zc3HU36g6EBHEY/6HpO3Pp3lUsa6bVZ9ZutZPl/4OG2jRM9+e+rfbk/+5atz6WePbPIRg8qsg4ZVBwXLt9tGQNNHIe8aUPnYda73v2QU6Dl++/OFzk2Reva0c3e5ahd510OQ9pEQ8mxjKfzsWYMmrw2vk7wWuH72xP7buclj21vI3jhr2avtd/1tfnOS5OVrk5tjuWuXqax2/ex4zTq/fTMp7zhzjsW27c3aAMs63zKD2SnbKd/+uJC1cLGUcz6tY/Yen3xO2zCr48qWY++3fu2eA3d/vPuau41jfe1NhcrX9eeuk8/Z9ZB3XjgVLt/KV9YVbEN2yqkz67x7yi7RfvyTW2d55WTzK1zP3rzsuvV+Jr/txJ+KUcVvG10LXGWaF8DgrZA9sRisufbEOaioZxHtmPNYsO7RhZdRu/iJ5UZvRSyVD+/ZRbR6cSyzxhSzVBayx2kssr2I+Z15GRkxV5TjtKOXIFjnU2Y6UhYsRWyYmfZsneXaI9vW2dK1Ft+wYjbQ2vRPfMu8EUrx8m175ItbSs1KVaT8Ir2L4vhfA7Z1trSt6YXato0nWso5Tt9zI/jVs2B6KbnHKf5nS3ppu4nc+na2uPlWgSqKl8WhIdqXde8sAIfFweyJc+AG2rnE9pQvgZxcKWMVUaecPFvEwloqV5yA1sxF0eNgA/1cAfdJ4w0rYrkUsmH2cmCogGOrh8I20G136/fz+vRF54pYsPKDEcWGOiD2NZC1zmaBGJqdFdjCcBfwvvisq7MuxyovmWvCrGDabllJ+0RYD/XT4Jx4bthRSVy8PBMwFEDuLq5tcBEK2BPLXbO7y2+cS9PODbubOJoKM5itREwcUk1EWMRSWdkgr+kt3PcPbBts8ipoqVwKmRdAWzOXjxaxbjPJRjRK2DBnkQiplN13MBtoETG5sekoLmj5/ngnfilSvorWnbFG+YIq+JiXg/cakLKGaPs2FoiW4JbNQWygg6Jt1ZmBXu9EJzJxCQvro3v2U2sAe/YkST7yKnjRu10w+RmFYxvsdA3dAVNz5y9iTyzfUNo2xH4D9mq2IrEQ9h3Md/EOVottr3N3KWKp3HYnXzBDbpfSHsRkEcy3DS52nMUtlYuhGq2anac0znFK99vpCqloJWewVsovfecvTDEbZrcLtpzIsfsuQmkbaJ3mrnG7M8VtoAsjEYbMrWCXU7B8zzneRfOCTAKj8L8GBGWdvYbbeSCBKGEDHRLPsfdd5om8HGHt3MmCHctNMjqVMSOUb0K6LqMdKbWiTQUiOgv30+0pmbFZxLOTVuFnGoWQa6Zvdk3aocuNd3t7jF3mIlTfjFAikzm7qDNi+A5KIWMe1oQYIL04P3mQm32NCZfTW9jUUhsTzMAGGgBQs8AGGgBQd0C8AACpBOIFAEglEC8AQCqBeAEAUgnECwCQSiBeANQk+qkB74PmwCZx8bIftynofxTwkQ13mxAeQrbPUaBnGwv4P5Uge5yBn5+0ywn+8LPzQ0FPXRbEeyxB69nziFTQ4wl9bmKu59DnuTBOHWdT0PZZANnn/POlfbagTdGpSOTVbp52dx8F4RO3UH4Rrp/Ml1/fzy3V4KRx3kfUuXUltZtFJZELahllXQXk4eySF/1Ar7LPkc8PbJTnxUo3MGns8qhLYKcLZmC9tulR5WwNYuGsL3Z5LCO4y6zjEGGOv3VtgKccnqcuec5ObbOBOnqWlxaWKOcm7npuuzObV7lohwpxZjAuElV5rC1Gl906pTrdxhz/I2WHUsoBVBpnyEbk9dkSuxjyODb4wuVkRVYeKteviiKNPdwzeuKiYHksvbKf+sjxSSqEFqLojVkfv+M8UBi+aLL1LK4M6kVxIpybytRzvEgE5e/+WgATjdoPv+dG2X5uwnbkm3vj8ETFgSM374PrTp7eCNPOKydit4/T7jFVOXKsingpwz1luaEraVPLyrKegi+EiKK+WOXkLaLBOSEiA0FEtpTPWBQs7ybVGLsuU55jyeA03EXU2bohpPhpq5ry/MECkFQ9J0D3Gnn43YlK/S2SshhvOIkUnd6H10+slzqHlqrlO1a7djuF53EQK6gWy58syLOsco2Ja4ezTb4HmkobyZ3/QGxwuK1k12WfsZQek3P8Zpsyu9TlUMUB+1e4UllQlsrdtMUsSwK5eLuolcP/FVebRUFQXc7gE4dE4QAL11xpvBy1lG2AWhDd/ZDGFs7TTDf6fatXlWHeF4AK1HOcuO6v4jirXpQBd5eNMIiPW2kiuNwe6qcd5G9r5InibA+yCG7C1aAq4qXN+5Yr4VJ3AYlE9KpYUSaFy0S4zN1Odc8CIBfUwrU0PYDHVCTEwrl/LXWIcKnGq7t0SSPGkGRZShdGhEtHaol205Ku57ojRpdbrvvONTJO6URR1lhhStyEqxN5qTGOxTTP3A2UW6htoieNmist2DdqBp9tlP/7LE7qwuALsquXbH94fefJbQASGssF5T++5L9NcfTYgj0+oMeSOtpNOK7cKt36EPK3KYXpHhaJrMTr3z7+QtvIlwmq2+BnyRLTuUmingsSZZ9jJrANeSBCuNyaG2WXb0NyXHf1tZFHCDdhTek2GCdV6jaKKylfvHKgnPLcQs3kEp4TbhqgmkrMCV3tSvLbhiu/U77JVOXkRxI6VPc2AOXfzX/dSRtyBNFnGyf8VpOCSLjNr+2BVj25wxANWiddHD7JKUO6TTleXH7bOAOs4r6qB4Dti9t0YzyRlWlMJokPkzeS8tlmQOYK4L/mOFSy77wxnZsk6jkudD3L/ulJPcr9qYSeks6pz9KCbJ9nj8uuU88mBXO55Wtt60raZ9WzqjOP++t9RHPcyMupZ50Cugkr/NpgciTu5yUVEd4xU3dbAs/4o4iwjTQG9ZONEN2WKNvITwnUTzZCmAVG2EYafQcViJgKEH6bGj43gtRbjTqQTgSitMFiVN3Py/maOFDYLo2Po6RQDT3CNuruFvLiCL+NXLS8TSgRirCNuSOHajRRtqnhc6PLkXqr7iDyhCVKeyoTOKkCAGoWOKkCAOoOiBcAIJVAvAAAqQTiBQBIJRAvAEAqgXgBAFIJxAsAkErqSLz0ozBJPC5SW0yU4xTkWKvrGVU94jvP8pRLNZ/rTIoKiJf9fF0VGqL88rdCnkOeZ8Iq9HBqpZFfv1dGOOVJA/Ghcp8yKHwRmqcSqtXGIlMZcZ524yqau3NR3d3wEhYvOTnaS0tbaIR4ti802rcqnNlenOQYxSX2iES1j7MyHN52XwjzRMcqRqyb64U4zzPXzyp5OLu+othExevwtq7QZnbeO7t1Z5IIav2TvndYO+JxtzV3Y3E66F9rnCWs5yudZ+FUCmi94tkmpyFY7qhB0FHEk25Umo0O7SjCXl7oOPXy0PbEudFodlmB8s2xu04Hkqw6sOsmZ5/9j7MYb1DfTqLOW/xuAP1uXgGi24LtSSiwz4XJqRu7fPNsn16X0zZ82o16flM5V1jmfia/QudZsNfZ+zywntvwNrecvAjVuEgUtxo3eI7FzkuOv3A5+pgKlJ8E8mxjKY6fPBUp7V43M/P1LY9mbrtqZuZ9ktY95/s5O6lt9jjvn8t8/ar7M7vl9bDOx1knn7tty6vZ7fK3NUm2u+vRzLC97OSrmc13fSmzedheViKp8s2+SNpzf+Z9Kl/ZR3N82VQ67+EtX+LPufn57jsn+Vyp4/TmJftTqnz+jKmTbF5yPD7nJ7f8IHWs9sfkFfQ4Pcn3nOXmJecwNy+rvZjkLS+nPRXY54KpQB3llZttG/w6t914Uv7+2imvrux8Odn7LJ8tVWagY8xL9rWi69zNw91/ydttJ37nJloqRoKRl3YH7ZY7qOpKPUadgwFmoinGLNe/SPtdRWUqtbZqr6bA+yMurLZhohizKZM2Hd4PyMw5vH961p1gbgiupbD4e7ldBPsOpryrAhDanljt+/O0fZDrcVjfJfW8AuHLl4lO7Og2d5tCxxkFN6+p1D5nJu0z+x6WUvvsSwR7ZO8kMOWh5n6wzCSV2ablndWx1LiaGv+0XIJZTQv2OPUivn7NYsVMKyKWti9DQRIp25OM5G6TDAmKlwiEVaFlNra4cSYfmNenT1JZohon3MXo6FmcHTsLM51acETghmhwYIhozlJqHeqnAb4w1GQlEct3J5gwqQK2KO4EK9EIvc8psUcuhDvxTXGUUWT2eDjoCOTVb6aJs+og6XHZRMe8lId8nzMuoNU5SGNzBM5x2ywbx8bWBxExuUBLiqq667rTs8l4XmIz3mTzlS8BgkVe4dCR52AfUevVM6iVdtEmPjdZSpSfW1cSAdCaXu84TzmcP4vm8j71FR2HDD6zkV97KmufQ9gj6/kaipXjdcsthsrLmrpP2ae3tgQWyTBinxU5ZVGuXxZGAhMWdDP7UaVIVLxkCic1Y40JJcWQrpQat92ykhuVDj+DTonmdHPybHMFj92tM5Boh8XSZWhx51AsBOfTuXoom49s053E3bVtMXWS053ZRa1W5FP0OEOibiw9+5WHeVs7XxT9RgiKlC/Y5yc7MJ1TN5LKi2QLXwxu10R+RuF0z53zaQ2Am6ioYHuKsM+ewfKg9shtd/LN0S7HHsyfQUtlyjNnOzNgX/A8c14ycbDT1c2zTy/GoSdpE0fU9jwJhfCc477LAkVe8nMMGRbSxygp50uLBIAZIahR5JstPTVe0t2P+ie9dQkzQpBC5LdbMklJ8nfwekd+Mxek15M2EHkBAGoWRF4AgLoD4gUASCUQLwBAKoF4AQBSCcQLAJBKIF4AgFQC8QIApJIaFS/9uEfNPCwNAKg5EhUvbURX4oHnqpFjTFej1HYdAlA9ajTymhhWxwCA6FRAvArY9hawzS1ogSufL2ADnesSIalYtKKf2ve34FWWvQXKsU36cvfZ14a56D57LYU9x2rZBgc1IwRgopG4ePWt2U/zHFOzrJMqi83C/XS7Y1y2kajDWJiIjY4s614in8uhZ616Ml6v76VNRqDEp2mfYyy3cbFyXO0sYnGjjQhlsgbXdM9jRNezi2iVXi52Jk45joGhLof32RLjbj5OfTw5jrHWPitrlKztiX7KX+cnDyAb2xMRvGWcnyknGTNCANJP4uLla9tbxDa3KLHZQJdgydKsjbOI6XojhB4/p5x9LmhPbO2za9srRnqOV5Mk1yQvTttgAOqZio55eZwcY7TNFSHLmtQtG6LOVQmYBHJE1LmGXKtbifAKIMfpi/jgm5dkR30qBfO9BwBoKihelm1vEdvc8JhpsrL+2WFEILgFr6ZFOY+q8aquQtGiPs65V+d3Wwf6ejkqkwkUZtA8q9tr47H6VYKZI4TSrWSRxjeQYKJTgTEvP9vewra54a2OjWWwlVcwe2R/C96CeOyk7yOa4428/I+TsWao6aAN2S5o290baHp2G07OZA62DTMXczvGvADwpQ7MCOWbxl00z5qNWwRwU8tjWaFIGhkL66RV+eVJlMQC1FmDM8kAkAbq3IxQd8HsiRTsCAcAUJ/ABhoAULPABhoAUHdAvAAAqQTiBQBIJRAvAEAqgXgBAFIJxAsAkEogXgCAVALxAgCkEogXACCVBBKvxkZoHACgspTSnUCq1NzUBAEDAFQM0RvRnWIEerYRAABqDYRTAIAUQvT/AVFRa+5NPCTFAAAAAElFTkSuQmCC)"
      ],
      "metadata": {
        "id": "GwV8kXmkwEbO"
      }
    },
    {
      "cell_type": "code",
      "source": [
        "# needs revision\n",
        "# code link: https://zhenyu0519.github.io/2020/06/09/lc42/\n",
        "\n",
        "\"\"\"\n",
        "Runtime: 245 ms, faster than 11.88% of Python online submissions for Trapping Rain Water.\n",
        "Memory Usage: 15.1 MB, less than 49.50% of Python online submissions for Trapping Rain Water.\n",
        "\"\"\"\n",
        "\n",
        "def trap(height):\n",
        "    if not height: return 0\n",
        "    size = len(height)\n",
        "    area = 0\n",
        "    left_max, right_max = [0] * size, [0] * size\n",
        "    \n",
        "    left_max[0] = height[0]\n",
        "    for i in range(1, size):\n",
        "        left_max[i] = max(height[i], left_max[i - 1])\n",
        "        \n",
        "    right_max[size - 1] = height[size - 1]\n",
        "    for i in range(size-2, -1, -1):\n",
        "        right_max[i] = max(height[i], right_max[i + 1])\n",
        "    \n",
        "    for i in range(1, size-1):\n",
        "        area = area + (min(left_max[i], right_max[i]) - height[i])\n",
        "    return area  \n",
        "\n",
        "\n",
        "trap([0,1,0,2,1,0,1,3,2,1,2,1])        "
      ],
      "metadata": {
        "colab": {
          "base_uri": "https://localhost:8080/"
        },
        "id": "Xfan-o4lvPx5",
        "outputId": "a3a239e6-0278-4335-8480-1a8288f2ebc9"
      },
      "execution_count": null,
      "outputs": [
        {
          "output_type": "execute_result",
          "data": {
            "text/plain": [
              "6"
            ]
          },
          "metadata": {},
          "execution_count": 1
        }
      ]
    },
    {
      "cell_type": "markdown",
      "source": [
        "##19-09-2022"
      ],
      "metadata": {
        "id": "IRaUxR393fqJ"
      }
    },
    {
      "cell_type": "markdown",
      "source": [
        "####609. Find Duplicate File in System"
      ],
      "metadata": {
        "id": "e_1Wr0RH3fb3"
      }
    },
    {
      "cell_type": "code",
      "source": [
        "\"\"\"\n",
        "609. Find Duplicate File in System\n",
        "Medium\n",
        "\n",
        "1291\n",
        "\n",
        "1477\n",
        "\n",
        "Add to List\n",
        "\n",
        "Share\n",
        "Given a list paths of directory info, including the directory path, and all the files with contents in this directory, return all the duplicate files in the file system in terms of their paths. You may return the answer in any order.\n",
        "\n",
        "A group of duplicate files consists of at least two files that have the same content.\n",
        "\n",
        "A single directory info string in the input list has the following format:\n",
        "\n",
        "\"root/d1/d2/.../dm f1.txt(f1_content) f2.txt(f2_content) ... fn.txt(fn_content)\"\n",
        "It means there are n files (f1.txt, f2.txt ... fn.txt) with content (f1_content, f2_content ... fn_content) respectively in the directory \"root/d1/d2/.../dm\". Note that n >= 1 and m >= 0. If m = 0, it means the directory is just the root directory.\n",
        "\n",
        "The output is a list of groups of duplicate file paths. For each group, it contains all the file paths of the files that have the same content. A file path is a string that has the following format:\n",
        "\n",
        "\"directory_path/file_name.txt\"\n",
        " \n",
        "\n",
        "Example 1:\n",
        "\n",
        "Input: paths = [\"root/a 1.txt(abcd) 2.txt(efgh)\",\"root/c 3.txt(abcd)\",\"root/c/d 4.txt(efgh)\",\"root 4.txt(efgh)\"]\n",
        "Output: [[\"root/a/2.txt\",\"root/c/d/4.txt\",\"root/4.txt\"],[\"root/a/1.txt\",\"root/c/3.txt\"]]\n",
        "Example 2:\n",
        "\n",
        "Input: paths = [\"root/a 1.txt(abcd) 2.txt(efgh)\",\"root/c 3.txt(abcd)\",\"root/c/d 4.txt(efgh)\"]\n",
        "Output: [[\"root/a/2.txt\",\"root/c/d/4.txt\"],[\"root/a/1.txt\",\"root/c/3.txt\"]]\n",
        " \n",
        "\n",
        "Constraints:\n",
        "\n",
        "1 <= paths.length <= 2 * 104\n",
        "1 <= paths[i].length <= 3000\n",
        "1 <= sum(paths[i].length) <= 5 * 105\n",
        "paths[i] consist of English letters, digits, '/', '.', '(', ')', and ' '.\n",
        "You may assume no files or directories share the same name in the same directory.\n",
        "You may assume each given directory info represents a unique directory. A single blank space separates the directory path and file info.\n",
        " \n",
        "\n",
        "Follow up:\n",
        "\n",
        "Imagine you are given a real file system, how will you search files? DFS or BFS?\n",
        "If the file content is very large (GB level), how will you modify your solution?\n",
        "If you can only read the file by 1kb each time, how will you modify your solution?\n",
        "What is the time complexity of your modified solution? What is the most time-consuming part and memory-consuming part of it? How to optimize?\n",
        "How to make sure the duplicated files you find are not false positive?\n",
        "\"\"\""
      ],
      "metadata": {
        "id": "7ystB9c53gW3"
      },
      "execution_count": null,
      "outputs": []
    },
    {
      "cell_type": "code",
      "source": [
        "# needs revision\n",
        "# code link:https://dev.to/seanpgallivan/solution-find-duplicate-file-in-system-1ofi\n",
        "\n",
        "\n",
        "Runtime: 172 ms, faster than 23.53% of Python online submissions for Find Duplicate File in System.\n",
        "Memory Usage: 29.5 MB, less than 79.41% of Python online submissions for Find Duplicate File in System.\"\"\"\n",
        "\n",
        "\"\"\"\n",
        "\n",
        "def findDuplicate(paths):\n",
        "    contMap, ans = defaultdict(list), []\n",
        "    for pStr in paths:\n",
        "        sep = pStr.split(\" \")\n",
        "        for i in range(1, len(sep)):\n",
        "            parts = sep[i].split('(')\n",
        "            cont = parts[1][:-1]\n",
        "            contMap[cont].append(sep[0] + '/' + parts[0])\n",
        "    for v in contMap.values():\n",
        "        if len(v) > 1: ans.append(v)\n",
        "    return ans"
      ],
      "metadata": {
        "id": "YRDaqCT73gzQ"
      },
      "execution_count": null,
      "outputs": []
    },
    {
      "cell_type": "markdown",
      "source": [
        "##20-09-2022"
      ],
      "metadata": {
        "id": "g8NM8tpQnAuU"
      }
    },
    {
      "cell_type": "markdown",
      "source": [
        "##718. Maximum Length of Repeated Subarray"
      ],
      "metadata": {
        "id": "fHbsB_HinAfs"
      }
    },
    {
      "cell_type": "code",
      "source": [
        "\"\"\"\n",
        "718. Maximum Length of Repeated Subarray\n",
        "Medium\n",
        "\n",
        "5581\n",
        "\n",
        "140\n",
        "\n",
        "Add to List\n",
        "\n",
        "Share\n",
        "Given two integer arrays nums1 and nums2, return the maximum length of a subarray that appears in both arrays.\n",
        "\n",
        " \n",
        "\n",
        "Example 1:\n",
        "\n",
        "Input: nums1 = [1,2,3,2,1], nums2 = [3,2,1,4,7]\n",
        "Output: 3\n",
        "Explanation: The repeated subarray with maximum length is [3,2,1].\n",
        "Example 2:\n",
        "\n",
        "Input: nums1 = [0,0,0,0,0], nums2 = [0,0,0,0,0]\n",
        "Output: 5\n",
        " \n",
        "\n",
        "Constraints:\n",
        "\n",
        "1 <= nums1.length, nums2.length <= 1000\n",
        "0 <= nums1[i], nums2[i] <= 100\n",
        "\"\"\""
      ],
      "metadata": {
        "id": "0BIIjNX_m_-d"
      },
      "execution_count": null,
      "outputs": []
    },
    {
      "cell_type": "code",
      "source": [
        "# needs revision\n",
        "# code link: https://walkccc.me/LeetCode/problems/0718/\n",
        "\n",
        "\"\"\"\n",
        "Runtime: 6446 ms, faster than 5.30% of Python online submissions for Maximum Length of Repeated Subarray.\n",
        "Memory Usage: 33.9 MB, less than 73.88% of Python online submissions for Maximum Length of Repeated Subarray.\n",
        "\"\"\"\n",
        "\n",
        "def findLength(nums1, nums2):\n",
        "    m = len(nums1)\n",
        "    n = len(nums2)\n",
        "    ans = 0\n",
        "    # dp[i][j] := max length of nums1[i:] and nums2[j:]\n",
        "    dp = [[0] * (n + 1) for _ in range(m + 1)]\n",
        "\n",
        "    for i in reversed(range(m)):\n",
        "      for j in reversed(range(n)):\n",
        "        if nums1[i] == nums2[j]:\n",
        "          dp[i][j] = dp[i + 1][j + 1] + 1\n",
        "          ans = max(ans, dp[i][j])\n",
        "\n",
        "    return ans\n",
        "\n",
        "\n",
        "nums1 = [0,0,0,0,0]\n",
        "nums2 = [0,0,0,0,0]\n",
        "findLength(nums1, nums2)"
      ],
      "metadata": {
        "colab": {
          "base_uri": "https://localhost:8080/"
        },
        "id": "L_aeJYmWnOo6",
        "outputId": "705c6f68-d5d9-4700-d614-047cd7d3e11b"
      },
      "execution_count": null,
      "outputs": [
        {
          "output_type": "execute_result",
          "data": {
            "text/plain": [
              "5"
            ]
          },
          "metadata": {},
          "execution_count": 1
        }
      ]
    },
    {
      "cell_type": "markdown",
      "source": [
        "##21-09-2022"
      ],
      "metadata": {
        "id": "Ocq3UeW2nn_3"
      }
    },
    {
      "cell_type": "markdown",
      "source": [
        "####985. Sum of Even Numbers After Queries"
      ],
      "metadata": {
        "id": "EnQMgixtnnxr"
      }
    },
    {
      "cell_type": "code",
      "source": [
        "\"\"\"\n",
        "985. Sum of Even Numbers After Queries\n",
        "Medium\n",
        "\n",
        "1745\n",
        "\n",
        "307\n",
        "\n",
        "Add to List\n",
        "\n",
        "Share\n",
        "You are given an integer array nums and an array queries where queries[i] = [vali, indexi].\n",
        "\n",
        "For each query i, first, apply nums[indexi] = nums[indexi] + vali, then print the sum of the even values of nums.\n",
        "\n",
        "Return an integer array answer where answer[i] is the answer to the ith query.\n",
        "\n",
        " \n",
        "\n",
        "Example 1:\n",
        "\n",
        "Input: nums = [1,2,3,4], queries = [[1,0],[-3,1],[-4,0],[2,3]]\n",
        "Output: [8,6,2,4]\n",
        "Explanation: At the beginning, the array is [1,2,3,4].\n",
        "After adding 1 to nums[0], the array is [2,2,3,4], and the sum of even values is 2 + 2 + 4 = 8.\n",
        "After adding -3 to nums[1], the array is [2,-1,3,4], and the sum of even values is 2 + 4 = 6.\n",
        "After adding -4 to nums[0], the array is [-2,-1,3,4], and the sum of even values is -2 + 4 = 2.\n",
        "After adding 2 to nums[3], the array is [-2,-1,3,6], and the sum of even values is -2 + 6 = 4.\n",
        "Example 2:\n",
        "\n",
        "Input: nums = [1], queries = [[4,0]]\n",
        "Output: [0]\n",
        " \n",
        "\n",
        "Constraints:\n",
        "\n",
        "1 <= nums.length <= 104\n",
        "-104 <= nums[i] <= 104\n",
        "1 <= queries.length <= 104\n",
        "-104 <= vali <= 104\n",
        "0 <= indexi < nums.length\n",
        "\"\"\""
      ],
      "metadata": {
        "id": "MJqWZE0CnmWO"
      },
      "execution_count": null,
      "outputs": []
    },
    {
      "cell_type": "code",
      "source": [
        "# needs revision\n",
        "# code link: https://gist.github.com/KyleMcClay/13bd1902e06bba49ed1317bc2bfdde11\n",
        "\n",
        "\"\"\"\n",
        "Runtime: 1090 ms, faster than 13.93% of Python online submissions for Sum of Even Numbers After Queries.\n",
        "Memory Usage: 19.7 MB, less than 77.22% of Python online submissions for Sum of Even Numbers After Queries.\n",
        "\"\"\"\n",
        "\n",
        "def sumEvenAfterQueries(nums, queries):\n",
        "    answer = []\n",
        "    sum_element = 0\n",
        "\n",
        "    for i in nums:\n",
        "        if i % 2 == 0:\n",
        "            sum_element += i\n",
        "\n",
        "    for ab in queries:\n",
        "\n",
        "        if nums[ab[1]] % 2 == 0:\n",
        "            sum_element += -1 * nums[ab[1]]\n",
        "\n",
        "        if (ab[0] + nums[ab[1]]) % 2 == 0:\n",
        "            sum_element += ab[0] + nums[ab[1]]\n",
        "\n",
        "        # updating list\n",
        "        nums[ab[1]] += ab[0]\n",
        "        answer.append(sum_element)\n",
        "\n",
        "    return answer\n",
        "\n",
        "\n",
        "nums = [1,2,3,4]\n",
        "queries = [[1,0],[-3,1],[-4,0],[2,3]]\n",
        "sumEvenAfterQueries(nums, queries)"
      ],
      "metadata": {
        "colab": {
          "base_uri": "https://localhost:8080/"
        },
        "id": "pJJKtQ8doVLk",
        "outputId": "586e5e87-8bec-45ed-b7e0-879fe661d476"
      },
      "execution_count": null,
      "outputs": [
        {
          "output_type": "execute_result",
          "data": {
            "text/plain": [
              "[8, 6, 2, 4]"
            ]
          },
          "metadata": {},
          "execution_count": 2
        }
      ]
    },
    {
      "cell_type": "markdown",
      "source": [
        "##22-09-2022"
      ],
      "metadata": {
        "id": "iUoi8-fCZF4Z"
      }
    },
    {
      "cell_type": "markdown",
      "source": [
        "####557. Reverse Words in a String III"
      ],
      "metadata": {
        "id": "PBgNqkz2ZFqU"
      }
    },
    {
      "cell_type": "code",
      "source": [
        "\"\"\"\n",
        "557. Reverse Words in a String III\n",
        "Easy\n",
        "\n",
        "3995\n",
        "\n",
        "206\n",
        "\n",
        "Add to List\n",
        "\n",
        "Share\n",
        "Given a string s, reverse the order of characters in each word within a sentence while still preserving whitespace and initial word order.\n",
        "\n",
        " \n",
        "\n",
        "Example 1:\n",
        "\n",
        "Input: s = \"Let's take LeetCode contest\"\n",
        "Output: \"s'teL ekat edoCteeL tsetnoc\"\n",
        "Example 2:\n",
        "\n",
        "Input: s = \"God Ding\"\n",
        "Output: \"doG gniD\"\n",
        " \n",
        "\n",
        "Constraints:\n",
        "\n",
        "1 <= s.length <= 5 * 104\n",
        "s contains printable ASCII characters.\n",
        "s does not contain any leading or trailing spaces.\n",
        "There is at least one word in s.\n",
        "All the words in s are separated by a single space.\n",
        "\"\"\""
      ],
      "metadata": {
        "id": "Ub_sAU-iZGXH"
      },
      "execution_count": null,
      "outputs": []
    },
    {
      "cell_type": "code",
      "source": [
        "\"\"\"\n",
        "Runtime: 168 ms, faster than 27.57% of Python online submissions for Reverse Words in a String III.\n",
        "Memory Usage: 14.7 MB, less than 28.59% of Python online submissions for Reverse Words in a String III.\n",
        "\"\"\"\n",
        "\n",
        "def reverseWords(s):\n",
        "    output =\"\"\n",
        "    s_list = s.split(\" \")\n",
        "    for i in s_list:\n",
        "        temp = \"\"\n",
        "        for j in i:\n",
        "            temp =  j + temp\n",
        "        output += temp+\" \"\n",
        "    return output[:-1]\n",
        "\n",
        "\n",
        "reverseWords(\"Let's take LeetCode contest\")"
      ],
      "metadata": {
        "colab": {
          "base_uri": "https://localhost:8080/",
          "height": 36
        },
        "id": "07sI2DXPZGwW",
        "outputId": "7aebbb86-0abd-407a-ed2d-ff3ce972e179"
      },
      "execution_count": null,
      "outputs": [
        {
          "output_type": "execute_result",
          "data": {
            "text/plain": [
              "\"s'teL ekat edoCteeL tsetnoc\""
            ],
            "application/vnd.google.colaboratory.intrinsic+json": {
              "type": "string"
            }
          },
          "metadata": {},
          "execution_count": 11
        }
      ]
    },
    {
      "cell_type": "markdown",
      "source": [
        "##23-09-2022"
      ],
      "metadata": {
        "id": "60F0H5UoHk8_"
      }
    },
    {
      "cell_type": "markdown",
      "source": [
        "####1680. Concatenation of Consecutive Binary Numbers"
      ],
      "metadata": {
        "id": "t6tUfXjsHkty"
      }
    },
    {
      "cell_type": "code",
      "source": [
        "\"\"\"\n",
        "1680. Concatenation of Consecutive Binary Numbers\n",
        "Medium\n",
        "\n",
        "1037\n",
        "\n",
        "369\n",
        "\n",
        "Add to List\n",
        "\n",
        "Share\n",
        "Given an integer n, return the decimal value of the binary string formed by concatenating the binary representations of 1 to n in order, modulo 109 + 7.\n",
        "\n",
        " \n",
        "\n",
        "Example 1:\n",
        "\n",
        "Input: n = 1\n",
        "Output: 1\n",
        "Explanation: \"1\" in binary corresponds to the decimal value 1. \n",
        "Example 2:\n",
        "\n",
        "Input: n = 3\n",
        "Output: 27\n",
        "Explanation: In binary, 1, 2, and 3 corresponds to \"1\", \"10\", and \"11\".\n",
        "After concatenating them, we have \"11011\", which corresponds to the decimal value 27.\n",
        "Example 3:\n",
        "\n",
        "Input: n = 12\n",
        "Output: 505379714\n",
        "Explanation: The concatenation results in \"1101110010111011110001001101010111100\".\n",
        "The decimal value of that is 118505380540.\n",
        "After modulo 109 + 7, the result is 505379714.\n",
        " \n",
        "\n",
        "Constraints:\n",
        "\n",
        "1 <= n <= 105\n",
        "\"\"\""
      ],
      "metadata": {
        "id": "GP-KB4yjHlmW"
      },
      "execution_count": null,
      "outputs": []
    },
    {
      "cell_type": "code",
      "source": [
        "# needs revision\n",
        "# code link: https://maxming0.github.io/2021/01/27/Concatenation-of-Consecutive-Binary-Numbers/\n",
        "\n",
        "\"\"\"\n",
        "Runtime: 2631 ms, faster than 13.04% of Python online submissions for Concatenation of Consecutive Binary Numbers.\n",
        "Memory Usage: 16.3 MB, less than 78.26% of Python online submissions for Concatenation of Consecutive Binary Numbers.\n",
        "\"\"\"\n",
        "\n",
        "def concatenatedBinary(n):\n",
        "    bits, res, MOD = 1, 0, 10**9 + 7\n",
        "    for x in range(1, n + 1):\n",
        "        res = ((res << bits) + x) % MOD\n",
        "        if x == (1 << bits) - 1:\n",
        "            bits += 1    \n",
        "    return res\n",
        "\n",
        "concatenatedBinary(12)"
      ],
      "metadata": {
        "colab": {
          "base_uri": "https://localhost:8080/"
        },
        "id": "6Vv0pgsUHl_1",
        "outputId": "cd3435b9-b5a9-4eac-b908-40e54d348028"
      },
      "execution_count": null,
      "outputs": [
        {
          "output_type": "execute_result",
          "data": {
            "text/plain": [
              "505379714"
            ]
          },
          "metadata": {},
          "execution_count": 1
        }
      ]
    },
    {
      "cell_type": "markdown",
      "source": [
        "24-09-2022"
      ],
      "metadata": {
        "id": "8vV0OKNlq7vZ"
      }
    },
    {
      "cell_type": "markdown",
      "source": [
        "####113. Path Sum II"
      ],
      "metadata": {
        "id": "JuFTewWmq7gc"
      }
    },
    {
      "cell_type": "code",
      "source": [
        "\"\"\"\n",
        "113. Path Sum II\n",
        "Medium\n",
        "\n",
        "6140\n",
        "\n",
        "127\n",
        "\n",
        "Add to List\n",
        "\n",
        "Share\n",
        "Given the root of a binary tree and an integer targetSum, return all root-to-leaf paths where the sum of the node values in the path equals targetSum. Each path should be returned as a list of the node values, not node references.\n",
        "\n",
        "A root-to-leaf path is a path starting from the root and ending at any leaf node. A leaf is a node with no children.\n",
        "\n",
        " \n",
        "\n",
        "Example 1:\n",
        "\n",
        "\n",
        "Input: root = [5,4,8,11,null,13,4,7,2,null,null,5,1], targetSum = 22\n",
        "Output: [[5,4,11,2],[5,8,4,5]]\n",
        "Explanation: There are two paths whose sum equals targetSum:\n",
        "5 + 4 + 11 + 2 = 22\n",
        "5 + 8 + 4 + 5 = 22\n",
        "Example 2:\n",
        "\n",
        "\n",
        "Input: root = [1,2,3], targetSum = 5\n",
        "Output: []\n",
        "Example 3:\n",
        "\n",
        "Input: root = [1,2], targetSum = 0\n",
        "Output: []\n",
        " \n",
        "\n",
        "Constraints:\n",
        "\n",
        "The number of nodes in the tree is in the range [0, 5000].\n",
        "-1000 <= Node.val <= 1000\n",
        "-1000 <= targetSum <= 1000\n",
        "\"\"\""
      ],
      "metadata": {
        "id": "ZVeZQMTqq6qR"
      },
      "execution_count": null,
      "outputs": []
    },
    {
      "cell_type": "code",
      "source": [
        "# needs revision\n",
        "# code link: https://lenchen.medium.com/leetcode-113-path-sum-ii-af368b7687d3\n",
        "\n",
        "\"\"\"\n",
        "Runtime: 103 ms, faster than 9.78% of Python3 online submissions for Path Sum II.\n",
        "Memory Usage: 15.5 MB, less than 72.84% of Python3 online submissions for Path Sum II.\n",
        "\"\"\"\n",
        "\n",
        "# Definition for a binary tree node.\n",
        "# class TreeNode:\n",
        "#     def __init__(self, val=0, left=None, right=None):\n",
        "#         self.val = val\n",
        "#         self.left = left\n",
        "#         self.right = right\n",
        "class Solution:\n",
        "    def pathSum(self, root, sum):\n",
        "        \"\"\"\n",
        "        :type root: TreeNode\n",
        "        :type sum: int\n",
        "        :rtype: List[List[int]]\n",
        "        \"\"\"\n",
        "\n",
        "        # approach: recursively check children until leaves\n",
        "\n",
        "        result = []\n",
        "        self.pathSumRecursive(root, sum, [], result)\n",
        "        return result\n",
        "\n",
        "    def pathSumRecursive(self, root, sum, path, result):\n",
        "        if not root:\n",
        "            return None\n",
        "\n",
        "        # at leaf and sum matched\n",
        "        if not root.left and not root.right and sum == root.val:\n",
        "            result.append([*path, root.val])\n",
        "            return None\n",
        "\n",
        "        path.append(root.val)\n",
        "        self.pathSumRecursive(root.left, sum - root.val, path, result)\n",
        "        self.pathSumRecursive(root.right, sum - root.val, path, result)\n",
        "        path.pop()"
      ],
      "metadata": {
        "id": "38STIYc4rI_T"
      },
      "execution_count": null,
      "outputs": []
    },
    {
      "cell_type": "markdown",
      "source": [
        "##25-09-2022"
      ],
      "metadata": {
        "id": "7aL7iDU5p7q-"
      }
    },
    {
      "cell_type": "markdown",
      "source": [
        "####622. Design Circular Queue"
      ],
      "metadata": {
        "id": "8kFUeC0Np7aK"
      }
    },
    {
      "cell_type": "code",
      "source": [
        "\"\"\"\n",
        "622. Design Circular Queue\n",
        "Medium\n",
        "\n",
        "2636\n",
        "\n",
        "217\n",
        "\n",
        "Add to List\n",
        "\n",
        "Share\n",
        "Design your implementation of the circular queue. The circular queue is a linear data structure in which the operations are performed based on FIFO (First In First Out) principle and the last position is connected back to the first position to make a circle. It is also called \"Ring Buffer\".\n",
        "\n",
        "One of the benefits of the circular queue is that we can make use of the spaces in front of the queue. In a normal queue, once the queue becomes full, we cannot insert the next element even if there is a space in front of the queue. But using the circular queue, we can use the space to store new values.\n",
        "\n",
        "Implementation the MyCircularQueue class:\n",
        "\n",
        "MyCircularQueue(k) Initializes the object with the size of the queue to be k.\n",
        "int Front() Gets the front item from the queue. If the queue is empty, return -1.\n",
        "int Rear() Gets the last item from the queue. If the queue is empty, return -1.\n",
        "boolean enQueue(int value) Inserts an element into the circular queue. Return true if the operation is successful.\n",
        "boolean deQueue() Deletes an element from the circular queue. Return true if the operation is successful.\n",
        "boolean isEmpty() Checks whether the circular queue is empty or not.\n",
        "boolean isFull() Checks whether the circular queue is full or not.\n",
        "You must solve the problem without using the built-in queue data structure in your programming language. \n",
        "\n",
        " \n",
        "\n",
        "Example 1:\n",
        "\n",
        "Input\n",
        "[\"MyCircularQueue\", \"enQueue\", \"enQueue\", \"enQueue\", \"enQueue\", \"Rear\", \"isFull\", \"deQueue\", \"enQueue\", \"Rear\"]\n",
        "[[3], [1], [2], [3], [4], [], [], [], [4], []]\n",
        "Output\n",
        "[null, true, true, true, false, 3, true, true, true, 4]\n",
        "\n",
        "Explanation\n",
        "MyCircularQueue myCircularQueue = new MyCircularQueue(3);\n",
        "myCircularQueue.enQueue(1); // return True\n",
        "myCircularQueue.enQueue(2); // return True\n",
        "myCircularQueue.enQueue(3); // return True\n",
        "myCircularQueue.enQueue(4); // return False\n",
        "myCircularQueue.Rear();     // return 3\n",
        "myCircularQueue.isFull();   // return True\n",
        "myCircularQueue.deQueue();  // return True\n",
        "myCircularQueue.enQueue(4); // return True\n",
        "myCircularQueue.Rear();     // return 4\n",
        " \n",
        "\n",
        "Constraints:\n",
        "\n",
        "1 <= k <= 1000\n",
        "0 <= value <= 1000\n",
        "At most 3000 calls will be made to enQueue, deQueue, Front, Rear, isEmpty, and isFull.\n",
        "\"\"\""
      ],
      "metadata": {
        "id": "OBThPpHvp8pl"
      },
      "execution_count": null,
      "outputs": []
    },
    {
      "cell_type": "code",
      "source": [
        "# needs revision\n",
        "# code link : https://maxming0.github.io/2021/04/04/Design-Circular-Queue/\n",
        "\n",
        "\"\"\"\n",
        "Runtime: 108 ms, faster than 42.27% of Python online submissions for Design Circular Queue.\n",
        "Memory Usage: 14.1 MB, less than 37.80% of Python online submissions for Design Circular Queue.\n",
        "\"\"\"\n",
        "\n",
        "class MyCircularQueue(object):\n",
        "\n",
        "    def __init__(self, k):\n",
        "        self.cap = k\n",
        "        self.q = [0] * k\n",
        "        self.ct = 0\n",
        "        self.head = 0\n",
        "        \n",
        "\n",
        "    def enQueue(self, value):\n",
        "        if self.isFull():\n",
        "            return False\n",
        "        self.q[(self.head + self.ct) % self.cap] = value\n",
        "        self.ct += 1\n",
        "        return True\n",
        "        \n",
        "\n",
        "    def deQueue(self):\n",
        "        if self.isEmpty():\n",
        "            return False\n",
        "        self.head = (self.head + 1) % self.cap\n",
        "        self.ct -= 1\n",
        "        return True\n",
        "        \n",
        "\n",
        "    def Front(self):\n",
        "        if not self.ct:\n",
        "            return -1\n",
        "        return self.q[self.head]\n",
        "        \n",
        "\n",
        "    def Rear(self):\n",
        "        if not self.ct:\n",
        "            return -1\n",
        "        return self.q[(self.head + self.ct - 1) % self.cap]\n",
        "        \n",
        "\n",
        "    def isEmpty(self):\n",
        "        return self.ct == 0\n",
        "        \n",
        "\n",
        "    def isFull(self):\n",
        "        return self.ct == self.cap\n",
        "        \n",
        "\n",
        "\n",
        "# Your MyCircularQueue object will be instantiated and called as such:\n",
        "# obj = MyCircularQueue(k)\n",
        "# param_1 = obj.enQueue(value)\n",
        "# param_2 = obj.deQueue()\n",
        "# param_3 = obj.Front()\n",
        "# param_4 = obj.Rear()\n",
        "# param_5 = obj.isEmpty()\n",
        "# param_6 = obj.isFull()"
      ],
      "metadata": {
        "id": "3DnKXT1zp9EY"
      },
      "execution_count": null,
      "outputs": []
    },
    {
      "cell_type": "markdown",
      "source": [
        "##26-09-2022"
      ],
      "metadata": {
        "id": "niKRr5q3I7BY"
      }
    },
    {
      "cell_type": "markdown",
      "source": [
        "####990. Satisfiability of Equality Equations"
      ],
      "metadata": {
        "id": "a5ckjQPPI6xk"
      }
    },
    {
      "cell_type": "code",
      "source": [
        "\"\"\"\n",
        "990. Satisfiability of Equality Equations\n",
        "Medium\n",
        "\n",
        "2610\n",
        "\n",
        "37\n",
        "\n",
        "Add to List\n",
        "\n",
        "Share\n",
        "You are given an array of strings equations that represent relationships between variables where each string equations[i] is of length 4 and takes one of two different forms: \"xi==yi\" or \"xi!=yi\".Here, xi and yi are lowercase letters (not necessarily different) that represent one-letter variable names.\n",
        "\n",
        "Return true if it is possible to assign integers to variable names so as to satisfy all the given equations, or false otherwise.\n",
        "\n",
        " \n",
        "\n",
        "Example 1:\n",
        "\n",
        "Input: equations = [\"a==b\",\"b!=a\"]\n",
        "Output: false\n",
        "Explanation: If we assign say, a = 1 and b = 1, then the first equation is satisfied, but not the second.\n",
        "There is no way to assign the variables to satisfy both equations.\n",
        "Example 2:\n",
        "\n",
        "Input: equations = [\"b==a\",\"a==b\"]\n",
        "Output: true\n",
        "Explanation: We could assign a = 1 and b = 1 to satisfy both equations.\n",
        " \n",
        "\n",
        "Constraints:\n",
        "\n",
        "1 <= equations.length <= 500\n",
        "equations[i].length == 4\n",
        "equations[i][0] is a lowercase letter.\n",
        "equations[i][1] is either '=' or '!'.\n",
        "equations[i][2] is '='.\n",
        "equations[i][3] is a lowercase letter.\n",
        "\"\"\""
      ],
      "metadata": {
        "id": "VTPBdHBjI6e5"
      },
      "execution_count": null,
      "outputs": []
    },
    {
      "cell_type": "code",
      "source": [
        "# needs revision\n",
        "# code link: https://github.com/zhuifengshen/awesome-leetcode/blob/master/docs/Leetcode_Solutions/Python/0990._Satisfiability_of_Equality_Equations.md\n",
        "\n",
        "\"\"\"\n",
        "Runtime: 73 ms, faster than 10.53% of Python online submissions for Satisfiability of Equality Equations.\n",
        "Memory Usage: 14 MB, less than 7.89% of Python online submissions for Satisfiability of Equality Equations.\n",
        "\"\"\"\n",
        "class Solution(object):\n",
        "    def equationsPossible(self, equations):\n",
        "        uf = {}\n",
        "\n",
        "        def find(x):\n",
        "            uf.setdefault(x, x)\n",
        "            if x != uf[x]:\n",
        "                uf[x] = find(uf[x])\n",
        "            return uf[x]\n",
        "\n",
        "        def union(x, y):\n",
        "            uf[find(x)] = find(y)\n",
        "            \n",
        "        for e in equations:\n",
        "            if e[1] == '=':\n",
        "                union(e[0], e[-1])\n",
        "        for e in equations:\n",
        "            if e[1] == '!':\n",
        "                if find(e[0]) == find(e[-1]):\n",
        "                    return False\n",
        "        return True  \n",
        "         "
      ],
      "metadata": {
        "id": "kZjjWlStI6K6"
      },
      "execution_count": null,
      "outputs": []
    },
    {
      "cell_type": "markdown",
      "source": [
        "##27-09-2022"
      ],
      "metadata": {
        "id": "qUjYmjkRDN76"
      }
    },
    {
      "cell_type": "markdown",
      "source": [
        "####838. Push Dominoes"
      ],
      "metadata": {
        "id": "K-Fr0UpkDNtK"
      }
    },
    {
      "cell_type": "code",
      "source": [
        "\"\"\"\n",
        "838. Push Dominoes\n",
        "Medium\n",
        "\n",
        "2689\n",
        "\n",
        "168\n",
        "\n",
        "Add to List\n",
        "\n",
        "Share\n",
        "There are n dominoes in a line, and we place each domino vertically upright. In the beginning, we simultaneously push some of the dominoes either to the left or to the right.\n",
        "\n",
        "After each second, each domino that is falling to the left pushes the adjacent domino on the left. Similarly, the dominoes falling to the right push their adjacent dominoes standing on the right.\n",
        "\n",
        "When a vertical domino has dominoes falling on it from both sides, it stays still due to the balance of the forces.\n",
        "\n",
        "For the purposes of this question, we will consider that a falling domino expends no additional force to a falling or already fallen domino.\n",
        "\n",
        "You are given a string dominoes representing the initial state where:\n",
        "\n",
        "dominoes[i] = 'L', if the ith domino has been pushed to the left,\n",
        "dominoes[i] = 'R', if the ith domino has been pushed to the right, and\n",
        "dominoes[i] = '.', if the ith domino has not been pushed.\n",
        "Return a string representing the final state.\n",
        "\n",
        " \n",
        "\n",
        "Example 1:\n",
        "\n",
        "Input: dominoes = \"RR.L\"\n",
        "Output: \"RR.L\"\n",
        "Explanation: The first domino expends no additional force on the second domino.\n",
        "Example 2:\n",
        "\n",
        "\n",
        "Input: dominoes = \".L.R...LR..L..\"\n",
        "Output: \"LL.RR.LLRRLL..\"\n",
        " \n",
        "\n",
        "Constraints:\n",
        "\n",
        "n == dominoes.length\n",
        "1 <= n <= 105\n",
        "dominoes[i] is either 'L', 'R', or '.'.\n",
        "\"\"\""
      ],
      "metadata": {
        "id": "hvWE1PggDPdr"
      },
      "execution_count": null,
      "outputs": []
    },
    {
      "cell_type": "markdown",
      "source": [
        "![image.png](data:image/png;base64,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)"
      ],
      "metadata": {
        "id": "Tk3nVhjwDnro"
      }
    },
    {
      "cell_type": "code",
      "source": [
        "# needs revision\n",
        "# code link: https://walkccc.me/LeetCode/problems/0838/\n",
        "\n",
        "\"\"\"\n",
        "Runtime: 590 ms, faster than 33.33% of Python online submissions for Push Dominoes.\n",
        "Memory Usage: 20.1 MB, less than 75.00% of Python online submissions for Push Dominoes.\n",
        "\"\"\"\n",
        "\n",
        "class Solution(object):\n",
        "    def pushDominoes(self, dominoes):\n",
        "        ans = list(dominoes)\n",
        "        L = -1\n",
        "        R = -1\n",
        "\n",
        "        for i in range(len(dominoes) + 1):\n",
        "          if i == len(dominoes) or dominoes[i] == 'R':\n",
        "            if L < R:\n",
        "              while R < i:\n",
        "                ans[R] = 'R'\n",
        "                R += 1\n",
        "            R = i\n",
        "          elif dominoes[i] == 'L':\n",
        "            if R < L or (L, R) == (-1, -1):\n",
        "              if (L, R) == (-1, -1):\n",
        "                L += 1\n",
        "              while L < i:\n",
        "                ans[L] = 'L'\n",
        "                L += 1\n",
        "            else:\n",
        "              l = R + 1\n",
        "              r = i - 1\n",
        "              while l < r:\n",
        "                ans[l] = 'R'\n",
        "                ans[r] = 'L'\n",
        "                l += 1\n",
        "                r -= 1\n",
        "            L = i\n",
        "\n",
        "        return ''.join(ans)"
      ],
      "metadata": {
        "id": "fdK_M5OADPI3"
      },
      "execution_count": null,
      "outputs": []
    },
    {
      "cell_type": "markdown",
      "source": [
        "##28-09-2022"
      ],
      "metadata": {
        "id": "RU77_JpgT-DP"
      }
    },
    {
      "cell_type": "markdown",
      "source": [
        "####19. Remove Nth Node From End of List"
      ],
      "metadata": {
        "id": "iZbpLIcsT9_-"
      }
    },
    {
      "cell_type": "code",
      "source": [
        "\"\"\"\n",
        "19. Remove Nth Node From End of List\n",
        "Medium\n",
        "\n",
        "13106\n",
        "\n",
        "548\n",
        "\n",
        "Add to List\n",
        "\n",
        "Share\n",
        "Given the head of a linked list, remove the nth node from the end of the list and return its head.\n",
        "\n",
        " \n",
        "\n",
        "Example 1:\n",
        "\n",
        "\n",
        "Input: head = [1,2,3,4,5], n = 2\n",
        "Output: [1,2,3,5]\n",
        "Example 2:\n",
        "\n",
        "Input: head = [1], n = 1\n",
        "Output: []\n",
        "Example 3:\n",
        "\n",
        "Input: head = [1,2], n = 1\n",
        "Output: [1]\n",
        " \n",
        "\n",
        "Constraints:\n",
        "\n",
        "The number of nodes in the list is sz.\n",
        "1 <= sz <= 30\n",
        "0 <= Node.val <= 100\n",
        "1 <= n <= sz\n",
        " \n",
        "\n",
        "Follow up: Could you do this in one pass?\n",
        "\"\"\""
      ],
      "metadata": {
        "id": "WkScpelVT_Dj"
      },
      "execution_count": null,
      "outputs": []
    },
    {
      "cell_type": "markdown",
      "source": [
        "![image.png](data:image/png;base64,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)"
      ],
      "metadata": {
        "id": "TSzvIwO8Uu2X"
      }
    },
    {
      "cell_type": "code",
      "source": [
        "# needs revision\n",
        "# code link: https://github.com/zhouchong90/LeetCode-Python-Solution/blob/master/Solutions/19%20Remove%20Nth%20Node%20From%20End%20of%20List.py\n",
        "\"\"\"\n",
        "Runtime: 19 ms, faster than 93.57% of Python online submissions for Remove Nth Node From End of List.\n",
        "Memory Usage: 13.6 MB, less than 15.04% of Python online submissions for Remove Nth Node From End of List.\n",
        "\"\"\"\n",
        "# Definition for singly-linked list.\n",
        "# class ListNode(object):\n",
        "#     def __init__(self, val=0, next=None):\n",
        "#         self.val = val\n",
        "#         self.next = next\n",
        "class Solution(object):\n",
        "    def removeNthFromEnd(self, head, n):\n",
        "        dummy = ListNode(0)\n",
        "        dummy.next = head\n",
        "        first = second = dummy\n",
        "        \n",
        "        for i in range(n):\n",
        "            first = first.next\n",
        "        \n",
        "        while first.next is not None:\n",
        "            first = first.next\n",
        "            second = second.next\n",
        "        else:\n",
        "            second.next = second.next.next\n",
        "        \n",
        "        return dummy.next"
      ],
      "metadata": {
        "id": "s3AnJfnbT-__"
      },
      "execution_count": null,
      "outputs": []
    },
    {
      "cell_type": "markdown",
      "source": [
        "##29-09-2022"
      ],
      "metadata": {
        "id": "jZ18E_3DVpaF"
      }
    },
    {
      "cell_type": "markdown",
      "source": [
        "####658. Find K Closest Elements"
      ],
      "metadata": {
        "id": "yeu2miGuVpRE"
      }
    },
    {
      "cell_type": "code",
      "source": [
        "\"\"\"\n",
        "658. Find K Closest Elements\n",
        "Medium\n",
        "\n",
        "5966\n",
        "\n",
        "492\n",
        "\n",
        "Add to List\n",
        "\n",
        "Share\n",
        "Given a sorted integer array arr, two integers k and x, return the k closest integers to x in the array. The result should also be sorted in ascending order.\n",
        "\n",
        "An integer a is closer to x than an integer b if:\n",
        "\n",
        "|a - x| < |b - x|, or\n",
        "|a - x| == |b - x| and a < b\n",
        " \n",
        "\n",
        "Example 1:\n",
        "\n",
        "Input: arr = [1,2,3,4,5], k = 4, x = 3\n",
        "Output: [1,2,3,4]\n",
        "Example 2:\n",
        "\n",
        "Input: arr = [1,2,3,4,5], k = 4, x = -1\n",
        "Output: [1,2,3,4]\n",
        " \n",
        "\n",
        "Constraints:\n",
        "\n",
        "1 <= k <= arr.length\n",
        "1 <= arr.length <= 104\n",
        "arr is sorted in ascending order.\n",
        "-104 <= arr[i], x <= 104\n",
        "\"\"\""
      ],
      "metadata": {
        "id": "_1vbJ4DjVqvB"
      },
      "execution_count": null,
      "outputs": []
    },
    {
      "cell_type": "code",
      "source": [
        "# needs revision\n",
        "# code link: https://walkccc.me/LeetCode/problems/0658/\n",
        "\n",
        "\"\"\"\n",
        "Runtime: 394 ms, faster than 63.31% of Python online submissions for Find K Closest Elements.\n",
        "Memory Usage: 14.7 MB, less than 98.77% of Python online submissions for Find K Closest Elements.\n",
        "\"\"\"\n",
        "\n",
        "class Solution(object):\n",
        "    def findClosestElements(self, arr, k, x):\n",
        "        l = 0\n",
        "        r = len(arr) - k\n",
        "\n",
        "        while l < r:\n",
        "          m = (l + r) // 2\n",
        "          if x - arr[m] <= arr[m + k] - x:\n",
        "            r = m\n",
        "          else:\n",
        "            l = m + 1\n",
        "\n",
        "        return arr[l:l + k]\n",
        "        "
      ],
      "metadata": {
        "id": "zv6mIRHhVqpt"
      },
      "execution_count": null,
      "outputs": []
    },
    {
      "cell_type": "markdown",
      "source": [
        "##30-09-2022"
      ],
      "metadata": {
        "id": "sD_XfmPFmW3_"
      }
    },
    {
      "cell_type": "markdown",
      "source": [
        "####218. The Skyline Problem"
      ],
      "metadata": {
        "id": "UHAGCC-LmWop"
      }
    },
    {
      "cell_type": "code",
      "source": [
        "\"\"\"\n",
        "\n",
        "218. The Skyline Problem\n",
        "Hard\n",
        "4.9K\n",
        "232\n",
        "Companies\n",
        "A city's skyline is the outer contour of the silhouette formed by all the buildings in that city when viewed from a distance. Given the locations and heights of all the buildings, return the skyline formed by these buildings collectively.\n",
        "\n",
        "The geometric information of each building is given in the array buildings where buildings[i] = [lefti, righti, heighti]:\n",
        "\n",
        "lefti is the x coordinate of the left edge of the ith building.\n",
        "righti is the x coordinate of the right edge of the ith building.\n",
        "heighti is the height of the ith building.\n",
        "You may assume all buildings are perfect rectangles grounded on an absolutely flat surface at height 0.\n",
        "\n",
        "The skyline should be represented as a list of \"key points\" sorted by their x-coordinate in the form [[x1,y1],[x2,y2],...]. Each key point is the left endpoint of some horizontal segment in the skyline except the last point in the list, which always has a y-coordinate 0 and is used to mark the skyline's termination where the rightmost building ends. Any ground between the leftmost and rightmost buildings should be part of the skyline's contour.\n",
        "\n",
        "Note: There must be no consecutive horizontal lines of equal height in the output skyline. For instance, [...,[2 3],[4 5],[7 5],[11 5],[12 7],...] is not acceptable; the three lines of height 5 should be merged into one in the final output as such: [...,[2 3],[4 5],[12 7],...]\n",
        "\n",
        " \n",
        "\n",
        "Example 1:\n",
        "\n",
        "\n",
        "Input: buildings = [[2,9,10],[3,7,15],[5,12,12],[15,20,10],[19,24,8]]\n",
        "Output: [[2,10],[3,15],[7,12],[12,0],[15,10],[20,8],[24,0]]\n",
        "Explanation:\n",
        "Figure A shows the buildings of the input.\n",
        "Figure B shows the skyline formed by those buildings. The red points in figure B represent the key points in the output list.\n",
        "Example 2:\n",
        "\n",
        "Input: buildings = [[0,2,3],[2,5,3]]\n",
        "Output: [[0,3],[5,0]]\n",
        " \n",
        "\n",
        "Constraints:\n",
        "\n",
        "1 <= buildings.length <= 104\n",
        "0 <= lefti < righti <= 231 - 1\n",
        "1 <= heighti <= 231 - 1\n",
        "buildings is sorted by lefti in non-decreasing order.\n",
        "\"\"\""
      ],
      "metadata": {
        "id": "3isYc61LmXxw"
      },
      "execution_count": null,
      "outputs": []
    },
    {
      "cell_type": "code",
      "source": [
        "# needs revision\n",
        "# code link: https://walkccc.me/LeetCode/problems/0218/\n",
        "\n",
        "class Solution(object):\n",
        "  def getSkyline(self, buildings):\n",
        "    n = len(buildings)\n",
        "    if n == 0:\n",
        "      return []\n",
        "    if n == 1:\n",
        "      left, right, height = buildings[0]\n",
        "      return [[left, height], [right, 0]]\n",
        "\n",
        "    left = self.getSkyline(buildings[:n // 2])\n",
        "    right = self.getSkyline(buildings[n // 2:])\n",
        "    return self._merge(left, right)\n",
        "\n",
        "  def _merge(self, left, right):\n",
        "    ans = []\n",
        "    i = 0  # left's index\n",
        "    j = 0  # right's index\n",
        "    leftY = 0\n",
        "    rightY = 0\n",
        "\n",
        "    while i < len(left) and j < len(right):\n",
        "      # choose the powith smaller x\n",
        "      if left[i][0] < right[j][0]:\n",
        "        leftY = left[i][1]  # update the ongoing leftY\n",
        "        self._addPoint(ans, left[i][0], max(left[i][1], rightY))\n",
        "        i += 1\n",
        "      else:\n",
        "        rightY = right[j][1]  # update the ongoing rightY\n",
        "        self._addPoint(ans, right[j][0], max(right[j][1], leftY))\n",
        "        j += 1\n",
        "\n",
        "    while i < len(left):\n",
        "      self._addPoint(ans, left[i][0], left[i][1])\n",
        "      i += 1\n",
        "\n",
        "    while j < len(right):\n",
        "      self._addPoint(ans, right[j][0], right[j][1])\n",
        "      j += 1\n",
        "\n",
        "    return ans\n",
        "\n",
        "  def _addPoint(self, ans, x, y):\n",
        "    if ans and ans[-1][0] == x:\n",
        "      ans[-1][1] = y\n",
        "      return\n",
        "    if ans and ans[-1][1] == y:\n",
        "      return\n",
        "    ans.append([x, y])"
      ],
      "metadata": {
        "id": "5wEARBfumYPA"
      },
      "execution_count": null,
      "outputs": []
    }
  ]
}