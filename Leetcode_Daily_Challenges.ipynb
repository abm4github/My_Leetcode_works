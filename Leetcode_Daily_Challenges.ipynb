{
  "nbformat": 4,
  "nbformat_minor": 0,
  "metadata": {
    "colab": {
      "provenance": [],
      "collapsed_sections": [],
      "authorship_tag": "ABX9TyPZ5o28hFw1m/A0MvKi37ut",
      "include_colab_link": true
    },
    "kernelspec": {
      "name": "python3",
      "display_name": "Python 3"
    },
    "language_info": {
      "name": "python"
    }
  },
  "cells": [
    {
      "cell_type": "markdown",
      "metadata": {
        "id": "view-in-github",
        "colab_type": "text"
      },
      "source": [
        "<a href=\"https://colab.research.google.com/github/abm4github/My_Leetcode_works/blob/main/Leetcode_Daily_Challenges.ipynb\" target=\"_parent\"><img src=\"https://colab.research.google.com/assets/colab-badge.svg\" alt=\"Open In Colab\"/></a>"
      ]
    },
    {
      "cell_type": "markdown",
      "source": [
        "##23-08-2022"
      ],
      "metadata": {
        "id": "zDpvu8UDYUpk"
      }
    },
    {
      "cell_type": "markdown",
      "source": [
        "####234. Palindrome Linked List"
      ],
      "metadata": {
        "id": "PybMBZKuYCHc"
      }
    },
    {
      "cell_type": "code",
      "source": [
        "\"\"\"\n",
        "234. Palindrome Linked List\n",
        "Easy\n",
        "\n",
        "11116\n",
        "\n",
        "634\n",
        "\n",
        "Add to List\n",
        "\n",
        "Share\n",
        "Given the head of a singly linked list, return true if it is a palindrome.\n",
        "\n",
        " \n",
        "\n",
        "Example 1:\n",
        "\n",
        "\n",
        "Input: head = [1,2,2,1]\n",
        "Output: true\n",
        "Example 2:\n",
        "\n",
        "\n",
        "Input: head = [1,2]\n",
        "Output: false\n",
        " \n",
        "\n",
        "Constraints:\n",
        "\n",
        "The number of nodes in the list is in the range [1, 105].\n",
        "0 <= Node.val <= 9\n",
        " \n",
        "\n",
        "Follow up: Could you do it in O(n) time and O(1) space?\n",
        "\"\"\""
      ],
      "metadata": {
        "id": "DM9WuC4VYEE-"
      },
      "execution_count": null,
      "outputs": []
    },
    {
      "cell_type": "code",
      "execution_count": null,
      "metadata": {
        "id": "RsNBqJOxXfl9"
      },
      "outputs": [],
      "source": [
        "# needs revision\n",
        "# https://www.youtube.com/watch?v=yOzXms1J6Nk\n",
        "\n",
        "\"\"\"\n",
        "Runtime: 1597 ms, faster than 48.63% of Python online submissions for Palindrome Linked List.\n",
        "Memory Usage: 67.1 MB, less than 82.80% of Python online submissions for Palindrome Linked List.\n",
        "\"\"\"\n",
        "\n",
        "# Definition for singly-linked list.\n",
        "# class ListNode(object):\n",
        "#     def __init__(self, val=0, next=None):\n",
        "#         self.val = val\n",
        "#         self.next = next\n",
        "class Solution(object):\n",
        "    def isPalindrome(self, head):        \n",
        "        fast, slow = head, head\n",
        "        \n",
        "        while fast and fast.next:\n",
        "            fast = fast.next.next\n",
        "            slow = slow.next\n",
        "        \n",
        "        \n",
        "        prev = None\n",
        "        \n",
        "        while slow:\n",
        "            temp = slow.next\n",
        "            slow.next = prev\n",
        "            prev = slow\n",
        "            slow = temp\n",
        "            \n",
        "        left, right = head, prev\n",
        "        while right:\n",
        "            if left.val != right.val:\n",
        "                return False\n",
        "            left = left.next\n",
        "            right = right.next\n",
        "        return True"
      ]
    },
    {
      "cell_type": "markdown",
      "source": [
        "##24-08-2022"
      ],
      "metadata": {
        "id": "ff8xrQujtDuU"
      }
    },
    {
      "cell_type": "markdown",
      "source": [
        "####326. Power of Three"
      ],
      "metadata": {
        "id": "gEKb5YOwtHr8"
      }
    },
    {
      "cell_type": "code",
      "source": [
        "\"\"\"\n",
        "326. Power of Three\n",
        "Easy\n",
        "\n",
        "1843\n",
        "\n",
        "175\n",
        "\n",
        "Add to List\n",
        "\n",
        "Share\n",
        "Given an integer n, return true if it is a power of three. Otherwise, return false.\n",
        "\n",
        "An integer n is a power of three, if there exists an integer x such that n == 3x.\n",
        "\n",
        " \n",
        "\n",
        "Example 1:\n",
        "\n",
        "Input: n = 27\n",
        "Output: true\n",
        "Example 2:\n",
        "\n",
        "Input: n = 0\n",
        "Output: false\n",
        "Example 3:\n",
        "\n",
        "Input: n = 9\n",
        "Output: true\n",
        " \n",
        "\n",
        "Constraints:\n",
        "\n",
        "-231 <= n <= 231 - 1\n",
        "\"\"\""
      ],
      "metadata": {
        "id": "qlQ_IczEtGtP"
      },
      "execution_count": null,
      "outputs": []
    },
    {
      "cell_type": "code",
      "source": [
        "def isPowerOfThree(n):\n",
        "    if n < 9 and n != 1 and n != 3:\n",
        "        return False\n",
        "    if n == 1 or n == 3:\n",
        "        return True\n",
        "    while n > 1:\n",
        "        if n % 3 != 0:\n",
        "            return False\n",
        "        n = n/3\n",
        "    return True\n",
        "\n",
        "isPowerOfThree(18)  "
      ],
      "metadata": {
        "colab": {
          "base_uri": "https://localhost:8080/"
        },
        "id": "HaFbUDGetOOU",
        "outputId": "b31099e8-711d-471d-d49d-10f43523f1b9"
      },
      "execution_count": null,
      "outputs": [
        {
          "output_type": "execute_result",
          "data": {
            "text/plain": [
              "False"
            ]
          },
          "metadata": {},
          "execution_count": 1
        }
      ]
    },
    {
      "cell_type": "markdown",
      "source": [
        "##25-08-2022"
      ],
      "metadata": {
        "id": "1YjBda8V4ZI9"
      }
    },
    {
      "cell_type": "markdown",
      "source": [
        "####383. Ransom Note"
      ],
      "metadata": {
        "id": "o0NYCRma4b4r"
      }
    },
    {
      "cell_type": "code",
      "source": [
        "\"\"\"\n",
        "383. Ransom Note\n",
        "Easy\n",
        "\n",
        "2813\n",
        "\n",
        "355\n",
        "\n",
        "Add to List\n",
        "\n",
        "Share\n",
        "Given two strings ransomNote and magazine, return true if ransomNote can be constructed by using the letters from magazine and false otherwise.\n",
        "\n",
        "Each letter in magazine can only be used once in ransomNote.\n",
        "\n",
        " \n",
        "\n",
        "Example 1:\n",
        "\n",
        "Input: ransomNote = \"a\", magazine = \"b\"\n",
        "Output: false\n",
        "Example 2:\n",
        "\n",
        "Input: ransomNote = \"aa\", magazine = \"ab\"\n",
        "Output: false\n",
        "Example 3:\n",
        "\n",
        "Input: ransomNote = \"aa\", magazine = \"aab\"\n",
        "Output: true\n",
        " \n",
        "\n",
        "Constraints:\n",
        "\n",
        "1 <= ransomNote.length, magazine.length <= 105\n",
        "ransomNote and magazine consist of lowercase English letters.\n",
        "\"\"\""
      ],
      "metadata": {
        "id": "JYc0NPhC4a3k"
      },
      "execution_count": null,
      "outputs": []
    },
    {
      "cell_type": "code",
      "source": [
        "\"\"\"\n",
        "Runtime: 37 ms, faster than 95.60% of Python online submissions for Ransom Note.\n",
        "Memory Usage: 13.7 MB, less than 35.43% of Python online submissions for Ransom Note.\n",
        "\"\"\"\n",
        "\n",
        "def canConstruct(ransomNote, magazine):\n",
        "    d = {}\n",
        "    for char in ransomNote:\n",
        "        if char in d.keys():\n",
        "            d[char] += 1\n",
        "        else:\n",
        "            d[char] = 1\n",
        "    for key in d.keys():\n",
        "        if key not in magazine:\n",
        "            return False\n",
        "        else:\n",
        "            if magazine.count(key) < d[key]:\n",
        "                return False\n",
        "    return True\n",
        "    \n",
        "ransomNote = \"aa\"\n",
        "magazine = \"aab\"\n",
        "canConstruct(ransomNote, magazine)"
      ],
      "metadata": {
        "colab": {
          "base_uri": "https://localhost:8080/"
        },
        "id": "OYqhUKGr4est",
        "outputId": "4ada7603-bf5e-4cbe-8959-cdd6dcf0c528"
      },
      "execution_count": null,
      "outputs": [
        {
          "output_type": "execute_result",
          "data": {
            "text/plain": [
              "True"
            ]
          },
          "metadata": {},
          "execution_count": 1
        }
      ]
    },
    {
      "cell_type": "markdown",
      "source": [
        "##26-08-2022"
      ],
      "metadata": {
        "id": "mN5CO9uydhKj"
      }
    },
    {
      "cell_type": "markdown",
      "source": [
        "####869. Reordered Power of 2"
      ],
      "metadata": {
        "id": "9kozYEfBdnW0"
      }
    },
    {
      "cell_type": "code",
      "source": [
        "\"\"\"\n",
        "869. Reordered Power of 2\n",
        "Medium\n",
        "\n",
        "1048\n",
        "\n",
        "268\n",
        "\n",
        "Add to List\n",
        "\n",
        "Share\n",
        "You are given an integer n. We reorder the digits in any order (including the original order) such that the leading digit is not zero.\n",
        "\n",
        "Return true if and only if we can do this so that the resulting number is a power of two.\n",
        "\n",
        " \n",
        "\n",
        "Example 1:\n",
        "\n",
        "Input: n = 1\n",
        "Output: true\n",
        "Example 2:\n",
        "\n",
        "Input: n = 10\n",
        "Output: false\n",
        " \n",
        "\n",
        "Constraints:\n",
        "\n",
        "1 <= n <= 109\n",
        "\"\"\""
      ],
      "metadata": {
        "id": "bJSlJHQkdmwH"
      },
      "execution_count": null,
      "outputs": []
    },
    {
      "cell_type": "code",
      "source": [
        "# this question can be presented in much simpler way, question seems tricky\n",
        "\n",
        "\"\"\"\n",
        "Runtime: 26 ms, faster than 89.47% of Python online submissions for Reordered Power of 2.\n",
        "Memory Usage: 13.4 MB, less than 68.42% of Python online submissions for Reordered Power of 2.\n",
        "\"\"\"\n",
        "\n",
        "def reorderedPowerOf2(n):\n",
        "    if n == 1:\n",
        "        return True\n",
        "    \n",
        "    def makeDict(n):\n",
        "        str_n = str(n)\n",
        "        d = {}\n",
        "        for i in str_n:\n",
        "            if i in d.keys():\n",
        "                d[i] += 1\n",
        "            else:\n",
        "                d[i] = 1\n",
        "        return d\n",
        "    \n",
        "    dict_n = makeDict(n)\n",
        "    len_n = len(str(n))\n",
        "    for i in range(30):\n",
        "        nn = 2**i\n",
        "        if len(str(nn)) == len_n:\n",
        "            if makeDict(nn) == dict_n:\n",
        "                return True\n",
        "    return False\n",
        "\n",
        "reorderedPowerOf2(8888360)"
      ],
      "metadata": {
        "colab": {
          "base_uri": "https://localhost:8080/"
        },
        "id": "bw1Ovl8Wdh7H",
        "outputId": "751f5763-cb12-4abc-9d25-c10735bd385f"
      },
      "execution_count": null,
      "outputs": [
        {
          "output_type": "execute_result",
          "data": {
            "text/plain": [
              "True"
            ]
          },
          "metadata": {},
          "execution_count": 14
        }
      ]
    },
    {
      "cell_type": "code",
      "source": [
        "#silly alternate solution :)\n",
        "\n",
        "\"\"\"\n",
        "Runtime: 21 ms, faster than 94.74% of Python online submissions for Reordered Power of 2.\n",
        "Memory Usage: 13.3 MB, less than 68.42% of Python online submissions for Reordered Power of 2.\n",
        "\"\"\"\n",
        "\n",
        "def reorderedPowerOf2(n):\n",
        "    if n == 1:\n",
        "        return True\n",
        "    \n",
        "    def makeDict(n):\n",
        "        str_n = str(n)\n",
        "        d = {}\n",
        "        for i in str_n:\n",
        "            if i in d.keys():\n",
        "                d[i] += 1\n",
        "            else:\n",
        "                d[i] = 1\n",
        "        return d\n",
        "    \n",
        "    dict_n = makeDict(n)\n",
        "    len_n = len(str(n))\n",
        "    for i in range(30):\n",
        "        nn = 2**i\n",
        "        if len(str(nn)) == len_n:\n",
        "            if makeDict(nn) == dict_n:\n",
        "                del dict_n\n",
        "                del len_n\n",
        "                del nn\n",
        "                return True\n",
        "    return False"
      ],
      "metadata": {
        "id": "uqhVSzD7hKaj"
      },
      "execution_count": null,
      "outputs": []
    },
    {
      "cell_type": "markdown",
      "source": [
        "##27-08-2022"
      ],
      "metadata": {
        "id": "kAs8z8aANS82"
      }
    },
    {
      "cell_type": "markdown",
      "source": [
        "####363. Max Sum of Rectangle No Larger Than K"
      ],
      "metadata": {
        "id": "tNOGhOdoNSon"
      }
    },
    {
      "cell_type": "code",
      "source": [
        "\"\"\"\n",
        "363. Max Sum of Rectangle No Larger Than K\n",
        "Hard\n",
        "\n",
        "2748\n",
        "\n",
        "138\n",
        "\n",
        "Add to List\n",
        "\n",
        "Share\n",
        "Given an m x n matrix matrix and an integer k, return the max sum of a rectangle in the matrix such that its sum is no larger than k.\n",
        "\n",
        "It is guaranteed that there will be a rectangle with a sum no larger than k.\n",
        "\n",
        " \n",
        "\n",
        "Example 1:\n",
        "\n",
        "\n",
        "Input: matrix = [[1,0,1],[0,-2,3]], k = 2\n",
        "Output: 2\n",
        "Explanation: Because the sum of the blue rectangle [[0, 1], [-2, 3]] is 2, and 2 is the max number no larger than k (k = 2).\n",
        "Example 2:\n",
        "\n",
        "Input: matrix = [[2,2,-1]], k = 3\n",
        "Output: 3\n",
        " \n",
        "\n",
        "Constraints:\n",
        "\n",
        "m == matrix.length\n",
        "n == matrix[i].length\n",
        "1 <= m, n <= 100\n",
        "-100 <= matrix[i][j] <= 100\n",
        "-105 <= k <= 105\n",
        " \n",
        "\n",
        "Follow up: What if the number of rows is much larger than the number of columns?\n",
        "\"\"\""
      ],
      "metadata": {
        "id": "BMoCBAC4NSJ1"
      },
      "execution_count": null,
      "outputs": []
    },
    {
      "cell_type": "code",
      "source": [
        "# needs revision\n",
        "# video explanation : https://www.youtube.com/watch?v=IDv9yvQN3Uc\n",
        "# code link: https://github.com/Ayu-99/Data-Structures/blob/master/Leetcode%20July%20Challenge/Python/Max%20Sum%20of%20Rectangle%20No%20Larger%20Than%20K.py \n",
        "\n",
        "\"\"\"\n",
        "Runtime: 3209 ms, faster than 74.31% of Python3 online submissions for Max Sum of Rectangle No Larger Than K.\n",
        "Memory Usage: 14.8 MB, less than 74.31% of Python3 online submissions for Max Sum of Rectangle No Larger Than K.\n",
        "\"\"\"\n",
        "\n",
        "import bisect\n",
        "import math\n",
        "\n",
        "def maxSumSubmatrix(matrix, k):\n",
        "    ret = -math.inf\n",
        "    m, n = len(matrix), len(matrix[0])\n",
        "    if m < n:\n",
        "        matrix = list(zip(*matrix))\n",
        "    m, n = max(m, n), min(m, n)\n",
        "    for le in range(n):\n",
        "        pre_sum = [0] * m\n",
        "        for ri in range(le, n): \n",
        "            for r in range(m):\n",
        "                pre_sum[r] += matrix[r][ri]\n",
        "            arr = [0, math.inf] \n",
        "            cur_sum = 0\n",
        "            for x in pre_sum:\n",
        "                cur_sum += x\n",
        "                idx = bisect.bisect_left(arr, cur_sum - k)\n",
        "                ret = max(ret, cur_sum - arr[idx])\n",
        "                if ret == k: return k\n",
        "                bisect.insort(arr, cur_sum) \n",
        "    return ret\n",
        "\n",
        "\n",
        "matrix = [[1,0,1],[0,-2,3]] \n",
        "k = 2\n",
        "maxSumSubmatrix(matrix, k)"
      ],
      "metadata": {
        "colab": {
          "base_uri": "https://localhost:8080/"
        },
        "id": "ZEW32DVVMeTY",
        "outputId": "d7a81249-ec8e-4374-86e3-881854c59110"
      },
      "execution_count": null,
      "outputs": [
        {
          "output_type": "execute_result",
          "data": {
            "text/plain": [
              "2"
            ]
          },
          "metadata": {},
          "execution_count": 2
        }
      ]
    },
    {
      "cell_type": "markdown",
      "source": [
        "##28-08-2022"
      ],
      "metadata": {
        "id": "1y9sAxe_tkEU"
      }
    },
    {
      "cell_type": "markdown",
      "source": [
        "####1329. Sort the Matrix Diagonally"
      ],
      "metadata": {
        "id": "biIpTZ5xtogu"
      }
    },
    {
      "cell_type": "code",
      "source": [
        "\"\"\"\n",
        "1329. Sort the Matrix Diagonally\n",
        "Medium\n",
        "\n",
        "2469\n",
        "\n",
        "198\n",
        "\n",
        "Add to List\n",
        "\n",
        "Share\n",
        "A matrix diagonal is a diagonal line of cells starting from some cell in either the topmost row or leftmost column and going in the bottom-right direction until reaching the matrix's end. For example, the matrix diagonal starting from mat[2][0], where mat is a 6 x 3 matrix, includes cells mat[2][0], mat[3][1], and mat[4][2].\n",
        "\n",
        "Given an m x n matrix mat of integers, sort each matrix diagonal in ascending order and return the resulting matrix.\n",
        "\n",
        " \n",
        "\n",
        "Example 1:\n",
        "\n",
        "\n",
        "Input: mat = [[3,3,1,1],[2,2,1,2],[1,1,1,2]]\n",
        "Output: [[1,1,1,1],[1,2,2,2],[1,2,3,3]]\n",
        "Example 2:\n",
        "\n",
        "Input: mat = [[11,25,66,1,69,7],[23,55,17,45,15,52],[75,31,36,44,58,8],[22,27,33,25,68,4],[84,28,14,11,5,50]]\n",
        "Output: [[5,17,4,1,52,7],[11,11,25,45,8,69],[14,23,25,44,58,15],[22,27,31,36,50,66],[84,28,75,33,55,68]]\n",
        " \n",
        "\n",
        "Constraints:\n",
        "\n",
        "m == mat.length\n",
        "n == mat[i].length\n",
        "1 <= m, n <= 100\n",
        "1 <= mat[i][j] <= 100\n",
        "\"\"\""
      ],
      "metadata": {
        "id": "4VluRaUrtoOJ"
      },
      "execution_count": null,
      "outputs": []
    },
    {
      "cell_type": "code",
      "source": [
        "# needs revision \n",
        "# video explanation: https://www.youtube.com/watch?v=AFvzHLk8rFA\n",
        "\"\"\"\n",
        "Runtime: 98 ms, faster than 62.65% of Python online submissions for Sort the Matrix Diagonally.\n",
        "Memory Usage: 14.1 MB, less than 7.23% of Python online submissions for Sort the Matrix Diagonally.\n",
        "\"\"\"\n",
        "\n",
        "def diagonalSort(mat):\n",
        "    h = defaultdict(list)\n",
        "    n,m = len(mat), len(mat[0])\n",
        "    \n",
        "    for i in range(n):\n",
        "        for j in range(m):\n",
        "            heappush(h[i-j], mat[i][j])\n",
        "    for i in range(n):\n",
        "        for j in range(m):\n",
        "            mat[i][j] = heappop(h[i-j])\n",
        "            \n",
        "    return mat\n",
        "\n",
        "diagonalSort([[11,25,66,1,69,7],[23,55,17,45,15,52],[75,31,36,44,58,8],[22,27,33,25,68,4],[84,28,14,11,5,50]])"
      ],
      "metadata": {
        "id": "R9eZLcLM7aJC"
      },
      "execution_count": null,
      "outputs": []
    },
    {
      "cell_type": "markdown",
      "source": [
        "##29-08-2022"
      ],
      "metadata": {
        "id": "sua-_MY-PhlG"
      }
    },
    {
      "cell_type": "markdown",
      "source": [
        "####200. Number of Islands"
      ],
      "metadata": {
        "id": "oevmysJMPhaq"
      }
    },
    {
      "cell_type": "code",
      "source": [
        "\"\"\"\n",
        "200. Number of Islands\n",
        "Medium\n",
        "\n",
        "16450\n",
        "\n",
        "379\n",
        "\n",
        "Add to List\n",
        "\n",
        "Share\n",
        "Given an m x n 2D binary grid grid which represents a map of '1's (land) and '0's (water), return the number of islands.\n",
        "\n",
        "An island is surrounded by water and is formed by connecting adjacent lands horizontally or vertically. You may assume all four edges of the grid are all surrounded by water.\n",
        "\n",
        " \n",
        "\n",
        "Example 1:\n",
        "\n",
        "Input: grid = [\n",
        "  [\"1\",\"1\",\"1\",\"1\",\"0\"],\n",
        "  [\"1\",\"1\",\"0\",\"1\",\"0\"],\n",
        "  [\"1\",\"1\",\"0\",\"0\",\"0\"],\n",
        "  [\"0\",\"0\",\"0\",\"0\",\"0\"]\n",
        "]\n",
        "Output: 1\n",
        "Example 2:\n",
        "\n",
        "Input: grid = [\n",
        "  [\"1\",\"1\",\"0\",\"0\",\"0\"],\n",
        "  [\"1\",\"1\",\"0\",\"0\",\"0\"],\n",
        "  [\"0\",\"0\",\"1\",\"0\",\"0\"],\n",
        "  [\"0\",\"0\",\"0\",\"1\",\"1\"]\n",
        "]\n",
        "Output: 3\n",
        " \n",
        "\n",
        "Constraints:\n",
        "\n",
        "m == grid.length\n",
        "n == grid[i].length\n",
        "1 <= m, n <= 300\n",
        "grid[i][j] is '0' or '1'.\n",
        "\"\"\""
      ],
      "metadata": {
        "id": "ZZ2JnQVGPimi"
      },
      "execution_count": null,
      "outputs": []
    },
    {
      "cell_type": "code",
      "source": [
        "# orginal solution\n",
        "# video explanation: https://www.youtube.com/watch?v=uDB5QXTqMn0\n",
        "\n",
        "\"\"\"\n",
        "Runtime: 514 ms, faster than 44.25% of Python3 online submissions for Number of Islands.\n",
        "Memory Usage: 16.6 MB, less than 50.32% of Python3 online submissions for Number of Islands.\n",
        "\"\"\"\n",
        "\n",
        "class Solution:\n",
        "    def dfs(self, grid, r, c):\n",
        "        grid[r][c] = \"0\"\n",
        "        lst = [(r-1, c), (r+1, c), (r, c-1), (r, c+1)]\n",
        "        for row, col in lst:\n",
        "            if row >= 0 and col >= 0 and row < len(grid) and col < len(grid[row]) and grid[row][col] == \"1\":\n",
        "                self.dfs(grid, row, col)\n",
        "    \n",
        "    def numIslands(self, grid):\n",
        "        islands = 0\n",
        "        for r in range(len(grid)):\n",
        "            for c in range(len(grid[r])):\n",
        "                if grid[r][c] == \"1\":\n",
        "                    self.dfs(grid, r, c)\n",
        "                    islands += 1\n",
        "        return islands\n",
        "        "
      ],
      "metadata": {
        "id": "LjOcAvBgPjEK"
      },
      "execution_count": null,
      "outputs": []
    },
    {
      "cell_type": "code",
      "source": [
        "# needs revision\n",
        "# edited version by stripping class off the code\n",
        "# video explanation: https://www.youtube.com/watch?v=uDB5QXTqMn0\n",
        "\n",
        "\"\"\"\n",
        "Runtime: 514 ms, faster than 44.25% of Python3 online submissions for Number of Islands.\n",
        "Memory Usage: 16.6 MB, less than 50.32% of Python3 online submissions for Number of Islands.\n",
        "\"\"\"\n",
        "\n",
        "\n",
        "def dfs(grid, r, c):\n",
        "    grid[r][c] = \"0\"\n",
        "    lst = [(r-1, c), (r+1, c), (r, c-1), (r, c+1)]\n",
        "    for row, col in lst:\n",
        "        if row >= 0 and col >= 0 and row < len(grid) and col < len(grid[row]) and grid[row][col] == \"1\":\n",
        "            dfs(grid, row, col)\n",
        "\n",
        "def numIslands(grid):\n",
        "    islands = 0\n",
        "    for r in range(len(grid)):\n",
        "        for c in range(len(grid[r])):\n",
        "            if grid[r][c] == \"1\":\n",
        "                dfs(grid, r, c)\n",
        "                islands += 1\n",
        "    return islands\n",
        "    \n",
        "numIslands([[\"1\",\"1\",\"0\",\"0\",\"0\"],[\"1\",\"1\",\"0\",\"0\",\"0\"],[\"0\",\"0\",\"1\",\"0\",\"0\"],[\"0\",\"0\",\"0\",\"1\",\"1\"]])"
      ],
      "metadata": {
        "colab": {
          "base_uri": "https://localhost:8080/"
        },
        "id": "H2_HTUxXQmaC",
        "outputId": "9f873f55-65dc-42e5-f98c-09f3b282817e"
      },
      "execution_count": null,
      "outputs": [
        {
          "output_type": "execute_result",
          "data": {
            "text/plain": [
              "3"
            ]
          },
          "metadata": {},
          "execution_count": 4
        }
      ]
    },
    {
      "cell_type": "markdown",
      "source": [
        "##30-08-2022"
      ],
      "metadata": {
        "id": "tRKsHxctV_PS"
      }
    },
    {
      "cell_type": "markdown",
      "source": [
        "####48. Rotate Image"
      ],
      "metadata": {
        "id": "35zfBzBeV-12"
      }
    },
    {
      "cell_type": "code",
      "source": [
        "\"\"\"\n",
        "48. Rotate Image\n",
        "Medium\n",
        "\n",
        "11583\n",
        "\n",
        "561\n",
        "\n",
        "Add to List\n",
        "\n",
        "Share\n",
        "You are given an n x n 2D matrix representing an image, rotate the image by 90 degrees (clockwise).\n",
        "\n",
        "You have to rotate the image in-place, which means you have to modify the input 2D matrix directly. DO NOT allocate another 2D matrix and do the rotation.\n",
        "\n",
        " \n",
        "\n",
        "Example 1:\n",
        "\n",
        "\n",
        "Input: matrix = [[1,2,3],[4,5,6],[7,8,9]]\n",
        "Output: [[7,4,1],[8,5,2],[9,6,3]]\n",
        "Example 2:\n",
        "\n",
        "\n",
        "Input: matrix = [[5,1,9,11],[2,4,8,10],[13,3,6,7],[15,14,12,16]]\n",
        "Output: [[15,13,2,5],[14,3,4,1],[12,6,8,9],[16,7,10,11]]\n",
        " \n",
        "\n",
        "Constraints:\n",
        "\n",
        "n == matrix.length == matrix[i].length\n",
        "1 <= n <= 20\n",
        "-1000 <= matrix[i][j] <= 1000\n",
        "\"\"\""
      ],
      "metadata": {
        "id": "nXM5EdP8V90i"
      },
      "execution_count": null,
      "outputs": []
    },
    {
      "cell_type": "code",
      "source": [
        "# needs revision\n",
        "# video explanation: https://www.youtube.com/watch?v=owQN0xX6Fa0   \n",
        "# Note: Timothy H Chang's codes are way precise and easy.\n",
        "\n",
        "\"\"\"\n",
        "Runtime: 42 ms, faster than 83.47% of Python3 online submissions for Rotate Image.\n",
        "Memory Usage: 13.8 MB, less than 74.32% of Python3 online submissions for Rotate Image.\n",
        "\"\"\"\n",
        "\n",
        "\n",
        "def rotate(matrix):       \n",
        "    N = len(matrix)\n",
        "    matrix.reverse()\n",
        "    for r in range(N):\n",
        "        for c in range(r):\n",
        "            matrix[r][c], matrix[c][r] = matrix[c][r], matrix[r][c]\n",
        "    return matrix\n",
        "\n",
        "\n",
        "rotate([[1,2,3],[4,5,6],[7,8,9]])"
      ],
      "metadata": {
        "colab": {
          "base_uri": "https://localhost:8080/"
        },
        "id": "PN0AFyKCV_34",
        "outputId": "68fd6f9f-6fa0-4fc4-d222-df529c5bc209"
      },
      "execution_count": null,
      "outputs": [
        {
          "output_type": "execute_result",
          "data": {
            "text/plain": [
              "[[7, 4, 1], [8, 5, 2], [9, 6, 3]]"
            ]
          },
          "metadata": {},
          "execution_count": 3
        }
      ]
    },
    {
      "cell_type": "markdown",
      "source": [
        "##31-08-2022"
      ],
      "metadata": {
        "id": "TfrqDZX8LF2V"
      }
    },
    {
      "cell_type": "markdown",
      "source": [
        "####417. Pacific Atlantic Water Flow"
      ],
      "metadata": {
        "id": "iwut_btJLJOK"
      }
    },
    {
      "cell_type": "code",
      "source": [
        "\"\"\"\n",
        "417. Pacific Atlantic Water Flow\n",
        "Medium\n",
        "\n",
        "5341\n",
        "\n",
        "1011\n",
        "\n",
        "Add to List\n",
        "\n",
        "Share\n",
        "There is an m x n rectangular island that borders both the Pacific Ocean and Atlantic Ocean. The Pacific Ocean touches the island's left and top edges, and the Atlantic Ocean touches the island's right and bottom edges.\n",
        "\n",
        "The island is partitioned into a grid of square cells. You are given an m x n integer matrix heights where heights[r][c] represents the height above sea level of the cell at coordinate (r, c).\n",
        "\n",
        "The island receives a lot of rain, and the rain water can flow to neighboring cells directly north, south, east, and west if the neighboring cell's height is less than or equal to the current cell's height. Water can flow from any cell adjacent to an ocean into the ocean.\n",
        "\n",
        "Return a 2D list of grid coordinates result where result[i] = [ri, ci] denotes that rain water can flow from cell (ri, ci) to both the Pacific and Atlantic oceans.\n",
        "\n",
        " \n",
        "\n",
        "Example 1:\n",
        "\n",
        "\n",
        "Input: heights = [[1,2,2,3,5],[3,2,3,4,4],[2,4,5,3,1],[6,7,1,4,5],[5,1,1,2,4]]\n",
        "Output: [[0,4],[1,3],[1,4],[2,2],[3,0],[3,1],[4,0]]\n",
        "Explanation: The following cells can flow to the Pacific and Atlantic oceans, as shown below:\n",
        "[0,4]: [0,4] -> Pacific Ocean \n",
        "       [0,4] -> Atlantic Ocean\n",
        "[1,3]: [1,3] -> [0,3] -> Pacific Ocean \n",
        "       [1,3] -> [1,4] -> Atlantic Ocean\n",
        "[1,4]: [1,4] -> [1,3] -> [0,3] -> Pacific Ocean \n",
        "       [1,4] -> Atlantic Ocean\n",
        "[2,2]: [2,2] -> [1,2] -> [0,2] -> Pacific Ocean \n",
        "       [2,2] -> [2,3] -> [2,4] -> Atlantic Ocean\n",
        "[3,0]: [3,0] -> Pacific Ocean \n",
        "       [3,0] -> [4,0] -> Atlantic Ocean\n",
        "[3,1]: [3,1] -> [3,0] -> Pacific Ocean \n",
        "       [3,1] -> [4,1] -> Atlantic Ocean\n",
        "[4,0]: [4,0] -> Pacific Ocean \n",
        "       [4,0] -> Atlantic Ocean\n",
        "Note that there are other possible paths for these cells to flow to the Pacific and Atlantic oceans.\n",
        "Example 2:\n",
        "\n",
        "Input: heights = [[1]]\n",
        "Output: [[0,0]]\n",
        "Explanation: The water can flow from the only cell to the Pacific and Atlantic oceans.\n",
        " \n",
        "\n",
        "Constraints:\n",
        "\n",
        "m == heights.length\n",
        "n == heights[r].length\n",
        "1 <= m, n <= 200\n",
        "0 <= heights[r][c] <= 105\n",
        "\"\"\""
      ],
      "metadata": {
        "id": "jIzqDyXuLLOb"
      },
      "execution_count": null,
      "outputs": []
    },
    {
      "cell_type": "code",
      "source": [
        "# needs revision\n",
        "# code source link: https://zhenyu0519.github.io/2020/03/18/lc417/\n",
        "# matrix and heights, both mean same here as matrix is initialized with its value as heights\n",
        "\n",
        "\"\"\"\n",
        "Runtime: 581 ms, faster than 21.68% of Python3 online submissions for Pacific Atlantic Water Flow.\n",
        "Memory Usage: 15.5 MB, less than 78.42% of Python3 online submissions for Pacific Atlantic Water Flow.\n",
        "\"\"\"\n",
        "\n",
        "class Solution:\n",
        "    def pacificAtlantic(self, heights: List[List[int]]) -> List[List[int]]:\n",
        "        matrix = heights\n",
        "        if not matrix or not matrix[0]:return []\n",
        "        m, n = len(matrix),len(matrix[0])\n",
        "        p_visited = set()\n",
        "        a_visited = set()\n",
        "        directions = [(-1, 0), (1, 0), (0, 1), (0, -1)]\n",
        "        def dfs(visited, x,y):\n",
        "            visited.add((x,y))\n",
        "            for dx, dy in directions:\n",
        "                new_x, new_y = x+dx, y+dy\n",
        "                if 0<=new_x<m and 0<=new_y<n and (new_x,new_y) not in visited and matrix[new_x][new_y]>=matrix[x][y]:\n",
        "                    dfs(visited, new_x,new_y)\n",
        "        #iterate from left border and right border\n",
        "        for i in range(m):\n",
        "            dfs(p_visited,i,0)\n",
        "            dfs(a_visited,i,n-1)\n",
        "        #iterate from up border and bottom border\n",
        "        for j in range(n):\n",
        "            dfs(p_visited,0,j)\n",
        "            dfs(a_visited,m-1,j)\n",
        "        #The intersections of two sets are coordinates where water can flow to both P and A\n",
        "        return list(p_visited.intersection(a_visited))        "
      ],
      "metadata": {
        "id": "JnrumFZeKpkb"
      },
      "execution_count": null,
      "outputs": []
    },
    {
      "cell_type": "markdown",
      "source": [
        "# September 2022"
      ],
      "metadata": {
        "id": "Ctv4YzGVXYDf"
      }
    },
    {
      "cell_type": "markdown",
      "source": [
        "##01-09-2022"
      ],
      "metadata": {
        "id": "40TxA1WwN2g4"
      }
    },
    {
      "cell_type": "markdown",
      "source": [
        "####1448. Count Good Nodes in Binary Tree"
      ],
      "metadata": {
        "id": "To2LlOVZN1G5"
      }
    },
    {
      "cell_type": "code",
      "source": [
        "\"\"\"\n",
        "1448. Count Good Nodes in Binary Tree\n",
        "Medium\n",
        "\n",
        "3825\n",
        "\n",
        "110\n",
        "\n",
        "Add to List\n",
        "\n",
        "Share\n",
        "Given a binary tree root, a node X in the tree is named good if in the path from root to X there are no nodes with a value greater than X.\n",
        "\n",
        "Return the number of good nodes in the binary tree.\n",
        "\n",
        " \n",
        "\n",
        "Example 1:\n",
        "\n",
        "\n",
        "\n",
        "Input: root = [3,1,4,3,null,1,5]\n",
        "Output: 4\n",
        "Explanation: Nodes in blue are good.\n",
        "Root Node (3) is always a good node.\n",
        "Node 4 -> (3,4) is the maximum value in the path starting from the root.\n",
        "Node 5 -> (3,4,5) is the maximum value in the path\n",
        "Node 3 -> (3,1,3) is the maximum value in the path.\n",
        "Example 2:\n",
        "\n",
        "\n",
        "\n",
        "Input: root = [3,3,null,4,2]\n",
        "Output: 3\n",
        "Explanation: Node 2 -> (3, 3, 2) is not good, because \"3\" is higher than it.\n",
        "Example 3:\n",
        "\n",
        "Input: root = [1]\n",
        "Output: 1\n",
        "Explanation: Root is considered as good.\n",
        " \n",
        "\n",
        "Constraints:\n",
        "\n",
        "The number of nodes in the binary tree is in the range [1, 10^5].\n",
        "Each node's value is between [-10^4, 10^4].\n",
        "\"\"\""
      ],
      "metadata": {
        "id": "BtJmpaQ_N55y"
      },
      "execution_count": null,
      "outputs": []
    },
    {
      "cell_type": "code",
      "source": [
        "# needs revision\n",
        "# code link: https://shareablecode.com/snippets/count-good-nodes-in-binary-tree-python-solution-leetcode-jqmv-b8BM\n",
        "\n",
        "\"\"\"\n",
        "Runtime: 326 ms, faster than 73.24% of Python3 online submissions for Count Good Nodes in Binary Tree.\n",
        "Memory Usage: 32.6 MB, less than 16.88% of Python3 online submissions for Count Good Nodes in Binary Tree.\n",
        "\"\"\"\n",
        "\n",
        "# Definition for a binary tree node.\n",
        "# class TreeNode:\n",
        "#     def __init__(self, val=0, left=None, right=None):\n",
        "#         self.val = val\n",
        "#         self.left = left\n",
        "#         self.right = right\n",
        "class Solution:\n",
        "    def goodNodes(self, root):\n",
        "        result = 0\n",
        "        stk = [(root, root.val)]\n",
        "        while stk:\n",
        "            node, curr_max = stk.pop()\n",
        "            if not node:\n",
        "                continue\n",
        "            curr_max = max(curr_max, node.val)\n",
        "            result += int(curr_max <= node.val)\n",
        "            stk.append((node.right, curr_max))\n",
        "            stk.append((node.left, curr_max))\n",
        "        return result     "
      ],
      "metadata": {
        "id": "hfW4SH5bN5lV"
      },
      "execution_count": null,
      "outputs": []
    },
    {
      "cell_type": "markdown",
      "source": [
        "##02-09-2022"
      ],
      "metadata": {
        "id": "y0fMdoh3WQd9"
      }
    },
    {
      "cell_type": "markdown",
      "source": [
        "####637. Average of Levels in Binary Tree"
      ],
      "metadata": {
        "id": "v69HawwaWP_b"
      }
    },
    {
      "cell_type": "code",
      "source": [
        "\"\"\"\n",
        "637. Average of Levels in Binary Tree\n",
        "Easy\n",
        "\n",
        "4043\n",
        "\n",
        "272\n",
        "\n",
        "Add to List\n",
        "\n",
        "Share\n",
        "Given the root of a binary tree, return the average value of the nodes on each level in the form of an array. Answers within 10-5 of the actual answer will be accepted.\n",
        " \n",
        "\n",
        "Example 1:\n",
        "\n",
        "\n",
        "Input: root = [3,9,20,null,null,15,7]\n",
        "Output: [3.00000,14.50000,11.00000]\n",
        "Explanation: The average value of nodes on level 0 is 3, on level 1 is 14.5, and on level 2 is 11.\n",
        "Hence return [3, 14.5, 11].\n",
        "Example 2:\n",
        "\n",
        "\n",
        "Input: root = [3,9,20,15,7]\n",
        "Output: [3.00000,14.50000,11.00000]\n",
        " \n",
        "\n",
        "Constraints:\n",
        "\n",
        "The number of nodes in the tree is in the range [1, 104].\n",
        "-231 <= Node.val <= 231 - 1\n",
        "\"\"\""
      ],
      "metadata": {
        "id": "5ps1Ph7TWoB8"
      },
      "execution_count": null,
      "outputs": []
    },
    {
      "cell_type": "code",
      "source": [
        "# needs revision\n",
        "# code link: https://ibrahimhasnat.com/average-of-levels-in-binary-tree-leetcode-637-python-solution/\n",
        "# python3\n",
        "\n",
        "\"\"\"\n",
        "Runtime: 68 ms, faster than 70.75% of Python3 online submissions for Average of Levels in Binary Tree.\n",
        "Memory Usage: 16.5 MB, less than 87.46% of Python3 online submissions for Average of Levels in Binary Tree.\n",
        "\"\"\"\n",
        "\n",
        "class Solution:\n",
        "    def averageOfLevels(self, root: Optional[TreeNode]) -> List[float]:\n",
        "        if root is None:\n",
        "            return []\n",
        "\n",
        "        result = []\n",
        "        queue = [root]\n",
        "\n",
        "        while queue:\n",
        "            size = len(queue)\n",
        "            level = []\n",
        "\n",
        "            for i in range(size):\n",
        "                node = queue.pop()\n",
        "                level.append(node.val)\n",
        "\n",
        "                if node.left:\n",
        "                    queue.insert(0, node.left)\n",
        "                if node.right:\n",
        "                    queue.insert(0, node.right)\n",
        "\n",
        "            result.append(sum(level) / len(level))\n",
        "\n",
        "        return result"
      ],
      "metadata": {
        "id": "8OlFD_7HWRBN"
      },
      "execution_count": null,
      "outputs": []
    },
    {
      "cell_type": "markdown",
      "source": [
        "##03-09-2022"
      ],
      "metadata": {
        "id": "YIjxkjDGc9s5"
      }
    },
    {
      "cell_type": "markdown",
      "source": [
        "####967. Numbers With Same Consecutive Differences"
      ],
      "metadata": {
        "id": "Tl3Xe7I_c8n5"
      }
    },
    {
      "cell_type": "code",
      "source": [
        "\"\"\"\n",
        "967. Numbers With Same Consecutive Differences\n",
        "Medium\n",
        "\n",
        "2112\n",
        "\n",
        "169\n",
        "\n",
        "Add to List\n",
        "\n",
        "Share\n",
        "Return all non-negative integers of length n such that the absolute difference between every two consecutive digits is k.\n",
        "\n",
        "Note that every number in the answer must not have leading zeros. For example, 01 has one leading zero and is invalid.\n",
        "\n",
        "You may return the answer in any order.\n",
        "\n",
        " \n",
        "\n",
        "Example 1:\n",
        "\n",
        "Input: n = 3, k = 7\n",
        "Output: [181,292,707,818,929]\n",
        "Explanation: Note that 070 is not a valid number, because it has leading zeroes.\n",
        "Example 2:\n",
        "\n",
        "Input: n = 2, k = 1\n",
        "Output: [10,12,21,23,32,34,43,45,54,56,65,67,76,78,87,89,98]\n",
        " \n",
        "\n",
        "Constraints:\n",
        "\n",
        "2 <= n <= 9\n",
        "0 <= k <= 9\n",
        "\"\"\""
      ],
      "metadata": {
        "id": "Px772E2Tc25A"
      },
      "execution_count": null,
      "outputs": []
    },
    {
      "cell_type": "code",
      "source": [
        "# needs revision\n",
        "# code link: https://github.com/qinhanmin2014/LeetCode-solutions/blob/master/Python/967.md\n",
        "\n",
        "\n",
        "\"\"\"\n",
        "Runtime: 62 ms, faster than 38.71% of Python online submissions for Numbers With Same Consecutive Differences.\n",
        "Memory Usage: 13.6 MB, less than 41.94% of Python online submissions for Numbers With Same Consecutive Differences.\n",
        "\"\"\"\n",
        "\n",
        "def numsSameConsecDiff(n, k):\n",
        "    ans = []\n",
        "    if n == 1:\n",
        "        ans.append(0)\n",
        "\n",
        "    def dfs(num, cnt):\n",
        "        if cnt == n:\n",
        "            ans.append(int(num))\n",
        "            return\n",
        "        last_num = int(num[-1])\n",
        "        if k == 0:\n",
        "            dfs(num + str(last_num), cnt + 1)\n",
        "            return\n",
        "        for cur_num in [last_num + k, last_num - k]:\n",
        "            if 0 <= cur_num <= 9:\n",
        "                dfs(num + str(cur_num), cnt + 1)\n",
        "\n",
        "    for i in range(1, 10):\n",
        "        dfs(str(i), 1)\n",
        "    return ans\n",
        "\n",
        "\n",
        "numsSameConsecDiff(3, 7)"
      ],
      "metadata": {
        "colab": {
          "base_uri": "https://localhost:8080/"
        },
        "id": "3TgXJJ5Qc5zh",
        "outputId": "c3e9c958-870e-4829-ff00-848b4c9e1332"
      },
      "execution_count": null,
      "outputs": [
        {
          "output_type": "execute_result",
          "data": {
            "text/plain": [
              "[181, 292, 707, 818, 929]"
            ]
          },
          "metadata": {},
          "execution_count": 2
        }
      ]
    },
    {
      "cell_type": "markdown",
      "source": [
        "##04-09-2022"
      ],
      "metadata": {
        "id": "ucBxShhfwRRY"
      }
    },
    {
      "cell_type": "markdown",
      "source": [
        "####987. Vertical Order Traversal of a Binary Tree"
      ],
      "metadata": {
        "id": "e4wTRX2VwXQT"
      }
    },
    {
      "cell_type": "code",
      "source": [
        "\"\"\"\n",
        "987. Vertical Order Traversal of a Binary Tree\n",
        "Hard\n",
        "\n",
        "4892\n",
        "\n",
        "3871\n",
        "\n",
        "Add to List\n",
        "\n",
        "Share\n",
        "Given the root of a binary tree, calculate the vertical order traversal of the binary tree.\n",
        "\n",
        "For each node at position (row, col), its left and right children will be at positions (row + 1, col - 1) and (row + 1, col + 1) respectively. The root of the tree is at (0, 0).\n",
        "\n",
        "The vertical order traversal of a binary tree is a list of top-to-bottom orderings for each column index starting from the leftmost column and ending on the rightmost column. There may be multiple nodes in the same row and same column. In such a case, sort these nodes by their values.\n",
        "\n",
        "Return the vertical order traversal of the binary tree.\n",
        "\n",
        " \n",
        "\n",
        "Example 1:\n",
        "\n",
        "\n",
        "Input: root = [3,9,20,null,null,15,7]\n",
        "Output: [[9],[3,15],[20],[7]]\n",
        "Explanation:\n",
        "Column -1: Only node 9 is in this column.\n",
        "Column 0: Nodes 3 and 15 are in this column in that order from top to bottom.\n",
        "Column 1: Only node 20 is in this column.\n",
        "Column 2: Only node 7 is in this column.\n",
        "Example 2:\n",
        "\n",
        "\n",
        "Input: root = [1,2,3,4,5,6,7]\n",
        "Output: [[4],[2],[1,5,6],[3],[7]]\n",
        "Explanation:\n",
        "Column -2: Only node 4 is in this column.\n",
        "Column -1: Only node 2 is in this column.\n",
        "Column 0: Nodes 1, 5, and 6 are in this column.\n",
        "          1 is at the top, so it comes first.\n",
        "          5 and 6 are at the same position (2, 0), so we order them by their value, 5 before 6.\n",
        "Column 1: Only node 3 is in this column.\n",
        "Column 2: Only node 7 is in this column.\n",
        "Example 3:\n",
        "\n",
        "\n",
        "Input: root = [1,2,3,4,6,5,7]\n",
        "Output: [[4],[2],[1,5,6],[3],[7]]\n",
        "Explanation:\n",
        "This case is the exact same as example 2, but with nodes 5 and 6 swapped.\n",
        "Note that the solution remains the same since 5 and 6 are in the same location and should be ordered by their values.\n",
        " \n",
        "\n",
        "Constraints:\n",
        "\n",
        "The number of nodes in the tree is in the range [1, 1000].\n",
        "0 <= Node.val <= 1000\n",
        "\"\"\""
      ],
      "metadata": {
        "id": "TmSxhCvVwUDV"
      },
      "execution_count": null,
      "outputs": []
    },
    {
      "cell_type": "code",
      "source": [
        "# needs revision\n",
        "# code link: https://walkccc.me/LeetCode/problems/0987/\n",
        "\n",
        "\"\"\"\n",
        "Runtime: 59 ms, faster than 36.27% of Python3 online submissions for Vertical Order Traversal of a Binary Tree.\n",
        "Memory Usage: 14.2 MB, less than 72.74% of Python3 online submissions for Vertical Order Traversal of a Binary Tree.\n",
        "\"\"\"\n",
        "\n",
        "\n",
        "# Definition for a binary tree node.\n",
        "# class TreeNode:\n",
        "#     def __init__(self, val=0, left=None, right=None):\n",
        "#         self.val = val\n",
        "#         self.left = left\n",
        "#         self.right = right\n",
        "class Solution:\n",
        "    def verticalTraversal(self, root: Optional[TreeNode]) -> List[List[int]]:\n",
        "        ans = []\n",
        "        xToNodes = defaultdict(list)\n",
        "\n",
        "        def dfs(node: Optional[TreeNode], x: int, y: int) -> None:\n",
        "          if not node:\n",
        "            return\n",
        "\n",
        "          xToNodes[x].append((-y, node.val))\n",
        "          dfs(node.left, x - 1, y - 1)\n",
        "          dfs(node.right, x + 1, y - 1)\n",
        "\n",
        "        dfs(root, 0, 0)\n",
        "\n",
        "        for _, nodes in sorted(xToNodes.items(), key=lambda item: item[0]):\n",
        "          ans.append([val for _, val in sorted(nodes)])\n",
        "\n",
        "        return ans"
      ],
      "metadata": {
        "id": "8Zcr-slwweAG"
      },
      "execution_count": null,
      "outputs": []
    },
    {
      "cell_type": "markdown",
      "source": [
        "##05-09-2022"
      ],
      "metadata": {
        "id": "1BXAGMqwrimE"
      }
    },
    {
      "cell_type": "markdown",
      "source": [
        "####429. N-ary Tree Level Order Traversal"
      ],
      "metadata": {
        "id": "J-VlvNrVroUe"
      }
    },
    {
      "cell_type": "code",
      "source": [
        "\"\"\"\n",
        "429. N-ary Tree Level Order Traversal\n",
        "Medium\n",
        "\n",
        "2898\n",
        "\n",
        "114\n",
        "\n",
        "Add to List\n",
        "\n",
        "Share\n",
        "Given an n-ary tree, return the level order traversal of its nodes' values.\n",
        "\n",
        "Nary-Tree input serialization is represented in their level order traversal, each group of children is separated by the null value (See examples).\n",
        "\n",
        " \n",
        "\n",
        "Example 1:\n",
        "\n",
        "\n",
        "\n",
        "Input: root = [1,null,3,2,4,null,5,6]\n",
        "Output: [[1],[3,2,4],[5,6]]\n",
        "Example 2:\n",
        "\n",
        "\n",
        "\n",
        "Input: root = [1,null,2,3,4,5,null,null,6,7,null,8,null,9,10,null,null,11,null,12,null,13,null,null,14]\n",
        "Output: [[1],[2,3,4,5],[6,7,8,9,10],[11,12,13],[14]]\n",
        " \n",
        "\n",
        "Constraints:\n",
        "\n",
        "The height of the n-ary tree is less than or equal to 1000\n",
        "The total number of nodes is between [0, 104]\n",
        "\"\"\""
      ],
      "metadata": {
        "id": "_u3OPPPqreuA"
      },
      "execution_count": null,
      "outputs": []
    },
    {
      "cell_type": "code",
      "source": [
        "# needs revision\n",
        "# code link: https://zhenyu0519.github.io/2020/03/26/lc429/\n",
        "\n",
        "\"\"\"\n",
        "Runtime: 71 ms, faster than 66.87% of Python3 online submissions for N-ary Tree Level Order Traversal.\n",
        "Memory Usage: 16 MB, less than 50.08% of Python3 online submissions for N-ary Tree Level Order Traversal.\n",
        "\"\"\"\n",
        "\n",
        "\"\"\"\n",
        "# Definition for a Node.\n",
        "class Node:\n",
        "    def __init__(self, val=None, children=None):\n",
        "        self.val = val\n",
        "        self.children = children\n",
        "\"\"\"\n",
        "\n",
        "class Solution:\n",
        "    def levelOrder(self, root: 'Node') -> List[List[int]]:\n",
        "        if not root: return []\n",
        "        q = collections.deque([root])\n",
        "        res = []\n",
        "        while q:\n",
        "            temp = []\n",
        "            size = len(q)\n",
        "            for i in range(size):\n",
        "                node = q.popleft()\n",
        "                temp.append(node.val)\n",
        "                for child in node.children:\n",
        "                    q.append(child)\n",
        "            res.append(temp)\n",
        "        return res"
      ],
      "metadata": {
        "id": "p7_pdDYhr1YQ"
      },
      "execution_count": null,
      "outputs": []
    },
    {
      "cell_type": "markdown",
      "source": [
        "##06-09-2022"
      ],
      "metadata": {
        "id": "5brlXCE1sZx2"
      }
    },
    {
      "cell_type": "markdown",
      "source": [
        "####814. Binary Tree Pruning"
      ],
      "metadata": {
        "id": "jmeZZbfssdod"
      }
    },
    {
      "cell_type": "code",
      "source": [
        "\"\"\"\n",
        "814. Binary Tree Pruning\n",
        "Medium\n",
        "\n",
        "3583\n",
        "\n",
        "94\n",
        "\n",
        "Add to List\n",
        "\n",
        "Share\n",
        "Given the root of a binary tree, return the same tree where every subtree (of the given tree) not containing a 1 has been removed.\n",
        "\n",
        "A subtree of a node node is node plus every node that is a descendant of node.\n",
        "\n",
        " \n",
        "\n",
        "Example 1:\n",
        "\n",
        "\n",
        "Input: root = [1,null,0,0,1]\n",
        "Output: [1,null,0,null,1]\n",
        "Explanation: \n",
        "Only the red nodes satisfy the property \"every subtree not containing a 1\".\n",
        "The diagram on the right represents the answer.\n",
        "Example 2:\n",
        "\n",
        "\n",
        "Input: root = [1,0,1,0,0,0,1]\n",
        "Output: [1,null,1,null,1]\n",
        "Example 3:\n",
        "\n",
        "\n",
        "Input: root = [1,1,0,1,1,0,1,0]\n",
        "Output: [1,1,0,1,1,null,1]\n",
        " \n",
        "\n",
        "Constraints:\n",
        "\n",
        "The number of nodes in the tree is in the range [1, 200].\n",
        "Node.val is either 0 or 1.\n",
        "\"\"\""
      ],
      "metadata": {
        "id": "Wqc60QRisZHD"
      },
      "execution_count": null,
      "outputs": []
    },
    {
      "cell_type": "code",
      "source": [
        "# needs revision\n",
        "# code link: https://goodtecher.com/leetcode-814-binary-tree-pruning/\n",
        "\n",
        "\"\"\"\n",
        "Runtime: 48 ms, faster than 5.85% of Python online submissions for Binary Tree Pruning.\n",
        "Memory Usage: 13.5 MB, less than 60.82% of Python online submissions for Binary Tree Pruning.\n",
        "\"\"\"\n",
        "\n",
        "class Solution(object):\n",
        "    def pruneTree(self, root):\n",
        "        if not self.helper(root):\n",
        "            return None\n",
        "                \n",
        "        return root\n",
        "    \n",
        "    \n",
        "    def helper(self, root):\n",
        "        if not root:\n",
        "            return False\n",
        "                \n",
        "        left = self.helper(root.left)\n",
        "        right = self.helper(root.right)\n",
        "        \n",
        "        \n",
        "        if not left:\n",
        "            root.left = None\n",
        "            \n",
        "        if not right:\n",
        "            root.right = None\n",
        "            \n",
        "            \n",
        "        return root.val == 1 or left or right"
      ],
      "metadata": {
        "id": "d_mUjrQLsj60"
      },
      "execution_count": null,
      "outputs": []
    },
    {
      "cell_type": "markdown",
      "source": [
        "##07-09-2022"
      ],
      "metadata": {
        "id": "jDbimSyr5p08"
      }
    },
    {
      "cell_type": "markdown",
      "source": [
        "####606. Construct String from Binary Tree"
      ],
      "metadata": {
        "id": "Et_iKLjw5qkJ"
      }
    },
    {
      "cell_type": "code",
      "source": [
        "\"\"\"\n",
        "606. Construct String from Binary Tree\n",
        "Easy\n",
        "\n",
        "2137\n",
        "\n",
        "2655\n",
        "\n",
        "Add to List\n",
        "\n",
        "Share\n",
        "Given the root of a binary tree, construct a string consisting of parenthesis and integers from a binary tree with the preorder traversal way, and return it.\n",
        "\n",
        "Omit all the empty parenthesis pairs that do not affect the one-to-one mapping relationship between the string and the original binary tree.\n",
        "\n",
        " \n",
        "\n",
        "Example 1:\n",
        "\n",
        "\n",
        "Input: root = [1,2,3,4]\n",
        "Output: \"1(2(4))(3)\"\n",
        "Explanation: Originally, it needs to be \"1(2(4)())(3()())\", but you need to omit all the unnecessary empty parenthesis pairs. And it will be \"1(2(4))(3)\"\n",
        "Example 2:\n",
        "\n",
        "\n",
        "Input: root = [1,2,3,null,4]\n",
        "Output: \"1(2()(4))(3)\"\n",
        "Explanation: Almost the same as the first example, except we cannot omit the first parenthesis pair to break the one-to-one mapping relationship between the input and the output.\n",
        " \n",
        "\n",
        "Constraints:\n",
        "\n",
        "The number of nodes in the tree is in the range [1, 104].\n",
        "-1000 <= Node.val <= 1000\n",
        "\"\"\""
      ],
      "metadata": {
        "id": "mJC09bO15sEQ"
      },
      "execution_count": null,
      "outputs": []
    },
    {
      "cell_type": "code",
      "source": [
        "# needs revision\n",
        "# code link: https://walkccc.me/LeetCode/problems/0606/\n",
        "# python3\n",
        "\n",
        "\"\"\"\n",
        "Runtime: 92 ms, faster than 35.93% of Python3 online submissions for Construct String from Binary Tree.\n",
        "Memory Usage: 16.4 MB, less than 30.02% of Python3 online submissions for Construct String from Binary Tree.\n",
        "\"\"\"\n",
        "\n",
        "# Definition for a binary tree node.\n",
        "# class TreeNode:\n",
        "#     def __init__(self, val=0, left=None, right=None):\n",
        "#         self.val = val\n",
        "#         self.left = left\n",
        "#         self.right = right\n",
        "class Solution:\n",
        "    def tree2str(self, root: Optional[TreeNode]) -> str:\n",
        "        def dfs(root: Optional[TreeNode]) -> str:\n",
        "          if not root:\n",
        "            return ''\n",
        "          if root.right:\n",
        "            return str(root.val) + '(' + dfs(root.left) + ')(' + dfs(root.right) + ')'\n",
        "          if root.left:\n",
        "            return str(root.val) + '(' + dfs(root.left) + ')'\n",
        "          return str(root.val)\n",
        "        return dfs(root)"
      ],
      "metadata": {
        "id": "aaXsuJfP55ok"
      },
      "execution_count": null,
      "outputs": []
    }
  ]
}