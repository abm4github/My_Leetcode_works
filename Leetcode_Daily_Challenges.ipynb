{
  "nbformat": 4,
  "nbformat_minor": 0,
  "metadata": {
    "colab": {
      "name": "Leetcode_Daily_Challenges.ipynb",
      "provenance": [],
      "authorship_tag": "ABX9TyO0YomYz9LD428DNFlCqLU7",
      "include_colab_link": true
    },
    "kernelspec": {
      "name": "python3",
      "display_name": "Python 3"
    },
    "language_info": {
      "name": "python"
    }
  },
  "cells": [
    {
      "cell_type": "markdown",
      "metadata": {
        "id": "view-in-github",
        "colab_type": "text"
      },
      "source": [
        "<a href=\"https://colab.research.google.com/github/abm4github/My_Leetcode_works/blob/main/Leetcode_Daily_Challenges.ipynb\" target=\"_parent\"><img src=\"https://colab.research.google.com/assets/colab-badge.svg\" alt=\"Open In Colab\"/></a>"
      ]
    },
    {
      "cell_type": "markdown",
      "source": [
        "##23-08-2022"
      ],
      "metadata": {
        "id": "zDpvu8UDYUpk"
      }
    },
    {
      "cell_type": "markdown",
      "source": [
        "234. Palindrome Linked List"
      ],
      "metadata": {
        "id": "PybMBZKuYCHc"
      }
    },
    {
      "cell_type": "code",
      "source": [
        "\"\"\"\n",
        "234. Palindrome Linked List\n",
        "Easy\n",
        "\n",
        "11116\n",
        "\n",
        "634\n",
        "\n",
        "Add to List\n",
        "\n",
        "Share\n",
        "Given the head of a singly linked list, return true if it is a palindrome.\n",
        "\n",
        " \n",
        "\n",
        "Example 1:\n",
        "\n",
        "\n",
        "Input: head = [1,2,2,1]\n",
        "Output: true\n",
        "Example 2:\n",
        "\n",
        "\n",
        "Input: head = [1,2]\n",
        "Output: false\n",
        " \n",
        "\n",
        "Constraints:\n",
        "\n",
        "The number of nodes in the list is in the range [1, 105].\n",
        "0 <= Node.val <= 9\n",
        " \n",
        "\n",
        "Follow up: Could you do it in O(n) time and O(1) space?\n",
        "\"\"\""
      ],
      "metadata": {
        "id": "DM9WuC4VYEE-"
      },
      "execution_count": null,
      "outputs": []
    },
    {
      "cell_type": "code",
      "execution_count": 2,
      "metadata": {
        "id": "RsNBqJOxXfl9"
      },
      "outputs": [],
      "source": [
        "# needs revision\n",
        "# https://www.youtube.com/watch?v=yOzXms1J6Nk\n",
        "\n",
        "\"\"\"\n",
        "Runtime: 1597 ms, faster than 48.63% of Python online submissions for Palindrome Linked List.\n",
        "Memory Usage: 67.1 MB, less than 82.80% of Python online submissions for Palindrome Linked List.\n",
        "\"\"\"\n",
        "\n",
        "# Definition for singly-linked list.\n",
        "# class ListNode(object):\n",
        "#     def __init__(self, val=0, next=None):\n",
        "#         self.val = val\n",
        "#         self.next = next\n",
        "class Solution(object):\n",
        "    def isPalindrome(self, head):        \n",
        "        fast, slow = head, head\n",
        "        \n",
        "        while fast and fast.next:\n",
        "            fast = fast.next.next\n",
        "            slow = slow.next\n",
        "        \n",
        "        \n",
        "        prev = None\n",
        "        \n",
        "        while slow:\n",
        "            temp = slow.next\n",
        "            slow.next = prev\n",
        "            prev = slow\n",
        "            slow = temp\n",
        "            \n",
        "        left, right = head, prev\n",
        "        while right:\n",
        "            if left.val != right.val:\n",
        "                return False\n",
        "            left = left.next\n",
        "            right = right.next\n",
        "        return True"
      ]
    }
  ]
}