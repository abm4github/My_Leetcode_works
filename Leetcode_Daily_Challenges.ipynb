{
  "nbformat": 4,
  "nbformat_minor": 0,
  "metadata": {
    "colab": {
      "provenance": [],
      "collapsed_sections": [],
      "authorship_tag": "ABX9TyMjQA/uGdzCJBH5MIABLzZm",
      "include_colab_link": true
    },
    "kernelspec": {
      "name": "python3",
      "display_name": "Python 3"
    },
    "language_info": {
      "name": "python"
    }
  },
  "cells": [
    {
      "cell_type": "markdown",
      "metadata": {
        "id": "view-in-github",
        "colab_type": "text"
      },
      "source": [
        "<a href=\"https://colab.research.google.com/github/abm4github/My_Leetcode_works/blob/main/Leetcode_Daily_Challenges.ipynb\" target=\"_parent\"><img src=\"https://colab.research.google.com/assets/colab-badge.svg\" alt=\"Open In Colab\"/></a>"
      ]
    },
    {
      "cell_type": "markdown",
      "source": [
        "##23-08-2022"
      ],
      "metadata": {
        "id": "zDpvu8UDYUpk"
      }
    },
    {
      "cell_type": "markdown",
      "source": [
        "####234. Palindrome Linked List"
      ],
      "metadata": {
        "id": "PybMBZKuYCHc"
      }
    },
    {
      "cell_type": "code",
      "source": [
        "\"\"\"\n",
        "234. Palindrome Linked List\n",
        "Easy\n",
        "\n",
        "11116\n",
        "\n",
        "634\n",
        "\n",
        "Add to List\n",
        "\n",
        "Share\n",
        "Given the head of a singly linked list, return true if it is a palindrome.\n",
        "\n",
        " \n",
        "\n",
        "Example 1:\n",
        "\n",
        "\n",
        "Input: head = [1,2,2,1]\n",
        "Output: true\n",
        "Example 2:\n",
        "\n",
        "\n",
        "Input: head = [1,2]\n",
        "Output: false\n",
        " \n",
        "\n",
        "Constraints:\n",
        "\n",
        "The number of nodes in the list is in the range [1, 105].\n",
        "0 <= Node.val <= 9\n",
        " \n",
        "\n",
        "Follow up: Could you do it in O(n) time and O(1) space?\n",
        "\"\"\""
      ],
      "metadata": {
        "id": "DM9WuC4VYEE-"
      },
      "execution_count": null,
      "outputs": []
    },
    {
      "cell_type": "code",
      "execution_count": null,
      "metadata": {
        "id": "RsNBqJOxXfl9"
      },
      "outputs": [],
      "source": [
        "# needs revision\n",
        "# https://www.youtube.com/watch?v=yOzXms1J6Nk\n",
        "\n",
        "\"\"\"\n",
        "Runtime: 1597 ms, faster than 48.63% of Python online submissions for Palindrome Linked List.\n",
        "Memory Usage: 67.1 MB, less than 82.80% of Python online submissions for Palindrome Linked List.\n",
        "\"\"\"\n",
        "\n",
        "# Definition for singly-linked list.\n",
        "# class ListNode(object):\n",
        "#     def __init__(self, val=0, next=None):\n",
        "#         self.val = val\n",
        "#         self.next = next\n",
        "class Solution(object):\n",
        "    def isPalindrome(self, head):        \n",
        "        fast, slow = head, head\n",
        "        \n",
        "        while fast and fast.next:\n",
        "            fast = fast.next.next\n",
        "            slow = slow.next\n",
        "        \n",
        "        \n",
        "        prev = None\n",
        "        \n",
        "        while slow:\n",
        "            temp = slow.next\n",
        "            slow.next = prev\n",
        "            prev = slow\n",
        "            slow = temp\n",
        "            \n",
        "        left, right = head, prev\n",
        "        while right:\n",
        "            if left.val != right.val:\n",
        "                return False\n",
        "            left = left.next\n",
        "            right = right.next\n",
        "        return True"
      ]
    },
    {
      "cell_type": "markdown",
      "source": [
        "##24-08-2022"
      ],
      "metadata": {
        "id": "ff8xrQujtDuU"
      }
    },
    {
      "cell_type": "markdown",
      "source": [
        "####326. Power of Three"
      ],
      "metadata": {
        "id": "gEKb5YOwtHr8"
      }
    },
    {
      "cell_type": "code",
      "source": [
        "\"\"\"\n",
        "326. Power of Three\n",
        "Easy\n",
        "\n",
        "1843\n",
        "\n",
        "175\n",
        "\n",
        "Add to List\n",
        "\n",
        "Share\n",
        "Given an integer n, return true if it is a power of three. Otherwise, return false.\n",
        "\n",
        "An integer n is a power of three, if there exists an integer x such that n == 3x.\n",
        "\n",
        " \n",
        "\n",
        "Example 1:\n",
        "\n",
        "Input: n = 27\n",
        "Output: true\n",
        "Example 2:\n",
        "\n",
        "Input: n = 0\n",
        "Output: false\n",
        "Example 3:\n",
        "\n",
        "Input: n = 9\n",
        "Output: true\n",
        " \n",
        "\n",
        "Constraints:\n",
        "\n",
        "-231 <= n <= 231 - 1\n",
        "\"\"\""
      ],
      "metadata": {
        "id": "qlQ_IczEtGtP"
      },
      "execution_count": null,
      "outputs": []
    },
    {
      "cell_type": "code",
      "source": [
        "def isPowerOfThree(n):\n",
        "    if n < 9 and n != 1 and n != 3:\n",
        "        return False\n",
        "    if n == 1 or n == 3:\n",
        "        return True\n",
        "    while n > 1:\n",
        "        if n % 3 != 0:\n",
        "            return False\n",
        "        n = n/3\n",
        "    return True\n",
        "\n",
        "isPowerOfThree(18)  "
      ],
      "metadata": {
        "colab": {
          "base_uri": "https://localhost:8080/"
        },
        "id": "HaFbUDGetOOU",
        "outputId": "b31099e8-711d-471d-d49d-10f43523f1b9"
      },
      "execution_count": null,
      "outputs": [
        {
          "output_type": "execute_result",
          "data": {
            "text/plain": [
              "False"
            ]
          },
          "metadata": {},
          "execution_count": 1
        }
      ]
    },
    {
      "cell_type": "markdown",
      "source": [
        "##25-08-2022"
      ],
      "metadata": {
        "id": "1YjBda8V4ZI9"
      }
    },
    {
      "cell_type": "markdown",
      "source": [
        "####383. Ransom Note"
      ],
      "metadata": {
        "id": "o0NYCRma4b4r"
      }
    },
    {
      "cell_type": "code",
      "source": [
        "\"\"\"\n",
        "383. Ransom Note\n",
        "Easy\n",
        "\n",
        "2813\n",
        "\n",
        "355\n",
        "\n",
        "Add to List\n",
        "\n",
        "Share\n",
        "Given two strings ransomNote and magazine, return true if ransomNote can be constructed by using the letters from magazine and false otherwise.\n",
        "\n",
        "Each letter in magazine can only be used once in ransomNote.\n",
        "\n",
        " \n",
        "\n",
        "Example 1:\n",
        "\n",
        "Input: ransomNote = \"a\", magazine = \"b\"\n",
        "Output: false\n",
        "Example 2:\n",
        "\n",
        "Input: ransomNote = \"aa\", magazine = \"ab\"\n",
        "Output: false\n",
        "Example 3:\n",
        "\n",
        "Input: ransomNote = \"aa\", magazine = \"aab\"\n",
        "Output: true\n",
        " \n",
        "\n",
        "Constraints:\n",
        "\n",
        "1 <= ransomNote.length, magazine.length <= 105\n",
        "ransomNote and magazine consist of lowercase English letters.\n",
        "\"\"\""
      ],
      "metadata": {
        "id": "JYc0NPhC4a3k"
      },
      "execution_count": null,
      "outputs": []
    },
    {
      "cell_type": "code",
      "source": [
        "\"\"\"\n",
        "Runtime: 37 ms, faster than 95.60% of Python online submissions for Ransom Note.\n",
        "Memory Usage: 13.7 MB, less than 35.43% of Python online submissions for Ransom Note.\n",
        "\"\"\"\n",
        "\n",
        "def canConstruct(ransomNote, magazine):\n",
        "    d = {}\n",
        "    for char in ransomNote:\n",
        "        if char in d.keys():\n",
        "            d[char] += 1\n",
        "        else:\n",
        "            d[char] = 1\n",
        "    for key in d.keys():\n",
        "        if key not in magazine:\n",
        "            return False\n",
        "        else:\n",
        "            if magazine.count(key) < d[key]:\n",
        "                return False\n",
        "    return True\n",
        "    \n",
        "ransomNote = \"aa\"\n",
        "magazine = \"aab\"\n",
        "canConstruct(ransomNote, magazine)"
      ],
      "metadata": {
        "colab": {
          "base_uri": "https://localhost:8080/"
        },
        "id": "OYqhUKGr4est",
        "outputId": "4ada7603-bf5e-4cbe-8959-cdd6dcf0c528"
      },
      "execution_count": null,
      "outputs": [
        {
          "output_type": "execute_result",
          "data": {
            "text/plain": [
              "True"
            ]
          },
          "metadata": {},
          "execution_count": 1
        }
      ]
    },
    {
      "cell_type": "markdown",
      "source": [
        "##26-08-2022"
      ],
      "metadata": {
        "id": "mN5CO9uydhKj"
      }
    },
    {
      "cell_type": "markdown",
      "source": [
        "####869. Reordered Power of 2"
      ],
      "metadata": {
        "id": "9kozYEfBdnW0"
      }
    },
    {
      "cell_type": "code",
      "source": [
        "\"\"\"\n",
        "869. Reordered Power of 2\n",
        "Medium\n",
        "\n",
        "1048\n",
        "\n",
        "268\n",
        "\n",
        "Add to List\n",
        "\n",
        "Share\n",
        "You are given an integer n. We reorder the digits in any order (including the original order) such that the leading digit is not zero.\n",
        "\n",
        "Return true if and only if we can do this so that the resulting number is a power of two.\n",
        "\n",
        " \n",
        "\n",
        "Example 1:\n",
        "\n",
        "Input: n = 1\n",
        "Output: true\n",
        "Example 2:\n",
        "\n",
        "Input: n = 10\n",
        "Output: false\n",
        " \n",
        "\n",
        "Constraints:\n",
        "\n",
        "1 <= n <= 109\n",
        "\"\"\""
      ],
      "metadata": {
        "id": "bJSlJHQkdmwH"
      },
      "execution_count": null,
      "outputs": []
    },
    {
      "cell_type": "code",
      "source": [
        "# this question can be presented in much simpler way, question seems tricky\n",
        "\n",
        "\"\"\"\n",
        "Runtime: 26 ms, faster than 89.47% of Python online submissions for Reordered Power of 2.\n",
        "Memory Usage: 13.4 MB, less than 68.42% of Python online submissions for Reordered Power of 2.\n",
        "\"\"\"\n",
        "\n",
        "def reorderedPowerOf2(n):\n",
        "    if n == 1:\n",
        "        return True\n",
        "    \n",
        "    def makeDict(n):\n",
        "        str_n = str(n)\n",
        "        d = {}\n",
        "        for i in str_n:\n",
        "            if i in d.keys():\n",
        "                d[i] += 1\n",
        "            else:\n",
        "                d[i] = 1\n",
        "        return d\n",
        "    \n",
        "    dict_n = makeDict(n)\n",
        "    len_n = len(str(n))\n",
        "    for i in range(30):\n",
        "        nn = 2**i\n",
        "        if len(str(nn)) == len_n:\n",
        "            if makeDict(nn) == dict_n:\n",
        "                return True\n",
        "    return False\n",
        "\n",
        "reorderedPowerOf2(8888360)"
      ],
      "metadata": {
        "colab": {
          "base_uri": "https://localhost:8080/"
        },
        "id": "bw1Ovl8Wdh7H",
        "outputId": "751f5763-cb12-4abc-9d25-c10735bd385f"
      },
      "execution_count": null,
      "outputs": [
        {
          "output_type": "execute_result",
          "data": {
            "text/plain": [
              "True"
            ]
          },
          "metadata": {},
          "execution_count": 14
        }
      ]
    },
    {
      "cell_type": "code",
      "source": [
        "#silly alternate solution :)\n",
        "\n",
        "\"\"\"\n",
        "Runtime: 21 ms, faster than 94.74% of Python online submissions for Reordered Power of 2.\n",
        "Memory Usage: 13.3 MB, less than 68.42% of Python online submissions for Reordered Power of 2.\n",
        "\"\"\"\n",
        "\n",
        "def reorderedPowerOf2(n):\n",
        "    if n == 1:\n",
        "        return True\n",
        "    \n",
        "    def makeDict(n):\n",
        "        str_n = str(n)\n",
        "        d = {}\n",
        "        for i in str_n:\n",
        "            if i in d.keys():\n",
        "                d[i] += 1\n",
        "            else:\n",
        "                d[i] = 1\n",
        "        return d\n",
        "    \n",
        "    dict_n = makeDict(n)\n",
        "    len_n = len(str(n))\n",
        "    for i in range(30):\n",
        "        nn = 2**i\n",
        "        if len(str(nn)) == len_n:\n",
        "            if makeDict(nn) == dict_n:\n",
        "                del dict_n\n",
        "                del len_n\n",
        "                del nn\n",
        "                return True\n",
        "    return False"
      ],
      "metadata": {
        "id": "uqhVSzD7hKaj"
      },
      "execution_count": null,
      "outputs": []
    },
    {
      "cell_type": "markdown",
      "source": [
        "##27-08-2022"
      ],
      "metadata": {
        "id": "kAs8z8aANS82"
      }
    },
    {
      "cell_type": "markdown",
      "source": [
        "####363. Max Sum of Rectangle No Larger Than K"
      ],
      "metadata": {
        "id": "tNOGhOdoNSon"
      }
    },
    {
      "cell_type": "code",
      "source": [
        "\"\"\"\n",
        "363. Max Sum of Rectangle No Larger Than K\n",
        "Hard\n",
        "\n",
        "2748\n",
        "\n",
        "138\n",
        "\n",
        "Add to List\n",
        "\n",
        "Share\n",
        "Given an m x n matrix matrix and an integer k, return the max sum of a rectangle in the matrix such that its sum is no larger than k.\n",
        "\n",
        "It is guaranteed that there will be a rectangle with a sum no larger than k.\n",
        "\n",
        " \n",
        "\n",
        "Example 1:\n",
        "\n",
        "\n",
        "Input: matrix = [[1,0,1],[0,-2,3]], k = 2\n",
        "Output: 2\n",
        "Explanation: Because the sum of the blue rectangle [[0, 1], [-2, 3]] is 2, and 2 is the max number no larger than k (k = 2).\n",
        "Example 2:\n",
        "\n",
        "Input: matrix = [[2,2,-1]], k = 3\n",
        "Output: 3\n",
        " \n",
        "\n",
        "Constraints:\n",
        "\n",
        "m == matrix.length\n",
        "n == matrix[i].length\n",
        "1 <= m, n <= 100\n",
        "-100 <= matrix[i][j] <= 100\n",
        "-105 <= k <= 105\n",
        " \n",
        "\n",
        "Follow up: What if the number of rows is much larger than the number of columns?\n",
        "\"\"\""
      ],
      "metadata": {
        "id": "BMoCBAC4NSJ1"
      },
      "execution_count": null,
      "outputs": []
    },
    {
      "cell_type": "code",
      "source": [
        "# needs revision\n",
        "# video explanation : https://www.youtube.com/watch?v=IDv9yvQN3Uc\n",
        "# code link: https://github.com/Ayu-99/Data-Structures/blob/master/Leetcode%20July%20Challenge/Python/Max%20Sum%20of%20Rectangle%20No%20Larger%20Than%20K.py \n",
        "\n",
        "\"\"\"\n",
        "Runtime: 3209 ms, faster than 74.31% of Python3 online submissions for Max Sum of Rectangle No Larger Than K.\n",
        "Memory Usage: 14.8 MB, less than 74.31% of Python3 online submissions for Max Sum of Rectangle No Larger Than K.\n",
        "\"\"\"\n",
        "\n",
        "import bisect\n",
        "import math\n",
        "\n",
        "def maxSumSubmatrix(matrix, k):\n",
        "    ret = -math.inf\n",
        "    m, n = len(matrix), len(matrix[0])\n",
        "    if m < n:\n",
        "        matrix = list(zip(*matrix))\n",
        "    m, n = max(m, n), min(m, n)\n",
        "    for le in range(n):\n",
        "        pre_sum = [0] * m\n",
        "        for ri in range(le, n): \n",
        "            for r in range(m):\n",
        "                pre_sum[r] += matrix[r][ri]\n",
        "            arr = [0, math.inf] \n",
        "            cur_sum = 0\n",
        "            for x in pre_sum:\n",
        "                cur_sum += x\n",
        "                idx = bisect.bisect_left(arr, cur_sum - k)\n",
        "                ret = max(ret, cur_sum - arr[idx])\n",
        "                if ret == k: return k\n",
        "                bisect.insort(arr, cur_sum) \n",
        "    return ret\n",
        "\n",
        "\n",
        "matrix = [[1,0,1],[0,-2,3]] \n",
        "k = 2\n",
        "maxSumSubmatrix(matrix, k)"
      ],
      "metadata": {
        "colab": {
          "base_uri": "https://localhost:8080/"
        },
        "id": "ZEW32DVVMeTY",
        "outputId": "d7a81249-ec8e-4374-86e3-881854c59110"
      },
      "execution_count": null,
      "outputs": [
        {
          "output_type": "execute_result",
          "data": {
            "text/plain": [
              "2"
            ]
          },
          "metadata": {},
          "execution_count": 2
        }
      ]
    },
    {
      "cell_type": "markdown",
      "source": [
        "##28-08-2022"
      ],
      "metadata": {
        "id": "1y9sAxe_tkEU"
      }
    },
    {
      "cell_type": "markdown",
      "source": [
        "####1329. Sort the Matrix Diagonally"
      ],
      "metadata": {
        "id": "biIpTZ5xtogu"
      }
    },
    {
      "cell_type": "code",
      "source": [
        "\"\"\"\n",
        "1329. Sort the Matrix Diagonally\n",
        "Medium\n",
        "\n",
        "2469\n",
        "\n",
        "198\n",
        "\n",
        "Add to List\n",
        "\n",
        "Share\n",
        "A matrix diagonal is a diagonal line of cells starting from some cell in either the topmost row or leftmost column and going in the bottom-right direction until reaching the matrix's end. For example, the matrix diagonal starting from mat[2][0], where mat is a 6 x 3 matrix, includes cells mat[2][0], mat[3][1], and mat[4][2].\n",
        "\n",
        "Given an m x n matrix mat of integers, sort each matrix diagonal in ascending order and return the resulting matrix.\n",
        "\n",
        " \n",
        "\n",
        "Example 1:\n",
        "\n",
        "\n",
        "Input: mat = [[3,3,1,1],[2,2,1,2],[1,1,1,2]]\n",
        "Output: [[1,1,1,1],[1,2,2,2],[1,2,3,3]]\n",
        "Example 2:\n",
        "\n",
        "Input: mat = [[11,25,66,1,69,7],[23,55,17,45,15,52],[75,31,36,44,58,8],[22,27,33,25,68,4],[84,28,14,11,5,50]]\n",
        "Output: [[5,17,4,1,52,7],[11,11,25,45,8,69],[14,23,25,44,58,15],[22,27,31,36,50,66],[84,28,75,33,55,68]]\n",
        " \n",
        "\n",
        "Constraints:\n",
        "\n",
        "m == mat.length\n",
        "n == mat[i].length\n",
        "1 <= m, n <= 100\n",
        "1 <= mat[i][j] <= 100\n",
        "\"\"\""
      ],
      "metadata": {
        "id": "4VluRaUrtoOJ"
      },
      "execution_count": null,
      "outputs": []
    },
    {
      "cell_type": "code",
      "source": [
        "# needs revision \n",
        "# video explanation: https://www.youtube.com/watch?v=AFvzHLk8rFA\n",
        "\"\"\"\n",
        "Runtime: 98 ms, faster than 62.65% of Python online submissions for Sort the Matrix Diagonally.\n",
        "Memory Usage: 14.1 MB, less than 7.23% of Python online submissions for Sort the Matrix Diagonally.\n",
        "\"\"\"\n",
        "\n",
        "def diagonalSort(mat):\n",
        "    h = defaultdict(list)\n",
        "    n,m = len(mat), len(mat[0])\n",
        "    \n",
        "    for i in range(n):\n",
        "        for j in range(m):\n",
        "            heappush(h[i-j], mat[i][j])\n",
        "    for i in range(n):\n",
        "        for j in range(m):\n",
        "            mat[i][j] = heappop(h[i-j])\n",
        "            \n",
        "    return mat\n",
        "\n",
        "diagonalSort([[11,25,66,1,69,7],[23,55,17,45,15,52],[75,31,36,44,58,8],[22,27,33,25,68,4],[84,28,14,11,5,50]])"
      ],
      "metadata": {
        "id": "R9eZLcLM7aJC"
      },
      "execution_count": null,
      "outputs": []
    },
    {
      "cell_type": "markdown",
      "source": [
        "##29-08-2022"
      ],
      "metadata": {
        "id": "sua-_MY-PhlG"
      }
    },
    {
      "cell_type": "markdown",
      "source": [
        "####200. Number of Islands"
      ],
      "metadata": {
        "id": "oevmysJMPhaq"
      }
    },
    {
      "cell_type": "code",
      "source": [
        "\"\"\"\n",
        "200. Number of Islands\n",
        "Medium\n",
        "\n",
        "16450\n",
        "\n",
        "379\n",
        "\n",
        "Add to List\n",
        "\n",
        "Share\n",
        "Given an m x n 2D binary grid grid which represents a map of '1's (land) and '0's (water), return the number of islands.\n",
        "\n",
        "An island is surrounded by water and is formed by connecting adjacent lands horizontally or vertically. You may assume all four edges of the grid are all surrounded by water.\n",
        "\n",
        " \n",
        "\n",
        "Example 1:\n",
        "\n",
        "Input: grid = [\n",
        "  [\"1\",\"1\",\"1\",\"1\",\"0\"],\n",
        "  [\"1\",\"1\",\"0\",\"1\",\"0\"],\n",
        "  [\"1\",\"1\",\"0\",\"0\",\"0\"],\n",
        "  [\"0\",\"0\",\"0\",\"0\",\"0\"]\n",
        "]\n",
        "Output: 1\n",
        "Example 2:\n",
        "\n",
        "Input: grid = [\n",
        "  [\"1\",\"1\",\"0\",\"0\",\"0\"],\n",
        "  [\"1\",\"1\",\"0\",\"0\",\"0\"],\n",
        "  [\"0\",\"0\",\"1\",\"0\",\"0\"],\n",
        "  [\"0\",\"0\",\"0\",\"1\",\"1\"]\n",
        "]\n",
        "Output: 3\n",
        " \n",
        "\n",
        "Constraints:\n",
        "\n",
        "m == grid.length\n",
        "n == grid[i].length\n",
        "1 <= m, n <= 300\n",
        "grid[i][j] is '0' or '1'.\n",
        "\"\"\""
      ],
      "metadata": {
        "id": "ZZ2JnQVGPimi"
      },
      "execution_count": null,
      "outputs": []
    },
    {
      "cell_type": "code",
      "source": [
        "# orginal solution\n",
        "# video explanation: https://www.youtube.com/watch?v=uDB5QXTqMn0\n",
        "\n",
        "\"\"\"\n",
        "Runtime: 514 ms, faster than 44.25% of Python3 online submissions for Number of Islands.\n",
        "Memory Usage: 16.6 MB, less than 50.32% of Python3 online submissions for Number of Islands.\n",
        "\"\"\"\n",
        "\n",
        "class Solution:\n",
        "    def dfs(self, grid, r, c):\n",
        "        grid[r][c] = \"0\"\n",
        "        lst = [(r-1, c), (r+1, c), (r, c-1), (r, c+1)]\n",
        "        for row, col in lst:\n",
        "            if row >= 0 and col >= 0 and row < len(grid) and col < len(grid[row]) and grid[row][col] == \"1\":\n",
        "                self.dfs(grid, row, col)\n",
        "    \n",
        "    def numIslands(self, grid):\n",
        "        islands = 0\n",
        "        for r in range(len(grid)):\n",
        "            for c in range(len(grid[r])):\n",
        "                if grid[r][c] == \"1\":\n",
        "                    self.dfs(grid, r, c)\n",
        "                    islands += 1\n",
        "        return islands\n",
        "        "
      ],
      "metadata": {
        "id": "LjOcAvBgPjEK"
      },
      "execution_count": null,
      "outputs": []
    },
    {
      "cell_type": "code",
      "source": [
        "# needs revision\n",
        "# edited version by stripping class off the code\n",
        "# video explanation: https://www.youtube.com/watch?v=uDB5QXTqMn0\n",
        "\n",
        "\"\"\"\n",
        "Runtime: 514 ms, faster than 44.25% of Python3 online submissions for Number of Islands.\n",
        "Memory Usage: 16.6 MB, less than 50.32% of Python3 online submissions for Number of Islands.\n",
        "\"\"\"\n",
        "\n",
        "\n",
        "def dfs(grid, r, c):\n",
        "    grid[r][c] = \"0\"\n",
        "    lst = [(r-1, c), (r+1, c), (r, c-1), (r, c+1)]\n",
        "    for row, col in lst:\n",
        "        if row >= 0 and col >= 0 and row < len(grid) and col < len(grid[row]) and grid[row][col] == \"1\":\n",
        "            dfs(grid, row, col)\n",
        "\n",
        "def numIslands(grid):\n",
        "    islands = 0\n",
        "    for r in range(len(grid)):\n",
        "        for c in range(len(grid[r])):\n",
        "            if grid[r][c] == \"1\":\n",
        "                dfs(grid, r, c)\n",
        "                islands += 1\n",
        "    return islands\n",
        "    \n",
        "numIslands([[\"1\",\"1\",\"0\",\"0\",\"0\"],[\"1\",\"1\",\"0\",\"0\",\"0\"],[\"0\",\"0\",\"1\",\"0\",\"0\"],[\"0\",\"0\",\"0\",\"1\",\"1\"]])"
      ],
      "metadata": {
        "colab": {
          "base_uri": "https://localhost:8080/"
        },
        "id": "H2_HTUxXQmaC",
        "outputId": "9f873f55-65dc-42e5-f98c-09f3b282817e"
      },
      "execution_count": null,
      "outputs": [
        {
          "output_type": "execute_result",
          "data": {
            "text/plain": [
              "3"
            ]
          },
          "metadata": {},
          "execution_count": 4
        }
      ]
    },
    {
      "cell_type": "markdown",
      "source": [
        "##30-08-2022"
      ],
      "metadata": {
        "id": "tRKsHxctV_PS"
      }
    },
    {
      "cell_type": "markdown",
      "source": [
        "####48. Rotate Image"
      ],
      "metadata": {
        "id": "35zfBzBeV-12"
      }
    },
    {
      "cell_type": "code",
      "source": [
        "\"\"\"\n",
        "48. Rotate Image\n",
        "Medium\n",
        "\n",
        "11583\n",
        "\n",
        "561\n",
        "\n",
        "Add to List\n",
        "\n",
        "Share\n",
        "You are given an n x n 2D matrix representing an image, rotate the image by 90 degrees (clockwise).\n",
        "\n",
        "You have to rotate the image in-place, which means you have to modify the input 2D matrix directly. DO NOT allocate another 2D matrix and do the rotation.\n",
        "\n",
        " \n",
        "\n",
        "Example 1:\n",
        "\n",
        "\n",
        "Input: matrix = [[1,2,3],[4,5,6],[7,8,9]]\n",
        "Output: [[7,4,1],[8,5,2],[9,6,3]]\n",
        "Example 2:\n",
        "\n",
        "\n",
        "Input: matrix = [[5,1,9,11],[2,4,8,10],[13,3,6,7],[15,14,12,16]]\n",
        "Output: [[15,13,2,5],[14,3,4,1],[12,6,8,9],[16,7,10,11]]\n",
        " \n",
        "\n",
        "Constraints:\n",
        "\n",
        "n == matrix.length == matrix[i].length\n",
        "1 <= n <= 20\n",
        "-1000 <= matrix[i][j] <= 1000\n",
        "\"\"\""
      ],
      "metadata": {
        "id": "nXM5EdP8V90i"
      },
      "execution_count": null,
      "outputs": []
    },
    {
      "cell_type": "code",
      "source": [
        "# needs revision\n",
        "# video explanation: https://www.youtube.com/watch?v=owQN0xX6Fa0   \n",
        "# Note: Timothy H Chang's codes are way precise and easy.\n",
        "\n",
        "\"\"\"\n",
        "Runtime: 42 ms, faster than 83.47% of Python3 online submissions for Rotate Image.\n",
        "Memory Usage: 13.8 MB, less than 74.32% of Python3 online submissions for Rotate Image.\n",
        "\"\"\"\n",
        "\n",
        "\n",
        "def rotate(matrix):       \n",
        "    N = len(matrix)\n",
        "    matrix.reverse()\n",
        "    for r in range(N):\n",
        "        for c in range(r):\n",
        "            matrix[r][c], matrix[c][r] = matrix[c][r], matrix[r][c]\n",
        "    return matrix\n",
        "\n",
        "\n",
        "rotate([[1,2,3],[4,5,6],[7,8,9]])"
      ],
      "metadata": {
        "colab": {
          "base_uri": "https://localhost:8080/"
        },
        "id": "PN0AFyKCV_34",
        "outputId": "68fd6f9f-6fa0-4fc4-d222-df529c5bc209"
      },
      "execution_count": null,
      "outputs": [
        {
          "output_type": "execute_result",
          "data": {
            "text/plain": [
              "[[7, 4, 1], [8, 5, 2], [9, 6, 3]]"
            ]
          },
          "metadata": {},
          "execution_count": 3
        }
      ]
    },
    {
      "cell_type": "markdown",
      "source": [
        "##31-08-2022"
      ],
      "metadata": {
        "id": "TfrqDZX8LF2V"
      }
    },
    {
      "cell_type": "markdown",
      "source": [
        "####417. Pacific Atlantic Water Flow"
      ],
      "metadata": {
        "id": "iwut_btJLJOK"
      }
    },
    {
      "cell_type": "code",
      "source": [
        "\"\"\"\n",
        "417. Pacific Atlantic Water Flow\n",
        "Medium\n",
        "\n",
        "5341\n",
        "\n",
        "1011\n",
        "\n",
        "Add to List\n",
        "\n",
        "Share\n",
        "There is an m x n rectangular island that borders both the Pacific Ocean and Atlantic Ocean. The Pacific Ocean touches the island's left and top edges, and the Atlantic Ocean touches the island's right and bottom edges.\n",
        "\n",
        "The island is partitioned into a grid of square cells. You are given an m x n integer matrix heights where heights[r][c] represents the height above sea level of the cell at coordinate (r, c).\n",
        "\n",
        "The island receives a lot of rain, and the rain water can flow to neighboring cells directly north, south, east, and west if the neighboring cell's height is less than or equal to the current cell's height. Water can flow from any cell adjacent to an ocean into the ocean.\n",
        "\n",
        "Return a 2D list of grid coordinates result where result[i] = [ri, ci] denotes that rain water can flow from cell (ri, ci) to both the Pacific and Atlantic oceans.\n",
        "\n",
        " \n",
        "\n",
        "Example 1:\n",
        "\n",
        "\n",
        "Input: heights = [[1,2,2,3,5],[3,2,3,4,4],[2,4,5,3,1],[6,7,1,4,5],[5,1,1,2,4]]\n",
        "Output: [[0,4],[1,3],[1,4],[2,2],[3,0],[3,1],[4,0]]\n",
        "Explanation: The following cells can flow to the Pacific and Atlantic oceans, as shown below:\n",
        "[0,4]: [0,4] -> Pacific Ocean \n",
        "       [0,4] -> Atlantic Ocean\n",
        "[1,3]: [1,3] -> [0,3] -> Pacific Ocean \n",
        "       [1,3] -> [1,4] -> Atlantic Ocean\n",
        "[1,4]: [1,4] -> [1,3] -> [0,3] -> Pacific Ocean \n",
        "       [1,4] -> Atlantic Ocean\n",
        "[2,2]: [2,2] -> [1,2] -> [0,2] -> Pacific Ocean \n",
        "       [2,2] -> [2,3] -> [2,4] -> Atlantic Ocean\n",
        "[3,0]: [3,0] -> Pacific Ocean \n",
        "       [3,0] -> [4,0] -> Atlantic Ocean\n",
        "[3,1]: [3,1] -> [3,0] -> Pacific Ocean \n",
        "       [3,1] -> [4,1] -> Atlantic Ocean\n",
        "[4,0]: [4,0] -> Pacific Ocean \n",
        "       [4,0] -> Atlantic Ocean\n",
        "Note that there are other possible paths for these cells to flow to the Pacific and Atlantic oceans.\n",
        "Example 2:\n",
        "\n",
        "Input: heights = [[1]]\n",
        "Output: [[0,0]]\n",
        "Explanation: The water can flow from the only cell to the Pacific and Atlantic oceans.\n",
        " \n",
        "\n",
        "Constraints:\n",
        "\n",
        "m == heights.length\n",
        "n == heights[r].length\n",
        "1 <= m, n <= 200\n",
        "0 <= heights[r][c] <= 105\n",
        "\"\"\""
      ],
      "metadata": {
        "id": "jIzqDyXuLLOb"
      },
      "execution_count": null,
      "outputs": []
    },
    {
      "cell_type": "code",
      "source": [
        "# needs revision\n",
        "# code source link: https://zhenyu0519.github.io/2020/03/18/lc417/\n",
        "# matrix and heights, both mean same here as matrix is initialized with its value as heights\n",
        "\n",
        "\"\"\"\n",
        "Runtime: 581 ms, faster than 21.68% of Python3 online submissions for Pacific Atlantic Water Flow.\n",
        "Memory Usage: 15.5 MB, less than 78.42% of Python3 online submissions for Pacific Atlantic Water Flow.\n",
        "\"\"\"\n",
        "\n",
        "class Solution:\n",
        "    def pacificAtlantic(self, heights: List[List[int]]) -> List[List[int]]:\n",
        "        matrix = heights\n",
        "        if not matrix or not matrix[0]:return []\n",
        "        m, n = len(matrix),len(matrix[0])\n",
        "        p_visited = set()\n",
        "        a_visited = set()\n",
        "        directions = [(-1, 0), (1, 0), (0, 1), (0, -1)]\n",
        "        def dfs(visited, x,y):\n",
        "            visited.add((x,y))\n",
        "            for dx, dy in directions:\n",
        "                new_x, new_y = x+dx, y+dy\n",
        "                if 0<=new_x<m and 0<=new_y<n and (new_x,new_y) not in visited and matrix[new_x][new_y]>=matrix[x][y]:\n",
        "                    dfs(visited, new_x,new_y)\n",
        "        #iterate from left border and right border\n",
        "        for i in range(m):\n",
        "            dfs(p_visited,i,0)\n",
        "            dfs(a_visited,i,n-1)\n",
        "        #iterate from up border and bottom border\n",
        "        for j in range(n):\n",
        "            dfs(p_visited,0,j)\n",
        "            dfs(a_visited,m-1,j)\n",
        "        #The intersections of two sets are coordinates where water can flow to both P and A\n",
        "        return list(p_visited.intersection(a_visited))        "
      ],
      "metadata": {
        "id": "JnrumFZeKpkb"
      },
      "execution_count": null,
      "outputs": []
    },
    {
      "cell_type": "markdown",
      "source": [
        "# September 2022"
      ],
      "metadata": {
        "id": "Ctv4YzGVXYDf"
      }
    },
    {
      "cell_type": "markdown",
      "source": [
        "##01-09-2022"
      ],
      "metadata": {
        "id": "40TxA1WwN2g4"
      }
    },
    {
      "cell_type": "markdown",
      "source": [
        "####1448. Count Good Nodes in Binary Tree"
      ],
      "metadata": {
        "id": "To2LlOVZN1G5"
      }
    },
    {
      "cell_type": "code",
      "source": [
        "\"\"\"\n",
        "1448. Count Good Nodes in Binary Tree\n",
        "Medium\n",
        "\n",
        "3825\n",
        "\n",
        "110\n",
        "\n",
        "Add to List\n",
        "\n",
        "Share\n",
        "Given a binary tree root, a node X in the tree is named good if in the path from root to X there are no nodes with a value greater than X.\n",
        "\n",
        "Return the number of good nodes in the binary tree.\n",
        "\n",
        " \n",
        "\n",
        "Example 1:\n",
        "\n",
        "\n",
        "\n",
        "Input: root = [3,1,4,3,null,1,5]\n",
        "Output: 4\n",
        "Explanation: Nodes in blue are good.\n",
        "Root Node (3) is always a good node.\n",
        "Node 4 -> (3,4) is the maximum value in the path starting from the root.\n",
        "Node 5 -> (3,4,5) is the maximum value in the path\n",
        "Node 3 -> (3,1,3) is the maximum value in the path.\n",
        "Example 2:\n",
        "\n",
        "\n",
        "\n",
        "Input: root = [3,3,null,4,2]\n",
        "Output: 3\n",
        "Explanation: Node 2 -> (3, 3, 2) is not good, because \"3\" is higher than it.\n",
        "Example 3:\n",
        "\n",
        "Input: root = [1]\n",
        "Output: 1\n",
        "Explanation: Root is considered as good.\n",
        " \n",
        "\n",
        "Constraints:\n",
        "\n",
        "The number of nodes in the binary tree is in the range [1, 10^5].\n",
        "Each node's value is between [-10^4, 10^4].\n",
        "\"\"\""
      ],
      "metadata": {
        "id": "BtJmpaQ_N55y"
      },
      "execution_count": null,
      "outputs": []
    },
    {
      "cell_type": "code",
      "source": [
        "# needs revision\n",
        "# code link: https://shareablecode.com/snippets/count-good-nodes-in-binary-tree-python-solution-leetcode-jqmv-b8BM\n",
        "\n",
        "\"\"\"\n",
        "Runtime: 326 ms, faster than 73.24% of Python3 online submissions for Count Good Nodes in Binary Tree.\n",
        "Memory Usage: 32.6 MB, less than 16.88% of Python3 online submissions for Count Good Nodes in Binary Tree.\n",
        "\"\"\"\n",
        "\n",
        "# Definition for a binary tree node.\n",
        "# class TreeNode:\n",
        "#     def __init__(self, val=0, left=None, right=None):\n",
        "#         self.val = val\n",
        "#         self.left = left\n",
        "#         self.right = right\n",
        "class Solution:\n",
        "    def goodNodes(self, root):\n",
        "        result = 0\n",
        "        stk = [(root, root.val)]\n",
        "        while stk:\n",
        "            node, curr_max = stk.pop()\n",
        "            if not node:\n",
        "                continue\n",
        "            curr_max = max(curr_max, node.val)\n",
        "            result += int(curr_max <= node.val)\n",
        "            stk.append((node.right, curr_max))\n",
        "            stk.append((node.left, curr_max))\n",
        "        return result     "
      ],
      "metadata": {
        "id": "hfW4SH5bN5lV"
      },
      "execution_count": null,
      "outputs": []
    },
    {
      "cell_type": "markdown",
      "source": [
        "##02-09-2022"
      ],
      "metadata": {
        "id": "y0fMdoh3WQd9"
      }
    },
    {
      "cell_type": "markdown",
      "source": [
        "####637. Average of Levels in Binary Tree"
      ],
      "metadata": {
        "id": "v69HawwaWP_b"
      }
    },
    {
      "cell_type": "code",
      "source": [
        "\"\"\"\n",
        "637. Average of Levels in Binary Tree\n",
        "Easy\n",
        "\n",
        "4043\n",
        "\n",
        "272\n",
        "\n",
        "Add to List\n",
        "\n",
        "Share\n",
        "Given the root of a binary tree, return the average value of the nodes on each level in the form of an array. Answers within 10-5 of the actual answer will be accepted.\n",
        " \n",
        "\n",
        "Example 1:\n",
        "\n",
        "\n",
        "Input: root = [3,9,20,null,null,15,7]\n",
        "Output: [3.00000,14.50000,11.00000]\n",
        "Explanation: The average value of nodes on level 0 is 3, on level 1 is 14.5, and on level 2 is 11.\n",
        "Hence return [3, 14.5, 11].\n",
        "Example 2:\n",
        "\n",
        "\n",
        "Input: root = [3,9,20,15,7]\n",
        "Output: [3.00000,14.50000,11.00000]\n",
        " \n",
        "\n",
        "Constraints:\n",
        "\n",
        "The number of nodes in the tree is in the range [1, 104].\n",
        "-231 <= Node.val <= 231 - 1\n",
        "\"\"\""
      ],
      "metadata": {
        "id": "5ps1Ph7TWoB8"
      },
      "execution_count": null,
      "outputs": []
    },
    {
      "cell_type": "code",
      "source": [
        "# needs revision\n",
        "# code link: https://ibrahimhasnat.com/average-of-levels-in-binary-tree-leetcode-637-python-solution/\n",
        "# python3\n",
        "\n",
        "\"\"\"\n",
        "Runtime: 68 ms, faster than 70.75% of Python3 online submissions for Average of Levels in Binary Tree.\n",
        "Memory Usage: 16.5 MB, less than 87.46% of Python3 online submissions for Average of Levels in Binary Tree.\n",
        "\"\"\"\n",
        "\n",
        "class Solution:\n",
        "    def averageOfLevels(self, root: Optional[TreeNode]) -> List[float]:\n",
        "        if root is None:\n",
        "            return []\n",
        "\n",
        "        result = []\n",
        "        queue = [root]\n",
        "\n",
        "        while queue:\n",
        "            size = len(queue)\n",
        "            level = []\n",
        "\n",
        "            for i in range(size):\n",
        "                node = queue.pop()\n",
        "                level.append(node.val)\n",
        "\n",
        "                if node.left:\n",
        "                    queue.insert(0, node.left)\n",
        "                if node.right:\n",
        "                    queue.insert(0, node.right)\n",
        "\n",
        "            result.append(sum(level) / len(level))\n",
        "\n",
        "        return result"
      ],
      "metadata": {
        "id": "8OlFD_7HWRBN"
      },
      "execution_count": null,
      "outputs": []
    },
    {
      "cell_type": "markdown",
      "source": [
        "##03-09-2022"
      ],
      "metadata": {
        "id": "YIjxkjDGc9s5"
      }
    },
    {
      "cell_type": "markdown",
      "source": [
        "####967. Numbers With Same Consecutive Differences"
      ],
      "metadata": {
        "id": "Tl3Xe7I_c8n5"
      }
    },
    {
      "cell_type": "code",
      "source": [
        "\"\"\"\n",
        "967. Numbers With Same Consecutive Differences\n",
        "Medium\n",
        "\n",
        "2112\n",
        "\n",
        "169\n",
        "\n",
        "Add to List\n",
        "\n",
        "Share\n",
        "Return all non-negative integers of length n such that the absolute difference between every two consecutive digits is k.\n",
        "\n",
        "Note that every number in the answer must not have leading zeros. For example, 01 has one leading zero and is invalid.\n",
        "\n",
        "You may return the answer in any order.\n",
        "\n",
        " \n",
        "\n",
        "Example 1:\n",
        "\n",
        "Input: n = 3, k = 7\n",
        "Output: [181,292,707,818,929]\n",
        "Explanation: Note that 070 is not a valid number, because it has leading zeroes.\n",
        "Example 2:\n",
        "\n",
        "Input: n = 2, k = 1\n",
        "Output: [10,12,21,23,32,34,43,45,54,56,65,67,76,78,87,89,98]\n",
        " \n",
        "\n",
        "Constraints:\n",
        "\n",
        "2 <= n <= 9\n",
        "0 <= k <= 9\n",
        "\"\"\""
      ],
      "metadata": {
        "id": "Px772E2Tc25A"
      },
      "execution_count": null,
      "outputs": []
    },
    {
      "cell_type": "code",
      "source": [
        "# needs revision\n",
        "# code link: https://github.com/qinhanmin2014/LeetCode-solutions/blob/master/Python/967.md\n",
        "\n",
        "\n",
        "\"\"\"\n",
        "Runtime: 62 ms, faster than 38.71% of Python online submissions for Numbers With Same Consecutive Differences.\n",
        "Memory Usage: 13.6 MB, less than 41.94% of Python online submissions for Numbers With Same Consecutive Differences.\n",
        "\"\"\"\n",
        "\n",
        "def numsSameConsecDiff(n, k):\n",
        "    ans = []\n",
        "    if n == 1:\n",
        "        ans.append(0)\n",
        "\n",
        "    def dfs(num, cnt):\n",
        "        if cnt == n:\n",
        "            ans.append(int(num))\n",
        "            return\n",
        "        last_num = int(num[-1])\n",
        "        if k == 0:\n",
        "            dfs(num + str(last_num), cnt + 1)\n",
        "            return\n",
        "        for cur_num in [last_num + k, last_num - k]:\n",
        "            if 0 <= cur_num <= 9:\n",
        "                dfs(num + str(cur_num), cnt + 1)\n",
        "\n",
        "    for i in range(1, 10):\n",
        "        dfs(str(i), 1)\n",
        "    return ans\n",
        "\n",
        "\n",
        "numsSameConsecDiff(3, 7)"
      ],
      "metadata": {
        "colab": {
          "base_uri": "https://localhost:8080/"
        },
        "id": "3TgXJJ5Qc5zh",
        "outputId": "c3e9c958-870e-4829-ff00-848b4c9e1332"
      },
      "execution_count": null,
      "outputs": [
        {
          "output_type": "execute_result",
          "data": {
            "text/plain": [
              "[181, 292, 707, 818, 929]"
            ]
          },
          "metadata": {},
          "execution_count": 2
        }
      ]
    },
    {
      "cell_type": "markdown",
      "source": [
        "##04-09-2022"
      ],
      "metadata": {
        "id": "ucBxShhfwRRY"
      }
    },
    {
      "cell_type": "markdown",
      "source": [
        "####987. Vertical Order Traversal of a Binary Tree"
      ],
      "metadata": {
        "id": "e4wTRX2VwXQT"
      }
    },
    {
      "cell_type": "code",
      "source": [
        "\"\"\"\n",
        "987. Vertical Order Traversal of a Binary Tree\n",
        "Hard\n",
        "\n",
        "4892\n",
        "\n",
        "3871\n",
        "\n",
        "Add to List\n",
        "\n",
        "Share\n",
        "Given the root of a binary tree, calculate the vertical order traversal of the binary tree.\n",
        "\n",
        "For each node at position (row, col), its left and right children will be at positions (row + 1, col - 1) and (row + 1, col + 1) respectively. The root of the tree is at (0, 0).\n",
        "\n",
        "The vertical order traversal of a binary tree is a list of top-to-bottom orderings for each column index starting from the leftmost column and ending on the rightmost column. There may be multiple nodes in the same row and same column. In such a case, sort these nodes by their values.\n",
        "\n",
        "Return the vertical order traversal of the binary tree.\n",
        "\n",
        " \n",
        "\n",
        "Example 1:\n",
        "\n",
        "\n",
        "Input: root = [3,9,20,null,null,15,7]\n",
        "Output: [[9],[3,15],[20],[7]]\n",
        "Explanation:\n",
        "Column -1: Only node 9 is in this column.\n",
        "Column 0: Nodes 3 and 15 are in this column in that order from top to bottom.\n",
        "Column 1: Only node 20 is in this column.\n",
        "Column 2: Only node 7 is in this column.\n",
        "Example 2:\n",
        "\n",
        "\n",
        "Input: root = [1,2,3,4,5,6,7]\n",
        "Output: [[4],[2],[1,5,6],[3],[7]]\n",
        "Explanation:\n",
        "Column -2: Only node 4 is in this column.\n",
        "Column -1: Only node 2 is in this column.\n",
        "Column 0: Nodes 1, 5, and 6 are in this column.\n",
        "          1 is at the top, so it comes first.\n",
        "          5 and 6 are at the same position (2, 0), so we order them by their value, 5 before 6.\n",
        "Column 1: Only node 3 is in this column.\n",
        "Column 2: Only node 7 is in this column.\n",
        "Example 3:\n",
        "\n",
        "\n",
        "Input: root = [1,2,3,4,6,5,7]\n",
        "Output: [[4],[2],[1,5,6],[3],[7]]\n",
        "Explanation:\n",
        "This case is the exact same as example 2, but with nodes 5 and 6 swapped.\n",
        "Note that the solution remains the same since 5 and 6 are in the same location and should be ordered by their values.\n",
        " \n",
        "\n",
        "Constraints:\n",
        "\n",
        "The number of nodes in the tree is in the range [1, 1000].\n",
        "0 <= Node.val <= 1000\n",
        "\"\"\""
      ],
      "metadata": {
        "id": "TmSxhCvVwUDV"
      },
      "execution_count": null,
      "outputs": []
    },
    {
      "cell_type": "code",
      "source": [
        "# needs revision\n",
        "# code link: https://walkccc.me/LeetCode/problems/0987/\n",
        "\n",
        "\"\"\"\n",
        "Runtime: 59 ms, faster than 36.27% of Python3 online submissions for Vertical Order Traversal of a Binary Tree.\n",
        "Memory Usage: 14.2 MB, less than 72.74% of Python3 online submissions for Vertical Order Traversal of a Binary Tree.\n",
        "\"\"\"\n",
        "\n",
        "\n",
        "# Definition for a binary tree node.\n",
        "# class TreeNode:\n",
        "#     def __init__(self, val=0, left=None, right=None):\n",
        "#         self.val = val\n",
        "#         self.left = left\n",
        "#         self.right = right\n",
        "class Solution:\n",
        "    def verticalTraversal(self, root: Optional[TreeNode]) -> List[List[int]]:\n",
        "        ans = []\n",
        "        xToNodes = defaultdict(list)\n",
        "\n",
        "        def dfs(node: Optional[TreeNode], x: int, y: int) -> None:\n",
        "          if not node:\n",
        "            return\n",
        "\n",
        "          xToNodes[x].append((-y, node.val))\n",
        "          dfs(node.left, x - 1, y - 1)\n",
        "          dfs(node.right, x + 1, y - 1)\n",
        "\n",
        "        dfs(root, 0, 0)\n",
        "\n",
        "        for _, nodes in sorted(xToNodes.items(), key=lambda item: item[0]):\n",
        "          ans.append([val for _, val in sorted(nodes)])\n",
        "\n",
        "        return ans"
      ],
      "metadata": {
        "id": "8Zcr-slwweAG"
      },
      "execution_count": null,
      "outputs": []
    },
    {
      "cell_type": "markdown",
      "source": [
        "##05-09-2022"
      ],
      "metadata": {
        "id": "1BXAGMqwrimE"
      }
    },
    {
      "cell_type": "markdown",
      "source": [
        "####429. N-ary Tree Level Order Traversal"
      ],
      "metadata": {
        "id": "J-VlvNrVroUe"
      }
    },
    {
      "cell_type": "code",
      "source": [
        "\"\"\"\n",
        "429. N-ary Tree Level Order Traversal\n",
        "Medium\n",
        "\n",
        "2898\n",
        "\n",
        "114\n",
        "\n",
        "Add to List\n",
        "\n",
        "Share\n",
        "Given an n-ary tree, return the level order traversal of its nodes' values.\n",
        "\n",
        "Nary-Tree input serialization is represented in their level order traversal, each group of children is separated by the null value (See examples).\n",
        "\n",
        " \n",
        "\n",
        "Example 1:\n",
        "\n",
        "\n",
        "\n",
        "Input: root = [1,null,3,2,4,null,5,6]\n",
        "Output: [[1],[3,2,4],[5,6]]\n",
        "Example 2:\n",
        "\n",
        "\n",
        "\n",
        "Input: root = [1,null,2,3,4,5,null,null,6,7,null,8,null,9,10,null,null,11,null,12,null,13,null,null,14]\n",
        "Output: [[1],[2,3,4,5],[6,7,8,9,10],[11,12,13],[14]]\n",
        " \n",
        "\n",
        "Constraints:\n",
        "\n",
        "The height of the n-ary tree is less than or equal to 1000\n",
        "The total number of nodes is between [0, 104]\n",
        "\"\"\""
      ],
      "metadata": {
        "id": "_u3OPPPqreuA"
      },
      "execution_count": null,
      "outputs": []
    },
    {
      "cell_type": "code",
      "source": [
        "# needs revision\n",
        "# code link: https://zhenyu0519.github.io/2020/03/26/lc429/\n",
        "\n",
        "\"\"\"\n",
        "Runtime: 71 ms, faster than 66.87% of Python3 online submissions for N-ary Tree Level Order Traversal.\n",
        "Memory Usage: 16 MB, less than 50.08% of Python3 online submissions for N-ary Tree Level Order Traversal.\n",
        "\"\"\"\n",
        "\n",
        "\"\"\"\n",
        "# Definition for a Node.\n",
        "class Node:\n",
        "    def __init__(self, val=None, children=None):\n",
        "        self.val = val\n",
        "        self.children = children\n",
        "\"\"\"\n",
        "\n",
        "class Solution:\n",
        "    def levelOrder(self, root: 'Node') -> List[List[int]]:\n",
        "        if not root: return []\n",
        "        q = collections.deque([root])\n",
        "        res = []\n",
        "        while q:\n",
        "            temp = []\n",
        "            size = len(q)\n",
        "            for i in range(size):\n",
        "                node = q.popleft()\n",
        "                temp.append(node.val)\n",
        "                for child in node.children:\n",
        "                    q.append(child)\n",
        "            res.append(temp)\n",
        "        return res"
      ],
      "metadata": {
        "id": "p7_pdDYhr1YQ"
      },
      "execution_count": null,
      "outputs": []
    },
    {
      "cell_type": "markdown",
      "source": [
        "##06-09-2022"
      ],
      "metadata": {
        "id": "5brlXCE1sZx2"
      }
    },
    {
      "cell_type": "markdown",
      "source": [
        "####814. Binary Tree Pruning"
      ],
      "metadata": {
        "id": "jmeZZbfssdod"
      }
    },
    {
      "cell_type": "code",
      "source": [
        "\"\"\"\n",
        "814. Binary Tree Pruning\n",
        "Medium\n",
        "\n",
        "3583\n",
        "\n",
        "94\n",
        "\n",
        "Add to List\n",
        "\n",
        "Share\n",
        "Given the root of a binary tree, return the same tree where every subtree (of the given tree) not containing a 1 has been removed.\n",
        "\n",
        "A subtree of a node node is node plus every node that is a descendant of node.\n",
        "\n",
        " \n",
        "\n",
        "Example 1:\n",
        "\n",
        "\n",
        "Input: root = [1,null,0,0,1]\n",
        "Output: [1,null,0,null,1]\n",
        "Explanation: \n",
        "Only the red nodes satisfy the property \"every subtree not containing a 1\".\n",
        "The diagram on the right represents the answer.\n",
        "Example 2:\n",
        "\n",
        "\n",
        "Input: root = [1,0,1,0,0,0,1]\n",
        "Output: [1,null,1,null,1]\n",
        "Example 3:\n",
        "\n",
        "\n",
        "Input: root = [1,1,0,1,1,0,1,0]\n",
        "Output: [1,1,0,1,1,null,1]\n",
        " \n",
        "\n",
        "Constraints:\n",
        "\n",
        "The number of nodes in the tree is in the range [1, 200].\n",
        "Node.val is either 0 or 1.\n",
        "\"\"\""
      ],
      "metadata": {
        "id": "Wqc60QRisZHD"
      },
      "execution_count": null,
      "outputs": []
    },
    {
      "cell_type": "code",
      "source": [
        "# needs revision\n",
        "# code link: https://goodtecher.com/leetcode-814-binary-tree-pruning/\n",
        "\n",
        "\"\"\"\n",
        "Runtime: 48 ms, faster than 5.85% of Python online submissions for Binary Tree Pruning.\n",
        "Memory Usage: 13.5 MB, less than 60.82% of Python online submissions for Binary Tree Pruning.\n",
        "\"\"\"\n",
        "\n",
        "class Solution(object):\n",
        "    def pruneTree(self, root):\n",
        "        if not self.helper(root):\n",
        "            return None\n",
        "                \n",
        "        return root\n",
        "    \n",
        "    \n",
        "    def helper(self, root):\n",
        "        if not root:\n",
        "            return False\n",
        "                \n",
        "        left = self.helper(root.left)\n",
        "        right = self.helper(root.right)\n",
        "        \n",
        "        \n",
        "        if not left:\n",
        "            root.left = None\n",
        "            \n",
        "        if not right:\n",
        "            root.right = None\n",
        "            \n",
        "            \n",
        "        return root.val == 1 or left or right"
      ],
      "metadata": {
        "id": "d_mUjrQLsj60"
      },
      "execution_count": null,
      "outputs": []
    },
    {
      "cell_type": "markdown",
      "source": [
        "##07-09-2022"
      ],
      "metadata": {
        "id": "jDbimSyr5p08"
      }
    },
    {
      "cell_type": "markdown",
      "source": [
        "####606. Construct String from Binary Tree"
      ],
      "metadata": {
        "id": "Et_iKLjw5qkJ"
      }
    },
    {
      "cell_type": "code",
      "source": [
        "\"\"\"\n",
        "606. Construct String from Binary Tree\n",
        "Easy\n",
        "\n",
        "2137\n",
        "\n",
        "2655\n",
        "\n",
        "Add to List\n",
        "\n",
        "Share\n",
        "Given the root of a binary tree, construct a string consisting of parenthesis and integers from a binary tree with the preorder traversal way, and return it.\n",
        "\n",
        "Omit all the empty parenthesis pairs that do not affect the one-to-one mapping relationship between the string and the original binary tree.\n",
        "\n",
        " \n",
        "\n",
        "Example 1:\n",
        "\n",
        "\n",
        "Input: root = [1,2,3,4]\n",
        "Output: \"1(2(4))(3)\"\n",
        "Explanation: Originally, it needs to be \"1(2(4)())(3()())\", but you need to omit all the unnecessary empty parenthesis pairs. And it will be \"1(2(4))(3)\"\n",
        "Example 2:\n",
        "\n",
        "\n",
        "Input: root = [1,2,3,null,4]\n",
        "Output: \"1(2()(4))(3)\"\n",
        "Explanation: Almost the same as the first example, except we cannot omit the first parenthesis pair to break the one-to-one mapping relationship between the input and the output.\n",
        " \n",
        "\n",
        "Constraints:\n",
        "\n",
        "The number of nodes in the tree is in the range [1, 104].\n",
        "-1000 <= Node.val <= 1000\n",
        "\"\"\""
      ],
      "metadata": {
        "id": "mJC09bO15sEQ"
      },
      "execution_count": null,
      "outputs": []
    },
    {
      "cell_type": "code",
      "source": [
        "# needs revision\n",
        "# code link: https://walkccc.me/LeetCode/problems/0606/\n",
        "# python3\n",
        "\n",
        "\"\"\"\n",
        "Runtime: 92 ms, faster than 35.93% of Python3 online submissions for Construct String from Binary Tree.\n",
        "Memory Usage: 16.4 MB, less than 30.02% of Python3 online submissions for Construct String from Binary Tree.\n",
        "\"\"\"\n",
        "\n",
        "# Definition for a binary tree node.\n",
        "# class TreeNode:\n",
        "#     def __init__(self, val=0, left=None, right=None):\n",
        "#         self.val = val\n",
        "#         self.left = left\n",
        "#         self.right = right\n",
        "class Solution:\n",
        "    def tree2str(self, root: Optional[TreeNode]) -> str:\n",
        "        def dfs(root: Optional[TreeNode]) -> str:\n",
        "          if not root:\n",
        "            return ''\n",
        "          if root.right:\n",
        "            return str(root.val) + '(' + dfs(root.left) + ')(' + dfs(root.right) + ')'\n",
        "          if root.left:\n",
        "            return str(root.val) + '(' + dfs(root.left) + ')'\n",
        "          return str(root.val)\n",
        "        return dfs(root)"
      ],
      "metadata": {
        "id": "aaXsuJfP55ok"
      },
      "execution_count": null,
      "outputs": []
    },
    {
      "cell_type": "markdown",
      "source": [
        "##08-09-2022"
      ],
      "metadata": {
        "id": "CfYycevsTz8Z"
      }
    },
    {
      "cell_type": "markdown",
      "source": [
        "####94. Binary Tree Inorder Traversal"
      ],
      "metadata": {
        "id": "vHt70I79T1Ta"
      }
    },
    {
      "cell_type": "code",
      "source": [
        "\"\"\"\n",
        "94. Binary Tree Inorder Traversal\n",
        "Easy\n",
        "\n",
        "9471\n",
        "\n",
        "450\n",
        "\n",
        "Add to List\n",
        "\n",
        "Share\n",
        "Given the root of a binary tree, return the inorder traversal of its nodes' values.\n",
        "\n",
        " \n",
        "\n",
        "Example 1:\n",
        "\n",
        "\n",
        "Input: root = [1,null,2,3]\n",
        "Output: [1,3,2]\n",
        "Example 2:\n",
        "\n",
        "Input: root = []\n",
        "Output: []\n",
        "Example 3:\n",
        "\n",
        "Input: root = [1]\n",
        "Output: [1]\n",
        " \n",
        "\n",
        "Constraints:\n",
        "\n",
        "The number of nodes in the tree is in the range [0, 100].\n",
        "-100 <= Node.val <= 100\n",
        " \n",
        "\n",
        "Follow up: Recursive solution is trivial, could you do it iteratively?\n",
        "\"\"\""
      ],
      "metadata": {
        "id": "rpofv5DwT11c"
      },
      "execution_count": null,
      "outputs": []
    },
    {
      "cell_type": "code",
      "source": [
        "# needs revision \n",
        "# code link: https://zhenyu0519.github.io/2020/03/10/lc94/ \n",
        "\n",
        "\"\"\"\n",
        "Runtime: 41 ms, faster than 5.65% of Python online submissions for Binary Tree Inorder Traversal.\n",
        "Memory Usage: 13.6 MB, less than 5.08% of Python online submissions for Binary Tree Inorder Traversal.\n",
        "\"\"\"\n",
        "\n",
        "# Definition for a binary tree node.\n",
        "# class TreeNode(object):\n",
        "#     def __init__(self, val=0, left=None, right=None):\n",
        "#         self.val = val\n",
        "#         self.left = left\n",
        "#         self.right = right\n",
        "class Solution(object):\n",
        "    def inorderTraversal(self, root):\n",
        "        if root is None: return []\n",
        "        def dfs(root,res):\n",
        "            if root is None: return\n",
        "            dfs(root.left,res)\n",
        "            res.append(root.val)\n",
        "            dfs(root.right,res)\n",
        "            return res\n",
        "        return dfs(root,[])"
      ],
      "metadata": {
        "id": "ClmHNAkrT2QW"
      },
      "execution_count": null,
      "outputs": []
    },
    {
      "cell_type": "markdown",
      "source": [
        "##09-09-2022"
      ],
      "metadata": {
        "id": "0r9_K_mMaXXo"
      }
    },
    {
      "cell_type": "markdown",
      "source": [
        "####1996. The Number of Weak Characters in the Game"
      ],
      "metadata": {
        "id": "_6bXl5k4aW-1"
      }
    },
    {
      "cell_type": "code",
      "source": [
        "\"\"\"\n",
        "1996. The Number of Weak Characters in the Game\n",
        "Medium\n",
        "\n",
        "2203\n",
        "\n",
        "73\n",
        "\n",
        "Add to List\n",
        "\n",
        "Share\n",
        "You are playing a game that contains multiple characters, and each of the characters has two main properties: attack and defense. You are given a 2D integer array properties where properties[i] = [attacki, defensei] represents the properties of the ith character in the game.\n",
        "\n",
        "A character is said to be weak if any other character has both attack and defense levels strictly greater than this character's attack and defense levels. More formally, a character i is said to be weak if there exists another character j where attackj > attacki and defensej > defensei.\n",
        "\n",
        "Return the number of weak characters.\n",
        "\n",
        " \n",
        "\n",
        "Example 1:\n",
        "\n",
        "Input: properties = [[5,5],[6,3],[3,6]]\n",
        "Output: 0\n",
        "Explanation: No character has strictly greater attack and defense than the other.\n",
        "Example 2:\n",
        "\n",
        "Input: properties = [[2,2],[3,3]]\n",
        "Output: 1\n",
        "Explanation: The first character is weak because the second character has a strictly greater attack and defense.\n",
        "Example 3:\n",
        "\n",
        "Input: properties = [[1,5],[10,4],[4,3]]\n",
        "Output: 1\n",
        "Explanation: The third character is weak because the second character has a strictly greater attack and defense.\n",
        " \n",
        "\n",
        "Constraints:\n",
        "\n",
        "2 <= properties.length <= 105\n",
        "properties[i].length == 2\n",
        "1 <= attacki, defensei <= 105\n",
        "\"\"\""
      ],
      "metadata": {
        "id": "5aB-JEYkal3o"
      },
      "execution_count": null,
      "outputs": []
    },
    {
      "cell_type": "code",
      "source": [
        "# my following code fails if there are any duplicates in provided list of lists called properties\n",
        "\n",
        "def numberOfWeakCharacters(properties):\n",
        "    laast = properties[-1]\n",
        "    listo = []\n",
        "    # for i in properties:\n",
        "    #     if i[0]>laast[0] and i[1]>laast[1]:\n",
        "    #         listo = [['a','b']]\n",
        "    for i in range(len(properties)):\n",
        "        if properties[i+1:] != []:\n",
        "            for j in properties[i+1:]:\n",
        "                if (properties[i][0] > j[0] and properties[i][1] > j[1]):\n",
        "                    if j not in listo:\n",
        "                        listo.append(j)    \n",
        "                if(properties[i][0] < j[0] and properties[i][1] < j[1]):\n",
        "                    if properties[i] not in listo:\n",
        "                        listo.append(properties[i])                            \n",
        "    return len(listo)\n",
        "\n",
        "\n",
        "numberOfWeakCharacters([[7,7],[1,2],[9,7],[7,3],[3,10],[9,8],[8,10],[4,3],[1,5],[1,5]])\n",
        "\n",
        "# answer needs to be 6, the last [1,5] is ignored by my program"
      ],
      "metadata": {
        "colab": {
          "base_uri": "https://localhost:8080/"
        },
        "id": "zMv86qTCaqAL",
        "outputId": "3b10d9bf-a4ab-43fb-b50f-c5bf0d17d64b"
      },
      "execution_count": null,
      "outputs": [
        {
          "output_type": "execute_result",
          "data": {
            "text/plain": [
              "5"
            ]
          },
          "metadata": {},
          "execution_count": 5
        }
      ]
    },
    {
      "cell_type": "code",
      "source": [
        "# needs revision\n",
        "# code link: https://github.com/Wenzhi-Ding/coding_notes/blob/master/10_LeetCode/1996-the-number-of-weak-characters-in-the-game.py\n",
        "\n",
        "\"\"\"\n",
        "Runtime: 1860 ms, faster than 98.31% of Python online submissions for The Number of Weak Characters in the Game.\n",
        "Memory Usage: 53.7 MB, less than 100.00% of Python online submissions for The Number of Weak Characters in the Game.\n",
        "\"\"\"\n",
        "\n",
        "def numberOfWeakCharacters(properties):\n",
        "    properties.sort()\n",
        "    res = 0\n",
        "    max_a, max_b = cur_a, cur_b = properties.pop()\n",
        "    while properties:\n",
        "        _a, _b = properties.pop()\n",
        "        if cur_a != _a: \n",
        "            max_b, cur_b = max(max_b, cur_b), _b\n",
        "            cur_a = _a \n",
        "\n",
        "        if max_b > _b and max_a > _a: res += 1\n",
        "\n",
        "    return res\n",
        "\n",
        "\n",
        "numberOfWeakCharacters([[7,7],[1,2],[9,7],[7,3],[3,10],[9,8],[8,10],[4,3],[1,5],[1,5]])\n"
      ],
      "metadata": {
        "colab": {
          "base_uri": "https://localhost:8080/"
        },
        "id": "WGKjKr01dRF7",
        "outputId": "b6eb44aa-7f08-453c-bcd5-415e35e9ae47"
      },
      "execution_count": null,
      "outputs": [
        {
          "output_type": "execute_result",
          "data": {
            "text/plain": [
              "6"
            ]
          },
          "metadata": {},
          "execution_count": 7
        }
      ]
    },
    {
      "cell_type": "markdown",
      "source": [
        "##10-09-2022"
      ],
      "metadata": {
        "id": "2ZM5z3uWrMYb"
      }
    },
    {
      "cell_type": "markdown",
      "source": [
        "####188. Best Time to Buy and Sell Stock IV"
      ],
      "metadata": {
        "id": "UZeFKTA-rMJC"
      }
    },
    {
      "cell_type": "code",
      "source": [
        "\"\"\"\n",
        "188. Best Time to Buy and Sell Stock IV\n",
        "Hard\n",
        "\n",
        "5404\n",
        "\n",
        "180\n",
        "\n",
        "Add to List\n",
        "\n",
        "Share\n",
        "You are given an integer array prices where prices[i] is the price of a given stock on the ith day, and an integer k.\n",
        "\n",
        "Find the maximum profit you can achieve. You may complete at most k transactions.\n",
        "\n",
        "Note: You may not engage in multiple transactions simultaneously (i.e., you must sell the stock before you buy again).\n",
        "\n",
        " \n",
        "\n",
        "Example 1:\n",
        "\n",
        "Input: k = 2, prices = [2,4,1]\n",
        "Output: 2\n",
        "Explanation: Buy on day 1 (price = 2) and sell on day 2 (price = 4), profit = 4-2 = 2.\n",
        "Example 2:\n",
        "\n",
        "Input: k = 2, prices = [3,2,6,5,0,3]\n",
        "Output: 7\n",
        "Explanation: Buy on day 2 (price = 2) and sell on day 3 (price = 6), profit = 6-2 = 4. Then buy on day 5 (price = 0) and sell on day 6 (price = 3), profit = 3-0 = 3.\n",
        " \n",
        "\n",
        "Constraints:\n",
        "\n",
        "0 <= k <= 100\n",
        "0 <= prices.length <= 1000\n",
        "0 <= prices[i] <= 1000\n",
        "\"\"\""
      ],
      "metadata": {
        "id": "2zlabToNrNyi"
      },
      "execution_count": null,
      "outputs": []
    },
    {
      "cell_type": "code",
      "source": [
        "# needs revision\n",
        "# code link (scroll to second program): https://www.geeksforgeeks.org/maximum-profit-by-buying-and-selling-a-share-at-most-k-times/\n",
        "\n",
        "\"\"\"\n",
        "Runtime: 130 ms, faster than 47.37% of Python online submissions for Best Time to Buy and Sell Stock IV.\n",
        "Memory Usage: 14.9 MB, less than 50.99% of Python online submissions for Best Time to Buy and Sell Stock IV.\n",
        "\"\"\"\n",
        "\n",
        "class Solution(object):\n",
        "    def maxProfit(self, k, prices):\n",
        "        n = len(prices)\n",
        "        # Table to store results of subproblems\n",
        "        # profit[t][i] stores maximum profit\n",
        "        # using atmost t transactions up to\n",
        "        # day i (including day i)\n",
        "        profit = [[0 for i in range(n + 1)]\n",
        "                    for j in range(k + 1)]\n",
        "\n",
        "        # Fill the table in bottom-up fashion\n",
        "        for i in range(1, k + 1):\n",
        "            prevDiff = float('-inf')\n",
        "\n",
        "            for j in range(1, n):\n",
        "                prevDiff = max(prevDiff,\n",
        "                            profit[i - 1][j - 1] -\n",
        "                            prices[j - 1])\n",
        "                profit[i][j] = max(profit[i][j - 1],\n",
        "                                prices[j] + prevDiff)\n",
        "        return profit[k][n - 1] "
      ],
      "metadata": {
        "id": "9evtEgHMrLdC"
      },
      "execution_count": null,
      "outputs": []
    },
    {
      "cell_type": "markdown",
      "source": [
        "##11-09-2022"
      ],
      "metadata": {
        "id": "YQ-YnOP2bXtE"
      }
    },
    {
      "cell_type": "markdown",
      "source": [
        "####1383. Maximum Performance of a Team"
      ],
      "metadata": {
        "id": "BfTYTaNrbXT5"
      }
    },
    {
      "cell_type": "code",
      "source": [
        "\"\"\"\n",
        "1383. Maximum Performance of a Team\n",
        "Hard\n",
        "\n",
        "2153\n",
        "\n",
        "60\n",
        "\n",
        "Add to List\n",
        "\n",
        "Share\n",
        "You are given two integers n and k and two integer arrays speed and efficiency both of length n. There are n engineers numbered from 1 to n. speed[i] and efficiency[i] represent the speed and efficiency of the ith engineer respectively.\n",
        "\n",
        "Choose at most k different engineers out of the n engineers to form a team with the maximum performance.\n",
        "\n",
        "The performance of a team is the sum of their engineers' speeds multiplied by the minimum efficiency among their engineers.\n",
        "\n",
        "Return the maximum performance of this team. Since the answer can be a huge number, return it modulo 109 + 7.\n",
        "\n",
        " \n",
        "\n",
        "Example 1:\n",
        "\n",
        "Input: n = 6, speed = [2,10,3,1,5,8], efficiency = [5,4,3,9,7,2], k = 2\n",
        "Output: 60\n",
        "Explanation: \n",
        "We have the maximum performance of the team by selecting engineer 2 (with speed=10 and efficiency=4) and engineer 5 (with speed=5 and efficiency=7). That is, performance = (10 + 5) * min(4, 7) = 60.\n",
        "Example 2:\n",
        "\n",
        "Input: n = 6, speed = [2,10,3,1,5,8], efficiency = [5,4,3,9,7,2], k = 3\n",
        "Output: 68\n",
        "Explanation:\n",
        "This is the same example as the first but k = 3. We can select engineer 1, engineer 2 and engineer 5 to get the maximum performance of the team. That is, performance = (2 + 10 + 5) * min(5, 4, 7) = 68.\n",
        "Example 3:\n",
        "\n",
        "Input: n = 6, speed = [2,10,3,1,5,8], efficiency = [5,4,3,9,7,2], k = 4\n",
        "Output: 72\n",
        " \n",
        "\n",
        "Constraints:\n",
        "\n",
        "1 <= k <= n <= 105\n",
        "speed.length == n\n",
        "efficiency.length == n\n",
        "1 <= speed[i] <= 105\n",
        "1 <= efficiency[i] <= 108\n",
        "\"\"\""
      ],
      "metadata": {
        "id": "k0CWuSWabYoY"
      },
      "execution_count": null,
      "outputs": []
    },
    {
      "cell_type": "code",
      "source": [
        "# needs revision\n",
        "# code link: https://dev.to/seanpgallivan/solution-maximum-performance-of-a-team-244n\n",
        "\n",
        "\"\"\"\n",
        "Runtime: 1237 ms, faster than 9.52% of Python online submissions for Maximum Performance of a Team.\n",
        "Memory Usage: 30.9 MB, less than 95.24% of Python online submissions for Maximum Performance of a Team.\n",
        "\"\"\"\n",
        "\n",
        "class Solution(object):\n",
        "    def maxPerformance(self, n, speed, efficiency, k):\n",
        "        ord = sorted(zip(efficiency, speed), reverse=True)\n",
        "        spheap, totalSpeed, best = [], 0, 0\n",
        "        for eff, spd in ord:\n",
        "            heappush(spheap, spd)\n",
        "            if len(spheap) <= k: totalSpeed += spd\n",
        "            else: totalSpeed += spd - heappop(spheap)\n",
        "            best = max(best, totalSpeed * eff)\n",
        "        return best % 1000000007"
      ],
      "metadata": {
        "id": "YWgqltvJbZBg"
      },
      "execution_count": null,
      "outputs": []
    },
    {
      "cell_type": "markdown",
      "source": [
        "##12-09-2022"
      ],
      "metadata": {
        "id": "3NV2fLWQxH9Z"
      }
    },
    {
      "cell_type": "markdown",
      "source": [
        "####948. Bag of Tokens"
      ],
      "metadata": {
        "id": "MZf3IONJxHs6"
      }
    },
    {
      "cell_type": "code",
      "source": [
        "\"\"\"\n",
        "948. Bag of Tokens\n",
        "Medium\n",
        "\n",
        "897\n",
        "\n",
        "327\n",
        "\n",
        "Add to List\n",
        "\n",
        "Share\n",
        "You have an initial power of power, an initial score of 0, and a bag of tokens where tokens[i] is the value of the ith token (0-indexed).\n",
        "\n",
        "Your goal is to maximize your total score by potentially playing each token in one of two ways:\n",
        "\n",
        "If your current power is at least tokens[i], you may play the ith token face up, losing tokens[i] power and gaining 1 score.\n",
        "If your current score is at least 1, you may play the ith token face down, gaining tokens[i] power and losing 1 score.\n",
        "Each token may be played at most once and in any order. You do not have to play all the tokens.\n",
        "\n",
        "Return the largest possible score you can achieve after playing any number of tokens.\n",
        "\n",
        " \n",
        "\n",
        "Example 1:\n",
        "\n",
        "Input: tokens = [100], power = 50\n",
        "Output: 0\n",
        "Explanation: Playing the only token in the bag is impossible because you either have too little power or too little score.\n",
        "Example 2:\n",
        "\n",
        "Input: tokens = [100,200], power = 150\n",
        "Output: 1\n",
        "Explanation: Play the 0th token (100) face up, your power becomes 50 and score becomes 1.\n",
        "There is no need to play the 1st token since you cannot play it face up to add to your score.\n",
        "Example 3:\n",
        "\n",
        "Input: tokens = [100,200,300,400], power = 200\n",
        "Output: 2\n",
        "Explanation: Play the tokens in this order to get a score of 2:\n",
        "1. Play the 0th token (100) face up, your power becomes 100 and score becomes 1.\n",
        "2. Play the 3rd token (400) face down, your power becomes 500 and score becomes 0.\n",
        "3. Play the 1st token (200) face up, your power becomes 300 and score becomes 1.\n",
        "4. Play the 2nd token (300) face up, your power becomes 0 and score becomes 2.\n",
        " \n",
        "\n",
        "Constraints:\n",
        "\n",
        "0 <= tokens.length <= 1000\n",
        "0 <= tokens[i], power < 104\n",
        "\"\"\""
      ],
      "metadata": {
        "id": "1J2JC0hdxIgh"
      },
      "execution_count": null,
      "outputs": []
    },
    {
      "cell_type": "code",
      "source": [
        "# my wrong solution, needs some improvement\n",
        "\n",
        "def bagOfTokensScore(tokens, power):\n",
        "    \n",
        "    if tokens == []:\n",
        "        return 0\n",
        "    \n",
        "    if len(tokens) == 1 and  power > tokens[0]:\n",
        "        return 1\n",
        "    \n",
        "    tokens = sorted(tokens)\n",
        "\n",
        "    if power < tokens[0]:\n",
        "        return 0\n",
        "\n",
        "    score = 0\n",
        "\n",
        "\n",
        "    i = 0\n",
        "    j = len(tokens)-1\n",
        "\n",
        "    while i <= j:\n",
        "        while power >= tokens[i]:\n",
        "            power -= tokens[i]\n",
        "            score += 1\n",
        "            i += 1\n",
        "        # else:\n",
        "        #     i += 1\n",
        "\n",
        "        if score >= 1 and i < j:\n",
        "            power += tokens[j]\n",
        "            score -= 1\n",
        "            j -= 1 \n",
        "    return score\n",
        "    \n",
        "tokens = [100,200]\n",
        "power = 150\n",
        "bagOfTokensScore(tokens, power)\n",
        "\n",
        "\n",
        "\n",
        "\"\"\"\n",
        "[100]\n",
        "50\n",
        "[100,200]\n",
        "150\n",
        "[100,200,300,400]\n",
        "200\n",
        "\"\"\""
      ],
      "metadata": {
        "id": "e7yNGhS_13xT"
      },
      "execution_count": null,
      "outputs": []
    },
    {
      "cell_type": "code",
      "source": [
        "# needs revision\n",
        "# explantation video link: https://www.youtube.com/watch?v=iEU2doM224M\n",
        "\n",
        "\"\"\"\n",
        "Runtime: 83 ms, faster than 16.67% of Python online submissions for Bag of Tokens.\n",
        "Memory Usage: 13.6 MB, less than 25.00% of Python online submissions for Bag of Tokens.\n",
        "\"\"\"\n",
        "\n",
        "\n",
        "def bagOfTokensScore(tokens, power):\n",
        "    tokens.sort()\n",
        "    score = 0\n",
        "    l,r =0,len(tokens)-1\n",
        "\n",
        "    while l <= r and(score or power >= tokens[l]):\n",
        "        \n",
        "        if power >= tokens[l]:\n",
        "            score += 1\n",
        "            power -= tokens[l]\n",
        "            l += 1\n",
        "            \n",
        "        elif l != r:\n",
        "            score -= 1\n",
        "            power += tokens[r]\n",
        "            r -= 1\n",
        "            \n",
        "        else:\n",
        "            break\n",
        "            \n",
        "    return score\n",
        "\n",
        "\n",
        "\n",
        "tokens = [100,200,300,400]\n",
        "power = 200\n",
        "bagOfTokensScore(tokens, power)"
      ],
      "metadata": {
        "colab": {
          "base_uri": "https://localhost:8080/"
        },
        "id": "DnPnqDSfxI7P",
        "outputId": "9ee56bf2-4685-4aea-b481-80b4f3451574"
      },
      "execution_count": null,
      "outputs": [
        {
          "output_type": "execute_result",
          "data": {
            "text/plain": [
              "2"
            ]
          },
          "metadata": {},
          "execution_count": 2
        }
      ]
    },
    {
      "cell_type": "markdown",
      "source": [
        "##13-09-2022"
      ],
      "metadata": {
        "id": "dKjlS_8CDbEt"
      }
    },
    {
      "cell_type": "markdown",
      "source": [
        "####393. UTF-8 Validation"
      ],
      "metadata": {
        "id": "-mFI_D2-DawR"
      }
    },
    {
      "cell_type": "code",
      "source": [
        "\"\"\"\n",
        "393. UTF-8 Validation\n",
        "Medium\n",
        "\n",
        "743\n",
        "\n",
        "2552\n",
        "\n",
        "Add to List\n",
        "\n",
        "Share\n",
        "Given an integer array data representing the data, return whether it is a valid UTF-8 encoding (i.e. it translates to a sequence of valid UTF-8 encoded characters).\n",
        "\n",
        "A character in UTF8 can be from 1 to 4 bytes long, subjected to the following rules:\n",
        "\n",
        "For a 1-byte character, the first bit is a 0, followed by its Unicode code.\n",
        "For an n-bytes character, the first n bits are all one's, the n + 1 bit is 0, followed by n - 1 bytes with the most significant 2 bits being 10.\n",
        "This is how the UTF-8 encoding would work:\n",
        "\n",
        "     Number of Bytes   |        UTF-8 Octet Sequence\n",
        "                       |              (binary)\n",
        "   --------------------+-----------------------------------------\n",
        "            1          |   0xxxxxxx\n",
        "            2          |   110xxxxx 10xxxxxx\n",
        "            3          |   1110xxxx 10xxxxxx 10xxxxxx\n",
        "            4          |   11110xxx 10xxxxxx 10xxxxxx 10xxxxxx\n",
        "x denotes a bit in the binary form of a byte that may be either 0 or 1.\n",
        "\n",
        "Note: The input is an array of integers. Only the least significant 8 bits of each integer is used to store the data. This means each integer represents only 1 byte of data.\n",
        "\n",
        " \n",
        "\n",
        "Example 1:\n",
        "\n",
        "Input: data = [197,130,1]\n",
        "Output: true\n",
        "Explanation: data represents the octet sequence: 11000101 10000010 00000001.\n",
        "It is a valid utf-8 encoding for a 2-bytes character followed by a 1-byte character.\n",
        "Example 2:\n",
        "\n",
        "Input: data = [235,140,4]\n",
        "Output: false\n",
        "Explanation: data represented the octet sequence: 11101011 10001100 00000100.\n",
        "The first 3 bits are all one's and the 4th bit is 0 means it is a 3-bytes character.\n",
        "The next byte is a continuation byte which starts with 10 and that's correct.\n",
        "But the second continuation byte does not start with 10, so it is invalid.\n",
        " \n",
        "\n",
        "Constraints:\n",
        "\n",
        "1 <= data.length <= 2 * 104\n",
        "0 <= data[i] <= 255\n",
        "\"\"\""
      ],
      "metadata": {
        "id": "XZJ4KtzhECOp"
      },
      "execution_count": null,
      "outputs": []
    },
    {
      "cell_type": "code",
      "source": [
        "# needs revision\n",
        "# code link: https://programs.programmingoneonone.com/2021/09/leetcode-utf-8-validation-problem-solution.html\n",
        "\n",
        "\"\"\"\n",
        "Runtime: 151 ms, faster than 48.28% of Python online submissions for UTF-8 Validation.\n",
        "Memory Usage: 13.5 MB, less than 94.83% of Python online submissions for UTF-8 Validation.\n",
        "\"\"\"\n",
        "\n",
        "def validUtf8(data):\n",
        "    def check_rem(i,total):\n",
        "        return all(i<len(data) and (data[i]>>6)==0b10 for i in range(i,i+total))\n",
        "    i = 0\n",
        "    while i<len(data):\n",
        "        if data[i]>>7==0: i+=1\n",
        "        elif data[i]>>5==0b110 and check_rem(i+1,1): i+=2\n",
        "        elif data[i]>>4==0b1110 and check_rem(i+1,2): i+=3\n",
        "        elif data[i]>>3==0b11110 and check_rem(i+1,3): i+=4\n",
        "        else: return False\n",
        "    return True"
      ],
      "metadata": {
        "id": "vskrEWfxDk0g"
      },
      "execution_count": null,
      "outputs": []
    },
    {
      "cell_type": "markdown",
      "source": [
        "##14-09-2022"
      ],
      "metadata": {
        "id": "GsuIzCOuDWm1"
      }
    },
    {
      "cell_type": "markdown",
      "source": [
        "####1457. Pseudo-Palindromic Paths in a Binary Tree"
      ],
      "metadata": {
        "id": "lrm6n_dMDWjD"
      }
    },
    {
      "cell_type": "code",
      "source": [
        "\"\"\"\n",
        "1457. Pseudo-Palindromic Paths in a Binary Tree\n",
        "Medium\n",
        "\n",
        "1764\n",
        "\n",
        "59\n",
        "\n",
        "Add to List\n",
        "\n",
        "Share\n",
        "Given a binary tree where node values are digits from 1 to 9. A path in the binary tree is said to be pseudo-palindromic if at least one permutation of the node values in the path is a palindrome.\n",
        "\n",
        "Return the number of pseudo-palindromic paths going from the root node to leaf nodes.\n",
        "\n",
        " \n",
        "\n",
        "Example 1:\n",
        "\n",
        "\n",
        "\n",
        "Input: root = [2,3,1,3,1,null,1]\n",
        "Output: 2 \n",
        "Explanation: The figure above represents the given binary tree. There are three paths going from the root node to leaf nodes: the red path [2,3,3], the green path [2,1,1], and the path [2,3,1]. Among these paths only red path and green path are pseudo-palindromic paths since the red path [2,3,3] can be rearranged in [3,2,3] (palindrome) and the green path [2,1,1] can be rearranged in [1,2,1] (palindrome).\n",
        "Example 2:\n",
        "\n",
        "\n",
        "\n",
        "Input: root = [2,1,1,1,3,null,null,null,null,null,1]\n",
        "Output: 1 \n",
        "Explanation: The figure above represents the given binary tree. There are three paths going from the root node to leaf nodes: the green path [2,1,1], the path [2,1,3,1], and the path [2,1]. Among these paths only the green path is pseudo-palindromic since [2,1,1] can be rearranged in [1,2,1] (palindrome).\n",
        "Example 3:\n",
        "\n",
        "Input: root = [9]\n",
        "Output: 1\n",
        " \n",
        "\n",
        "Constraints:\n",
        "\n",
        "The number of nodes in the tree is in the range [1, 105].\n",
        "1 <= Node.val <= 9\n",
        "\"\"\""
      ],
      "metadata": {
        "id": "y74gULPaDXSH"
      },
      "execution_count": null,
      "outputs": []
    },
    {
      "cell_type": "code",
      "source": [
        "# needs revision\n",
        "# code link: https://maxming0.github.io/2020/12/29/Pseudo-Palindromic-Paths-in-a-Binary-Tree/\n",
        "\n",
        "\"\"\"\n",
        "Runtime: 2355 ms, faster than 19.35% of Python online submissions for Pseudo-Palindromic Paths in a Binary Tree.\n",
        "Memory Usage: 112.4 MB, less than 67.74% of Python online submissions for Pseudo-Palindromic Paths in a Binary Tree.\n",
        "\"\"\"\n",
        "\n",
        "# Definition for a binary tree node.\n",
        "# class TreeNode(object):\n",
        "#     def __init__(self, val=0, left=None, right=None):\n",
        "#         self.val = val\n",
        "#         self.left = left\n",
        "#         self.right = right\n",
        "class Solution(object):\n",
        "    def pseudoPalindromicPaths (self, root):\n",
        "        def dfs(node):\n",
        "            cur[node.val] = not cur[node.val]\n",
        "            if not(node.left or node.right):\n",
        "                if cur.count(False) <= 1:\n",
        "                    res[0] += 1\n",
        "                    cur[node.val] = not cur[node.val]\n",
        "                    return\n",
        "                \n",
        "            if node.left:\n",
        "                dfs(node.left)\n",
        "            if node.right:\n",
        "                dfs(node.right)\n",
        "            cur[node.val] = not cur[node.val]\n",
        "        \n",
        "        res = [0]\n",
        "        cur = [True] * 10\n",
        "        dfs(root)\n",
        "        return res[0]"
      ],
      "metadata": {
        "id": "U51Ld6y7Dk8k"
      },
      "execution_count": null,
      "outputs": []
    },
    {
      "cell_type": "markdown",
      "source": [
        "##15-09-2022"
      ],
      "metadata": {
        "id": "wn8d6OjSHtv7"
      }
    },
    {
      "cell_type": "markdown",
      "source": [
        "####2007. Find Original Array From Doubled Array"
      ],
      "metadata": {
        "id": "nEFsQ2qJHtiY"
      }
    },
    {
      "cell_type": "code",
      "source": [
        "\"\"\"\n",
        "2007. Find Original Array From Doubled Array\n",
        "Medium\n",
        "\n",
        "1685\n",
        "\n",
        "94\n",
        "\n",
        "Add to List\n",
        "\n",
        "Share\n",
        "An integer array original is transformed into a doubled array changed by appending twice the value of every element in original, and then randomly shuffling the resulting array.\n",
        "\n",
        "Given an array changed, return original if changed is a doubled array. If changed is not a doubled array, return an empty array. The elements in original may be returned in any order.\n",
        "\n",
        " \n",
        "\n",
        "Example 1:\n",
        "\n",
        "Input: changed = [1,3,4,2,6,8]\n",
        "Output: [1,3,4]\n",
        "Explanation: One possible original array could be [1,3,4]:\n",
        "- Twice the value of 1 is 1 * 2 = 2.\n",
        "- Twice the value of 3 is 3 * 2 = 6.\n",
        "- Twice the value of 4 is 4 * 2 = 8.\n",
        "Other original arrays could be [4,3,1] or [3,1,4].\n",
        "Example 2:\n",
        "\n",
        "Input: changed = [6,3,0,1]\n",
        "Output: []\n",
        "Explanation: changed is not a doubled array.\n",
        "Example 3:\n",
        "\n",
        "Input: changed = [1]\n",
        "Output: []\n",
        "Explanation: changed is not a doubled array.\n",
        " \n",
        "\n",
        "Constraints:\n",
        "\n",
        "1 <= changed.length <= 105\n",
        "0 <= changed[i] <= 105\n",
        "\"\"\""
      ],
      "metadata": {
        "id": "s96qSJ_WHvCj"
      },
      "execution_count": null,
      "outputs": []
    },
    {
      "cell_type": "code",
      "source": [
        "# needs revision\n",
        "# code link: https://walkccc.me/LeetCode/problems/2007/\n",
        "\n",
        "\"\"\"\n",
        "Runtime: 2839 ms, faster than 23.08% of Python online submissions for Find Original Array From Doubled Array.\n",
        "Memory Usage: 28.5 MB, less than 93.16% of Python online submissions for Find Original Array From Doubled Array.\n",
        "\"\"\"\n",
        "\n",
        "class Solution(object):\n",
        "    def findOriginalArray(self, changed):\n",
        "        ans = []\n",
        "        q = deque()\n",
        "\n",
        "        for num in sorted(changed):\n",
        "          if q and num == q[0]:\n",
        "            q.popleft()\n",
        "          else:\n",
        "            q.append(num * 2)\n",
        "            ans.append(num)\n",
        "\n",
        "        return [] if q else ans   \n",
        "        "
      ],
      "metadata": {
        "id": "ZQ30OTvxHusB"
      },
      "execution_count": null,
      "outputs": []
    },
    {
      "cell_type": "markdown",
      "source": [
        "##16-09-2022"
      ],
      "metadata": {
        "id": "FmbSAagdTTuj"
      }
    },
    {
      "cell_type": "markdown",
      "source": [
        "####1770. Maximum Score from Performing Multiplication Operations"
      ],
      "metadata": {
        "id": "vE4BoYxiTTgY"
      }
    },
    {
      "cell_type": "code",
      "source": [
        "\"\"\"\n",
        "1770. Maximum Score from Performing Multiplication Operations\n",
        "Medium\n",
        "\n",
        "1839\n",
        "\n",
        "428\n",
        "\n",
        "Add to List\n",
        "\n",
        "Share\n",
        "You are given two integer arrays nums and multipliers of size n and m respectively, where n >= m. The arrays are 1-indexed.\n",
        "\n",
        "You begin with a score of 0. You want to perform exactly m operations. On the ith operation (1-indexed), you will:\n",
        "\n",
        "Choose one integer x from either the start or the end of the array nums.\n",
        "Add multipliers[i] * x to your score.\n",
        "Remove x from the array nums.\n",
        "Return the maximum score after performing m operations.\n",
        "\n",
        " \n",
        "\n",
        "Example 1:\n",
        "\n",
        "Input: nums = [1,2,3], multipliers = [3,2,1]\n",
        "Output: 14\n",
        "Explanation: An optimal solution is as follows:\n",
        "- Choose from the end, [1,2,3], adding 3 * 3 = 9 to the score.\n",
        "- Choose from the end, [1,2], adding 2 * 2 = 4 to the score.\n",
        "- Choose from the end, [1], adding 1 * 1 = 1 to the score.\n",
        "The total score is 9 + 4 + 1 = 14.\n",
        "Example 2:\n",
        "\n",
        "Input: nums = [-5,-3,-3,-2,7,1], multipliers = [-10,-5,3,4,6]\n",
        "Output: 102\n",
        "Explanation: An optimal solution is as follows:\n",
        "- Choose from the start, [-5,-3,-3,-2,7,1], adding -5 * -10 = 50 to the score.\n",
        "- Choose from the start, [-3,-3,-2,7,1], adding -3 * -5 = 15 to the score.\n",
        "- Choose from the start, [-3,-2,7,1], adding -3 * 3 = -9 to the score.\n",
        "- Choose from the end, [-2,7,1], adding 1 * 4 = 4 to the score.\n",
        "- Choose from the end, [-2,7], adding 7 * 6 = 42 to the score. \n",
        "The total score is 50 + 15 - 9 + 4 + 42 = 102.\n",
        " \n",
        "\n",
        "Constraints:\n",
        "\n",
        "n == nums.length\n",
        "m == multipliers.length\n",
        "1 <= m <= 103\n",
        "m <= n <= 105\n",
        "-1000 <= nums[i], multipliers[i] <= 1000\n",
        "\"\"\""
      ],
      "metadata": {
        "id": "IizJlmdqTUS5"
      },
      "execution_count": null,
      "outputs": []
    },
    {
      "cell_type": "code",
      "source": [
        "# my incorrect solution 1\n",
        "def maximumScore(nums, multipliers):\n",
        "  score = 0\n",
        "  start = 0\n",
        "  end = -1\n",
        "  for i in range(len(multipliers)):\n",
        "    if multipliers[i] > 0:\n",
        "      if nums[start] > 0 and nums[end] > 0:\n",
        "        if nums[start] >= nums[end]:\n",
        "          score += nums[start] * multipliers[i] \n",
        "          start += 1\n",
        "        else:\n",
        "          score += nums[end] * multipliers[i]\n",
        "          end -= 1\n",
        "      elif nums[start] > 0 and nums[end] <= 0:\n",
        "          score += nums[start] * multipliers[i] \n",
        "          start += 1        \n",
        "      elif nums[start] <= 0 and nums[end] > 0:\n",
        "          score += nums[end] * multipliers[i]\n",
        "          end -= 1    \n",
        "    elif multipliers[i] < 0:\n",
        "      if nums[start] < 0 and nums[end] < 0:\n",
        "        if nums[start] <= nums[end]:\n",
        "          score += nums[start] * multipliers[i] \n",
        "          start += 1\n",
        "        else:\n",
        "          score += nums[end] * multipliers[i]\n",
        "          end -= 1\n",
        "      elif nums[start] < 0 and nums[end] >= 0:\n",
        "          score += nums[start] * multipliers[i] \n",
        "          start += 1        \n",
        "      elif nums[start] >= 0 and nums[end] < 0:\n",
        "          score += nums[end] * multipliers[i]\n",
        "          end -= 1  \n",
        "  return score\n",
        "      \n",
        "nums = [-5,-3,-3,-2,7,1]\n",
        "multipliers = [-10,-5,3,4,6]\n",
        "maximumScore(nums, multipliers)"
      ],
      "metadata": {
        "colab": {
          "base_uri": "https://localhost:8080/"
        },
        "id": "jA9303jnTUs4",
        "outputId": "0d62babd-2ade-4657-cb98-ff2aa273e2ae"
      },
      "execution_count": null,
      "outputs": [
        {
          "output_type": "execute_result",
          "data": {
            "text/plain": [
              "96"
            ]
          },
          "metadata": {},
          "execution_count": 1
        }
      ]
    },
    {
      "cell_type": "code",
      "source": [
        "# my incorrect solution 2\n",
        "class Solution(object):\n",
        "    def maximumScore(self, nums, multipliers):\n",
        "      score = 0\n",
        "      start = 0\n",
        "      end = -1\n",
        "\n",
        "      for i in range(len(multipliers)):\n",
        "        \n",
        "        if multipliers[i] * nums[start] > multipliers[i] * nums[end]:\n",
        "          score += nums[start] * multipliers[i] \n",
        "          start += 1\n",
        "        elif multipliers[i] * nums[start] < multipliers[i] * nums[end]:\n",
        "          score += nums[end] * multipliers[i]\n",
        "          end -= 1     \n",
        "        else:\n",
        "            if i < len(multipliers) - 1:\n",
        "                if multipliers[i+1] * nums[start+1] > multipliers[i+1] * nums[end-1]:\n",
        "                  score += nums[start] * multipliers[i] \n",
        "                  start += 1\n",
        "                elif multipliers[i+1] * nums[start+1] < multipliers[i] * nums[end-1]:\n",
        "                  score += nums[end] * multipliers[i]\n",
        "                  end -= 1             \n",
        "            else:\n",
        "                score += nums[start] * multipliers[i] \n",
        "                start += 1\n",
        "                \n",
        "      return score\n",
        "        "
      ],
      "metadata": {
        "id": "R0Wc4zv8X7Bu"
      },
      "execution_count": null,
      "outputs": []
    },
    {
      "cell_type": "code",
      "source": [
        "# needs revision\n",
        "# code link: https://www.tutorialspoint.com/program-to-find-maximum-score-from-performing-multiplication-operations-in-python\n",
        "\n",
        "\"\"\"\n",
        "Runtime: 5811 ms, faster than 36.59% of Python online submissions for Maximum Score from Performing Multiplication Operations.\n",
        "Memory Usage: 36.7 MB, less than 14.63% of Python online submissions for Maximum Score from Performing Multiplication Operations.\n",
        "\"\"\"\n",
        "\n",
        "def maximumScore(nums, multipliers):\n",
        "    n, m = len(nums), len(multipliers)\n",
        "    dp = [[0]*m for _ in range(m+1)]\n",
        "\n",
        "    for i in reversed(range(m)):\n",
        "      for j in range(i, m):\n",
        "          k = i + m - j - 1\n",
        "          dp[i][j] = max(nums[i] * multipliers[k] + dp[i+1][j], nums[j-m+n] * multipliers[k] + dp[i][j-1])\n",
        "\n",
        "    return dp[0][-1]\n",
        "\n",
        "\n",
        "nums = [-5,-3,-3,-2,7,1]\n",
        "multipliers = [-10,-5,3,4,6]\n",
        "maximumScore(nums, multipliers)"
      ],
      "metadata": {
        "id": "ZXMmjC-_cXA6"
      },
      "execution_count": null,
      "outputs": []
    },
    {
      "cell_type": "markdown",
      "source": [
        "##17-09-2022"
      ],
      "metadata": {
        "id": "dLXr29iIX3C7"
      }
    },
    {
      "cell_type": "markdown",
      "source": [
        "####336. Palindrome Pairs"
      ],
      "metadata": {
        "id": "sqaVxOlrX2_g"
      }
    },
    {
      "cell_type": "code",
      "source": [
        "\"\"\"\n",
        "336. Palindrome Pairs\n",
        "Hard\n",
        "\n",
        "Given a list of unique words, return all the pairs of the distinct indices (i, j) in the given list, so that the concatenation of the two words words[i] + words[j] is a palindrome.\n",
        "\n",
        " \n",
        "\n",
        "Example 1:\n",
        "\n",
        "Input: words = [\"abcd\",\"dcba\",\"lls\",\"s\",\"sssll\"]\n",
        "Output: [[0,1],[1,0],[3,2],[2,4]]\n",
        "Explanation: The palindromes are [\"dcbaabcd\",\"abcddcba\",\"slls\",\"llssssll\"]\n",
        "Example 2:\n",
        "\n",
        "Input: words = [\"bat\",\"tab\",\"cat\"]\n",
        "Output: [[0,1],[1,0]]\n",
        "Explanation: The palindromes are [\"battab\",\"tabbat\"]\n",
        "Example 3:\n",
        "\n",
        "Input: words = [\"a\",\"\"]\n",
        "Output: [[0,1],[1,0]]\n",
        " \n",
        "\n",
        "Constraints:\n",
        "\n",
        "1 <= words.length <= 5000\n",
        "0 <= words[i].length <= 300\n",
        "words[i] consists of lower-case English letters.\n",
        "\"\"\""
      ],
      "metadata": {
        "id": "MJ2QXAxuX1Kx"
      },
      "execution_count": null,
      "outputs": []
    },
    {
      "cell_type": "code",
      "source": [
        "# Time Limit Exceeded: 60/136 test cases passed\n",
        "\n",
        "def palindromePairs(words):  \n",
        "    def isPalindrome(listo):\n",
        "        initial = listo\n",
        "        final = \"\"\n",
        "        for i in listo:\n",
        "            final = i + final          \n",
        "        if initial == final:\n",
        "            return True\n",
        "        else:\n",
        "            return False    \n",
        "    out = []\n",
        "    for i in range(len(words)):\n",
        "        if words[i+1: ] != []:\n",
        "            for j in range(len(words[i+1: ])):\n",
        "                temp1 = words[i]+words[i+j+1]\n",
        "                temp2 = words[i+j+1]+words[i]\n",
        "                if isPalindrome(temp1):\n",
        "                    out.append([i, i+j+1])\n",
        "                if isPalindrome(temp2):\n",
        "                    out.append([i+j+1, i])      \n",
        "    return out\n",
        "palindromePairs([\"abcd\",\"dcba\",\"lls\",\"s\",\"sssll\"])\n",
        "#palindromePairs([\"bat\",\"tab\",\"cat\"])\n",
        "#palindromePairs([\"a\",\"\"])"
      ],
      "metadata": {
        "colab": {
          "base_uri": "https://localhost:8080/"
        },
        "id": "bySoUl8lX1Hj",
        "outputId": "87887f41-1e0f-4deb-c8c9-11f01c506142"
      },
      "execution_count": null,
      "outputs": [
        {
          "output_type": "execute_result",
          "data": {
            "text/plain": [
              "[[0, 1], [1, 0], [1, 1], [1, 1]]"
            ]
          },
          "metadata": {},
          "execution_count": 7
        }
      ]
    },
    {
      "cell_type": "code",
      "source": [
        "# Time Limit Exceeded: 103 / 136 test cases passed. \n",
        "\n",
        "def palindromePairs(words):  \n",
        "\n",
        "    def isPalindrome(s):\n",
        "        return s == s[::-1]\n",
        "\n",
        "    out = []\n",
        "    for i in range(len(words)):\n",
        "        if words[i+1: ] != []:\n",
        "            for j in range(len(words[i+1: ])):\n",
        "                if words[i] != \"\" and words[i+j+1] != \"\":\n",
        "                    if words[i][0] == words[i+j+1][-1]:\n",
        "                        temp1 = words[i]+words[i+j+1]\n",
        "                        if isPalindrome(temp1):\n",
        "                            out.append([i, i+j+1])\n",
        "                    if words[i+j+1][0] == words[i][-1]:\n",
        "                        temp2 = words[i+j+1]+words[i]\n",
        "                        if isPalindrome(temp2):\n",
        "                            out.append([i+j+1, i])\n",
        "                else:\n",
        "                    if words[i] == \"\" and words[i+j+1] == \"\":\n",
        "                        out.append([i, i+j+1])\n",
        "                        out.append([i+j+1, i])\n",
        "                    elif words[i] == \"\" and words[i+j+1] != \"\":\n",
        "                        if isPalindrome(words[i+j+1]):\n",
        "                            out.append([i, i+j+1])\n",
        "                            out.append([i+j+1, i])                        \n",
        "                    elif words[i] != \"\" and words[i+j+1] == \"\":\n",
        "                        if isPalindrome(words[i]):\n",
        "                            out.append([i, i+j+1])\n",
        "                            out.append([i+j+1, i])                        \n",
        "    return out\n",
        "\n",
        "#palindromePairs([\"abcd\",\"dcba\",\"lls\",\"s\",\"sssll\"])\n",
        "#palindromePairs([\"bat\",\"tab\",\"cat\"])\n",
        "palindromePairs([\"a\",\"\"])\n",
        "palindromePairs([\"a\",\"abc\",\"aba\",\"\"])"
      ],
      "metadata": {
        "colab": {
          "base_uri": "https://localhost:8080/"
        },
        "id": "lb4zuccaYLw_",
        "outputId": "dcb8d2b0-01b2-4f38-fc94-2dd4311a7be6"
      },
      "execution_count": null,
      "outputs": [
        {
          "output_type": "execute_result",
          "data": {
            "text/plain": [
              "[[0, 3], [3, 0], [2, 3], [3, 2]]"
            ]
          },
          "metadata": {},
          "execution_count": 10
        }
      ]
    },
    {
      "cell_type": "code",
      "source": [
        "# needs revision\n",
        "# code link: https://walkccc.me/LeetCode/problems/0336/ \n",
        "\n",
        "\"\"\"\n",
        "Runtime: 4798 ms, faster than 48.84% of Python online submissions for Palindrome Pairs.\n",
        "Memory Usage: 36.4 MB, less than 39.53% of Python online submissions for Palindrome Pairs.\n",
        "\"\"\"\n",
        "\n",
        "def palindromePairs(words):  \n",
        "    ans = []\n",
        "    dict = {word[::-1]: i for i, word in enumerate(words)}\n",
        "\n",
        "    for i, word in enumerate(words):\n",
        "      if \"\" in dict and dict[\"\"] != i and word == word[::-1]:\n",
        "        ans.append([i, dict[\"\"]])\n",
        "\n",
        "      for j in range(1, len(word) + 1):\n",
        "        l = word[:j]\n",
        "        r = word[j:]\n",
        "        if l in dict and dict[l] != i and r == r[::-1]:\n",
        "          ans.append([i, dict[l]])\n",
        "        if r in dict and dict[r] != i and l == l[::-1]:\n",
        "          ans.append([dict[r], i])\n",
        "\n",
        "    return ans\n",
        "\n",
        "palindromePairs([\"abcd\",\"dcba\",\"lls\",\"s\",\"sssll\"])\n",
        "#palindromePairs([\"bat\",\"tab\",\"cat\"])\n",
        "#palindromePairs([\"a\",\"\"])\n",
        "#palindromePairs([\"a\",\"abc\",\"aba\",\"\"])"
      ],
      "metadata": {
        "colab": {
          "base_uri": "https://localhost:8080/"
        },
        "id": "hfeXjEMwj8Rj",
        "outputId": "1d90b91a-bf32-4de7-a9c6-34c119149273"
      },
      "execution_count": null,
      "outputs": [
        {
          "output_type": "execute_result",
          "data": {
            "text/plain": [
              "[[0, 1], [1, 0], [3, 2], [2, 4]]"
            ]
          },
          "metadata": {},
          "execution_count": 17
        }
      ]
    },
    {
      "cell_type": "markdown",
      "source": [
        "##18-09-2022"
      ],
      "metadata": {
        "id": "tWk3psfHvOi0"
      }
    },
    {
      "cell_type": "markdown",
      "source": [
        "####42. Trapping Rain Water"
      ],
      "metadata": {
        "id": "mOukFtaBvOQ1"
      }
    },
    {
      "cell_type": "code",
      "source": [
        "\"\"\"\n",
        "42. Trapping Rain Water\n",
        "Hard\n",
        "\n",
        "22669\n",
        "\n",
        "305\n",
        "\n",
        "Add to List\n",
        "\n",
        "Share\n",
        "Given n non-negative integers representing an elevation map where the width of each bar is 1, compute how much water it can trap after raining.\n",
        "\n",
        " \n",
        "\n",
        "Example 1:\n",
        "\n",
        "\n",
        "Input: height = [0,1,0,2,1,0,1,3,2,1,2,1]\n",
        "Output: 6\n",
        "Explanation: The above elevation map (black section) is represented by array [0,1,0,2,1,0,1,3,2,1,2,1]. In this case, 6 units of rain water (blue section) are being trapped.\n",
        "Example 2:\n",
        "\n",
        "Input: height = [4,2,0,3,2,5]\n",
        "Output: 9\n",
        " \n",
        "\n",
        "Constraints:\n",
        "\n",
        "n == height.length\n",
        "1 <= n <= 2 * 104\n",
        "0 <= height[i] <= 105\n",
        "\"\"\""
      ],
      "metadata": {
        "id": "dCRBwVSEvPWY"
      },
      "execution_count": null,
      "outputs": []
    },
    {
      "cell_type": "markdown",
      "source": [
        "![image.png](data:image/png;base64,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)"
      ],
      "metadata": {
        "id": "GwV8kXmkwEbO"
      }
    },
    {
      "cell_type": "code",
      "source": [
        "# needs revision\n",
        "# code link: https://zhenyu0519.github.io/2020/06/09/lc42/\n",
        "\n",
        "\"\"\"\n",
        "Runtime: 245 ms, faster than 11.88% of Python online submissions for Trapping Rain Water.\n",
        "Memory Usage: 15.1 MB, less than 49.50% of Python online submissions for Trapping Rain Water.\n",
        "\"\"\"\n",
        "\n",
        "def trap(height):\n",
        "    if not height: return 0\n",
        "    size = len(height)\n",
        "    area = 0\n",
        "    left_max, right_max = [0] * size, [0] * size\n",
        "    \n",
        "    left_max[0] = height[0]\n",
        "    for i in range(1, size):\n",
        "        left_max[i] = max(height[i], left_max[i - 1])\n",
        "        \n",
        "    right_max[size - 1] = height[size - 1]\n",
        "    for i in range(size-2, -1, -1):\n",
        "        right_max[i] = max(height[i], right_max[i + 1])\n",
        "    \n",
        "    for i in range(1, size-1):\n",
        "        area = area + (min(left_max[i], right_max[i]) - height[i])\n",
        "    return area  \n",
        "\n",
        "\n",
        "trap([0,1,0,2,1,0,1,3,2,1,2,1])        "
      ],
      "metadata": {
        "colab": {
          "base_uri": "https://localhost:8080/"
        },
        "id": "Xfan-o4lvPx5",
        "outputId": "a3a239e6-0278-4335-8480-1a8288f2ebc9"
      },
      "execution_count": null,
      "outputs": [
        {
          "output_type": "execute_result",
          "data": {
            "text/plain": [
              "6"
            ]
          },
          "metadata": {},
          "execution_count": 1
        }
      ]
    },
    {
      "cell_type": "markdown",
      "source": [
        "##19-09-2022"
      ],
      "metadata": {
        "id": "IRaUxR393fqJ"
      }
    },
    {
      "cell_type": "markdown",
      "source": [
        "####609. Find Duplicate File in System"
      ],
      "metadata": {
        "id": "e_1Wr0RH3fb3"
      }
    },
    {
      "cell_type": "code",
      "source": [
        "\"\"\"\n",
        "609. Find Duplicate File in System\n",
        "Medium\n",
        "\n",
        "1291\n",
        "\n",
        "1477\n",
        "\n",
        "Add to List\n",
        "\n",
        "Share\n",
        "Given a list paths of directory info, including the directory path, and all the files with contents in this directory, return all the duplicate files in the file system in terms of their paths. You may return the answer in any order.\n",
        "\n",
        "A group of duplicate files consists of at least two files that have the same content.\n",
        "\n",
        "A single directory info string in the input list has the following format:\n",
        "\n",
        "\"root/d1/d2/.../dm f1.txt(f1_content) f2.txt(f2_content) ... fn.txt(fn_content)\"\n",
        "It means there are n files (f1.txt, f2.txt ... fn.txt) with content (f1_content, f2_content ... fn_content) respectively in the directory \"root/d1/d2/.../dm\". Note that n >= 1 and m >= 0. If m = 0, it means the directory is just the root directory.\n",
        "\n",
        "The output is a list of groups of duplicate file paths. For each group, it contains all the file paths of the files that have the same content. A file path is a string that has the following format:\n",
        "\n",
        "\"directory_path/file_name.txt\"\n",
        " \n",
        "\n",
        "Example 1:\n",
        "\n",
        "Input: paths = [\"root/a 1.txt(abcd) 2.txt(efgh)\",\"root/c 3.txt(abcd)\",\"root/c/d 4.txt(efgh)\",\"root 4.txt(efgh)\"]\n",
        "Output: [[\"root/a/2.txt\",\"root/c/d/4.txt\",\"root/4.txt\"],[\"root/a/1.txt\",\"root/c/3.txt\"]]\n",
        "Example 2:\n",
        "\n",
        "Input: paths = [\"root/a 1.txt(abcd) 2.txt(efgh)\",\"root/c 3.txt(abcd)\",\"root/c/d 4.txt(efgh)\"]\n",
        "Output: [[\"root/a/2.txt\",\"root/c/d/4.txt\"],[\"root/a/1.txt\",\"root/c/3.txt\"]]\n",
        " \n",
        "\n",
        "Constraints:\n",
        "\n",
        "1 <= paths.length <= 2 * 104\n",
        "1 <= paths[i].length <= 3000\n",
        "1 <= sum(paths[i].length) <= 5 * 105\n",
        "paths[i] consist of English letters, digits, '/', '.', '(', ')', and ' '.\n",
        "You may assume no files or directories share the same name in the same directory.\n",
        "You may assume each given directory info represents a unique directory. A single blank space separates the directory path and file info.\n",
        " \n",
        "\n",
        "Follow up:\n",
        "\n",
        "Imagine you are given a real file system, how will you search files? DFS or BFS?\n",
        "If the file content is very large (GB level), how will you modify your solution?\n",
        "If you can only read the file by 1kb each time, how will you modify your solution?\n",
        "What is the time complexity of your modified solution? What is the most time-consuming part and memory-consuming part of it? How to optimize?\n",
        "How to make sure the duplicated files you find are not false positive?\n",
        "\"\"\""
      ],
      "metadata": {
        "id": "7ystB9c53gW3"
      },
      "execution_count": null,
      "outputs": []
    },
    {
      "cell_type": "code",
      "source": [
        "# needs revision\n",
        "# code link:https://dev.to/seanpgallivan/solution-find-duplicate-file-in-system-1ofi\n",
        "\n",
        "\n",
        "Runtime: 172 ms, faster than 23.53% of Python online submissions for Find Duplicate File in System.\n",
        "Memory Usage: 29.5 MB, less than 79.41% of Python online submissions for Find Duplicate File in System.\"\"\"\n",
        "\n",
        "\"\"\"\n",
        "\n",
        "def findDuplicate(paths):\n",
        "    contMap, ans = defaultdict(list), []\n",
        "    for pStr in paths:\n",
        "        sep = pStr.split(\" \")\n",
        "        for i in range(1, len(sep)):\n",
        "            parts = sep[i].split('(')\n",
        "            cont = parts[1][:-1]\n",
        "            contMap[cont].append(sep[0] + '/' + parts[0])\n",
        "    for v in contMap.values():\n",
        "        if len(v) > 1: ans.append(v)\n",
        "    return ans"
      ],
      "metadata": {
        "id": "YRDaqCT73gzQ"
      },
      "execution_count": null,
      "outputs": []
    },
    {
      "cell_type": "markdown",
      "source": [
        "##20-09-2022"
      ],
      "metadata": {
        "id": "g8NM8tpQnAuU"
      }
    },
    {
      "cell_type": "markdown",
      "source": [
        "##718. Maximum Length of Repeated Subarray"
      ],
      "metadata": {
        "id": "fHbsB_HinAfs"
      }
    },
    {
      "cell_type": "code",
      "source": [
        "\"\"\"\n",
        "718. Maximum Length of Repeated Subarray\n",
        "Medium\n",
        "\n",
        "5581\n",
        "\n",
        "140\n",
        "\n",
        "Add to List\n",
        "\n",
        "Share\n",
        "Given two integer arrays nums1 and nums2, return the maximum length of a subarray that appears in both arrays.\n",
        "\n",
        " \n",
        "\n",
        "Example 1:\n",
        "\n",
        "Input: nums1 = [1,2,3,2,1], nums2 = [3,2,1,4,7]\n",
        "Output: 3\n",
        "Explanation: The repeated subarray with maximum length is [3,2,1].\n",
        "Example 2:\n",
        "\n",
        "Input: nums1 = [0,0,0,0,0], nums2 = [0,0,0,0,0]\n",
        "Output: 5\n",
        " \n",
        "\n",
        "Constraints:\n",
        "\n",
        "1 <= nums1.length, nums2.length <= 1000\n",
        "0 <= nums1[i], nums2[i] <= 100\n",
        "\"\"\""
      ],
      "metadata": {
        "id": "0BIIjNX_m_-d"
      },
      "execution_count": null,
      "outputs": []
    },
    {
      "cell_type": "code",
      "source": [
        "# needs revision\n",
        "# code link: https://walkccc.me/LeetCode/problems/0718/\n",
        "\n",
        "\"\"\"\n",
        "Runtime: 6446 ms, faster than 5.30% of Python online submissions for Maximum Length of Repeated Subarray.\n",
        "Memory Usage: 33.9 MB, less than 73.88% of Python online submissions for Maximum Length of Repeated Subarray.\n",
        "\"\"\"\n",
        "\n",
        "def findLength(nums1, nums2):\n",
        "    m = len(nums1)\n",
        "    n = len(nums2)\n",
        "    ans = 0\n",
        "    # dp[i][j] := max length of nums1[i:] and nums2[j:]\n",
        "    dp = [[0] * (n + 1) for _ in range(m + 1)]\n",
        "\n",
        "    for i in reversed(range(m)):\n",
        "      for j in reversed(range(n)):\n",
        "        if nums1[i] == nums2[j]:\n",
        "          dp[i][j] = dp[i + 1][j + 1] + 1\n",
        "          ans = max(ans, dp[i][j])\n",
        "\n",
        "    return ans\n",
        "\n",
        "\n",
        "nums1 = [0,0,0,0,0]\n",
        "nums2 = [0,0,0,0,0]\n",
        "findLength(nums1, nums2)"
      ],
      "metadata": {
        "colab": {
          "base_uri": "https://localhost:8080/"
        },
        "id": "L_aeJYmWnOo6",
        "outputId": "705c6f68-d5d9-4700-d614-047cd7d3e11b"
      },
      "execution_count": null,
      "outputs": [
        {
          "output_type": "execute_result",
          "data": {
            "text/plain": [
              "5"
            ]
          },
          "metadata": {},
          "execution_count": 1
        }
      ]
    },
    {
      "cell_type": "markdown",
      "source": [
        "##21-09-2022"
      ],
      "metadata": {
        "id": "Ocq3UeW2nn_3"
      }
    },
    {
      "cell_type": "markdown",
      "source": [
        "####985. Sum of Even Numbers After Queries"
      ],
      "metadata": {
        "id": "EnQMgixtnnxr"
      }
    },
    {
      "cell_type": "code",
      "source": [
        "\"\"\"\n",
        "985. Sum of Even Numbers After Queries\n",
        "Medium\n",
        "\n",
        "1745\n",
        "\n",
        "307\n",
        "\n",
        "Add to List\n",
        "\n",
        "Share\n",
        "You are given an integer array nums and an array queries where queries[i] = [vali, indexi].\n",
        "\n",
        "For each query i, first, apply nums[indexi] = nums[indexi] + vali, then print the sum of the even values of nums.\n",
        "\n",
        "Return an integer array answer where answer[i] is the answer to the ith query.\n",
        "\n",
        " \n",
        "\n",
        "Example 1:\n",
        "\n",
        "Input: nums = [1,2,3,4], queries = [[1,0],[-3,1],[-4,0],[2,3]]\n",
        "Output: [8,6,2,4]\n",
        "Explanation: At the beginning, the array is [1,2,3,4].\n",
        "After adding 1 to nums[0], the array is [2,2,3,4], and the sum of even values is 2 + 2 + 4 = 8.\n",
        "After adding -3 to nums[1], the array is [2,-1,3,4], and the sum of even values is 2 + 4 = 6.\n",
        "After adding -4 to nums[0], the array is [-2,-1,3,4], and the sum of even values is -2 + 4 = 2.\n",
        "After adding 2 to nums[3], the array is [-2,-1,3,6], and the sum of even values is -2 + 6 = 4.\n",
        "Example 2:\n",
        "\n",
        "Input: nums = [1], queries = [[4,0]]\n",
        "Output: [0]\n",
        " \n",
        "\n",
        "Constraints:\n",
        "\n",
        "1 <= nums.length <= 104\n",
        "-104 <= nums[i] <= 104\n",
        "1 <= queries.length <= 104\n",
        "-104 <= vali <= 104\n",
        "0 <= indexi < nums.length\n",
        "\"\"\""
      ],
      "metadata": {
        "id": "MJqWZE0CnmWO"
      },
      "execution_count": null,
      "outputs": []
    },
    {
      "cell_type": "code",
      "source": [
        "# needs revision\n",
        "# code link: https://gist.github.com/KyleMcClay/13bd1902e06bba49ed1317bc2bfdde11\n",
        "\n",
        "\"\"\"\n",
        "Runtime: 1090 ms, faster than 13.93% of Python online submissions for Sum of Even Numbers After Queries.\n",
        "Memory Usage: 19.7 MB, less than 77.22% of Python online submissions for Sum of Even Numbers After Queries.\n",
        "\"\"\"\n",
        "\n",
        "def sumEvenAfterQueries(nums, queries):\n",
        "    answer = []\n",
        "    sum_element = 0\n",
        "\n",
        "    for i in nums:\n",
        "        if i % 2 == 0:\n",
        "            sum_element += i\n",
        "\n",
        "    for ab in queries:\n",
        "\n",
        "        if nums[ab[1]] % 2 == 0:\n",
        "            sum_element += -1 * nums[ab[1]]\n",
        "\n",
        "        if (ab[0] + nums[ab[1]]) % 2 == 0:\n",
        "            sum_element += ab[0] + nums[ab[1]]\n",
        "\n",
        "        # updating list\n",
        "        nums[ab[1]] += ab[0]\n",
        "        answer.append(sum_element)\n",
        "\n",
        "    return answer\n",
        "\n",
        "\n",
        "nums = [1,2,3,4]\n",
        "queries = [[1,0],[-3,1],[-4,0],[2,3]]\n",
        "sumEvenAfterQueries(nums, queries)"
      ],
      "metadata": {
        "colab": {
          "base_uri": "https://localhost:8080/"
        },
        "id": "pJJKtQ8doVLk",
        "outputId": "586e5e87-8bec-45ed-b7e0-879fe661d476"
      },
      "execution_count": null,
      "outputs": [
        {
          "output_type": "execute_result",
          "data": {
            "text/plain": [
              "[8, 6, 2, 4]"
            ]
          },
          "metadata": {},
          "execution_count": 2
        }
      ]
    },
    {
      "cell_type": "markdown",
      "source": [
        "##22-09-2022"
      ],
      "metadata": {
        "id": "iUoi8-fCZF4Z"
      }
    },
    {
      "cell_type": "markdown",
      "source": [
        "####557. Reverse Words in a String III"
      ],
      "metadata": {
        "id": "PBgNqkz2ZFqU"
      }
    },
    {
      "cell_type": "code",
      "source": [
        "\"\"\"\n",
        "557. Reverse Words in a String III\n",
        "Easy\n",
        "\n",
        "3995\n",
        "\n",
        "206\n",
        "\n",
        "Add to List\n",
        "\n",
        "Share\n",
        "Given a string s, reverse the order of characters in each word within a sentence while still preserving whitespace and initial word order.\n",
        "\n",
        " \n",
        "\n",
        "Example 1:\n",
        "\n",
        "Input: s = \"Let's take LeetCode contest\"\n",
        "Output: \"s'teL ekat edoCteeL tsetnoc\"\n",
        "Example 2:\n",
        "\n",
        "Input: s = \"God Ding\"\n",
        "Output: \"doG gniD\"\n",
        " \n",
        "\n",
        "Constraints:\n",
        "\n",
        "1 <= s.length <= 5 * 104\n",
        "s contains printable ASCII characters.\n",
        "s does not contain any leading or trailing spaces.\n",
        "There is at least one word in s.\n",
        "All the words in s are separated by a single space.\n",
        "\"\"\""
      ],
      "metadata": {
        "id": "Ub_sAU-iZGXH"
      },
      "execution_count": null,
      "outputs": []
    },
    {
      "cell_type": "code",
      "source": [
        "\"\"\"\n",
        "Runtime: 168 ms, faster than 27.57% of Python online submissions for Reverse Words in a String III.\n",
        "Memory Usage: 14.7 MB, less than 28.59% of Python online submissions for Reverse Words in a String III.\n",
        "\"\"\"\n",
        "\n",
        "def reverseWords(s):\n",
        "    output =\"\"\n",
        "    s_list = s.split(\" \")\n",
        "    for i in s_list:\n",
        "        temp = \"\"\n",
        "        for j in i:\n",
        "            temp =  j + temp\n",
        "        output += temp+\" \"\n",
        "    return output[:-1]\n",
        "\n",
        "\n",
        "reverseWords(\"Let's take LeetCode contest\")"
      ],
      "metadata": {
        "colab": {
          "base_uri": "https://localhost:8080/",
          "height": 36
        },
        "id": "07sI2DXPZGwW",
        "outputId": "7aebbb86-0abd-407a-ed2d-ff3ce972e179"
      },
      "execution_count": null,
      "outputs": [
        {
          "output_type": "execute_result",
          "data": {
            "text/plain": [
              "\"s'teL ekat edoCteeL tsetnoc\""
            ],
            "application/vnd.google.colaboratory.intrinsic+json": {
              "type": "string"
            }
          },
          "metadata": {},
          "execution_count": 11
        }
      ]
    },
    {
      "cell_type": "markdown",
      "source": [
        "##23-09-2022"
      ],
      "metadata": {
        "id": "60F0H5UoHk8_"
      }
    },
    {
      "cell_type": "markdown",
      "source": [
        "####1680. Concatenation of Consecutive Binary Numbers"
      ],
      "metadata": {
        "id": "t6tUfXjsHkty"
      }
    },
    {
      "cell_type": "code",
      "source": [
        "\"\"\"\n",
        "1680. Concatenation of Consecutive Binary Numbers\n",
        "Medium\n",
        "\n",
        "1037\n",
        "\n",
        "369\n",
        "\n",
        "Add to List\n",
        "\n",
        "Share\n",
        "Given an integer n, return the decimal value of the binary string formed by concatenating the binary representations of 1 to n in order, modulo 109 + 7.\n",
        "\n",
        " \n",
        "\n",
        "Example 1:\n",
        "\n",
        "Input: n = 1\n",
        "Output: 1\n",
        "Explanation: \"1\" in binary corresponds to the decimal value 1. \n",
        "Example 2:\n",
        "\n",
        "Input: n = 3\n",
        "Output: 27\n",
        "Explanation: In binary, 1, 2, and 3 corresponds to \"1\", \"10\", and \"11\".\n",
        "After concatenating them, we have \"11011\", which corresponds to the decimal value 27.\n",
        "Example 3:\n",
        "\n",
        "Input: n = 12\n",
        "Output: 505379714\n",
        "Explanation: The concatenation results in \"1101110010111011110001001101010111100\".\n",
        "The decimal value of that is 118505380540.\n",
        "After modulo 109 + 7, the result is 505379714.\n",
        " \n",
        "\n",
        "Constraints:\n",
        "\n",
        "1 <= n <= 105\n",
        "\"\"\""
      ],
      "metadata": {
        "id": "GP-KB4yjHlmW"
      },
      "execution_count": null,
      "outputs": []
    },
    {
      "cell_type": "code",
      "source": [
        "# needs revision\n",
        "# code link: https://maxming0.github.io/2021/01/27/Concatenation-of-Consecutive-Binary-Numbers/\n",
        "\n",
        "\"\"\"\n",
        "Runtime: 2631 ms, faster than 13.04% of Python online submissions for Concatenation of Consecutive Binary Numbers.\n",
        "Memory Usage: 16.3 MB, less than 78.26% of Python online submissions for Concatenation of Consecutive Binary Numbers.\n",
        "\"\"\"\n",
        "\n",
        "def concatenatedBinary(n):\n",
        "    bits, res, MOD = 1, 0, 10**9 + 7\n",
        "    for x in range(1, n + 1):\n",
        "        res = ((res << bits) + x) % MOD\n",
        "        if x == (1 << bits) - 1:\n",
        "            bits += 1    \n",
        "    return res\n",
        "\n",
        "concatenatedBinary(12)"
      ],
      "metadata": {
        "colab": {
          "base_uri": "https://localhost:8080/"
        },
        "id": "6Vv0pgsUHl_1",
        "outputId": "cd3435b9-b5a9-4eac-b908-40e54d348028"
      },
      "execution_count": null,
      "outputs": [
        {
          "output_type": "execute_result",
          "data": {
            "text/plain": [
              "505379714"
            ]
          },
          "metadata": {},
          "execution_count": 1
        }
      ]
    },
    {
      "cell_type": "markdown",
      "source": [
        "24-09-2022"
      ],
      "metadata": {
        "id": "8vV0OKNlq7vZ"
      }
    },
    {
      "cell_type": "markdown",
      "source": [
        "####113. Path Sum II"
      ],
      "metadata": {
        "id": "JuFTewWmq7gc"
      }
    },
    {
      "cell_type": "code",
      "source": [
        "\"\"\"\n",
        "113. Path Sum II\n",
        "Medium\n",
        "\n",
        "6140\n",
        "\n",
        "127\n",
        "\n",
        "Add to List\n",
        "\n",
        "Share\n",
        "Given the root of a binary tree and an integer targetSum, return all root-to-leaf paths where the sum of the node values in the path equals targetSum. Each path should be returned as a list of the node values, not node references.\n",
        "\n",
        "A root-to-leaf path is a path starting from the root and ending at any leaf node. A leaf is a node with no children.\n",
        "\n",
        " \n",
        "\n",
        "Example 1:\n",
        "\n",
        "\n",
        "Input: root = [5,4,8,11,null,13,4,7,2,null,null,5,1], targetSum = 22\n",
        "Output: [[5,4,11,2],[5,8,4,5]]\n",
        "Explanation: There are two paths whose sum equals targetSum:\n",
        "5 + 4 + 11 + 2 = 22\n",
        "5 + 8 + 4 + 5 = 22\n",
        "Example 2:\n",
        "\n",
        "\n",
        "Input: root = [1,2,3], targetSum = 5\n",
        "Output: []\n",
        "Example 3:\n",
        "\n",
        "Input: root = [1,2], targetSum = 0\n",
        "Output: []\n",
        " \n",
        "\n",
        "Constraints:\n",
        "\n",
        "The number of nodes in the tree is in the range [0, 5000].\n",
        "-1000 <= Node.val <= 1000\n",
        "-1000 <= targetSum <= 1000\n",
        "\"\"\""
      ],
      "metadata": {
        "id": "ZVeZQMTqq6qR"
      },
      "execution_count": null,
      "outputs": []
    },
    {
      "cell_type": "code",
      "source": [
        "# needs revision\n",
        "# code link: https://lenchen.medium.com/leetcode-113-path-sum-ii-af368b7687d3\n",
        "\n",
        "\"\"\"\n",
        "Runtime: 103 ms, faster than 9.78% of Python3 online submissions for Path Sum II.\n",
        "Memory Usage: 15.5 MB, less than 72.84% of Python3 online submissions for Path Sum II.\n",
        "\"\"\"\n",
        "\n",
        "# Definition for a binary tree node.\n",
        "# class TreeNode:\n",
        "#     def __init__(self, val=0, left=None, right=None):\n",
        "#         self.val = val\n",
        "#         self.left = left\n",
        "#         self.right = right\n",
        "class Solution:\n",
        "    def pathSum(self, root, sum):\n",
        "        \"\"\"\n",
        "        :type root: TreeNode\n",
        "        :type sum: int\n",
        "        :rtype: List[List[int]]\n",
        "        \"\"\"\n",
        "\n",
        "        # approach: recursively check children until leaves\n",
        "\n",
        "        result = []\n",
        "        self.pathSumRecursive(root, sum, [], result)\n",
        "        return result\n",
        "\n",
        "    def pathSumRecursive(self, root, sum, path, result):\n",
        "        if not root:\n",
        "            return None\n",
        "\n",
        "        # at leaf and sum matched\n",
        "        if not root.left and not root.right and sum == root.val:\n",
        "            result.append([*path, root.val])\n",
        "            return None\n",
        "\n",
        "        path.append(root.val)\n",
        "        self.pathSumRecursive(root.left, sum - root.val, path, result)\n",
        "        self.pathSumRecursive(root.right, sum - root.val, path, result)\n",
        "        path.pop()"
      ],
      "metadata": {
        "id": "38STIYc4rI_T"
      },
      "execution_count": null,
      "outputs": []
    },
    {
      "cell_type": "markdown",
      "source": [
        "##25-09-2022"
      ],
      "metadata": {
        "id": "7aL7iDU5p7q-"
      }
    },
    {
      "cell_type": "markdown",
      "source": [
        "####622. Design Circular Queue"
      ],
      "metadata": {
        "id": "8kFUeC0Np7aK"
      }
    },
    {
      "cell_type": "code",
      "source": [
        "\"\"\"\n",
        "622. Design Circular Queue\n",
        "Medium\n",
        "\n",
        "2636\n",
        "\n",
        "217\n",
        "\n",
        "Add to List\n",
        "\n",
        "Share\n",
        "Design your implementation of the circular queue. The circular queue is a linear data structure in which the operations are performed based on FIFO (First In First Out) principle and the last position is connected back to the first position to make a circle. It is also called \"Ring Buffer\".\n",
        "\n",
        "One of the benefits of the circular queue is that we can make use of the spaces in front of the queue. In a normal queue, once the queue becomes full, we cannot insert the next element even if there is a space in front of the queue. But using the circular queue, we can use the space to store new values.\n",
        "\n",
        "Implementation the MyCircularQueue class:\n",
        "\n",
        "MyCircularQueue(k) Initializes the object with the size of the queue to be k.\n",
        "int Front() Gets the front item from the queue. If the queue is empty, return -1.\n",
        "int Rear() Gets the last item from the queue. If the queue is empty, return -1.\n",
        "boolean enQueue(int value) Inserts an element into the circular queue. Return true if the operation is successful.\n",
        "boolean deQueue() Deletes an element from the circular queue. Return true if the operation is successful.\n",
        "boolean isEmpty() Checks whether the circular queue is empty or not.\n",
        "boolean isFull() Checks whether the circular queue is full or not.\n",
        "You must solve the problem without using the built-in queue data structure in your programming language. \n",
        "\n",
        " \n",
        "\n",
        "Example 1:\n",
        "\n",
        "Input\n",
        "[\"MyCircularQueue\", \"enQueue\", \"enQueue\", \"enQueue\", \"enQueue\", \"Rear\", \"isFull\", \"deQueue\", \"enQueue\", \"Rear\"]\n",
        "[[3], [1], [2], [3], [4], [], [], [], [4], []]\n",
        "Output\n",
        "[null, true, true, true, false, 3, true, true, true, 4]\n",
        "\n",
        "Explanation\n",
        "MyCircularQueue myCircularQueue = new MyCircularQueue(3);\n",
        "myCircularQueue.enQueue(1); // return True\n",
        "myCircularQueue.enQueue(2); // return True\n",
        "myCircularQueue.enQueue(3); // return True\n",
        "myCircularQueue.enQueue(4); // return False\n",
        "myCircularQueue.Rear();     // return 3\n",
        "myCircularQueue.isFull();   // return True\n",
        "myCircularQueue.deQueue();  // return True\n",
        "myCircularQueue.enQueue(4); // return True\n",
        "myCircularQueue.Rear();     // return 4\n",
        " \n",
        "\n",
        "Constraints:\n",
        "\n",
        "1 <= k <= 1000\n",
        "0 <= value <= 1000\n",
        "At most 3000 calls will be made to enQueue, deQueue, Front, Rear, isEmpty, and isFull.\n",
        "\"\"\""
      ],
      "metadata": {
        "id": "OBThPpHvp8pl"
      },
      "execution_count": null,
      "outputs": []
    },
    {
      "cell_type": "code",
      "source": [
        "# needs revision\n",
        "# code link : https://maxming0.github.io/2021/04/04/Design-Circular-Queue/\n",
        "\n",
        "\"\"\"\n",
        "Runtime: 108 ms, faster than 42.27% of Python online submissions for Design Circular Queue.\n",
        "Memory Usage: 14.1 MB, less than 37.80% of Python online submissions for Design Circular Queue.\n",
        "\"\"\"\n",
        "\n",
        "class MyCircularQueue(object):\n",
        "\n",
        "    def __init__(self, k):\n",
        "        self.cap = k\n",
        "        self.q = [0] * k\n",
        "        self.ct = 0\n",
        "        self.head = 0\n",
        "        \n",
        "\n",
        "    def enQueue(self, value):\n",
        "        if self.isFull():\n",
        "            return False\n",
        "        self.q[(self.head + self.ct) % self.cap] = value\n",
        "        self.ct += 1\n",
        "        return True\n",
        "        \n",
        "\n",
        "    def deQueue(self):\n",
        "        if self.isEmpty():\n",
        "            return False\n",
        "        self.head = (self.head + 1) % self.cap\n",
        "        self.ct -= 1\n",
        "        return True\n",
        "        \n",
        "\n",
        "    def Front(self):\n",
        "        if not self.ct:\n",
        "            return -1\n",
        "        return self.q[self.head]\n",
        "        \n",
        "\n",
        "    def Rear(self):\n",
        "        if not self.ct:\n",
        "            return -1\n",
        "        return self.q[(self.head + self.ct - 1) % self.cap]\n",
        "        \n",
        "\n",
        "    def isEmpty(self):\n",
        "        return self.ct == 0\n",
        "        \n",
        "\n",
        "    def isFull(self):\n",
        "        return self.ct == self.cap\n",
        "        \n",
        "\n",
        "\n",
        "# Your MyCircularQueue object will be instantiated and called as such:\n",
        "# obj = MyCircularQueue(k)\n",
        "# param_1 = obj.enQueue(value)\n",
        "# param_2 = obj.deQueue()\n",
        "# param_3 = obj.Front()\n",
        "# param_4 = obj.Rear()\n",
        "# param_5 = obj.isEmpty()\n",
        "# param_6 = obj.isFull()"
      ],
      "metadata": {
        "id": "3DnKXT1zp9EY"
      },
      "execution_count": null,
      "outputs": []
    },
    {
      "cell_type": "markdown",
      "source": [
        "##26-09-2022"
      ],
      "metadata": {
        "id": "niKRr5q3I7BY"
      }
    },
    {
      "cell_type": "markdown",
      "source": [
        "####990. Satisfiability of Equality Equations"
      ],
      "metadata": {
        "id": "a5ckjQPPI6xk"
      }
    },
    {
      "cell_type": "code",
      "source": [
        "\"\"\"\n",
        "990. Satisfiability of Equality Equations\n",
        "Medium\n",
        "\n",
        "2610\n",
        "\n",
        "37\n",
        "\n",
        "Add to List\n",
        "\n",
        "Share\n",
        "You are given an array of strings equations that represent relationships between variables where each string equations[i] is of length 4 and takes one of two different forms: \"xi==yi\" or \"xi!=yi\".Here, xi and yi are lowercase letters (not necessarily different) that represent one-letter variable names.\n",
        "\n",
        "Return true if it is possible to assign integers to variable names so as to satisfy all the given equations, or false otherwise.\n",
        "\n",
        " \n",
        "\n",
        "Example 1:\n",
        "\n",
        "Input: equations = [\"a==b\",\"b!=a\"]\n",
        "Output: false\n",
        "Explanation: If we assign say, a = 1 and b = 1, then the first equation is satisfied, but not the second.\n",
        "There is no way to assign the variables to satisfy both equations.\n",
        "Example 2:\n",
        "\n",
        "Input: equations = [\"b==a\",\"a==b\"]\n",
        "Output: true\n",
        "Explanation: We could assign a = 1 and b = 1 to satisfy both equations.\n",
        " \n",
        "\n",
        "Constraints:\n",
        "\n",
        "1 <= equations.length <= 500\n",
        "equations[i].length == 4\n",
        "equations[i][0] is a lowercase letter.\n",
        "equations[i][1] is either '=' or '!'.\n",
        "equations[i][2] is '='.\n",
        "equations[i][3] is a lowercase letter.\n",
        "\"\"\""
      ],
      "metadata": {
        "id": "VTPBdHBjI6e5"
      },
      "execution_count": null,
      "outputs": []
    },
    {
      "cell_type": "code",
      "source": [
        "# needs revision\n",
        "# code link: https://github.com/zhuifengshen/awesome-leetcode/blob/master/docs/Leetcode_Solutions/Python/0990._Satisfiability_of_Equality_Equations.md\n",
        "\n",
        "\"\"\"\n",
        "Runtime: 73 ms, faster than 10.53% of Python online submissions for Satisfiability of Equality Equations.\n",
        "Memory Usage: 14 MB, less than 7.89% of Python online submissions for Satisfiability of Equality Equations.\n",
        "\"\"\"\n",
        "class Solution(object):\n",
        "    def equationsPossible(self, equations):\n",
        "        uf = {}\n",
        "\n",
        "        def find(x):\n",
        "            uf.setdefault(x, x)\n",
        "            if x != uf[x]:\n",
        "                uf[x] = find(uf[x])\n",
        "            return uf[x]\n",
        "\n",
        "        def union(x, y):\n",
        "            uf[find(x)] = find(y)\n",
        "            \n",
        "        for e in equations:\n",
        "            if e[1] == '=':\n",
        "                union(e[0], e[-1])\n",
        "        for e in equations:\n",
        "            if e[1] == '!':\n",
        "                if find(e[0]) == find(e[-1]):\n",
        "                    return False\n",
        "        return True  \n",
        "         "
      ],
      "metadata": {
        "id": "kZjjWlStI6K6"
      },
      "execution_count": null,
      "outputs": []
    },
    {
      "cell_type": "markdown",
      "source": [
        "##27-09-2022"
      ],
      "metadata": {
        "id": "qUjYmjkRDN76"
      }
    },
    {
      "cell_type": "markdown",
      "source": [
        "####838. Push Dominoes"
      ],
      "metadata": {
        "id": "K-Fr0UpkDNtK"
      }
    },
    {
      "cell_type": "code",
      "source": [
        "\"\"\"\n",
        "838. Push Dominoes\n",
        "Medium\n",
        "\n",
        "2689\n",
        "\n",
        "168\n",
        "\n",
        "Add to List\n",
        "\n",
        "Share\n",
        "There are n dominoes in a line, and we place each domino vertically upright. In the beginning, we simultaneously push some of the dominoes either to the left or to the right.\n",
        "\n",
        "After each second, each domino that is falling to the left pushes the adjacent domino on the left. Similarly, the dominoes falling to the right push their adjacent dominoes standing on the right.\n",
        "\n",
        "When a vertical domino has dominoes falling on it from both sides, it stays still due to the balance of the forces.\n",
        "\n",
        "For the purposes of this question, we will consider that a falling domino expends no additional force to a falling or already fallen domino.\n",
        "\n",
        "You are given a string dominoes representing the initial state where:\n",
        "\n",
        "dominoes[i] = 'L', if the ith domino has been pushed to the left,\n",
        "dominoes[i] = 'R', if the ith domino has been pushed to the right, and\n",
        "dominoes[i] = '.', if the ith domino has not been pushed.\n",
        "Return a string representing the final state.\n",
        "\n",
        " \n",
        "\n",
        "Example 1:\n",
        "\n",
        "Input: dominoes = \"RR.L\"\n",
        "Output: \"RR.L\"\n",
        "Explanation: The first domino expends no additional force on the second domino.\n",
        "Example 2:\n",
        "\n",
        "\n",
        "Input: dominoes = \".L.R...LR..L..\"\n",
        "Output: \"LL.RR.LLRRLL..\"\n",
        " \n",
        "\n",
        "Constraints:\n",
        "\n",
        "n == dominoes.length\n",
        "1 <= n <= 105\n",
        "dominoes[i] is either 'L', 'R', or '.'.\n",
        "\"\"\""
      ],
      "metadata": {
        "id": "hvWE1PggDPdr"
      },
      "execution_count": null,
      "outputs": []
    },
    {
      "cell_type": "markdown",
      "source": [
        "![image.png](data:image/png;base64,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)"
      ],
      "metadata": {
        "id": "Tk3nVhjwDnro"
      }
    },
    {
      "cell_type": "code",
      "source": [
        "# needs revision\n",
        "# code link: https://walkccc.me/LeetCode/problems/0838/\n",
        "\n",
        "\"\"\"\n",
        "Runtime: 590 ms, faster than 33.33% of Python online submissions for Push Dominoes.\n",
        "Memory Usage: 20.1 MB, less than 75.00% of Python online submissions for Push Dominoes.\n",
        "\"\"\"\n",
        "\n",
        "class Solution(object):\n",
        "    def pushDominoes(self, dominoes):\n",
        "        ans = list(dominoes)\n",
        "        L = -1\n",
        "        R = -1\n",
        "\n",
        "        for i in range(len(dominoes) + 1):\n",
        "          if i == len(dominoes) or dominoes[i] == 'R':\n",
        "            if L < R:\n",
        "              while R < i:\n",
        "                ans[R] = 'R'\n",
        "                R += 1\n",
        "            R = i\n",
        "          elif dominoes[i] == 'L':\n",
        "            if R < L or (L, R) == (-1, -1):\n",
        "              if (L, R) == (-1, -1):\n",
        "                L += 1\n",
        "              while L < i:\n",
        "                ans[L] = 'L'\n",
        "                L += 1\n",
        "            else:\n",
        "              l = R + 1\n",
        "              r = i - 1\n",
        "              while l < r:\n",
        "                ans[l] = 'R'\n",
        "                ans[r] = 'L'\n",
        "                l += 1\n",
        "                r -= 1\n",
        "            L = i\n",
        "\n",
        "        return ''.join(ans)"
      ],
      "metadata": {
        "id": "fdK_M5OADPI3"
      },
      "execution_count": null,
      "outputs": []
    },
    {
      "cell_type": "markdown",
      "source": [
        "##28-09-2022"
      ],
      "metadata": {
        "id": "RU77_JpgT-DP"
      }
    },
    {
      "cell_type": "markdown",
      "source": [
        "####19. Remove Nth Node From End of List"
      ],
      "metadata": {
        "id": "iZbpLIcsT9_-"
      }
    },
    {
      "cell_type": "code",
      "source": [
        "\"\"\"\n",
        "19. Remove Nth Node From End of List\n",
        "Medium\n",
        "\n",
        "13106\n",
        "\n",
        "548\n",
        "\n",
        "Add to List\n",
        "\n",
        "Share\n",
        "Given the head of a linked list, remove the nth node from the end of the list and return its head.\n",
        "\n",
        " \n",
        "\n",
        "Example 1:\n",
        "\n",
        "\n",
        "Input: head = [1,2,3,4,5], n = 2\n",
        "Output: [1,2,3,5]\n",
        "Example 2:\n",
        "\n",
        "Input: head = [1], n = 1\n",
        "Output: []\n",
        "Example 3:\n",
        "\n",
        "Input: head = [1,2], n = 1\n",
        "Output: [1]\n",
        " \n",
        "\n",
        "Constraints:\n",
        "\n",
        "The number of nodes in the list is sz.\n",
        "1 <= sz <= 30\n",
        "0 <= Node.val <= 100\n",
        "1 <= n <= sz\n",
        " \n",
        "\n",
        "Follow up: Could you do this in one pass?\n",
        "\"\"\""
      ],
      "metadata": {
        "id": "WkScpelVT_Dj"
      },
      "execution_count": null,
      "outputs": []
    },
    {
      "cell_type": "markdown",
      "source": [
        "![image.png](data:image/png;base64,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)"
      ],
      "metadata": {
        "id": "TSzvIwO8Uu2X"
      }
    },
    {
      "cell_type": "code",
      "source": [
        "# needs revision\n",
        "# code link: https://github.com/zhouchong90/LeetCode-Python-Solution/blob/master/Solutions/19%20Remove%20Nth%20Node%20From%20End%20of%20List.py\n",
        "\"\"\"\n",
        "Runtime: 19 ms, faster than 93.57% of Python online submissions for Remove Nth Node From End of List.\n",
        "Memory Usage: 13.6 MB, less than 15.04% of Python online submissions for Remove Nth Node From End of List.\n",
        "\"\"\"\n",
        "# Definition for singly-linked list.\n",
        "# class ListNode(object):\n",
        "#     def __init__(self, val=0, next=None):\n",
        "#         self.val = val\n",
        "#         self.next = next\n",
        "class Solution(object):\n",
        "    def removeNthFromEnd(self, head, n):\n",
        "        dummy = ListNode(0)\n",
        "        dummy.next = head\n",
        "        first = second = dummy\n",
        "        \n",
        "        for i in range(n):\n",
        "            first = first.next\n",
        "        \n",
        "        while first.next is not None:\n",
        "            first = first.next\n",
        "            second = second.next\n",
        "        else:\n",
        "            second.next = second.next.next\n",
        "        \n",
        "        return dummy.next"
      ],
      "metadata": {
        "id": "s3AnJfnbT-__"
      },
      "execution_count": null,
      "outputs": []
    },
    {
      "cell_type": "markdown",
      "source": [
        "##29-09-2022"
      ],
      "metadata": {
        "id": "jZ18E_3DVpaF"
      }
    },
    {
      "cell_type": "markdown",
      "source": [
        "####658. Find K Closest Elements"
      ],
      "metadata": {
        "id": "yeu2miGuVpRE"
      }
    },
    {
      "cell_type": "code",
      "source": [
        "\"\"\"\n",
        "658. Find K Closest Elements\n",
        "Medium\n",
        "\n",
        "5966\n",
        "\n",
        "492\n",
        "\n",
        "Add to List\n",
        "\n",
        "Share\n",
        "Given a sorted integer array arr, two integers k and x, return the k closest integers to x in the array. The result should also be sorted in ascending order.\n",
        "\n",
        "An integer a is closer to x than an integer b if:\n",
        "\n",
        "|a - x| < |b - x|, or\n",
        "|a - x| == |b - x| and a < b\n",
        " \n",
        "\n",
        "Example 1:\n",
        "\n",
        "Input: arr = [1,2,3,4,5], k = 4, x = 3\n",
        "Output: [1,2,3,4]\n",
        "Example 2:\n",
        "\n",
        "Input: arr = [1,2,3,4,5], k = 4, x = -1\n",
        "Output: [1,2,3,4]\n",
        " \n",
        "\n",
        "Constraints:\n",
        "\n",
        "1 <= k <= arr.length\n",
        "1 <= arr.length <= 104\n",
        "arr is sorted in ascending order.\n",
        "-104 <= arr[i], x <= 104\n",
        "\"\"\""
      ],
      "metadata": {
        "id": "_1vbJ4DjVqvB"
      },
      "execution_count": null,
      "outputs": []
    },
    {
      "cell_type": "code",
      "source": [
        "# needs revision\n",
        "# code link: https://walkccc.me/LeetCode/problems/0658/\n",
        "\n",
        "\"\"\"\n",
        "Runtime: 394 ms, faster than 63.31% of Python online submissions for Find K Closest Elements.\n",
        "Memory Usage: 14.7 MB, less than 98.77% of Python online submissions for Find K Closest Elements.\n",
        "\"\"\"\n",
        "\n",
        "class Solution(object):\n",
        "    def findClosestElements(self, arr, k, x):\n",
        "        l = 0\n",
        "        r = len(arr) - k\n",
        "\n",
        "        while l < r:\n",
        "          m = (l + r) // 2\n",
        "          if x - arr[m] <= arr[m + k] - x:\n",
        "            r = m\n",
        "          else:\n",
        "            l = m + 1\n",
        "\n",
        "        return arr[l:l + k]\n",
        "        "
      ],
      "metadata": {
        "id": "zv6mIRHhVqpt"
      },
      "execution_count": null,
      "outputs": []
    },
    {
      "cell_type": "markdown",
      "source": [
        "##30-09-2022"
      ],
      "metadata": {
        "id": "sD_XfmPFmW3_"
      }
    },
    {
      "cell_type": "markdown",
      "source": [
        "####218. The Skyline Problem"
      ],
      "metadata": {
        "id": "UHAGCC-LmWop"
      }
    },
    {
      "cell_type": "code",
      "source": [
        "\"\"\"\n",
        "\n",
        "218. The Skyline Problem\n",
        "Hard\n",
        "4.9K\n",
        "232\n",
        "Companies\n",
        "A city's skyline is the outer contour of the silhouette formed by all the buildings in that city when viewed from a distance. Given the locations and heights of all the buildings, return the skyline formed by these buildings collectively.\n",
        "\n",
        "The geometric information of each building is given in the array buildings where buildings[i] = [lefti, righti, heighti]:\n",
        "\n",
        "lefti is the x coordinate of the left edge of the ith building.\n",
        "righti is the x coordinate of the right edge of the ith building.\n",
        "heighti is the height of the ith building.\n",
        "You may assume all buildings are perfect rectangles grounded on an absolutely flat surface at height 0.\n",
        "\n",
        "The skyline should be represented as a list of \"key points\" sorted by their x-coordinate in the form [[x1,y1],[x2,y2],...]. Each key point is the left endpoint of some horizontal segment in the skyline except the last point in the list, which always has a y-coordinate 0 and is used to mark the skyline's termination where the rightmost building ends. Any ground between the leftmost and rightmost buildings should be part of the skyline's contour.\n",
        "\n",
        "Note: There must be no consecutive horizontal lines of equal height in the output skyline. For instance, [...,[2 3],[4 5],[7 5],[11 5],[12 7],...] is not acceptable; the three lines of height 5 should be merged into one in the final output as such: [...,[2 3],[4 5],[12 7],...]\n",
        "\n",
        " \n",
        "\n",
        "Example 1:\n",
        "\n",
        "\n",
        "Input: buildings = [[2,9,10],[3,7,15],[5,12,12],[15,20,10],[19,24,8]]\n",
        "Output: [[2,10],[3,15],[7,12],[12,0],[15,10],[20,8],[24,0]]\n",
        "Explanation:\n",
        "Figure A shows the buildings of the input.\n",
        "Figure B shows the skyline formed by those buildings. The red points in figure B represent the key points in the output list.\n",
        "Example 2:\n",
        "\n",
        "Input: buildings = [[0,2,3],[2,5,3]]\n",
        "Output: [[0,3],[5,0]]\n",
        " \n",
        "\n",
        "Constraints:\n",
        "\n",
        "1 <= buildings.length <= 104\n",
        "0 <= lefti < righti <= 231 - 1\n",
        "1 <= heighti <= 231 - 1\n",
        "buildings is sorted by lefti in non-decreasing order.\n",
        "\"\"\""
      ],
      "metadata": {
        "id": "3isYc61LmXxw"
      },
      "execution_count": null,
      "outputs": []
    },
    {
      "cell_type": "code",
      "source": [
        "# needs revision\n",
        "# code link: https://walkccc.me/LeetCode/problems/0218/\n",
        "\n",
        "class Solution(object):\n",
        "  def getSkyline(self, buildings):\n",
        "    n = len(buildings)\n",
        "    if n == 0:\n",
        "      return []\n",
        "    if n == 1:\n",
        "      left, right, height = buildings[0]\n",
        "      return [[left, height], [right, 0]]\n",
        "\n",
        "    left = self.getSkyline(buildings[:n // 2])\n",
        "    right = self.getSkyline(buildings[n // 2:])\n",
        "    return self._merge(left, right)\n",
        "\n",
        "  def _merge(self, left, right):\n",
        "    ans = []\n",
        "    i = 0  # left's index\n",
        "    j = 0  # right's index\n",
        "    leftY = 0\n",
        "    rightY = 0\n",
        "\n",
        "    while i < len(left) and j < len(right):\n",
        "      # choose the powith smaller x\n",
        "      if left[i][0] < right[j][0]:\n",
        "        leftY = left[i][1]  # update the ongoing leftY\n",
        "        self._addPoint(ans, left[i][0], max(left[i][1], rightY))\n",
        "        i += 1\n",
        "      else:\n",
        "        rightY = right[j][1]  # update the ongoing rightY\n",
        "        self._addPoint(ans, right[j][0], max(right[j][1], leftY))\n",
        "        j += 1\n",
        "\n",
        "    while i < len(left):\n",
        "      self._addPoint(ans, left[i][0], left[i][1])\n",
        "      i += 1\n",
        "\n",
        "    while j < len(right):\n",
        "      self._addPoint(ans, right[j][0], right[j][1])\n",
        "      j += 1\n",
        "\n",
        "    return ans\n",
        "\n",
        "  def _addPoint(self, ans, x, y):\n",
        "    if ans and ans[-1][0] == x:\n",
        "      ans[-1][1] = y\n",
        "      return\n",
        "    if ans and ans[-1][1] == y:\n",
        "      return\n",
        "    ans.append([x, y])"
      ],
      "metadata": {
        "id": "5wEARBfumYPA"
      },
      "execution_count": null,
      "outputs": []
    },
    {
      "cell_type": "markdown",
      "source": [
        "##01-10-2022"
      ],
      "metadata": {
        "id": "7hjSTtTMtbR8"
      }
    },
    {
      "cell_type": "markdown",
      "source": [
        "####91. Decode Ways"
      ],
      "metadata": {
        "id": "a_KAjrTMtbK2"
      }
    },
    {
      "cell_type": "code",
      "source": [
        "\"\"\"\n",
        "91. Decode Ways\n",
        "Medium\n",
        "8.6K\n",
        "4.1K\n",
        "Companies\n",
        "A message containing letters from A-Z can be encoded into numbers using the following mapping:\n",
        "\n",
        "'A' -> \"1\"\n",
        "'B' -> \"2\"\n",
        "...\n",
        "'Z' -> \"26\"\n",
        "To decode an encoded message, all the digits must be grouped then mapped back into letters using the reverse of the mapping above (there may be multiple ways). For example, \"11106\" can be mapped into:\n",
        "\n",
        "\"AAJF\" with the grouping (1 1 10 6)\n",
        "\"KJF\" with the grouping (11 10 6)\n",
        "Note that the grouping (1 11 06) is invalid because \"06\" cannot be mapped into 'F' since \"6\" is different from \"06\".\n",
        "\n",
        "Given a string s containing only digits, return the number of ways to decode it.\n",
        "\n",
        "The test cases are generated so that the answer fits in a 32-bit integer.\n",
        "\n",
        " \n",
        "\n",
        "Example 1:\n",
        "\n",
        "Input: s = \"12\"\n",
        "Output: 2\n",
        "Explanation: \"12\" could be decoded as \"AB\" (1 2) or \"L\" (12).\n",
        "Example 2:\n",
        "\n",
        "Input: s = \"226\"\n",
        "Output: 3\n",
        "Explanation: \"226\" could be decoded as \"BZ\" (2 26), \"VF\" (22 6), or \"BBF\" (2 2 6).\n",
        "Example 3:\n",
        "\n",
        "Input: s = \"06\"\n",
        "Output: 0\n",
        "Explanation: \"06\" cannot be mapped to \"F\" because of the leading zero (\"6\" is different from \"06\").\n",
        " \n",
        "\n",
        "Constraints:\n",
        "\n",
        "1 <= s.length <= 100\n",
        "s contains only digits and may contain leading zero(s).\n",
        "\"\"\""
      ],
      "metadata": {
        "id": "S7uxH4S0tb1c"
      },
      "execution_count": null,
      "outputs": []
    },
    {
      "cell_type": "markdown",
      "source": [
        "![image.png](data:image/png;base64,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)"
      ],
      "metadata": {
        "id": "xyz2KOT8uHfv"
      }
    },
    {
      "cell_type": "code",
      "source": [
        "# needs revision\n",
        "# code link: https://zhenyu0519.github.io/2020/02/20/lc91/\n",
        "\n",
        "\n",
        "class Solution(object):\n",
        "    def numDecodings(self, s):\n",
        "        dp = [0] * (len(s) + 1)\n",
        "        dp[0] = 1\n",
        "        for i in range(1, len(dp)):\n",
        "            if int(s[i-1]) != 0:\n",
        "                dp[i] = dp[i-1]\n",
        "            if i != 1 and '09' < s[i-2:i] < '27':\n",
        "                dp[i] += dp[i-2]\n",
        "        return dp[-1]"
      ],
      "metadata": {
        "id": "3AQ3gYSItcR5"
      },
      "execution_count": null,
      "outputs": []
    },
    {
      "cell_type": "markdown",
      "source": [
        "##02-10-2022"
      ],
      "metadata": {
        "id": "kRBlvurcoji6"
      }
    },
    {
      "cell_type": "markdown",
      "source": [
        "####1155. Number of Dice Rolls With Target Sum"
      ],
      "metadata": {
        "id": "hN_-Gj9aojaB"
      }
    },
    {
      "cell_type": "code",
      "source": [
        "\"\"\"\n",
        "1155. Number of Dice Rolls With Target Sum\n",
        "Medium\n",
        "3.2K\n",
        "108\n",
        "Companies\n",
        "You have n dice and each die has k faces numbered from 1 to k.\n",
        "\n",
        "Given three integers n, k, and target, return the number of possible ways (out of the kn total ways) to roll the dice so the sum of the face-up numbers equals target. Since the answer may be too large, return it modulo 109 + 7.\n",
        "\n",
        " \n",
        "\n",
        "Example 1:\n",
        "\n",
        "Input: n = 1, k = 6, target = 3\n",
        "Output: 1\n",
        "Explanation: You throw one die with 6 faces.\n",
        "There is only one way to get a sum of 3.\n",
        "Example 2:\n",
        "\n",
        "Input: n = 2, k = 6, target = 7\n",
        "Output: 6\n",
        "Explanation: You throw two dice, each with 6 faces.\n",
        "There are 6 ways to get a sum of 7: 1+6, 2+5, 3+4, 4+3, 5+2, 6+1.\n",
        "Example 3:\n",
        "\n",
        "Input: n = 30, k = 30, target = 500\n",
        "Output: 222616187\n",
        "Explanation: The answer must be returned modulo 109 + 7.\n",
        " \n",
        "\n",
        "Constraints:\n",
        "\n",
        "1 <= n, k <= 30\n",
        "1 <= target <= 1000\n",
        "\"\"\""
      ],
      "metadata": {
        "id": "-jisgyZYoi9q"
      },
      "execution_count": null,
      "outputs": []
    },
    {
      "cell_type": "markdown",
      "source": [
        "![image.png](data:image/png;base64,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)"
      ],
      "metadata": {
        "id": "Y7A-zI7KpkjA"
      }
    },
    {
      "cell_type": "code",
      "source": [
        "# needs revision\n",
        "# code link:\n",
        "\n",
        "class Solution:\n",
        "    def numRollsToTarget(self, n: int, k: int, target: int) -> int:\n",
        "        kMod = 1_000_000_007\n",
        "        dp = [1] + [0] * target\n",
        "\n",
        "        for _ in range(n):\n",
        "            newDp = [0] * (target + 1)\n",
        "            for i in range(1, k + 1):  # Number 1, 2, ..., f\n",
        "                for t in range(i, target + 1):  # Possible targets\n",
        "                    newDp[t] += dp[t - i]\n",
        "                    newDp[t] %= kMod\n",
        "            dp = newDp\n",
        "\n",
        "        return dp[target]"
      ],
      "metadata": {
        "id": "tBBmi_PXoi2m"
      },
      "execution_count": null,
      "outputs": []
    },
    {
      "cell_type": "markdown",
      "source": [
        "##03-10-2022"
      ],
      "metadata": {
        "id": "YVWTf9qxzWMt"
      }
    },
    {
      "cell_type": "markdown",
      "source": [
        "####1578. Minimum Time to Make Rope Colorful"
      ],
      "metadata": {
        "id": "BIM1orUhzV4x"
      }
    },
    {
      "cell_type": "code",
      "source": [
        "\"\"\"\n",
        "1578. Minimum Time to Make Rope Colorful\n",
        "Medium\n",
        "2.3K\n",
        "65\n",
        "Companies\n",
        "Alice has n balloons arranged on a rope. You are given a 0-indexed string colors where colors[i] is the color of the ith balloon.\n",
        "\n",
        "Alice wants the rope to be colorful. She does not want two consecutive balloons to be of the same color, so she asks Bob for help. Bob can remove some balloons from the rope to make it colorful. You are given a 0-indexed integer array neededTime where neededTime[i] is the time (in seconds) that Bob needs to remove the ith balloon from the rope.\n",
        "\n",
        "Return the minimum time Bob needs to make the rope colorful.\n",
        "\n",
        " \n",
        "\n",
        "Example 1:\n",
        "\n",
        "\n",
        "Input: colors = \"abaac\", neededTime = [1,2,3,4,5]\n",
        "Output: 3\n",
        "Explanation: In the above image, 'a' is blue, 'b' is red, and 'c' is green.\n",
        "Bob can remove the blue balloon at index 2. This takes 3 seconds.\n",
        "There are no longer two consecutive balloons of the same color. Total time = 3.\n",
        "Example 2:\n",
        "\n",
        "\n",
        "Input: colors = \"abc\", neededTime = [1,2,3]\n",
        "Output: 0\n",
        "Explanation: The rope is already colorful. Bob does not need to remove any balloons from the rope.\n",
        "Example 3:\n",
        "\n",
        "\n",
        "Input: colors = \"aabaa\", neededTime = [1,2,3,4,1]\n",
        "Output: 2\n",
        "Explanation: Bob will remove the ballons at indices 0 and 4. Each ballon takes 1 second to remove.\n",
        "There are no longer two consecutive balloons of the same color. Total time = 1 + 1 = 2.\n",
        " \n",
        "\n",
        "Constraints:\n",
        "\n",
        "n == colors.length == neededTime.length\n",
        "1 <= n <= 105\n",
        "1 <= neededTime[i] <= 104\n",
        "colors contains only lowercase English letters.\n",
        "\"\"\""
      ],
      "metadata": {
        "id": "Tv-fbjukzWzy"
      },
      "execution_count": null,
      "outputs": []
    },
    {
      "cell_type": "code",
      "source": [
        "# wrong solution\n",
        "\n",
        "def minCost(colors, neededTime):\n",
        "    time = 0\n",
        "    newcolors = []\n",
        "    for color in colors:\n",
        "        newcolors.append(color)    \n",
        "    for i in range(1, len(colors)):\n",
        "      if newcolors[i] == newcolors[i-1]:\n",
        "        if neededTime[i-1] <= neededTime[i]:\n",
        "          newcolors[i-1] = '*'\n",
        "          time += neededTime[i-1]\n",
        "        else:\n",
        "          newcolors[i] = '*'\n",
        "          time += neededTime[i]          \n",
        "    return time\n",
        "\n",
        "colors = \"abaac\"\n",
        "neededTime = [1,2,3,4,5]\n",
        "\n",
        "minCost(colors, neededTime)"
      ],
      "metadata": {
        "colab": {
          "base_uri": "https://localhost:8080/"
        },
        "id": "zoZcVqql0NbA",
        "outputId": "fc937743-bb92-4669-8958-8407ae53acf9"
      },
      "execution_count": null,
      "outputs": [
        {
          "output_type": "execute_result",
          "data": {
            "text/plain": [
              "3"
            ]
          },
          "metadata": {},
          "execution_count": 8
        }
      ]
    },
    {
      "cell_type": "code",
      "source": [
        "# wrong solution\n",
        "\n",
        "def minCost(colors, neededTime):\n",
        "    time = 0\n",
        "    newcolors = []\n",
        "    for color in colors:\n",
        "        newcolors.append(color)    \n",
        "    for i in range(1, len(colors)):\n",
        "      if newcolors[i] == newcolors[i-1]:\n",
        "        if neededTime[i-1] <= neededTime[i]:\n",
        "          newcolors[i-1] = '*'\n",
        "          time += neededTime[i-1]\n",
        "        else:\n",
        "          newcolors[i] = '*'\n",
        "          time += neededTime[i]          \n",
        "    return time\n",
        "\n",
        "colors = \"aaabbbabbbb\"\n",
        "neededTime = [3,5,10,7,5,3,5,5,4,8,1]\n",
        "# ans should be 26\n",
        "\n",
        "minCost(colors, neededTime)"
      ],
      "metadata": {
        "colab": {
          "base_uri": "https://localhost:8080/"
        },
        "id": "N_0_vn6_41SI",
        "outputId": "64b2b6ab-23a9-49ef-b441-d3479c6cf510"
      },
      "execution_count": null,
      "outputs": [
        {
          "output_type": "execute_result",
          "data": {
            "text/plain": [
              "18"
            ]
          },
          "metadata": {},
          "execution_count": 9
        }
      ]
    },
    {
      "cell_type": "markdown",
      "source": [
        "![image.png](data:image/png;base64,iVBORw0KGgoAAAANSUhEUgAAAk0AAACxCAYAAADZNYkTAAAAAXNSR0IArs4c6QAAAARnQU1BAACxjwv8YQUAAAAJcEhZcwAADsMAAA7DAcdvqGQAAEcuSURBVHhe7d0JYBT12T/w796b3U1CbiCBQDiDHEERIiJKFS0Fj4r6aqStUf9ArYVay+Gr2AOpArYW374t+NpG+9rg69na8FpFi0ZFwgsSEY1yExIg5CL33vv/PTOzyWazm2ySDbmeD47ZOXeunXnmd41q4sSJHjDGGGOMsVY8ntYhklr5yxhjjDHGBAqW/AMmwkETY4wxxlgIOGhijDHGGAsBB02MMcYYYyHgoIkxxhhjLAQcNDHGGGOMhYCDJsYYY4yxEHDQxBhjjDEWAg6aGGOMMcZCwEETY4wxxlgIOGhijDHGGAtBj7x7TqUS/3M5ofU4oBafDSYzRk+9FMnpUzDF+AUiKz7He2fHo7RGjZNHDsNht8kzMsYYYwqVuJlERETAYDBAq9VK/f0RvY7D6XTCZrOhqakp4Os5uk2rgirVDFViBBCpAzTKcBacUxyHOic858UxKW6Q+xXBjlFYg6b4GD3iLB5883UJGhudqG20Sid6ZIQeHvHPqdHhJ98dgcUzorGvJhZnhmbBaXXh+OEiHNj9IarKzilLYowxNphRoBQZGQm1emBliLjdbtTV1UkBVLiokoxQXTJE7DTOPOoU38DI5obnqxp4yqxSb7CgSRMfH/8L5XO3TL1iKmyVJag4dwEV1VZcqLPD4YLoPKhvckIlTnyXGPDegfNSADVrogVV5ilwuXVISRuHSZmz4RZPEWePH1WWyBhjbDCigCk6Orrfpiy1h7bJaDRKKU8ul7hJdpMUMF0aK6U0sW6glLphEVLKExpEF0S3w9KouHjMy7oHSRNnoKzCivLKRimVKUanwtgYPZKMGqSYNdA4PbDaxQxuFV7813mU17lg8NRBLVZUrVFDpdVg6lXzcNu9SxEXHy0vnDHG2KBCQQWlMA10tI3dDgrpRk8pTCxsVJNE/KEJfly6FTQlpYzE1Xd+D3EpKbDW1qK+qg4RHicevCYFL664Es//+Gr8ZeUc/NcDV+A3d0/G9y6LRYpFg9p6Jx5//ivU2XVwi2AJlPwqTh61WoWkEcn4/p2ZmDjCqHxLOK1HXlERCl7IVvo7ko2cgiIU7Viv9LfjBzkoEMvO20A9IX5Pq3m6Z/GG7ch7YR3mKv29IfuFAhQV5Ymt74fCeCwYY11HZZgGWpZcILSNtK3dQWWYOEsuzMT+VKWalJ62ury34xKTcP2/LUGE2QKNRhx8DRV0c+PeeWNxx9w0jEkbgeHJw5CcFIeh0SakJ8fg29NTseSKkYg36XCsuB5VjU64KZVJdGoRNFHUrVG7kRjtwprbh2NYnE75ts5ajG0fiWBH3ATfWKsM6u825Enb09wdKkDexiykKKPHjE/HmIxJyFT6QyUHOmJ5+7djuTKs2ezN2Cl9XwFyfqAMY4yxHkRZc4NFd7dVKvTNwq69/drloOnbt/4bTOYoaLRa0anFZxMiTXqkxJlEvx4uWyNs9bVwOZ1wutwioHJBq1EhyqhFvEUrB0lGEc2pRWAkIm6VR/xRUfAknjT0bhiNGnz/20nKt3XSD2/DrPgKVJwD0meuaw4s+r9aFP5pFVat2YK8UwaMuWk1Nv9QHrPp9gykZ9yFTXJv55kycP2jrffU4h9kIqX7We6MMRYyqjw0WHR7W6mWHAu/dvZrl4KmedfOQ/KIVClYovJIGrU48HozmhweON1qHDhdg09O2VCrT4LeEo96lQW7TjThzS+rUNbkQXyUEZbIOBgo35pSmiiAEgEVpcg6xf/cDjvsdVVIiXZi9jWdz3BaeXU6DMV78Lv9JSJqmouVs5URXtpJ2PZeoZLCshPb7msJFuY++gYKDsmpOYXv3egTcLXNqgs1Oypz7XZ8RPNKqTZFKHi1dTaaIf5Z5O1Xxn+Ug+yRyogArOV5yHtrK1a9ckCEUAZEDpOHr98h5i0Q84rP8nrtRM4fdqJQ2pZC7PxDdjvBYwlKSsWumr3MZ5rluG1GPCqqK5R+WcrCddi+S9l3tC3v5WD1PGWkxIDEZ/KU7y3CR3/yfm82Nu8oaB7uu9/brO+hQuRtWITsAOvfmWlJ+g+3Yad334rvzPmZd8/PxbpXlVQ2sYydN7dsOWODncViwbhx45Q+YNiwYVI/dTNmzFCG9oxul/PpR7q9rdysQM9oZ792OmgaFqfHFVdmQqPRSGWQNBqtiJZ1UhBkFEGQwRSBpqp6nD58Es//+VUc+PIoXnl/Pw5+WQyzzYomqwMJCdFIu2Q8IiIsEKGSlLerEsui84dSoIqrY3DgmANf1YzG9DnfQmxSJ1KcRq7D1ZMNKPnidbz+bD6KXCnIuLV1plVURiaidm3Cqg25KLSlYO6Pn8VqGnHrNmxYIgKu0p3YsmYVthZFIiFKmqVb0mKsOPDyeix7YBm27q9F1OQs/MQn2zBlVhqKnlmFLe+JIC8+E/euXaSMCWLkIqxeNAlRtiLkP68MayMFk2Lzsenft2BnqQEp87Kw2j94bGZDUaH47rTMlgBzxdVIN5Vgz74aZYAwcjWe3ZCFDEMRcjeswqpndqJWrG/2r7ZhsTIJfe+s8UXK94rNmX0v1t1EwxNgqH4XW3+2DMsez0OJQez3e9ahZUuV9X0qF0UNBoy5dTNWjinCVp/1bwl+Q5xWHM/nVsxF1JFcPHbPKuQcj0LmfeuwWYxb/IcNyKLz5L0tWPXvW1FkTkAYDjVj/dr06dNx77334o477sBVV10lBUtkwYIFUj91U6dOxSWXXCINZ/3f8IgE5RMLRaeDpqumUa0GtxQwqbUaaESnEgHUEJMRV08aiqgIHc5faEBZowozJozAjJQoTEyMwqz0UWhwqmESAVZqnBlTHGegrqgQAZcaGhEoURCm0xqg1UXDPXQ2qkfcDvfwOVAbDZhy5ZXyl4cgZdkspEMEE8/uAYpzcOCwGDYr2+fmLEKEQ6/hLhEw5b20Hqs+EsGCIRnpPwCyFmYgHiXI/+UKbH0rD1t/nIsDtcpM3ZC7JhsrnslF/q58bNn5FWiRep/KISW7nsCql+j79uCY6Nebgp3E4qa/tghF72xGdrode176M3KLlVFtiO1YvR65b23FigJaahQi0+UxgdQoAWbmDyj8ScG6azJgKBLr2yiPl9w/F+kGGwpfvgvrxfrmPbcCW3ZXiMhoEq6XAiMivlcEVC3fq4de2pxNWLFkHbb+Mx/5r67CnlM0Si9CKS9lfcUx+UcR7aFaHMil47AVmyjFUKx/fPODb2jTysfzGN4V075ekIdNebTvU5D+7SwsyogHSvOx7sdbpZS7FVLKHWODE6UsUWBEQdORI0fw0Ucf4c9//jPOnj0rjX/llVdw8uRJ6TOx26kq9OCSNv9e/OhH38OcONEzZykee3IjVrY8LfZLkToTbh42R/rb02bGTsKy0TfjmoRLlSGhSzLG4iaxnlfFT1OG9J5OBU16LZA61ASnRy21tSSiJan9JZVaA5PbgdsvG4WUpFjceMUYPHjDRNxw2WgYNMDIWAsyR5rx4Px0fPeK8RidGINYswZaWxN0GmrlVQ21m5IqPXCLzx69CdEjJ0EXPRQOlQ7jZmRCbwwl7zYTK2eMATTpyHqHsmR2IosCBXFTv/FWeQpis7bcHkucLQ2MpVOyUm0JDuxWBoRJ+pLN2P5eAQr3F6JobWabFA1bowjwfEQlpCmf/HnLNK3H1k+smH6fWO4fgv1qbbC2CqiiEHSxpHg93i20IT5jEbJnr8Rcsd+K9q4X4UmL7JEU4pSj5G9yP8mrppQoERjFyP30vTWt9p/yvZQ6ti0PHxUUorCwCLe1WRf/9RXf86L8yfcYyUKbNn0o7ekxuE06F0Tn3ffi/EgQ61tbcgDNez54sxyMDXjeVKW3335bCpgocPJFwdSoUaNaBU59wuKHsUEEL83dExvw2NqVuOOK4coEHfjWvVj7+DrcO0fpb0dkUjKGD0vGyHaKTwwGlDJ1a/LVWCoCoB+mfRfL027Bd4ZeoYwNj0ui0vD91AW4OmG61G/SGBFniEaCofebV+hU0JQyIhmNsfPh1kbAIe4yIsQRnUoKnBpMkXDr9XA7HUhNTkFcbAwqaupQ3qRFaY0H9VYX4mOipULiTpdHCrxUCUmwud1iKeKfRyzN7YFLDsfg0mrg1KjgoWw7sfyxk0fIK9Gem7JFcAYce4MCC2/3Go654jHr1jZ1wySZJqX2ggs4XiWCqagUTGrvR6E1wlv6JSEqhAyd2Zvx7KOLkFadh02PLsf8p/Z0K0VDLtOUiy3L5FSw+NQMZUz3bX2jABVR07FYBBcpjYV49yllhCKnuFz8PwEpt8j9ZJE4phTM1bW+xrax/NdPIPtKAw786TGsWJKO144rI3rQ8XKxg1xFyL0hHenpLd2iR4+DRkUNm9R8LDF4yp4y1gqVU/IGTN6UJV8UUNE0FEjt3btXGdqXWFGc/zJeeetf2PfVKdTph2PaTT/CysUTlfHtiIlBZERoP/7PX1qPRx97CrkHlAGDkE6txezYyUjQD0FxUxnyKwpxtL4UdrdDmSI8zOI+G6HWU3Qh9Z9oOIOckzvwRumHUn9v6lTQNHryDOjjUuEWQYxLShXySIW3pcJIEWbYR1+J4spalJ0/ixOnTkJjGoI9h0uRf+Q89p9pQkWdFSUVdaiqbUTC5VfBbTRKszqpuXKxHLVUhU4ug0W7Stph4j+1+Jc6ruMnh8ULJ0nZMQe2UWDh7bbhwCnAkH51c5X6qIwsPLt0ERYtfRbr54nbpjjweS+JoOBQKWziNjr/j5ux/KYsrHv5XmQ2x0U7xbqLPyPnYv1Di5D16HbcOF4e0660eDl1w1aLWn0ashdMapPS1BnGBLHeYt1WbsvCdLGgilOFypgweOMf+KrCgDHj4lGx7zVsVQY3ez4fRTYDMu7cjnVL5P23cnY8bEf2ILeD1LnkKDk4tTWK/T/7WWQmS709KmfXV6jViCDp93Q8xfouWYltLzyLLOSgqNgmjuV8bN24XAxfh+33tE0BZGwwoFQkCpY6CpgoBaq+vl7KtvNPieptjroD+PzTd/Bm7nPY8p87cKxBi8Qp1+IaaexwXHPPWvziCTk16herl2IB5UBQKtWMRPHBiDELxbjHl2IO5uKOh37ZPO2GX6zF9+fGSkuZc/8vxbCH8V2pz9dE3LhsXcs8j/8IC5QxA02iIQYmEdDUOhvx/vl9+LL2BN47/3+i2yeNp2y0W4bPlbLhKBXq3lGLcGXcVGmcL/+suuSIBCll6c4R10njpkePk2rTp0em4v7RN0opTvT3xmFykqD/92SnLsSVsfL3zIyZhKWjbsItw66Shi8ffQvuTLkOI01drI3vp1NBU7x4GnFRihB1KhHaiIiHUpooxcnlceF83DhUR6SgqtGG840O7Pv6HIaqzLhpbDLKKutQdL4GFQ021GvMMF8yR5oXHrf4vxUmdy0iUQWNyyYFT2oKpGj54g+9AyYpueNkOarthdLj2NEq66YEOw6XKFXqzdKQ2iMlSFu2GZsfmo+UxiLkPr4Mr9OIp1dgyy4xbeoirNy4Dtc7D0AqMiMpwbo/5eFYYxQyl27Gum9bceBQCGlGL+UgT0wXddlybP71SkyvKe1GSlMUMu4T6y3WbfmVUSgvyMGjD0hrHiZ5yCmgDLkS7HkxwHKLN2HFU2IfIF0EjfL+iyrOw6YH17VkcwWx7e/5KLGlYJGY74k7DCgpU0b0pBfXYf32IilrcOVGsb5rs5FhLAElcm16eAvyS4ExN60Uw68HCou4TBMblKg8EwVD/rw15rwBk5e3cHifVZmPD45XiyflRKRdAVz2/fswf0IEzha8hj+9nI9y4xjMWXgX0vbswCtfiOm8KVVv/gtfiruQtvELfPA/OXjxjUJUaWMwYc4taK8kTczihcgcZUT5/tfw4l9ewz6xyJ5omjkc5iVc1qqbMUQu6Ep/fYdfHpMesJxTaVM5quy1iNZZRNByFUabWxIzKBXqqrhpUmD1TX2xlArVJO7nk6JGYfqQUFIYZEfqS/BV3SkRZ7hF8FuKD8oPoFp8p1ew70mPShXBVsv3ROrMKLxwBMWNZdL6TrCkKmMUFFwE0c6ozr2w9/61j8BsNEgFvykVyU4vHnQ64VGroVU7EWW0wHXiKww5+D8wisBnqCkSJlskalwaFFWKm7FRhSNltXClpGPiomw4jVoRM7kRr3LCJAIvp8uOJvE9HrcHVrdLdGbYPU64xD8zDuA/1r4srwhjjLFuo4CJasoFKsdE4+hVH/4pUFS7LlhWXjgkJlLqT4ik1KIoHNvxc/z5Y2UYaR7+DnDNzRjT8H94+pnXQCESpRgtGFOLfY/8Bm8Gm1/x3Yc2YkbkMbz9q+fEDdBnPioIvnAM6vatwT90a3HfNPHI/+U7ePPtfByvVGYO0fnz55VPnadeEGLZLQUFQxZtSzAUJQKj4cZ4nLFWoNbhW+sH2FW+X/nUmlkbgdlxkzHaNFyq7X7eVo1PKr9AlNaMufHTUOWow5tKNhoFSzNiJqKk6TwqReBDKUjf1J9Go8va/PmD8s+klKZrE2dI2Xwvn36vObXJO3585Ehp2WXWanwtAqo23yOCpctiJkhBHX1PRvRYHBUB17/ENtC8V8VNRbmtBm+dbQn+Owqa3P88o/S11qmUJr2Z2lWi/DINqPC2yiPnOFJKE5VuclHCUeIofFWtQVmdHU6DGsXqepxyVMIYpUNxVQNOVDaI+Q1wWq3QihWLqq1EVF0DDNBAXWMTEboORhFJRqhdUttNKpUIpkTQpLF0alUZY4x1gFKYqKMAyR8N9w+MKOWJ0Fv6+7JpZgoMmmA9NxyRlMGQeDl+phQWXzCmnXSguOlYcM/DWPv4BvziVyJgCiF+O/7y37CnxInYSxbivoc24OHvz0VzvZg+5v+qi6RgyNtRUEHor+9w6oJpcDZhZ9n/Ie/cbpxpqpBSfCjlJ04fDa1KgxpHS6plgwiOqJSyVhW+QqMx+si23+Nu+z2UI+YrQqNXPnVPJyMRlQiMNPCIoEYqbCRWklDxbQqa3DTIaEbEvHtw6IIKHx8+h2OV1TheUYX8w2XYX3wBtohExF9yFXL/9Fvoq8tgMhhg06jFgRAbrfEgwiGCM7sbuguNiDn6JeKsVTC4asW3Db4qrowx1tMoAPIGQx0ZO3as9DdQdl6fEXcDMtNEEFh5CnuOnkcdZV+c+RRPP7IGjzZ3v8Gb8tStXHPbbZgzVjzg57+G3G1rsC+kRKCv8Y///Dke/f1r2HNWBE/p1+K74a1M1iedaSrHW2c/xnnbBUTrzNCpNXB6XFJWmJdZYxT3bhWs7sD3b0qpIkYR0FAgFIpqe13b71G3/z3h1KmgqampHmoXpVu5pdeeUJDkFsOlskmCSgxwaVQwJKcgafIsfHSkGnn7S7D7SDmKSmqgGzEFM+9+GBca7Thz9AR2vPEKHE4HzpQdxfnTX+BszSHYm2pRWXMSWocLFBdGnCyD2V0Dd0PffrJhjLH+qLCwUEppokLf7aGyTNQdOND3qo/pIqdj2hU34LtZP8LDK7+Fkerz2LdjO44jH4fPWIHh0/H927+FadOnI/OGe3FvltJSrpXaGjEiZtRsXJIWixijnFJBLZdEjPse0kJIMppzz8NYduPlSDPUiQBtYLddQtlotyXPw/VJM3FJ1Gh8K/EyxOojpWDlWMMZ1DgaQDXrrkmYLo2fGJkKl8eN042tC7HSdE4xPEUsb2r0WEyJGgM9vVJN4XA7pYSYWH0UUk1DlaGyk41n23zPhMiR8vc09Xxh2U4FTTVVVXKAJAImahqAinBLTQ6IlaVMQEoOo6DKI/ovm3kF5o4ZglGRahiNkZhwfRYuv3UZoNHiwIdvYWhsJGrKTuEf//MiKs6WI0IdK4IuNdxnTqLuQjHOWE/iFEphHTkMKocaZUd7vvEtxhgbbCgLjgIhCoioJl0glBJFjV96p+1bjBg5907ccdO3MGNiInRlhfjHtt/gzSJ57MdvUvYZEDPtBtxxx5248cpU6GqUJKQ9B3BMPI/HXnIzsrJuQ92Bb1DljMG0m+7Ed2fqUB1C7ZC6BiBh1m247/9lY36aFue/eB9vfqqM7Cfq/MozBeMNZkaZhmFufAbGW0ZIuUSU7UcpT7urDkkFxSlYovEUCO2v/loqh+TrG9Ff3HRO3PcNUvkoep0MFeb2Otl4Dhcc9UgyxOC6xBkYapBrMBJah0Df81n1N22+pyd0qiD4nJtvwZRLL4Vaq4cmIlKsvAuN9EJejwMajRpmgwlat0YE741YNGkcKr7Zg+qDnyLtO/ehSgT752ut2Jn3Cr4u/AgRej0a6xuk5gvgUUFv0GHE2NG4dMZk1FWfRrQ2CY3uOkQPGwf92Toceycfr5acUNaEMcZYuFBKEwVGFDR5yzKdO3eueTj9pWHeZgd6UqcKgg8AF7MgeCBUSy7UoGlA6WJBcE18fPwvlM8d0hr0GDVxIjxUEFynh1NEfBQ4UctKlDepValRX10BY10tig4ewYuvHwOiJ6G+wYZRoxKhctThnb9th9VmRW1tIxxOl/waFhG5ulxuXKisxtEjJait90ALE9Q6DyIssTDHxeJfhw+houKCvCKMMcbChl6LQkES1aAbOnQoUlNTpY5qz5Evv/xSCpguxutTzGa5aZjBoqGhQfnUeapxPu/j6qJwN0w5UHiOBi4S1KmUJp3BgLtXrYZGb4TeEg270wab0yFCHi3gsKP8mwM4/c0RzJw+Ax9+uA8RMdfB6GlEdXUxbrv1EpSfOYYPP3hXBEhO1DTYEaGnV6h44KYyUuKfiJsED6LoR6NWo8Fqx1XzroLFbMdf//sDOBwUoHVg5hKsvHZUczsZ1lPvYUtuR60I+cvEnQ9dh1RpIRU4+ORWvO27XOtJ7HrmJQRrG3dm1s8wT54ZlQefwPM7aKDP/JWF2PhcnvgQ4HvEp4Dz+wg0fsHSxzCV3onkM6xF4O8hLfO1Hs4YG9wodak3CnwnJCRI2TWDAbVBWF5Ob1roGvX1w+XWoFnntZfS5ATcO8OQ0uR2uWCMikbc8GSo9QapXSWXy4bqkmIcL/gUZSdOQuX24Ng3h/HLf1+JY8crYWuowU9WXIdhCWa8sv2/oRFBUlVNA5xiOqNeDS21+UTNGAgatUp08mtU6hussDscKDt3Rjzd2FBcTC1sdEAKTCw4/ORv8cLH+fhEdLFX3INrhubjs0AN2NL0C0eiYP9hZYBi4SJc69yN3/wxF46R1yBjihsF//xfFCjLdKRdj6kjdwdepghQrprSiG1/fF5MG4VLF82Eds9BTF14PZyfPoVt/2PHiLmXYrJ7Nw4lX4PJ1t9j25/FcqNnYOHlWhR8kRJw/lJl6cGW/+F+ed0CzjMz0PeUSMFXhv0DaTs/+XgfjiqTM8ZYb72U1yAezukF7oOB0+mE1WpV+jpPlSiehI0cNYVdjQOeksBZlp1u/KioYI9USt0lAiiHOOBlRV/jm48+RH3FeTisjdITwuzLp4knFBeiTdFIGzMcqcNisfOd/4VNBD82h1ucJHZEm/VSlp5arRaBkkb8pTaZxPEXPxhqA0qv04pOj8oLjfjqy9AaUVuQMRRl77dOLXn7uUJg/BLMFJ8pSFjzyGNSd78IjO6nlJ+4DNG/vFWz9wuSLSg7KqdO7c39Gg1JY6X5veIsIqgL+nCwBy/nUiqSr0VINp/DcSlpSow/XI+ksZli4S/hZb9UpMDz++pg/MwhMDdckFLBpO1duijI92QizVIvtu06eZ88JO8jxhjrTTab/wu6B67ubqvnPLWnwMLNUx58v3Y6aKopL8ehTz6WkhWLD+zDSdHZG+vgdFihEUGOw2HHpGkZOFfulFKQrLYm1NZdQFHRl9Dpdai6UIfEhBjo9XoYjEYpcNKIwInSmnQGPewuoLK6Fucra9AonnRsVifq6kI9sepREyzPbOFyzLN8jY1PPiF1z+/Iw/Pvn4SVsspCzJairCwKMJJLn8bLIby3csHSiaj/JHg2XgsRwI2vx6d+2Ygdzd9qPKWaUfBzJfCplPVHAd/TSjagl+/3xMMior/6T+T9cbBhFKYulKdijLHe0tTUJBXZGOhoG2lbu8NzqkFEXgN/X11UYn9K+zWITgdN5MDOd3HmxBGUfvUF6irPiaPvFEGUS3pXjMrlxOjUEaipbkRkhAnjU+Ox/7P9aKivhd3uRNwQC/RaFXQatdS4uFarlrLjKMXJ2uRAXU0djEY9EuIioVOLCdydWUULooMkl0yItqCytL0UnI69/ZwcYJQmP4aVWZnK0EBEcBJqcCWCuTWPpKC0VRmpjuYPMH7vS9hCAeEnwBV+KWeSNt9TgXprS5D5dmkFzNHtbRNjjPU8eiDv6y2OhwNtI21rtzg98HzJFaTCyfNVjbRfg+lS0EQ+efVl1FeVw+WwS2WRXE6nWJgLsdFmRBgNsNk8aGpsQEKCCe+IIMul1qChyQq1TgRMBr2Ubw2VCJjodSwigLI7RHSnUiEmbohUe8Jqc6KuvnMNhb1deA5J1/oGDFQAOgM4/BL+u6YeccmLlOHtq6yHnH1GFqbAXHa0VWoPBRjB0XeK4ERKzVIGUYCCoUhTArrm7D9KHUou8UvpCjS/rw7G7z2KMv8s8oDfswc1DfFIVlKXFiTHo6GmswXmGWMs/CjbqqamZkCmONE20baFKxvSIy74ns+qOMWpuyiF6UC1tD/b06nac/50OjVihhhhMEVKETMFQmNHpuKBHz2I5/5rLyLNQxAVfRbv73oddmsT1CoPTBFGMS09TbhhtzvgEQGX0wXUXKiD2WKGw26TmiIQ8RUcIpDqNEpRmRqv9LSuSda2hpm3Vpl/zTHvcPHRW1POd7nNtefEdEvH4vhzPqlEUmH0ltp7YmKcev9pvIyW4d4afb614CS0XEopCjS/9wsCLv9j4Epv7biWbZaWb/kau+ontv0eaf0pxSoD0i5prtHHGGN9A5WRjYiIkO4tWi3VtpYrDfU3dH+kQt8UKFGWXLdTmALRqqBKNUOVGEGNL3Gtuo7QMaAK+XVOqWyYp7ihOYWpvePTraCJUPZaTKwFRqNBOrlHDR+O79yyBH977RskxMfi5Om3cb78GBpraxEXHw2X0w2XiLStjTYRLLmg0WlFkORGfX0j1B4X9BEmKYXJRa9r6etEAHP/2KN4vtNNGjDGGGOsL2ovaOpy9pyXUwQ85edrUVNTLz5bpaTHs2cqxbdSgT4bys4Xw+VwICrKDI/ThYZGuWFLtU4npShROacGEUBZpay7CFyocfSPgInsfYkDJsYYY2yQ6HbQ5FVb04TTxZUoLjmLqqpqKQmyqvIInI56Ma4OHhFMNdgcsIqOWv+2ioBKq9fLqU700kS1EfUNA/tlh4wxxhjrv7qdPReIVqtDTPQoeFALp+sC4LBJKU2UstTQZBeBErUCDvFXJZVb6onsXcYYY4yxzurRMk2MMcYYYwNFj5ZpYowxxhgbDDhoYowxxhgLAQdNjDHGGGMh4KCJMcYYYywEHDQxxhhjjIWAgybGGGOMsRBw0MQYY4wxFgIOmhhjjDHGQsBBE2OMMcZYCDhoYowxxhgLAQdNjDHGGGMh4KCJMcYYYywEHDQxxhhjjIVANXHixOCv8w2VSgO3PgpunQkejVGEYhoaKI/rdWLz3C6oXFaoHY1Q22vFIJcyjjHGGGOshccTPCzqdtDkioiH2xgrPvWVIKkjHqitVdA0VSj9jDHGGGOy9oKmLmfPeTR6OCNTRcAUJ/r6S8BEVNI607rTNjDGGGOMhaJLQZMUMFlGwKM1KkP6H1p3aRs4cGKMMcZYCLoUNLlMw8ScWqWvHxPbIG0LY4wxxlgHOh00URmm/pzC5I+2hbaJMcYYY6w9nQuaqJacVOh7YJG2SWwbY4wxxlgwnQqaqFmB0At9P4j6hX/DWaU7f902NCVdpowL5HY0XZMDa7TcZ5/1N1RfcrPc0+NUyrYxxhhjjAXWuaBJZ1I+haoEcTtuwbB3fo8h1TG4kHE3HMqYtpLgMuupVaVe0fltY4wxxthg0ql2mhzRY6TC06GhlKaJ0O94EFL9tJG/x9kpMYg+bUfNsGrEv/NT6MRg94QclA11wWKJRz1NJxhP5sBsyUaD6jg0ljQ0GADT8RxEF/1djL0MzkuWojY1CTYVoK/9BtF710BruxlN38qGo+Y4XElpsMKOyEMbYSneLy+0I24ndDXHlB7GGGOMDUbha6dJaum7C7TXwT4sEbCVwFD0BSyaFDikstdz4UiKgfnsXxC54z1EogFDPr4FMV9ScARYTQ6YP7gFw/YfhzPtO7CLIMkzeikqUwDLrmUY9s5fYdJMQOWlP21OoXJoSxD99jIkHa5Gw9ib4VaGd6ir28YYY4yxQaHTtec6JwWVVKbphgdxIbIasft+C43jPRiq9bAl3QzoroDNUgbjiXxl+taMZbuhcYoP547DAAtcUSIoSkyC+8IX0DeVAc5XYSwugzsqBTQZMZz9LdSeMqjLy6CPiG0ezhhjjDHWHZ0LmtydfWebUqZJdInvLYPhggh0cBD60hLY46bCPSINTdXfQBe8oFOHVOF6jVynt40xxhhjg0mngiZ66W1YnD4IS0Qa6lOSYC79q099PB08xiTlc2Da6mqoh0yBPUJMp70dTaOToC//Qiof1R1h2zbGGGOMDUidCprUjkblUzd5nhOBTgwaIo7DcJpSn0g+DOJj3YxtuJD+HWVYW+rDv0fseQtq5m3D2RvuRpNtP4YcyFHGdl3Yto0xxhhjA1Knas9RA5COIWPog9zfVZRCNOduNNT9L+L3P6cM7E0e6C4cE384i44xxhgbzMJXe04EFWprldLTRdT0wA13o9H1DYYc6gsBk9gJtE0cMDHGGGOsHZ1LaVI4I1MHzPvnVE4rtHWnlD7GGGOMDWbhS2lSaBrPSo1B9ntiG6RtYYwxxhjrQJeCJpXLDm39aSmVpr+SUphoG8S2MMYYY4x1pEtBE5ECp7pTUFsrRV+nc/h6kUdaZ1p3DpgYY4wxFqoulWlqQ6WBWx8lvfTWozGKUIxeSdLNGnZhIzbP7ZLaYaJmBdT2Wi70zRhjjLGA2ivTFJ6giTHGGGNsAAh7QXDGGGOMscGGgybGGGOMsRBw0MQYY4wxFgIOmhhjjDHGQsBBE2OMMcZYCDhoYowxxhgLAQdNjDHGGGMh4KCJMcYYYywEHDQxxhhjjIWAgybGGGOMsRBw0MQYY4wxFgIOmhhjjDHGQsBBE2OMMcZYCDhoYowxxhgLAQdNjDHGGGMh4KCJMcYYYywEHDQxxhhjjIWAgybGGGOMsRBw0MQYY4wxFgIOmhhjjDHGQsBBE2OMMcZYCAZk0OS0pMAWNxluwxBlCGPh5zIlwhY/TfxNUoYwxhgbyAZc0OS0jIDTPBwerQn2IePh1pmVMYyFj8sYD0fkKHg0BvE3Fa6IBGUMY4yxgWrgBU2moconmSsiUfnEWPhQKpMvPs8YY73BrInCePMMTBCdWcO5Kz1t4GXPqVTKB4XHpXxgLHzcOovyScYpmoyxi00l/qVGXAKtSgeN6FIj0qFWaZSxrCdwQXDGukBtr1U+ydT2OuUTY4yFT4QmUuoCCTQ8Qt36gY6FFwdNjDHGWB8Ur0/G6IjJUkefWe8beEETZ8cF5VHr4IwcCbc+8FMLY4yxvkGvjkCifqTSB+kzDWO9i1OaBgkKmOyxk6SC8vaYdLiMscoYxhhjfY1OpVc+tdCpdMon1ls4aBokXOZhUvV4L6eZk3oZGyyocPAwQxqGGkZDxZd9xrqMfz2DhMevRoVHy8m8jA0WI4wTEKNLQqxuKEZETFCGMsY6i4MmxhgbwMyaaKnzsmiGwKSJUvoYY53BQdMgpXLblU+MMcYYCwUHTX1Ee+/Jk2u7+TXaGWYerbFVmSfGGAtEpzZArzYqfYwNLhw09TaVGvaYidJ78uivf4vmjqjRUm03a9LlcGtNytDwcpmGwhY3VX75bES8MpQxxlobokvEONOlGGuaLpWPYmyw4aCplzksI+DWy+UL6C+9cNiLXgLr+yJYpwigwo1SmByRLW2BOKLS4FFrlT7GGJNpVXoMN4xR+iDVxOMUp+CitHGI1MYofWyg4KCpl7mNcconmcun37+GW0+838yjaXvR42w6xpg/vbrtdUGn4qApkKGGUUgxjscI40Qk6lsehFn/x0FTL1M5m5RPMv9+xhhj/Qe9Dy5WN0zpo1ehpHBL3gMIB039icetfGCMMUbUKrXUcOewbjbcqRL/KMuRlkWNgXaVRtW2eIOmG8tjfQsHTYwxxvotygKjhjtjdEMxshsNd46ImCgVbqdljRTLZCyQPhE0OS0psCbOgNM8XBnCOkLlnahWnS1uco+UdfKiguG2hOlwGblWXU+iCgDyb6AlWb89VBbNHjNBHP8p4vi3fgGzIzIVtsTL4DIlKUNkVKmAjiXVyGRsIPBvuNMcpOFOo9qEURGXIM00TXxue700aSKlRj+9aBm+/T1hpCkdj6Xn4qfjt2F4REsBe9a39XrQ5DQNk4MllVoKnlwRicoY1h579Fip/SaP1gR77CXK0PCigImaIKCX/Tqi08TN2aKMYeFE578ULEm/gRHSPu+II3qMOP7RcvAcmy7mlZP/pflFsESvzaHgyWWQX8xMNTMpWKJjScGTI2qUNJyxwSDZOF4KhCh4Gm2aogztPZSNuHbiC0iOGItxlum4f/SvlTGsr+v1oMllaqlST3yr2LPAKGWhTc06cQMNN/+bd3sNcLKu8z/nO/oNUKDsn7roUo5/29+TfAxdfseOH07YYEHBksGnIDaVXfJNneoNE6Mul9bDa5hxNMZYpil9rC/r9aBJ5XYqnxQev37GBjqPS/mgcPv1d4bfvCr+PTHGWNhwQXDWDo/ylw04/oEa69fC1ZBipDZW6vqSvtZIJK0LrRMbnDhoYoyxfixcDSkm6VPFMiZIXZIhVRnau1pvW8ubC3pLgti/tC60TtQ8ARt8LmrQRAVUpVd2hNhmBZXHqJr5OOrH3q4MaSEVIJdeORL6i2ypLAgVoHUZuv/UQoWiHVJh7NDzxl2mRKlwbk+/psRljJUKbvuXexpopALUlhSlr2O0P2i/0P7x57QkyxUS/FAL7VIB6k60kk7HVyqELY53d3nUeqnQNpf1Y4EEakjRt/xOqKhGWZy+5fyP0w0PWMssVPH65JACOJqGpg0kQmPx27bkLm1buNArYxLE/vWi5gmo1h0bXC5a0OQUwZJ8Ixkqv5i2A3STOn/dC6gffxeqMn+Fmqk/UsZQra5RYnkjpBpHVO06FHTDpOr50k1wyLhuVaGngMkeO0m6+dL3hxKEUYDniBQ3PwocQ9j+rqICvhTM0fZRdfSB+koUCn4oYKJAh1523BHaD7Q/aL9I+8enIDSdD06zCJrE8iio9nKKc1UKskXAQjXUqOZZKOj4yg8I4jyVAvsuEg8X9lixLDqmInDzBnWcacq8NOKfP3WAxhU7EqjxxUCNNIYi2ThOShWiAI5SZYKhtpBoGpo22ThWGdpCg0CNRPbsA2d7An13V/Y1698uStBENxu6AXlRzZ+Oau/UTbi71Q2sZsoD0o2PXjDrOy9VpQ6UcuDP9/tJqO3hBEKBny9XB8uilAff73NrTdJNtSf4p5b4b/dAIJ0/PkEv1errqGZf2+Mv7yfp/PEJeimo9jat4PLZl5Ti43/cA6HjSsfXi457V1MWnWJZvu8GDJQSxlhfQqlD0dqW3yaV/wnU3pFFI4b7lFOK1iYgQs1NmrC+r++WafKP4FW0qpQVFyg7LoQsOpXfNNLyusbjP283lhV2bdYl9OzLgS3Y8Q9+PrU9zhd7XwZa54u9Dox1U6DfTaDTmE9t1g/0obs9Y4wxxljfxUETY4wxxlgIOGhSUNmWQO9wo3JUna1t5329xUAntTYdIGuS9iXVVAxEas1ajG9DLCfY60OozJpHo1f6OkZliKhsUl9E50VPtN4eDsGOG/0G3EF+A3Ktvrb5Km7D4PgNBEO12sJRs4rK+QR6lxpjnUXlzfhc6r6BFzSF2JyBL6o1RTX66B1uvgW0qXCxLX6aVLvKt1B6e6iGoPdFqsGCgH5PpZJqk0kv86UaelqfwsqRI6V9KdVUDPB6EBpO42k6L5qflkPLk9+j1nITpppu1NniM0IKNijwtSVcKh2vUGtWXix0PtB20nrRedKXUC2/luPmU9FCBEv0G7DTb0AcHy8KTOn3QrX6aB7foJZqDdqHKL+BPhq89iSquj86YjJGiS5YdfpQUHV7ek8avWiW2gdirKvi6FyK8J5LoTfTwtoa9ClNVFPKt1aS3I6SXLXc98ZGF/+OgiC6qfsGXdLb5AOkxPQFVBusq5zmFLHf5KdoSoXwVqunlArfWmry9itBrPgr9StoOm+KE81PyyG0XFo+oSDLt2ZkKIGGbzBGx6PP1DgT54Hv9ku17PpIipO8z1tqd1KTHt4af44on9+AOP+9QRA10eBNmaUUJW97WfSg4ds+le82DxQxuiSpC4Ta8qFGIr2oOn1X2hbSqfRSw45edKPrTrtJbPDSqQxIanUujZBeXDyQDNElSu1mXQyDPmgKFDzIQZOq+Ubu5VG33+ZR2ywksYwO2vZx6zuRhH/RA7DA1Vn894tbqRYffF+2/PXlnd47v5d3+W32v7b9/U/azOPXHy7+WYwdHUfvOeWrM1mOoQp5e31SZAOuB62vON/8j2nzsfFJXSTephHanAPSMtr/DVwMlDVBLV1TS86GIDcMygrraJrhhjEYZkhr7vxpRbDjL9AwWr7c0vUEad38BZpHF+D3xVhHtAHOm0DnF6Fs5ZbfQOBgP5TfEgX4Kco0wQI0eZrxyjSBHwha/U6CNElBLbPT75L+BmrvK9x6PWhqU627u6vk8Wv6zyelo5V2ApAOa776zevpeI6g1I4G5ZPCZ9lt903HzRp6gjWt4LesNi9K7hdC2c/++0zhf8xCaT6gnWnUjnrlk6zNceyUIMesC1Ruh/JJEez89/+dDGBalU7KmqB3qtE7w9JMU8Ueb73PqeFCygrzTjPGNE1M0fo40A2Fnmi9KLUpUMDTEfpuWr78TrVYad16s9FGxoj8O5ns8zuZpoxpIf1OfH5L8u+k9W9JLa419BuL8lmO2u+31DJNnDLNVGmYL/r9tfqdiN+n/++Egi3fFCZq78us6dkU/K5fnTuBLuQaa5XSJ1Pb5H5t43npr5emSe43nXpb+utlOfo6VC4rVM4mMW+NMlQs22WDRlkW0TaeUz7JvMvT+H9PY5n8V8xLy/VS22vFdzSKT57meb00tkr5r99wrfc7/LZRY6uW1o8CFI1VntdLrUzb5jt81lPTVK58kmmVdVY76lrdtNVifdV2eZ94p/HyLsN/Wd7tV9suSPvUS22nZcsBgHcaL+/2+W9L83f4HAciLVvZt/SX+n15p2+zbsry2+zP5u1vkNbTSz4n5GW3XWfvMQuyL8V+o/3nRfuV9i/x35dqn+1ucz4px9F7XL3o++n4y+dptTJU5t0+7/nj1XzOKueblzzcoxzvWnmgoHJaW/al//Yr69nmnPX5nci/AZvSJ7ZB/L6kc8LjbrPfWvZnhfTXy9vv/V170Ta2CeQuMo24Gfiii7z/MP9+ovW7QDe56tDkbvndNbnqpc5Xo6u21TCruwENrpbrFQn8Xa2H0ffQsrxs7kbUOVufP6TedUF8R8v520jrKDpf9P20Hl403nfZpIHW22/b/Nfbf9nytrX+TdN8/utdH2i9xTAa5+W/34i8bS3rTd9PnS9521qvt/+2+S+bpg+0bb7Lpu+l7/cVzm0rqi3A6cZvlD7geMMXOFb/udIno3Vse0wCbZv/MWm9bfLx9p1GrLfftpFAvxP/89K/n/jPF8o0gR4S2n5X22n8l0Pb639M/Lc/3FQTJ07ktzIwxhhjjAmedlLiL0pKE2OMMcZYf8dBE2OMMcZYCDhoYowxxhgLAQdNjDHGGGMdoLJOHDQxxhhjjIWAgybGGGOMsRBwkwOM9VP0upPG0TfBOmy29K49eiVQb6H2rXQ1x2A8uxumE29BV3tSGcMYG0iSjKmYGbsA6ZEzMcw4GkZN77zexyP+WV0NOGs9ga/r9mJv1T9RZj2ljO2eYE0O0HAOmhjrh6pn/DvqJn5P6et7Ir/+b8Ts+7XSxxgbCG5P+Sm+lXin0te7KGjyt+v8y3i15Bmlr+s4aGJsgHBFJKLi6mdhi2/7ioO+xlDxOeI/XNGmNXLGWP8SrYvHsrRNGG2erAzpfYGCJnKi4RCeO74GNY7Wby3ojPaCJi7TxFg/0l8CJkLrSevLGOvf+lrA1B5az6VpG5W+8OOgibF+grLk+kvA5EXrS+vNGOufKEuuvwRMXrS+t6c8pPSFFwdNoRi5COteLUDhoSIUFRWh8L1tWN58DqVj+badLeN2bcfqefKYlDs3I293oTScugIxX/ZIeRxjnUGFvgOWYYoBfnsvUPkI0PCo+PsgsHqYMm4KcFwMo+He7swSZdxFROtN6886J9TrR/YLBdL4vA3KgEDmrcb2j9qbJhs5Bco17KXlyrAWmU/vlNejIEdMSdYjT1kvb1fw1mZk8fVtQKFC34HKMBmvM2Lm1khc81e5m/O7CIxIUkYm6TBuvQVz/yKPmyvGpaYp4y6ieWK9af3D7aIFTTOzfoY1jzzW3N2/UBnRBbSs5vkXLseah5ZgptLbE5b/+glkiSCpaPt6rH9pD+ri52LlxvXIFOMyN2zGyrkJKNmxHque2YnymAxkr90sjZs/PwOG4//AljWrsOWtYzAki/l+3faCxPq+8Jy/i3B/F89VqiUXyOobgWUiSPp8P/DT/wNqzMDPbwauppER4uIm/tC47Lfk7ocf0YjWlmW1Dqx2eFdQLHf1d4DPHhbdImWY8IelIjhbIzrxIPdzEbSRq8V0X4rlBBNs/XuadNwC7nNxLLp5HeppIV0/5j2LrFlRSk8gi7HuhTwU/Ec2MuKVQR0wZFyPda2Cn8XInpUCuJReH7Wf52CVd/3GLcJqvr6F1YKlLdecNY/8DHd26UbX9esO1ZILJGGGBuozDpz4oxUnPnZDnaDF6GV6aVzqMiOSRZBU/54VR95xwTlEjPuhkZ7vWkwxYNrvlKBLBFeZD+ulaxWxXKrHhEfNmPMXMyYow3CpCNL+SwRgL4gA7XGDMq0GE540Y9q3pZ6AZsa2M7KLLmpKU+XBJ7DxSdG9fxLmqcsR+HB00o6t2PjMS9ir9IZfNmaNM4iI6XXctSEXuRuy8efCWiAtE4tHLkL23DFAaT6eWJOLvOdWIJfGjcxA1mxg5y+zMX/JOmx9Kw9b17yOA2KUISZZWa4v+amt4NVteGO38uT2kXiiW7iupb/gDaxTUrDmProdH+1Xhh8qwPafycNZz2p1/o7v2UDdHzUrEMjVCeJ/ZcC33gW2ie53paI/DriHrlAiaBJnLqqrgFe+kLu/B6iRaxBXgRox3LxB7hYqP6YV1wJrxOk9xPcqcTlwi7g23roReLYauPlKMUx815Nium1vy5MEEmz9e149rBiKNP+DtTCFdlOf1vH1Yy42r52PqFoxIqgMzBI3qK92FaG9qZqVlqBEk45Zy0SQ5PXD2zArvgIV4ni3YS1Hnu/6RQW6vrGus+LU+8p152A9UjN8nl4uAmpWIJDynCbs+ZVYt48dOPVHB2oaRTARSRcKPYaMEH9OOfDZXxwo/UsjTh/xAMM1GOpNiSLDxLSnbPj8p3XY97YL+kt1GD2FRugx5j4D4uJUUGukKSXJ12uh/qIR+ffY0ZiqBaUfGe8W09U58M0/5WkCmRhk/bvjogZNzfYeRZnVgmjanplLcH8WpcvImlORxPCVS5fgzoeUKFuJlGn8vFQj4qaKYUvFCeQz/4KlIhLPWu4zvfw06Z8y4Jtq0PGTZgKi/ZqhKKqmy08U4udNQoK4YdSWHMAeeRRySsvF/6MQOQ4oKS6RB5J505EiHghry48rA9qKGpeGkhfEU9t7Yr74TKzeeD1sOyh1S1zwotKx+D7xFDdyPVYvyUDkqdfw2APL8Ngb4i7Z3oMmC78EC4wNF5RAPbPlHH2k5UHA9wlxpXR+0rmYgTjjKMzzPjFSKmmraYKjdpgCiZEf7pp9Li5eJFGcf4iUU5quma9kzT0oAqFWj3vte/YlEX/9hzjf3coAolL+eolxK8RvyHpQDqKCCbb+F0PZ4XNIanWzEcdsvLhmn7Iq/UKgYyGGrcwS1xdpuHzMmo8rXXu8fOZtOQfovFgurkd0rfkNNm70TSWgcR2nGnR0/Zi7cR0WJRXh9Q/omhOMmOay+cjeV6P0d8BWhMJiYMyMlVJqOVl5dToMxXukoCiwFCxaeyMmRdlQtHubMoyF28xoC6z13hphXb/udOb+R+0wBWIt87koXKpBhAlwXqBhKujoSc1HfR3VRFOJwEjul7zbhM+fsaNaPPDV/8sNO42XihXY8fmP6rB7p5suLc18AyhJkh4TxPLO/skuwsrggq1/d/RO0DRzLJJwDsc7Sh6KGwp8IkfZBxtGYao4wHtzn8YucbGTnvqfy1Mm9DIi1VIiTb+rbKg4SVJQ6p8yIC5wV+BjOXJ/8j3Uj+8oxSsXBw6LP+mL8cavlmPR0mexfp73KSwSev+DGUAKpRg9NR8p1Xuw9fEcZWhbtYW5WCG2aeuP9+AYDTj1AVZJqVv/wFf0FEdPmSlGKfUA5mhENR7H64/firsepwGsp0mBOl1spgIHlXNvwdI5zefoxvfrMV65mb79nDJMnGNlSRniHMvD808WotJ6EruefBov7xUXM1qONM0T2JLrDbsDC9Zw5R66X4onuN3fAe6YDfyBgiUvn2y5F0+L8yca+Pl3lXE+JopFR4tHNwqsqExUu4GV+M3+zQ68sQpYJuZ7oUr8FYHbvR8q44PovYY3LeKfeEgzT2wJUhZmIKmsEM3hBz2gJcvXDeoOW+Y0T2tMtSjXEBF4XfsYkkvlY3rKuzya1+c47jplwdTmgCpeHBq61jyMNfn1SBqrhCF0/Wv4WpwDcm9HAl0/Uu7LweabElD08gpsckqDwqQGW/KLxMNZJrJvFb0j1+HqyQYU5W8RY9qKmrUaRUU7sfkH6bAX5OLPuT6BHgsDcU8T5x1dd+YlncOnynWiy9cdLMEVYjm7lPP1+R3SbEF11HClcbYRM36ohbHOhVPPiwsDHKihUyBVhxn365F0U4QIbtoLM9QYcb+Yv9GNqneVQQGcftsJ9xQT5v5JB/1XDjRm66D7zIoTIuhqT080vHlRg6bmm86VwKehZKlVtlxY3i4Npc0FK04VyjezvTX1sJ4qhJRjQClbDdJgLEiOFxfC65RI+zqkGpUUr6BKsP4/crCn1ID021di84rpqDhC61KLuiPyFO2Z+7Pt2L4xC2mN+diyNBs54ikuVPRU2eYStHuVlPJkS56P1S/slAqlc+Hyi6M5e+7JEiRLT3eLkBzXclFbc+0oGM1D5OCcbqbtnmN5KK2Mx9QQyxpQi9uB/FQEKx+Iu9m06UDO1UCZkuhQQ3/PtmTLPfAX4K1qcRERAdEKeZJmD2yVs+Vmi5/ONyIi/8l8ZUQQDzwnfsubgeG/B66ZAXwoIvwdD4v9swY4ngUEKvIdbP0vjj14+XBL0LIg2YKyoy1B6syxQ2GMy1CuCY9hqjimFsr2FFquIRfQIG48B6WbzB4cL5O3h+YVFx15GmFv7teo9J4DqMBhbzC8owQNSWOl4TRPQ6n/A19gAa8f89aLByuxLQVbsOKp8AcpJRveRWFjPDJuykbmirlIRxH2bAj8Pd4yTeufy4c1Ixub/7oNi5VxLBx8suc+Aa5QclC6fN2he6H4hc7zTSltB7W4HUzcXSZculwHk9WJE5sacVoKYNw48pod1eUqWOaJe+ZtGthPU0qTB842p5AWYx43YYx40Kv8uxXiuS44ESDt/X91yL+vHnv2aZA8xIXKhAjMyYnE3BwLpi0MHMq0t/5ddVGDJvmmI57SxEGjVKPe0nLzo46e+pURwezahOzrMpCeno70yXfhK028uB4ex4e7i1AubkRRKdObk7IXx4vHeZSjZJfyNHhfungi2IK75i3D1kPyNN2Vv+FWzJp8Kx6Tgqe5WP7zdkrgsh4gBzzJ0jlc0ZzKIHXSw8Ai3H+tBYeVYQcrpZnakJ4K6UIoLnIdZc/RK0oCEoH7QhG8SOWRngQK6Rct7ufvnJBH+6KyS5TmbZN72/j8c+BlceEz+mX5BXPDrcCEM8AFcdGrEYFZnAimmlKBpcp4X0HX/2KhoCVVPHmLm8p4tE3lsZ56r+UYiq6jJ/DOE+dMA5WtykRaUj1KQ1h+0OvHddMxRgS3lMqzk8o13ipnfY65VXzesV763D1b8dq+CkRNWYzHZqXAVvguNilj2lDKNOU+s0wuzxmfjAxlFAszKeDxls/r6nVHPEA8I8aXpkgBV0fZc/SKkkCMi0xIX6QBDtnw2Y+bcMq31MlnNnz+kzp8cLfovt+IOo1KXCTcqBLXiBZaTHgqAiPSPCh7rhFf5PlmxrVHi0tuVqPuFQ/iJot519Zhb4EHMbN1yvjWgq1/d1zUoElGB60Q8CkIblaewCj/dWqqtwx9z6istyKuk4V4M+9bjZVLFmHRTcux/qXtWJxuw7FdOXgducgrrABE4LL6V1lS1t3yWfGwFeVjW/EirLsnE1Gl+fiduGCPuYnmF923M+FTxLLzfrANeS+tw+JZ0SgvrwEliLKLjZ70KsSNrwL11niM9w94Zg6B2VoP+ZpF00ofAtv7Era8fxKwtF+1id7pFsjV4qt/fjlwxxTgD98Xp0cS8I0IpF4U45bdBOTOaxl3g4jna0RQRKVO3lgJnFFi7Z9fB1DrT9PE/+5JBqpDSRQaDTw5FNj0hl9BcWfgoCzY+l88eTh4yoLxV7ZN5aFUaSMFVEp/Z+w9eg7wmXdm1kTENZd3a+3t0nokZWQgqaGkOWUquHauH9s3Sak7zd0/5Uf4kn+Kz09/gfVvFaKocDtWS0O75vUdX6HCNAZj4itQ8MZWZWgAxgRpvbIe2oasjChxLy+FuLqzntBcrCUM1x2qQHWwAubo9h/WiuoCnck6jFuggbbciRO7PTDP0SGJulkaqQxlzCIDRl9Pw/SY8LgJw8SDVOMBO86K+ab8ZyTmrBVPZXfpkTTCg/JnG1C0O9SASSz7fgMiS+348rPWBcXdDuWDH3onXbj1QtBE8vD8QRE3UVKjuGkcbqBCapSkmIJ638KZQdCFyuwtCN5JVCaKykfJ3ye6ELJH0qgg5drN2LxxJW4TD35F2x/D8sflZPfXH3gUuSLaTr99HTY/NB9RxXnY9JNNKEEC9PTEnjwfT2ykeZXul8vQQe5H+6gQ+rgsPPFCDrY9lAn98Z3Y+stcZSTrSc3Zy4+IZ+mDW8WNT34AaGjO7lVSjPzOaeUqJlBqg7dAJhXQVJZ37VCUKdnKwdBLcAOZOBJYIYKeHBEgUcBEzQvc+r/yuGqtCJTE6kjjRDB07hSQHeBUmTAR2P2oXC5qaDnw078pI9rxaxGMnd0nB2ebxG956HSxmfdL5YjxS3mSVoKt/8VEWWcN4qYjZ7H5EDcQqSyS93j4FKztkDjWn/rMS+VOdrUpa6mg1K44S4fHWtbO9eNQvpS609w1ymGqrVF83tWJ/P/2vJWDPbSo4j3IEYFxMFHTsqX1Wrd0LqIqxLSPLxMPkyx8fLPhxHXiE0pR6sZ153ve7DvRTUVL9nEQe6sChfciYKFzM0GLCT80It3biYCGcrVNE7QYsYSGGaSAiZoeOPh86/YqRqSpRfChQsLDLW09zQyURO0ryYAxkz0o/Q1FSCII+1qNYU+J+S4Fyv4eOP2cXuIbbvzuOcb6ib7+kt5g+OW9CipvEmp5Tsb6iL70kl5fwd4959Wdl/fyu+cYGwAo8KCX4PYntL4cMCnVw5tTChjrP14t+a30Etz+hNa3qwFTRzilibF+xBWR2G9e2ksBU/yHK6BpOq8MYYz1R9G6+D730t5gKU0UMD13fA1qHKHUuA+svZQmTXx8/C+UfsZYH6d2NsBy9DW49dGw9+HAibLk4vNXSuvLGOvfbO5GfFL5d5g0kX365b2UJfdfJx6R1rencEoTY/0UvQSX3ulGryihFrd7rwFJuR0malaAaslRoW9d7UllDGNsIKGX4NI76egVK9Tidk80IBkKSmmidpioWQGqJUeFvsusAd4T1QXtpTRx0MQYY4wxpmgvaOKC4IwxxhhjIeCgiTHGGGMsBBw0McYYY4yFgIMmxhhjjLEQcNDEGGOMMRYCDpoYY4wxxkLAQRNjjDHGWAg4aGKMMcYYCwEHTYwxxhhjIeCgiTHGGGMsBBw0McYYY4x1CPj/tDtxBsBl5DIAAAAASUVORK5CYII=)"
      ],
      "metadata": {
        "id": "0D4o2OcC_67d"
      }
    },
    {
      "cell_type": "code",
      "source": [
        "# needs revision\n",
        "# code link: https://www.i4k.xyz/article/sinat_30403031/122746161\n",
        "\n",
        "def minCost(colors, neededTime):\n",
        "    i = 0\n",
        "    res = 0\n",
        "    colors = list(colors)\n",
        "    while i < len(colors):\n",
        "        j = i + 1\n",
        "        if j < len(colors) and colors[j] == colors[i]:\n",
        "            while j < len(colors) and colors[j] == colors[i]:\n",
        "                j += 1\n",
        "            for idx in range(i, j):\n",
        "                res += neededTime[idx]\n",
        "            res -= max(neededTime[i:j])\n",
        "            i = j\n",
        "        else:\n",
        "            i += 1\n",
        "    return res\n",
        "\n",
        "colors = \"aaabbbabbbb\"\n",
        "neededTime = [3,5,10,7,5,3,5,5,4,8,1]\n",
        "# ans should be 26\n",
        "\n",
        "minCost(colors, neededTime)"
      ],
      "metadata": {
        "colab": {
          "base_uri": "https://localhost:8080/"
        },
        "id": "cae6u1568Pga",
        "outputId": "1216ecff-b9ab-40aa-a3cb-a96e49db5759"
      },
      "execution_count": null,
      "outputs": [
        {
          "output_type": "execute_result",
          "data": {
            "text/plain": [
              "26"
            ]
          },
          "metadata": {},
          "execution_count": 10
        }
      ]
    },
    {
      "cell_type": "markdown",
      "source": [
        "##04-10-2022"
      ],
      "metadata": {
        "id": "gUINlQYT90FX"
      }
    },
    {
      "cell_type": "markdown",
      "source": [
        "####112. Path Sum"
      ],
      "metadata": {
        "id": "l1sz-6169zve"
      }
    },
    {
      "cell_type": "code",
      "source": [
        "\"\"\"\n",
        "112. Path Sum\n",
        "Easy\n",
        "6.9K\n",
        "852\n",
        "Companies\n",
        "Given the root of a binary tree and an integer targetSum, return true if the tree has a root-to-leaf path such that adding up all the values along the path equals targetSum.\n",
        "\n",
        "A leaf is a node with no children.\n",
        "\n",
        " \n",
        "\n",
        "Example 1:\n",
        "\n",
        "\n",
        "Input: root = [5,4,8,11,null,13,4,7,2,null,null,null,1], targetSum = 22\n",
        "Output: true\n",
        "Explanation: The root-to-leaf path with the target sum is shown.\n",
        "Example 2:\n",
        "\n",
        "\n",
        "Input: root = [1,2,3], targetSum = 5\n",
        "Output: false\n",
        "Explanation: There two root-to-leaf paths in the tree:\n",
        "(1 --> 2): The sum is 3.\n",
        "(1 --> 3): The sum is 4.\n",
        "There is no root-to-leaf path with sum = 5.\n",
        "Example 3:\n",
        "\n",
        "Input: root = [], targetSum = 0\n",
        "Output: false\n",
        "Explanation: Since the tree is empty, there are no root-to-leaf paths.\n",
        " \n",
        "\n",
        "Constraints:\n",
        "\n",
        "The number of nodes in the tree is in the range [0, 5000].\n",
        "-1000 <= Node.val <= 1000\n",
        "-1000 <= targetSum <= 1000\n",
        "\"\"\""
      ],
      "metadata": {
        "id": "Oao4bzXh90jt"
      },
      "execution_count": null,
      "outputs": []
    },
    {
      "cell_type": "markdown",
      "source": [
        "![image.png](data:image/png;base64,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)"
      ],
      "metadata": {
        "id": "QKuTDRrU-RIf"
      }
    },
    {
      "cell_type": "code",
      "source": [
        "# needs revision\n",
        "# code link: https://blog.devgenius.io/leetcode-112-path-sum-solution-with-images-59005efd1c2e\n",
        "\n",
        "# Definition for a binary tree node.\n",
        "# class TreeNode(object):\n",
        "#     def __init__(self, val=0, left=None, right=None):\n",
        "#         self.val = val\n",
        "#         self.left = left\n",
        "#         self.right = right\n",
        "class Solution(object):\n",
        "    def hasPathSum(self, root, targetSum):\n",
        "        if root == None:\n",
        "            return False\n",
        "                \n",
        "        if root.left == None and root.right == None and targetSum - root.val == 0:\n",
        "            return True\n",
        "                \n",
        "        return self.hasPathSum(root.left, targetSum - root.val) or self.hasPathSum(root.right, targetSum - root.val)\n"
      ],
      "metadata": {
        "id": "R03q4Hlo91Be"
      },
      "execution_count": null,
      "outputs": []
    },
    {
      "cell_type": "markdown",
      "source": [
        "##05-10-2022"
      ],
      "metadata": {
        "id": "2_JK3MIuNtUb"
      }
    },
    {
      "cell_type": "markdown",
      "source": [
        "####623. Add One Row to Tree"
      ],
      "metadata": {
        "id": "HT2Vm5PjNtJ6"
      }
    },
    {
      "cell_type": "code",
      "source": [
        "\"\"\"\n",
        "623. Add One Row to Tree\n",
        "Medium\n",
        "2.4K\n",
        "212\n",
        "Companies\n",
        "Given the root of a binary tree and two integers val and depth, add a row of nodes with value val at the given depth depth.\n",
        "\n",
        "Note that the root node is at depth 1.\n",
        "\n",
        "The adding rule is:\n",
        "\n",
        "Given the integer depth, for each not null tree node cur at the depth depth - 1, create two tree nodes with value val as cur's left subtree root and right subtree root.\n",
        "cur's original left subtree should be the left subtree of the new left subtree root.\n",
        "cur's original right subtree should be the right subtree of the new right subtree root.\n",
        "If depth == 1 that means there is no depth depth - 1 at all, then create a tree node with value val as the new root of the whole original tree, and the original tree is the new root's left subtree.\n",
        " \n",
        "\n",
        "Example 1:\n",
        "\n",
        "\n",
        "Input: root = [4,2,6,3,1,5], val = 1, depth = 2\n",
        "Output: [4,1,1,2,null,null,6,3,1,5]\n",
        "Example 2:\n",
        "\n",
        "\n",
        "Input: root = [4,2,null,3,1], val = 1, depth = 3\n",
        "Output: [4,2,null,1,1,3,null,null,1]\n",
        " \n",
        "\n",
        "Constraints:\n",
        "\n",
        "The number of nodes in the tree is in the range [1, 104].\n",
        "The depth of the tree is in the range [1, 104].\n",
        "-100 <= Node.val <= 100\n",
        "-105 <= val <= 105\n",
        "1 <= depth <= the depth of tree + 1\n",
        "\"\"'"
      ],
      "metadata": {
        "id": "gUglR7oNNuB4"
      },
      "execution_count": null,
      "outputs": []
    },
    {
      "cell_type": "markdown",
      "source": [
        "![image.png](data:image/png;base64,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)"
      ],
      "metadata": {
        "id": "CzvsrxIfOJ3q"
      }
    },
    {
      "cell_type": "markdown",
      "source": [
        "![image.png](data:image/png;base64,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)"
      ],
      "metadata": {
        "id": "MpCUftXkPCVu"
      }
    },
    {
      "cell_type": "code",
      "source": [
        "# needs revision\n",
        "# code link: https://maxming0.github.io/2021/03/09/Add-One-Row-to-Tree/\n",
        "\n",
        "# Definition for a binary tree node.\n",
        "# class TreeNode(object):\n",
        "#     def __init__(self, val=0, left=None, right=None):\n",
        "#         self.val = val\n",
        "#         self.left = left\n",
        "#         self.right = right\n",
        "class Solution(object):\n",
        "    def addOneRow(self, root, val, depth):\n",
        "        if depth == 1:\n",
        "            n = TreeNode(val)\n",
        "            n.left = root\n",
        "            return n\n",
        "        q = [root]\n",
        "        for _ in range(depth - 2):\n",
        "            tmp = []\n",
        "            for n in q:\n",
        "                if n.left:\n",
        "                    tmp.append(n.left)\n",
        "                if n.right:\n",
        "                    tmp.append(n.right)\n",
        "            q = tmp\n",
        "        for node in q:\n",
        "            tmp = node.left;\n",
        "            node.left = TreeNode(val);\n",
        "            node.left.left = tmp;\n",
        "            tmp = node.right;\n",
        "            node.right = TreeNode(val);\n",
        "            node.right.right = tmp;\n",
        "        return root"
      ],
      "metadata": {
        "id": "_-9QuPr0Nubc"
      },
      "execution_count": null,
      "outputs": []
    },
    {
      "cell_type": "markdown",
      "source": [
        "##06-10-2022"
      ],
      "metadata": {
        "id": "aBx0dWG8wjgf"
      }
    },
    {
      "cell_type": "markdown",
      "source": [
        "####981. Time Based Key-Value Store"
      ],
      "metadata": {
        "id": "UN3wyJSdwkVx"
      }
    },
    {
      "cell_type": "code",
      "source": [
        "\"\"\"\n",
        "981. Time Based Key-Value Store\n",
        "Medium\n",
        "3.2K\n",
        "308\n",
        "Companies\n",
        "Design a time-based key-value data structure that can store multiple values for the same key at different time stamps and retrieve the key's value at a certain timestamp.\n",
        "\n",
        "Implement the TimeMap class:\n",
        "\n",
        "TimeMap() Initializes the object of the data structure.\n",
        "void set(String key, String value, int timestamp) Stores the key key with the value value at the given time timestamp.\n",
        "String get(String key, int timestamp) Returns a value such that set was called previously, with timestamp_prev <= timestamp. If there are multiple such values, it returns the value associated with the largest timestamp_prev. If there are no values, it returns \"\".\n",
        " \n",
        "\n",
        "Example 1:\n",
        "\n",
        "Input\n",
        "[\"TimeMap\", \"set\", \"get\", \"get\", \"set\", \"get\", \"get\"]\n",
        "[[], [\"foo\", \"bar\", 1], [\"foo\", 1], [\"foo\", 3], [\"foo\", \"bar2\", 4], [\"foo\", 4], [\"foo\", 5]]\n",
        "Output\n",
        "[null, null, \"bar\", \"bar\", null, \"bar2\", \"bar2\"]\n",
        "\n",
        "Explanation\n",
        "TimeMap timeMap = new TimeMap();\n",
        "timeMap.set(\"foo\", \"bar\", 1);  // store the key \"foo\" and value \"bar\" along with timestamp = 1.\n",
        "timeMap.get(\"foo\", 1);         // return \"bar\"\n",
        "timeMap.get(\"foo\", 3);         // return \"bar\", since there is no value corresponding to foo at timestamp 3 and timestamp 2, then the only value is at timestamp 1 is \"bar\".\n",
        "timeMap.set(\"foo\", \"bar2\", 4); // store the key \"foo\" and value \"bar2\" along with timestamp = 4.\n",
        "timeMap.get(\"foo\", 4);         // return \"bar2\"\n",
        "timeMap.get(\"foo\", 5);         // return \"bar2\"\n",
        " \n",
        "\n",
        "Constraints:\n",
        "\n",
        "1 <= key.length, value.length <= 100\n",
        "key and value consist of lowercase English letters and digits.\n",
        "1 <= timestamp <= 107\n",
        "All the timestamps timestamp of set are strictly increasing.\n",
        "At most 2 * 105 calls will be made to set and get.\n",
        "\"\"\""
      ],
      "metadata": {
        "id": "G1fQ3Hxdx6Qx"
      },
      "execution_count": null,
      "outputs": []
    },
    {
      "cell_type": "markdown",
      "source": [
        "![image.png](data:image/png;base64,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)"
      ],
      "metadata": {
        "id": "PKVO7wvfxj0u"
      }
    },
    {
      "cell_type": "code",
      "source": [
        "# needs revision\n",
        "# code link: https://walkccc.me/LeetCode/problems/0981/\n",
        "\n",
        "\n",
        "class TimeMap:\n",
        "  def __init__(self):\n",
        "    self.values = defaultdict(list)\n",
        "    self.timestamps = defaultdict(list)\n",
        "\n",
        "  def set(self, key: str, value: str, timestamp: int) -> None:\n",
        "    se lf.values[key].append(value)\n",
        "    self.timestamps[key].append(timestamp)\n",
        "\n",
        "  def get(self, key: str, timestamp: int) -> str:\n",
        "    if key not in self.timestamps:\n",
        "      return ''\n",
        "    i = bisect.bisect(self.timestamps[key], timestamp)\n",
        "    return self.values[key][i - 1] if i > 0 else ''"
      ],
      "metadata": {
        "id": "WGzsZDp-wlTb"
      },
      "execution_count": null,
      "outputs": []
    },
    {
      "cell_type": "markdown",
      "source": [
        "##07-10-2022"
      ],
      "metadata": {
        "id": "V1QoOlSzrOPM"
      }
    },
    {
      "cell_type": "markdown",
      "source": [
        "####732. My Calendar III"
      ],
      "metadata": {
        "id": "MyWCJu_NrOL2"
      }
    },
    {
      "cell_type": "code",
      "source": [
        "\"\"\"\n",
        "732. My Calendar III\n",
        "Hard\n",
        "1.5K\n",
        "223\n",
        "Companies\n",
        "A k-booking happens when k events have some non-empty intersection (i.e., there is some time that is common to all k events.)\n",
        "\n",
        "You are given some events [start, end), after each given event, return an integer k representing the maximum k-booking between all the previous events.\n",
        "\n",
        "Implement the MyCalendarThree class:\n",
        "\n",
        "MyCalendarThree() Initializes the object.\n",
        "int book(int start, int end) Returns an integer k representing the largest integer such that there exists a k-booking in the calendar.\n",
        " \n",
        "\n",
        "Example 1:\n",
        "\n",
        "Input\n",
        "[\"MyCalendarThree\", \"book\", \"book\", \"book\", \"book\", \"book\", \"book\"]\n",
        "[[], [10, 20], [50, 60], [10, 40], [5, 15], [5, 10], [25, 55]]\n",
        "Output\n",
        "[null, 1, 1, 2, 3, 3, 3]\n",
        "\n",
        "Explanation\n",
        "MyCalendarThree myCalendarThree = new MyCalendarThree();\n",
        "myCalendarThree.book(10, 20); // return 1, The first event can be booked and is disjoint, so the maximum k-booking is a 1-booking.\n",
        "myCalendarThree.book(50, 60); // return 1, The second event can be booked and is disjoint, so the maximum k-booking is a 1-booking.\n",
        "myCalendarThree.book(10, 40); // return 2, The third event [10, 40) intersects the first event, and the maximum k-booking is a 2-booking.\n",
        "myCalendarThree.book(5, 15); // return 3, The remaining events cause the maximum K-booking to be only a 3-booking.\n",
        "myCalendarThree.book(5, 10); // return 3\n",
        "myCalendarThree.book(25, 55); // return 3\n",
        " \n",
        "\n",
        "Constraints:\n",
        "\n",
        "0 <= start < end <= 109\n",
        "At most 400 calls will be made to book.\n",
        "\"\"\""
      ],
      "metadata": {
        "id": "RSwln4gorO2y"
      },
      "execution_count": null,
      "outputs": []
    },
    {
      "cell_type": "markdown",
      "source": [
        "![image.png](data:image/png;base64,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)"
      ],
      "metadata": {
        "id": "-GA00QmVrP4D"
      }
    },
    {
      "cell_type": "code",
      "source": [
        "# needs revision\n",
        "# code link: https://walkccc.me/LeetCode/problems/0732/\n",
        "\n",
        "from sortedcontainers import SortedDict\n",
        "\n",
        "\n",
        "class MyCalendarThree:\n",
        "  def __init__(self):\n",
        "    self.timeline = SortedDict()\n",
        "\n",
        "  def book(self, start: int, end: int) -> int:\n",
        "    self.timeline[start] = self.timeline.get(start, 0) + 1\n",
        "    self.timeline[end] = self.timeline.get(end, 0) - 1\n",
        "\n",
        "    ans = 0\n",
        "    activeEvents = 0\n",
        "\n",
        "    for count in self.timeline.values():\n",
        "      activeEvents += count\n",
        "      ans = max(ans, activeEvents)\n",
        "\n",
        "    return ans"
      ],
      "metadata": {
        "id": "GnCubsa1rPSh"
      },
      "execution_count": null,
      "outputs": []
    },
    {
      "cell_type": "markdown",
      "source": [
        "##08-10-2022"
      ],
      "metadata": {
        "id": "cm0uDT3ZfN0w"
      }
    },
    {
      "cell_type": "markdown",
      "source": [
        "####16. 3Sum Closest"
      ],
      "metadata": {
        "id": "oDcE_JGwfNxE"
      }
    },
    {
      "cell_type": "code",
      "source": [
        "\"\"\"\n",
        "16. 3Sum Closest\n",
        "Medium\n",
        "7.7K\n",
        "419\n",
        "Companies\n",
        "Given an integer array nums of length n and an integer target, find three integers in nums such that the sum is closest to target.\n",
        "\n",
        "Return the sum of the three integers.\n",
        "\n",
        "You may assume that each input would have exactly one solution.\n",
        "\n",
        " \n",
        "\n",
        "Example 1:\n",
        "\n",
        "Input: nums = [-1,2,1,-4], target = 1\n",
        "Output: 2\n",
        "Explanation: The sum that is closest to the target is 2. (-1 + 2 + 1 = 2).\n",
        "Example 2:\n",
        "\n",
        "Input: nums = [0,0,0], target = 1\n",
        "Output: 0\n",
        "Explanation: The sum that is closest to the target is 0. (0 + 0 + 0 = 0).\n",
        " \n",
        "\n",
        "Constraints:\n",
        "\n",
        "3 <= nums.length <= 1000\n",
        "-1000 <= nums[i] <= 1000\n",
        "-104 <= target <= 104\n",
        "\n",
        "\"\"\""
      ],
      "metadata": {
        "id": "Kw6iRyGkfQO_"
      },
      "execution_count": null,
      "outputs": []
    },
    {
      "cell_type": "markdown",
      "source": [
        "![image.png](data:image/png;base64,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)"
      ],
      "metadata": {
        "id": "hYq-WFhofRAD"
      }
    },
    {
      "cell_type": "code",
      "source": [
        "# needs revision\n",
        "# code link: https://www.goodtecher.com/leetcode-16-3sum-closest/\n",
        "\n",
        "class Solution:\n",
        "    def threeSumClosest(self, nums: List[int], target: int) -> int:\n",
        "        three_sum_closest = sys.maxsize\n",
        "        \n",
        "        nums = sorted(nums)\n",
        "                \n",
        "        for i, num in enumerate(nums):        \n",
        "            l = i + 1\n",
        "            r = len(nums) - 1\n",
        "                        \n",
        "            while l < r:       \n",
        "                local_sum = nums[i] + nums[l] + nums[r]\n",
        "                if abs(local_sum - target)  < abs(three_sum_closest - target):\n",
        "                    three_sum_closest = local_sum\n",
        "                \n",
        "                if local_sum <= target:\n",
        "                    l += 1\n",
        "                else:\n",
        "                    r -= 1\n",
        "        \n",
        "        return three_sum_closest"
      ],
      "metadata": {
        "id": "x7fkJIkTfQL_"
      },
      "execution_count": null,
      "outputs": []
    },
    {
      "cell_type": "markdown",
      "source": [
        "##09-10-2022"
      ],
      "metadata": {
        "id": "94fFakJq8dzg"
      }
    },
    {
      "cell_type": "markdown",
      "source": [
        "####653. Two Sum IV - Input is a BST"
      ],
      "metadata": {
        "id": "7VtrCMvo8dwH"
      }
    },
    {
      "cell_type": "code",
      "source": [
        "\"\"\"\n",
        "653. Two Sum IV - Input is a BST\n",
        "Easy\n",
        "5.1K\n",
        "225\n",
        "Companies\n",
        "Given the root of a Binary Search Tree and a target number k, return true if there exist two elements in the BST such that their sum is equal to the given target.\n",
        "\n",
        " \n",
        "\n",
        "Example 1:\n",
        "\n",
        "\n",
        "Input: root = [5,3,6,2,4,null,7], k = 9\n",
        "Output: true\n",
        "Example 2:\n",
        "\n",
        "\n",
        "Input: root = [5,3,6,2,4,null,7], k = 28\n",
        "Output: false\n",
        " \n",
        "\n",
        "Constraints:\n",
        "\n",
        "The number of nodes in the tree is in the range [1, 104].\n",
        "-104 <= Node.val <= 104\n",
        "root is guaranteed to be a valid binary search tree.\n",
        "-105 <= k <= 105\n",
        "\"\"\""
      ],
      "metadata": {
        "id": "9fkTcsXi8eZl"
      },
      "execution_count": null,
      "outputs": []
    },
    {
      "cell_type": "markdown",
      "source": [
        "![image.png](data:image/png;base64,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)"
      ],
      "metadata": {
        "id": "O8YyHSgN9azU"
      }
    },
    {
      "cell_type": "markdown",
      "source": [
        "![image.png](data:image/png;base64,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)"
      ],
      "metadata": {
        "id": "lH9PL5_28fYk"
      }
    },
    {
      "cell_type": "code",
      "source": [
        "# needs revision\n",
        "# code link: https://www.goodtecher.com/leetcode-653-two-sum-iv-input-is-a-bst/\n",
        "\n",
        "# Definition for a binary tree node.\n",
        "# class TreeNode:\n",
        "#     def __init__(self, val=0, left=None, right=None):\n",
        "#         self.val = val\n",
        "#         self.left = left\n",
        "#         self.right = right\n",
        "class Solution:\n",
        "    def findTarget(self, root: TreeNode, k: int) -> bool:   \n",
        "        \n",
        "        values = []\n",
        "        self.inorder_traverse(root, values)\n",
        "\n",
        "        left = 0\n",
        "        right = len(values) - 1\n",
        "        \n",
        "        while left < right:\n",
        "            if values[left] + values[right] < k:\n",
        "                left += 1\n",
        "            elif values[left] + values[right] > k:\n",
        "                right -= 1\n",
        "            else:\n",
        "                return True\n",
        "                    \n",
        "        return False\n",
        "\n",
        "        \n",
        "    def inorder_traverse(self, root, results):\n",
        "        if not root:\n",
        "            return\n",
        "        \n",
        "        self.inorder_traverse(root.left, results)\n",
        "        results.append(root.val)\n",
        "        self.inorder_traverse(root.right, results)"
      ],
      "metadata": {
        "id": "hHbn-MP78f6T"
      },
      "execution_count": null,
      "outputs": []
    },
    {
      "cell_type": "markdown",
      "source": [
        "Daily challenge on 10th and 11th of October 2022, were missed out due to my college Assignments "
      ],
      "metadata": {
        "id": "i9SUDVUbD30G"
      }
    },
    {
      "cell_type": "markdown",
      "source": [
        "##12-10-2022"
      ],
      "metadata": {
        "id": "wn468MOHDLCD"
      }
    },
    {
      "cell_type": "markdown",
      "source": [
        "####976. Largest Perimeter Triangle"
      ],
      "metadata": {
        "id": "hlYPr-ttDKwN"
      }
    },
    {
      "cell_type": "code",
      "source": [
        "976. Largest Perimeter Triangle\n",
        "Easy\n",
        "2K\n",
        "265\n",
        "Companies\n",
        "Given an integer array nums, return the largest perimeter of a triangle with a non-zero area, formed from three of these lengths. If it is impossible to form any triangle of a non-zero area, return 0.\n",
        "\n",
        " \n",
        "\n",
        "Example 1:\n",
        "\n",
        "Input: nums = [2,1,2]\n",
        "Output: 5\n",
        "Example 2:\n",
        "\n",
        "Input: nums = [1,2,1]\n",
        "Output: 0\n",
        " \n",
        "\n",
        "Constraints:\n",
        "\n",
        "3 <= nums.length <= 104\n",
        "1 <= nums[i] <= 106"
      ],
      "metadata": {
        "id": "bZLGAQsyDL2p"
      },
      "execution_count": null,
      "outputs": []
    },
    {
      "cell_type": "markdown",
      "source": [
        "![image.png](data:image/png;base64,iVBORw0KGgoAAAANSUhEUgAAAsgAAAC1CAYAAABCiAlAAAAAAXNSR0IArs4c6QAAAARnQU1BAACxjwv8YQUAAAAJcEhZcwAADsMAAA7DAcdvqGQAAEXxSURBVHhe7d0JfBTlwT/w396bm1wESCDcJiCXIgREkApaSoqtUv+aUhW1gG2FWhW0im1FWgFbi33fFqw2ailYRdrSUF+F1hqtEqoSEQxyCRiOkATIvff+n2d2lkw2G3ItySb5ffkMmWtnZ/aY/c0zzzyjy8jI8IKIiIiIiBR69S8REREREQkMyEREREREGgzIREREREQaDMhERERERBoMyEREREREGgzIREREREQaDMhERERERBoMyEREREREGgzIREREREQaDMhERERERBoMyEREREREGgzIREREREQaDMhERERERBoMyEREREREGgzIREREREQaDMhERERERBoMyEREREREGrqMjAyv2n/J6HTiP7cLRq8TetFviYzCoNFXIDVzFEZZP0VM2SfYcWo4TlTocfTgATgddt8DiYiIqMvRiR/+iIgIWCwWGI1GZbgr8nq9cLlcsNvtqKurU4ZDzqKHfloKdKPjoesXAZhYdtkspwfek+L92HMOnndKALtHnRA6lzQgJ8WbkRjtxef7i1Fb60JlrU35osREmOEV/1wGE374zf64eXwcPqxIwMk+OXDZ3DhyoAi7338HZ0tOq0siIiKirkCG4piYGOj13SvoeTweVFVVKWE5VGQoNvy/dCDWpI6hVqt0wv3nY0pYDiVDUlLST9X+kBo9aTTs5cUoO30eZedsOF/lgNMtQr/bi+o6F3Tii+MWI3bsPqOE5YkZ0TgbNQpujwlpg4dhRNZkeMQR56kjh9QlEhERUTiT4TguLq7LlhhfjNwmq9WqlCi73SLQtJMSjr87VLxoBnUMtYl4/fRXJsB7og4osakj2y/kh3exiUmYnnMnUjLGo6TMhtLyWqX0ON6kw9B4M1KsBqRFGWBweWFziAd4dHjpX2dQWuWGxVsFvVEHvUEPndGA0ddMx9y7FiAxKc63cCIiIgpLMkDKkuPuTm5juw8ALHpfyTGFjPJ6itc1VEIakFPSBmDard9BYloabJWVqD5bhQivCz+4Ng0vLb4az983DS8vmYLff28Sfvnty/EdkfjTog2orHbh8ec/Q5XDBI8IxpCnZcSHT6/XIaV/Km6/NQsZ/a3qs4TQHbkoKCpC3kp1uDmtmH/+iwUoKsrDCjnQwsc1eEy73IwVG/KQ++hUdbhzrNhWhKKCXMxXh7uUlXnivShA7h3qMBERXZSsc9zdqlUEI7dRbmt7yDrHrFYRYuL1VF7XEAnZJzmxdwqu/3/zEBEVDYNBfHgMsmK7B3dNH4pbpg7GkMH90S+1L1JTEtEnLhKZqfH46rh0zJs0AEmRJhw+Xo2ztS54ZOmx6PQiIMsjNIPeg95xbiz7Vj/0TWzjh+mm9XhXBNSivVuwVB3V1fnCtNgmf/fRduQ+6A/EQzDy8iEYNypLHW6p+cgt8C2vcMMidVy9rKe3+56rq4ZeIiK6ZGT1ip6ivdsqq1dQ6IXydQ1ZQP7qTf8PkVGxMBiNotOL/kjERJqRlhgphs1w22thr66E2+WCy+0R4dkNo0GHWKsRSdFGXyC2Roo1EiFYHJ3pvOKPTgZlcVRq9sBqNeD2r7btyGDRTRORVFaGMkMmsh5NU8d2B8XYvuwhPLRyI3bWpiHr7uVYM1mOX42bxmZi7K2rlbnawjL2eiwfoA4obsb8ieK1a3+1KyIi6obkRfg9RXu3VWmtgkIulK9rSALy9OumI7V/uhKMZf1hg158cMxRqHN64fLosfvLCvznmB2V5hSYo5NQrYvG21/U4S/7zqKkzoukWCuiYxJhkXWXZAmyDMsiPMszNS7xn8fpgKPqLNLiXJh8bWurDSzBtEwLigt+jZ3HgcypSxBYrmqJXY4taslp0ftbsHy6OgFTsfw1taR2byG236gJ142qTailr9uaqyCRhaUb3kXBXvX59hZgS4OqEBb0fiYPher0d1+Yj6YjvR0VW/OQt2EF5ucfFsOxSBosx69AnnhswYu+cl5fVYctWH9hWwKfM8CJYhSLg4mJCzXPfO9cTEwSBxkBF4lm3vss8t73b0shCrauQU6DYB2HcWJ7/dPzVqrPe8ca8bhC33jRFe5Yj/nq4xqv77vIvTtb817Ur39r5hVri0Xrt194bQt35GKp/70eMB/rd6jrIx+TyXrvRNT1REdHY9iwYeoQ0LdvX2VYduPHj1fHXhrtrpfbhbR7W9mU26URwte13Uvqm2jGpKuzYDAYlDrDBoNRHFmZlMBrFYHXEhmBurPV+PLAUTz/h9ewe98hvPrPj7Bn33FE2W2oszmRnByHwSOHIyIiGiIWK/V7dGJZ8vMnS5aPn4vH7sNOfFYxCOOmfAUJKS0vSU57dBrGRhajcMvrWJtfJILQWNyslLLWS7tmKopfeAgPPbMdxZGZyHn8WWSL8Tf/diVyLhfhesdaPPTjdSiKShYRtL0GI9m+GxufWoiF31uHwppYZN72Q03VjzRMHF6E1T9ei+0ngKTJd2H5HHVSUy7PwbMThwBlIoBuUMcFih2MwadzldLmIvmcN90rDh2aYBfhURxMDBlffzCxZFomLMd3YnelOkK6aT2eWzwTaVXbsXbZQ1ixSby+w7Kx9NdL60N9rAjars3q81ow5EZ1W5MtqNqxDou/txCPbSuGJXUq7npYvuoq//rK9wRJyHpwDa5352GFZv0vVAJp4bw3//Y5LJkai6JNj2H+g7k4EpOF+Q+vEduYJtZ5Caam2lEoDjYeeioP9j5JvmUTEXUB48aNw1133YVbbrkF11xzjRKMpVmzZinDshs9ejRGjhypjKeu76r4TLWPLoV2B+RrxsgrVj1KONYbDTCITifCcq9IK6aN6IPYCBPOnK9BSa0O4y/rj/FpscjoHYuJmQNR49IjUoTp9MQojHKehL6sTIRrPQwiFMvAbTJaYDTFwdNnMs71/xY8/aZAb7Vg1NVX+568WWlYOFl8gIrysfZ9oPiPu1HkTkPWPE0QE4rfXo7Fz+Uh77nF2FgoEmCfwZiIHGSPFSHpRD6W37cOeVtFmHt1N7T5sG024qG7F2Pthnzkv70WbxWJJRrMqL/utxj5Kx/CRvl8BbJU2Axzsm9KY0MwV5Z4vrYcM2MOI+/FX+N1dUojlSKUy+0QAfDv8jkjk5DWoKRXq0I9mBAB8iYxOGA5pokDhaL8tWJKvZzZY0UcFev7s8VYtzUPG1fehtfFwyzDs8Srp6otxMY719Y/ryEGyfJ5n16M2x5fh+1v5+P1B3dC2dJIzYb611e8JzuPyRGH8e+lK7DxwvrHIFWZUWjRvOr7eeQtEdZfx85tq33TBmRiNhZiaqYF9k824jYRquW6PvRusbJoIqJwJkuMZQiWAfngwYN499138Yc//AGnTp1Spr/66qs4evSo0i85HLL5qJ5l8My78P3vfwdTEsXAlAV47BersORm37Suql9EEv5w5SPK30tuwMN4f8bL+NsIdbhVpuFn45/C85eNUYe7jnYFZLMRSO8TCZdXr7RlLJKx0r6xTm9ApMeJb105EGkpCfj6pCH4wQ0ZuOHKQUpzfwMSopE1IAo/mJmJb04ajkG945EQZYDRXgeTQd5xRw+9R57C8MIj+r3mSMQNGAFTXB84dSYMG58Fs7UFF+xNXoIsWeUgMwfbZZB8MweZ4vmTRn0d2u+GvXan2qeVieR4kb2Kd+PCVJf6t10ykbNqE7a/X4jCwiIsnRhYJm1HhQjz9WKRrFSbCEatg7xsLTYfT0b2g5uw5eGmK2Q0FIukC1VJGite+RYKa5Mwds58ZC2eKta6CDtXNgyNmX3EulcWY7dmfUsrZQjWBH6XLeCgwve8abOXYv3Wd1HwkXgd9s4VUb8ZlaU4clztb07QeX3vJwbP9X0WRHfhtZ+XBhnNS4/VH14Uu3g3RyIKf/7S4jfeeEMJxzIka8ngPHDgwAYhOSzc/ABWiqB6oXtyJR57eAlumdRPnaEZX7kLDz++HHdNUYcvIiYlFf36pmJAk4VCPUTkDKya8Bu8f93L+FQEXtm9PWaGOjFE+t6NV6e9oAnT/ZAZ2w9jY9uUrjtVuwJyWv9U1CbMhMcYAadIjyLOik6nhOSayBh4zGZ4XE6kp6YhMSEeZRVVKK0z4kSFF9U2N5Li45QL+FxurxKydckpsHs8Yinin1cszeOF2xe94TYa4DLo4JVVL8Tyh17e37cSF5E9Lwtp7sPYrIRItdtyWCTkiZh7rzqTYDHWh8pYq//K1CMi7InhviPqqwsEqZNf/9hkxEWpvReR9fSzWD5nMKq2rcZDC2didUHD+Ng6ah3kreuw/Ftv4TAsSM2YqU5rr3XY/GEZYkfdjMcmpsFe+BYCL/krOi1foDSM01RZSY4VobO2CmXqcHCLsOaJ+ZgauRu5P1uM2y7frJQgX1q+9xNFGzEzMxOZF7psLM8vU0J8bEr9a5dm7DlXYxNR1yTrFfvDsb/EWEuGZzmPDM27du1Sx4YTG47nv4JXt/4LH352DFXmfhgz5/tYcnOGOv0i4uMRE9GyC+U+2bACjz72FDbuVkf0SMl4cNRt+FqsCaWlW/HzfS/juVOHcCLUd2g2JSPNpC3A3IRb/nU7xv93kzrcdbQrIA+6fDzMienwiMDqVkp7vcqFdUrl4YgoOAZdjePllSg5cwpfHDsKQ2Qv7DxwAvkHz+Cjk3Uoq7KhuKwKZytrkXzVNfBYrcpDXfJe52I5eqUpC0DeY0ZWhxfRWOnRi3/pw5o7yrwZXx+VBBzbjfVKiFS79buVIJl5dX0zZmnXrMHyednIeXQTcsZYYC/Kx3rkoui4HRgwE+tWLRJhezk23ZlVXwf57WKUij9p16zAkjk5WP7K15XS6eYMjvctwV5bCcuw+bh++IUltoEFcXOykT1nEVa8dj2GiMB8Yv92dVr7vb7tM5RFDsGQpDIUbFmnjq23cVuhCMJpmPqTZ7FIrId8/W7OBCpFmF6rzhNcKmIixR+3XQTTWEz7jawFfKnlIl9WqRCBWHk/5freL97lZ3KA4++IsC8C8vi7kPtoDrIXPIvcGy79GhERtYcsHZbBuLlwLEuWq6urlaoXgSXMnc1ZtRuffPAm/rLxOaz93204XGNE71HX4Vplaj9ce+fD+OmTvlLmny5dgFmy2q0sfR7fW/RYMWS2mPb4AkzBVNxy/88uzLvypw/j9qkJylKm3PMzMe4BfFMZ0srA1xcur3/M49/HLHVK9zMeGREiuNZ+gu/t2YxNp3bgN/uewLxPd/gmR07Cj8f/Bh/6S5ev/SWeHxakWkSj6haz8Py1Yv5Jd/umDR+hnEEe3E8u5yn8DHfjb2L+969UX9mLPY+67P+78gH833Tf9A+vfgB3yLzQCdoVkJPEkatblvTKTifSoUi3sgRZDInxbpxJHIZzEWk4W2vHmVonPtx/Gn10UZgzNBUl5VUoOlOBsho7qg1RiBo5RXksvB7xvw2RnkrxIp+FQYQoGZT1MjTL5Ys/XvFfSmovdS2aoLS6ABQf2IYGFQOOb8OREyJaymbM1Obyig/YcP3DMiSPheVEPtb+cLXymNUPrEW+mHfInCVY8/D1QGFRfXWB48uRu+0w7LFZWLRqOa637YasvtycjRvyUHQuFmMXrMGa+8ah8kQLHtSkNMxcJZazagnmDgMOb12NxU+FsO7s1lyl5Q8c34ncLb5RDWxZiEdf2InSXjOxRKzH8tsyUVmQi4fuzlVnaMp6vC4OMOyp2Vi+6kncbPAdbFxquY+vwMa94lWbLd5Pub53jIW15IiYkofFT2xEUWUSssSB0JqFg1FUwDrIRBTeZP1jGXwD+Vuu8IdjP/+Fe2GrPB//PnJO/ED3xuBJwJW3342Zl0XgVMFmvPBKPkqtQzBl9m0YvHMbXv1UNqmklkD/5V/YJxKDsfZT/PvPuXhpSyHOGuNx2ZRv4GI1X+Nvno2sgVaUfrQZL728GR+KRV6CW5KFxIoR323Q3TvIF/flX+347w3+ZhP1kt/Au5W1SkB9Lete3BGvvbhJli7fg9t6mbC/+GUs27cZOxy9MDH9Hvy2hTVeFGVb8fixQ6gSvSdKfieWswmv+KaoWvY8qdFRyD/0O/zmTCksEWNw25DOqZ6hy8jIkDUY2uSehx9BlNWiXJQnS4cdHg+qXC549XoY9S7EWqPh/uIz9NrzZ1hFyO0TGYNIewwq3AYUlYsAYtXhYEkl3GmZyMieD5fVKPKxB0k6FyJFyHa5HagTz+P1eGHzuEUXBYfXBbf4F4Xd+M3DDV96IiKinkCGY9liRbB6x3KavB1yYMmybOWiqeoYodC7tyzVbSGlFDgWh7f9BH94Tx0nXRj/JnDtjRhS8188/cxmyDgsS4JnDanEh4/8En9p6vGqb96/CuNjDuONJ54TYUXzOHmR3uwhqPpwGf5uehh3j4nB2X1v4i9v5ONIufrgFjpz5oza13rG31yl9rWMDL59rfXBN1WEYNmKxX/PFeFEXcNKjcs/+73aFygdt428F/f16YcYHVBVuQNP7n0Z/6iVpbzTkFqxFeP/u9k3a98H8PZIcXhR+jtMPzdNKRkuPXk7bqz2lRIr/Z/JGWUJ8m2YaH8Hoz544UIpcv1037KTz23C5I/6teh5Kk89gK/uk8Vm2se+4Zu/BVz3/Vfta592lSCbo2S7xbLOgwHywjqdV6kEoZQgy9rIblkg3HsgPjtnQEmVAy6LHsf11TjmLIc11oTjZ2vwRXmNeLwFLpsNRhHVYyvLEVtVAwsM0FfYxdGcCVa9ERF6t9I2sk4ngrMIyIbodq06ERFRlyVLjmUnw3AgOT4wBMsSZamqSpbvha8xUfJ8eh1sp0WIk9f19L4KD6oX8s0acpHy3cRxmHXnA3j48ZX46RMiHLcgqx955a/YWexCwsjZuPv+lXjg9qkI1/vb/fbIX5Tg6+8eU0Ow/KsdL7umHcOmfQ9j8n9fwKZzpTDHzsATo25D6oBkyPLkstp3fLNJp84rZ8wtxmbO1rdGC5/H7m14TjnG3Jpi7NBpZ8rUiRBsgFfeGESNxpKIxkpA9shR1ihETL8Te8/r8N6B0zhcfg5Hys4i/0AJPjp+HvaI3kgaeQ02vvArmM+VINJigd2gR43LBq/BiwinCOIOD0znaxF/aB8SbWdhcVeKZ+t5TdUQERH5ybDrD77NGTp0qPI3WJWMsJF4A7IGi8Bffgw7D51BlTyFfPIDPP3IMjx6ofsl/uKbu4Fr587FlKEmHM/fjI3rl+HDFhXu7sff//cnePR/NmPnKRGUM6/DNyepk7qzynfw848ewCuVTlhixmDB8VKlmmNS5DTfdKlvL+Waq0qH0nZqIxadv4qGmK8F118p2vA8naldAbmurhp6twjFHo9ya2gZiOUFkUpdYkEnRrgNOlhS05By+US8e/Ac8j4qxvsHS1FUXAFT/1GY8O0HcL7WgZOHvsC2La/C6XLiZMkhnPnyU5yq2AtHXSXKK47C6HTDLJYZcbQEUZ4KeGrC+yiYiIjoUiosLFRKkOUFeRcj6x7Lbvfu8GvGwRQzDmMm3YBv5nwfDyz5Cgboz+DDbZtwBPk4cNIG9BuH27/1FYwZNw5ZN9yFu3LUZpNsst1VK+IHTsbIwQmIt/patJAtdEYM+w4Gt6AoeMqdD2Dh16/CYEuVCOMhacc1jM3Cbyc9hedH3Y4FfSdhQebjmB1tAuwnUYCteLdKhOW4Gdhw2Qx8re8cPDNoBJI8YtoJpZ5EvTJfyE1Nuhv39Z2BH181GZm+yOfjdEI2kpoafTu+lpzuG3dBK54nDLQrIFecPesLwyIcy+bY5OV1SjNvXhGT1Yv3ZID2iuErJ0zC1CG9MDBGD6s1Bpddn4OrbloIGIzY/c5W9EmIQUXJMfz9zy+h7FQpIvQJImDr4Tl5FFXnj+Ok7SiO4QRsA/pC59Sj5FAnXdZIREQUBmQ1Chl6ZfiVLVoEI0uY5Y1E/POGFysGTL0Vt8z5CsZn9IappBB/X/9L/KXIN/W9v8gqEED8mBtwyy234utXp8NUoRYN79yNw1VAwsgbkZMzF1W7P8dZVzzGzLkV35xgwrkWXP9eVQMkT5yLu787HzMHG3Hm03/iLx+oE7uIkwH1j5t2HqWeXhjbewbuk/WQ+6XDYv8ML+1/Fv8QkffpTzfhH9VARtrtWDVyLmaYSvGPA7/ET86qD/erfQEvnT4Ju3EEFoy8HTM9B/GJ9tji1A7kV4sQHDsDq8bci5+po31a8TxhoF0X6U258RsYdcUV0BvNMETEwOlxo9blgsvrhMGgR5QlEkaPQRzo1SJ7xDCUfb4T5/Z8gMFfuxtnxYHhmUobtue9iv2F7yLCbEZtdY3SZBy8OpgtJvQfOghXjL8cVee+RJwxBbWeKsT1HQbzqSocfjMfrxV/oa4JERFRzyNLkGUIlgHZX/f49OnTF8bLv3Kcv6m3S6lVF+l1Ax15kV4wsrWKlgfkniNUF+kZkpKSfqr2t5rRYsbAjAx45UV6JjNcHpcSkmXLxXqdDkadHtXnymCtqkTRnoN46fXDQNwIVNfYMXBgb+icVXjzr5tgs9tQWVkLp8vtu1U1vHC7PThffg6HDhajstoLIyKhN3kREZ2AqMQE/OvAXpSVnfetCBERUQ8kbx0tA7FsyaJPnz5IT09XOtmKhbRv3z4lHHfELaajolpwt6xupKamRu1rPf3XUtW+tqty1ap9pOV546Ta1z7tKkE2WSz49kNLYTBbYY6Og8Nlh93lFPHWCDgdKP18N778/CAmjBuPd975EBHxM2D11uLcueOYe9NIlJ48jHf+/ZYIwy5U1DgQYZa3mfbCI+s0i38iIwtexMovnV6PGpsD10y/BtFRDvzpj/+G0ynD+MVNyHkQ09P9V77acOyfT+OVNt1QKAu33j8WFc+sg6+xkWzc88hYyFu7w3YUbz+zAcEXKx83A75VKMOeX6iPn70Iy0b7mmyxHduBtRvlDa2DLbOJxwcSy1sSV+hbzoR5WHLdwAbtOZbveRLPb1MHmn2e9rxORETUmWSpcWdcjJecnCx+w7UVUrsveT+G0tKGrS20hvFXV4oQxda4Qs7pgetHH6kD7dOuEmSP2w1rbBwS+6VCb7Yo7Ra73XacKz6OIwUfoOSLo9B5vDj8+QH87MdLcPhIOew1Ffjh4hnomxyFVzf9EQYRiM9W1MAl5rOa9TDKNpVl03GCQa8Tne9W09U1NjicTpScPimOhO04fly2inhxSjiO3o9Va5/Hf97LF10Csm7/ClLe+xCH1Hm05PyzBryPjwNvNCTD7NzL0ctYixL/Y2dPwPC9/4P1f86Hc/D1GB3scdKEa3G5Tcz3B/H8ceMx+yojCj5Nw63ZfXB8za/w4nuxGJU93LdOwZYZH+zx2ptYyGB7J2anRsJVccQ37cQeFCjbK7tYZF5lw56X9+CE+ojg616MvTvVxzgG47qxA1Dw0QH1AURE1FV0RGlxMBaLRfx+t7RJg67N5XLBZrOpQ62nGxUPXS/Z9ACFkre4Ft73237gotXuw5eigp1wez0iGLvhFB+YkqL9+Pzdd1BddgZOW61yNDn5qjHiaNaNuMg4DB7SD+l9E7D9zX/ALoKuXaR9m82BuCizUi1Dr9eLUGwQf2Wbx4BVfOFkG8tmk1F0ZpSfr8Vn+1rSyHk2RqecxtvP5anDUh6e3wMMz8lShmYteAzLHpHdg7j1vkVKSXPiaDG8IFuZfsG2dVj1ix04pv0ubNvQshLWXWK+CyW3qglDkVJTrJYE52HPsWikzha9wZYZ7PEN7MQrzzyJVXuC10OakJOG6v/4Srfl9i6R297cuidHiyMS1msiIqKWs9tl+wU9Q3u31bun+UI+ar1Qvq7tDsgVpaXY+5/3lNMNx3d/iKOic9RWweW0wSACrdPpwIgxY3G61KWUDNvsdaisOo+ion0wmU04e74KvZPjYTabYbFalZBsECFZliGbLGY43ED5uUqcKa9ArTgqtttcqKpq4Qez5nwT1R58pcXDq3eI4CvC5S+exiu/WYe3RQKWVRFWNQjVzZgwD5Oi92uqLzQlG/cMr8YHSlWKZgRdZisef4E8SKjGEfVFeOO5J9WqHKrA55El5fKAIbW44XxERETNqKurU6pIdndyG+W2tofnnRKg0qkOUUiI11N5XUMkJBVgdm9/Cye/OIgTn32KqvLT4p13icDshsfrgc7twqD0/qg4V4uYiEgMT0/CRx9/hJrqSjgcLiT2iobZqIPJoFduymc06pUqFbIk2VbnRFVFFaxWM5ITY2DSixk8rVjlqF6YoPYGSowGSg61LwTKkL3sauCD5gK1EjzTcKLJesr1gi6zFY9vYHYacCD4Y4I+j1JSLg4QTqRh2f3zmnztiIiIAsmCsnC/U18oyG2U29oudg/cfw6/m2N0ZcrrKV7XUAlZDfH/vPYKqs+Wwu10KHWH3S6XWLgbCXFRiLBaYLd7UVdbg+TkSLwpArVbb0BNnQ16kwjHFrNSdwk6EY7lLatFWHY4PaJfh/jEXsqVsTa7C1XVrWnIOw97Svpgura6hLx4bbTIjBt3orwaSBnqq2rRJiK0TsJ7WNVcaJXPmVosgqfm4rpd51GTmIZZykAWBqdU44QsxQ22zGCPb6FZqfAtN1Bz676tGK28JT0REZFS9aCioqJbliTLbZLbFqqqJLI6gPv3h1iS3F7i9ZOvY6irrbSrFYtAJpMe8b2ssETGKEdXMvQOHZCO733/B3ju97sQE9ULsXGn8M+3X4fDVge9zovICKuYVx55euBwOOEV4drlBirOVyEqOgpOh11p/k1kaThFaG4tWe92tNJcg6RtBSJIqw1QW38oLwxSzULOX9+KRcPlCspjgHsWAM9rHitLautb0RD8rUbIUmG1FQt/CxPBlvl2dUbwx6uDF4jlXWjFQpGNe+7vhT2aeeXyZbWSA9Ezgq+7v2ULtmJBRETtIK8/ioiIUHKA0ShbqPJdfN/VyCwjL8iToVhWq2h3yXEwFj3001KgGx0PXb8Itm7RErIQ9aR4P0QoVqpVhLDk2C+kAVmSVSTiE6JhtVqUL8fAfv3wtW/Mw183f47kpAQc/fINnCk9jNrKSiQmxcHt8sAtjspstXYRjN0wmIwiEHtQXV0LvdcNc0SkUnLslre0DncipN6DdS2oj0xERERE4SrkhykuEW5Lz1SioqJa9NuUUxKnTpaLwzBZgd+OkjPH4XY6ERsbBa/LjZpa301C9CaTUlIs6yXXiLBsU6pfROB8hbNrhGNpG8MxERERUVd3ycrxKyvq8OXxchwvPoWzZ88ppybOlh+Ey1ktplXBK4Jzjd0Jm+jkXfNsIjwbzWZfabLNJdbMiuqa1tQ5JiIiIiJqv5BXsQjGaDQhPm4gvKiEy30ecNqVEmRZYlxT5xChWN49D+KvTqlnfCmq+BARERERtUSHBGQiIiIioq6Cl0oSEREREWkwIBMRERERaTAgExERERFpMCATEREREWkwIBMRERERaTAgExERERFpMCATEREREWkwIBMRERERaTAgExERERFpMCATEREREWkwIBMRERERaTAgExERERFpMCATEREREWnoMjIyvGp/6OgM8Jhj4TFFwmuwihhukCN90zqd2FyPGzq3DXpnLfSOSjHKrU4jIiIiop4u5AHZHZEEjzVB9IVLIG6OF3rbWRjqytRhIiIiIurJQlbFwmswwxWTLsJxohjqKuFY0inrLNddbgMRERER9WwhCchKOI7uD6/Rqo7peuS6K9vAkExERETUo4UkILsj+4olGdWhLkxsg7ItRERERNRjtTsgyzrHXbnkOJDcFrlNRERERNQztS8gy9YqlAvyuhdlm8S2EREREVHP066ALJtya/EFeXFP4Nzsv+KU2pVe+z9wxKSoE4NIfALnpz4BjzJwI+q+8ldUD1AGOoBO3TYiIiIi6mnaF5BNkWpfC9XtQcq2b6DvW7mIcaehfNwCNQAHEZWAuk6s1tzqbSMiIiKibqFd7SA744YoF7a1iCxBvlL8+dfjSir3jPwTSgbaEVOVAFv135D0ca4YOwO2aT+AvfYcanvHKw8DatDrvVeBK+fDWXEEnt6DUadzIGbvKkQf/wiwzEfdFbNQlWCG2+tA1JdvIObTXOjk803pD/NJM2r6RcHrKEZ8/g9gtquLbY7HBVPFYXWAiIiIiHqK9tVBVu6Q1wamb8OeHAX92b2I/LIE7sQMKPeyi5gER/Q5WPfOR99Pi9US528jokJ5FBymYsT+30KkHKxB1bAbxWNGw3HFjajx7kTSP76BvgX74el/I6oHjfY9ACIYn12P3v/4FXrVpKFm6I3q+BZo67YRERERUZfWvoDcWhGjUSLrIF//LVTjCBI+/hX0xZ8j0pQGRxzg7ZuGurOfwlynzh/AelLM7y2B/syXsFoTRECeCkeCf7yYoXwzIs8D9vgrfQ/AGZiP5YsF58NUUQNbdH91PBERERFRcO0LyB6l3Lfl/HWQRZf87x/BJKs7OP8ES3kUnCk3wtknBZGnd7TjPnwlYp3U3vZq7bYRERERUbfQroCsc9vUvvYogfnLI3D0/QZsvYphObpHHS8YouG5aFreD1MVYOv3I998id9HbYIDEaf+4ZvcDqHZNiIiIiLqatoVkPXOWrWvnU5+ighrPBwle2D2XzJ4aj9iMRilX/sTbDHquEZ2wFLwD0Rap4r5/opTEzOgP/QnRJ0qUae3Xci2jYiIiIi6lHa1YiFvpuHsNUT2+IbbSrZ5PHE0TIULEXWy/eG2/bwwnT8s/rCaBREREVFP0746yCJA6m1n1YG2cUxUS36//BsiwyIcixdFbhPDMREREVGP1L4SZJUrJh1eo1Ud6tp0LhuMVcfUISIiIiLqaULSzJuh9pRyY40uT2yDsi1ERERE1GOFJCDr3A4Yq79USl+7KqXkWG6D2BYiIiIi6rlCEpAlJSRXHYPeVi6G2l1rowN5lXWW685wTEREREQhqYPciM4AjzkWHlMkvAariOHyts3tbOkiZMTmetxKO8eyKTe9o5IX5BERERHRBZcmIBMRERERdVEhq2JBRERERNQdMCATEREREWkwIBMRERERaTAgExERERFpMCATEREREWkwIBMRERERaTAgExERERFpMCATEREREWkwIBMRERERaTAgExERERFpMCATEREREWkwIBMRERERaTAgExERERFpMCATEREREWkwIBMRERERaTAgExERERFpMCATEREREWkwIBMRERERaTAgExERERFpdOmA7LbEwxk3BF5jpDqGiIiIiKh9umxAdluT4Ow1TPxNhD3xchGSI9QpRERERERt12UDsiuqr9rn44rso/YREREREbVdlw3IgSXGHku82kd0aThjB8KefAXcEb3VMURERNQddZuL9PSO82ofUeg5Y9KVYOzVG5Wg7DHHqVOIiLq3KEMchkeNVzrZT9QTdNmArHPb1T6iS88d2bDU2B2RrPYREXVfOhET0iNGwKgzKZ3sl+M6S7SxF/pHXqYOEV063aYEuSk8HU6hoVP/qjwutYeIqPuKMESrffWCjesIo+KmYM3ot/DjjD8iu+8CdSzRpdFtA7JXb1Jat5Cnwx2ylQsxTERERF3THek/VfuA2X3vwdDoseoQUeh124Dsik670D6yR/x1Racq/URtoWOJMRFRp4kzJSPKGKsO+aRY09U+otDrtgHZbU1Q+3xke8lEnUW2uiJvahP4uSQiIqLw033rIOsMao+P3lmj9hF1LK/BAnviKOUgzRk3lBf4ERERhbluG5D1jiq1j6hzBd7ExhXVT+0jIiKicNR9S5CJwoWuYQsYskSZiIiIwhcDMhERERGRBgNymPJYeql91N3oPE61r55saeViTRF6DVaWPBMREXUQBuRwozPAEZ8JR6/h4i/vFtQTuKJSlba67cnjxIFRvDq2njsyBfak0aIbwwv8iIiIOgADcphxxvSHxxyj9HvMcXBF91f6qXvymGIatNHtiBus9vnIUmNnTH1bn87YQbzpDRFRGIg0xKCXiXfr7a7COiB7LDIgpgG6npPjA9trDtZ+sz80eUxR6pieQqeUtgYrZQ0FuVy5fPk8HcVrtKp9Kp2hQVUKWbUiULBxF2PrOxnnx/1IHHA1bGSfiIjaJt6UgoERl6OfZQjSrMPVsdSdhG3ydEf0hqPXZUqTWI6EESI4dFxo6Ux6V53a56NzNxyW4Ug51R6ZIl6XkUopc0/hSMhUSlsdvYY1ajqtveTylOXK5Yvn6S5qBt+IM9e9gMqR30XJDX/qgQdVREShl2KuP7MXa0xEnDFJHaLuImwDsva0s3Kr6BAHoq7KFdVX7fPpKbfQlgcEHlO0OiS3O038H6qDJp26PB/5PPL5uoOKMYvVPig3KakacZc6REThzqS3INU6DL3NA9QxFA70OoPSaRl0rPrW3YRtQG5UzzLgw9jZ5KlxeSGdvH2wV29Ux7acK2ZA20qAA14HbWjsCuSBTlsuNvMGvv+y2k2ozirI5QRU42n0fF1U4E1JPMbWlyDLszm+sxY8SCXqKDrxb4A1UymZTDKnKqfyiajjhG1ADneOuOFKU2z+2we3hqw/LIOiPN0tW6rwGiPUKa2nC6iSEc5k0JIHBkod6thB4rVLUKfQpdLeW6wrn+/Ygb73TLx38j0koksvzpQMi77+t0FeDGbUmdUhIrrUwjgge9W/4cdtiW9wcZW8+ElWAwnUVGsDgafvg12Idym1pcQ7FFyB282wFfYC3yNXJN8zIiLq/liCfAnIag+23uOVdm3DrS6rrNpgT75CrN9VHd6qgc7rUftUgcMUhhq+R43eQyIiom6IAfkScPYadqFOazg1xyarcsiqDQqdTmm1gYiIiIgaYkAOMa/B3KhqhbcNF0ZdCo2qgegM7ar/TN2DrF+sXMzXg9obJyIiuhj+IhL1YLI6kGyhQjZzZ08Y2WS9eSIiop6EAZmoB9O2/yzPJgQ2C0dERNQTMSAT9WCNSoxZgkxERMSATK2k0ykX+snbMYf64kPZfJ49cVSDUs2uQmkdRFZV6IybaegMcMYNbneb2m0hb3Qjb3gj27duLdncoLzRjrzhjrbZRCIios7GgEytIm+KIsOgxxSjBKNQ3eFQLk+2/uE/zd+VQrK84Yk8aFAuduuEm2k45HtiTfKFVRE2Q3aHwWbI90qGcnmgJA8MZIstraF8lqyJyg135I13iIiIwkWPDshew8VLrWSLFD2SchvnxsFXBkBZyqsV7G54bSnFDLxZSuBNRVqquYvMLsVFaI1vptFxbV/L19pjqb9due896pg7FAa+Z61p89trjGzQDrcsQQ78bPldyu+hXA8iIqJAPTYgu6L7w540Go6EEUqoCOSK7Cumj4Wt95Uhr0oQzmRIkTc5kdvd2jv8yfDpiM9UqknI2xK3h87b+jspyqAqb84S7CYocliOV27eEuoS3oCbZ/BmGqEhv3fycyi/h/L7GGryFtr2xMuVUvBQnQmh7iHCEA09PxPUhUQZ6gtKKDR6ZECWpZ6uKN8PrmzmKvDUsDzd74rp7xtQ6ncO9fVfRMec1L7E5LZqbh4i64e2psTVJW+KYo5R+t2RfZSqGB1FlqTKwKMIchMUZViteiDna0spN4VOSw5/lO+dGlLk91F+L0PFHdn7woGSrJrS2uoh1H31Ng/AoIhRyIiawNBBYc+ij8CQyLFIjxiBftbmswq1XKcHZFn/MNhp+kvJK0KxVmBpo9fU8LSrLGGWFxR1JfJ0d2tPHze6kYjQmmX4w7FfR5a8B70JilqFRvkbUBoUbFvp0nBHyPrRrbutufy+BZ7ZCfxetoc8MNYK/OxSzxRt6IUkc6o6BAYOCnsploFKSJZ6GZMRb+q4Kn7dXacGZFdUqnJRkSwpam0JTrBqEeQjW5iQr6c8fexpol4ntU4oD5AuRT3ocCXPQjhjZQsbGa2qo0zUGcxq0PAz6cysakFhzapvWBBl0bPwJ1Q6LSDLgOuKrj9Slz+eDU+htq/SQqPSzFaWYHWWwJKt5gRWFZBVR7SvozNarSpCPVJn1p+X9dm19diVg+AQhw3Zaog8yA5WX15+F+Q0f3Wq1pLLVA7glfVuuD+S31NZbUephtTFm6hLNPVDf2tGg5LTztDL1FtZjxQzq7sQdUVyHyK/w3Kf0h10XkDWBSmRa0Upnc7jVPv8Gm6K3lmj9vnondVqXxAd1CxWS+hctWqfX8Pt8soWJjR0brvapwoonfQaOrC0MmDdAgWu+8Xm94bRe6LwutUelXbdA7aj8XY2DIW6wGVdQjq3Q+3zaVRlprl1b+bzd1FBSsq9+tAFZHnmSTYvJ6tpyaCqPVviayqwvzJN/m32DoEB2yVbBvEts5dy8K69DkG5GDVhhPJ8MkTbEy5Xp3Q9ieZ+SLGkI8YYr9S9TTZ3TvOKscZE9LMMUdZDrlM/C6s2ELWErvNiXANy3yH3IfI7LPcp8nvc1XXaK6t31UDvqFSHxJvsqoPefk4dAgy1JWqfj8F2Vu3zaTS9rlTt8zHUBUyvPaP2iee2lat9PsaAZekDn0vMr/O41CExLNZT57KpQ2J+sR3+YCsDSeC66u3NrLtmfYya9ZQMdQ2HjYHb2WjdA7et/vEGsR7aQK23Vyivu5/eWdXgQEIvtknvqFCH5LbZlW3X0m6rofa02uej3S4p8HXWbluz8wZMV95vTWsRgeult58X6+t7j+RfOazVYH6xnEafn2bXvX7+Ru/RRbZT0r5OjT7X8rOlfY/E6y/fBz/5/sj3yc/3vQl8j+qXGfP5H9U+n+hDr6l9PoGfn0afr0bb1vR71uizGPi5F9vqD+y+z5b2+29r8J7I71vg8gO/l4Elt9pqMIHVWLz6hk3FGeouvu6Bj/dom4QMDP4iXHe1axT8jLqGr0vgcEcx6hq+pmZ955TKV7oafi4qXKXwdOABrVaVq+HnXa6by9vwgLcj1LorUeeu/12Q/XJcR6twluLjc/9Uh3x2n/uX2tex5GdCfja0Aj87HeWc85Ta51PhKlP7Ola47EtCSZeRkdH69rSIiIiIiLqp8CibJyIiIiIKEwzIREREREQaDMhERERERBoMyEREREREGgzIREREREQaDMhERERERBps5o2IwpozdiBqB82Bre9k3807Wnm3yVCRbVCbKg7Deup9RH6xFabKo+oUIqLwl2JNx4SEWciMmYC+1kGwGjrvTqs2dw1O2b5AUdUu7Dr7Bkpsx9Qp4YMBmYjC1rnxP0ZVxnfUofASs/+PiP/w5+oQEVH4+lbaj/CV3reqQ+HnX2dewWvFv1KHwgMDMhGFHXdEb5RNexb2pDHqmPBkKfsESe8sbnTHQSKicBBnSsLCwasxKCr8b4n/Rc1erD+yFBXOzrkbYCDWQSaisNMVwrEk11GuKxFROOoq4ViS6ynXN1wwIBNRWJHVKrpCOPaT6yrXmYgonMhqFV0lHPvJ9ZXrHQ4YkNsg+4ktKCgsQlGR6PYWYvtv5yNNTrgjFwVyXGBXkIv5mIqlL25HwV51XGEBtjw6VVkeEfnIC/KC1Tm+4Tpg3wNAzaOiewQ4eZcYp05DPPArMaxME93JRcBCMa4jyXWW605tlYacZ7aj8H25rwxi8grkyX2nsi9tLO3uZ5H3vrpv3VuAvFU5vn1yoJV56n55O9ZMVsddsAibPvItI2+lHJ6P3AJ1mWpXuCMXS6crMxOFNXlBXrA6x9YZVkxYF4Nr/+Trpvw6Av1T1IkpJgxbEY2pL/umTRXT0ger0zqQXG+5/p2t0wLyrAWPYdkj/u5B3DpBndBqWbj1/kWYpQ7J5S7JyVKHLo1YSwUKXlqBh5atxeYDdqRNX4I194oJb6/HY8seEuPV7qntKHYDlUX5yMVMTM20o+AF8biVG7GzKhaZ85YH2UkTdZZs3HPhOym6++ehLV/LCTkP4p7Z6kArydYqgrlxCGA/BvxoK7D+SyCurwjF3/BNWyyea6EY/vf7Yvp/xYhE4Odf903z2+YP15ru46/5pi0UT3lShG457oj6e7I4ByhfJjrxuFx/YbZ4MfYtAKapg4GaWvdLbsI8LGliH6rsZxdkq0PhKUuE2y3v5mH5V9NgMagjG0jDksVfx5Cg06SlePa+mRiCnVgn9rvrPgSGzFnq2yc3KQ1Zd9ys9vukPXo9xlrUAa3j25X9+YoNO1HVJwvzH14jfnWILi40GUfsk9u6H07wp6KGkscboD/pxBe/s+GL9zzQJxsxaKFZmZa+0IpUEYird9hw8E03XL3EtHutsgxCw4Irfq8GbBGkJ3zfpI73M2Lkr8W030eivxy8QgRyMf/UF0UYf9wCqzKPAZc9FYUxwVdR0dT6d6ROLEG24dg/n8SqX4huTzXSr27bhyDQG889ibUbd6pDl8bGZfOx+JmNyNu6Dsv/9hkqxQcmRhZXHN+J7VvzxHhflzZzqtgNFyHv8VwxcT0WfSvb97gNKzA//7AYF4ukYXKJDc1/sUAp4cj97XYUylKTvYXIW5mN+f7hIk2p9YD5eHabnF8t4XjzWfGVImoj21G8Lb+TottTMxCj2xh020o25RbM6tfEfnaz+BZ9KkLwBuBzMS5ebe3tVrEXtp0AZr8tpr8F/LUcsKYAP/FNVsz+JRC10tfdVCRGOIC/fSDCrgjJPx8F7BbheqSYNl+Mk+5MBZ5dJeb9ArhBTJe2iB3ULvEc7/gGG2lq3TtCjQ1IGRoY27KRKg4Wwl3m5HFIPbcdO4+rIwKk3b0COZfbUVmrjgg0LxOpItgWv7sca8V+d+3T+SgW++S0sQ0DcL1KFJ+wI2ms2KeqY2RBy5KpmcC5MjE1gKtC2Z9vXDkf/5YtUcUkoRMK1ajLCcg44vPWkWRTbsGU5tZh5xNi3d5z4tjvnKgQ3yt9jIyCZvSSifaYEx+/7MSJl2vx5UEv0M+APv4SZoUbpzbU4N/frkHRBx5ETjSJg9N61nlmJCarA0Lq9UboP61F/p0O1KYbIcuFrfMsSKxy4vM3fPME09T6d6TwqGKxrRjl1mhZ8CN+yRY1KH2atUA98hLjl+TMqy/hUkpFZOnxDKRbkzBajJOPm5CzSD1S85Us35rzYP38SklL4NGcnE9d5iP1JdEtcvnNWJ49ArH2w9i9TR3nN3kNbr7SgrL//AkrlB1/MYov/ACkYckQGW9LUSx+cINLw4iEfKx+aiOKaiwYctMa8ZgirPvxWmw/IXb+03OwRPwez39iEWYOdiD/mYVY+L11KBB7d81nk6iNshAXZUN1qTqoLV32l2hc+D7Vf3dk6fH0dCsSR4txF76jDee5GNnOcTBHz6k9wsBpUHayp8+L/0R47SP2YqfPKpMU+6vFf2YRGH2DjSwTT3FUHJ/+TCxzoUg6smR6tki9slXjd4I1xekRIXmOeN6T4vt2UB0XRFPr3iFK9qMkZWyD13dCTob4sTsqfqb9grwX8j1cMO/CeN8+VN1nNii50j5Wc5ZOu19e86uGpdViWktKr3PvvgYT5zyEYpc6QmvAfKxYkAVHfh4+CzZd2pCPz8R7mTZ2CbIHpCH7O2PF3rMSh95/XZ2hseLCIthjx+F6fynz5ByMHWBHYcEhdURjmfOeRZb44JUVirCsjiNqiQlx0bBV+1tmCL5P1JY4+75fcp87FonWgZiuZpYL303RNXeWTrZzHIytROzQ/K4wICJSHAOel+N0MAWcQamuko2c6WC+wjfs48Kpd3zL0It9r6fCC7nLVaRYMGK6HhWf1T+HPvDMT4oZl4nlnXreodk3NdbU+nek8AjIs9OQWF6MixxMKKzp0TihlG7twLGoDPGB2YlXnhH9tjLsEeOfDwypSBI/ku/5SsMwFsuuBj4IOJqbtWAK8B/1KO+f1Rjegh06sAJ5ssT2tSeRM6AS+eufxPr31Umqm+/IEjvpYux8KXAnnYlF6zdh/hjg8JbVWN5EqYkM1PlLV2DjhhX4e5Es06jE7o2LsW7rOqz+qFgM+0qfLUb5iTYjNjkZpW+vxcJvLYYsryZqE2VnLHfAM5BS8h5e2SVHyh16mvrdE92BaEySO/BdG7DWP24PMFyM27Xxabx9zIbyPWLcc3lihz5FLGeHb55frGv2O97cTUDGiK/rv+RvRznwSJ74GyFWWfyxa/b5FzPwemCiEXhTPTDNiBM/GOIpy2UVC9G9L6ZLL54AFi8DtohA9MrnwC/E8ezaLb5pTemsG5hIUeKpj5REK++BTzZGp5zGHk3ea3Jfl9hHHV8IiAObSf59puYMwqwF8vPgfx8LUZM+5UIhw4X98kOviv1yWv0Pfmo0jokw2XZTseJ3S5DlyMevvyf3eU3JxfJntqM4NRtr3tyONXPSUJa/DstfUicH8+lmFJRZMHbmcuVM3M13jENaWQE2f+qb3MDgucrZuS2PzkTssTz84bdNB2+ielakX+cLs9PFd/ED9cx2U99Defbb9/3aoR7s5uF58V0rV87qPY1XMA+TxHL8Z/ga552GmrsJiHWyFePvNcJa5cYxEVbFIT4q5Ncs3YTx95iRMidCBNngEbH/o9G49k9RuOwqse/8ux0lylgjLnvQjMgjDnx+oWAF+PINFzyjIjH1BRPMnzlRO98E08c2fOF7UJM68yYmfp0YkOs/PMtSi5Uf0+bYjhWqP7A7xY/BhWOWiyjDAfVDWV4tfrQPbIDyey9LrJWx8hSkZj2uGwhrVK8WVPXYiNVKPeO12HzQiomL12HdE/4fJmkR5o5PAorysVYbnAfk4Nk3N2HJVDOObHoMix7NVycEY4etQXguRbG6wy922X09gixRzj8hdvTznsSWvbzwj9pJU8XiA0zxlWRMGIoU9SyN8j0ZnQRrtPh8CxdKPTTjtHYdOi12uDNaXCdZ3q2uKQtvEuF4mthziC/vvX8WIVcdL1lauCf7yVCxiSL8/khTIi0yMu5dB8zfJwL4lYC89cezG0VuXCW6Z8T844BTYtod94v9iAjNJxdoLhDUuNi6d4RdG/ejJmWob/81Ow1RJYd8+zvFRfZ15fvVA6EyVNvq95lvnPCXeMnH1o+H+OHecwyIVk9VNdwvRyNVea/FY6JO40j9CrRSGua/uAZzxW/D5scX4qKR9Kb12PSECK97N+Kxb92ExzYUwjx1KTb9tqkqFtLryC0QaSBzIhYO8O2vyz79e/DnUesgP/TMZpyIz8bSDVuwdIA6jahJmioW/wEmKWdkLvI9vHBGTp4Vj0ZcYBDZdUgE0YGY3qJCPPHs7hq1r7HE2yJxxSITIm0ufLG6Fl8qYdWDg5sdOFeqQ/R0CzLnGuD4UpYge+EKOD79cmW1UsXi8wKxrBwrhqSIvwssSBYhu2hlQMmwCMO7vluF/LursfNDA1J7uVGeHIEpL8p6ydEYkx18532x9e8onRiQ/R8ecYSUKEuD1dEdzlf67DtyE90zaoi+qCLkK/WM12H5vD9gd6UFQ67UJIDF05AZKebatQL1nytZGrIUM3sdwcYHb8ZNT+RpprXD8VwsnDEWM+9cje2n5YV/S7FCnUTUHkq49QcuTXBWOqV0+EEMr1ZLFf+pPZWvoZYyn0iVO/7mq1jIWzkHc4P4Tfh5JvD5R8Dk54FX/QFXfFnFWqJPgm9QGiiLlMXK7PcN1hskfoPigU801ShsHuCY+CLK5b36X+Co2CP2UqdJsjrHrS4xTfwADDzlC827Y0RYV+slazW17h0nDyeUUt8s3DocmkDr15Z9XevIz0xUqnizGgX01pIXNceKI58hmPtbeX3FUmSJQcRmYWlRAXLv8M0lZc8YgSR5xu3JFXh9bxFeX/kWPqsEktLHqnMEt/PZfBS5hyDrf7IxNrIYOzc0UUij1kHOe245bnpbvMeWVGSyJQtqDSXc9sFgZWca7HuYjXuui8YBddweXwleAHnGXEw/kaaE6+YKHeRtnIOxZkciM9sA7LXj4/vqcOyIOkH62I5Pflglwq/obq9FlUEHnPfgbLAzKyJQn/qdGzaTHtFXmJF2lR7GfiaMkhfvTRM70kgDhvgv1FMYMfJGPape9SLxci9KllVhV4EX8ZMDL/LzaWr9O1InBmS/PDz/z9NI0Vyklyh3sJI4ohp+SS8ykSUmSZrTki2RjaXPrMGSednInpOD5S/ehXFix112RBxKqZZMzoQFh7FPW1Ht4R9i7mCgcKsI1Iax4rHy8dmY2s4mCle8sh3PLpAXA1aiora+ZJmovSYM7QPIkLPrPGqsjS/YS4y2oqbCF8LkvL6rk4OTpw/3lAcpFQlgPRVQV0n1ExlITwC/Ft0E0X+L7NQLXP+vRDyuL7BNhJaF14tAK8JsyZfAsyIMv7+svrWKgeIxA0Ug3qm5ym5nKXDZALEsMe8tV4npDl9dZL//FY955W9i+UZ1hMoWpLC4qXXvSG8UHkXU8ClIqQmsstaWfZ2fCN7l2sdmY3Q6NPXTNWQQiErDPanR4qMTGNBbYzvW/0TTItCyXBQqNc0KkbvsMayP9zWpuf2ZbOQdKYVd7AGnPrYcOWKfmvPo9Rgh9sn2c+LDcjHHV2DnASBt2JDGZ/u0jHG+/fWCFdgyXcxrP4GiJq8dIQpCnoUTh/JHdjXxPZzQC1Fip1J/ZlvpCW7bOqzaU4aouIt/l4uqgh2emjBslgHGUhe+eN+LqCkmpMhuokHZf8dnWzDoejnOjMsej0Rf8T2v3e3AKfG4Uf8bgykPm4FvWnGZDMAiPqbcKx7n9qD2Ywc++a4arGUn6yjXunH4u7UQu2JF/D0WxJxwYN/Hugb1kj1OtSdA8PXvWGEQkIVdG/BBSR/fqYNthTgWNdZ3+uFq8UMX9EhKy3daz3+RXuvIIzJZn26G7/lE15Im4pKHT8WiR9dgzSqxQx5rRvGOtVhwn7/0IRsj5CXVZSdQoK0iESObUZFVIeTj6rult/kmt9UJWyymLl6P3BefxNzUKhRuWI3l6jSiVrtQB1lbb04exIrgJS+8U6fJ75oSxtRxk6KrL5QgK6WI6kV62otKRsN/Kr9pkV9sVfsasoo9lTUVyJ2j6a7zTfvx68CbVcC1k4FfXQmcOwbc+6pvmtaC3uI/MZ+2asaPRFguMIllfU90l4lp7wL++zjdcQvQ94hY/jlg/X+B8+L5yx8CMk+JcUEKN5pa9w4l9qUHasR+s1Hd37bt6/zeeE772LHAnqebeC99++PEFrzXF1eMnf9X3yJQ3tZS9fNlQ+nW7dipqSKDpxdj9dbDQEYOlot96vLbMoGDeVj943XqDE1bvb1QhGs7Crdrz/YFGDDTt7++fy4G4zDynhLP1+S1I0R+2qoUfVDyH1lS3MT3UPne+ve9aWJHoy5CPSukXKT3Hc1F0aODnSFqaNfZYFd8iHAqo0iyEZfda0WmvxPhVdaYirzMiP7z5DiLEo5lc297nncrj6ynR/LdUUod5MzxQMUbDhxspj6xvHhvyOVenPilTMMicO/Xo++qGEy4Quyr/ha8YC/4+ncsXUZGhqxkQkQUFuRd6YLdLCScxez/I+I/lLWXSdZLTz3R/EVERHRpyTvSBbtZSLj715lX8Frxr9ShzhMeJchERCoZNC1ln6hD4U+uK8OxIJt1e0SeKShkOCYKAzJkflGzVx3qGuT6hkM4lliCTERhxx3RG2XTnoU9yX8bu/Akw3HSO4thqDujjiEiCh9xpiQsHLwag6LaecFTB5DheP2Rpahw+lvQ6VyGpKSkn6r9RERhQe+qQfShzfCY4+AI05Asq1Uk5S9R1pWIKBzZPbX4T/nfEGmICeuQLKtV/P6Lh5X1DRcsQSaisOaMHYjaQXOUWznLu9V11g05ZDvHsik32VqFvCDPVKlt74KIKLylWNMxIWGWchtneae6zrwZh2znWDblJlurkBfkldiC3ca0czEgExERERFp8CI9IiIiIiINBmQiIiIiIg0GZCIiIiIiDQZkIiIiIiINBmQiIiIiIg0GZCIiIiIiDQZkIiIiIiINBmQiIiIiIg0GZCIiIiKiC4D/D2fDDiDvpcPLAAAAAElFTkSuQmCC)"
      ],
      "metadata": {
        "id": "rjqCN9UnDMaV"
      }
    },
    {
      "cell_type": "code",
      "source": [
        "def largestPerimeter(nums):\n",
        "    maxi = 0\n",
        "    n = len(nums)\n",
        "    nums.sort(reverse = True)\n",
        "\n",
        "    for i in range(0, n - 2):\n",
        "        if nums[i] < (nums[i + 1] + nums[i + 2]):\n",
        "            maxi = max(maxi, nums[i] +\n",
        "                    nums[i + 1] + nums[i + 2])\n",
        "            break\n",
        "\n",
        "    return maxi\n",
        "\n",
        "nums = [1,2,1]\n",
        "largestPerimeter(nums)"
      ],
      "metadata": {
        "colab": {
          "base_uri": "https://localhost:8080/"
        },
        "id": "MIFzS1keDNn7",
        "outputId": "b70a3b2f-c930-487e-d514-66e0d07172c5"
      },
      "execution_count": null,
      "outputs": [
        {
          "output_type": "execute_result",
          "data": {
            "text/plain": [
              "0"
            ]
          },
          "metadata": {},
          "execution_count": 1
        }
      ]
    },
    {
      "cell_type": "markdown",
      "source": [
        "##13-10-2022"
      ],
      "metadata": {
        "id": "04U0jMxLfWyo"
      }
    },
    {
      "cell_type": "markdown",
      "source": [
        "####237. Delete Node in a Linked List"
      ],
      "metadata": {
        "id": "I4VkyUVOfWms"
      }
    },
    {
      "cell_type": "code",
      "source": [
        "237. Delete Node in a Linked List\n",
        "Medium\n",
        "1.4K\n",
        "428\n",
        "Companies\n",
        "There is a singly-linked list head and we want to delete a node node in it.\n",
        "\n",
        "You are given the node to be deleted node. You will not be given access to the first node of head.\n",
        "\n",
        "All the values of the linked list are unique, and it is guaranteed that the given node node is not the last node in the linked list.\n",
        "\n",
        "Delete the given node. Note that by deleting the node, we do not mean removing it from memory. We mean:\n",
        "\n",
        "The value of the given node should not exist in the linked list.\n",
        "The number of nodes in the linked list should decrease by one.\n",
        "All the values before node should be in the same order.\n",
        "All the values after node should be in the same order.\n",
        "Custom testing:\n",
        "\n",
        "For the input, you should provide the entire linked list head and the node to be given node. node should not be the last node of the list and should be an actual node in the list.\n",
        "We will build the linked list and pass the node to your function.\n",
        "The output will be the entire list after calling your function.\n",
        " \n",
        "\n",
        "Example 1:\n",
        "\n",
        "\n",
        "Input: head = [4,5,1,9], node = 5\n",
        "Output: [4,1,9]\n",
        "Explanation: You are given the second node with value 5, the linked list should become 4 -> 1 -> 9 after calling your function.\n",
        "Example 2:\n",
        "\n",
        "\n",
        "Input: head = [4,5,1,9], node = 1\n",
        "Output: [4,5,9]\n",
        "Explanation: You are given the third node with value 1, the linked list should become 4 -> 5 -> 9 after calling your function.\n",
        " \n",
        "\n",
        "Constraints:\n",
        "\n",
        "The number of the nodes in the given list is in the range [2, 1000].\n",
        "-1000 <= Node.val <= 1000\n",
        "The value of each node in the list is unique.\n",
        "The node to be deleted is in the list and is not a tail node."
      ],
      "metadata": {
        "id": "RWbHCwnVfYHc"
      },
      "execution_count": null,
      "outputs": []
    },
    {
      "cell_type": "markdown",
      "source": [
        "![image.png](data:image/png;base64,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)"
      ],
      "metadata": {
        "id": "V1zmXIwpfpQF"
      }
    },
    {
      "cell_type": "markdown",
      "source": [
        "![image.png](data:image/png;base64,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)"
      ],
      "metadata": {
        "id": "QoJhgUXafYpz"
      }
    },
    {
      "cell_type": "code",
      "source": [
        "# needs revision\n",
        "# code link: https://www.goodtecher.com/leetcode-237-delete-node-in-a-linked-list/ \n",
        "\n",
        "\n",
        "# Definition for singly-linked list.\n",
        "# class ListNode:\n",
        "#     def __init__(self, x):\n",
        "#         self.val = x\n",
        "#         self.next = None\n",
        "\n",
        "class Solution:\n",
        "    def deleteNode(self, node):\n",
        "        \"\"\"\n",
        "        :type node: ListNode\n",
        "        :rtype: void Do not return anything, modify node in-place instead.\n",
        "        \"\"\"\n",
        "\n",
        "        node.val = node.next.val\n",
        "        node.next = node.next.next"
      ],
      "metadata": {
        "id": "OmZ5sa-ffZVe"
      },
      "execution_count": 1,
      "outputs": []
    }
  ]
}