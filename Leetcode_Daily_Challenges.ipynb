{
  "nbformat": 4,
  "nbformat_minor": 0,
  "metadata": {
    "colab": {
      "provenance": [],
      "collapsed_sections": [],
      "authorship_tag": "ABX9TyOxVfh/XE+L7s0o5cdj9qGF",
      "include_colab_link": true
    },
    "kernelspec": {
      "name": "python3",
      "display_name": "Python 3"
    },
    "language_info": {
      "name": "python"
    }
  },
  "cells": [
    {
      "cell_type": "markdown",
      "metadata": {
        "id": "view-in-github",
        "colab_type": "text"
      },
      "source": [
        "<a href=\"https://colab.research.google.com/github/abm4github/My_Leetcode_works/blob/main/Leetcode_Daily_Challenges.ipynb\" target=\"_parent\"><img src=\"https://colab.research.google.com/assets/colab-badge.svg\" alt=\"Open In Colab\"/></a>"
      ]
    },
    {
      "cell_type": "markdown",
      "source": [
        "##23-08-2022"
      ],
      "metadata": {
        "id": "zDpvu8UDYUpk"
      }
    },
    {
      "cell_type": "markdown",
      "source": [
        "####234. Palindrome Linked List"
      ],
      "metadata": {
        "id": "PybMBZKuYCHc"
      }
    },
    {
      "cell_type": "code",
      "source": [
        "\"\"\"\n",
        "234. Palindrome Linked List\n",
        "Easy\n",
        "\n",
        "11116\n",
        "\n",
        "634\n",
        "\n",
        "Add to List\n",
        "\n",
        "Share\n",
        "Given the head of a singly linked list, return true if it is a palindrome.\n",
        "\n",
        " \n",
        "\n",
        "Example 1:\n",
        "\n",
        "\n",
        "Input: head = [1,2,2,1]\n",
        "Output: true\n",
        "Example 2:\n",
        "\n",
        "\n",
        "Input: head = [1,2]\n",
        "Output: false\n",
        " \n",
        "\n",
        "Constraints:\n",
        "\n",
        "The number of nodes in the list is in the range [1, 105].\n",
        "0 <= Node.val <= 9\n",
        " \n",
        "\n",
        "Follow up: Could you do it in O(n) time and O(1) space?\n",
        "\"\"\""
      ],
      "metadata": {
        "id": "DM9WuC4VYEE-"
      },
      "execution_count": null,
      "outputs": []
    },
    {
      "cell_type": "code",
      "execution_count": null,
      "metadata": {
        "id": "RsNBqJOxXfl9"
      },
      "outputs": [],
      "source": [
        "# needs revision\n",
        "# https://www.youtube.com/watch?v=yOzXms1J6Nk\n",
        "\n",
        "\"\"\"\n",
        "Runtime: 1597 ms, faster than 48.63% of Python online submissions for Palindrome Linked List.\n",
        "Memory Usage: 67.1 MB, less than 82.80% of Python online submissions for Palindrome Linked List.\n",
        "\"\"\"\n",
        "\n",
        "# Definition for singly-linked list.\n",
        "# class ListNode(object):\n",
        "#     def __init__(self, val=0, next=None):\n",
        "#         self.val = val\n",
        "#         self.next = next\n",
        "class Solution(object):\n",
        "    def isPalindrome(self, head):        \n",
        "        fast, slow = head, head\n",
        "        \n",
        "        while fast and fast.next:\n",
        "            fast = fast.next.next\n",
        "            slow = slow.next\n",
        "        \n",
        "        \n",
        "        prev = None\n",
        "        \n",
        "        while slow:\n",
        "            temp = slow.next\n",
        "            slow.next = prev\n",
        "            prev = slow\n",
        "            slow = temp\n",
        "            \n",
        "        left, right = head, prev\n",
        "        while right:\n",
        "            if left.val != right.val:\n",
        "                return False\n",
        "            left = left.next\n",
        "            right = right.next\n",
        "        return True"
      ]
    },
    {
      "cell_type": "markdown",
      "source": [
        "##24-08-2022"
      ],
      "metadata": {
        "id": "ff8xrQujtDuU"
      }
    },
    {
      "cell_type": "markdown",
      "source": [
        "####326. Power of Three"
      ],
      "metadata": {
        "id": "gEKb5YOwtHr8"
      }
    },
    {
      "cell_type": "code",
      "source": [
        "\"\"\"\n",
        "326. Power of Three\n",
        "Easy\n",
        "\n",
        "1843\n",
        "\n",
        "175\n",
        "\n",
        "Add to List\n",
        "\n",
        "Share\n",
        "Given an integer n, return true if it is a power of three. Otherwise, return false.\n",
        "\n",
        "An integer n is a power of three, if there exists an integer x such that n == 3x.\n",
        "\n",
        " \n",
        "\n",
        "Example 1:\n",
        "\n",
        "Input: n = 27\n",
        "Output: true\n",
        "Example 2:\n",
        "\n",
        "Input: n = 0\n",
        "Output: false\n",
        "Example 3:\n",
        "\n",
        "Input: n = 9\n",
        "Output: true\n",
        " \n",
        "\n",
        "Constraints:\n",
        "\n",
        "-231 <= n <= 231 - 1\n",
        "\"\"\""
      ],
      "metadata": {
        "id": "qlQ_IczEtGtP"
      },
      "execution_count": null,
      "outputs": []
    },
    {
      "cell_type": "code",
      "source": [
        "def isPowerOfThree(n):\n",
        "    if n < 9 and n != 1 and n != 3:\n",
        "        return False\n",
        "    if n == 1 or n == 3:\n",
        "        return True\n",
        "    while n > 1:\n",
        "        if n % 3 != 0:\n",
        "            return False\n",
        "        n = n/3\n",
        "    return True\n",
        "\n",
        "isPowerOfThree(18)  "
      ],
      "metadata": {
        "colab": {
          "base_uri": "https://localhost:8080/"
        },
        "id": "HaFbUDGetOOU",
        "outputId": "b31099e8-711d-471d-d49d-10f43523f1b9"
      },
      "execution_count": null,
      "outputs": [
        {
          "output_type": "execute_result",
          "data": {
            "text/plain": [
              "False"
            ]
          },
          "metadata": {},
          "execution_count": 1
        }
      ]
    },
    {
      "cell_type": "markdown",
      "source": [
        "##25-08-2022"
      ],
      "metadata": {
        "id": "1YjBda8V4ZI9"
      }
    },
    {
      "cell_type": "markdown",
      "source": [
        "####383. Ransom Note"
      ],
      "metadata": {
        "id": "o0NYCRma4b4r"
      }
    },
    {
      "cell_type": "code",
      "source": [
        "\"\"\"\n",
        "383. Ransom Note\n",
        "Easy\n",
        "\n",
        "2813\n",
        "\n",
        "355\n",
        "\n",
        "Add to List\n",
        "\n",
        "Share\n",
        "Given two strings ransomNote and magazine, return true if ransomNote can be constructed by using the letters from magazine and false otherwise.\n",
        "\n",
        "Each letter in magazine can only be used once in ransomNote.\n",
        "\n",
        " \n",
        "\n",
        "Example 1:\n",
        "\n",
        "Input: ransomNote = \"a\", magazine = \"b\"\n",
        "Output: false\n",
        "Example 2:\n",
        "\n",
        "Input: ransomNote = \"aa\", magazine = \"ab\"\n",
        "Output: false\n",
        "Example 3:\n",
        "\n",
        "Input: ransomNote = \"aa\", magazine = \"aab\"\n",
        "Output: true\n",
        " \n",
        "\n",
        "Constraints:\n",
        "\n",
        "1 <= ransomNote.length, magazine.length <= 105\n",
        "ransomNote and magazine consist of lowercase English letters.\n",
        "\"\"\""
      ],
      "metadata": {
        "id": "JYc0NPhC4a3k"
      },
      "execution_count": null,
      "outputs": []
    },
    {
      "cell_type": "code",
      "source": [
        "\"\"\"\n",
        "Runtime: 37 ms, faster than 95.60% of Python online submissions for Ransom Note.\n",
        "Memory Usage: 13.7 MB, less than 35.43% of Python online submissions for Ransom Note.\n",
        "\"\"\"\n",
        "\n",
        "def canConstruct(ransomNote, magazine):\n",
        "    d = {}\n",
        "    for char in ransomNote:\n",
        "        if char in d.keys():\n",
        "            d[char] += 1\n",
        "        else:\n",
        "            d[char] = 1\n",
        "    for key in d.keys():\n",
        "        if key not in magazine:\n",
        "            return False\n",
        "        else:\n",
        "            if magazine.count(key) < d[key]:\n",
        "                return False\n",
        "    return True\n",
        "    \n",
        "ransomNote = \"aa\"\n",
        "magazine = \"aab\"\n",
        "canConstruct(ransomNote, magazine)"
      ],
      "metadata": {
        "colab": {
          "base_uri": "https://localhost:8080/"
        },
        "id": "OYqhUKGr4est",
        "outputId": "4ada7603-bf5e-4cbe-8959-cdd6dcf0c528"
      },
      "execution_count": null,
      "outputs": [
        {
          "output_type": "execute_result",
          "data": {
            "text/plain": [
              "True"
            ]
          },
          "metadata": {},
          "execution_count": 1
        }
      ]
    },
    {
      "cell_type": "markdown",
      "source": [
        "##26-08-2022"
      ],
      "metadata": {
        "id": "mN5CO9uydhKj"
      }
    },
    {
      "cell_type": "markdown",
      "source": [
        "####869. Reordered Power of 2"
      ],
      "metadata": {
        "id": "9kozYEfBdnW0"
      }
    },
    {
      "cell_type": "code",
      "source": [
        "\"\"\"\n",
        "869. Reordered Power of 2\n",
        "Medium\n",
        "\n",
        "1048\n",
        "\n",
        "268\n",
        "\n",
        "Add to List\n",
        "\n",
        "Share\n",
        "You are given an integer n. We reorder the digits in any order (including the original order) such that the leading digit is not zero.\n",
        "\n",
        "Return true if and only if we can do this so that the resulting number is a power of two.\n",
        "\n",
        " \n",
        "\n",
        "Example 1:\n",
        "\n",
        "Input: n = 1\n",
        "Output: true\n",
        "Example 2:\n",
        "\n",
        "Input: n = 10\n",
        "Output: false\n",
        " \n",
        "\n",
        "Constraints:\n",
        "\n",
        "1 <= n <= 109\n",
        "\"\"\""
      ],
      "metadata": {
        "id": "bJSlJHQkdmwH"
      },
      "execution_count": null,
      "outputs": []
    },
    {
      "cell_type": "code",
      "source": [
        "# this question can be presented in much simpler way, question seems tricky\n",
        "\n",
        "\"\"\"\n",
        "Runtime: 26 ms, faster than 89.47% of Python online submissions for Reordered Power of 2.\n",
        "Memory Usage: 13.4 MB, less than 68.42% of Python online submissions for Reordered Power of 2.\n",
        "\"\"\"\n",
        "\n",
        "def reorderedPowerOf2(n):\n",
        "    if n == 1:\n",
        "        return True\n",
        "    \n",
        "    def makeDict(n):\n",
        "        str_n = str(n)\n",
        "        d = {}\n",
        "        for i in str_n:\n",
        "            if i in d.keys():\n",
        "                d[i] += 1\n",
        "            else:\n",
        "                d[i] = 1\n",
        "        return d\n",
        "    \n",
        "    dict_n = makeDict(n)\n",
        "    len_n = len(str(n))\n",
        "    for i in range(30):\n",
        "        nn = 2**i\n",
        "        if len(str(nn)) == len_n:\n",
        "            if makeDict(nn) == dict_n:\n",
        "                return True\n",
        "    return False\n",
        "\n",
        "reorderedPowerOf2(8888360)"
      ],
      "metadata": {
        "colab": {
          "base_uri": "https://localhost:8080/"
        },
        "id": "bw1Ovl8Wdh7H",
        "outputId": "751f5763-cb12-4abc-9d25-c10735bd385f"
      },
      "execution_count": null,
      "outputs": [
        {
          "output_type": "execute_result",
          "data": {
            "text/plain": [
              "True"
            ]
          },
          "metadata": {},
          "execution_count": 14
        }
      ]
    },
    {
      "cell_type": "code",
      "source": [
        "#silly alternate solution :)\n",
        "\n",
        "\"\"\"\n",
        "Runtime: 21 ms, faster than 94.74% of Python online submissions for Reordered Power of 2.\n",
        "Memory Usage: 13.3 MB, less than 68.42% of Python online submissions for Reordered Power of 2.\n",
        "\"\"\"\n",
        "\n",
        "def reorderedPowerOf2(n):\n",
        "    if n == 1:\n",
        "        return True\n",
        "    \n",
        "    def makeDict(n):\n",
        "        str_n = str(n)\n",
        "        d = {}\n",
        "        for i in str_n:\n",
        "            if i in d.keys():\n",
        "                d[i] += 1\n",
        "            else:\n",
        "                d[i] = 1\n",
        "        return d\n",
        "    \n",
        "    dict_n = makeDict(n)\n",
        "    len_n = len(str(n))\n",
        "    for i in range(30):\n",
        "        nn = 2**i\n",
        "        if len(str(nn)) == len_n:\n",
        "            if makeDict(nn) == dict_n:\n",
        "                del dict_n\n",
        "                del len_n\n",
        "                del nn\n",
        "                return True\n",
        "    return False"
      ],
      "metadata": {
        "id": "uqhVSzD7hKaj"
      },
      "execution_count": null,
      "outputs": []
    },
    {
      "cell_type": "markdown",
      "source": [
        "##27-08-2022"
      ],
      "metadata": {
        "id": "kAs8z8aANS82"
      }
    },
    {
      "cell_type": "markdown",
      "source": [
        "####363. Max Sum of Rectangle No Larger Than K"
      ],
      "metadata": {
        "id": "tNOGhOdoNSon"
      }
    },
    {
      "cell_type": "code",
      "source": [
        "\"\"\"\n",
        "363. Max Sum of Rectangle No Larger Than K\n",
        "Hard\n",
        "\n",
        "2748\n",
        "\n",
        "138\n",
        "\n",
        "Add to List\n",
        "\n",
        "Share\n",
        "Given an m x n matrix matrix and an integer k, return the max sum of a rectangle in the matrix such that its sum is no larger than k.\n",
        "\n",
        "It is guaranteed that there will be a rectangle with a sum no larger than k.\n",
        "\n",
        " \n",
        "\n",
        "Example 1:\n",
        "\n",
        "\n",
        "Input: matrix = [[1,0,1],[0,-2,3]], k = 2\n",
        "Output: 2\n",
        "Explanation: Because the sum of the blue rectangle [[0, 1], [-2, 3]] is 2, and 2 is the max number no larger than k (k = 2).\n",
        "Example 2:\n",
        "\n",
        "Input: matrix = [[2,2,-1]], k = 3\n",
        "Output: 3\n",
        " \n",
        "\n",
        "Constraints:\n",
        "\n",
        "m == matrix.length\n",
        "n == matrix[i].length\n",
        "1 <= m, n <= 100\n",
        "-100 <= matrix[i][j] <= 100\n",
        "-105 <= k <= 105\n",
        " \n",
        "\n",
        "Follow up: What if the number of rows is much larger than the number of columns?\n",
        "\"\"\""
      ],
      "metadata": {
        "id": "BMoCBAC4NSJ1"
      },
      "execution_count": null,
      "outputs": []
    },
    {
      "cell_type": "code",
      "source": [
        "# needs revision\n",
        "# video explanation : https://www.youtube.com/watch?v=IDv9yvQN3Uc\n",
        "# code link: https://github.com/Ayu-99/Data-Structures/blob/master/Leetcode%20July%20Challenge/Python/Max%20Sum%20of%20Rectangle%20No%20Larger%20Than%20K.py \n",
        "\n",
        "\"\"\"\n",
        "Runtime: 3209 ms, faster than 74.31% of Python3 online submissions for Max Sum of Rectangle No Larger Than K.\n",
        "Memory Usage: 14.8 MB, less than 74.31% of Python3 online submissions for Max Sum of Rectangle No Larger Than K.\n",
        "\"\"\"\n",
        "\n",
        "import bisect\n",
        "import math\n",
        "\n",
        "def maxSumSubmatrix(matrix, k):\n",
        "    ret = -math.inf\n",
        "    m, n = len(matrix), len(matrix[0])\n",
        "    if m < n:\n",
        "        matrix = list(zip(*matrix))\n",
        "    m, n = max(m, n), min(m, n)\n",
        "    for le in range(n):\n",
        "        pre_sum = [0] * m\n",
        "        for ri in range(le, n): \n",
        "            for r in range(m):\n",
        "                pre_sum[r] += matrix[r][ri]\n",
        "            arr = [0, math.inf] \n",
        "            cur_sum = 0\n",
        "            for x in pre_sum:\n",
        "                cur_sum += x\n",
        "                idx = bisect.bisect_left(arr, cur_sum - k)\n",
        "                ret = max(ret, cur_sum - arr[idx])\n",
        "                if ret == k: return k\n",
        "                bisect.insort(arr, cur_sum) \n",
        "    return ret\n",
        "\n",
        "\n",
        "matrix = [[1,0,1],[0,-2,3]] \n",
        "k = 2\n",
        "maxSumSubmatrix(matrix, k)"
      ],
      "metadata": {
        "colab": {
          "base_uri": "https://localhost:8080/"
        },
        "id": "ZEW32DVVMeTY",
        "outputId": "d7a81249-ec8e-4374-86e3-881854c59110"
      },
      "execution_count": null,
      "outputs": [
        {
          "output_type": "execute_result",
          "data": {
            "text/plain": [
              "2"
            ]
          },
          "metadata": {},
          "execution_count": 2
        }
      ]
    },
    {
      "cell_type": "markdown",
      "source": [
        "##28-08-2022"
      ],
      "metadata": {
        "id": "1y9sAxe_tkEU"
      }
    },
    {
      "cell_type": "markdown",
      "source": [
        "####1329. Sort the Matrix Diagonally"
      ],
      "metadata": {
        "id": "biIpTZ5xtogu"
      }
    },
    {
      "cell_type": "code",
      "source": [
        "\"\"\"\n",
        "1329. Sort the Matrix Diagonally\n",
        "Medium\n",
        "\n",
        "2469\n",
        "\n",
        "198\n",
        "\n",
        "Add to List\n",
        "\n",
        "Share\n",
        "A matrix diagonal is a diagonal line of cells starting from some cell in either the topmost row or leftmost column and going in the bottom-right direction until reaching the matrix's end. For example, the matrix diagonal starting from mat[2][0], where mat is a 6 x 3 matrix, includes cells mat[2][0], mat[3][1], and mat[4][2].\n",
        "\n",
        "Given an m x n matrix mat of integers, sort each matrix diagonal in ascending order and return the resulting matrix.\n",
        "\n",
        " \n",
        "\n",
        "Example 1:\n",
        "\n",
        "\n",
        "Input: mat = [[3,3,1,1],[2,2,1,2],[1,1,1,2]]\n",
        "Output: [[1,1,1,1],[1,2,2,2],[1,2,3,3]]\n",
        "Example 2:\n",
        "\n",
        "Input: mat = [[11,25,66,1,69,7],[23,55,17,45,15,52],[75,31,36,44,58,8],[22,27,33,25,68,4],[84,28,14,11,5,50]]\n",
        "Output: [[5,17,4,1,52,7],[11,11,25,45,8,69],[14,23,25,44,58,15],[22,27,31,36,50,66],[84,28,75,33,55,68]]\n",
        " \n",
        "\n",
        "Constraints:\n",
        "\n",
        "m == mat.length\n",
        "n == mat[i].length\n",
        "1 <= m, n <= 100\n",
        "1 <= mat[i][j] <= 100\n",
        "\"\"\""
      ],
      "metadata": {
        "id": "4VluRaUrtoOJ"
      },
      "execution_count": null,
      "outputs": []
    },
    {
      "cell_type": "code",
      "source": [
        "# needs revision \n",
        "# video explanation: https://www.youtube.com/watch?v=AFvzHLk8rFA\n",
        "\"\"\"\n",
        "Runtime: 98 ms, faster than 62.65% of Python online submissions for Sort the Matrix Diagonally.\n",
        "Memory Usage: 14.1 MB, less than 7.23% of Python online submissions for Sort the Matrix Diagonally.\n",
        "\"\"\"\n",
        "\n",
        "def diagonalSort(mat):\n",
        "    h = defaultdict(list)\n",
        "    n,m = len(mat), len(mat[0])\n",
        "    \n",
        "    for i in range(n):\n",
        "        for j in range(m):\n",
        "            heappush(h[i-j], mat[i][j])\n",
        "    for i in range(n):\n",
        "        for j in range(m):\n",
        "            mat[i][j] = heappop(h[i-j])\n",
        "            \n",
        "    return mat\n",
        "\n",
        "diagonalSort([[11,25,66,1,69,7],[23,55,17,45,15,52],[75,31,36,44,58,8],[22,27,33,25,68,4],[84,28,14,11,5,50]])"
      ],
      "metadata": {
        "id": "R9eZLcLM7aJC"
      },
      "execution_count": null,
      "outputs": []
    },
    {
      "cell_type": "markdown",
      "source": [
        "##29-08-2022"
      ],
      "metadata": {
        "id": "sua-_MY-PhlG"
      }
    },
    {
      "cell_type": "markdown",
      "source": [
        "####200. Number of Islands"
      ],
      "metadata": {
        "id": "oevmysJMPhaq"
      }
    },
    {
      "cell_type": "code",
      "source": [
        "\"\"\"\n",
        "200. Number of Islands\n",
        "Medium\n",
        "\n",
        "16450\n",
        "\n",
        "379\n",
        "\n",
        "Add to List\n",
        "\n",
        "Share\n",
        "Given an m x n 2D binary grid grid which represents a map of '1's (land) and '0's (water), return the number of islands.\n",
        "\n",
        "An island is surrounded by water and is formed by connecting adjacent lands horizontally or vertically. You may assume all four edges of the grid are all surrounded by water.\n",
        "\n",
        " \n",
        "\n",
        "Example 1:\n",
        "\n",
        "Input: grid = [\n",
        "  [\"1\",\"1\",\"1\",\"1\",\"0\"],\n",
        "  [\"1\",\"1\",\"0\",\"1\",\"0\"],\n",
        "  [\"1\",\"1\",\"0\",\"0\",\"0\"],\n",
        "  [\"0\",\"0\",\"0\",\"0\",\"0\"]\n",
        "]\n",
        "Output: 1\n",
        "Example 2:\n",
        "\n",
        "Input: grid = [\n",
        "  [\"1\",\"1\",\"0\",\"0\",\"0\"],\n",
        "  [\"1\",\"1\",\"0\",\"0\",\"0\"],\n",
        "  [\"0\",\"0\",\"1\",\"0\",\"0\"],\n",
        "  [\"0\",\"0\",\"0\",\"1\",\"1\"]\n",
        "]\n",
        "Output: 3\n",
        " \n",
        "\n",
        "Constraints:\n",
        "\n",
        "m == grid.length\n",
        "n == grid[i].length\n",
        "1 <= m, n <= 300\n",
        "grid[i][j] is '0' or '1'.\n",
        "\"\"\""
      ],
      "metadata": {
        "id": "ZZ2JnQVGPimi"
      },
      "execution_count": null,
      "outputs": []
    },
    {
      "cell_type": "code",
      "source": [
        "# orginal solution\n",
        "# video explanation: https://www.youtube.com/watch?v=uDB5QXTqMn0\n",
        "\n",
        "\"\"\"\n",
        "Runtime: 514 ms, faster than 44.25% of Python3 online submissions for Number of Islands.\n",
        "Memory Usage: 16.6 MB, less than 50.32% of Python3 online submissions for Number of Islands.\n",
        "\"\"\"\n",
        "\n",
        "class Solution:\n",
        "    def dfs(self, grid, r, c):\n",
        "        grid[r][c] = \"0\"\n",
        "        lst = [(r-1, c), (r+1, c), (r, c-1), (r, c+1)]\n",
        "        for row, col in lst:\n",
        "            if row >= 0 and col >= 0 and row < len(grid) and col < len(grid[row]) and grid[row][col] == \"1\":\n",
        "                self.dfs(grid, row, col)\n",
        "    \n",
        "    def numIslands(self, grid):\n",
        "        islands = 0\n",
        "        for r in range(len(grid)):\n",
        "            for c in range(len(grid[r])):\n",
        "                if grid[r][c] == \"1\":\n",
        "                    self.dfs(grid, r, c)\n",
        "                    islands += 1\n",
        "        return islands\n",
        "        "
      ],
      "metadata": {
        "id": "LjOcAvBgPjEK"
      },
      "execution_count": null,
      "outputs": []
    },
    {
      "cell_type": "code",
      "source": [
        "# needs revision\n",
        "# edited version by stripping class off the code\n",
        "# video explanation: https://www.youtube.com/watch?v=uDB5QXTqMn0\n",
        "\n",
        "\"\"\"\n",
        "Runtime: 514 ms, faster than 44.25% of Python3 online submissions for Number of Islands.\n",
        "Memory Usage: 16.6 MB, less than 50.32% of Python3 online submissions for Number of Islands.\n",
        "\"\"\"\n",
        "\n",
        "\n",
        "def dfs(grid, r, c):\n",
        "    grid[r][c] = \"0\"\n",
        "    lst = [(r-1, c), (r+1, c), (r, c-1), (r, c+1)]\n",
        "    for row, col in lst:\n",
        "        if row >= 0 and col >= 0 and row < len(grid) and col < len(grid[row]) and grid[row][col] == \"1\":\n",
        "            dfs(grid, row, col)\n",
        "\n",
        "def numIslands(grid):\n",
        "    islands = 0\n",
        "    for r in range(len(grid)):\n",
        "        for c in range(len(grid[r])):\n",
        "            if grid[r][c] == \"1\":\n",
        "                dfs(grid, r, c)\n",
        "                islands += 1\n",
        "    return islands\n",
        "    \n",
        "numIslands([[\"1\",\"1\",\"0\",\"0\",\"0\"],[\"1\",\"1\",\"0\",\"0\",\"0\"],[\"0\",\"0\",\"1\",\"0\",\"0\"],[\"0\",\"0\",\"0\",\"1\",\"1\"]])"
      ],
      "metadata": {
        "colab": {
          "base_uri": "https://localhost:8080/"
        },
        "id": "H2_HTUxXQmaC",
        "outputId": "9f873f55-65dc-42e5-f98c-09f3b282817e"
      },
      "execution_count": null,
      "outputs": [
        {
          "output_type": "execute_result",
          "data": {
            "text/plain": [
              "3"
            ]
          },
          "metadata": {},
          "execution_count": 4
        }
      ]
    },
    {
      "cell_type": "markdown",
      "source": [
        "##30-08-2022"
      ],
      "metadata": {
        "id": "tRKsHxctV_PS"
      }
    },
    {
      "cell_type": "markdown",
      "source": [
        "####48. Rotate Image"
      ],
      "metadata": {
        "id": "35zfBzBeV-12"
      }
    },
    {
      "cell_type": "code",
      "source": [
        "\"\"\"\n",
        "48. Rotate Image\n",
        "Medium\n",
        "\n",
        "11583\n",
        "\n",
        "561\n",
        "\n",
        "Add to List\n",
        "\n",
        "Share\n",
        "You are given an n x n 2D matrix representing an image, rotate the image by 90 degrees (clockwise).\n",
        "\n",
        "You have to rotate the image in-place, which means you have to modify the input 2D matrix directly. DO NOT allocate another 2D matrix and do the rotation.\n",
        "\n",
        " \n",
        "\n",
        "Example 1:\n",
        "\n",
        "\n",
        "Input: matrix = [[1,2,3],[4,5,6],[7,8,9]]\n",
        "Output: [[7,4,1],[8,5,2],[9,6,3]]\n",
        "Example 2:\n",
        "\n",
        "\n",
        "Input: matrix = [[5,1,9,11],[2,4,8,10],[13,3,6,7],[15,14,12,16]]\n",
        "Output: [[15,13,2,5],[14,3,4,1],[12,6,8,9],[16,7,10,11]]\n",
        " \n",
        "\n",
        "Constraints:\n",
        "\n",
        "n == matrix.length == matrix[i].length\n",
        "1 <= n <= 20\n",
        "-1000 <= matrix[i][j] <= 1000\n",
        "\"\"\""
      ],
      "metadata": {
        "id": "nXM5EdP8V90i"
      },
      "execution_count": null,
      "outputs": []
    },
    {
      "cell_type": "code",
      "source": [
        "# needs revision\n",
        "# video explanation: https://www.youtube.com/watch?v=owQN0xX6Fa0   \n",
        "# Note: Timothy H Chang's codes are way precise and easy.\n",
        "\n",
        "\"\"\"\n",
        "Runtime: 42 ms, faster than 83.47% of Python3 online submissions for Rotate Image.\n",
        "Memory Usage: 13.8 MB, less than 74.32% of Python3 online submissions for Rotate Image.\n",
        "\"\"\"\n",
        "\n",
        "\n",
        "def rotate(matrix):       \n",
        "    N = len(matrix)\n",
        "    matrix.reverse()\n",
        "    for r in range(N):\n",
        "        for c in range(r):\n",
        "            matrix[r][c], matrix[c][r] = matrix[c][r], matrix[r][c]\n",
        "    return matrix\n",
        "\n",
        "\n",
        "rotate([[1,2,3],[4,5,6],[7,8,9]])"
      ],
      "metadata": {
        "colab": {
          "base_uri": "https://localhost:8080/"
        },
        "id": "PN0AFyKCV_34",
        "outputId": "68fd6f9f-6fa0-4fc4-d222-df529c5bc209"
      },
      "execution_count": null,
      "outputs": [
        {
          "output_type": "execute_result",
          "data": {
            "text/plain": [
              "[[7, 4, 1], [8, 5, 2], [9, 6, 3]]"
            ]
          },
          "metadata": {},
          "execution_count": 3
        }
      ]
    },
    {
      "cell_type": "markdown",
      "source": [
        "##31-08-2022"
      ],
      "metadata": {
        "id": "TfrqDZX8LF2V"
      }
    },
    {
      "cell_type": "markdown",
      "source": [
        "####417. Pacific Atlantic Water Flow"
      ],
      "metadata": {
        "id": "iwut_btJLJOK"
      }
    },
    {
      "cell_type": "code",
      "source": [
        "\"\"\"\n",
        "417. Pacific Atlantic Water Flow\n",
        "Medium\n",
        "\n",
        "5341\n",
        "\n",
        "1011\n",
        "\n",
        "Add to List\n",
        "\n",
        "Share\n",
        "There is an m x n rectangular island that borders both the Pacific Ocean and Atlantic Ocean. The Pacific Ocean touches the island's left and top edges, and the Atlantic Ocean touches the island's right and bottom edges.\n",
        "\n",
        "The island is partitioned into a grid of square cells. You are given an m x n integer matrix heights where heights[r][c] represents the height above sea level of the cell at coordinate (r, c).\n",
        "\n",
        "The island receives a lot of rain, and the rain water can flow to neighboring cells directly north, south, east, and west if the neighboring cell's height is less than or equal to the current cell's height. Water can flow from any cell adjacent to an ocean into the ocean.\n",
        "\n",
        "Return a 2D list of grid coordinates result where result[i] = [ri, ci] denotes that rain water can flow from cell (ri, ci) to both the Pacific and Atlantic oceans.\n",
        "\n",
        " \n",
        "\n",
        "Example 1:\n",
        "\n",
        "\n",
        "Input: heights = [[1,2,2,3,5],[3,2,3,4,4],[2,4,5,3,1],[6,7,1,4,5],[5,1,1,2,4]]\n",
        "Output: [[0,4],[1,3],[1,4],[2,2],[3,0],[3,1],[4,0]]\n",
        "Explanation: The following cells can flow to the Pacific and Atlantic oceans, as shown below:\n",
        "[0,4]: [0,4] -> Pacific Ocean \n",
        "       [0,4] -> Atlantic Ocean\n",
        "[1,3]: [1,3] -> [0,3] -> Pacific Ocean \n",
        "       [1,3] -> [1,4] -> Atlantic Ocean\n",
        "[1,4]: [1,4] -> [1,3] -> [0,3] -> Pacific Ocean \n",
        "       [1,4] -> Atlantic Ocean\n",
        "[2,2]: [2,2] -> [1,2] -> [0,2] -> Pacific Ocean \n",
        "       [2,2] -> [2,3] -> [2,4] -> Atlantic Ocean\n",
        "[3,0]: [3,0] -> Pacific Ocean \n",
        "       [3,0] -> [4,0] -> Atlantic Ocean\n",
        "[3,1]: [3,1] -> [3,0] -> Pacific Ocean \n",
        "       [3,1] -> [4,1] -> Atlantic Ocean\n",
        "[4,0]: [4,0] -> Pacific Ocean \n",
        "       [4,0] -> Atlantic Ocean\n",
        "Note that there are other possible paths for these cells to flow to the Pacific and Atlantic oceans.\n",
        "Example 2:\n",
        "\n",
        "Input: heights = [[1]]\n",
        "Output: [[0,0]]\n",
        "Explanation: The water can flow from the only cell to the Pacific and Atlantic oceans.\n",
        " \n",
        "\n",
        "Constraints:\n",
        "\n",
        "m == heights.length\n",
        "n == heights[r].length\n",
        "1 <= m, n <= 200\n",
        "0 <= heights[r][c] <= 105\n",
        "\"\"\""
      ],
      "metadata": {
        "id": "jIzqDyXuLLOb"
      },
      "execution_count": null,
      "outputs": []
    },
    {
      "cell_type": "code",
      "source": [
        "# needs revision\n",
        "# code source link: https://zhenyu0519.github.io/2020/03/18/lc417/\n",
        "# matrix and heights, both mean same here as matrix is initialized with its value as heights\n",
        "\n",
        "\"\"\"\n",
        "Runtime: 581 ms, faster than 21.68% of Python3 online submissions for Pacific Atlantic Water Flow.\n",
        "Memory Usage: 15.5 MB, less than 78.42% of Python3 online submissions for Pacific Atlantic Water Flow.\n",
        "\"\"\"\n",
        "\n",
        "class Solution:\n",
        "    def pacificAtlantic(self, heights: List[List[int]]) -> List[List[int]]:\n",
        "        matrix = heights\n",
        "        if not matrix or not matrix[0]:return []\n",
        "        m, n = len(matrix),len(matrix[0])\n",
        "        p_visited = set()\n",
        "        a_visited = set()\n",
        "        directions = [(-1, 0), (1, 0), (0, 1), (0, -1)]\n",
        "        def dfs(visited, x,y):\n",
        "            visited.add((x,y))\n",
        "            for dx, dy in directions:\n",
        "                new_x, new_y = x+dx, y+dy\n",
        "                if 0<=new_x<m and 0<=new_y<n and (new_x,new_y) not in visited and matrix[new_x][new_y]>=matrix[x][y]:\n",
        "                    dfs(visited, new_x,new_y)\n",
        "        #iterate from left border and right border\n",
        "        for i in range(m):\n",
        "            dfs(p_visited,i,0)\n",
        "            dfs(a_visited,i,n-1)\n",
        "        #iterate from up border and bottom border\n",
        "        for j in range(n):\n",
        "            dfs(p_visited,0,j)\n",
        "            dfs(a_visited,m-1,j)\n",
        "        #The intersections of two sets are coordinates where water can flow to both P and A\n",
        "        return list(p_visited.intersection(a_visited))        "
      ],
      "metadata": {
        "id": "JnrumFZeKpkb"
      },
      "execution_count": null,
      "outputs": []
    },
    {
      "cell_type": "markdown",
      "source": [
        "# September 2022"
      ],
      "metadata": {
        "id": "Ctv4YzGVXYDf"
      }
    },
    {
      "cell_type": "markdown",
      "source": [
        "##01-09-2022"
      ],
      "metadata": {
        "id": "40TxA1WwN2g4"
      }
    },
    {
      "cell_type": "markdown",
      "source": [
        "####1448. Count Good Nodes in Binary Tree"
      ],
      "metadata": {
        "id": "To2LlOVZN1G5"
      }
    },
    {
      "cell_type": "code",
      "source": [
        "\"\"\"\n",
        "1448. Count Good Nodes in Binary Tree\n",
        "Medium\n",
        "\n",
        "3825\n",
        "\n",
        "110\n",
        "\n",
        "Add to List\n",
        "\n",
        "Share\n",
        "Given a binary tree root, a node X in the tree is named good if in the path from root to X there are no nodes with a value greater than X.\n",
        "\n",
        "Return the number of good nodes in the binary tree.\n",
        "\n",
        " \n",
        "\n",
        "Example 1:\n",
        "\n",
        "\n",
        "\n",
        "Input: root = [3,1,4,3,null,1,5]\n",
        "Output: 4\n",
        "Explanation: Nodes in blue are good.\n",
        "Root Node (3) is always a good node.\n",
        "Node 4 -> (3,4) is the maximum value in the path starting from the root.\n",
        "Node 5 -> (3,4,5) is the maximum value in the path\n",
        "Node 3 -> (3,1,3) is the maximum value in the path.\n",
        "Example 2:\n",
        "\n",
        "\n",
        "\n",
        "Input: root = [3,3,null,4,2]\n",
        "Output: 3\n",
        "Explanation: Node 2 -> (3, 3, 2) is not good, because \"3\" is higher than it.\n",
        "Example 3:\n",
        "\n",
        "Input: root = [1]\n",
        "Output: 1\n",
        "Explanation: Root is considered as good.\n",
        " \n",
        "\n",
        "Constraints:\n",
        "\n",
        "The number of nodes in the binary tree is in the range [1, 10^5].\n",
        "Each node's value is between [-10^4, 10^4].\n",
        "\"\"\""
      ],
      "metadata": {
        "id": "BtJmpaQ_N55y"
      },
      "execution_count": null,
      "outputs": []
    },
    {
      "cell_type": "code",
      "source": [
        "# needs revision\n",
        "# code link: https://shareablecode.com/snippets/count-good-nodes-in-binary-tree-python-solution-leetcode-jqmv-b8BM\n",
        "\n",
        "\"\"\"\n",
        "Runtime: 326 ms, faster than 73.24% of Python3 online submissions for Count Good Nodes in Binary Tree.\n",
        "Memory Usage: 32.6 MB, less than 16.88% of Python3 online submissions for Count Good Nodes in Binary Tree.\n",
        "\"\"\"\n",
        "\n",
        "# Definition for a binary tree node.\n",
        "# class TreeNode:\n",
        "#     def __init__(self, val=0, left=None, right=None):\n",
        "#         self.val = val\n",
        "#         self.left = left\n",
        "#         self.right = right\n",
        "class Solution:\n",
        "    def goodNodes(self, root):\n",
        "        result = 0\n",
        "        stk = [(root, root.val)]\n",
        "        while stk:\n",
        "            node, curr_max = stk.pop()\n",
        "            if not node:\n",
        "                continue\n",
        "            curr_max = max(curr_max, node.val)\n",
        "            result += int(curr_max <= node.val)\n",
        "            stk.append((node.right, curr_max))\n",
        "            stk.append((node.left, curr_max))\n",
        "        return result     "
      ],
      "metadata": {
        "id": "hfW4SH5bN5lV"
      },
      "execution_count": null,
      "outputs": []
    },
    {
      "cell_type": "markdown",
      "source": [
        "##02-09-2022"
      ],
      "metadata": {
        "id": "y0fMdoh3WQd9"
      }
    },
    {
      "cell_type": "markdown",
      "source": [
        "####637. Average of Levels in Binary Tree"
      ],
      "metadata": {
        "id": "v69HawwaWP_b"
      }
    },
    {
      "cell_type": "code",
      "source": [
        "\"\"\"\n",
        "637. Average of Levels in Binary Tree\n",
        "Easy\n",
        "\n",
        "4043\n",
        "\n",
        "272\n",
        "\n",
        "Add to List\n",
        "\n",
        "Share\n",
        "Given the root of a binary tree, return the average value of the nodes on each level in the form of an array. Answers within 10-5 of the actual answer will be accepted.\n",
        " \n",
        "\n",
        "Example 1:\n",
        "\n",
        "\n",
        "Input: root = [3,9,20,null,null,15,7]\n",
        "Output: [3.00000,14.50000,11.00000]\n",
        "Explanation: The average value of nodes on level 0 is 3, on level 1 is 14.5, and on level 2 is 11.\n",
        "Hence return [3, 14.5, 11].\n",
        "Example 2:\n",
        "\n",
        "\n",
        "Input: root = [3,9,20,15,7]\n",
        "Output: [3.00000,14.50000,11.00000]\n",
        " \n",
        "\n",
        "Constraints:\n",
        "\n",
        "The number of nodes in the tree is in the range [1, 104].\n",
        "-231 <= Node.val <= 231 - 1\n",
        "\"\"\""
      ],
      "metadata": {
        "id": "5ps1Ph7TWoB8"
      },
      "execution_count": null,
      "outputs": []
    },
    {
      "cell_type": "code",
      "source": [
        "# needs revision\n",
        "# code link: https://ibrahimhasnat.com/average-of-levels-in-binary-tree-leetcode-637-python-solution/\n",
        "# python3\n",
        "\n",
        "\"\"\"\n",
        "Runtime: 68 ms, faster than 70.75% of Python3 online submissions for Average of Levels in Binary Tree.\n",
        "Memory Usage: 16.5 MB, less than 87.46% of Python3 online submissions for Average of Levels in Binary Tree.\n",
        "\"\"\"\n",
        "\n",
        "class Solution:\n",
        "    def averageOfLevels(self, root: Optional[TreeNode]) -> List[float]:\n",
        "        if root is None:\n",
        "            return []\n",
        "\n",
        "        result = []\n",
        "        queue = [root]\n",
        "\n",
        "        while queue:\n",
        "            size = len(queue)\n",
        "            level = []\n",
        "\n",
        "            for i in range(size):\n",
        "                node = queue.pop()\n",
        "                level.append(node.val)\n",
        "\n",
        "                if node.left:\n",
        "                    queue.insert(0, node.left)\n",
        "                if node.right:\n",
        "                    queue.insert(0, node.right)\n",
        "\n",
        "            result.append(sum(level) / len(level))\n",
        "\n",
        "        return result"
      ],
      "metadata": {
        "id": "8OlFD_7HWRBN"
      },
      "execution_count": null,
      "outputs": []
    },
    {
      "cell_type": "markdown",
      "source": [
        "##03-09-2022"
      ],
      "metadata": {
        "id": "YIjxkjDGc9s5"
      }
    },
    {
      "cell_type": "markdown",
      "source": [
        "####967. Numbers With Same Consecutive Differences"
      ],
      "metadata": {
        "id": "Tl3Xe7I_c8n5"
      }
    },
    {
      "cell_type": "code",
      "source": [
        "\"\"\"\n",
        "967. Numbers With Same Consecutive Differences\n",
        "Medium\n",
        "\n",
        "2112\n",
        "\n",
        "169\n",
        "\n",
        "Add to List\n",
        "\n",
        "Share\n",
        "Return all non-negative integers of length n such that the absolute difference between every two consecutive digits is k.\n",
        "\n",
        "Note that every number in the answer must not have leading zeros. For example, 01 has one leading zero and is invalid.\n",
        "\n",
        "You may return the answer in any order.\n",
        "\n",
        " \n",
        "\n",
        "Example 1:\n",
        "\n",
        "Input: n = 3, k = 7\n",
        "Output: [181,292,707,818,929]\n",
        "Explanation: Note that 070 is not a valid number, because it has leading zeroes.\n",
        "Example 2:\n",
        "\n",
        "Input: n = 2, k = 1\n",
        "Output: [10,12,21,23,32,34,43,45,54,56,65,67,76,78,87,89,98]\n",
        " \n",
        "\n",
        "Constraints:\n",
        "\n",
        "2 <= n <= 9\n",
        "0 <= k <= 9\n",
        "\"\"\""
      ],
      "metadata": {
        "id": "Px772E2Tc25A"
      },
      "execution_count": null,
      "outputs": []
    },
    {
      "cell_type": "code",
      "source": [
        "# needs revision\n",
        "# code link: https://github.com/qinhanmin2014/LeetCode-solutions/blob/master/Python/967.md\n",
        "\n",
        "\n",
        "\"\"\"\n",
        "Runtime: 62 ms, faster than 38.71% of Python online submissions for Numbers With Same Consecutive Differences.\n",
        "Memory Usage: 13.6 MB, less than 41.94% of Python online submissions for Numbers With Same Consecutive Differences.\n",
        "\"\"\"\n",
        "\n",
        "def numsSameConsecDiff(n, k):\n",
        "    ans = []\n",
        "    if n == 1:\n",
        "        ans.append(0)\n",
        "\n",
        "    def dfs(num, cnt):\n",
        "        if cnt == n:\n",
        "            ans.append(int(num))\n",
        "            return\n",
        "        last_num = int(num[-1])\n",
        "        if k == 0:\n",
        "            dfs(num + str(last_num), cnt + 1)\n",
        "            return\n",
        "        for cur_num in [last_num + k, last_num - k]:\n",
        "            if 0 <= cur_num <= 9:\n",
        "                dfs(num + str(cur_num), cnt + 1)\n",
        "\n",
        "    for i in range(1, 10):\n",
        "        dfs(str(i), 1)\n",
        "    return ans\n",
        "\n",
        "\n",
        "numsSameConsecDiff(3, 7)"
      ],
      "metadata": {
        "colab": {
          "base_uri": "https://localhost:8080/"
        },
        "id": "3TgXJJ5Qc5zh",
        "outputId": "c3e9c958-870e-4829-ff00-848b4c9e1332"
      },
      "execution_count": null,
      "outputs": [
        {
          "output_type": "execute_result",
          "data": {
            "text/plain": [
              "[181, 292, 707, 818, 929]"
            ]
          },
          "metadata": {},
          "execution_count": 2
        }
      ]
    },
    {
      "cell_type": "markdown",
      "source": [
        "##04-09-2022"
      ],
      "metadata": {
        "id": "ucBxShhfwRRY"
      }
    },
    {
      "cell_type": "markdown",
      "source": [
        "####987. Vertical Order Traversal of a Binary Tree"
      ],
      "metadata": {
        "id": "e4wTRX2VwXQT"
      }
    },
    {
      "cell_type": "code",
      "source": [
        "\"\"\"\n",
        "987. Vertical Order Traversal of a Binary Tree\n",
        "Hard\n",
        "\n",
        "4892\n",
        "\n",
        "3871\n",
        "\n",
        "Add to List\n",
        "\n",
        "Share\n",
        "Given the root of a binary tree, calculate the vertical order traversal of the binary tree.\n",
        "\n",
        "For each node at position (row, col), its left and right children will be at positions (row + 1, col - 1) and (row + 1, col + 1) respectively. The root of the tree is at (0, 0).\n",
        "\n",
        "The vertical order traversal of a binary tree is a list of top-to-bottom orderings for each column index starting from the leftmost column and ending on the rightmost column. There may be multiple nodes in the same row and same column. In such a case, sort these nodes by their values.\n",
        "\n",
        "Return the vertical order traversal of the binary tree.\n",
        "\n",
        " \n",
        "\n",
        "Example 1:\n",
        "\n",
        "\n",
        "Input: root = [3,9,20,null,null,15,7]\n",
        "Output: [[9],[3,15],[20],[7]]\n",
        "Explanation:\n",
        "Column -1: Only node 9 is in this column.\n",
        "Column 0: Nodes 3 and 15 are in this column in that order from top to bottom.\n",
        "Column 1: Only node 20 is in this column.\n",
        "Column 2: Only node 7 is in this column.\n",
        "Example 2:\n",
        "\n",
        "\n",
        "Input: root = [1,2,3,4,5,6,7]\n",
        "Output: [[4],[2],[1,5,6],[3],[7]]\n",
        "Explanation:\n",
        "Column -2: Only node 4 is in this column.\n",
        "Column -1: Only node 2 is in this column.\n",
        "Column 0: Nodes 1, 5, and 6 are in this column.\n",
        "          1 is at the top, so it comes first.\n",
        "          5 and 6 are at the same position (2, 0), so we order them by their value, 5 before 6.\n",
        "Column 1: Only node 3 is in this column.\n",
        "Column 2: Only node 7 is in this column.\n",
        "Example 3:\n",
        "\n",
        "\n",
        "Input: root = [1,2,3,4,6,5,7]\n",
        "Output: [[4],[2],[1,5,6],[3],[7]]\n",
        "Explanation:\n",
        "This case is the exact same as example 2, but with nodes 5 and 6 swapped.\n",
        "Note that the solution remains the same since 5 and 6 are in the same location and should be ordered by their values.\n",
        " \n",
        "\n",
        "Constraints:\n",
        "\n",
        "The number of nodes in the tree is in the range [1, 1000].\n",
        "0 <= Node.val <= 1000\n",
        "\"\"\""
      ],
      "metadata": {
        "id": "TmSxhCvVwUDV"
      },
      "execution_count": null,
      "outputs": []
    },
    {
      "cell_type": "code",
      "source": [
        "# needs revision\n",
        "# code link: https://walkccc.me/LeetCode/problems/0987/\n",
        "\n",
        "\"\"\"\n",
        "Runtime: 59 ms, faster than 36.27% of Python3 online submissions for Vertical Order Traversal of a Binary Tree.\n",
        "Memory Usage: 14.2 MB, less than 72.74% of Python3 online submissions for Vertical Order Traversal of a Binary Tree.\n",
        "\"\"\"\n",
        "\n",
        "\n",
        "# Definition for a binary tree node.\n",
        "# class TreeNode:\n",
        "#     def __init__(self, val=0, left=None, right=None):\n",
        "#         self.val = val\n",
        "#         self.left = left\n",
        "#         self.right = right\n",
        "class Solution:\n",
        "    def verticalTraversal(self, root: Optional[TreeNode]) -> List[List[int]]:\n",
        "        ans = []\n",
        "        xToNodes = defaultdict(list)\n",
        "\n",
        "        def dfs(node: Optional[TreeNode], x: int, y: int) -> None:\n",
        "          if not node:\n",
        "            return\n",
        "\n",
        "          xToNodes[x].append((-y, node.val))\n",
        "          dfs(node.left, x - 1, y - 1)\n",
        "          dfs(node.right, x + 1, y - 1)\n",
        "\n",
        "        dfs(root, 0, 0)\n",
        "\n",
        "        for _, nodes in sorted(xToNodes.items(), key=lambda item: item[0]):\n",
        "          ans.append([val for _, val in sorted(nodes)])\n",
        "\n",
        "        return ans"
      ],
      "metadata": {
        "id": "8Zcr-slwweAG"
      },
      "execution_count": null,
      "outputs": []
    },
    {
      "cell_type": "markdown",
      "source": [
        "##05-09-2022"
      ],
      "metadata": {
        "id": "1BXAGMqwrimE"
      }
    },
    {
      "cell_type": "markdown",
      "source": [
        "####429. N-ary Tree Level Order Traversal"
      ],
      "metadata": {
        "id": "J-VlvNrVroUe"
      }
    },
    {
      "cell_type": "code",
      "source": [
        "\"\"\"\n",
        "429. N-ary Tree Level Order Traversal\n",
        "Medium\n",
        "\n",
        "2898\n",
        "\n",
        "114\n",
        "\n",
        "Add to List\n",
        "\n",
        "Share\n",
        "Given an n-ary tree, return the level order traversal of its nodes' values.\n",
        "\n",
        "Nary-Tree input serialization is represented in their level order traversal, each group of children is separated by the null value (See examples).\n",
        "\n",
        " \n",
        "\n",
        "Example 1:\n",
        "\n",
        "\n",
        "\n",
        "Input: root = [1,null,3,2,4,null,5,6]\n",
        "Output: [[1],[3,2,4],[5,6]]\n",
        "Example 2:\n",
        "\n",
        "\n",
        "\n",
        "Input: root = [1,null,2,3,4,5,null,null,6,7,null,8,null,9,10,null,null,11,null,12,null,13,null,null,14]\n",
        "Output: [[1],[2,3,4,5],[6,7,8,9,10],[11,12,13],[14]]\n",
        " \n",
        "\n",
        "Constraints:\n",
        "\n",
        "The height of the n-ary tree is less than or equal to 1000\n",
        "The total number of nodes is between [0, 104]\n",
        "\"\"\""
      ],
      "metadata": {
        "id": "_u3OPPPqreuA"
      },
      "execution_count": null,
      "outputs": []
    },
    {
      "cell_type": "code",
      "source": [
        "# needs revision\n",
        "# code link: https://zhenyu0519.github.io/2020/03/26/lc429/\n",
        "\n",
        "\"\"\"\n",
        "Runtime: 71 ms, faster than 66.87% of Python3 online submissions for N-ary Tree Level Order Traversal.\n",
        "Memory Usage: 16 MB, less than 50.08% of Python3 online submissions for N-ary Tree Level Order Traversal.\n",
        "\"\"\"\n",
        "\n",
        "\"\"\"\n",
        "# Definition for a Node.\n",
        "class Node:\n",
        "    def __init__(self, val=None, children=None):\n",
        "        self.val = val\n",
        "        self.children = children\n",
        "\"\"\"\n",
        "\n",
        "class Solution:\n",
        "    def levelOrder(self, root: 'Node') -> List[List[int]]:\n",
        "        if not root: return []\n",
        "        q = collections.deque([root])\n",
        "        res = []\n",
        "        while q:\n",
        "            temp = []\n",
        "            size = len(q)\n",
        "            for i in range(size):\n",
        "                node = q.popleft()\n",
        "                temp.append(node.val)\n",
        "                for child in node.children:\n",
        "                    q.append(child)\n",
        "            res.append(temp)\n",
        "        return res"
      ],
      "metadata": {
        "id": "p7_pdDYhr1YQ"
      },
      "execution_count": null,
      "outputs": []
    },
    {
      "cell_type": "markdown",
      "source": [
        "##06-09-2022"
      ],
      "metadata": {
        "id": "5brlXCE1sZx2"
      }
    },
    {
      "cell_type": "markdown",
      "source": [
        "####814. Binary Tree Pruning"
      ],
      "metadata": {
        "id": "jmeZZbfssdod"
      }
    },
    {
      "cell_type": "code",
      "source": [
        "\"\"\"\n",
        "814. Binary Tree Pruning\n",
        "Medium\n",
        "\n",
        "3583\n",
        "\n",
        "94\n",
        "\n",
        "Add to List\n",
        "\n",
        "Share\n",
        "Given the root of a binary tree, return the same tree where every subtree (of the given tree) not containing a 1 has been removed.\n",
        "\n",
        "A subtree of a node node is node plus every node that is a descendant of node.\n",
        "\n",
        " \n",
        "\n",
        "Example 1:\n",
        "\n",
        "\n",
        "Input: root = [1,null,0,0,1]\n",
        "Output: [1,null,0,null,1]\n",
        "Explanation: \n",
        "Only the red nodes satisfy the property \"every subtree not containing a 1\".\n",
        "The diagram on the right represents the answer.\n",
        "Example 2:\n",
        "\n",
        "\n",
        "Input: root = [1,0,1,0,0,0,1]\n",
        "Output: [1,null,1,null,1]\n",
        "Example 3:\n",
        "\n",
        "\n",
        "Input: root = [1,1,0,1,1,0,1,0]\n",
        "Output: [1,1,0,1,1,null,1]\n",
        " \n",
        "\n",
        "Constraints:\n",
        "\n",
        "The number of nodes in the tree is in the range [1, 200].\n",
        "Node.val is either 0 or 1.\n",
        "\"\"\""
      ],
      "metadata": {
        "id": "Wqc60QRisZHD"
      },
      "execution_count": null,
      "outputs": []
    },
    {
      "cell_type": "code",
      "source": [
        "# needs revision\n",
        "# code link: https://goodtecher.com/leetcode-814-binary-tree-pruning/\n",
        "\n",
        "\"\"\"\n",
        "Runtime: 48 ms, faster than 5.85% of Python online submissions for Binary Tree Pruning.\n",
        "Memory Usage: 13.5 MB, less than 60.82% of Python online submissions for Binary Tree Pruning.\n",
        "\"\"\"\n",
        "\n",
        "class Solution(object):\n",
        "    def pruneTree(self, root):\n",
        "        if not self.helper(root):\n",
        "            return None\n",
        "                \n",
        "        return root\n",
        "    \n",
        "    \n",
        "    def helper(self, root):\n",
        "        if not root:\n",
        "            return False\n",
        "                \n",
        "        left = self.helper(root.left)\n",
        "        right = self.helper(root.right)\n",
        "        \n",
        "        \n",
        "        if not left:\n",
        "            root.left = None\n",
        "            \n",
        "        if not right:\n",
        "            root.right = None\n",
        "            \n",
        "            \n",
        "        return root.val == 1 or left or right"
      ],
      "metadata": {
        "id": "d_mUjrQLsj60"
      },
      "execution_count": null,
      "outputs": []
    },
    {
      "cell_type": "markdown",
      "source": [
        "##07-09-2022"
      ],
      "metadata": {
        "id": "jDbimSyr5p08"
      }
    },
    {
      "cell_type": "markdown",
      "source": [
        "####606. Construct String from Binary Tree"
      ],
      "metadata": {
        "id": "Et_iKLjw5qkJ"
      }
    },
    {
      "cell_type": "code",
      "source": [
        "\"\"\"\n",
        "606. Construct String from Binary Tree\n",
        "Easy\n",
        "\n",
        "2137\n",
        "\n",
        "2655\n",
        "\n",
        "Add to List\n",
        "\n",
        "Share\n",
        "Given the root of a binary tree, construct a string consisting of parenthesis and integers from a binary tree with the preorder traversal way, and return it.\n",
        "\n",
        "Omit all the empty parenthesis pairs that do not affect the one-to-one mapping relationship between the string and the original binary tree.\n",
        "\n",
        " \n",
        "\n",
        "Example 1:\n",
        "\n",
        "\n",
        "Input: root = [1,2,3,4]\n",
        "Output: \"1(2(4))(3)\"\n",
        "Explanation: Originally, it needs to be \"1(2(4)())(3()())\", but you need to omit all the unnecessary empty parenthesis pairs. And it will be \"1(2(4))(3)\"\n",
        "Example 2:\n",
        "\n",
        "\n",
        "Input: root = [1,2,3,null,4]\n",
        "Output: \"1(2()(4))(3)\"\n",
        "Explanation: Almost the same as the first example, except we cannot omit the first parenthesis pair to break the one-to-one mapping relationship between the input and the output.\n",
        " \n",
        "\n",
        "Constraints:\n",
        "\n",
        "The number of nodes in the tree is in the range [1, 104].\n",
        "-1000 <= Node.val <= 1000\n",
        "\"\"\""
      ],
      "metadata": {
        "id": "mJC09bO15sEQ"
      },
      "execution_count": null,
      "outputs": []
    },
    {
      "cell_type": "code",
      "source": [
        "# needs revision\n",
        "# code link: https://walkccc.me/LeetCode/problems/0606/\n",
        "# python3\n",
        "\n",
        "\"\"\"\n",
        "Runtime: 92 ms, faster than 35.93% of Python3 online submissions for Construct String from Binary Tree.\n",
        "Memory Usage: 16.4 MB, less than 30.02% of Python3 online submissions for Construct String from Binary Tree.\n",
        "\"\"\"\n",
        "\n",
        "# Definition for a binary tree node.\n",
        "# class TreeNode:\n",
        "#     def __init__(self, val=0, left=None, right=None):\n",
        "#         self.val = val\n",
        "#         self.left = left\n",
        "#         self.right = right\n",
        "class Solution:\n",
        "    def tree2str(self, root: Optional[TreeNode]) -> str:\n",
        "        def dfs(root: Optional[TreeNode]) -> str:\n",
        "          if not root:\n",
        "            return ''\n",
        "          if root.right:\n",
        "            return str(root.val) + '(' + dfs(root.left) + ')(' + dfs(root.right) + ')'\n",
        "          if root.left:\n",
        "            return str(root.val) + '(' + dfs(root.left) + ')'\n",
        "          return str(root.val)\n",
        "        return dfs(root)"
      ],
      "metadata": {
        "id": "aaXsuJfP55ok"
      },
      "execution_count": null,
      "outputs": []
    },
    {
      "cell_type": "markdown",
      "source": [
        "##08-09-2022"
      ],
      "metadata": {
        "id": "CfYycevsTz8Z"
      }
    },
    {
      "cell_type": "markdown",
      "source": [
        "####94. Binary Tree Inorder Traversal"
      ],
      "metadata": {
        "id": "vHt70I79T1Ta"
      }
    },
    {
      "cell_type": "code",
      "source": [
        "\"\"\"\n",
        "94. Binary Tree Inorder Traversal\n",
        "Easy\n",
        "\n",
        "9471\n",
        "\n",
        "450\n",
        "\n",
        "Add to List\n",
        "\n",
        "Share\n",
        "Given the root of a binary tree, return the inorder traversal of its nodes' values.\n",
        "\n",
        " \n",
        "\n",
        "Example 1:\n",
        "\n",
        "\n",
        "Input: root = [1,null,2,3]\n",
        "Output: [1,3,2]\n",
        "Example 2:\n",
        "\n",
        "Input: root = []\n",
        "Output: []\n",
        "Example 3:\n",
        "\n",
        "Input: root = [1]\n",
        "Output: [1]\n",
        " \n",
        "\n",
        "Constraints:\n",
        "\n",
        "The number of nodes in the tree is in the range [0, 100].\n",
        "-100 <= Node.val <= 100\n",
        " \n",
        "\n",
        "Follow up: Recursive solution is trivial, could you do it iteratively?\n",
        "\"\"\""
      ],
      "metadata": {
        "id": "rpofv5DwT11c"
      },
      "execution_count": null,
      "outputs": []
    },
    {
      "cell_type": "code",
      "source": [
        "# needs revision \n",
        "# code link: https://zhenyu0519.github.io/2020/03/10/lc94/ \n",
        "\n",
        "\"\"\"\n",
        "Runtime: 41 ms, faster than 5.65% of Python online submissions for Binary Tree Inorder Traversal.\n",
        "Memory Usage: 13.6 MB, less than 5.08% of Python online submissions for Binary Tree Inorder Traversal.\n",
        "\"\"\"\n",
        "\n",
        "# Definition for a binary tree node.\n",
        "# class TreeNode(object):\n",
        "#     def __init__(self, val=0, left=None, right=None):\n",
        "#         self.val = val\n",
        "#         self.left = left\n",
        "#         self.right = right\n",
        "class Solution(object):\n",
        "    def inorderTraversal(self, root):\n",
        "        if root is None: return []\n",
        "        def dfs(root,res):\n",
        "            if root is None: return\n",
        "            dfs(root.left,res)\n",
        "            res.append(root.val)\n",
        "            dfs(root.right,res)\n",
        "            return res\n",
        "        return dfs(root,[])"
      ],
      "metadata": {
        "id": "ClmHNAkrT2QW"
      },
      "execution_count": null,
      "outputs": []
    },
    {
      "cell_type": "markdown",
      "source": [
        "##09-09-2022"
      ],
      "metadata": {
        "id": "0r9_K_mMaXXo"
      }
    },
    {
      "cell_type": "markdown",
      "source": [
        "####1996. The Number of Weak Characters in the Game"
      ],
      "metadata": {
        "id": "_6bXl5k4aW-1"
      }
    },
    {
      "cell_type": "code",
      "source": [
        "\"\"\"\n",
        "1996. The Number of Weak Characters in the Game\n",
        "Medium\n",
        "\n",
        "2203\n",
        "\n",
        "73\n",
        "\n",
        "Add to List\n",
        "\n",
        "Share\n",
        "You are playing a game that contains multiple characters, and each of the characters has two main properties: attack and defense. You are given a 2D integer array properties where properties[i] = [attacki, defensei] represents the properties of the ith character in the game.\n",
        "\n",
        "A character is said to be weak if any other character has both attack and defense levels strictly greater than this character's attack and defense levels. More formally, a character i is said to be weak if there exists another character j where attackj > attacki and defensej > defensei.\n",
        "\n",
        "Return the number of weak characters.\n",
        "\n",
        " \n",
        "\n",
        "Example 1:\n",
        "\n",
        "Input: properties = [[5,5],[6,3],[3,6]]\n",
        "Output: 0\n",
        "Explanation: No character has strictly greater attack and defense than the other.\n",
        "Example 2:\n",
        "\n",
        "Input: properties = [[2,2],[3,3]]\n",
        "Output: 1\n",
        "Explanation: The first character is weak because the second character has a strictly greater attack and defense.\n",
        "Example 3:\n",
        "\n",
        "Input: properties = [[1,5],[10,4],[4,3]]\n",
        "Output: 1\n",
        "Explanation: The third character is weak because the second character has a strictly greater attack and defense.\n",
        " \n",
        "\n",
        "Constraints:\n",
        "\n",
        "2 <= properties.length <= 105\n",
        "properties[i].length == 2\n",
        "1 <= attacki, defensei <= 105\n",
        "\"\"\""
      ],
      "metadata": {
        "id": "5aB-JEYkal3o"
      },
      "execution_count": null,
      "outputs": []
    },
    {
      "cell_type": "code",
      "source": [
        "# my following code fails if there are any duplicates in provided list of lists called properties\n",
        "\n",
        "def numberOfWeakCharacters(properties):\n",
        "    laast = properties[-1]\n",
        "    listo = []\n",
        "    # for i in properties:\n",
        "    #     if i[0]>laast[0] and i[1]>laast[1]:\n",
        "    #         listo = [['a','b']]\n",
        "    for i in range(len(properties)):\n",
        "        if properties[i+1:] != []:\n",
        "            for j in properties[i+1:]:\n",
        "                if (properties[i][0] > j[0] and properties[i][1] > j[1]):\n",
        "                    if j not in listo:\n",
        "                        listo.append(j)    \n",
        "                if(properties[i][0] < j[0] and properties[i][1] < j[1]):\n",
        "                    if properties[i] not in listo:\n",
        "                        listo.append(properties[i])                            \n",
        "    return len(listo)\n",
        "\n",
        "\n",
        "numberOfWeakCharacters([[7,7],[1,2],[9,7],[7,3],[3,10],[9,8],[8,10],[4,3],[1,5],[1,5]])\n",
        "\n",
        "# answer needs to be 6, the last [1,5] is ignored by my program"
      ],
      "metadata": {
        "colab": {
          "base_uri": "https://localhost:8080/"
        },
        "id": "zMv86qTCaqAL",
        "outputId": "3b10d9bf-a4ab-43fb-b50f-c5bf0d17d64b"
      },
      "execution_count": null,
      "outputs": [
        {
          "output_type": "execute_result",
          "data": {
            "text/plain": [
              "5"
            ]
          },
          "metadata": {},
          "execution_count": 5
        }
      ]
    },
    {
      "cell_type": "code",
      "source": [
        "# needs revision\n",
        "# code link: https://github.com/Wenzhi-Ding/coding_notes/blob/master/10_LeetCode/1996-the-number-of-weak-characters-in-the-game.py\n",
        "\n",
        "\"\"\"\n",
        "Runtime: 1860 ms, faster than 98.31% of Python online submissions for The Number of Weak Characters in the Game.\n",
        "Memory Usage: 53.7 MB, less than 100.00% of Python online submissions for The Number of Weak Characters in the Game.\n",
        "\"\"\"\n",
        "\n",
        "def numberOfWeakCharacters(properties):\n",
        "    properties.sort()\n",
        "    res = 0\n",
        "    max_a, max_b = cur_a, cur_b = properties.pop()\n",
        "    while properties:\n",
        "        _a, _b = properties.pop()\n",
        "        if cur_a != _a: \n",
        "            max_b, cur_b = max(max_b, cur_b), _b\n",
        "            cur_a = _a \n",
        "\n",
        "        if max_b > _b and max_a > _a: res += 1\n",
        "\n",
        "    return res\n",
        "\n",
        "\n",
        "numberOfWeakCharacters([[7,7],[1,2],[9,7],[7,3],[3,10],[9,8],[8,10],[4,3],[1,5],[1,5]])\n"
      ],
      "metadata": {
        "colab": {
          "base_uri": "https://localhost:8080/"
        },
        "id": "WGKjKr01dRF7",
        "outputId": "b6eb44aa-7f08-453c-bcd5-415e35e9ae47"
      },
      "execution_count": null,
      "outputs": [
        {
          "output_type": "execute_result",
          "data": {
            "text/plain": [
              "6"
            ]
          },
          "metadata": {},
          "execution_count": 7
        }
      ]
    },
    {
      "cell_type": "markdown",
      "source": [
        "##10-09-2022"
      ],
      "metadata": {
        "id": "2ZM5z3uWrMYb"
      }
    },
    {
      "cell_type": "markdown",
      "source": [
        "####188. Best Time to Buy and Sell Stock IV"
      ],
      "metadata": {
        "id": "UZeFKTA-rMJC"
      }
    },
    {
      "cell_type": "code",
      "source": [
        "\"\"\"\n",
        "188. Best Time to Buy and Sell Stock IV\n",
        "Hard\n",
        "\n",
        "5404\n",
        "\n",
        "180\n",
        "\n",
        "Add to List\n",
        "\n",
        "Share\n",
        "You are given an integer array prices where prices[i] is the price of a given stock on the ith day, and an integer k.\n",
        "\n",
        "Find the maximum profit you can achieve. You may complete at most k transactions.\n",
        "\n",
        "Note: You may not engage in multiple transactions simultaneously (i.e., you must sell the stock before you buy again).\n",
        "\n",
        " \n",
        "\n",
        "Example 1:\n",
        "\n",
        "Input: k = 2, prices = [2,4,1]\n",
        "Output: 2\n",
        "Explanation: Buy on day 1 (price = 2) and sell on day 2 (price = 4), profit = 4-2 = 2.\n",
        "Example 2:\n",
        "\n",
        "Input: k = 2, prices = [3,2,6,5,0,3]\n",
        "Output: 7\n",
        "Explanation: Buy on day 2 (price = 2) and sell on day 3 (price = 6), profit = 6-2 = 4. Then buy on day 5 (price = 0) and sell on day 6 (price = 3), profit = 3-0 = 3.\n",
        " \n",
        "\n",
        "Constraints:\n",
        "\n",
        "0 <= k <= 100\n",
        "0 <= prices.length <= 1000\n",
        "0 <= prices[i] <= 1000\n",
        "\"\"\""
      ],
      "metadata": {
        "id": "2zlabToNrNyi"
      },
      "execution_count": null,
      "outputs": []
    },
    {
      "cell_type": "code",
      "source": [
        "# needs revision\n",
        "# code link (scroll to second program): https://www.geeksforgeeks.org/maximum-profit-by-buying-and-selling-a-share-at-most-k-times/\n",
        "\n",
        "\"\"\"\n",
        "Runtime: 130 ms, faster than 47.37% of Python online submissions for Best Time to Buy and Sell Stock IV.\n",
        "Memory Usage: 14.9 MB, less than 50.99% of Python online submissions for Best Time to Buy and Sell Stock IV.\n",
        "\"\"\"\n",
        "\n",
        "class Solution(object):\n",
        "    def maxProfit(self, k, prices):\n",
        "        n = len(prices)\n",
        "        # Table to store results of subproblems\n",
        "        # profit[t][i] stores maximum profit\n",
        "        # using atmost t transactions up to\n",
        "        # day i (including day i)\n",
        "        profit = [[0 for i in range(n + 1)]\n",
        "                    for j in range(k + 1)]\n",
        "\n",
        "        # Fill the table in bottom-up fashion\n",
        "        for i in range(1, k + 1):\n",
        "            prevDiff = float('-inf')\n",
        "\n",
        "            for j in range(1, n):\n",
        "                prevDiff = max(prevDiff,\n",
        "                            profit[i - 1][j - 1] -\n",
        "                            prices[j - 1])\n",
        "                profit[i][j] = max(profit[i][j - 1],\n",
        "                                prices[j] + prevDiff)\n",
        "        return profit[k][n - 1] "
      ],
      "metadata": {
        "id": "9evtEgHMrLdC"
      },
      "execution_count": null,
      "outputs": []
    },
    {
      "cell_type": "markdown",
      "source": [
        "##11-09-2022"
      ],
      "metadata": {
        "id": "YQ-YnOP2bXtE"
      }
    },
    {
      "cell_type": "markdown",
      "source": [
        "####1383. Maximum Performance of a Team"
      ],
      "metadata": {
        "id": "BfTYTaNrbXT5"
      }
    },
    {
      "cell_type": "code",
      "source": [
        "\"\"\"\n",
        "1383. Maximum Performance of a Team\n",
        "Hard\n",
        "\n",
        "2153\n",
        "\n",
        "60\n",
        "\n",
        "Add to List\n",
        "\n",
        "Share\n",
        "You are given two integers n and k and two integer arrays speed and efficiency both of length n. There are n engineers numbered from 1 to n. speed[i] and efficiency[i] represent the speed and efficiency of the ith engineer respectively.\n",
        "\n",
        "Choose at most k different engineers out of the n engineers to form a team with the maximum performance.\n",
        "\n",
        "The performance of a team is the sum of their engineers' speeds multiplied by the minimum efficiency among their engineers.\n",
        "\n",
        "Return the maximum performance of this team. Since the answer can be a huge number, return it modulo 109 + 7.\n",
        "\n",
        " \n",
        "\n",
        "Example 1:\n",
        "\n",
        "Input: n = 6, speed = [2,10,3,1,5,8], efficiency = [5,4,3,9,7,2], k = 2\n",
        "Output: 60\n",
        "Explanation: \n",
        "We have the maximum performance of the team by selecting engineer 2 (with speed=10 and efficiency=4) and engineer 5 (with speed=5 and efficiency=7). That is, performance = (10 + 5) * min(4, 7) = 60.\n",
        "Example 2:\n",
        "\n",
        "Input: n = 6, speed = [2,10,3,1,5,8], efficiency = [5,4,3,9,7,2], k = 3\n",
        "Output: 68\n",
        "Explanation:\n",
        "This is the same example as the first but k = 3. We can select engineer 1, engineer 2 and engineer 5 to get the maximum performance of the team. That is, performance = (2 + 10 + 5) * min(5, 4, 7) = 68.\n",
        "Example 3:\n",
        "\n",
        "Input: n = 6, speed = [2,10,3,1,5,8], efficiency = [5,4,3,9,7,2], k = 4\n",
        "Output: 72\n",
        " \n",
        "\n",
        "Constraints:\n",
        "\n",
        "1 <= k <= n <= 105\n",
        "speed.length == n\n",
        "efficiency.length == n\n",
        "1 <= speed[i] <= 105\n",
        "1 <= efficiency[i] <= 108\n",
        "\"\"\""
      ],
      "metadata": {
        "id": "k0CWuSWabYoY"
      },
      "execution_count": null,
      "outputs": []
    },
    {
      "cell_type": "code",
      "source": [
        "# needs revision\n",
        "# code link: https://dev.to/seanpgallivan/solution-maximum-performance-of-a-team-244n\n",
        "\n",
        "\"\"\"\n",
        "Runtime: 1237 ms, faster than 9.52% of Python online submissions for Maximum Performance of a Team.\n",
        "Memory Usage: 30.9 MB, less than 95.24% of Python online submissions for Maximum Performance of a Team.\n",
        "\"\"\"\n",
        "\n",
        "class Solution(object):\n",
        "    def maxPerformance(self, n, speed, efficiency, k):\n",
        "        ord = sorted(zip(efficiency, speed), reverse=True)\n",
        "        spheap, totalSpeed, best = [], 0, 0\n",
        "        for eff, spd in ord:\n",
        "            heappush(spheap, spd)\n",
        "            if len(spheap) <= k: totalSpeed += spd\n",
        "            else: totalSpeed += spd - heappop(spheap)\n",
        "            best = max(best, totalSpeed * eff)\n",
        "        return best % 1000000007"
      ],
      "metadata": {
        "id": "YWgqltvJbZBg"
      },
      "execution_count": null,
      "outputs": []
    },
    {
      "cell_type": "markdown",
      "source": [
        "##12-09-2022"
      ],
      "metadata": {
        "id": "3NV2fLWQxH9Z"
      }
    },
    {
      "cell_type": "markdown",
      "source": [
        "####948. Bag of Tokens"
      ],
      "metadata": {
        "id": "MZf3IONJxHs6"
      }
    },
    {
      "cell_type": "code",
      "source": [
        "\"\"\"\n",
        "948. Bag of Tokens\n",
        "Medium\n",
        "\n",
        "897\n",
        "\n",
        "327\n",
        "\n",
        "Add to List\n",
        "\n",
        "Share\n",
        "You have an initial power of power, an initial score of 0, and a bag of tokens where tokens[i] is the value of the ith token (0-indexed).\n",
        "\n",
        "Your goal is to maximize your total score by potentially playing each token in one of two ways:\n",
        "\n",
        "If your current power is at least tokens[i], you may play the ith token face up, losing tokens[i] power and gaining 1 score.\n",
        "If your current score is at least 1, you may play the ith token face down, gaining tokens[i] power and losing 1 score.\n",
        "Each token may be played at most once and in any order. You do not have to play all the tokens.\n",
        "\n",
        "Return the largest possible score you can achieve after playing any number of tokens.\n",
        "\n",
        " \n",
        "\n",
        "Example 1:\n",
        "\n",
        "Input: tokens = [100], power = 50\n",
        "Output: 0\n",
        "Explanation: Playing the only token in the bag is impossible because you either have too little power or too little score.\n",
        "Example 2:\n",
        "\n",
        "Input: tokens = [100,200], power = 150\n",
        "Output: 1\n",
        "Explanation: Play the 0th token (100) face up, your power becomes 50 and score becomes 1.\n",
        "There is no need to play the 1st token since you cannot play it face up to add to your score.\n",
        "Example 3:\n",
        "\n",
        "Input: tokens = [100,200,300,400], power = 200\n",
        "Output: 2\n",
        "Explanation: Play the tokens in this order to get a score of 2:\n",
        "1. Play the 0th token (100) face up, your power becomes 100 and score becomes 1.\n",
        "2. Play the 3rd token (400) face down, your power becomes 500 and score becomes 0.\n",
        "3. Play the 1st token (200) face up, your power becomes 300 and score becomes 1.\n",
        "4. Play the 2nd token (300) face up, your power becomes 0 and score becomes 2.\n",
        " \n",
        "\n",
        "Constraints:\n",
        "\n",
        "0 <= tokens.length <= 1000\n",
        "0 <= tokens[i], power < 104\n",
        "\"\"\""
      ],
      "metadata": {
        "id": "1J2JC0hdxIgh"
      },
      "execution_count": null,
      "outputs": []
    },
    {
      "cell_type": "code",
      "source": [
        "# my wrong solution, needs some improvement\n",
        "\n",
        "def bagOfTokensScore(tokens, power):\n",
        "    \n",
        "    if tokens == []:\n",
        "        return 0\n",
        "    \n",
        "    if len(tokens) == 1 and  power > tokens[0]:\n",
        "        return 1\n",
        "    \n",
        "    tokens = sorted(tokens)\n",
        "\n",
        "    if power < tokens[0]:\n",
        "        return 0\n",
        "\n",
        "    score = 0\n",
        "\n",
        "\n",
        "    i = 0\n",
        "    j = len(tokens)-1\n",
        "\n",
        "    while i <= j:\n",
        "        while power >= tokens[i]:\n",
        "            power -= tokens[i]\n",
        "            score += 1\n",
        "            i += 1\n",
        "        # else:\n",
        "        #     i += 1\n",
        "\n",
        "        if score >= 1 and i < j:\n",
        "            power += tokens[j]\n",
        "            score -= 1\n",
        "            j -= 1 \n",
        "    return score\n",
        "    \n",
        "tokens = [100,200]\n",
        "power = 150\n",
        "bagOfTokensScore(tokens, power)\n",
        "\n",
        "\n",
        "\n",
        "\"\"\"\n",
        "[100]\n",
        "50\n",
        "[100,200]\n",
        "150\n",
        "[100,200,300,400]\n",
        "200\n",
        "\"\"\""
      ],
      "metadata": {
        "id": "e7yNGhS_13xT"
      },
      "execution_count": null,
      "outputs": []
    },
    {
      "cell_type": "code",
      "source": [
        "# needs revision\n",
        "# explantation video link: https://www.youtube.com/watch?v=iEU2doM224M\n",
        "\n",
        "\"\"\"\n",
        "Runtime: 83 ms, faster than 16.67% of Python online submissions for Bag of Tokens.\n",
        "Memory Usage: 13.6 MB, less than 25.00% of Python online submissions for Bag of Tokens.\n",
        "\"\"\"\n",
        "\n",
        "\n",
        "def bagOfTokensScore(tokens, power):\n",
        "    tokens.sort()\n",
        "    score = 0\n",
        "    l,r =0,len(tokens)-1\n",
        "\n",
        "    while l <= r and(score or power >= tokens[l]):\n",
        "        \n",
        "        if power >= tokens[l]:\n",
        "            score += 1\n",
        "            power -= tokens[l]\n",
        "            l += 1\n",
        "            \n",
        "        elif l != r:\n",
        "            score -= 1\n",
        "            power += tokens[r]\n",
        "            r -= 1\n",
        "            \n",
        "        else:\n",
        "            break\n",
        "            \n",
        "    return score\n",
        "\n",
        "\n",
        "\n",
        "tokens = [100,200,300,400]\n",
        "power = 200\n",
        "bagOfTokensScore(tokens, power)"
      ],
      "metadata": {
        "colab": {
          "base_uri": "https://localhost:8080/"
        },
        "id": "DnPnqDSfxI7P",
        "outputId": "9ee56bf2-4685-4aea-b481-80b4f3451574"
      },
      "execution_count": null,
      "outputs": [
        {
          "output_type": "execute_result",
          "data": {
            "text/plain": [
              "2"
            ]
          },
          "metadata": {},
          "execution_count": 2
        }
      ]
    },
    {
      "cell_type": "markdown",
      "source": [
        "##13-09-2022"
      ],
      "metadata": {
        "id": "dKjlS_8CDbEt"
      }
    },
    {
      "cell_type": "markdown",
      "source": [
        "####393. UTF-8 Validation"
      ],
      "metadata": {
        "id": "-mFI_D2-DawR"
      }
    },
    {
      "cell_type": "code",
      "source": [
        "\"\"\"\n",
        "393. UTF-8 Validation\n",
        "Medium\n",
        "\n",
        "743\n",
        "\n",
        "2552\n",
        "\n",
        "Add to List\n",
        "\n",
        "Share\n",
        "Given an integer array data representing the data, return whether it is a valid UTF-8 encoding (i.e. it translates to a sequence of valid UTF-8 encoded characters).\n",
        "\n",
        "A character in UTF8 can be from 1 to 4 bytes long, subjected to the following rules:\n",
        "\n",
        "For a 1-byte character, the first bit is a 0, followed by its Unicode code.\n",
        "For an n-bytes character, the first n bits are all one's, the n + 1 bit is 0, followed by n - 1 bytes with the most significant 2 bits being 10.\n",
        "This is how the UTF-8 encoding would work:\n",
        "\n",
        "     Number of Bytes   |        UTF-8 Octet Sequence\n",
        "                       |              (binary)\n",
        "   --------------------+-----------------------------------------\n",
        "            1          |   0xxxxxxx\n",
        "            2          |   110xxxxx 10xxxxxx\n",
        "            3          |   1110xxxx 10xxxxxx 10xxxxxx\n",
        "            4          |   11110xxx 10xxxxxx 10xxxxxx 10xxxxxx\n",
        "x denotes a bit in the binary form of a byte that may be either 0 or 1.\n",
        "\n",
        "Note: The input is an array of integers. Only the least significant 8 bits of each integer is used to store the data. This means each integer represents only 1 byte of data.\n",
        "\n",
        " \n",
        "\n",
        "Example 1:\n",
        "\n",
        "Input: data = [197,130,1]\n",
        "Output: true\n",
        "Explanation: data represents the octet sequence: 11000101 10000010 00000001.\n",
        "It is a valid utf-8 encoding for a 2-bytes character followed by a 1-byte character.\n",
        "Example 2:\n",
        "\n",
        "Input: data = [235,140,4]\n",
        "Output: false\n",
        "Explanation: data represented the octet sequence: 11101011 10001100 00000100.\n",
        "The first 3 bits are all one's and the 4th bit is 0 means it is a 3-bytes character.\n",
        "The next byte is a continuation byte which starts with 10 and that's correct.\n",
        "But the second continuation byte does not start with 10, so it is invalid.\n",
        " \n",
        "\n",
        "Constraints:\n",
        "\n",
        "1 <= data.length <= 2 * 104\n",
        "0 <= data[i] <= 255\n",
        "\"\"\""
      ],
      "metadata": {
        "id": "XZJ4KtzhECOp"
      },
      "execution_count": null,
      "outputs": []
    },
    {
      "cell_type": "code",
      "source": [
        "# needs revision\n",
        "# code link: https://programs.programmingoneonone.com/2021/09/leetcode-utf-8-validation-problem-solution.html\n",
        "\n",
        "\"\"\"\n",
        "Runtime: 151 ms, faster than 48.28% of Python online submissions for UTF-8 Validation.\n",
        "Memory Usage: 13.5 MB, less than 94.83% of Python online submissions for UTF-8 Validation.\n",
        "\"\"\"\n",
        "\n",
        "def validUtf8(data):\n",
        "    def check_rem(i,total):\n",
        "        return all(i<len(data) and (data[i]>>6)==0b10 for i in range(i,i+total))\n",
        "    i = 0\n",
        "    while i<len(data):\n",
        "        if data[i]>>7==0: i+=1\n",
        "        elif data[i]>>5==0b110 and check_rem(i+1,1): i+=2\n",
        "        elif data[i]>>4==0b1110 and check_rem(i+1,2): i+=3\n",
        "        elif data[i]>>3==0b11110 and check_rem(i+1,3): i+=4\n",
        "        else: return False\n",
        "    return True"
      ],
      "metadata": {
        "id": "vskrEWfxDk0g"
      },
      "execution_count": null,
      "outputs": []
    },
    {
      "cell_type": "markdown",
      "source": [
        "##14-09-2022"
      ],
      "metadata": {
        "id": "GsuIzCOuDWm1"
      }
    },
    {
      "cell_type": "markdown",
      "source": [
        "####1457. Pseudo-Palindromic Paths in a Binary Tree"
      ],
      "metadata": {
        "id": "lrm6n_dMDWjD"
      }
    },
    {
      "cell_type": "code",
      "source": [
        "\"\"\"\n",
        "1457. Pseudo-Palindromic Paths in a Binary Tree\n",
        "Medium\n",
        "\n",
        "1764\n",
        "\n",
        "59\n",
        "\n",
        "Add to List\n",
        "\n",
        "Share\n",
        "Given a binary tree where node values are digits from 1 to 9. A path in the binary tree is said to be pseudo-palindromic if at least one permutation of the node values in the path is a palindrome.\n",
        "\n",
        "Return the number of pseudo-palindromic paths going from the root node to leaf nodes.\n",
        "\n",
        " \n",
        "\n",
        "Example 1:\n",
        "\n",
        "\n",
        "\n",
        "Input: root = [2,3,1,3,1,null,1]\n",
        "Output: 2 \n",
        "Explanation: The figure above represents the given binary tree. There are three paths going from the root node to leaf nodes: the red path [2,3,3], the green path [2,1,1], and the path [2,3,1]. Among these paths only red path and green path are pseudo-palindromic paths since the red path [2,3,3] can be rearranged in [3,2,3] (palindrome) and the green path [2,1,1] can be rearranged in [1,2,1] (palindrome).\n",
        "Example 2:\n",
        "\n",
        "\n",
        "\n",
        "Input: root = [2,1,1,1,3,null,null,null,null,null,1]\n",
        "Output: 1 \n",
        "Explanation: The figure above represents the given binary tree. There are three paths going from the root node to leaf nodes: the green path [2,1,1], the path [2,1,3,1], and the path [2,1]. Among these paths only the green path is pseudo-palindromic since [2,1,1] can be rearranged in [1,2,1] (palindrome).\n",
        "Example 3:\n",
        "\n",
        "Input: root = [9]\n",
        "Output: 1\n",
        " \n",
        "\n",
        "Constraints:\n",
        "\n",
        "The number of nodes in the tree is in the range [1, 105].\n",
        "1 <= Node.val <= 9\n",
        "\"\"\""
      ],
      "metadata": {
        "id": "y74gULPaDXSH"
      },
      "execution_count": null,
      "outputs": []
    },
    {
      "cell_type": "code",
      "source": [
        "# needs revision\n",
        "# code link: https://maxming0.github.io/2020/12/29/Pseudo-Palindromic-Paths-in-a-Binary-Tree/\n",
        "\n",
        "\"\"\"\n",
        "Runtime: 2355 ms, faster than 19.35% of Python online submissions for Pseudo-Palindromic Paths in a Binary Tree.\n",
        "Memory Usage: 112.4 MB, less than 67.74% of Python online submissions for Pseudo-Palindromic Paths in a Binary Tree.\n",
        "\"\"\"\n",
        "\n",
        "# Definition for a binary tree node.\n",
        "# class TreeNode(object):\n",
        "#     def __init__(self, val=0, left=None, right=None):\n",
        "#         self.val = val\n",
        "#         self.left = left\n",
        "#         self.right = right\n",
        "class Solution(object):\n",
        "    def pseudoPalindromicPaths (self, root):\n",
        "        def dfs(node):\n",
        "            cur[node.val] = not cur[node.val]\n",
        "            if not(node.left or node.right):\n",
        "                if cur.count(False) <= 1:\n",
        "                    res[0] += 1\n",
        "                    cur[node.val] = not cur[node.val]\n",
        "                    return\n",
        "                \n",
        "            if node.left:\n",
        "                dfs(node.left)\n",
        "            if node.right:\n",
        "                dfs(node.right)\n",
        "            cur[node.val] = not cur[node.val]\n",
        "        \n",
        "        res = [0]\n",
        "        cur = [True] * 10\n",
        "        dfs(root)\n",
        "        return res[0]"
      ],
      "metadata": {
        "id": "U51Ld6y7Dk8k"
      },
      "execution_count": null,
      "outputs": []
    },
    {
      "cell_type": "markdown",
      "source": [
        "##15-09-2022"
      ],
      "metadata": {
        "id": "wn8d6OjSHtv7"
      }
    },
    {
      "cell_type": "markdown",
      "source": [
        "####2007. Find Original Array From Doubled Array"
      ],
      "metadata": {
        "id": "nEFsQ2qJHtiY"
      }
    },
    {
      "cell_type": "code",
      "source": [
        "\"\"\"\n",
        "2007. Find Original Array From Doubled Array\n",
        "Medium\n",
        "\n",
        "1685\n",
        "\n",
        "94\n",
        "\n",
        "Add to List\n",
        "\n",
        "Share\n",
        "An integer array original is transformed into a doubled array changed by appending twice the value of every element in original, and then randomly shuffling the resulting array.\n",
        "\n",
        "Given an array changed, return original if changed is a doubled array. If changed is not a doubled array, return an empty array. The elements in original may be returned in any order.\n",
        "\n",
        " \n",
        "\n",
        "Example 1:\n",
        "\n",
        "Input: changed = [1,3,4,2,6,8]\n",
        "Output: [1,3,4]\n",
        "Explanation: One possible original array could be [1,3,4]:\n",
        "- Twice the value of 1 is 1 * 2 = 2.\n",
        "- Twice the value of 3 is 3 * 2 = 6.\n",
        "- Twice the value of 4 is 4 * 2 = 8.\n",
        "Other original arrays could be [4,3,1] or [3,1,4].\n",
        "Example 2:\n",
        "\n",
        "Input: changed = [6,3,0,1]\n",
        "Output: []\n",
        "Explanation: changed is not a doubled array.\n",
        "Example 3:\n",
        "\n",
        "Input: changed = [1]\n",
        "Output: []\n",
        "Explanation: changed is not a doubled array.\n",
        " \n",
        "\n",
        "Constraints:\n",
        "\n",
        "1 <= changed.length <= 105\n",
        "0 <= changed[i] <= 105\n",
        "\"\"\""
      ],
      "metadata": {
        "id": "s96qSJ_WHvCj"
      },
      "execution_count": null,
      "outputs": []
    },
    {
      "cell_type": "code",
      "source": [
        "# needs revision\n",
        "# code link: https://walkccc.me/LeetCode/problems/2007/\n",
        "\n",
        "\"\"\"\n",
        "Runtime: 2839 ms, faster than 23.08% of Python online submissions for Find Original Array From Doubled Array.\n",
        "Memory Usage: 28.5 MB, less than 93.16% of Python online submissions for Find Original Array From Doubled Array.\n",
        "\"\"\"\n",
        "\n",
        "class Solution(object):\n",
        "    def findOriginalArray(self, changed):\n",
        "        ans = []\n",
        "        q = deque()\n",
        "\n",
        "        for num in sorted(changed):\n",
        "          if q and num == q[0]:\n",
        "            q.popleft()\n",
        "          else:\n",
        "            q.append(num * 2)\n",
        "            ans.append(num)\n",
        "\n",
        "        return [] if q else ans   \n",
        "        "
      ],
      "metadata": {
        "id": "ZQ30OTvxHusB"
      },
      "execution_count": null,
      "outputs": []
    },
    {
      "cell_type": "markdown",
      "source": [
        "##16-09-2022"
      ],
      "metadata": {
        "id": "FmbSAagdTTuj"
      }
    },
    {
      "cell_type": "markdown",
      "source": [
        "####1770. Maximum Score from Performing Multiplication Operations"
      ],
      "metadata": {
        "id": "vE4BoYxiTTgY"
      }
    },
    {
      "cell_type": "code",
      "source": [
        "\"\"\"\n",
        "1770. Maximum Score from Performing Multiplication Operations\n",
        "Medium\n",
        "\n",
        "1839\n",
        "\n",
        "428\n",
        "\n",
        "Add to List\n",
        "\n",
        "Share\n",
        "You are given two integer arrays nums and multipliers of size n and m respectively, where n >= m. The arrays are 1-indexed.\n",
        "\n",
        "You begin with a score of 0. You want to perform exactly m operations. On the ith operation (1-indexed), you will:\n",
        "\n",
        "Choose one integer x from either the start or the end of the array nums.\n",
        "Add multipliers[i] * x to your score.\n",
        "Remove x from the array nums.\n",
        "Return the maximum score after performing m operations.\n",
        "\n",
        " \n",
        "\n",
        "Example 1:\n",
        "\n",
        "Input: nums = [1,2,3], multipliers = [3,2,1]\n",
        "Output: 14\n",
        "Explanation: An optimal solution is as follows:\n",
        "- Choose from the end, [1,2,3], adding 3 * 3 = 9 to the score.\n",
        "- Choose from the end, [1,2], adding 2 * 2 = 4 to the score.\n",
        "- Choose from the end, [1], adding 1 * 1 = 1 to the score.\n",
        "The total score is 9 + 4 + 1 = 14.\n",
        "Example 2:\n",
        "\n",
        "Input: nums = [-5,-3,-3,-2,7,1], multipliers = [-10,-5,3,4,6]\n",
        "Output: 102\n",
        "Explanation: An optimal solution is as follows:\n",
        "- Choose from the start, [-5,-3,-3,-2,7,1], adding -5 * -10 = 50 to the score.\n",
        "- Choose from the start, [-3,-3,-2,7,1], adding -3 * -5 = 15 to the score.\n",
        "- Choose from the start, [-3,-2,7,1], adding -3 * 3 = -9 to the score.\n",
        "- Choose from the end, [-2,7,1], adding 1 * 4 = 4 to the score.\n",
        "- Choose from the end, [-2,7], adding 7 * 6 = 42 to the score. \n",
        "The total score is 50 + 15 - 9 + 4 + 42 = 102.\n",
        " \n",
        "\n",
        "Constraints:\n",
        "\n",
        "n == nums.length\n",
        "m == multipliers.length\n",
        "1 <= m <= 103\n",
        "m <= n <= 105\n",
        "-1000 <= nums[i], multipliers[i] <= 1000\n",
        "\"\"\""
      ],
      "metadata": {
        "id": "IizJlmdqTUS5"
      },
      "execution_count": null,
      "outputs": []
    },
    {
      "cell_type": "code",
      "source": [
        "# my incorrect solution 1\n",
        "def maximumScore(nums, multipliers):\n",
        "  score = 0\n",
        "  start = 0\n",
        "  end = -1\n",
        "  for i in range(len(multipliers)):\n",
        "    if multipliers[i] > 0:\n",
        "      if nums[start] > 0 and nums[end] > 0:\n",
        "        if nums[start] >= nums[end]:\n",
        "          score += nums[start] * multipliers[i] \n",
        "          start += 1\n",
        "        else:\n",
        "          score += nums[end] * multipliers[i]\n",
        "          end -= 1\n",
        "      elif nums[start] > 0 and nums[end] <= 0:\n",
        "          score += nums[start] * multipliers[i] \n",
        "          start += 1        \n",
        "      elif nums[start] <= 0 and nums[end] > 0:\n",
        "          score += nums[end] * multipliers[i]\n",
        "          end -= 1    \n",
        "    elif multipliers[i] < 0:\n",
        "      if nums[start] < 0 and nums[end] < 0:\n",
        "        if nums[start] <= nums[end]:\n",
        "          score += nums[start] * multipliers[i] \n",
        "          start += 1\n",
        "        else:\n",
        "          score += nums[end] * multipliers[i]\n",
        "          end -= 1\n",
        "      elif nums[start] < 0 and nums[end] >= 0:\n",
        "          score += nums[start] * multipliers[i] \n",
        "          start += 1        \n",
        "      elif nums[start] >= 0 and nums[end] < 0:\n",
        "          score += nums[end] * multipliers[i]\n",
        "          end -= 1  \n",
        "  return score\n",
        "      \n",
        "nums = [-5,-3,-3,-2,7,1]\n",
        "multipliers = [-10,-5,3,4,6]\n",
        "maximumScore(nums, multipliers)"
      ],
      "metadata": {
        "colab": {
          "base_uri": "https://localhost:8080/"
        },
        "id": "jA9303jnTUs4",
        "outputId": "0d62babd-2ade-4657-cb98-ff2aa273e2ae"
      },
      "execution_count": null,
      "outputs": [
        {
          "output_type": "execute_result",
          "data": {
            "text/plain": [
              "96"
            ]
          },
          "metadata": {},
          "execution_count": 1
        }
      ]
    },
    {
      "cell_type": "code",
      "source": [
        "# my incorrect solution 2\n",
        "class Solution(object):\n",
        "    def maximumScore(self, nums, multipliers):\n",
        "      score = 0\n",
        "      start = 0\n",
        "      end = -1\n",
        "\n",
        "      for i in range(len(multipliers)):\n",
        "        \n",
        "        if multipliers[i] * nums[start] > multipliers[i] * nums[end]:\n",
        "          score += nums[start] * multipliers[i] \n",
        "          start += 1\n",
        "        elif multipliers[i] * nums[start] < multipliers[i] * nums[end]:\n",
        "          score += nums[end] * multipliers[i]\n",
        "          end -= 1     \n",
        "        else:\n",
        "            if i < len(multipliers) - 1:\n",
        "                if multipliers[i+1] * nums[start+1] > multipliers[i+1] * nums[end-1]:\n",
        "                  score += nums[start] * multipliers[i] \n",
        "                  start += 1\n",
        "                elif multipliers[i+1] * nums[start+1] < multipliers[i] * nums[end-1]:\n",
        "                  score += nums[end] * multipliers[i]\n",
        "                  end -= 1             \n",
        "            else:\n",
        "                score += nums[start] * multipliers[i] \n",
        "                start += 1\n",
        "                \n",
        "      return score\n",
        "        "
      ],
      "metadata": {
        "id": "R0Wc4zv8X7Bu"
      },
      "execution_count": null,
      "outputs": []
    },
    {
      "cell_type": "code",
      "source": [
        "# needs revision\n",
        "# code link: https://www.tutorialspoint.com/program-to-find-maximum-score-from-performing-multiplication-operations-in-python\n",
        "\n",
        "\"\"\"\n",
        "Runtime: 5811 ms, faster than 36.59% of Python online submissions for Maximum Score from Performing Multiplication Operations.\n",
        "Memory Usage: 36.7 MB, less than 14.63% of Python online submissions for Maximum Score from Performing Multiplication Operations.\n",
        "\"\"\"\n",
        "\n",
        "def maximumScore(nums, multipliers):\n",
        "    n, m = len(nums), len(multipliers)\n",
        "    dp = [[0]*m for _ in range(m+1)]\n",
        "\n",
        "    for i in reversed(range(m)):\n",
        "      for j in range(i, m):\n",
        "          k = i + m - j - 1\n",
        "          dp[i][j] = max(nums[i] * multipliers[k] + dp[i+1][j], nums[j-m+n] * multipliers[k] + dp[i][j-1])\n",
        "\n",
        "    return dp[0][-1]\n",
        "\n",
        "\n",
        "nums = [-5,-3,-3,-2,7,1]\n",
        "multipliers = [-10,-5,3,4,6]\n",
        "maximumScore(nums, multipliers)"
      ],
      "metadata": {
        "id": "ZXMmjC-_cXA6"
      },
      "execution_count": null,
      "outputs": []
    },
    {
      "cell_type": "markdown",
      "source": [
        "##17-09-2022"
      ],
      "metadata": {
        "id": "dLXr29iIX3C7"
      }
    },
    {
      "cell_type": "markdown",
      "source": [
        "####336. Palindrome Pairs"
      ],
      "metadata": {
        "id": "sqaVxOlrX2_g"
      }
    },
    {
      "cell_type": "code",
      "source": [
        "\"\"\"\n",
        "336. Palindrome Pairs\n",
        "Hard\n",
        "\n",
        "Given a list of unique words, return all the pairs of the distinct indices (i, j) in the given list, so that the concatenation of the two words words[i] + words[j] is a palindrome.\n",
        "\n",
        " \n",
        "\n",
        "Example 1:\n",
        "\n",
        "Input: words = [\"abcd\",\"dcba\",\"lls\",\"s\",\"sssll\"]\n",
        "Output: [[0,1],[1,0],[3,2],[2,4]]\n",
        "Explanation: The palindromes are [\"dcbaabcd\",\"abcddcba\",\"slls\",\"llssssll\"]\n",
        "Example 2:\n",
        "\n",
        "Input: words = [\"bat\",\"tab\",\"cat\"]\n",
        "Output: [[0,1],[1,0]]\n",
        "Explanation: The palindromes are [\"battab\",\"tabbat\"]\n",
        "Example 3:\n",
        "\n",
        "Input: words = [\"a\",\"\"]\n",
        "Output: [[0,1],[1,0]]\n",
        " \n",
        "\n",
        "Constraints:\n",
        "\n",
        "1 <= words.length <= 5000\n",
        "0 <= words[i].length <= 300\n",
        "words[i] consists of lower-case English letters.\n",
        "\"\"\""
      ],
      "metadata": {
        "id": "MJ2QXAxuX1Kx"
      },
      "execution_count": null,
      "outputs": []
    },
    {
      "cell_type": "code",
      "source": [
        "# Time Limit Exceeded: 60/136 test cases passed\n",
        "\n",
        "def palindromePairs(words):  \n",
        "    def isPalindrome(listo):\n",
        "        initial = listo\n",
        "        final = \"\"\n",
        "        for i in listo:\n",
        "            final = i + final          \n",
        "        if initial == final:\n",
        "            return True\n",
        "        else:\n",
        "            return False    \n",
        "    out = []\n",
        "    for i in range(len(words)):\n",
        "        if words[i+1: ] != []:\n",
        "            for j in range(len(words[i+1: ])):\n",
        "                temp1 = words[i]+words[i+j+1]\n",
        "                temp2 = words[i+j+1]+words[i]\n",
        "                if isPalindrome(temp1):\n",
        "                    out.append([i, i+j+1])\n",
        "                if isPalindrome(temp2):\n",
        "                    out.append([i+j+1, i])      \n",
        "    return out\n",
        "palindromePairs([\"abcd\",\"dcba\",\"lls\",\"s\",\"sssll\"])\n",
        "#palindromePairs([\"bat\",\"tab\",\"cat\"])\n",
        "#palindromePairs([\"a\",\"\"])"
      ],
      "metadata": {
        "colab": {
          "base_uri": "https://localhost:8080/"
        },
        "id": "bySoUl8lX1Hj",
        "outputId": "87887f41-1e0f-4deb-c8c9-11f01c506142"
      },
      "execution_count": null,
      "outputs": [
        {
          "output_type": "execute_result",
          "data": {
            "text/plain": [
              "[[0, 1], [1, 0], [1, 1], [1, 1]]"
            ]
          },
          "metadata": {},
          "execution_count": 7
        }
      ]
    },
    {
      "cell_type": "code",
      "source": [
        "# Time Limit Exceeded: 103 / 136 test cases passed. \n",
        "\n",
        "def palindromePairs(words):  \n",
        "\n",
        "    def isPalindrome(s):\n",
        "        return s == s[::-1]\n",
        "\n",
        "    out = []\n",
        "    for i in range(len(words)):\n",
        "        if words[i+1: ] != []:\n",
        "            for j in range(len(words[i+1: ])):\n",
        "                if words[i] != \"\" and words[i+j+1] != \"\":\n",
        "                    if words[i][0] == words[i+j+1][-1]:\n",
        "                        temp1 = words[i]+words[i+j+1]\n",
        "                        if isPalindrome(temp1):\n",
        "                            out.append([i, i+j+1])\n",
        "                    if words[i+j+1][0] == words[i][-1]:\n",
        "                        temp2 = words[i+j+1]+words[i]\n",
        "                        if isPalindrome(temp2):\n",
        "                            out.append([i+j+1, i])\n",
        "                else:\n",
        "                    if words[i] == \"\" and words[i+j+1] == \"\":\n",
        "                        out.append([i, i+j+1])\n",
        "                        out.append([i+j+1, i])\n",
        "                    elif words[i] == \"\" and words[i+j+1] != \"\":\n",
        "                        if isPalindrome(words[i+j+1]):\n",
        "                            out.append([i, i+j+1])\n",
        "                            out.append([i+j+1, i])                        \n",
        "                    elif words[i] != \"\" and words[i+j+1] == \"\":\n",
        "                        if isPalindrome(words[i]):\n",
        "                            out.append([i, i+j+1])\n",
        "                            out.append([i+j+1, i])                        \n",
        "    return out\n",
        "\n",
        "#palindromePairs([\"abcd\",\"dcba\",\"lls\",\"s\",\"sssll\"])\n",
        "#palindromePairs([\"bat\",\"tab\",\"cat\"])\n",
        "palindromePairs([\"a\",\"\"])\n",
        "palindromePairs([\"a\",\"abc\",\"aba\",\"\"])"
      ],
      "metadata": {
        "colab": {
          "base_uri": "https://localhost:8080/"
        },
        "id": "lb4zuccaYLw_",
        "outputId": "dcb8d2b0-01b2-4f38-fc94-2dd4311a7be6"
      },
      "execution_count": null,
      "outputs": [
        {
          "output_type": "execute_result",
          "data": {
            "text/plain": [
              "[[0, 3], [3, 0], [2, 3], [3, 2]]"
            ]
          },
          "metadata": {},
          "execution_count": 10
        }
      ]
    },
    {
      "cell_type": "code",
      "source": [
        "# needs revision\n",
        "# code link: https://walkccc.me/LeetCode/problems/0336/ \n",
        "\n",
        "\"\"\"\n",
        "Runtime: 4798 ms, faster than 48.84% of Python online submissions for Palindrome Pairs.\n",
        "Memory Usage: 36.4 MB, less than 39.53% of Python online submissions for Palindrome Pairs.\n",
        "\"\"\"\n",
        "\n",
        "def palindromePairs(words):  \n",
        "    ans = []\n",
        "    dict = {word[::-1]: i for i, word in enumerate(words)}\n",
        "\n",
        "    for i, word in enumerate(words):\n",
        "      if \"\" in dict and dict[\"\"] != i and word == word[::-1]:\n",
        "        ans.append([i, dict[\"\"]])\n",
        "\n",
        "      for j in range(1, len(word) + 1):\n",
        "        l = word[:j]\n",
        "        r = word[j:]\n",
        "        if l in dict and dict[l] != i and r == r[::-1]:\n",
        "          ans.append([i, dict[l]])\n",
        "        if r in dict and dict[r] != i and l == l[::-1]:\n",
        "          ans.append([dict[r], i])\n",
        "\n",
        "    return ans\n",
        "\n",
        "palindromePairs([\"abcd\",\"dcba\",\"lls\",\"s\",\"sssll\"])\n",
        "#palindromePairs([\"bat\",\"tab\",\"cat\"])\n",
        "#palindromePairs([\"a\",\"\"])\n",
        "#palindromePairs([\"a\",\"abc\",\"aba\",\"\"])"
      ],
      "metadata": {
        "colab": {
          "base_uri": "https://localhost:8080/"
        },
        "id": "hfeXjEMwj8Rj",
        "outputId": "1d90b91a-bf32-4de7-a9c6-34c119149273"
      },
      "execution_count": null,
      "outputs": [
        {
          "output_type": "execute_result",
          "data": {
            "text/plain": [
              "[[0, 1], [1, 0], [3, 2], [2, 4]]"
            ]
          },
          "metadata": {},
          "execution_count": 17
        }
      ]
    },
    {
      "cell_type": "markdown",
      "source": [
        "##18-09-2022"
      ],
      "metadata": {
        "id": "tWk3psfHvOi0"
      }
    },
    {
      "cell_type": "markdown",
      "source": [
        "####42. Trapping Rain Water"
      ],
      "metadata": {
        "id": "mOukFtaBvOQ1"
      }
    },
    {
      "cell_type": "code",
      "source": [
        "\"\"\"\n",
        "42. Trapping Rain Water\n",
        "Hard\n",
        "\n",
        "22669\n",
        "\n",
        "305\n",
        "\n",
        "Add to List\n",
        "\n",
        "Share\n",
        "Given n non-negative integers representing an elevation map where the width of each bar is 1, compute how much water it can trap after raining.\n",
        "\n",
        " \n",
        "\n",
        "Example 1:\n",
        "\n",
        "\n",
        "Input: height = [0,1,0,2,1,0,1,3,2,1,2,1]\n",
        "Output: 6\n",
        "Explanation: The above elevation map (black section) is represented by array [0,1,0,2,1,0,1,3,2,1,2,1]. In this case, 6 units of rain water (blue section) are being trapped.\n",
        "Example 2:\n",
        "\n",
        "Input: height = [4,2,0,3,2,5]\n",
        "Output: 9\n",
        " \n",
        "\n",
        "Constraints:\n",
        "\n",
        "n == height.length\n",
        "1 <= n <= 2 * 104\n",
        "0 <= height[i] <= 105\n",
        "\"\"\""
      ],
      "metadata": {
        "id": "dCRBwVSEvPWY"
      },
      "execution_count": null,
      "outputs": []
    },
    {
      "cell_type": "markdown",
      "source": [
        "![image.png](data:image/png;base64,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)"
      ],
      "metadata": {
        "id": "GwV8kXmkwEbO"
      }
    },
    {
      "cell_type": "code",
      "source": [
        "# needs revision\n",
        "# code link: https://zhenyu0519.github.io/2020/06/09/lc42/\n",
        "\n",
        "\"\"\"\n",
        "Runtime: 245 ms, faster than 11.88% of Python online submissions for Trapping Rain Water.\n",
        "Memory Usage: 15.1 MB, less than 49.50% of Python online submissions for Trapping Rain Water.\n",
        "\"\"\"\n",
        "\n",
        "def trap(height):\n",
        "    if not height: return 0\n",
        "    size = len(height)\n",
        "    area = 0\n",
        "    left_max, right_max = [0] * size, [0] * size\n",
        "    \n",
        "    left_max[0] = height[0]\n",
        "    for i in range(1, size):\n",
        "        left_max[i] = max(height[i], left_max[i - 1])\n",
        "        \n",
        "    right_max[size - 1] = height[size - 1]\n",
        "    for i in range(size-2, -1, -1):\n",
        "        right_max[i] = max(height[i], right_max[i + 1])\n",
        "    \n",
        "    for i in range(1, size-1):\n",
        "        area = area + (min(left_max[i], right_max[i]) - height[i])\n",
        "    return area  \n",
        "\n",
        "\n",
        "trap([0,1,0,2,1,0,1,3,2,1,2,1])        "
      ],
      "metadata": {
        "colab": {
          "base_uri": "https://localhost:8080/"
        },
        "id": "Xfan-o4lvPx5",
        "outputId": "a3a239e6-0278-4335-8480-1a8288f2ebc9"
      },
      "execution_count": null,
      "outputs": [
        {
          "output_type": "execute_result",
          "data": {
            "text/plain": [
              "6"
            ]
          },
          "metadata": {},
          "execution_count": 1
        }
      ]
    },
    {
      "cell_type": "markdown",
      "source": [
        "##19-09-2022"
      ],
      "metadata": {
        "id": "IRaUxR393fqJ"
      }
    },
    {
      "cell_type": "markdown",
      "source": [
        "####609. Find Duplicate File in System"
      ],
      "metadata": {
        "id": "e_1Wr0RH3fb3"
      }
    },
    {
      "cell_type": "code",
      "source": [
        "\"\"\"\n",
        "609. Find Duplicate File in System\n",
        "Medium\n",
        "\n",
        "1291\n",
        "\n",
        "1477\n",
        "\n",
        "Add to List\n",
        "\n",
        "Share\n",
        "Given a list paths of directory info, including the directory path, and all the files with contents in this directory, return all the duplicate files in the file system in terms of their paths. You may return the answer in any order.\n",
        "\n",
        "A group of duplicate files consists of at least two files that have the same content.\n",
        "\n",
        "A single directory info string in the input list has the following format:\n",
        "\n",
        "\"root/d1/d2/.../dm f1.txt(f1_content) f2.txt(f2_content) ... fn.txt(fn_content)\"\n",
        "It means there are n files (f1.txt, f2.txt ... fn.txt) with content (f1_content, f2_content ... fn_content) respectively in the directory \"root/d1/d2/.../dm\". Note that n >= 1 and m >= 0. If m = 0, it means the directory is just the root directory.\n",
        "\n",
        "The output is a list of groups of duplicate file paths. For each group, it contains all the file paths of the files that have the same content. A file path is a string that has the following format:\n",
        "\n",
        "\"directory_path/file_name.txt\"\n",
        " \n",
        "\n",
        "Example 1:\n",
        "\n",
        "Input: paths = [\"root/a 1.txt(abcd) 2.txt(efgh)\",\"root/c 3.txt(abcd)\",\"root/c/d 4.txt(efgh)\",\"root 4.txt(efgh)\"]\n",
        "Output: [[\"root/a/2.txt\",\"root/c/d/4.txt\",\"root/4.txt\"],[\"root/a/1.txt\",\"root/c/3.txt\"]]\n",
        "Example 2:\n",
        "\n",
        "Input: paths = [\"root/a 1.txt(abcd) 2.txt(efgh)\",\"root/c 3.txt(abcd)\",\"root/c/d 4.txt(efgh)\"]\n",
        "Output: [[\"root/a/2.txt\",\"root/c/d/4.txt\"],[\"root/a/1.txt\",\"root/c/3.txt\"]]\n",
        " \n",
        "\n",
        "Constraints:\n",
        "\n",
        "1 <= paths.length <= 2 * 104\n",
        "1 <= paths[i].length <= 3000\n",
        "1 <= sum(paths[i].length) <= 5 * 105\n",
        "paths[i] consist of English letters, digits, '/', '.', '(', ')', and ' '.\n",
        "You may assume no files or directories share the same name in the same directory.\n",
        "You may assume each given directory info represents a unique directory. A single blank space separates the directory path and file info.\n",
        " \n",
        "\n",
        "Follow up:\n",
        "\n",
        "Imagine you are given a real file system, how will you search files? DFS or BFS?\n",
        "If the file content is very large (GB level), how will you modify your solution?\n",
        "If you can only read the file by 1kb each time, how will you modify your solution?\n",
        "What is the time complexity of your modified solution? What is the most time-consuming part and memory-consuming part of it? How to optimize?\n",
        "How to make sure the duplicated files you find are not false positive?\n",
        "\"\"\""
      ],
      "metadata": {
        "id": "7ystB9c53gW3"
      },
      "execution_count": null,
      "outputs": []
    },
    {
      "cell_type": "code",
      "source": [
        "# needs revision\n",
        "# code link:https://dev.to/seanpgallivan/solution-find-duplicate-file-in-system-1ofi\n",
        "\n",
        "\n",
        "Runtime: 172 ms, faster than 23.53% of Python online submissions for Find Duplicate File in System.\n",
        "Memory Usage: 29.5 MB, less than 79.41% of Python online submissions for Find Duplicate File in System.\"\"\"\n",
        "\n",
        "\"\"\"\n",
        "\n",
        "def findDuplicate(paths):\n",
        "    contMap, ans = defaultdict(list), []\n",
        "    for pStr in paths:\n",
        "        sep = pStr.split(\" \")\n",
        "        for i in range(1, len(sep)):\n",
        "            parts = sep[i].split('(')\n",
        "            cont = parts[1][:-1]\n",
        "            contMap[cont].append(sep[0] + '/' + parts[0])\n",
        "    for v in contMap.values():\n",
        "        if len(v) > 1: ans.append(v)\n",
        "    return ans"
      ],
      "metadata": {
        "id": "YRDaqCT73gzQ"
      },
      "execution_count": null,
      "outputs": []
    },
    {
      "cell_type": "markdown",
      "source": [
        "##20-09-2022"
      ],
      "metadata": {
        "id": "g8NM8tpQnAuU"
      }
    },
    {
      "cell_type": "markdown",
      "source": [
        "##718. Maximum Length of Repeated Subarray"
      ],
      "metadata": {
        "id": "fHbsB_HinAfs"
      }
    },
    {
      "cell_type": "code",
      "source": [
        "\"\"\"\n",
        "718. Maximum Length of Repeated Subarray\n",
        "Medium\n",
        "\n",
        "5581\n",
        "\n",
        "140\n",
        "\n",
        "Add to List\n",
        "\n",
        "Share\n",
        "Given two integer arrays nums1 and nums2, return the maximum length of a subarray that appears in both arrays.\n",
        "\n",
        " \n",
        "\n",
        "Example 1:\n",
        "\n",
        "Input: nums1 = [1,2,3,2,1], nums2 = [3,2,1,4,7]\n",
        "Output: 3\n",
        "Explanation: The repeated subarray with maximum length is [3,2,1].\n",
        "Example 2:\n",
        "\n",
        "Input: nums1 = [0,0,0,0,0], nums2 = [0,0,0,0,0]\n",
        "Output: 5\n",
        " \n",
        "\n",
        "Constraints:\n",
        "\n",
        "1 <= nums1.length, nums2.length <= 1000\n",
        "0 <= nums1[i], nums2[i] <= 100\n",
        "\"\"\""
      ],
      "metadata": {
        "id": "0BIIjNX_m_-d"
      },
      "execution_count": null,
      "outputs": []
    },
    {
      "cell_type": "code",
      "source": [
        "\"\"\"\n",
        "Runtime: 6446 ms, faster than 5.30% of Python online submissions for Maximum Length of Repeated Subarray.\n",
        "Memory Usage: 33.9 MB, less than 73.88% of Python online submissions for Maximum Length of Repeated Subarray.\n",
        "\"\"\"\n",
        "\n",
        "def findLength(nums1, nums2):\n",
        "    m = len(nums1)\n",
        "    n = len(nums2)\n",
        "    ans = 0\n",
        "    # dp[i][j] := max length of nums1[i:] and nums2[j:]\n",
        "    dp = [[0] * (n + 1) for _ in range(m + 1)]\n",
        "\n",
        "    for i in reversed(range(m)):\n",
        "      for j in reversed(range(n)):\n",
        "        if nums1[i] == nums2[j]:\n",
        "          dp[i][j] = dp[i + 1][j + 1] + 1\n",
        "          ans = max(ans, dp[i][j])\n",
        "\n",
        "    return ans\n",
        "\n",
        "\n",
        "nums1 = [0,0,0,0,0]\n",
        "nums2 = [0,0,0,0,0]\n",
        "findLength(nums1, nums2)"
      ],
      "metadata": {
        "colab": {
          "base_uri": "https://localhost:8080/"
        },
        "id": "L_aeJYmWnOo6",
        "outputId": "705c6f68-d5d9-4700-d614-047cd7d3e11b"
      },
      "execution_count": 1,
      "outputs": [
        {
          "output_type": "execute_result",
          "data": {
            "text/plain": [
              "5"
            ]
          },
          "metadata": {},
          "execution_count": 1
        }
      ]
    }
  ]
}