{
  "nbformat": 4,
  "nbformat_minor": 0,
  "metadata": {
    "colab": {
      "name": "Leetcode_Miscellaneous.ipynb",
      "provenance": [],
      "collapsed_sections": [],
      "authorship_tag": "ABX9TyOTuolBVx8wt096RITji0wE",
      "include_colab_link": true
    },
    "kernelspec": {
      "name": "python3",
      "display_name": "Python 3"
    },
    "language_info": {
      "name": "python"
    }
  },
  "cells": [
    {
      "cell_type": "markdown",
      "metadata": {
        "id": "view-in-github",
        "colab_type": "text"
      },
      "source": [
        "<a href=\"https://colab.research.google.com/github/abm4github/My_Leetcode_works/blob/main/Leetcode_Miscellaneous.ipynb\" target=\"_parent\"><img src=\"https://colab.research.google.com/assets/colab-badge.svg\" alt=\"Open In Colab\"/></a>"
      ]
    },
    {
      "cell_type": "markdown",
      "source": [
        "####1342. Number of Steps to Reduce a Number to Zero"
      ],
      "metadata": {
        "id": "3fgeM7Mz3_2p"
      }
    },
    {
      "cell_type": "code",
      "source": [
        "\"\"\"\n",
        "1342. Number of Steps to Reduce a Number to Zero\n",
        "Easy\n",
        "\n",
        "2605\n",
        "\n",
        "137\n",
        "\n",
        "Add to List\n",
        "\n",
        "Share\n",
        "Given an integer num, return the number of steps to reduce it to zero.\n",
        "\n",
        "In one step, if the current number is even, you have to divide it by 2, otherwise, you have to subtract 1 from it.\n",
        "\n",
        " \n",
        "\n",
        "Example 1:\n",
        "\n",
        "Input: num = 14\n",
        "Output: 6\n",
        "Explanation: \n",
        "Step 1) 14 is even; divide by 2 and obtain 7. \n",
        "Step 2) 7 is odd; subtract 1 and obtain 6.\n",
        "Step 3) 6 is even; divide by 2 and obtain 3. \n",
        "Step 4) 3 is odd; subtract 1 and obtain 2. \n",
        "Step 5) 2 is even; divide by 2 and obtain 1. \n",
        "Step 6) 1 is odd; subtract 1 and obtain 0.\n",
        "Example 2:\n",
        "\n",
        "Input: num = 8\n",
        "Output: 4\n",
        "Explanation: \n",
        "Step 1) 8 is even; divide by 2 and obtain 4. \n",
        "Step 2) 4 is even; divide by 2 and obtain 2. \n",
        "Step 3) 2 is even; divide by 2 and obtain 1. \n",
        "Step 4) 1 is odd; subtract 1 and obtain 0.\n",
        "Example 3:\n",
        "\n",
        "Input: num = 123\n",
        "Output: 12\n",
        " \n",
        "\n",
        "Constraints:\n",
        "\n",
        "0 <= num <= 106\n",
        "\"\"\""
      ],
      "metadata": {
        "id": "xK4z0LtM4D5a"
      },
      "execution_count": null,
      "outputs": []
    },
    {
      "cell_type": "code",
      "execution_count": 1,
      "metadata": {
        "colab": {
          "base_uri": "https://localhost:8080/"
        },
        "id": "AW89fDcy3SJE",
        "outputId": "35b02146-8aab-4ece-98d3-bb89689e8aca"
      },
      "outputs": [
        {
          "output_type": "execute_result",
          "data": {
            "text/plain": [
              "19"
            ]
          },
          "metadata": {},
          "execution_count": 1
        }
      ],
      "source": [
        "\"\"\"\n",
        "Success\n",
        "Details \n",
        "Runtime: 13 ms, faster than 96.14% of Python online submissions for Number of Steps to Reduce a Number to Zero.\n",
        "Memory Usage: 13.8 MB, less than 5.09% of Python online submissions for Number of Steps to Reduce a Number to Zero.\n",
        "\"\"\"\n",
        "\n",
        "def numberOfSteps(num):\n",
        "    n = 0\n",
        "    while num != 0:\n",
        "        if num % 2 == 0:\n",
        "            num /= 2\n",
        "            n += 1\n",
        "        else:\n",
        "            num -= 1\n",
        "            n += 1\n",
        "    return n\n",
        "\n",
        "numberOfSteps(12345)"
      ]
    }
  ]
}