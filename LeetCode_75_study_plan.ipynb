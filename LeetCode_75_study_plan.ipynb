{
  "nbformat": 4,
  "nbformat_minor": 0,
  "metadata": {
    "colab": {
      "name": "LeetCode_75_study_plan.ipynb",
      "provenance": [],
      "collapsed_sections": [],
      "authorship_tag": "ABX9TyMdbBw8pW66FykHlGKMe+HS",
      "include_colab_link": true
    },
    "kernelspec": {
      "name": "python3",
      "display_name": "Python 3"
    },
    "language_info": {
      "name": "python"
    }
  },
  "cells": [
    {
      "cell_type": "markdown",
      "metadata": {
        "id": "view-in-github",
        "colab_type": "text"
      },
      "source": [
        "<a href=\"https://colab.research.google.com/github/abm4github/My_Leetcode_works/blob/main/LeetCode_75_study_plan.ipynb\" target=\"_parent\"><img src=\"https://colab.research.google.com/assets/colab-badge.svg\" alt=\"Open In Colab\"/></a>"
      ]
    },
    {
      "cell_type": "markdown",
      "source": [
        "#LEVEL 1"
      ],
      "metadata": {
        "id": "QcRJqScnoOez"
      }
    },
    {
      "cell_type": "markdown",
      "source": [
        "##Day 1: Prefix Sum"
      ],
      "metadata": {
        "id": "k4PwCbR_oZX-"
      }
    },
    {
      "cell_type": "markdown",
      "source": [
        "1480. Running Sum of 1d Array"
      ],
      "metadata": {
        "id": "HZuhLAZhom69"
      }
    },
    {
      "cell_type": "code",
      "source": [
        "\"\"\"\n",
        "1480. Running Sum of 1d Array\n",
        "Easy\n",
        "\n",
        "4262\n",
        "\n",
        "240\n",
        "\n",
        "Add to List\n",
        "\n",
        "Share\n",
        "Given an array nums. We define a running sum of an array as runningSum[i] = sum(nums[0]…nums[i]).\n",
        "\n",
        "Return the running sum of nums.\n",
        "\n",
        " \n",
        "\n",
        "Example 1:\n",
        "\n",
        "Input: nums = [1,2,3,4]\n",
        "Output: [1,3,6,10]\n",
        "Explanation: Running sum is obtained as follows: [1, 1+2, 1+2+3, 1+2+3+4].\n",
        "Example 2:\n",
        "\n",
        "Input: nums = [1,1,1,1,1]\n",
        "Output: [1,2,3,4,5]\n",
        "Explanation: Running sum is obtained as follows: [1, 1+1, 1+1+1, 1+1+1+1, 1+1+1+1+1].\n",
        "Example 3:\n",
        "\n",
        "Input: nums = [3,1,2,10,1]\n",
        "Output: [3,4,6,16,17]\n",
        " \n",
        "\n",
        "Constraints:\n",
        "\n",
        "1 <= nums.length <= 1000\n",
        "-10^6 <= nums[i] <= 10^6\n",
        "\"\"\""
      ],
      "metadata": {
        "id": "e5rw2PvNomCF"
      },
      "execution_count": null,
      "outputs": []
    },
    {
      "cell_type": "code",
      "execution_count": null,
      "metadata": {
        "id": "u9Dn_9grnz6q"
      },
      "outputs": [],
      "source": [
        "\"\"\"\n",
        "Runtime: 52 ms, faster than 19.98% of Python online submissions for Running Sum of 1d Array.\n",
        "Memory Usage: 13.8 MB, less than 12.41% of Python online submissions for Running Sum of 1d Array.\n",
        "\"\"\"\n",
        "\n",
        "def runningSum(nums):\n",
        "  Out = [nums[0]]\n",
        "  for i in range(1,len(nums)):\n",
        "    Out.append(Out[i-1] + nums[i])\n",
        "  return Out"
      ]
    },
    {
      "cell_type": "code",
      "source": [
        "nums = [1,2,3,4]\n",
        "runningSum(nums)"
      ],
      "metadata": {
        "colab": {
          "base_uri": "https://localhost:8080/"
        },
        "id": "hnSE9OuPoL-N",
        "outputId": "ba398959-7d28-4853-c76d-e506f7533f8c"
      },
      "execution_count": null,
      "outputs": [
        {
          "output_type": "execute_result",
          "data": {
            "text/plain": [
              "[1, 3, 6, 10]"
            ]
          },
          "metadata": {},
          "execution_count": 4
        }
      ]
    },
    {
      "cell_type": "markdown",
      "source": [
        "724. Find Pivot Index"
      ],
      "metadata": {
        "id": "oaoSVAVZrVXO"
      }
    },
    {
      "cell_type": "code",
      "source": [
        "\"\"\"\n",
        "724. Find Pivot Index\n",
        "Easy\n",
        "\n",
        "4319\n",
        "\n",
        "475\n",
        "\n",
        "Add to List\n",
        "\n",
        "Share\n",
        "Given an array of integers nums, calculate the pivot index of this array.\n",
        "\n",
        "The pivot index is the index where the sum of all the numbers strictly to the left of the index is equal to the sum of all the numbers strictly to the index's right.\n",
        "\n",
        "If the index is on the left edge of the array, then the left sum is 0 because there are no elements to the left. This also applies to the right edge of the array.\n",
        "\n",
        "Return the leftmost pivot index. If no such index exists, return -1.\n",
        "\n",
        " \n",
        "\n",
        "Example 1:\n",
        "\n",
        "Input: nums = [1,7,3,6,5,6]\n",
        "Output: 3\n",
        "Explanation:\n",
        "The pivot index is 3.\n",
        "Left sum = nums[0] + nums[1] + nums[2] = 1 + 7 + 3 = 11\n",
        "Right sum = nums[4] + nums[5] = 5 + 6 = 11\n",
        "Example 2:\n",
        "\n",
        "Input: nums = [1,2,3]\n",
        "Output: -1\n",
        "Explanation:\n",
        "There is no index that satisfies the conditions in the problem statement.\n",
        "Example 3:\n",
        "\n",
        "Input: nums = [2,1,-1]\n",
        "Output: 0\n",
        "Explanation:\n",
        "The pivot index is 0.\n",
        "Left sum = 0 (no elements to the left of index 0)\n",
        "Right sum = nums[1] + nums[2] = 1 + -1 = 0\n",
        " \n",
        "\n",
        "Constraints:\n",
        "\n",
        "1 <= nums.length <= 104\n",
        "-1000 <= nums[i] <= 1000\n",
        " \n",
        "\n",
        "Note: This question is the same as 1991: https://leetcode.com/problems/find-the-middle-index-in-array/\n",
        "\"\"\""
      ],
      "metadata": {
        "id": "WYC0FVl5rUtt"
      },
      "execution_count": null,
      "outputs": []
    },
    {
      "cell_type": "code",
      "source": [
        "\"\"\"\n",
        "Runtime: 5499 ms, faster than 10.72% of Python online submissions for Find Pivot Index.\n",
        "Memory Usage: 14.6 MB, less than 41.46% of Python online submissions for Find Pivot Index.\n",
        "\"\"\"\n",
        "def pivotIndex(nums):\n",
        "  if sum(nums[1:]) == 0:\n",
        "    return 0\n",
        "  for i in range(len(nums)):\n",
        "    left = nums[:i]\n",
        "    right = nums[i+1:]\n",
        "    if sum(left) == sum(right) or (sum(left) == 0 and right == []):\n",
        "      return i\n",
        "  return -1"
      ],
      "metadata": {
        "id": "f4GLXVJb0b8y"
      },
      "execution_count": null,
      "outputs": []
    },
    {
      "cell_type": "code",
      "source": [
        "nums = [-1,-1,0,1,1,0]\n",
        "pivotIndex(nums)"
      ],
      "metadata": {
        "colab": {
          "base_uri": "https://localhost:8080/"
        },
        "id": "iEvO6CgM4ssJ",
        "outputId": "3f7e5015-f77b-4592-8739-ec7a5e06d482"
      },
      "execution_count": null,
      "outputs": [
        {
          "output_type": "execute_result",
          "data": {
            "text/plain": [
              "5"
            ]
          },
          "metadata": {},
          "execution_count": 19
        }
      ]
    },
    {
      "cell_type": "code",
      "source": [
        "nums = [1,2,3]\n",
        "pivotIndex(nums)"
      ],
      "metadata": {
        "colab": {
          "base_uri": "https://localhost:8080/"
        },
        "id": "ofJJnVWY4wlC",
        "outputId": "8d0e960c-f30a-4dc6-f4d3-7a0f83bded87"
      },
      "execution_count": null,
      "outputs": [
        {
          "output_type": "execute_result",
          "data": {
            "text/plain": [
              "-1"
            ]
          },
          "metadata": {},
          "execution_count": 20
        }
      ]
    },
    {
      "cell_type": "code",
      "source": [
        "nums = [-1,-1,-1,-1,-1,0]\n",
        "pivotIndex(nums)"
      ],
      "metadata": {
        "colab": {
          "base_uri": "https://localhost:8080/"
        },
        "id": "Z_3Umh3iXjEL",
        "outputId": "1b31e93c-e855-4e07-85d4-a0d0b12c3b2d"
      },
      "execution_count": null,
      "outputs": [
        {
          "output_type": "execute_result",
          "data": {
            "text/plain": [
              "2"
            ]
          },
          "metadata": {},
          "execution_count": 21
        }
      ]
    },
    {
      "cell_type": "code",
      "source": [
        "\"\"\"\n",
        "Runtime: 2411 ms, faster than 25.59% of Python online submissions for Find Pivot Index.\n",
        "Memory Usage: 15 MB, less than 5.59% of Python online submissions for Find Pivot Index.\n",
        "\"\"\"\n",
        "def pivotIndex(nums):\n",
        "  if sum(nums[1:]) == 0:\n",
        "    return 0\n",
        "\n",
        "  left = 0\n",
        "  for i in range(len(nums)): \n",
        "    right = nums[i+1:]\n",
        "    if left == sum(right) or (left == 0 and right == []):\n",
        "      return i\n",
        "    left += nums[i]\n",
        "  return -1"
      ],
      "metadata": {
        "id": "HmlUQ8YFYNfK"
      },
      "execution_count": null,
      "outputs": []
    },
    {
      "cell_type": "code",
      "source": [
        "nums = [-1,-1,0,1,1,0]\n",
        "pivotIndex(nums)"
      ],
      "metadata": {
        "colab": {
          "base_uri": "https://localhost:8080/"
        },
        "id": "sBHtg1_XWKgp",
        "outputId": "695ee5e7-d3f1-4048-c30f-4aa26d7f82f2"
      },
      "execution_count": null,
      "outputs": [
        {
          "output_type": "execute_result",
          "data": {
            "text/plain": [
              "5"
            ]
          },
          "metadata": {},
          "execution_count": 23
        }
      ]
    },
    {
      "cell_type": "code",
      "source": [
        "nums = [1,2,3]\n",
        "pivotIndex(nums)"
      ],
      "metadata": {
        "colab": {
          "base_uri": "https://localhost:8080/"
        },
        "id": "XWIfKyi8WK8b",
        "outputId": "82bcac21-c77e-4109-c3db-98abedcec046"
      },
      "execution_count": null,
      "outputs": [
        {
          "output_type": "execute_result",
          "data": {
            "text/plain": [
              "-1"
            ]
          },
          "metadata": {},
          "execution_count": 24
        }
      ]
    },
    {
      "cell_type": "code",
      "source": [
        "nums = [-1,-1,-1,-1,-1,0]\n",
        "pivotIndex(nums)"
      ],
      "metadata": {
        "colab": {
          "base_uri": "https://localhost:8080/"
        },
        "id": "8e7gDXwIWNUK",
        "outputId": "30d48ba4-192c-4ce2-e421-14637a64c6e3"
      },
      "execution_count": null,
      "outputs": [
        {
          "output_type": "execute_result",
          "data": {
            "text/plain": [
              "2"
            ]
          },
          "metadata": {},
          "execution_count": 25
        }
      ]
    },
    {
      "cell_type": "code",
      "source": [
        "\"\"\"\n",
        "Runtime: 2222 ms, faster than 25.82% of Python online submissions for Find Pivot Index.\n",
        "Memory Usage: 14.7 MB, less than 21.21% of Python online submissions for Find Pivot Index.\n",
        "\"\"\"\n",
        "def pivotIndex(nums):\n",
        "  left = 0\n",
        "  for i in range(len(nums)): \n",
        "    right = nums[i+1:]\n",
        "    if left == sum(right) or (left == 0 and right == []) or (left == 0 and sum(right) == 0):\n",
        "      return i\n",
        "    left += nums[i]\n",
        "  return -1\n",
        "\n",
        "\"\"\"\n",
        "if we remove \"or (left == 0 and right == [])\" from above, conditions in if statement:\n",
        "Runtime: 3518 ms, faster than 20.82% of Python online submissions for Find Pivot Index.\n",
        "Memory Usage: 14.6 MB, less than 21.21% of Python online submissions for Find Pivot Index.\n",
        "\"\"\""
      ],
      "metadata": {
        "id": "KkNIosNvXNxE"
      },
      "execution_count": null,
      "outputs": []
    },
    {
      "cell_type": "code",
      "source": [
        "nums = [-1,-1,0,1,1,0]\n",
        "pivotIndex(nums)"
      ],
      "metadata": {
        "colab": {
          "base_uri": "https://localhost:8080/"
        },
        "id": "NhuCZAGcXWTa",
        "outputId": "cb9d5f66-87a1-476e-ef92-762bbb1f8a2f"
      },
      "execution_count": null,
      "outputs": [
        {
          "output_type": "execute_result",
          "data": {
            "text/plain": [
              "5"
            ]
          },
          "metadata": {},
          "execution_count": 29
        }
      ]
    },
    {
      "cell_type": "code",
      "source": [
        "nums = [1,2,3]\n",
        "pivotIndex(nums)"
      ],
      "metadata": {
        "colab": {
          "base_uri": "https://localhost:8080/"
        },
        "id": "h44iXoajXXDm",
        "outputId": "38ae3b98-4ab2-41ee-a67a-cbffc3ff7b0f"
      },
      "execution_count": null,
      "outputs": [
        {
          "output_type": "execute_result",
          "data": {
            "text/plain": [
              "-1"
            ]
          },
          "metadata": {},
          "execution_count": 30
        }
      ]
    },
    {
      "cell_type": "code",
      "source": [
        "nums = [-1,-1,-1,-1,-1,0]\n",
        "pivotIndex(nums)"
      ],
      "metadata": {
        "colab": {
          "base_uri": "https://localhost:8080/"
        },
        "id": "T3ZF3yxmXogd",
        "outputId": "635a9d98-1868-4fef-c350-c6676e3f4ee6"
      },
      "execution_count": null,
      "outputs": [
        {
          "output_type": "execute_result",
          "data": {
            "text/plain": [
              "2"
            ]
          },
          "metadata": {},
          "execution_count": 31
        }
      ]
    },
    {
      "cell_type": "markdown",
      "source": [
        "##Day 2: String"
      ],
      "metadata": {
        "id": "pmPKF7Y7JYQt"
      }
    },
    {
      "cell_type": "markdown",
      "source": [
        "205. Isomorphic Strings"
      ],
      "metadata": {
        "id": "95k4dnfonPFR"
      }
    },
    {
      "cell_type": "code",
      "source": [
        "\"\"\"\n",
        "205. Isomorphic Strings\n",
        "Easy\n",
        "\n",
        "4476\n",
        "\n",
        "818\n",
        "\n",
        "Add to List\n",
        "\n",
        "Share\n",
        "Given two strings s and t, determine if they are isomorphic.\n",
        "\n",
        "Two strings s and t are isomorphic if the characters in s can be replaced to get t.\n",
        "\n",
        "All occurrences of a character must be replaced with another character while preserving the order of characters. No two characters may map to the same character, but a character may map to itself.\n",
        "\n",
        " \n",
        "\n",
        "Example 1:\n",
        "\n",
        "Input: s = \"egg\", t = \"add\"\n",
        "Output: true\n",
        "Example 2:\n",
        "\n",
        "Input: s = \"foo\", t = \"bar\"\n",
        "Output: false\n",
        "Example 3:\n",
        "\n",
        "Input: s = \"paper\", t = \"title\"\n",
        "Output: true\n",
        " \n",
        "\n",
        "Constraints:\n",
        "\n",
        "1 <= s.length <= 5 * 104\n",
        "t.length == s.length\n",
        "s and t consist of any valid ascii character.\n",
        "\"\"\""
      ],
      "metadata": {
        "id": "RlIa9N4mfrn1"
      },
      "execution_count": null,
      "outputs": []
    },
    {
      "cell_type": "code",
      "source": [
        "\"\"\"\n",
        "Runtime: 90 ms, faster than 23.90% of Python online submissions for Isomorphic Strings.\n",
        "Memory Usage: 14.7 MB, less than 71.55% of Python online submissions for Isomorphic Strings.\n",
        "\"\"\"\n",
        "\n",
        "def isIsomorphic(s, t):\n",
        "    if len(s) == len(t):\n",
        "        if set(s) != set(t):\n",
        "            return False\n",
        "        d = {}\n",
        "        for i in range(len(s)):\n",
        "            if s[i] not in d.keys():\n",
        "                d[s[i]] = t[i]\n",
        "            if t[i] != d[s[i]]:\n",
        "                return False\n",
        "        return True\n",
        "    else:\n",
        "        return False\n",
        "        "
      ],
      "metadata": {
        "id": "VJ25dUoSdsGC"
      },
      "execution_count": null,
      "outputs": []
    },
    {
      "cell_type": "code",
      "source": [
        "s = \"badc\"\n",
        "t = \"baba\"\n",
        "isIsomorphic(s, t)"
      ],
      "metadata": {
        "colab": {
          "base_uri": "https://localhost:8080/"
        },
        "id": "FQTpoK_uereR",
        "outputId": "400e62e7-7c79-442f-826e-aea9a256cb8b"
      },
      "execution_count": null,
      "outputs": [
        {
          "output_type": "execute_result",
          "data": {
            "text/plain": [
              "False"
            ]
          },
          "metadata": {},
          "execution_count": 11
        }
      ]
    },
    {
      "cell_type": "markdown",
      "source": [
        "392. Is Subsequence"
      ],
      "metadata": {
        "id": "ylkX9IvinEy2"
      }
    },
    {
      "cell_type": "code",
      "source": [
        "\"\"\"\n",
        "Runtime: 82 ms, faster than 5.02% of Python online submissions for Is Subsequence.\n",
        "Memory Usage: 13.5 MB, less than 86.64% of Python online submissions for Is Subsequence.\n",
        "\"\"\"\n",
        "\n",
        "def isSubsequence(s, t):\n",
        "    if s == \"\":\n",
        "        return True\n",
        "    if t == \"\":\n",
        "        return False\n",
        "\n",
        "    s = list(s)\n",
        "    t = list(t)\n",
        "    i = 0\n",
        "    while len(s) != len(t) and i < len(s):\n",
        "        if t[i] != s[i]:\n",
        "            t.pop(i)\n",
        "        else:\n",
        "            i+=1\n",
        "    if s == t[0:len(s)]:\n",
        "        return True\n",
        "    else:\n",
        "        return False"
      ],
      "metadata": {
        "id": "y5tLC92snEHy"
      },
      "execution_count": null,
      "outputs": []
    },
    {
      "cell_type": "code",
      "source": [
        "s = \"b\" \n",
        "t = \"abc\"\n",
        "isSubsequence(s, t)"
      ],
      "metadata": {
        "colab": {
          "base_uri": "https://localhost:8080/"
        },
        "id": "j0Cb-3Agngmy",
        "outputId": "2d20babf-b269-445b-8643-340ebfa33071"
      },
      "execution_count": null,
      "outputs": [
        {
          "output_type": "execute_result",
          "data": {
            "text/plain": [
              "True"
            ]
          },
          "metadata": {},
          "execution_count": 27
        }
      ]
    },
    {
      "cell_type": "markdown",
      "source": [
        "##Day 3:"
      ],
      "metadata": {
        "id": "q1dPur-B2Wim"
      }
    },
    {
      "cell_type": "markdown",
      "source": [
        "21. Merge Two Sorted Lists"
      ],
      "metadata": {
        "id": "Gkgrz6H12tV3"
      }
    },
    {
      "cell_type": "code",
      "source": [
        "\"\"\"\n",
        "21. Merge Two Sorted Lists\n",
        "Easy\n",
        "\n",
        "14178\n",
        "\n",
        "1272\n",
        "\n",
        "Add to List\n",
        "\n",
        "Share\n",
        "You are given the heads of two sorted linked lists list1 and list2.\n",
        "\n",
        "Merge the two lists in a one sorted list. The list should be made by splicing together the nodes of the first two lists.\n",
        "\n",
        "Return the head of the merged linked list.\n",
        "\n",
        " \n",
        "\n",
        "Example 1:\n",
        "\n",
        "\n",
        "Input: list1 = [1,2,4], list2 = [1,3,4]\n",
        "Output: [1,1,2,3,4,4]\n",
        "Example 2:\n",
        "\n",
        "Input: list1 = [], list2 = []\n",
        "Output: []\n",
        "Example 3:\n",
        "\n",
        "Input: list1 = [], list2 = [0]\n",
        "Output: [0]\n",
        " \n",
        "\n",
        "Constraints:\n",
        "\n",
        "The number of nodes in both lists is in the range [0, 50].\n",
        "-100 <= Node.val <= 100\n",
        "Both list1 and list2 are sorted in non-decreasing order.\n",
        "\"\"\""
      ],
      "metadata": {
        "id": "AeK8al-x2Yim"
      },
      "execution_count": null,
      "outputs": []
    },
    {
      "cell_type": "code",
      "source": [
        "\"\"\"\n",
        "resource:\n",
        "https://www.geeksforgeeks.org/merge-two-sorted-linked-lists/#:~:text=SortedMerge()%20should%20return%20the,%2D%3E15%2D%3E20.\n",
        "\"\"\""
      ],
      "metadata": {
        "id": "7K1kwbFjbmBO"
      },
      "execution_count": null,
      "outputs": []
    },
    {
      "cell_type": "code",
      "source": [
        "#from above link\n",
        "\n",
        "\"\"\" Python program to merge two\n",
        "sorted linked lists \"\"\"\n",
        "   \n",
        "# Linked List Node\n",
        "class Node:\n",
        "    def __init__(self, data):\n",
        "        self.data = data\n",
        "        self.next = None\n",
        "  \n",
        "  \n",
        "# Create & Handle List operations\n",
        "class LinkedList:\n",
        "    def __init__(self):\n",
        "        self.head = None\n",
        "  \n",
        "    # Method to display the list\n",
        "    def printList(self):\n",
        "        temp = self.head\n",
        "        while temp:\n",
        "            print(temp.data, end=\" \")\n",
        "            temp = temp.next\n",
        "  \n",
        "    # Method to add element to list\n",
        "    def addToList(self, newData):\n",
        "        newNode = Node(newData)\n",
        "        if self.head is None:\n",
        "            self.head = newNode\n",
        "            return\n",
        "  \n",
        "        last = self.head\n",
        "        while last.next:\n",
        "            last = last.next\n",
        "  \n",
        "        last.next = newNode\n",
        "  \n",
        "  \n",
        "# Function to merge the lists\n",
        "# Takes two lists which are sorted\n",
        "# joins them to get a single sorted list\n",
        "def mergeLists(headA, headB):\n",
        "  \n",
        "    # A dummy node to store the result\n",
        "    dummyNode = Node(0)\n",
        "  \n",
        "    # Tail stores the last node\n",
        "    tail = dummyNode\n",
        "    while True:\n",
        "  \n",
        "        # If any of the list gets completely empty\n",
        "        # directly join all the elements of the other list\n",
        "        if headA is None:\n",
        "            tail.next = headB\n",
        "            break\n",
        "        if headB is None:\n",
        "            tail.next = headA\n",
        "            break\n",
        "  \n",
        "        # Compare the data of the lists and whichever is smaller is\n",
        "        # appended to the last of the merged list and the head is changed\n",
        "        if headA.data <= headB.data:\n",
        "            tail.next = headA\n",
        "            headA = headA.next\n",
        "        else:\n",
        "            tail.next = headB\n",
        "            headB = headB.next\n",
        "  \n",
        "        # Advance the tail\n",
        "        tail = tail.next\n",
        "  \n",
        "    # Returns the head of the merged list\n",
        "    return dummyNode.next\n",
        "  \n",
        "  \n",
        "# Create 2 lists\n",
        "listA = LinkedList()\n",
        "listB = LinkedList()\n",
        "  \n",
        "# Add elements to the list in sorted order\n",
        "listA.addToList(5)\n",
        "listA.addToList(10)\n",
        "listA.addToList(15)\n",
        "  \n",
        "listB.addToList(2)\n",
        "listB.addToList(3)\n",
        "listB.addToList(20)\n",
        "  \n",
        "# Call the merge function\n",
        "listA.head = mergeLists(listA.head, listB.head)\n",
        "  \n",
        "# Display merged list\n",
        "print(\"Merged Linked List is:\")\n",
        "listA.printList()\n",
        "  \n",
        "\"\"\" This code is contributed\n",
        "by Debidutta Rath \"\"\""
      ],
      "metadata": {
        "id": "P-mVevYWcLut"
      },
      "execution_count": null,
      "outputs": []
    },
    {
      "cell_type": "code",
      "source": [
        "# my failed solution\n",
        "def mergeTwoLists(list1, list2):\n",
        "    temp1 = list1\n",
        "    temp2 = list2\n",
        "    \n",
        "    if temp1 == None:\n",
        "        return temp2\n",
        "    if temp2 == None:\n",
        "        return temp1\n",
        "\n",
        "    Out = []\n",
        "\n",
        "    i = 0\n",
        "    j = 0\n",
        "    \n",
        "    while temp1 != None and temp2 != None:\n",
        "        if temp1.val > temp2.val:\n",
        "            Out.append(temp2.val)\n",
        "            temp2.next\n",
        "        elif temp1.val < temp2.val:\n",
        "            Out.append(temp1.val)\n",
        "            temp1.next\n",
        "        else:\n",
        "            Out.append(temp1.val)\n",
        "            Out.append(temp2.val)\n",
        "            temp1.next\n",
        "            temp2.next\n",
        "\n",
        "  #         for list1.head != []:\n",
        "  #           Out.append(list1.head)\n",
        "  #           list1.next\n",
        "        \n",
        "  #         for list2.head != []:\n",
        "  #           Out.append(list2.head)\n",
        "  #           list2.next\n",
        "\n",
        "    return Out"
      ],
      "metadata": {
        "id": "Lt2kTXvLd1wd"
      },
      "execution_count": null,
      "outputs": []
    },
    {
      "cell_type": "code",
      "source": [
        "\"\"\" using python\n",
        "Runtime: 41 ms, faster than 37.15% of Python online submissions for Merge Two Sorted Lists.\n",
        "Memory Usage: 13.3 MB, less than 96.47% of Python online submissions for Merge Two Sorted Lists.\n",
        "\"\"\"\n",
        "\n",
        "\n",
        "\n",
        "# Definition for singly-linked list.\n",
        "class ListNode(object):\n",
        "    def __init__(self, val=0, next=None):\n",
        "        self.val = val\n",
        "        self.next = next\n",
        "class Solution(object):\n",
        "    def mergeTwoLists(self, list1, list2):\n",
        "        # A dummy node to store the result\n",
        "        dummyNode = ListNode(0)\n",
        "\n",
        "        # Tail stores the last node\n",
        "        tail = dummyNode\n",
        "        while True:\n",
        "\n",
        "            # If any of the list gets completely empty\n",
        "            # directly join all the elements of the other list\n",
        "            if list1 is None:\n",
        "                tail.next = list2\n",
        "                break\n",
        "            if list2 is None:\n",
        "                tail.next = list1\n",
        "                break\n",
        "\n",
        "            # Compare the data of the lists and whichever is smaller is\n",
        "            # appended to the last of the merged list and the head is changed\n",
        "            if list1.val <= list2.val:\n",
        "                tail.next = list1\n",
        "                list1 = list1.next\n",
        "            else:\n",
        "                tail.next = list2\n",
        "                list2 = list2.next\n",
        "\n",
        "            # Advance the tail\n",
        "            tail = tail.next\n",
        "\n",
        "        # Returns the head of the merged list\n",
        "        return dummyNode.next        "
      ],
      "metadata": {
        "id": "Wc4Fx2XdeaC4"
      },
      "execution_count": null,
      "outputs": []
    },
    {
      "cell_type": "code",
      "source": [
        "#using python3\n",
        "\n",
        "\n",
        "# Definition for singly-linked list.\n",
        "class ListNode:\n",
        "    def __init__(self, val=0, next=None):\n",
        "        self.val = val\n",
        "        self.next = next\n",
        "class Solution:\n",
        "    def mergeTwoLists(self, list1: Optional[ListNode], list2: Optional[ListNode]) -> Optional[ListNode]:\n",
        "    \n",
        "        # A dummy node to store the result\n",
        "        dummyNode = ListNode(0)\n",
        "\n",
        "        # Tail stores the last node\n",
        "        tail = dummyNode\n",
        "        while True:\n",
        "\n",
        "            # If any of the list gets completely empty\n",
        "            # directly join all the elements of the other list\n",
        "            if list1 is None:\n",
        "                tail.next = list2\n",
        "                break\n",
        "            if list2 is None:\n",
        "                tail.next = list1\n",
        "                break\n",
        "\n",
        "            # Compare the data of the lists and whichever is smaller is\n",
        "            # appended to the last of the merged list and the head is changed\n",
        "            if list1.val <= list2.val:\n",
        "                tail.next = list1\n",
        "                list1 = list1.next\n",
        "            else:\n",
        "                tail.next = list2\n",
        "                list2 = list2.next\n",
        "\n",
        "            # Advance the tail\n",
        "            tail = tail.next\n",
        "\n",
        "        # Returns the head of the merged list\n",
        "        return dummyNode.next"
      ],
      "metadata": {
        "id": "uV_mEa472Z7F"
      },
      "execution_count": null,
      "outputs": []
    },
    {
      "cell_type": "markdown",
      "source": [
        "206. Reverse Linked List"
      ],
      "metadata": {
        "id": "ejQzaam4gCpt"
      }
    },
    {
      "cell_type": "code",
      "source": [
        "\"\"\"\n",
        "206. Reverse Linked List\n",
        "Easy\n",
        "\n",
        "13922\n",
        "\n",
        "241\n",
        "\n",
        "Add to List\n",
        "\n",
        "Share\n",
        "Given the head of a singly linked list, reverse the list, and return the reversed list.\n",
        "\n",
        " \n",
        "\n",
        "Example 1:\n",
        "\n",
        "\n",
        "Input: head = [1,2,3,4,5]\n",
        "Output: [5,4,3,2,1]\n",
        "Example 2:\n",
        "\n",
        "\n",
        "Input: head = [1,2]\n",
        "Output: [2,1]\n",
        "Example 3:\n",
        "\n",
        "Input: head = []\n",
        "Output: []\n",
        " \n",
        "\n",
        "Constraints:\n",
        "\n",
        "The number of nodes in the list is the range [0, 5000].\n",
        "-5000 <= Node.val <= 5000\n",
        " \n",
        "\n",
        "Follow up: A linked list can be reversed either iteratively or recursively. Could you implement both?\n",
        "\"\"\""
      ],
      "metadata": {
        "id": "Gu2Q9InRgDAl"
      },
      "execution_count": null,
      "outputs": []
    },
    {
      "cell_type": "code",
      "source": [
        "\"\"\"\n",
        "Runtime: 33 ms, faster than 61.48% of Python online submissions for Reverse Linked List.\n",
        "Memory Usage: 15.4 MB, less than 53.69% of Python online submissions for Reverse Linked List.\n",
        "\"\"\"\n",
        "\n",
        "# Definition for singly-linked list.\n",
        "# class ListNode(object):\n",
        "#     def __init__(self, val=0, next=None):\n",
        "#         self.val = val\n",
        "#         self.next = next\n",
        "class Solution(object):\n",
        "    def reverseList(self, head):\n",
        "        \n",
        "        prev = None\n",
        "        \n",
        "        curr = head\n",
        "        \n",
        "        while curr != None:\n",
        "            nxt = curr.next\n",
        "            curr.next = prev\n",
        "            prev = curr\n",
        "            curr = nxt\n",
        "            \n",
        "        return prev"
      ],
      "metadata": {
        "id": "LDt-7yvDgJWX"
      },
      "execution_count": null,
      "outputs": []
    },
    {
      "cell_type": "markdown",
      "source": [
        "##Day 4: Linked List"
      ],
      "metadata": {
        "id": "TIWNUL2uAez8"
      }
    },
    {
      "cell_type": "markdown",
      "source": [
        "876. Middle of the Linked List"
      ],
      "metadata": {
        "id": "MVUkmU1AIMqA"
      }
    },
    {
      "cell_type": "code",
      "source": [
        "\"\"\"\n",
        "876. Middle of the Linked List\n",
        "Easy\n",
        "\n",
        "6542\n",
        "\n",
        "172\n",
        "\n",
        "Add to List\n",
        "\n",
        "Share\n",
        "Given the head of a singly linked list, return the middle node of the linked list.\n",
        "\n",
        "If there are two middle nodes, return the second middle node.\n",
        "\n",
        " \n",
        "\n",
        "Example 1:\n",
        "\n",
        "\n",
        "Input: head = [1,2,3,4,5]\n",
        "Output: [3,4,5]\n",
        "Explanation: The middle node of the list is node 3.\n",
        "Example 2:\n",
        "\n",
        "\n",
        "Input: head = [1,2,3,4,5,6]\n",
        "Output: [4,5,6]\n",
        "Explanation: Since the list has two middle nodes with values 3 and 4, we return the second one.\n",
        " \n",
        "\n",
        "Constraints:\n",
        "\n",
        "The number of nodes in the list is in the range [1, 100].\n",
        "1 <= Node.val <= 100\n",
        "\"\"\""
      ],
      "metadata": {
        "id": "sJ4Q4Yw8IDI6"
      },
      "execution_count": null,
      "outputs": []
    },
    {
      "cell_type": "code",
      "source": [
        "# Definition for singly-linked list.\n",
        "# class ListNode(object):\n",
        "#     def __init__(self, val=0, next=None):\n",
        "#         self.val = val\n",
        "#         self.next = next\n",
        "class Solution(object):\n",
        "    def middleNode(self, head):\n",
        "        temp1 = head\n",
        "        temp2 = head\n",
        "        \n",
        "        while temp2 != None and temp2.next != None:\n",
        "            temp1 = temp1.next\n",
        "            temp2 = temp2.next\n",
        "            temp2 = temp2.next\n",
        "        \n",
        "        return temp1"
      ],
      "metadata": {
        "id": "rqB_wPCpIC7V"
      },
      "execution_count": null,
      "outputs": []
    },
    {
      "cell_type": "markdown",
      "source": [
        "142. Linked List Cycle II"
      ],
      "metadata": {
        "id": "-P2Tnx-6H2Zx"
      }
    },
    {
      "cell_type": "code",
      "source": [
        "\"\"\"\n",
        "142. Linked List Cycle II\n",
        "Medium\n",
        "\n",
        "8510\n",
        "\n",
        "588\n",
        "\n",
        "Add to List\n",
        "\n",
        "Share\n",
        "Given the head of a linked list, return the node where the cycle begins. If there is no cycle, return null.\n",
        "\n",
        "There is a cycle in a linked list if there is some node in the list that can be reached again by continuously following the next pointer. Internally, pos is used to denote the index of the node that tail's next pointer is connected to (0-indexed). It is -1 if there is no cycle. Note that pos is not passed as a parameter.\n",
        "\n",
        "Do not modify the linked list.\n",
        "\n",
        " \n",
        "\n",
        "Example 1:\n",
        "\n",
        "\n",
        "Input: head = [3,2,0,-4], pos = 1\n",
        "Output: tail connects to node index 1\n",
        "Explanation: There is a cycle in the linked list, where tail connects to the second node.\n",
        "Example 2:\n",
        "\n",
        "\n",
        "Input: head = [1,2], pos = 0\n",
        "Output: tail connects to node index 0\n",
        "Explanation: There is a cycle in the linked list, where tail connects to the first node.\n",
        "Example 3:\n",
        "\n",
        "\n",
        "Input: head = [1], pos = -1\n",
        "Output: no cycle\n",
        "Explanation: There is no cycle in the linked list.\n",
        " \n",
        "\n",
        "Constraints:\n",
        "\n",
        "The number of the nodes in the list is in the range [0, 104].\n",
        "-105 <= Node.val <= 105\n",
        "pos is -1 or a valid index in the linked-list.\n",
        "\"\"\""
      ],
      "metadata": {
        "id": "9RbEQ0EZH-BA"
      },
      "execution_count": null,
      "outputs": []
    },
    {
      "cell_type": "code",
      "source": [
        "\"\"\"\n",
        "Runtime: 51 ms, faster than 72.51% of Python online submissions for Linked List Cycle II.\n",
        "Memory Usage: 19.4 MB, less than 95.14% of Python online submissions for Linked List Cycle II.\n",
        "\"\"\"\n",
        "\n",
        "# Definition for singly-linked list.\n",
        "# class ListNode(object):\n",
        "#     def __init__(self, x):\n",
        "#         self.val = x\n",
        "#         self.next = None\n",
        "\n",
        "class Solution(object):\n",
        "    def detectCycle(self, head):\n",
        "        temp1 = head\n",
        "        temp2 = head\n",
        "        \n",
        "        while temp2 and temp2.next:\n",
        "            temp1,temp2 = temp1.next, temp2.next.next\n",
        "            if temp1 == temp2: \n",
        "                break \n",
        "        else: \n",
        "            return None\n",
        "        \n",
        "        while head != temp1:\n",
        "            head, temp1 = head.next, temp1.next\n",
        "        \n",
        "        return head"
      ],
      "metadata": {
        "id": "w-9Q6oS7BGOQ"
      },
      "execution_count": null,
      "outputs": []
    },
    {
      "cell_type": "markdown",
      "source": [
        "##DAY 5: Greedy"
      ],
      "metadata": {
        "id": "xWnageVUQYzg"
      }
    },
    {
      "cell_type": "markdown",
      "source": [
        "121. Best Time to Buy and Sell Stock"
      ],
      "metadata": {
        "id": "pLOUid2oQdKK"
      }
    },
    {
      "cell_type": "code",
      "source": [
        "\"\"\"\n",
        "121. Best Time to Buy and Sell Stock\n",
        "Easy\n",
        "\n",
        "19078\n",
        "\n",
        "615\n",
        "\n",
        "Add to List\n",
        "\n",
        "Share\n",
        "You are given an array prices where prices[i] is the price of a given stock on the ith day.\n",
        "\n",
        "You want to maximize your profit by choosing a single day to buy one stock and choosing a different day in the future to sell that stock.\n",
        "\n",
        "Return the maximum profit you can achieve from this transaction. If you cannot achieve any profit, return 0.\n",
        "\n",
        " \n",
        "\n",
        "Example 1:\n",
        "\n",
        "Input: prices = [7,1,5,3,6,4]\n",
        "Output: 5\n",
        "Explanation: Buy on day 2 (price = 1) and sell on day 5 (price = 6), profit = 6-1 = 5.\n",
        "Note that buying on day 2 and selling on day 1 is not allowed because you must buy before you sell.\n",
        "Example 2:\n",
        "\n",
        "Input: prices = [7,6,4,3,1]\n",
        "Output: 0\n",
        "Explanation: In this case, no transactions are done and the max profit = 0.\n",
        " \n",
        "\n",
        "Constraints:\n",
        "\n",
        "1 <= prices.length <= 105\n",
        "0 <= prices[i] <= 104\n",
        "\"\"\""
      ],
      "metadata": {
        "id": "WI3nI2DVQcKS"
      },
      "execution_count": null,
      "outputs": []
    },
    {
      "cell_type": "code",
      "source": [
        "\"\"\"\n",
        "Runtime: 1651 ms, faster than 13.03% of Python online submissions for Best Time to Buy and Sell Stock.\n",
        "Memory Usage: 22.9 MB, less than 12.52% of Python online submissions for Best Time to Buy and Sell Stock.\n",
        "\"\"\"\n",
        "#NEEDS REVISION\n",
        "\n",
        "def maxProfit(prices):\n",
        "    if len(prices) == 0:\n",
        "        return 0\n",
        "    else:\n",
        "        max_profit = 0\n",
        "        min_price = prices[0]\n",
        "        for i in range(len(prices)):\n",
        "            profit = prices[i] - min_price\n",
        "            max_profit = max(profit, max_profit)\n",
        "            min_price = min(min_price, prices[i])\n",
        "\n",
        "        return max_profit"
      ],
      "metadata": {
        "id": "zyV3TbRwW5AB"
      },
      "execution_count": null,
      "outputs": []
    },
    {
      "cell_type": "code",
      "source": [
        "# TLE\n",
        "\n",
        "def maxProfit(prices):\n",
        "  Out = 0\n",
        "\n",
        "  if len(prices) < 2:\n",
        "    return 0\n",
        "\n",
        "  while len(prices) > 1:\n",
        "    mi = min(prices)\n",
        "\n",
        "    idx_min = prices.index(mi)\n",
        "\n",
        "    li = prices[idx_min: ]\n",
        "\n",
        "    for el in li[1:]:\n",
        "      if el > li[0]:\n",
        "        if el - li[0] > Out:\n",
        "          Out = el - li[0]\n",
        "    \n",
        "    prices.pop(idx_min)\n",
        "\n",
        "  return Out\n"
      ],
      "metadata": {
        "id": "vuKOO6lMQi5n"
      },
      "execution_count": null,
      "outputs": []
    },
    {
      "cell_type": "code",
      "source": [
        "prices = [3,8,4,1,2]\n",
        "maxProfit(prices)"
      ],
      "metadata": {
        "colab": {
          "base_uri": "https://localhost:8080/"
        },
        "id": "h2ezbBc3TiKU",
        "outputId": "ca0098ca-79d8-4a79-a72c-2f0af38c1c14"
      },
      "execution_count": null,
      "outputs": [
        {
          "output_type": "execute_result",
          "data": {
            "text/plain": [
              "5"
            ]
          },
          "metadata": {},
          "execution_count": 92
        }
      ]
    },
    {
      "cell_type": "code",
      "source": [
        "# TLE\n",
        "\n",
        "def maxProfit(prices):\n",
        "  Out = 0\n",
        "\n",
        "  if len(prices) < 2:\n",
        "    return 0\n",
        "\n",
        "  mi = min(prices)\n",
        "  ma = max(prices)\n",
        "  if prices.index(mi) < prices.index(max(prices)):\n",
        "    return max(prices) - min(prices)\n",
        "\n",
        "  \n",
        "\n",
        "  while len(prices) > 1:\n",
        "    idx_min = prices.index(mi)\n",
        "    # li = prices[idx_min: ]\n",
        "\n",
        "    if max(prices[idx_min:]) - mi > Out:\n",
        "      Out = max(prices[idx_min: ]) - mi\n",
        "\n",
        "    while mi in prices:\n",
        "      prices.remove(mi)\n",
        "\n",
        "\n",
        "    if prices != []:\n",
        "      mi = min(prices)\n",
        "    \n",
        "\n",
        "  return Out"
      ],
      "metadata": {
        "id": "jxJ8qkApl-1y"
      },
      "execution_count": null,
      "outputs": []
    },
    {
      "cell_type": "code",
      "source": [
        "prices = [2,4,1]\n",
        "maxProfit(prices)"
      ],
      "metadata": {
        "colab": {
          "base_uri": "https://localhost:8080/"
        },
        "id": "-4V6zY5N0zAx",
        "outputId": "774860c3-fff8-408e-afa9-bc74de81ff51"
      },
      "execution_count": null,
      "outputs": [
        {
          "output_type": "execute_result",
          "data": {
            "text/plain": [
              "2"
            ]
          },
          "metadata": {},
          "execution_count": 118
        }
      ]
    },
    {
      "cell_type": "code",
      "source": [
        "prices = [1,2]\n",
        "maxProfit(prices)"
      ],
      "metadata": {
        "colab": {
          "base_uri": "https://localhost:8080/"
        },
        "id": "SrtLyzCS59fB",
        "outputId": "320ece44-766f-4f16-d557-c28854bb77d5"
      },
      "execution_count": null,
      "outputs": [
        {
          "output_type": "execute_result",
          "data": {
            "text/plain": [
              "1"
            ]
          },
          "metadata": {},
          "execution_count": 119
        }
      ]
    },
    {
      "cell_type": "code",
      "source": [
        "# TLE\n",
        "\n",
        "def maxProfit(prices):\n",
        "  if prices == []:\n",
        "    return 0\n",
        "\n",
        "  Out = 0\n",
        "\n",
        "  i = 0\n",
        "  best_num = prices[0]\n",
        "\n",
        "  while prices[i:] != [] and len(prices[i:]) > 1:\n",
        "    if max(prices[i+1:]) - prices[i] > Out:\n",
        "      Out =  max(prices[i:]) - prices[i]\n",
        "\n",
        "    while prices[i] >= best_num and len(prices[i:]) > 1:\n",
        "       i += 1\n",
        "    best_num = prices[i]\n",
        "\n",
        "  return Out"
      ],
      "metadata": {
        "id": "Zl2WoEc6xJE4"
      },
      "execution_count": null,
      "outputs": []
    },
    {
      "cell_type": "code",
      "source": [
        "prices = [7,1,5,3,6,4]\n",
        "maxProfit(prices)"
      ],
      "metadata": {
        "colab": {
          "base_uri": "https://localhost:8080/"
        },
        "id": "3V3licuA-xsn",
        "outputId": "27fc2397-6ab3-4144-8919-f9c690042eeb"
      },
      "execution_count": null,
      "outputs": [
        {
          "output_type": "execute_result",
          "data": {
            "text/plain": [
              "5"
            ]
          },
          "metadata": {},
          "execution_count": 157
        }
      ]
    },
    {
      "cell_type": "markdown",
      "source": [
        "409. Longest Palindrome"
      ],
      "metadata": {
        "id": "QHRvA__KSddR"
      }
    },
    {
      "cell_type": "code",
      "source": [
        "\"\"\"\n",
        "409. Longest Palindrome\n",
        "Easy\n",
        "\n",
        "3343\n",
        "\n",
        "193\n",
        "\n",
        "Add to List\n",
        "\n",
        "Share\n",
        "Given a string s which consists of lowercase or uppercase letters, return the length of the longest palindrome that can be built with those letters.\n",
        "\n",
        "Letters are case sensitive, for example, \"Aa\" is not considered a palindrome here.\n",
        "\n",
        " \n",
        "\n",
        "Example 1:\n",
        "\n",
        "Input: s = \"abccccdd\"\n",
        "Output: 7\n",
        "Explanation: One longest palindrome that can be built is \"dccaccd\", whose length is 7.\n",
        "Example 2:\n",
        "\n",
        "Input: s = \"a\"\n",
        "Output: 1\n",
        "Explanation: The longest palindrome that can be built is \"a\", whose length is 1.\n",
        " \n",
        "\n",
        "Constraints:\n",
        "\n",
        "1 <= s.length <= 2000\n",
        "s consists of lowercase and/or uppercase English letters only.\n",
        "\"\"\""
      ],
      "metadata": {
        "id": "nAiIEJiTWfN7"
      },
      "execution_count": null,
      "outputs": []
    },
    {
      "cell_type": "code",
      "source": [
        "\"\"\"\n",
        "Runtime: 34 ms, faster than 50.80% of Python online submissions for Longest Palindrome.\n",
        "Memory Usage: 13.5 MB, less than 64.46% of Python online submissions for Longest Palindrome.\n",
        "\"\"\"\n",
        "\n",
        "def longestPalindrome(s):\n",
        "    ans = 0\n",
        "    extras = 0\n",
        "    d = {}\n",
        "    for char in s:\n",
        "        if char in d.keys():\n",
        "            d[char] += 1\n",
        "        else:\n",
        "            d[char] = 1\n",
        "            \n",
        "    for key in d.keys():\n",
        "        if d[key] % 2 == 0:\n",
        "            ans += d[key]\n",
        "        \n",
        "        else:\n",
        "            ans += d[key]-1\n",
        "            extras += 1\n",
        "    if extras > 0:\n",
        "        return ans + 1\n",
        "    else:\n",
        "        return ans"
      ],
      "metadata": {
        "id": "oD70MAky_C-i"
      },
      "execution_count": null,
      "outputs": []
    },
    {
      "cell_type": "code",
      "source": [
        "s = \"civilwartestingwhetherthatnaptionoranynartionsoconceivedandsodedicatedcanlongendureWeareqmetonagreatbattlefiemldoftzhatwarWehavecometodedicpateaportionofthatfieldasafinalrestingplaceforthosewhoheregavetheirlivesthatthatnationmightliveItisaltogetherfangandproperthatweshoulddothisButinalargersensewecannotdedicatewecannotconsecratewecannothallowthisgroundThebravelmenlivinganddeadwhostruggledherehaveconsecrateditfaraboveourpoorponwertoaddordetractTgheworldadswfilllittlenotlenorlongrememberwhatwesayherebutitcanneverforgetwhattheydidhereItisforusthelivingrathertobededicatedheretotheulnfinishedworkwhichtheywhofoughtherehavethusfarsonoblyadvancedItisratherforustobeherededicatedtothegreattdafskremainingbeforeusthatfromthesehonoreddeadwetakeincreaseddevotiontothatcauseforwhichtheygavethelastpfullmeasureofdevotionthatweherehighlyresolvethatthesedeadshallnothavediedinvainthatthisnationunsderGodshallhaveanewbirthoffreedomandthatgovernmentofthepeoplebythepeopleforthepeopleshallnotperishfromtheearth\"\n",
        "longestPalindrome(s)"
      ],
      "metadata": {
        "colab": {
          "base_uri": "https://localhost:8080/"
        },
        "id": "efNryHVkS17k",
        "outputId": "fc86b802-4ed5-408c-d492-9a1e32877a9f"
      },
      "execution_count": null,
      "outputs": [
        {
          "output_type": "execute_result",
          "data": {
            "text/plain": [
              "983"
            ]
          },
          "metadata": {},
          "execution_count": 162
        }
      ]
    },
    {
      "cell_type": "markdown",
      "source": [
        "##Day 6: Tree"
      ],
      "metadata": {
        "id": "x8m70uSlwM32"
      }
    },
    {
      "cell_type": "markdown",
      "source": [
        "589. N-ary Tree Preorder Traversal"
      ],
      "metadata": {
        "id": "f_mvb7JswYDX"
      }
    },
    {
      "cell_type": "code",
      "source": [
        "\"\"\"\n",
        "589. N-ary Tree Preorder Traversal\n",
        "Easy\n",
        "\n",
        "2151\n",
        "\n",
        "104\n",
        "\n",
        "Add to List\n",
        "\n",
        "Share\n",
        "Given the root of an n-ary tree, return the preorder traversal of its nodes' values.\n",
        "\n",
        "Nary-Tree input serialization is represented in their level order traversal. Each group of children is separated by the null value (See examples)\n",
        "\n",
        " \n",
        "\n",
        "Example 1:\n",
        "\n",
        "\n",
        "\n",
        "Input: root = [1,null,3,2,4,null,5,6]\n",
        "Output: [1,3,5,6,2,4]\n",
        "Example 2:\n",
        "\n",
        "\n",
        "\n",
        "Input: root = [1,null,2,3,4,5,null,null,6,7,null,8,null,9,10,null,null,11,null,12,null,13,null,null,14]\n",
        "Output: [1,2,3,6,7,11,14,4,8,12,5,9,13,10]\n",
        " \n",
        "\n",
        "Constraints:\n",
        "\n",
        "The number of nodes in the tree is in the range [0, 104].\n",
        "0 <= Node.val <= 104\n",
        "The height of the n-ary tree is less than or equal to 1000.\n",
        " \n",
        "\n",
        "Follow up: Recursive solution is trivial, could you do it iteratively?\n",
        "\"\"\""
      ],
      "metadata": {
        "id": "DB2egXF1wTyz"
      },
      "execution_count": null,
      "outputs": []
    },
    {
      "cell_type": "code",
      "source": [
        "#needs revision\n",
        "\n",
        "\"\"\"\n",
        "# Definition for a Node.\n",
        "class Node(object):\n",
        "    def __init__(self, val=None, children=None):\n",
        "        self.val = val\n",
        "        self.children = children\n",
        "\"\"\"\n",
        "\n",
        "class Solution(object):\n",
        "\n",
        "    \n",
        " \n",
        "            \n",
        "    def preorder(self, root):\n",
        "        result = []\n",
        "        def preorderHelper(node):\n",
        "            if not node:\n",
        "                return\n",
        "            result.append(node.val)\n",
        "            for child in node.children:\n",
        "                preorderHelper(child)\n",
        "        \n",
        "        preorderHelper(root)\n",
        "        return result"
      ],
      "metadata": {
        "id": "wJ5Jx9-RwfZN"
      },
      "execution_count": null,
      "outputs": []
    },
    {
      "cell_type": "markdown",
      "source": [
        "102. Binary Tree Level Order Traversal"
      ],
      "metadata": {
        "id": "UgTTq1IhXpQ3"
      }
    },
    {
      "cell_type": "code",
      "source": [
        "\"\"\"\n",
        "102. Binary Tree Level Order Traversal\n",
        "Medium\n",
        "\n",
        "10334\n",
        "\n",
        "198\n",
        "\n",
        "Add to List\n",
        "\n",
        "Share\n",
        "Given the root of a binary tree, return the level order traversal of its nodes' values. (i.e., from left to right, level by level).\n",
        "\n",
        " \n",
        "\n",
        "Example 1:\n",
        "\n",
        "\n",
        "Input: root = [3,9,20,null,null,15,7]\n",
        "Output: [[3],[9,20],[15,7]]\n",
        "Example 2:\n",
        "\n",
        "Input: root = [1]\n",
        "Output: [[1]]\n",
        "Example 3:\n",
        "\n",
        "Input: root = []\n",
        "Output: []\n",
        " \n",
        "\n",
        "Constraints:\n",
        "\n",
        "The number of nodes in the tree is in the range [0, 2000].\n",
        "-1000 <= Node.val <= 1000\n",
        "\"\"\""
      ],
      "metadata": {
        "id": "DVAGs30yXxEC"
      },
      "execution_count": null,
      "outputs": []
    },
    {
      "cell_type": "code",
      "source": [
        "#needs revision\n",
        "\n",
        "# Definition for a binary tree node.\n",
        "# class TreeNode(object):\n",
        "#     def __init__(self, val=0, left=None, right=None):\n",
        "#         self.val = val\n",
        "#         self.left = left\n",
        "#         self.right = right\n",
        "class Solution(object):\n",
        "    def levelOrder(self, root):\n",
        "        if root is None:\n",
        "            return []\n",
        "        queue = [root]\n",
        "        next_queue = []\n",
        "        level = []\n",
        "        result = []\n",
        "        while queue != []:\n",
        "            for root in queue:\n",
        "                level.append(root.val)\n",
        "                if root.left is not None:\n",
        "                    next_queue.append(root.left)\n",
        "                if root.right is not None:\n",
        "                    next_queue.append(root.right)\n",
        "            result.append(level)\n",
        "            level = []\n",
        "            queue = next_queue\n",
        "            next_queue = []\n",
        "        return result"
      ],
      "metadata": {
        "id": "mbqG1L0tX5iR"
      },
      "execution_count": null,
      "outputs": []
    },
    {
      "cell_type": "markdown",
      "source": [
        "##Day 7: Binary Search"
      ],
      "metadata": {
        "id": "JRk-NAKkYBJ7"
      }
    },
    {
      "cell_type": "markdown",
      "source": [
        "704. Binary Search"
      ],
      "metadata": {
        "id": "arXc1RAvt1bg"
      }
    },
    {
      "cell_type": "code",
      "source": [
        "\"\"\"\n",
        "704. Binary Search\n",
        "Easy\n",
        "\n",
        "6160\n",
        "\n",
        "136\n",
        "\n",
        "Add to List\n",
        "\n",
        "Share\n",
        "Given an array of integers nums which is sorted in ascending order, and an integer target, write a function to search target in nums. If target exists, then return its index. Otherwise, return -1.\n",
        "\n",
        "You must write an algorithm with O(log n) runtime complexity.\n",
        "\n",
        " \n",
        "\n",
        "Example 1:\n",
        "\n",
        "Input: nums = [-1,0,3,5,9,12], target = 9\n",
        "Output: 4\n",
        "Explanation: 9 exists in nums and its index is 4\n",
        "Example 2:\n",
        "\n",
        "Input: nums = [-1,0,3,5,9,12], target = 2\n",
        "Output: -1\n",
        "Explanation: 2 does not exist in nums so return -1\n",
        " \n",
        "\n",
        "Constraints:\n",
        "\n",
        "1 <= nums.length <= 104\n",
        "-104 < nums[i], target < 104\n",
        "All the integers in nums are unique.\n",
        "nums is sorted in ascending order.\n",
        "\"\"\""
      ],
      "metadata": {
        "id": "9934aCVBYCJ6"
      },
      "execution_count": null,
      "outputs": []
    },
    {
      "cell_type": "code",
      "source": [
        "\"\"\"\n",
        "Runtime: 211 ms, faster than 83.47% of Python online submissions for Binary Search.\n",
        "Memory Usage: 14.4 MB, less than 94.78% of Python online submissions for Binary Search.\n",
        "\"\"\"\n",
        "\n",
        "class Solution(object):\n",
        "    def search(self, nums, target):\n",
        "        try:\n",
        "            return nums.index(target)\n",
        "        except:\n",
        "            return -1"
      ],
      "metadata": {
        "id": "N9y8SGfrYOfh"
      },
      "execution_count": null,
      "outputs": []
    },
    {
      "cell_type": "markdown",
      "source": [
        "278. First Bad Version"
      ],
      "metadata": {
        "id": "WBXWmDYzYWwg"
      }
    },
    {
      "cell_type": "code",
      "source": [
        "\"\"\"\n",
        "278. First Bad Version\n",
        "Easy\n",
        "\n",
        "5787\n",
        "\n",
        "2176\n",
        "\n",
        "Add to List\n",
        "\n",
        "Share\n",
        "You are a product manager and currently leading a team to develop a new product. Unfortunately, the latest version of your product fails the quality check. Since each version is developed based on the previous version, all the versions after a bad version are also bad.\n",
        "\n",
        "Suppose you have n versions [1, 2, ..., n] and you want to find out the first bad one, which causes all the following ones to be bad.\n",
        "\n",
        "You are given an API bool isBadVersion(version) which returns whether version is bad. Implement a function to find the first bad version. You should minimize the number of calls to the API.\n",
        "\n",
        " \n",
        "\n",
        "Example 1:\n",
        "\n",
        "Input: n = 5, bad = 4\n",
        "Output: 4\n",
        "Explanation:\n",
        "call isBadVersion(3) -> false\n",
        "call isBadVersion(5) -> true\n",
        "call isBadVersion(4) -> true\n",
        "Then 4 is the first bad version.\n",
        "Example 2:\n",
        "\n",
        "Input: n = 1, bad = 1\n",
        "Output: 1\n",
        " \n",
        "\n",
        "Constraints:\n",
        "\n",
        "1 <= bad <= n <= 231 - 1\n",
        "\"\"\""
      ],
      "metadata": {
        "id": "EQy5N30dYck1"
      },
      "execution_count": null,
      "outputs": []
    },
    {
      "cell_type": "code",
      "source": [
        "\"\"\"\n",
        "Runtime: 28 ms, faster than 38.11% of Python online submissions for First Bad Version.\n",
        "Memory Usage: 13.3 MB, less than 83.82% of Python online submissions for First Bad Version.\n",
        "\"\"\"\n",
        "\n",
        "\"\"\"\n",
        "The isBadVersion API is already defined for you.\n",
        "@param version, an integer\n",
        "@return a bool\n",
        "def isBadVersion(version):   # this function is pre-provided, it means its executable in background\n",
        "\"\"\"\n",
        "\n",
        "def isBadVersion(version):\n",
        "  return \n",
        "# above two lines are dummy, its purpose is to only avoid error highlights in below code\n",
        "\n",
        "\n",
        "\n",
        "class Solution(object):\n",
        "\n",
        "    def firstBadVersion(self, n):\n",
        "        if n == 1:\n",
        "            return 1\n",
        "        s = 1\n",
        "        e = n\n",
        "        mid = (s+e)//2\n",
        "        \n",
        "        a = isBadVersion(mid-1)\n",
        "        b = isBadVersion(mid)\n",
        "        c = isBadVersion(mid+1)\n",
        "        \n",
        "        \n",
        "        while a == b == c:\n",
        "            if b == True:\n",
        "                e = mid\n",
        "                mid = (s+e)//2\n",
        "            else:\n",
        "                s = mid\n",
        "                mid = (s+e)//2\n",
        "            \n",
        "            a = isBadVersion(mid-1)\n",
        "            b = isBadVersion(mid)\n",
        "            c = isBadVersion(mid+1)\n",
        "\n",
        "        else:\n",
        "            if a == b:\n",
        "                return mid+1\n",
        "            else:\n",
        "                return mid\n",
        "            "
      ],
      "metadata": {
        "id": "L_kGbYSBYfJI"
      },
      "execution_count": null,
      "outputs": []
    },
    {
      "cell_type": "markdown",
      "source": [
        "##Day 8: Binary Search Tree"
      ],
      "metadata": {
        "id": "gdHYgUVp9HpK"
      }
    },
    {
      "cell_type": "markdown",
      "source": [
        "98. Validate Binary Search Tree"
      ],
      "metadata": {
        "id": "JmSiURLd9HWQ"
      }
    },
    {
      "cell_type": "code",
      "source": [
        "\"\"\"\n",
        "98. Validate Binary Search Tree\n",
        "Medium\n",
        "\n",
        "12087\n",
        "\n",
        "989\n",
        "\n",
        "Add to List\n",
        "\n",
        "Share\n",
        "Given the root of a binary tree, determine if it is a valid binary search tree (BST).\n",
        "\n",
        "A valid BST is defined as follows:\n",
        "\n",
        "The left subtree of a node contains only nodes with keys less than the node's key.\n",
        "The right subtree of a node contains only nodes with keys greater than the node's key.\n",
        "Both the left and right subtrees must also be binary search trees.\n",
        " \n",
        "\n",
        "Example 1:\n",
        "\n",
        "\n",
        "Input: root = [2,1,3]\n",
        "Output: true\n",
        "Example 2:\n",
        "\n",
        "\n",
        "Input: root = [5,1,4,null,null,3,6]\n",
        "Output: false\n",
        "Explanation: The root node's value is 5 but its right child's value is 4.\n",
        " \n",
        "\n",
        "Constraints:\n",
        "\n",
        "The number of nodes in the tree is in the range [1, 104].\n",
        "-231 <= Node.val <= 231 - 1\n",
        "\"\"\""
      ],
      "metadata": {
        "id": "fwmRYDrb9maB"
      },
      "execution_count": null,
      "outputs": []
    },
    {
      "cell_type": "code",
      "source": [
        "# Important\n",
        "# need to revise\n",
        "# https://www.youtube.com/watch?v=9btwHI_84DM\n",
        "# refer above link for detailed explanation, it also provides better solution\n",
        "\n",
        "\"\"\"\n",
        "Runtime: 59 ms, faster than 31.05% of Python online submissions for Validate Binary Search Tree.\n",
        "Memory Usage: 17.9 MB, less than 67.01% of Python online submissions for Validate Binary Search Tree.\n",
        "\"\"\"\n",
        "\n",
        "# Definition for a binary tree node.\n",
        "# class TreeNode(object):\n",
        "#     def __init__(self, val=0, left=None, right=None):\n",
        "#         self.val = val\n",
        "#         self.left = left\n",
        "#         self.right = right\n",
        "class Solution(object):\n",
        "    def isValidBST(self, root):\n",
        "        \n",
        "        def dfs(lower,upper,node):\n",
        "            if not node:\n",
        "                return True\n",
        "            elif node.val <= lower or node.val >= upper:\n",
        "                return False\n",
        "            else:\n",
        "                return dfs(lower,node.val,node.left) and dfs(node.val, upper,node.right)\n",
        "            \n",
        "        return dfs(float('-inf'), float('inf'), root)\n",
        "        "
      ],
      "metadata": {
        "id": "z36tMskmFi5M"
      },
      "execution_count": null,
      "outputs": []
    },
    {
      "cell_type": "markdown",
      "source": [
        "235. Lowest Common Ancestor of a Binary Search Tree"
      ],
      "metadata": {
        "id": "iWSlWBEPL_lC"
      }
    },
    {
      "cell_type": "code",
      "source": [
        "\"\"\"\n",
        "235. Lowest Common Ancestor of a Binary Search Tree\n",
        "Easy\n",
        "\n",
        "7534\n",
        "\n",
        "228\n",
        "\n",
        "Add to List\n",
        "\n",
        "Share\n",
        "Given a binary search tree (BST), find the lowest common ancestor (LCA) node of two given nodes in the BST.\n",
        "\n",
        "According to the definition of LCA on Wikipedia: “The lowest common ancestor is defined between two nodes p and q as the lowest node in T that has both p and q as descendants (where we allow a node to be a descendant of itself).”\n",
        "\n",
        " \n",
        "\n",
        "Example 1:\n",
        "\n",
        "\n",
        "Input: root = [6,2,8,0,4,7,9,null,null,3,5], p = 2, q = 8\n",
        "Output: 6\n",
        "Explanation: The LCA of nodes 2 and 8 is 6.\n",
        "Example 2:\n",
        "\n",
        "\n",
        "Input: root = [6,2,8,0,4,7,9,null,null,3,5], p = 2, q = 4\n",
        "Output: 2\n",
        "Explanation: The LCA of nodes 2 and 4 is 2, since a node can be a descendant of itself according to the LCA definition.\n",
        "Example 3:\n",
        "\n",
        "Input: root = [2,1], p = 2, q = 1\n",
        "Output: 2\n",
        " \n",
        "\n",
        "Constraints:\n",
        "\n",
        "The number of nodes in the tree is in the range [2, 105].\n",
        "-109 <= Node.val <= 109\n",
        "All Node.val are unique.\n",
        "p != q\n",
        "p and q will exist in the BST.\n",
        "\"\"\""
      ],
      "metadata": {
        "id": "z8onARXBGDUq"
      },
      "execution_count": null,
      "outputs": []
    },
    {
      "cell_type": "code",
      "source": [
        "# needs revision\n",
        "# https://www.youtube.com/watch?v=gs2LMfuOR9k\n",
        "# above is neetcode link, a good resource\n",
        "\n",
        "\"\"\"\n",
        "Runtime: 97 ms, faster than 50.35% of Python online submissions for Lowest Common Ancestor of a Binary Search Tree.\n",
        "Memory Usage: 21.5 MB, less than 51.92% of Python online submissions for Lowest Common Ancestor of a Binary Search Tree.\n",
        "\"\"\"\n",
        "\n",
        "# Definition for a binary tree node.\n",
        "# class TreeNode(object):\n",
        "#     def __init__(self, x):\n",
        "#         self.val = x\n",
        "#         self.left = None\n",
        "#         self.right = None\n",
        "\n",
        "class Solution(object):\n",
        "    def lowestCommonAncestor(self, root, p, q):\n",
        "        curr = root\n",
        "        \n",
        "        while curr:\n",
        "            if p.val > curr.val and q.val > curr.val:\n",
        "                curr = curr.right\n",
        "            elif p.val < curr.val and q.val < curr.val:\n",
        "                curr = curr.left\n",
        "            else:\n",
        "                return curr"
      ],
      "metadata": {
        "id": "pAqg-0pyL-dP"
      },
      "execution_count": null,
      "outputs": []
    },
    {
      "cell_type": "markdown",
      "source": [
        "##Day 9: Graph/BFS/DFS"
      ],
      "metadata": {
        "id": "fRmx8OHJ1Rbu"
      }
    },
    {
      "cell_type": "markdown",
      "source": [
        "733. Flood Fill"
      ],
      "metadata": {
        "id": "MVQg5gjn1df8"
      }
    },
    {
      "cell_type": "code",
      "source": [
        "\"\"\"\n",
        "733. Flood Fill\n",
        "Easy\n",
        "\n",
        "5195\n",
        "\n",
        "509\n",
        "\n",
        "Add to List\n",
        "\n",
        "Share\n",
        "An image is represented by an m x n integer grid image where image[i][j] represents the pixel value of the image.\n",
        "\n",
        "You are also given three integers sr, sc, and color. You should perform a flood fill on the image starting from the pixel image[sr][sc].\n",
        "\n",
        "To perform a flood fill, consider the starting pixel, plus any pixels connected 4-directionally to the starting pixel of the same color as the starting pixel, plus any pixels connected 4-directionally to those pixels (also with the same color), and so on. Replace the color of all of the aforementioned pixels with color.\n",
        "\n",
        "Return the modified image after performing the flood fill.\n",
        "\n",
        " \n",
        "\n",
        "Example 1:\n",
        "\n",
        "\n",
        "Input: image = [[1,1,1],[1,1,0],[1,0,1]], sr = 1, sc = 1, color = 2\n",
        "Output: [[2,2,2],[2,2,0],[2,0,1]]\n",
        "Explanation: From the center of the image with position (sr, sc) = (1, 1) (i.e., the red pixel), all pixels connected by a path of the same color as the starting pixel (i.e., the blue pixels) are colored with the new color.\n",
        "Note the bottom corner is not colored 2, because it is not 4-directionally connected to the starting pixel.\n",
        "Example 2:\n",
        "\n",
        "Input: image = [[0,0,0],[0,0,0]], sr = 0, sc = 0, color = 0\n",
        "Output: [[0,0,0],[0,0,0]]\n",
        "Explanation: The starting pixel is already colored 0, so no changes are made to the image.\n",
        " \n",
        "\n",
        "Constraints:\n",
        "\n",
        "m == image.length\n",
        "n == image[i].length\n",
        "1 <= m, n <= 50\n",
        "0 <= image[i][j], color < 216\n",
        "0 <= sr < m\n",
        "0 <= sc < n\n",
        "\"\"\""
      ],
      "metadata": {
        "id": "CT07E6U-1YUv"
      },
      "execution_count": null,
      "outputs": []
    },
    {
      "cell_type": "code",
      "source": [
        "#needs revision\n",
        "# https://www.youtube.com/watch?v=mIp647XVRyc\n",
        "\n",
        "\"\"\"\n",
        "Runtime: 139 ms, faster than 27.44% of Python3 online submissions for Flood Fill.\n",
        "Memory Usage: 14.1 MB, less than 65.83% of Python3 online submissions for Flood Fill.\n",
        "\"\"\"\n",
        "\n",
        "class Solution:\n",
        "    def floodFill(self, image: List[List[int]], sr: int, sc: int, color: int) -> List[List[int]]:\n",
        "        start_pxl = image[sr][sc]\n",
        "        self.dfs(image,sr,sc,color,start_pxl)\n",
        "        return image\n",
        "    def dfs(self,image,sr,sc,color,start_pxl):\n",
        "        if sr < 0 or sr > len(image)-1 or sc < 0 or sc > len(image[0])-1 or image[sr][sc] == color or image[sr][sc] != start_pxl:\n",
        "            return\n",
        "        \n",
        "        image[sr][sc] = color\n",
        "        self.dfs(image,sr+1,sc,color,start_pxl)\n",
        "        self.dfs(image,sr-1,sc,color,start_pxl)\n",
        "        self.dfs(image,sr,sc+1,color,start_pxl)\n",
        "        self.dfs(image,sr,sc-1,color,start_pxl)"
      ],
      "metadata": {
        "id": "tYNQL6zB1iRS"
      },
      "execution_count": null,
      "outputs": []
    },
    {
      "cell_type": "markdown",
      "source": [
        "200. Number of Islands"
      ],
      "metadata": {
        "id": "WZVXth4i7-bR"
      }
    },
    {
      "cell_type": "code",
      "source": [
        "\"\"\"\n",
        "200. Number of Islands\n",
        "Medium\n",
        "\n",
        "15828\n",
        "\n",
        "369\n",
        "\n",
        "Add to List\n",
        "\n",
        "Share\n",
        "Given an m x n 2D binary grid grid which represents a map of '1's (land) and '0's (water), return the number of islands.\n",
        "\n",
        "An island is surrounded by water and is formed by connecting adjacent lands horizontally or vertically. You may assume all four edges of the grid are all surrounded by water.\n",
        "\n",
        " \n",
        "\n",
        "Example 1:\n",
        "\n",
        "Input: grid = [\n",
        "  [\"1\",\"1\",\"1\",\"1\",\"0\"],\n",
        "  [\"1\",\"1\",\"0\",\"1\",\"0\"],\n",
        "  [\"1\",\"1\",\"0\",\"0\",\"0\"],\n",
        "  [\"0\",\"0\",\"0\",\"0\",\"0\"]\n",
        "]\n",
        "Output: 1\n",
        "Example 2:\n",
        "\n",
        "Input: grid = [\n",
        "  [\"1\",\"1\",\"0\",\"0\",\"0\"],\n",
        "  [\"1\",\"1\",\"0\",\"0\",\"0\"],\n",
        "  [\"0\",\"0\",\"1\",\"0\",\"0\"],\n",
        "  [\"0\",\"0\",\"0\",\"1\",\"1\"]\n",
        "]\n",
        "Output: 3\n",
        " \n",
        "\n",
        "Constraints:\n",
        "\n",
        "m == grid.length\n",
        "n == grid[i].length\n",
        "1 <= m, n <= 300\n",
        "grid[i][j] is '0' or '1'.\n",
        "\"\"\""
      ],
      "metadata": {
        "id": "x7yw5uBY8c-9"
      },
      "execution_count": null,
      "outputs": []
    },
    {
      "cell_type": "code",
      "source": [
        "#needs revision and improvement\n",
        "# https://www.youtube.com/watch?v=pV2kpPD66nE\n",
        "\n",
        "\"\"\"\n",
        "Runtime: 724 ms, faster than 9.67% of Python3 online submissions for Number of Islands.\n",
        "Memory Usage: 21.9 MB, less than 20.23% of Python3 online submissions for Number of Islands.\n",
        "\"\"\"\n",
        "\n",
        "class Solution:\n",
        "    def numIslands(self, grid: List[List[str]]) -> int:\n",
        "        if not grid:\n",
        "            return 0\n",
        "        rows,cols = len(grid), len(grid[0])\n",
        "        visit = set()\n",
        "        islands = 0\n",
        "        \n",
        "        def bfs(r,c):\n",
        "            q = collections.deque()\n",
        "            visit.add((r,c))\n",
        "            q.append((r,c))\n",
        "            \n",
        "            while q:\n",
        "                row,col = q.pop()\n",
        "                directions = [[1,0],[-1,0],[0,1],[0,-1]]\n",
        "                \n",
        "                for dr,dc in directions:\n",
        "                    r,c = row+dr, col+dc\n",
        "                    if (r in range(rows)and\n",
        "                       c in range(cols)and\n",
        "                       grid[r][c]==\"1\"and\n",
        "                       (r,c) not in visit):\n",
        "                        q.append((r,c))\n",
        "                        visit.add((r,c))\n",
        "    \n",
        "        for r in range(rows):\n",
        "            for c in range(cols):\n",
        "                if grid[r][c] == \"1\" and (r,c) not in visit:\n",
        "                    bfs(r,c)\n",
        "                    islands += 1\n",
        "        return islands "
      ],
      "metadata": {
        "id": "3dmQsOIH8iRa"
      },
      "execution_count": null,
      "outputs": []
    },
    {
      "cell_type": "markdown",
      "source": [
        "##Day 10: Dynamic Programming"
      ],
      "metadata": {
        "id": "rv30oCXeEHjc"
      }
    },
    {
      "cell_type": "markdown",
      "source": [
        "509. Fibonacci Number"
      ],
      "metadata": {
        "id": "M4oDBqW2ELbR"
      }
    },
    {
      "cell_type": "code",
      "source": [
        "\"\"\"\n",
        "509. Fibonacci Number\n",
        "Easy\n",
        "\n",
        "4893\n",
        "\n",
        "287\n",
        "\n",
        "Add to List\n",
        "\n",
        "Share\n",
        "The Fibonacci numbers, commonly denoted F(n) form a sequence, called the Fibonacci sequence, such that each number is the sum of the two preceding ones, starting from 0 and 1. That is,\n",
        "\n",
        "F(0) = 0, F(1) = 1\n",
        "F(n) = F(n - 1) + F(n - 2), for n > 1.\n",
        "Given n, calculate F(n).\n",
        "\n",
        " \n",
        "\n",
        "Example 1:\n",
        "\n",
        "Input: n = 2\n",
        "Output: 1\n",
        "Explanation: F(2) = F(1) + F(0) = 1 + 0 = 1.\n",
        "Example 2:\n",
        "\n",
        "Input: n = 3\n",
        "Output: 2\n",
        "Explanation: F(3) = F(2) + F(1) = 1 + 1 = 2.\n",
        "Example 3:\n",
        "\n",
        "Input: n = 4\n",
        "Output: 3\n",
        "Explanation: F(4) = F(3) + F(2) = 2 + 1 = 3.\n",
        " \n",
        "\n",
        "Constraints:\n",
        "\n",
        "0 <= n <= 30\n",
        "\"\"\""
      ],
      "metadata": {
        "id": "nVlLbBKIEJYx"
      },
      "execution_count": null,
      "outputs": []
    },
    {
      "cell_type": "code",
      "source": [
        "\"\"\"\n",
        "Runtime: 40 ms, faster than 37.37% of Python online submissions for Fibonacci Number.\n",
        "Memory Usage: 13.3 MB, less than 85.01% of Python online submissions for Fibonacci Number.\n",
        "\"\"\"\n",
        "\n",
        "def fib(n):\n",
        "    if n == 1 or n == 0:\n",
        "        return n\n",
        "    l = [0,1]\n",
        "    for i in range(n-1):\n",
        "        l.append(l[i]+l[i+1])\n",
        "        \n",
        "    return l[-1]\n",
        "\n",
        "fib(4)"
      ],
      "metadata": {
        "colab": {
          "base_uri": "https://localhost:8080/"
        },
        "id": "_dTqGxvjEMwG",
        "outputId": "c3a91e65-d59a-4e7a-f65b-555ce7612c4d"
      },
      "execution_count": 1,
      "outputs": [
        {
          "output_type": "execute_result",
          "data": {
            "text/plain": [
              "3"
            ]
          },
          "metadata": {},
          "execution_count": 1
        }
      ]
    },
    {
      "cell_type": "markdown",
      "source": [
        "70. Climbing Stairs"
      ],
      "metadata": {
        "id": "38vEOEX9Esy5"
      }
    },
    {
      "cell_type": "code",
      "source": [
        "\"\"\"\n",
        "70. Climbing Stairs\n",
        "Easy\n",
        "\n",
        "13899\n",
        "\n",
        "409\n",
        "\n",
        "Add to List\n",
        "\n",
        "Share\n",
        "You are climbing a staircase. It takes n steps to reach the top.\n",
        "\n",
        "Each time you can either climb 1 or 2 steps. In how many distinct ways can you climb to the top?\n",
        "\n",
        " \n",
        "\n",
        "Example 1:\n",
        "\n",
        "Input: n = 2\n",
        "Output: 2\n",
        "Explanation: There are two ways to climb to the top.\n",
        "1. 1 step + 1 step\n",
        "2. 2 steps\n",
        "Example 2:\n",
        "\n",
        "Input: n = 3\n",
        "Output: 3\n",
        "Explanation: There are three ways to climb to the top.\n",
        "1. 1 step + 1 step + 1 step\n",
        "2. 1 step + 2 steps\n",
        "3. 2 steps + 1 step\n",
        " \n",
        "\n",
        "Constraints:\n",
        "\n",
        "1 <= n <= 45\n",
        "\"\"\""
      ],
      "metadata": {
        "id": "iyF9N8_TEgrY"
      },
      "execution_count": null,
      "outputs": []
    },
    {
      "cell_type": "code",
      "source": [
        "\"\"\"\n",
        "Runtime: 11 ms, faster than 98.01% of Python online submissions for Climbing Stairs.\n",
        "Memory Usage: 13.4 MB, less than 36.20% of Python online submissions for Climbing Stairs.\n",
        "\"\"\"\n",
        "\n",
        "\n",
        "def climbStairs(n):\n",
        "    if n == 1 or n == 0:\n",
        "        return n\n",
        "    l = [1,1]\n",
        "    for i in range(n-1):\n",
        "        l.append(l[i]+l[i+1])\n",
        "\n",
        "    return l[-1]\n",
        "\n",
        "climbStairs(10)"
      ],
      "metadata": {
        "colab": {
          "base_uri": "https://localhost:8080/"
        },
        "id": "A_8L5toNE5dd",
        "outputId": "fbc42f56-7e54-4f57-9af3-2b2629c0df9a"
      },
      "execution_count": 3,
      "outputs": [
        {
          "output_type": "execute_result",
          "data": {
            "text/plain": [
              "89"
            ]
          },
          "metadata": {},
          "execution_count": 3
        }
      ]
    }
  ]
}