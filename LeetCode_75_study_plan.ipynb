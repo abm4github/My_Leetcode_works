{
  "nbformat": 4,
  "nbformat_minor": 0,
  "metadata": {
    "colab": {
      "name": "LeetCode_75_study_plan.ipynb",
      "provenance": [],
      "authorship_tag": "ABX9TyNTg+35JeupqX/vtFTv/DsJ",
      "include_colab_link": true
    },
    "kernelspec": {
      "name": "python3",
      "display_name": "Python 3"
    },
    "language_info": {
      "name": "python"
    }
  },
  "cells": [
    {
      "cell_type": "markdown",
      "metadata": {
        "id": "view-in-github",
        "colab_type": "text"
      },
      "source": [
        "<a href=\"https://colab.research.google.com/github/abm4github/My_Leetcode_works/blob/main/LeetCode_75_study_plan.ipynb\" target=\"_parent\"><img src=\"https://colab.research.google.com/assets/colab-badge.svg\" alt=\"Open In Colab\"/></a>"
      ]
    },
    {
      "cell_type": "markdown",
      "source": [
        "#LEVEL 1"
      ],
      "metadata": {
        "id": "QcRJqScnoOez"
      }
    },
    {
      "cell_type": "markdown",
      "source": [
        "##Day 1: Prefix Sum"
      ],
      "metadata": {
        "id": "k4PwCbR_oZX-"
      }
    },
    {
      "cell_type": "markdown",
      "source": [
        "1480. Running Sum of 1d Array"
      ],
      "metadata": {
        "id": "HZuhLAZhom69"
      }
    },
    {
      "cell_type": "code",
      "source": [
        "\"\"\"\n",
        "1480. Running Sum of 1d Array\n",
        "Easy\n",
        "\n",
        "4262\n",
        "\n",
        "240\n",
        "\n",
        "Add to List\n",
        "\n",
        "Share\n",
        "Given an array nums. We define a running sum of an array as runningSum[i] = sum(nums[0]…nums[i]).\n",
        "\n",
        "Return the running sum of nums.\n",
        "\n",
        " \n",
        "\n",
        "Example 1:\n",
        "\n",
        "Input: nums = [1,2,3,4]\n",
        "Output: [1,3,6,10]\n",
        "Explanation: Running sum is obtained as follows: [1, 1+2, 1+2+3, 1+2+3+4].\n",
        "Example 2:\n",
        "\n",
        "Input: nums = [1,1,1,1,1]\n",
        "Output: [1,2,3,4,5]\n",
        "Explanation: Running sum is obtained as follows: [1, 1+1, 1+1+1, 1+1+1+1, 1+1+1+1+1].\n",
        "Example 3:\n",
        "\n",
        "Input: nums = [3,1,2,10,1]\n",
        "Output: [3,4,6,16,17]\n",
        " \n",
        "\n",
        "Constraints:\n",
        "\n",
        "1 <= nums.length <= 1000\n",
        "-10^6 <= nums[i] <= 10^6\n",
        "\"\"\""
      ],
      "metadata": {
        "id": "e5rw2PvNomCF"
      },
      "execution_count": null,
      "outputs": []
    },
    {
      "cell_type": "code",
      "execution_count": 3,
      "metadata": {
        "id": "u9Dn_9grnz6q"
      },
      "outputs": [],
      "source": [
        "\"\"\"\n",
        "Runtime: 52 ms, faster than 19.98% of Python online submissions for Running Sum of 1d Array.\n",
        "Memory Usage: 13.8 MB, less than 12.41% of Python online submissions for Running Sum of 1d Array.\n",
        "\"\"\"\n",
        "\n",
        "def runningSum(nums):\n",
        "  Out = [nums[0]]\n",
        "  for i in range(1,len(nums)):\n",
        "    Out.append(Out[i-1] + nums[i])\n",
        "  return Out"
      ]
    },
    {
      "cell_type": "code",
      "source": [
        "nums = [1,2,3,4]\n",
        "runningSum(nums)"
      ],
      "metadata": {
        "colab": {
          "base_uri": "https://localhost:8080/"
        },
        "id": "hnSE9OuPoL-N",
        "outputId": "ba398959-7d28-4853-c76d-e506f7533f8c"
      },
      "execution_count": 4,
      "outputs": [
        {
          "output_type": "execute_result",
          "data": {
            "text/plain": [
              "[1, 3, 6, 10]"
            ]
          },
          "metadata": {},
          "execution_count": 4
        }
      ]
    },
    {
      "cell_type": "markdown",
      "source": [
        "724. Find Pivot Index"
      ],
      "metadata": {
        "id": "oaoSVAVZrVXO"
      }
    },
    {
      "cell_type": "code",
      "source": [
        "\"\"\"\n",
        "724. Find Pivot Index\n",
        "Easy\n",
        "\n",
        "4319\n",
        "\n",
        "475\n",
        "\n",
        "Add to List\n",
        "\n",
        "Share\n",
        "Given an array of integers nums, calculate the pivot index of this array.\n",
        "\n",
        "The pivot index is the index where the sum of all the numbers strictly to the left of the index is equal to the sum of all the numbers strictly to the index's right.\n",
        "\n",
        "If the index is on the left edge of the array, then the left sum is 0 because there are no elements to the left. This also applies to the right edge of the array.\n",
        "\n",
        "Return the leftmost pivot index. If no such index exists, return -1.\n",
        "\n",
        " \n",
        "\n",
        "Example 1:\n",
        "\n",
        "Input: nums = [1,7,3,6,5,6]\n",
        "Output: 3\n",
        "Explanation:\n",
        "The pivot index is 3.\n",
        "Left sum = nums[0] + nums[1] + nums[2] = 1 + 7 + 3 = 11\n",
        "Right sum = nums[4] + nums[5] = 5 + 6 = 11\n",
        "Example 2:\n",
        "\n",
        "Input: nums = [1,2,3]\n",
        "Output: -1\n",
        "Explanation:\n",
        "There is no index that satisfies the conditions in the problem statement.\n",
        "Example 3:\n",
        "\n",
        "Input: nums = [2,1,-1]\n",
        "Output: 0\n",
        "Explanation:\n",
        "The pivot index is 0.\n",
        "Left sum = 0 (no elements to the left of index 0)\n",
        "Right sum = nums[1] + nums[2] = 1 + -1 = 0\n",
        " \n",
        "\n",
        "Constraints:\n",
        "\n",
        "1 <= nums.length <= 104\n",
        "-1000 <= nums[i] <= 1000\n",
        " \n",
        "\n",
        "Note: This question is the same as 1991: https://leetcode.com/problems/find-the-middle-index-in-array/\n",
        "\"\"\""
      ],
      "metadata": {
        "id": "WYC0FVl5rUtt"
      },
      "execution_count": null,
      "outputs": []
    },
    {
      "cell_type": "code",
      "source": [
        "\"\"\"\n",
        "Runtime: 5499 ms, faster than 10.72% of Python online submissions for Find Pivot Index.\n",
        "Memory Usage: 14.6 MB, less than 41.46% of Python online submissions for Find Pivot Index.\n",
        "\"\"\"\n",
        "def pivotIndex(nums):\n",
        "  if sum(nums[1:]) == 0:\n",
        "    return 0\n",
        "  for i in range(len(nums)):\n",
        "    left = nums[:i]\n",
        "    right = nums[i+1:]\n",
        "    if sum(left) == sum(right) or (sum(left) == 0 and right == []):\n",
        "      return i\n",
        "  return -1"
      ],
      "metadata": {
        "id": "f4GLXVJb0b8y"
      },
      "execution_count": 18,
      "outputs": []
    },
    {
      "cell_type": "code",
      "source": [
        "nums = [-1,-1,0,1,1,0]\n",
        "pivotIndex(nums)"
      ],
      "metadata": {
        "colab": {
          "base_uri": "https://localhost:8080/"
        },
        "id": "iEvO6CgM4ssJ",
        "outputId": "3f7e5015-f77b-4592-8739-ec7a5e06d482"
      },
      "execution_count": 19,
      "outputs": [
        {
          "output_type": "execute_result",
          "data": {
            "text/plain": [
              "5"
            ]
          },
          "metadata": {},
          "execution_count": 19
        }
      ]
    },
    {
      "cell_type": "code",
      "source": [
        "nums = [1,2,3]\n",
        "pivotIndex(nums)"
      ],
      "metadata": {
        "colab": {
          "base_uri": "https://localhost:8080/"
        },
        "id": "ofJJnVWY4wlC",
        "outputId": "8d0e960c-f30a-4dc6-f4d3-7a0f83bded87"
      },
      "execution_count": 20,
      "outputs": [
        {
          "output_type": "execute_result",
          "data": {
            "text/plain": [
              "-1"
            ]
          },
          "metadata": {},
          "execution_count": 20
        }
      ]
    },
    {
      "cell_type": "code",
      "source": [
        "nums = [-1,-1,-1,-1,-1,0]\n",
        "pivotIndex(nums)"
      ],
      "metadata": {
        "colab": {
          "base_uri": "https://localhost:8080/"
        },
        "id": "Z_3Umh3iXjEL",
        "outputId": "1b31e93c-e855-4e07-85d4-a0d0b12c3b2d"
      },
      "execution_count": 21,
      "outputs": [
        {
          "output_type": "execute_result",
          "data": {
            "text/plain": [
              "2"
            ]
          },
          "metadata": {},
          "execution_count": 21
        }
      ]
    },
    {
      "cell_type": "code",
      "source": [
        "\"\"\"\n",
        "Runtime: 2411 ms, faster than 25.59% of Python online submissions for Find Pivot Index.\n",
        "Memory Usage: 15 MB, less than 5.59% of Python online submissions for Find Pivot Index.\n",
        "\"\"\"\n",
        "def pivotIndex(nums):\n",
        "  if sum(nums[1:]) == 0:\n",
        "    return 0\n",
        "\n",
        "  left = 0\n",
        "  for i in range(len(nums)): \n",
        "    right = nums[i+1:]\n",
        "    if left == sum(right) or (left == 0 and right == []):\n",
        "      return i\n",
        "    left += nums[i]\n",
        "  return -1"
      ],
      "metadata": {
        "id": "HmlUQ8YFYNfK"
      },
      "execution_count": 22,
      "outputs": []
    },
    {
      "cell_type": "code",
      "source": [
        "nums = [-1,-1,0,1,1,0]\n",
        "pivotIndex(nums)"
      ],
      "metadata": {
        "colab": {
          "base_uri": "https://localhost:8080/"
        },
        "id": "sBHtg1_XWKgp",
        "outputId": "695ee5e7-d3f1-4048-c30f-4aa26d7f82f2"
      },
      "execution_count": 23,
      "outputs": [
        {
          "output_type": "execute_result",
          "data": {
            "text/plain": [
              "5"
            ]
          },
          "metadata": {},
          "execution_count": 23
        }
      ]
    },
    {
      "cell_type": "code",
      "source": [
        "nums = [1,2,3]\n",
        "pivotIndex(nums)"
      ],
      "metadata": {
        "colab": {
          "base_uri": "https://localhost:8080/"
        },
        "id": "XWIfKyi8WK8b",
        "outputId": "82bcac21-c77e-4109-c3db-98abedcec046"
      },
      "execution_count": 24,
      "outputs": [
        {
          "output_type": "execute_result",
          "data": {
            "text/plain": [
              "-1"
            ]
          },
          "metadata": {},
          "execution_count": 24
        }
      ]
    },
    {
      "cell_type": "code",
      "source": [
        "nums = [-1,-1,-1,-1,-1,0]\n",
        "pivotIndex(nums)"
      ],
      "metadata": {
        "colab": {
          "base_uri": "https://localhost:8080/"
        },
        "id": "8e7gDXwIWNUK",
        "outputId": "30d48ba4-192c-4ce2-e421-14637a64c6e3"
      },
      "execution_count": 25,
      "outputs": [
        {
          "output_type": "execute_result",
          "data": {
            "text/plain": [
              "2"
            ]
          },
          "metadata": {},
          "execution_count": 25
        }
      ]
    },
    {
      "cell_type": "code",
      "source": [
        "\"\"\"\n",
        "Runtime: 2222 ms, faster than 25.82% of Python online submissions for Find Pivot Index.\n",
        "Memory Usage: 14.7 MB, less than 21.21% of Python online submissions for Find Pivot Index.\n",
        "\"\"\"\n",
        "def pivotIndex(nums):\n",
        "  left = 0\n",
        "  for i in range(len(nums)): \n",
        "    right = nums[i+1:]\n",
        "    if left == sum(right) or (left == 0 and right == []) or (left == 0 and sum(right) == 0):\n",
        "      return i\n",
        "    left += nums[i]\n",
        "  return -1\n",
        "\n",
        "\"\"\"\n",
        "if we remove \"or (left == 0 and right == [])\" from above, conditions in if statement:\n",
        "Runtime: 3518 ms, faster than 20.82% of Python online submissions for Find Pivot Index.\n",
        "Memory Usage: 14.6 MB, less than 21.21% of Python online submissions for Find Pivot Index.\n",
        "\"\"\""
      ],
      "metadata": {
        "id": "KkNIosNvXNxE"
      },
      "execution_count": 28,
      "outputs": []
    },
    {
      "cell_type": "code",
      "source": [
        "nums = [-1,-1,0,1,1,0]\n",
        "pivotIndex(nums)"
      ],
      "metadata": {
        "colab": {
          "base_uri": "https://localhost:8080/"
        },
        "id": "NhuCZAGcXWTa",
        "outputId": "cb9d5f66-87a1-476e-ef92-762bbb1f8a2f"
      },
      "execution_count": 29,
      "outputs": [
        {
          "output_type": "execute_result",
          "data": {
            "text/plain": [
              "5"
            ]
          },
          "metadata": {},
          "execution_count": 29
        }
      ]
    },
    {
      "cell_type": "code",
      "source": [
        "nums = [1,2,3]\n",
        "pivotIndex(nums)"
      ],
      "metadata": {
        "colab": {
          "base_uri": "https://localhost:8080/"
        },
        "id": "h44iXoajXXDm",
        "outputId": "38ae3b98-4ab2-41ee-a67a-cbffc3ff7b0f"
      },
      "execution_count": 30,
      "outputs": [
        {
          "output_type": "execute_result",
          "data": {
            "text/plain": [
              "-1"
            ]
          },
          "metadata": {},
          "execution_count": 30
        }
      ]
    },
    {
      "cell_type": "code",
      "source": [
        "nums = [-1,-1,-1,-1,-1,0]\n",
        "pivotIndex(nums)"
      ],
      "metadata": {
        "colab": {
          "base_uri": "https://localhost:8080/"
        },
        "id": "T3ZF3yxmXogd",
        "outputId": "635a9d98-1868-4fef-c350-c6676e3f4ee6"
      },
      "execution_count": 31,
      "outputs": [
        {
          "output_type": "execute_result",
          "data": {
            "text/plain": [
              "2"
            ]
          },
          "metadata": {},
          "execution_count": 31
        }
      ]
    }
  ]
}