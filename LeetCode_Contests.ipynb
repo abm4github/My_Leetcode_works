{
  "nbformat": 4,
  "nbformat_minor": 0,
  "metadata": {
    "colab": {
      "provenance": [],
      "collapsed_sections": [],
      "authorship_tag": "ABX9TyPiMTE7cAsbtpdwn6uJqogD",
      "include_colab_link": true
    },
    "kernelspec": {
      "name": "python3",
      "display_name": "Python 3"
    },
    "language_info": {
      "name": "python"
    }
  },
  "cells": [
    {
      "cell_type": "markdown",
      "metadata": {
        "id": "view-in-github",
        "colab_type": "text"
      },
      "source": [
        "<a href=\"https://colab.research.google.com/github/abm4github/My_Leetcode_works/blob/main/LeetCode_Contests.ipynb\" target=\"_parent\"><img src=\"https://colab.research.google.com/assets/colab-badge.svg\" alt=\"Open In Colab\"/></a>"
      ]
    },
    {
      "cell_type": "markdown",
      "source": [
        "##Weekly Contest 310"
      ],
      "metadata": {
        "id": "IKda_APjy9NS"
      }
    },
    {
      "cell_type": "markdown",
      "source": [
        "####2405. Optimal Partition of String"
      ],
      "metadata": {
        "id": "0RmXtnsTy6jO"
      }
    },
    {
      "cell_type": "code",
      "source": [
        "\"\"\"\n",
        "2405. Optimal Partition of String\n",
        "User Accepted:9524\n",
        "User Tried:10263\n",
        "Total Accepted:9730\n",
        "Total Submissions:14232\n",
        "Difficulty:Medium\n",
        "Given a string s, partition the string into one or more substrings such that the characters in each substring are unique. That is, no letter appears in a single substring more than once.\n",
        "\n",
        "Return the minimum number of substrings in such a partition.\n",
        "\n",
        "Note that each character should belong to exactly one substring in a partition.\n",
        "\n",
        " \n",
        "\n",
        "Example 1:\n",
        "\n",
        "Input: s = \"abacaba\"\n",
        "Output: 4\n",
        "Explanation:\n",
        "Two possible partitions are (\"a\",\"ba\",\"cab\",\"a\") and (\"ab\",\"a\",\"ca\",\"ba\").\n",
        "It can be shown that 4 is the minimum number of substrings needed.\n",
        "Example 2:\n",
        "\n",
        "Input: s = \"ssssss\"\n",
        "Output: 6\n",
        "Explanation:\n",
        "The only valid partition is (\"s\",\"s\",\"s\",\"s\",\"s\",\"s\").\n",
        " \n",
        "\n",
        "Constraints:\n",
        "\n",
        "1 <= s.length <= 105\n",
        "s consists of only English lowercase letters.\n",
        "\"\"\""
      ],
      "metadata": {
        "id": "nqYgyS3Fy13v"
      },
      "execution_count": null,
      "outputs": []
    },
    {
      "cell_type": "code",
      "source": [
        "def partitionString(s):\n",
        "  listo = []\n",
        "  for i in s:\n",
        "    listo.append(i)\n",
        "  out = []\n",
        "  temp = \"\"\n",
        "  for i in listo:\n",
        "    if i not in temp:\n",
        "      temp += i\n",
        "    else:\n",
        "      out.append(temp)\n",
        "      temp = i\n",
        "  if temp != \"\":\n",
        "    out.append(temp)\n",
        "  return len(out)\n",
        "  \n",
        "# s = \"abacaba\" \n",
        "s = \"hdklqkcssgxlvehva\" # answer is len of (\"hdkl\", \"kcs\", \"sgxlveh\", \"va\")\n",
        "partitionString(s)"
      ],
      "metadata": {
        "colab": {
          "base_uri": "https://localhost:8080/"
        },
        "id": "0xfmqLr9pgzd",
        "outputId": "fdb86640-efa9-459b-d36c-905fdb127799"
      },
      "execution_count": 1,
      "outputs": [
        {
          "output_type": "execute_result",
          "data": {
            "text/plain": [
              "4"
            ]
          },
          "metadata": {},
          "execution_count": 1
        }
      ]
    },
    {
      "cell_type": "markdown",
      "source": [
        "####2404. Most Frequent Even Element"
      ],
      "metadata": {
        "id": "nUfyOKzxzwb7"
      }
    },
    {
      "cell_type": "code",
      "source": [
        "\"\"\"\n",
        "2404. Most Frequent Even Element\n",
        "User Accepted:11282\n",
        "User Tried:12187\n",
        "Total Accepted:11595\n",
        "Total Submissions:23677\n",
        "Difficulty:Easy\n",
        "Given an integer array nums, return the most frequent even element.\n",
        "\n",
        "If there is a tie, return the smallest one. If there is no such element, return -1.\n",
        "\n",
        " \n",
        "\n",
        "Example 1:\n",
        "\n",
        "Input: nums = [0,1,2,2,4,4,1]\n",
        "Output: 2\n",
        "Explanation:\n",
        "The even elements are 0, 2, and 4. Of these, 2 and 4 appear the most.\n",
        "We return the smallest one, which is 2.\n",
        "Example 2:\n",
        "\n",
        "Input: nums = [4,4,4,9,2,4]\n",
        "Output: 4\n",
        "Explanation: 4 is the even element appears the most.\n",
        "Example 3:\n",
        "\n",
        "Input: nums = [29,47,21,41,13,37,25,7]\n",
        "Output: -1\n",
        "Explanation: There is no even element.\n",
        "\"\"\""
      ],
      "metadata": {
        "id": "dnJF3F2xzuP2"
      },
      "execution_count": null,
      "outputs": []
    },
    {
      "cell_type": "code",
      "source": [
        "def mostFrequentEven(nums):\n",
        "    d = {}\n",
        "    for num in nums:\n",
        "        if num % 2 == 0:\n",
        "            if num not in d.keys():\n",
        "                d[num] = 0\n",
        "            d[num] += 1\n",
        "    if d == {}:\n",
        "        return -1\n",
        "    max_rep = 0\n",
        "    req_num = 0\n",
        "    for i in sorted(d):\n",
        "        if d[i] > max_rep:\n",
        "            max_rep = d[i]\n",
        "            req_num = i\n",
        "            \n",
        "    return req_num\n",
        "\n",
        "\n",
        "mostFrequentEven([0,1,2,2,4,4,1])"
      ],
      "metadata": {
        "colab": {
          "base_uri": "https://localhost:8080/"
        },
        "id": "sgK_TqQPgFC4",
        "outputId": "36c97b81-6c3d-4930-a1ac-96b90c3cd113"
      },
      "execution_count": 2,
      "outputs": [
        {
          "output_type": "execute_result",
          "data": {
            "text/plain": [
              "2"
            ]
          },
          "metadata": {},
          "execution_count": 2
        }
      ]
    }
  ]
}