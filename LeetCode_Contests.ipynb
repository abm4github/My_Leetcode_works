{
  "nbformat": 4,
  "nbformat_minor": 0,
  "metadata": {
    "colab": {
      "provenance": [],
      "collapsed_sections": [],
      "authorship_tag": "ABX9TyNOeoovfvolGGt43aAbOL3C",
      "include_colab_link": true
    },
    "kernelspec": {
      "name": "python3",
      "display_name": "Python 3"
    },
    "language_info": {
      "name": "python"
    }
  },
  "cells": [
    {
      "cell_type": "markdown",
      "metadata": {
        "id": "view-in-github",
        "colab_type": "text"
      },
      "source": [
        "<a href=\"https://colab.research.google.com/github/abm4github/My_Leetcode_works/blob/main/LeetCode_Contests.ipynb\" target=\"_parent\"><img src=\"https://colab.research.google.com/assets/colab-badge.svg\" alt=\"Open In Colab\"/></a>"
      ]
    },
    {
      "cell_type": "code",
      "execution_count": 2,
      "metadata": {
        "colab": {
          "base_uri": "https://localhost:8080/"
        },
        "id": "7Fd-0eJDeowK",
        "outputId": "1e079367-3b64-401e-bf6c-bec2294fc9ba"
      },
      "outputs": [
        {
          "output_type": "stream",
          "name": "stdout",
          "text": [
            "[1, 2]\n"
          ]
        }
      ],
      "source": [
        "d = {2:\"a\", 1:\"b\"}\n",
        "print(sorted(d))"
      ]
    },
    {
      "cell_type": "code",
      "source": [
        "def partitionString(s):\n",
        "  listo = []\n",
        "  for i in s:\n",
        "    listo.append(i)\n",
        "\n",
        "  out = []\n",
        "\n",
        "  temp = \"\"\n",
        "  for i in listo:\n",
        "    if i not in temp:\n",
        "      temp += i\n",
        "    else:\n",
        "      out.append(temp)\n",
        "      temp = i\n",
        "  if temp != \"\":\n",
        "    out.append(temp)\n",
        "  return len(out)\n",
        "  \n",
        "# s = \"abacaba\" \n",
        "s = \"hdklqkcssgxlvehva\" # hdklq kcs sgxlveh va\n",
        "partitionString(s)"
      ],
      "metadata": {
        "colab": {
          "base_uri": "https://localhost:8080/"
        },
        "id": "0xfmqLr9pgzd",
        "outputId": "566dfbfd-bf53-4a0a-a70d-b6222c05c6bb"
      },
      "execution_count": 15,
      "outputs": [
        {
          "output_type": "execute_result",
          "data": {
            "text/plain": [
              "4"
            ]
          },
          "metadata": {},
          "execution_count": 15
        }
      ]
    },
    {
      "cell_type": "code",
      "source": [
        "def minGroups(intervals):\n",
        "  for i in range(len(sorted(intervals, key = lambda x: x[1]))):\n",
        "    if i\n",
        "\n",
        "\n",
        "\n",
        "intervals = [[5,10],[6,8],[1,5],[2,3],[1,10]]\n",
        "minGroups(intervals)"
      ],
      "metadata": {
        "colab": {
          "base_uri": "https://localhost:8080/"
        },
        "id": "sgK_TqQPgFC4",
        "outputId": "3de135f6-91bb-48d5-b351-3a42cc5c5dc8"
      },
      "execution_count": 8,
      "outputs": [
        {
          "output_type": "execute_result",
          "data": {
            "text/plain": [
              "[[2, 3], [1, 5], [6, 8], [5, 10], [1, 10]]"
            ]
          },
          "metadata": {},
          "execution_count": 8
        }
      ]
    },
    {
      "cell_type": "code",
      "source": [],
      "metadata": {
        "id": "AGftsmFBmNjA"
      },
      "execution_count": null,
      "outputs": []
    }
  ]
}